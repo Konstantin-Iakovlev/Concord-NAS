{
 "cells": [
  {
   "cell_type": "code",
   "execution_count": 1,
   "id": "2d807dc8-bfdd-45cd-817a-3bda3e0f8128",
   "metadata": {},
   "outputs": [],
   "source": [
    "import json\n",
    "import numpy as np\n",
    "# import torch\n",
    "\n",
    "import sys\n",
    "sys.path.append('..')\n",
    "\n",
    "from typing import List, Tuple\n",
    "\n",
    "from models import ops"
   ]
  },
  {
   "cell_type": "code",
   "execution_count": 2,
   "id": "632db2cc-9f35-43a6-bbf3-c9e3fb0caac5",
   "metadata": {},
   "outputs": [],
   "source": [
    "# channels = 16\n",
    "# o = ops.SepConv(channels, channels, 3, 1, 1, affine=False, num_domains=1)\n",
    "# o = ops.SepConv(channels, channels, 5, 1, 2, affine=False, num_domains=1)\n",
    "# o = ops.DilConv(channels, channels, 3, 1, 2, 2, affine=False, num_domains=1)\n",
    "# o = ops.DilConv(channels, channels, 5, 1, 4, 2, affine=False, num_domains=1)\n",
    "\n",
    "# sum([p.numel() for p in o.parameters()])"
   ]
  },
  {
   "cell_type": "code",
   "execution_count": 3,
   "id": "34191e62-1340-4d05-be29-a7705ea8c0e8",
   "metadata": {},
   "outputs": [],
   "source": [
    "ops_params = {\n",
    "    'maxpool': 0,\n",
    "    'avgpool': 0,\n",
    "    'sepconv3x3': 800,\n",
    "    'sepconv5x5': 1312,\n",
    "    'dilconv3x3': 400,\n",
    "    'dilconv5x5': 656,\n",
    "    'skipconnect': 0,\n",
    "}"
   ]
  },
  {
   "cell_type": "code",
   "execution_count": 4,
   "id": "4311c933-6281-499c-998c-5070e13aa6be",
   "metadata": {},
   "outputs": [
    {
     "data": {
      "text/plain": [
       "{'reduce_n2_p0': 'sepconv5x5',\n",
       " 'reduce_n2_p1': 'dilconv3x3',\n",
       " 'reduce_n2_switch': [1, 0],\n",
       " 'reduce_n3_p0': 'sepconv3x3',\n",
       " 'reduce_n3_p1': 'sepconv3x3',\n",
       " 'reduce_n3_p2': 'sepconv3x3',\n",
       " 'reduce_n3_switch': [0, 2],\n",
       " 'reduce_n4_p0': 'dilconv3x3',\n",
       " 'reduce_n4_p1': 'skipconnect',\n",
       " 'reduce_n4_p2': 'sepconv5x5',\n",
       " 'reduce_n4_p3': 'dilconv5x5',\n",
       " 'reduce_n4_switch': [1, 2],\n",
       " 'reduce_n5_p0': 'skipconnect',\n",
       " 'reduce_n5_p1': 'avgpool',\n",
       " 'reduce_n5_p2': 'dilconv5x5',\n",
       " 'reduce_n5_p3': 'dilconv5x5',\n",
       " 'reduce_n5_p4': 'maxpool',\n",
       " 'reduce_n5_switch': [0, 2]}"
      ]
     },
     "execution_count": 4,
     "metadata": {},
     "output_type": "execute_result"
    }
   ],
   "source": [
    "arch_path = 'architecture_0.json'\n",
    "arch = json.loads(open(arch_path).read())\n",
    "arch[0]"
   ]
  },
  {
   "cell_type": "code",
   "execution_count": 5,
   "id": "32b6efa2-0859-4449-81cf-d5f91a9f4436",
   "metadata": {},
   "outputs": [],
   "source": [
    "def parse_single(arch) -> List[Tuple[int, int, str]]:\n",
    "    n_nodes = max([int(key.split('_')[1][1:]) for key in arch])\n",
    "    edges = [] # (from, to, op)\n",
    "    for key, value in arch.items():\n",
    "        if 'switch' in key:\n",
    "            continue\n",
    "        n, p = list(map(lambda s: int(s[1:]), key.split('_')[1:]))\n",
    "        edges.append((p, n, value))\n",
    "    # filter edges\n",
    "    edges_to_select = []\n",
    "    for key, value in arch.items():\n",
    "        if not 'switch' in key:\n",
    "            continue\n",
    "        n = int(key.split('_')[1][1:])\n",
    "        edges_to_select.extend([(p, n) for p in value])\n",
    "    edges = [e for e in edges if e[:-1] in edges_to_select]\n",
    "    return edges"
   ]
  },
  {
   "cell_type": "code",
   "execution_count": 6,
   "id": "c4415de6-4d19-49ad-b6ad-5508167f8378",
   "metadata": {},
   "outputs": [
    {
     "data": {
      "text/plain": [
       "[(0, 2, 'sepconv5x5'),\n",
       " (1, 2, 'dilconv3x3'),\n",
       " (0, 3, 'sepconv3x3'),\n",
       " (2, 3, 'sepconv3x3'),\n",
       " (1, 4, 'skipconnect'),\n",
       " (2, 4, 'sepconv5x5'),\n",
       " (0, 5, 'skipconnect'),\n",
       " (2, 5, 'dilconv5x5')]"
      ]
     },
     "execution_count": 6,
     "metadata": {},
     "output_type": "execute_result"
    }
   ],
   "source": [
    "parse_single(arch[0])"
   ]
  },
  {
   "cell_type": "code",
   "execution_count": 7,
   "id": "3b047b12-bdb1-4d17-b22d-360a2ccd38ad",
   "metadata": {},
   "outputs": [],
   "source": [
    "def merge_archs(archs):\n",
    "    return list(sorted(list(set(e for a in archs for e in parse_single(a))),\n",
    "                       key=lambda x: x[1]))\n",
    "    "
   ]
  },
  {
   "cell_type": "code",
   "execution_count": 8,
   "id": "6c00ac23-ae2a-4bee-b0be-9ae145ed9184",
   "metadata": {},
   "outputs": [
    {
     "data": {
      "text/plain": [
       "[(0, 2, 'skipconnect'),\n",
       " (0, 2, 'sepconv5x5'),\n",
       " (1, 2, 'dilconv3x3'),\n",
       " (1, 2, 'avgpool'),\n",
       " (0, 2, 'maxpool'),\n",
       " (1, 2, 'sepconv5x5'),\n",
       " (0, 3, 'sepconv3x3'),\n",
       " (1, 3, 'dilconv5x5'),\n",
       " (2, 3, 'sepconv3x3'),\n",
       " (2, 4, 'sepconv5x5'),\n",
       " (0, 4, 'maxpool'),\n",
       " (1, 4, 'skipconnect'),\n",
       " (2, 4, 'sepconv3x3'),\n",
       " (3, 4, 'maxpool'),\n",
       " (2, 4, 'maxpool'),\n",
       " (2, 5, 'maxpool'),\n",
       " (0, 5, 'dilconv5x5'),\n",
       " (2, 5, 'dilconv5x5'),\n",
       " (0, 5, 'skipconnect'),\n",
       " (4, 5, 'avgpool'),\n",
       " (4, 5, 'sepconv5x5')]"
      ]
     },
     "execution_count": 8,
     "metadata": {},
     "output_type": "execute_result"
    }
   ],
   "source": [
    "merge_archs(arch)"
   ]
  },
  {
   "cell_type": "code",
   "execution_count": 9,
   "id": "61932867-ccc3-4677-a6c8-dd882378912d",
   "metadata": {},
   "outputs": [
    {
     "data": {
      "text/plain": [
       "[(1, 2, 'dilconv3x3'),\n",
       " (0, 2, 'sepconv5x5'),\n",
       " (0, 3, 'sepconv3x3'),\n",
       " (2, 3, 'sepconv3x3'),\n",
       " (2, 4, 'sepconv5x5'),\n",
       " (1, 4, 'skipconnect'),\n",
       " (2, 5, 'dilconv5x5'),\n",
       " (0, 5, 'skipconnect')]"
      ]
     },
     "execution_count": 9,
     "metadata": {},
     "output_type": "execute_result"
    }
   ],
   "source": [
    "merge_archs([arch[0], arch[0]])"
   ]
  },
  {
   "cell_type": "markdown",
   "id": "0b4b5463-96ff-45aa-b4a6-28ff7b1ec52a",
   "metadata": {},
   "source": [
    "### Main function"
   ]
  },
  {
   "cell_type": "code",
   "execution_count": 10,
   "id": "4f619df8-6504-4e04-aa80-dc0364ebedde",
   "metadata": {},
   "outputs": [],
   "source": [
    "def get_arch_params(arch) -> int:\n",
    "    merged = merge_archs(arch)\n",
    "    return sum([ops_params[e[-1]] for e in merged])"
   ]
  },
  {
   "cell_type": "code",
   "execution_count": 11,
   "id": "8d62b9b0-f97b-4da9-805a-45e42aec0867",
   "metadata": {},
   "outputs": [
    {
     "data": {
      "text/plain": [
       "(5280, 5280, 10016)"
      ]
     },
     "execution_count": 11,
     "metadata": {},
     "output_type": "execute_result"
    }
   ],
   "source": [
    "get_arch_params([arch[0], arch[0]]), get_arch_params([arch[0]]), get_arch_params(arch)"
   ]
  },
  {
   "cell_type": "code",
   "execution_count": null,
   "id": "47bea0b9-2129-4bc3-9466-766ab0ca9050",
   "metadata": {},
   "outputs": [],
   "source": []
  }
 ],
 "metadata": {
  "kernelspec": {
   "display_name": "Python 3 (ipykernel)",
   "language": "python",
   "name": "python3"
  },
  "language_info": {
   "codemirror_mode": {
    "name": "ipython",
    "version": 3
   },
   "file_extension": ".py",
   "mimetype": "text/x-python",
   "name": "python",
   "nbconvert_exporter": "python",
   "pygments_lexer": "ipython3",
   "version": "3.7.13"
  }
 },
 "nbformat": 4,
 "nbformat_minor": 5
}
