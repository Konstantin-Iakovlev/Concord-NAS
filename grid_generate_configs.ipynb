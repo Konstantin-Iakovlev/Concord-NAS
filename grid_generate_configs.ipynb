{
 "cells": [
  {
   "cell_type": "code",
   "execution_count": 1,
   "id": "4a3b2397",
   "metadata": {},
   "outputs": [],
   "source": [
    "import configobj"
   ]
  },
  {
   "cell_type": "code",
   "execution_count": 2,
   "id": "ee1de1f6",
   "metadata": {},
   "outputs": [],
   "source": [
    "cfg = configobj.ConfigObj('./configs/fmnist_basic/darts4.cfg')\n"
   ]
  },
  {
   "cell_type": "code",
   "execution_count": 3,
   "id": "b4c5f711",
   "metadata": {},
   "outputs": [],
   "source": [
    "for c in [1e-6, 1e-5, 1e-4, 1e-3, 1e-2, 1e-1, 1.0]:\n",
    "    cfg['folder_name'] = f'fmnist4c_{c}'\n",
    "    cfg['darts']['concord_coeff'] = c\n",
    "    with open(f'./configs/fmnist_basic/darts4c_{c}.cfg', 'wb') as out:\n",
    "        cfg.write(out)"
   ]
  },
  {
   "cell_type": "code",
   "execution_count": 4,
   "id": "f84a7738",
   "metadata": {},
   "outputs": [],
   "source": [
    "for c in [1e-6, 1e-5, 1e-4, 1e-3, 1e-2, 1e-1, 1.0]:\n",
    "    cfg['folder_name'] = f'fmnist4t_{c}'\n",
    "    cfg['darts']['concord_coeff'] = 0.0\n",
    "    cfg['darts']['contrastive_coeff'] = c\n",
    "    with open(f'./configs/fmnist_basic/darts4t_{c}.cfg', 'wb') as out:\n",
    "        cfg.write(out)"
   ]
  },
  {
   "cell_type": "code",
   "execution_count": 12,
   "id": "e39c1544",
   "metadata": {},
   "outputs": [
    {
     "name": "stdout",
     "output_type": "stream",
     "text": [
      "python3 -m scripts.train_md_darts --config configs/fmnist_basic/darts4c_1e-06.cfg\n",
      "python3 -m scripts.train_md_darts --config configs/fmnist_basic/darts4c_1e-05.cfg\n",
      "python3 -m scripts.train_md_darts --config configs/fmnist_basic/darts4c_0.0001.cfg\n",
      "python3 -m scripts.train_md_darts --config configs/fmnist_basic/darts4c_0.001.cfg\n",
      "python3 -m scripts.train_md_darts --config configs/fmnist_basic/darts4c_0.01.cfg\n",
      "python3 -m scripts.train_md_darts --config configs/fmnist_basic/darts4c_0.1.cfg\n",
      "python3 -m scripts.train_md_darts --config configs/fmnist_basic/darts4c_1.0.cfg\n",
      "python3 -m scripts.train_md_darts --config configs/fmnist_basic/darts4t_1e-06.cfg\n",
      "python3 -m scripts.train_md_darts --config configs/fmnist_basic/darts4t_1e-05.cfg\n",
      "python3 -m scripts.train_md_darts --config configs/fmnist_basic/darts4t_0.0001.cfg\n",
      "python3 -m scripts.train_md_darts --config configs/fmnist_basic/darts4t_0.001.cfg\n",
      "python3 -m scripts.train_md_darts --config configs/fmnist_basic/darts4t_0.01.cfg\n",
      "python3 -m scripts.train_md_darts --config configs/fmnist_basic/darts4t_0.1.cfg\n",
      "python3 -m scripts.train_md_darts --config configs/fmnist_basic/darts4t_1.0.cfg\n"
     ]
    }
   ],
   "source": [
    "for c in [1e-6, 1e-5, 1e-4, 1e-3, 1e-2, 1e-1, 1.0]:\n",
    "    print (f'python3 -m scripts.train_md_darts --config configs/fmnist_basic/darts4c_{c}.cfg')\n",
    "for c in [1e-6, 1e-5, 1e-4, 1e-3, 1e-2, 1e-1, 1.0]:\n",
    "    print (f'python3 -m scripts.train_md_darts --config configs/fmnist_basic/darts4t_{c}.cfg')    "
   ]
  }
 ],
 "metadata": {
  "kernelspec": {
   "display_name": "Python 3 (ipykernel)",
   "language": "python",
   "name": "python3"
  },
  "language_info": {
   "codemirror_mode": {
    "name": "ipython",
    "version": 3
   },
   "file_extension": ".py",
   "mimetype": "text/x-python",
   "name": "python",
   "nbconvert_exporter": "python",
   "pygments_lexer": "ipython3",
   "version": "3.8.10"
  }
 },
 "nbformat": 4,
 "nbformat_minor": 5
}
