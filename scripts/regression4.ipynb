{
 "cells": [
  {
   "cell_type": "code",
   "execution_count": 20,
   "id": "6786c374",
   "metadata": {},
   "outputs": [],
   "source": [
    "import matplotlib.pylab as plt\n",
    "%matplotlib inline\n",
    "import numpy as np\n",
    "import torch\n",
    "import tqdm\n",
    "from sklearn.model_selection import StratifiedShuffleSplit\n",
    "import json"
   ]
  },
  {
   "cell_type": "code",
   "execution_count": 4,
   "id": "513541e8",
   "metadata": {},
   "outputs": [],
   "source": [
    "#!rm *txt\n",
    "#!rm *jsonl\n"
   ]
  },
  {
   "cell_type": "code",
   "execution_count": 32,
   "id": "90f84fb9",
   "metadata": {},
   "outputs": [],
   "source": [
    "EPOCH_NUM = 1000\n",
    "TEST_NUM = 2000\n",
    "TRAIN_NUM = 16 # training dataset size\n",
    "POLY_NUM = 3\n",
    "D = 4 # number of domains\n",
    "HEAD_NUM = D\n",
    "RUN_NUM = 5\n",
    "GRAD_CLIP = 1500.0 # for unstable gradients pruning\n",
    "\n",
    "def rmse(y, y_hat):\n",
    "    return torch.sqrt(((y-y_hat)**2).mean())\n",
    "crit2 = rmse # eval criterion"
   ]
  },
  {
   "cell_type": "code",
   "execution_count": 33,
   "id": "7738f3c1",
   "metadata": {},
   "outputs": [
    {
     "data": {
      "text/plain": [
       "[0.0, 90.0, 180.0, 270.0]"
      ]
     },
     "execution_count": 33,
     "metadata": {},
     "output_type": "execute_result"
    }
   ],
   "source": [
    "def make_angles():\n",
    "    if D == 2:\n",
    "        return [0, 180] # hard-coding angles for 2D cases (to be opposite)\n",
    "    step = 360/D\n",
    "    return [i*step for i in range(D)]\n",
    "make_angles()"
   ]
  },
  {
   "cell_type": "code",
   "execution_count": 34,
   "id": "675c04d8",
   "metadata": {},
   "outputs": [],
   "source": [
    "# data generation\n",
    "from scipy.ndimage import rotate\n",
    "def gen(N1, N2, sigma=.1, seed=42, angle = 0.0):\n",
    "    \"\"\"\n",
    "    N1: train size\n",
    "    N2: test size\n",
    "    \"\"\"\n",
    "    angle = np.pi/2 * angle/90\n",
    "    N = N1+N2\n",
    "    rs = np.random.RandomState(seed)\n",
    "    x = rs.randn(N, 2) \n",
    "    y = x[:,0]*0.25 + x[:,1]*0.75 # y = X1 * 0.25 + x2 * 0.75, other  X components are irrelevant \n",
    "    \n",
    "    if angle: # making rotation if angle != 0\n",
    "        M = np.array([[np.cos(angle), -np.sin(angle)], [np.sin(angle), np.cos(angle)]])\n",
    "        x[:,:2] = (M@x[:,:2].T).T\n",
    "    # shuffling\n",
    "    elems = list(range(len(x)))\n",
    "    rs.shuffle(elems)\n",
    "    trainval, test = elems[:N1], elems[N1:]\n",
    "    xtrainval, ytrainval = x[trainval], y[trainval]\n",
    "    xtest,ytest = x[test], y[test]\n",
    "    elems = list(range(len(xtrainval)))\n",
    "    rs.shuffle(elems)\n",
    "    # actually this code is a bit messy, it was inherited from classification task\n",
    "    train, val = elems[:N1//2], elems[N1//2:]\n",
    "    \n",
    "    xtrain, ytrain = xtrainval[train], ytrainval[train]\n",
    "    xval, yval = xtrainval[val], ytrainval[val]\n",
    "    return (xtrain, ytrain), (xval, yval), (xtest, ytest)\n",
    "xy, _,_ = gen(4, 2, angle=0)\n"
   ]
  },
  {
   "cell_type": "code",
   "execution_count": null,
   "id": "698fbd24",
   "metadata": {},
   "outputs": [],
   "source": []
  },
  {
   "cell_type": "code",
   "execution_count": 24,
   "id": "ec7b1e7f",
   "metadata": {},
   "outputs": [
    {
     "data": {
      "text/plain": [
       "tensor([0.6789, 0.2316, 0.0226, 0.1399, 0.1570, 0.0696, 0.0104, 0.0330],\n",
       "       dtype=torch.float64)"
      ]
     },
     "execution_count": 24,
     "metadata": {},
     "output_type": "execute_result"
    }
   ],
   "source": [
    "def poly_generate(x):\n",
    "    result = [x]\n",
    "    for poly in range(POLY_NUM):\n",
    "        deg = poly+2 \n",
    "        new_x = x ** deg#/(deg)\n",
    "        result.append(new_x)\n",
    "    result =  torch.hstack(result)\n",
    "    return result\n",
    "poly_generate(torch.tensor(xy[0])).std(0)"
   ]
  },
  {
   "cell_type": "code",
   "execution_count": 25,
   "id": "d449fac5",
   "metadata": {},
   "outputs": [
    {
     "name": "stderr",
     "output_type": "stream",
     "text": [
      "<ipython-input-25-da2e9f739812>:13: TqdmDeprecationWarning: This function will be removed in tqdm==5.0.0\n",
      "Please use `tqdm.notebook.tqdm` instead of `tqdm.tqdm_notebook`\n",
      "  tq = tqdm.tqdm_notebook(range(EPOCH_NUM))\n"
     ]
    },
    {
     "data": {
      "application/vnd.jupyter.widget-view+json": {
       "model_id": "978d8cb25ab64710bd38bbde76991c03",
       "version_major": 2,
       "version_minor": 0
      },
      "text/plain": [
       "  0%|          | 0/1000 [00:00<?, ?it/s]"
      ]
     },
     "metadata": {},
     "output_type": "display_data"
    },
    {
     "data": {
      "application/vnd.jupyter.widget-view+json": {
       "model_id": "ede65454fd2446eda34df4da36620258",
       "version_major": 2,
       "version_minor": 0
      },
      "text/plain": [
       "  0%|          | 0/1000 [00:00<?, ?it/s]"
      ]
     },
     "metadata": {},
     "output_type": "display_data"
    },
    {
     "data": {
      "application/vnd.jupyter.widget-view+json": {
       "model_id": "f5494cbd8c4b486f8eddba4c37260b21",
       "version_major": 2,
       "version_minor": 0
      },
      "text/plain": [
       "  0%|          | 0/1000 [00:00<?, ?it/s]"
      ]
     },
     "metadata": {},
     "output_type": "display_data"
    },
    {
     "data": {
      "application/vnd.jupyter.widget-view+json": {
       "model_id": "b8f4444c98424291b0e5a5ace1dd6cde",
       "version_major": 2,
       "version_minor": 0
      },
      "text/plain": [
       "  0%|          | 0/1000 [00:00<?, ?it/s]"
      ]
     },
     "metadata": {},
     "output_type": "display_data"
    },
    {
     "data": {
      "application/vnd.jupyter.widget-view+json": {
       "model_id": "91534f3ce72244f5a9c6eea7765e8510",
       "version_major": 2,
       "version_minor": 0
      },
      "text/plain": [
       "  0%|          | 0/1000 [00:00<?, ?it/s]"
      ]
     },
     "metadata": {},
     "output_type": "display_data"
    },
    {
     "name": "stdout",
     "output_type": "stream",
     "text": [
      "[0.5906937122344971, 0.5878298878669739, 1.6036850214004517, 0.7943270206451416, 2.0315659046173096] 1.1216203093528747\n"
     ]
    }
   ],
   "source": [
    "# one-model for strictly one domain, no NAS\n",
    "accs = []\n",
    "for k in range(RUN_NUM):\n",
    "    torch.manual_seed(42+k)\n",
    "    (x_train, y_train), (x_val, y_val), (x_test, y_test) = gen(TRAIN_NUM, TEST_NUM, seed=42+k)\n",
    "    x_train = np.concatenate([x_train, x_val]) # we don't use train/validation step\n",
    "    y_train = np.concatenate([y_train, y_val])\n",
    "    \n",
    "    lin_model = torch.nn.Linear(2*(POLY_NUM+1),1)\n",
    "    model = lambda x: lin_model(poly_generate(x))\n",
    "    opt = torch.optim.SGD(lin_model.parameters(), lr=1e-3)\n",
    "    crit = torch.nn.MSELoss()\n",
    "    tq = tqdm.tqdm_notebook(range(EPOCH_NUM))\n",
    "    \n",
    "    for e in tq:\n",
    "        opt.zero_grad()\n",
    "        out = model(torch.tensor(x_train).float())[:,0]\n",
    "        loss = crit(out, torch.tensor(y_train).float())\n",
    "        loss.backward()\n",
    "        torch.nn.utils.clip_grad_value_(lin_model.parameters(), GRAD_CLIP)\n",
    "        opt.step()\n",
    "        tq.set_description(str(loss.item()))\n",
    "    acc = crit2(model(torch.tensor(x_test).float())[:,0], torch.tensor(y_test).float()).item()\n",
    "    accs.append(acc)\n",
    "    \n",
    "print (accs, np.mean(accs)) \n",
    "\n",
    "with open('one_model.txt', 'a') as out:\n",
    "    out.write(f'D={D}, HEAD_NUM={HEAD_NUM}, RUN_NUM={RUN_NUM}, CRIT={np.mean(accs)}+-{np.std(accs)}.   MIN={np.min(accs)}, MAX={np.max(accs)}\\n')\n",
    "with open('one_model.jsonl', 'a') as out:\n",
    "    out.write(json.dumps({'D': D, 'HEAD_NUM':HEAD_NUM, 'RUN_NUM': RUN_NUM, 'accs': accs})+'\\n')\n",
    "    "
   ]
  },
  {
   "cell_type": "code",
   "execution_count": null,
   "id": "b34eb362",
   "metadata": {},
   "outputs": [],
   "source": []
  },
  {
   "cell_type": "code",
   "execution_count": 35,
   "id": "e96a6165",
   "metadata": {},
   "outputs": [
    {
     "name": "stderr",
     "output_type": "stream",
     "text": [
      "<ipython-input-35-944c4b619fd1>:25: TqdmDeprecationWarning: This function will be removed in tqdm==5.0.0\n",
      "Please use `tqdm.notebook.tqdm` instead of `tqdm.tqdm_notebook`\n",
      "  tq = tqdm.tqdm_notebook(range(EPOCH_NUM  * D)) # in darts we make D iterations per epoch. So here we multiply EPOCH_NUM  * D for compensation\n"
     ]
    },
    {
     "data": {
      "application/vnd.jupyter.widget-view+json": {
       "model_id": "1011c61cf91d4cafa4faacbd91cf5e7f",
       "version_major": 2,
       "version_minor": 0
      },
      "text/plain": [
       "  0%|          | 0/4000 [00:00<?, ?it/s]"
      ]
     },
     "metadata": {},
     "output_type": "display_data"
    },
    {
     "name": "stdout",
     "output_type": "stream",
     "text": [
      "1.3885122537612915\n"
     ]
    },
    {
     "data": {
      "application/vnd.jupyter.widget-view+json": {
       "model_id": "aaea204d33d04dd7b08398c067832cfb",
       "version_major": 2,
       "version_minor": 0
      },
      "text/plain": [
       "  0%|          | 0/4000 [00:00<?, ?it/s]"
      ]
     },
     "metadata": {},
     "output_type": "display_data"
    },
    {
     "name": "stdout",
     "output_type": "stream",
     "text": [
      "1.4878994226455688\n"
     ]
    },
    {
     "data": {
      "application/vnd.jupyter.widget-view+json": {
       "model_id": "5aff409a9d434c47aea08810d3ff3bba",
       "version_major": 2,
       "version_minor": 0
      },
      "text/plain": [
       "  0%|          | 0/4000 [00:00<?, ?it/s]"
      ]
     },
     "metadata": {},
     "output_type": "display_data"
    },
    {
     "name": "stdout",
     "output_type": "stream",
     "text": [
      "0.8789204359054565\n"
     ]
    },
    {
     "data": {
      "application/vnd.jupyter.widget-view+json": {
       "model_id": "c923c2daa46c4d8f83d17e062f0891eb",
       "version_major": 2,
       "version_minor": 0
      },
      "text/plain": [
       "  0%|          | 0/4000 [00:00<?, ?it/s]"
      ]
     },
     "metadata": {},
     "output_type": "display_data"
    },
    {
     "name": "stdout",
     "output_type": "stream",
     "text": [
      "1.004591941833496\n"
     ]
    },
    {
     "data": {
      "application/vnd.jupyter.widget-view+json": {
       "model_id": "167c614c71c2416b97dbd361e6ae374c",
       "version_major": 2,
       "version_minor": 0
      },
      "text/plain": [
       "  0%|          | 0/4000 [00:00<?, ?it/s]"
      ]
     },
     "metadata": {},
     "output_type": "display_data"
    },
    {
     "name": "stdout",
     "output_type": "stream",
     "text": [
      "0.8532770276069641\n",
      "[1.3885122537612915, 1.4878994226455688, 0.8789204359054565, 1.004591941833496, 0.8532770276069641] 1.1226402163505553\n"
     ]
    }
   ],
   "source": [
    "# shared-model:\n",
    "# one-model for all the domains, without any rotation, without NAS\n",
    "accs = []\n",
    "for k in range(RUN_NUM):\n",
    "    torch.manual_seed(42+k)\n",
    "    x_train, y_train, x_test, y_test = [],[],[],[]\n",
    "    for angle in make_angles():\n",
    "        (_x_train, _y_train), (x_val, y_val), (_x_test, _y_test) = gen(TRAIN_NUM,\n",
    "                                                                       TEST_NUM, seed=42+k+int(angle),\n",
    "                                                                       angle=angle)\n",
    "        \n",
    "            \n",
    "        \n",
    "        _x_train = np.concatenate([_x_train, x_val]) # we don't use train/validation step\n",
    "        _y_train = np.concatenate([_y_train, y_val])\n",
    "        x_train.extend(_x_train)\n",
    "        y_train.extend(_y_train)\n",
    "        x_test.extend(_x_test)\n",
    "        y_test.extend(_y_test)\n",
    "    \n",
    "    lin_model = torch.nn.Linear(2*(1+POLY_NUM),1) \n",
    "    opt = torch.optim.SGD(lin_model.parameters(), lr=1e-3)\n",
    "    model = lambda x: lin_model(poly_generate(x))\n",
    "    crit = torch.nn.MSELoss()\n",
    "    tq = tqdm.tqdm_notebook(range(EPOCH_NUM  * D)) # in darts we make D iterations per epoch. So here we multiply EPOCH_NUM  * D for compensation\n",
    "    \n",
    "    for e in tq:\n",
    "        opt.zero_grad()\n",
    "        out = model(torch.tensor(x_train).float())[:,0]\n",
    "        loss = crit(out, torch.tensor(y_train).float())\n",
    "        loss.backward()\n",
    "        torch.nn.utils.clip_grad_value_(lin_model.parameters(), GRAD_CLIP)\n",
    "        opt.step()\n",
    "        tq.set_description(str(loss.item()))\n",
    "    acc = crit2(model(torch.tensor(x_test).float())[:,0], torch.tensor(y_test).float()).item()\n",
    "    accs.append(acc)\n",
    "    print (acc)\n",
    "print (accs, np.mean(accs)) \n",
    "\n",
    "with open('shared_model.txt', 'a') as out:\n",
    "    out.write(f'D={D}, HEAD_NUM={HEAD_NUM}, RUN_NUM={RUN_NUM},  CRIT={np.mean(accs)}+-{np.std(accs)}. MIN={np.min(accs)}, MAX={np.max(accs)}\\n')\n",
    "with open('shared_model.jsonl', 'a') as out:\n",
    "    out.write(json.dumps({'D': D, 'HEAD_NUM':HEAD_NUM, 'RUN_NUM': RUN_NUM, 'accs': accs})+'\\n')"
   ]
  },
  {
   "cell_type": "code",
   "execution_count": null,
   "id": "a95ed87c",
   "metadata": {},
   "outputs": [],
   "source": [
    "lin_model.weight"
   ]
  },
  {
   "cell_type": "code",
   "execution_count": 36,
   "id": "060981ab",
   "metadata": {},
   "outputs": [
    {
     "name": "stderr",
     "output_type": "stream",
     "text": [
      "<ipython-input-36-3fdedc7601c8>:23: TqdmDeprecationWarning: This function will be removed in tqdm==5.0.0\n",
      "Please use `tqdm.notebook.tqdm` instead of `tqdm.tqdm_notebook`\n",
      "  tq = tqdm.tqdm_notebook(range(EPOCH_NUM * D))\n"
     ]
    },
    {
     "data": {
      "application/vnd.jupyter.widget-view+json": {
       "model_id": "09037e8b6c574a64a03314b4153ae1ff",
       "version_major": 2,
       "version_minor": 0
      },
      "text/plain": [
       "  0%|          | 0/4000 [00:00<?, ?it/s]"
      ]
     },
     "metadata": {},
     "output_type": "display_data"
    },
    {
     "name": "stdout",
     "output_type": "stream",
     "text": [
      "0.0724780336022377\n"
     ]
    },
    {
     "data": {
      "application/vnd.jupyter.widget-view+json": {
       "model_id": "8e782983b77d4e008c6cae0a895cf88c",
       "version_major": 2,
       "version_minor": 0
      },
      "text/plain": [
       "  0%|          | 0/4000 [00:00<?, ?it/s]"
      ]
     },
     "metadata": {},
     "output_type": "display_data"
    },
    {
     "name": "stdout",
     "output_type": "stream",
     "text": [
      "0.35640406608581543\n"
     ]
    },
    {
     "data": {
      "application/vnd.jupyter.widget-view+json": {
       "model_id": "23fe5df72842479989298b3d176fe125",
       "version_major": 2,
       "version_minor": 0
      },
      "text/plain": [
       "  0%|          | 0/4000 [00:00<?, ?it/s]"
      ]
     },
     "metadata": {},
     "output_type": "display_data"
    },
    {
     "name": "stdout",
     "output_type": "stream",
     "text": [
      "0.11975093930959702\n"
     ]
    },
    {
     "data": {
      "application/vnd.jupyter.widget-view+json": {
       "model_id": "66ec78860ef0472f83bc86911dfb2672",
       "version_major": 2,
       "version_minor": 0
      },
      "text/plain": [
       "  0%|          | 0/4000 [00:00<?, ?it/s]"
      ]
     },
     "metadata": {},
     "output_type": "display_data"
    },
    {
     "name": "stdout",
     "output_type": "stream",
     "text": [
      "0.16009056568145752\n"
     ]
    },
    {
     "data": {
      "application/vnd.jupyter.widget-view+json": {
       "model_id": "003fa37a8d3e469ba8f3dc05b4e91b1b",
       "version_major": 2,
       "version_minor": 0
      },
      "text/plain": [
       "  0%|          | 0/4000 [00:00<?, ?it/s]"
      ]
     },
     "metadata": {},
     "output_type": "display_data"
    },
    {
     "name": "stdout",
     "output_type": "stream",
     "text": [
      "0.0829872339963913\n",
      "0.1583421677350998\n"
     ]
    }
   ],
   "source": [
    "# perfect-case:\n",
    "# one model for all the data, but the data is perfectly rotated\n",
    "accs = []\n",
    "for k in range(RUN_NUM):\n",
    "    torch.manual_seed(42+k)\n",
    "    x_train, y_train, x_test, y_test = [],[],[],[]\n",
    "    for angle in make_angles():\n",
    "        (_x_train, _y_train), (x_val, y_val), (_x_test, _y_test) = gen(TRAIN_NUM, 2000, seed=42+k+int(angle),\n",
    "                                                                       angle=0.0)\n",
    "        \n",
    "        _x_train = np.concatenate([_x_train, x_val]) # we don't use train/validation step\n",
    "        _y_train = np.concatenate([_y_train, y_val])\n",
    "        x_train.extend(_x_train)\n",
    "        y_train.extend(_y_train)\n",
    "        x_test.extend(_x_test)\n",
    "        y_test.extend(_y_test)\n",
    "    \n",
    "    \n",
    "    lin_model = torch.nn.Linear(2*(POLY_NUM+1),1) \n",
    "    opt = torch.optim.SGD(lin_model.parameters(), lr=1e-3)\n",
    "    model = lambda x: lin_model(poly_generate(x))\n",
    "    crit = torch.nn.MSELoss()\n",
    "    tq = tqdm.tqdm_notebook(range(EPOCH_NUM * D))\n",
    "    \n",
    "    for e in tq:\n",
    "        opt.zero_grad()\n",
    "        out = model(torch.tensor(x_train).float())[:,0]\n",
    "        loss = crit(out, torch.tensor(y_train).float())\n",
    "        loss.backward()\n",
    "        torch.nn.utils.clip_grad_value_(lin_model.parameters(), GRAD_CLIP)\n",
    "        opt.step()\n",
    "        tq.set_description(str(loss.item()))\n",
    "    acc = crit2(model(torch.tensor(x_test).float())[:,0], torch.tensor(y_test).float()).item()\n",
    "    accs.append(acc)\n",
    "    print (acc)\n",
    "print(np.mean(accs)) \n",
    "with open('perfect_model.txt', 'a') as out:\n",
    "    out.write(f'D={D}, HEAD_NUM={HEAD_NUM}, RUN_NUM={RUN_NUM}, CRIT={np.mean(accs)}+-{np.std(accs)}.   MIN={np.min(accs)}, MAX={np.max(accs)}\\n')\n",
    "with open('perfect_model.jsonl', 'a') as out:\n",
    "    out.write(json.dumps({'D': D, 'HEAD_NUM':HEAD_NUM, 'RUN_NUM': RUN_NUM, 'accs': accs})+'\\n')"
   ]
  },
  {
   "cell_type": "code",
   "execution_count": 37,
   "id": "2607f0d2",
   "metadata": {},
   "outputs": [],
   "source": [
    "# rotation module for torch. Angles are in degrees\n",
    "class Rot(torch.nn.Module):\n",
    "    def __init__(self, angle = None):\n",
    "        super().__init__()\n",
    "        if angle is None:\n",
    "            angle = torch.randn(1)*90\n",
    "        else:\n",
    "            angle = torch.tensor(angle).float()\n",
    "        self.angle = torch.nn.Parameter(angle)\n",
    "    \n",
    "    def forward(self, x):\n",
    "        angle = self.angle * np.pi/2 / 90\n",
    "        c = torch.cos(angle)\n",
    "        s = torch.sin(angle)\n",
    "        M = torch.vstack([torch.hstack([c, -s]), torch.hstack([s, c])])\n",
    "        result = x * 1.0\n",
    "        result[:,:2] = (M@x[:,:2].T).T\n",
    "        return result\n"
   ]
  },
  {
   "cell_type": "code",
   "execution_count": 38,
   "id": "be35be28",
   "metadata": {},
   "outputs": [],
   "source": [
    "# helper for make inference for a model\n",
    "\n",
    "def make_inference(x, rots, models, gammas, use_softmax=True, only_angle=False, c_head = False):\n",
    "    if use_softmax:\n",
    "        g0 = torch.nn.functional.softmax(gammas[0])\n",
    "    else:\n",
    "        g0 = (gammas[0] == gammas[0].max()) * 1\n",
    "        \n",
    "    x = torch.sum(torch.cat([(r(x)*g0[i]).unsqueeze(2) for i, r in enumerate(rots)], 2), 2)\n",
    "    if only_angle:\n",
    "        return x \n",
    "    x = poly_generate(x)\n",
    "    if c_head:\n",
    "        g1 = torch.zeros(gammas[1].shape)\n",
    "        g1[0] += 0\n",
    "    if use_softmax:\n",
    "        g1 = torch.nn.functional.softmax(gammas[1])\n",
    "    else:\n",
    "        g1 = (gammas[1] == gammas[1].max()) * 1\n",
    "\n",
    "    x = torch.sum(torch.cat([(m(x)*g1[i]).unsqueeze(2) for i, m in enumerate(models)], 2), 2)\n",
    "    \n",
    "    return x\n"
   ]
  },
  {
   "cell_type": "code",
   "execution_count": 39,
   "id": "ac9471ae",
   "metadata": {},
   "outputs": [],
   "source": [
    "nn = torch.nn\n",
    "# simple triplet loss: for each objects takes a random triplet (with triplet conditions)\n",
    "class MdTripletLoss(nn.Module):\n",
    "    def __init__(self, m =0.0, p=2, subset_size = 9999, sample_num = 1):\n",
    "        super(MdTripletLoss, self).__init__()\n",
    "        self.triplet_loss = nn.TripletMarginLoss(margin=m, p=p)\n",
    "        self.rs = np.random.RandomState(21)\n",
    "        self.subset_size = subset_size\n",
    "        self.sample_num = sample_num\n",
    "    \n",
    "    def forward(self, h1: torch.Tensor, h2: torch.Tensor, labels1: torch.LongTensor, labels2: torch.LongTensor):\n",
    "        \"\"\"\n",
    "        :param: h1: hidden representations of size (bs, *), anchors\n",
    "        :param: h1: hidden representations of size (bs, *), positives and negatives candidates\n",
    "        \"\"\"\n",
    "        FEATURE_TRIPLET_DIM = 2\n",
    "        h1 = h1[:, :FEATURE_TRIPLET_DIM]\n",
    "        h2 = h2[:, :FEATURE_TRIPLET_DIM]\n",
    "        \n",
    "        bs = h1.size(0)\n",
    "        if bs > self.subset_size:\n",
    "            elems = list(range(bs))\n",
    "            self.rs.shuffle(elems)\n",
    "            h1 = h1[elems[:self.subset_size]]\n",
    "            labels1 = labels1[elems[:self.subset_size]]\n",
    "            self.rs.shuffle(elems)\n",
    "            h2 = h2[elems[:self.subset_size]]\n",
    "            labels2 = labels2[elems[:self.subset_size]]\n",
    "            bs = self.subset_size\n",
    "            \n",
    "        \n",
    "        h1 = h1.view(bs, -1)\n",
    "        h2 = h2.view(bs, -1)\n",
    "        \n",
    "        loss = 0.0\n",
    "        anch =  []\n",
    "        pos = []\n",
    "        neg = []\n",
    "        ids1 = list(range(len(h1)))\n",
    "        \n",
    "        ids2 = list(range(len(h2)))\n",
    "        rs = self.rs\n",
    "        for _ in range(self.sample_num):\n",
    "           \n",
    "            #ids2 = ids2[::-1]\n",
    "            rs.shuffle(ids1)\n",
    "            rs.shuffle(ids2)\n",
    "            h1 = h1[ids1]\n",
    "            h2 = h2[ids2]\n",
    "            labels1 = labels1[ids1]\n",
    "            labels2 = labels2[ids2]\n",
    "\n",
    "            for i in range(len(h1)):\n",
    "                found = False \n",
    "                for j in range(len(h2)):\n",
    "\n",
    "                    if found:\n",
    "                        break\n",
    "                    for k in range(j+1, len(h2)):\n",
    "                        if   abs(labels1[i] - labels2[j]) > abs(labels1[i] - labels2[k]): #\\\n",
    "                        #and torch.linalg.norm(h1[i] - h2[j]) < torch.linalg.norm(h1[i] - h2[k]):\n",
    "                            anch.append(h1[i])\n",
    "                            pos.append(h2[k])\n",
    "                            neg.append(h2[j])\n",
    "\n",
    "                            found = True\n",
    "                            break\n",
    "        \n",
    "        if len(anch) >0:\n",
    "            a = torch.vstack(anch)\n",
    "            p = torch.vstack(pos)\n",
    "            n = torch.vstack(neg)\n",
    "            loss = self.triplet_loss(a, p, n)\n",
    "            return loss\n",
    "        else:\n",
    "            return 0.0"
   ]
  },
  {
   "cell_type": "code",
   "execution_count": 40,
   "id": "792212a6",
   "metadata": {},
   "outputs": [],
   "source": [
    "# our architecture\n",
    "# consists of HEAD_NUM rotations and HEAD_NUN linear models\n",
    "\n",
    "class ArchModel(torch.nn.Module):\n",
    "    def __init__(self):\n",
    "        super().__init__()\n",
    "        \n",
    "        self.gammas = [torch.nn.Parameter(torch.rand(2, HEAD_NUM)) for _ in range(D)]\n",
    "        self.rots = torch.nn.ModuleList([Rot() for _ in range(HEAD_NUM)])\n",
    "        self.models = torch.nn.ModuleList([torch.nn.Linear(2*(POLY_NUM+1), 1) for _ in range(HEAD_NUM)])\n",
    "    def forward(self, x, d, gammas = None, only_angle = False, use_softmax = True):\n",
    "        if gammas is None:\n",
    "            gammas = self.gammas[d]\n",
    "        return make_inference(x, self.rots, self.models, self.gammas[d],\n",
    "                              use_softmax=use_softmax, only_angle=only_angle)\n",
    "   \n",
    "\n",
    "def multi_js_divergence(alphas) -> torch.tensor:\n",
    "    js = 0.0\n",
    "    for j in range(2): # rotation and head\n",
    "        alpha_full = torch.stack([a[j] for a in alphas], dim=0)\n",
    "        alpha_full = torch.softmax(alpha_full, dim=1)\n",
    "        \n",
    "        centroid = torch.mean(alpha_full, 0)\n",
    "        \n",
    "        d_centroid = torch.distributions.Categorical(probs=centroid)\n",
    "        \n",
    "        for alpha in alphas:\n",
    "            d = torch.distributions.Categorical(probs=torch.softmax(alpha[j], 0))\n",
    "            js += 1.0/len(alphas) * \\\n",
    "                torch.distributions.kl.kl_divergence(d, d_centroid)\n",
    "    return js\n",
    "\n",
    "# param number calculation   \n",
    "def calc_params(gammas):\n",
    "    cnt = 0\n",
    "    rots = set()\n",
    "    for i in range(D):\n",
    "        rots.add(gammas[i][0].argmax().item())\n",
    "    \n",
    "    linears = set()\n",
    "    for i in range(D):\n",
    "        linears.add(gammas[i][1].argmax().item())\n",
    "    return len(rots) + len(linears)*2\n",
    "\n",
    "#gammas = [torch.randn(2, 5) for _ in range(3)]\n",
    "#multi_js_divergence(gammas)"
   ]
  },
  {
   "cell_type": "code",
   "execution_count": null,
   "id": "c267b6c4",
   "metadata": {},
   "outputs": [],
   "source": []
  },
  {
   "cell_type": "code",
   "execution_count": 41,
   "id": "ec225711",
   "metadata": {},
   "outputs": [],
   "source": [
    "def dartslike(fname, triplet_coef_search = 0.0, triplet_coef_train = 0.0, js_coef = 0.0, unroll: bool = True,\n",
    "              lr=1e-3, lr0=0.1, lr2=.01):\n",
    "    h = []\n",
    "    accs = []\n",
    "    param_num = []\n",
    "\n",
    "    \n",
    "    tl = MdTripletLoss(p=2.0, subset_size=9999, sample_num=1) # oleg\n",
    "    \n",
    "    for k in range(RUN_NUM):\n",
    "        torch.manual_seed(42+k)\n",
    "        x_train, y_train, x_val, y_val, x_test, y_test = [],[],[],[],[],[]\n",
    "        for angle in make_angles():\n",
    "            (_x_train, _y_train), (_x_val, _y_val), (_x_test, _y_test) = gen(TRAIN_NUM, TEST_NUM, seed=42+k+int(angle),\n",
    "                                                                             angle=angle)\n",
    "            x_train.append(_x_train)\n",
    "            y_train.append(_y_train)\n",
    "            x_val.append(_x_val)\n",
    "            y_val.append(_y_val)\n",
    "            x_test.append(_x_test)\n",
    "            y_test.append(_y_test)\n",
    "        model = ArchModel()\n",
    "        \n",
    "    \n",
    "        rs = np.random.RandomState(42+k)\n",
    "        \n",
    "        opt = torch.optim.SGD([{'params': model.rots.parameters(), 'lr': lr0},\n",
    "                              {'params': model.models.parameters(), 'lr': lr}],\n",
    "                              lr=lr)\n",
    "                              \n",
    "                              \n",
    "        opt2 = torch.optim.SGD(model.gammas, lr=lr2)\n",
    "\n",
    "        crit = torch.nn.MSELoss()\n",
    "        tq = tqdm.tqdm_notebook(range(EPOCH_NUM )) # taking half of epoch num for NAS\n",
    "        losses = []\n",
    "        losses2 = []\n",
    "        for e in tq:\n",
    "            \n",
    "            \n",
    "            for d in range(D):\n",
    "            \n",
    "                opt2.zero_grad()\n",
    "                d2 = rs.choice([i for i in range(D) if i != d])\n",
    "            \n",
    "                # unrolling step: done manually without approximation\n",
    "                if unroll:\n",
    "                    opt.zero_grad()\n",
    "                    x = torch.tensor(x_train[d]).float()\n",
    "                    y = torch.tensor(y_train[d]).float()\n",
    "\n",
    "                    x2 = torch.tensor(x_train[d2]).float()\n",
    "                    y2 = torch.tensor(y_train[d2]).float()\n",
    "\n",
    "                    out_angle1 = model(x, d, only_angle=True)\n",
    "                    out_angle2 = model(x2, d2, only_angle=True)\n",
    "\n",
    "                    out = model(x, d)[:,0]\n",
    "                    loss = crit(out, y)\n",
    "                    if triplet_coef_search:\n",
    "                        tloss = tl(out_angle1, out_angle2, y, y2) * triplet_coef_search\n",
    "                        loss += tloss\n",
    "                    grads = torch.autograd.grad(loss, model.parameters())\n",
    "                    grads = [torch.clamp(g, -GRAD_CLIP, GRAD_CLIP) for g in grads]\n",
    "                        \n",
    "                    with torch.no_grad():\n",
    "                        for p,g in zip(model.parameters(), grads):\n",
    "                            p = p + lr * g\n",
    "                            \n",
    "                x = torch.tensor(x_val[d]).float()\n",
    "                y = torch.tensor(y_val[d]).float()\n",
    "\n",
    "                x2 = torch.tensor(x_val[d2]).float()\n",
    "                y2 = torch.tensor(y_val[d2]).float()\n",
    "\n",
    "                out_angle1 = model(x, d, only_angle=True)\n",
    "                out_angle2 = model(x2, d2, only_angle=True)\n",
    "                \n",
    "\n",
    "                out = model(x, d)[:,0]\n",
    "                loss2 = crit(out, y) \n",
    "                if triplet_coef_search:\n",
    "                        tloss = tl(out_angle1, out_angle2, y, y2) * triplet_coef_search\n",
    "                        loss2 += tloss\n",
    "                if js_coef:\n",
    "                    loss2 += multi_js_divergence(model.gammas).mean() * js_coef\n",
    "                loss2.backward()\n",
    "                torch.nn.utils.clip_grad_value_(model.gammas, GRAD_CLIP)\n",
    "                opt2.step()\n",
    "                \n",
    "                if unroll:\n",
    "                    with torch.no_grad():\n",
    "                        for i,g in zip(model.parameters(), grads):\n",
    "                            p = p - lr * g\n",
    "                            \n",
    "                            \n",
    "                opt.zero_grad()\n",
    "                x = torch.tensor(x_train[d]).float()\n",
    "                y = torch.tensor(y_train[d]).float()\n",
    "\n",
    "                x2 = torch.tensor(x_train[d2]).float()\n",
    "                y2 = torch.tensor(y_train[d2]).float()\n",
    "\n",
    "                out_angle1 = model(x, d, only_angle=True)\n",
    "                out_angle2 = model(x2, d2, only_angle=True)\n",
    "                \n",
    "                out = model(x, d)[:,0]\n",
    "                loss = crit(out, y)\n",
    "                if triplet_coef_search:\n",
    "                    tloss = tl(out_angle1, out_angle2, y, y2) * triplet_coef_search\n",
    "                    loss += tloss\n",
    "                loss.backward()\n",
    "                torch.nn.utils.clip_grad_value_(model.parameters(), GRAD_CLIP)\n",
    "                opt.step()\n",
    "                losses.append(loss.item())\n",
    "                losses2.append(loss2.item())\n",
    "            \n",
    "            tq.set_description(str(np.mean(losses))+';'+str(np.mean(losses2)))\n",
    "\n",
    "        tq = tqdm.tqdm_notebook(range(EPOCH_NUM))\n",
    "        \n",
    "        # search step. Now we concatenate train and validation\n",
    "        x_train = np.concatenate([x_train, x_val], axis=1)\n",
    "        y_train =  np.concatenate([y_train, y_val], axis=1)\n",
    "        \n",
    "        \n",
    "        for g in model.gammas:\n",
    "            print (g.argmax(1))\n",
    "        \n",
    "        for g in model.gammas:\n",
    "            print (g)\n",
    "        \n",
    "        opt = torch.optim.SGD([{'params': model.rots.parameters(), 'lr': lr0},\n",
    "                              {'params': model.models.parameters(), 'lr': lr}],\n",
    "                              lr=lr)\n",
    "        \n",
    "        for e in tq:\n",
    "\n",
    "            for d in range(D):\n",
    "                loss = 0.0\n",
    "                opt.zero_grad()\n",
    "\n",
    "                d2 = rs.choice([i for i in range(D) if i != d])\n",
    "\n",
    "                x = torch.tensor(x_train[d]).float()\n",
    "                y = torch.tensor(y_train[d]).float()\n",
    "                out = model(x, d, use_softmax=False)[:,0]\n",
    "\n",
    "               \n",
    "                loss = crit(out, y) \n",
    "                if triplet_coef_train:\n",
    "                    x2 = torch.tensor(x_train[d2]).float()\n",
    "                    y2 = torch.tensor(y_train[d2]).float()\n",
    "\n",
    "                    out_angle1 = model(x, d, only_angle=True, use_softmax=False) # note, using one-hot here\n",
    "                    out_angle2 = model(x2, d2, only_angle=True, use_softmax=False)\n",
    "\n",
    "                    tloss = tl(out_angle1, out_angle2, y, y2)* triplet_coef_train\n",
    "                    loss += tloss\n",
    "                \n",
    "                \n",
    "                loss.backward()\n",
    "                torch.nn.utils.clip_grad_value_(model.parameters(), GRAD_CLIP)\n",
    "                opt.step()\n",
    "            angles= [str(r.angle.item()) for r in model.rots]\n",
    "            #print (angles)\n",
    "            tq.set_description(' '.join(angles))\n",
    "        total = 0\n",
    "        for d in range(D):\n",
    "\n",
    "            out = model(torch.tensor(x_test[d]).float(), d, use_softmax=False)\n",
    "            total += crit2(out[:,0], torch.tensor(y_test[d]).float()).item()\n",
    "        \n",
    "        acc = total/D\n",
    "        accs.append(acc)\n",
    "        param_num.append(calc_params(model.gammas))\n",
    "        print (acc, param_num[-1])\n",
    "        \n",
    "    with open(fname+'.txt', 'a') as out:\n",
    "        out.write(f'D={D}, HEAD_NUM={HEAD_NUM}, RUN_NUM={RUN_NUM}, CRIT={np.mean(accs)}+-{np.std(accs)}.  MIN={np.min(accs)}, MAX={np.max(accs)}')\n",
    "        out.write(f' PARAMS={np.mean(param_num)}+-{np.std(param_num)}. MIN={np.min(param_num)}, MAX={np.max(param_num)}\\n')\n",
    "    \n",
    "    with open(fname+'.jsonl', 'a') as out:\n",
    "        out.write(json.dumps({'D': D, 'HEAD_NUM': HEAD_NUM, 'RUN_NUM': RUN_NUM, 'accs': accs, 'params': param_num})+'\\n')\n",
    "    print (model.gammas)\n",
    "    for r in model.rots:\n",
    "        print (r.angle)\n",
    "    return (np.mean(accs), np.mean(param_num))\n"
   ]
  },
  {
   "cell_type": "code",
   "execution_count": 42,
   "id": "b08403db",
   "metadata": {
    "scrolled": false
   },
   "outputs": [
    {
     "name": "stderr",
     "output_type": "stream",
     "text": [
      "<ipython-input-41-a54c2137ebe0>:35: TqdmDeprecationWarning: This function will be removed in tqdm==5.0.0\n",
      "Please use `tqdm.notebook.tqdm` instead of `tqdm.tqdm_notebook`\n",
      "  tq = tqdm.tqdm_notebook(range(EPOCH_NUM )) # taking half of epoch num for NAS\n"
     ]
    },
    {
     "data": {
      "application/vnd.jupyter.widget-view+json": {
       "model_id": "80795ae430f543f1a12fb8db1735d5b5",
       "version_major": 2,
       "version_minor": 0
      },
      "text/plain": [
       "  0%|          | 0/1000 [00:00<?, ?it/s]"
      ]
     },
     "metadata": {},
     "output_type": "display_data"
    },
    {
     "name": "stderr",
     "output_type": "stream",
     "text": [
      "<ipython-input-38-66707aa3ab2d>:5: UserWarning: Implicit dimension choice for softmax has been deprecated. Change the call to include dim=X as an argument.\n",
      "  g0 = torch.nn.functional.softmax(gammas[0])\n",
      "<ipython-input-38-66707aa3ab2d>:17: UserWarning: Implicit dimension choice for softmax has been deprecated. Change the call to include dim=X as an argument.\n",
      "  g1 = torch.nn.functional.softmax(gammas[1])\n",
      "<ipython-input-41-a54c2137ebe0>:120: TqdmDeprecationWarning: This function will be removed in tqdm==5.0.0\n",
      "Please use `tqdm.notebook.tqdm` instead of `tqdm.tqdm_notebook`\n",
      "  tq = tqdm.tqdm_notebook(range(EPOCH_NUM))\n"
     ]
    },
    {
     "data": {
      "application/vnd.jupyter.widget-view+json": {
       "model_id": "c8c3b4ec64a84c3f9b671402447ae75a",
       "version_major": 2,
       "version_minor": 0
      },
      "text/plain": [
       "  0%|          | 0/1000 [00:00<?, ?it/s]"
      ]
     },
     "metadata": {},
     "output_type": "display_data"
    },
    {
     "name": "stdout",
     "output_type": "stream",
     "text": [
      "tensor([1, 0])\n",
      "tensor([1, 3])\n",
      "tensor([2, 1])\n",
      "tensor([0, 3])\n",
      "Parameter containing:\n",
      "tensor([[-0.5450,  5.6498, -1.0318, -0.9335],\n",
      "        [ 0.8440,  0.6595, -0.2009,  0.7390]], requires_grad=True)\n",
      "Parameter containing:\n",
      "tensor([[-3.7440,  6.5023, -2.2566,  2.1004],\n",
      "        [ 0.5722,  0.7642,  0.3720,  0.8991]], requires_grad=True)\n",
      "Parameter containing:\n",
      "tensor([[ 0.1720, -2.2740,  4.3540,  0.1014],\n",
      "        [ 1.0386,  1.9601,  0.3613, -1.5203]], requires_grad=True)\n",
      "Parameter containing:\n",
      "tensor([[ 5.1786, -1.4467, -1.1263, -1.6726],\n",
      "        [ 0.1536,  0.5927, -0.4586,  1.2925]], requires_grad=True)\n",
      "0.6260390132665634 9\n"
     ]
    },
    {
     "data": {
      "application/vnd.jupyter.widget-view+json": {
       "model_id": "9dcb3081cab54869bece19137079e2c5",
       "version_major": 2,
       "version_minor": 0
      },
      "text/plain": [
       "  0%|          | 0/1000 [00:00<?, ?it/s]"
      ]
     },
     "metadata": {},
     "output_type": "display_data"
    },
    {
     "data": {
      "application/vnd.jupyter.widget-view+json": {
       "model_id": "bfc975fff0184aa685b41a9e45fcc3cb",
       "version_major": 2,
       "version_minor": 0
      },
      "text/plain": [
       "  0%|          | 0/1000 [00:00<?, ?it/s]"
      ]
     },
     "metadata": {},
     "output_type": "display_data"
    },
    {
     "name": "stdout",
     "output_type": "stream",
     "text": [
      "tensor([2, 1])\n",
      "tensor([2, 1])\n",
      "tensor([1, 1])\n",
      "tensor([3, 1])\n",
      "Parameter containing:\n",
      "tensor([[-0.1755, -1.8504,  4.1967, -0.2531],\n",
      "        [ 0.2956,  0.5995, -0.0516,  0.0474]], requires_grad=True)\n",
      "Parameter containing:\n",
      "tensor([[-1.7492, -1.7782,  7.6723, -1.6989],\n",
      "        [-0.2116,  1.9990, -0.1802,  0.6888]], requires_grad=True)\n",
      "Parameter containing:\n",
      "tensor([[-2.6362,  4.5177,  0.5698, -0.7518],\n",
      "        [-0.0456,  1.0035,  0.1959,  0.8928]], requires_grad=True)\n",
      "Parameter containing:\n",
      "tensor([[ 0.1449, -0.2666, -0.8514,  2.9188],\n",
      "        [ 0.6412,  0.7672,  0.3593,  0.2858]], requires_grad=True)\n",
      "0.5557030439376831 5\n"
     ]
    },
    {
     "data": {
      "application/vnd.jupyter.widget-view+json": {
       "model_id": "9b9ff877565f4c9082749104e336b3ff",
       "version_major": 2,
       "version_minor": 0
      },
      "text/plain": [
       "  0%|          | 0/1000 [00:00<?, ?it/s]"
      ]
     },
     "metadata": {},
     "output_type": "display_data"
    },
    {
     "data": {
      "application/vnd.jupyter.widget-view+json": {
       "model_id": "e40251cbaa48444cbeb3f91c456c48c5",
       "version_major": 2,
       "version_minor": 0
      },
      "text/plain": [
       "  0%|          | 0/1000 [00:00<?, ?it/s]"
      ]
     },
     "metadata": {},
     "output_type": "display_data"
    },
    {
     "name": "stdout",
     "output_type": "stream",
     "text": [
      "tensor([3, 2])\n",
      "tensor([2, 3])\n",
      "tensor([0, 0])\n",
      "tensor([1, 0])\n",
      "Parameter containing:\n",
      "tensor([[-1.2398, -2.9122, -0.0332,  6.5977],\n",
      "        [ 0.1499,  0.6569,  0.6831,  0.3672]], requires_grad=True)\n",
      "Parameter containing:\n",
      "tensor([[ 0.3881,  0.3012,  4.2401, -1.3249],\n",
      "        [ 0.4381,  0.5296,  0.2632,  0.6955]], requires_grad=True)\n",
      "Parameter containing:\n",
      "tensor([[ 8.8492, -3.1909, -2.4418, -0.8935],\n",
      "        [ 1.6096,  1.0026,  0.0514,  0.2434]], requires_grad=True)\n",
      "Parameter containing:\n",
      "tensor([[-0.4569,  4.0598, -1.1960, -0.7801],\n",
      "        [ 1.5661, -0.1842,  0.6582,  0.1257]], requires_grad=True)\n",
      "0.663034051656723 10\n"
     ]
    },
    {
     "data": {
      "application/vnd.jupyter.widget-view+json": {
       "model_id": "3b4c1bda4f3f4f2f9fbb662747cf0f68",
       "version_major": 2,
       "version_minor": 0
      },
      "text/plain": [
       "  0%|          | 0/1000 [00:00<?, ?it/s]"
      ]
     },
     "metadata": {},
     "output_type": "display_data"
    },
    {
     "data": {
      "application/vnd.jupyter.widget-view+json": {
       "model_id": "fe86e9dd72274c3aba799650e67b5aca",
       "version_major": 2,
       "version_minor": 0
      },
      "text/plain": [
       "  0%|          | 0/1000 [00:00<?, ?it/s]"
      ]
     },
     "metadata": {},
     "output_type": "display_data"
    },
    {
     "name": "stdout",
     "output_type": "stream",
     "text": [
      "tensor([3, 1])\n",
      "tensor([1, 2])\n",
      "tensor([1, 3])\n",
      "tensor([3, 3])\n",
      "Parameter containing:\n",
      "tensor([[-0.1021,  0.5795,  0.9668,  1.2863],\n",
      "        [-0.1052,  0.6368,  0.6271,  0.2901]], requires_grad=True)\n",
      "Parameter containing:\n",
      "tensor([[-0.6868,  1.2273,  0.8721, -0.3378],\n",
      "        [ 0.2414,  0.2085,  0.8157,  0.7384]], requires_grad=True)\n",
      "Parameter containing:\n",
      "tensor([[-1.4587,  3.3782,  1.3327, -0.3203],\n",
      "        [ 0.5155, -0.1004,  0.5077,  0.7816]], requires_grad=True)\n",
      "Parameter containing:\n",
      "tensor([[-0.1149, -2.3247, -3.5448,  8.1482],\n",
      "        [ 0.3302,  0.5819,  0.4224,  0.6882]], requires_grad=True)\n",
      "0.9763320237398148 8\n"
     ]
    },
    {
     "data": {
      "application/vnd.jupyter.widget-view+json": {
       "model_id": "97b3535a25a14fcabbe20b3e74cd95aa",
       "version_major": 2,
       "version_minor": 0
      },
      "text/plain": [
       "  0%|          | 0/1000 [00:00<?, ?it/s]"
      ]
     },
     "metadata": {},
     "output_type": "display_data"
    },
    {
     "data": {
      "application/vnd.jupyter.widget-view+json": {
       "model_id": "91bbe5588bce4b8182c5b84f5b51a123",
       "version_major": 2,
       "version_minor": 0
      },
      "text/plain": [
       "  0%|          | 0/1000 [00:00<?, ?it/s]"
      ]
     },
     "metadata": {},
     "output_type": "display_data"
    },
    {
     "name": "stdout",
     "output_type": "stream",
     "text": [
      "tensor([3, 1])\n",
      "tensor([2, 1])\n",
      "tensor([0, 1])\n",
      "tensor([2, 1])\n",
      "Parameter containing:\n",
      "tensor([[-1.0204, -2.5542, -2.6133,  7.5860],\n",
      "        [-0.2484,  1.4200, -0.2140,  1.1670]], requires_grad=True)\n",
      "Parameter containing:\n",
      "tensor([[-5.8587, -2.3483,  8.9698,  0.6944],\n",
      "        [-1.7546,  2.8447, -0.7633,  2.7994]], requires_grad=True)\n",
      "Parameter containing:\n",
      "tensor([[ 7.0474, -2.7662, -0.5033, -1.0859],\n",
      "        [-1.5815,  2.2077, -0.7931,  1.7473]], requires_grad=True)\n",
      "Parameter containing:\n",
      "tensor([[-1.1246, -0.5024,  5.1507, -1.5494],\n",
      "        [-0.1911,  2.4940,  0.0985,  1.3463]], requires_grad=True)\n",
      "0.834810271859169 5\n",
      "[Parameter containing:\n",
      "tensor([[-1.0204, -2.5542, -2.6133,  7.5860],\n",
      "        [-0.2484,  1.4200, -0.2140,  1.1670]], requires_grad=True), Parameter containing:\n",
      "tensor([[-5.8587, -2.3483,  8.9698,  0.6944],\n",
      "        [-1.7546,  2.8447, -0.7633,  2.7994]], requires_grad=True), Parameter containing:\n",
      "tensor([[ 7.0474, -2.7662, -0.5033, -1.0859],\n",
      "        [-1.5815,  2.2077, -0.7931,  1.7473]], requires_grad=True), Parameter containing:\n",
      "tensor([[-1.1246, -0.5024,  5.1507, -1.5494],\n",
      "        [-0.1911,  2.4940,  0.0985,  1.3463]], requires_grad=True)]\n",
      "Parameter containing:\n",
      "tensor([280.7261], requires_grad=True)\n",
      "Parameter containing:\n",
      "tensor([178.8965], requires_grad=True)\n",
      "Parameter containing:\n",
      "tensor([-96.9865], requires_grad=True)\n",
      "Parameter containing:\n",
      "tensor([-310.6604], requires_grad=True)\n"
     ]
    },
    {
     "data": {
      "text/plain": [
       "(0.7311836808919907, 7.4)"
      ]
     },
     "execution_count": 42,
     "metadata": {},
     "output_type": "execute_result"
    }
   ],
   "source": [
    "dartslike('triplets', 1000.0, 1000.0)"
   ]
  },
  {
   "cell_type": "code",
   "execution_count": 43,
   "id": "8259e050",
   "metadata": {},
   "outputs": [
    {
     "name": "stderr",
     "output_type": "stream",
     "text": [
      "<ipython-input-41-a54c2137ebe0>:35: TqdmDeprecationWarning: This function will be removed in tqdm==5.0.0\n",
      "Please use `tqdm.notebook.tqdm` instead of `tqdm.tqdm_notebook`\n",
      "  tq = tqdm.tqdm_notebook(range(EPOCH_NUM )) # taking half of epoch num for NAS\n"
     ]
    },
    {
     "data": {
      "application/vnd.jupyter.widget-view+json": {
       "model_id": "e194e60914f24d97b6edcaee511da2fa",
       "version_major": 2,
       "version_minor": 0
      },
      "text/plain": [
       "  0%|          | 0/1000 [00:00<?, ?it/s]"
      ]
     },
     "metadata": {},
     "output_type": "display_data"
    },
    {
     "name": "stderr",
     "output_type": "stream",
     "text": [
      "<ipython-input-38-66707aa3ab2d>:5: UserWarning: Implicit dimension choice for softmax has been deprecated. Change the call to include dim=X as an argument.\n",
      "  g0 = torch.nn.functional.softmax(gammas[0])\n",
      "<ipython-input-38-66707aa3ab2d>:17: UserWarning: Implicit dimension choice for softmax has been deprecated. Change the call to include dim=X as an argument.\n",
      "  g1 = torch.nn.functional.softmax(gammas[1])\n",
      "<ipython-input-41-a54c2137ebe0>:120: TqdmDeprecationWarning: This function will be removed in tqdm==5.0.0\n",
      "Please use `tqdm.notebook.tqdm` instead of `tqdm.tqdm_notebook`\n",
      "  tq = tqdm.tqdm_notebook(range(EPOCH_NUM))\n"
     ]
    },
    {
     "data": {
      "application/vnd.jupyter.widget-view+json": {
       "model_id": "48411f8dd0eb49689e9e4ae82378fc78",
       "version_major": 2,
       "version_minor": 0
      },
      "text/plain": [
       "  0%|          | 0/1000 [00:00<?, ?it/s]"
      ]
     },
     "metadata": {},
     "output_type": "display_data"
    },
    {
     "name": "stdout",
     "output_type": "stream",
     "text": [
      "tensor([0, 3])\n",
      "tensor([0, 1])\n",
      "tensor([1, 2])\n",
      "tensor([2, 0])\n",
      "Parameter containing:\n",
      "tensor([[1.3760, 0.6154, 0.3194, 0.8286],\n",
      "        [0.4620, 0.6247, 0.2585, 0.6963]], requires_grad=True)\n",
      "Parameter containing:\n",
      "tensor([[ 2.7518,  0.0973, -0.0495, -0.1975],\n",
      "        [ 0.1993,  0.8832,  0.6939,  0.8311]], requires_grad=True)\n",
      "Parameter containing:\n",
      "tensor([[ 1.0950,  1.3785, -0.1733,  0.0532],\n",
      "        [ 0.6176,  0.2571,  0.7935,  0.1713]], requires_grad=True)\n",
      "Parameter containing:\n",
      "tensor([[-0.7687, -0.0573,  0.9944,  0.7646],\n",
      "        [ 1.1316, -0.0844,  1.0183, -0.4853]], requires_grad=True)\n",
      "1.1496404632925987 11\n"
     ]
    },
    {
     "data": {
      "application/vnd.jupyter.widget-view+json": {
       "model_id": "8056ce39977a472e8694f8ee9036de6a",
       "version_major": 2,
       "version_minor": 0
      },
      "text/plain": [
       "  0%|          | 0/1000 [00:00<?, ?it/s]"
      ]
     },
     "metadata": {},
     "output_type": "display_data"
    },
    {
     "data": {
      "application/vnd.jupyter.widget-view+json": {
       "model_id": "71fd67b0c06d418c95bea8401b3cdcd1",
       "version_major": 2,
       "version_minor": 0
      },
      "text/plain": [
       "  0%|          | 0/1000 [00:00<?, ?it/s]"
      ]
     },
     "metadata": {},
     "output_type": "display_data"
    },
    {
     "name": "stdout",
     "output_type": "stream",
     "text": [
      "tensor([0, 1])\n",
      "tensor([0, 3])\n",
      "tensor([2, 3])\n",
      "tensor([1, 0])\n",
      "Parameter containing:\n",
      "tensor([[ 0.7240,  0.1086,  0.6455,  0.4397],\n",
      "        [ 0.3698,  0.5162, -0.0872,  0.0920]], requires_grad=True)\n",
      "Parameter containing:\n",
      "tensor([[ 2.3149, -0.1684,  0.3712, -0.0717],\n",
      "        [ 1.0257,  0.2602, -0.0260,  1.0360]], requires_grad=True)\n",
      "Parameter containing:\n",
      "tensor([[0.1942, 0.4512, 0.9081, 0.1460],\n",
      "        [0.2315, 0.5798, 0.4533, 0.7820]], requires_grad=True)\n",
      "Parameter containing:\n",
      "tensor([[0.0329, 0.8912, 0.6840, 0.3375],\n",
      "        [0.9199, 0.4316, 0.4013, 0.3007]], requires_grad=True)\n",
      "0.7164190113544464 9\n"
     ]
    },
    {
     "data": {
      "application/vnd.jupyter.widget-view+json": {
       "model_id": "1be4f96f2f454fd2b26b17f1d79de437",
       "version_major": 2,
       "version_minor": 0
      },
      "text/plain": [
       "  0%|          | 0/1000 [00:00<?, ?it/s]"
      ]
     },
     "metadata": {},
     "output_type": "display_data"
    },
    {
     "data": {
      "application/vnd.jupyter.widget-view+json": {
       "model_id": "b7e4bc7fb31a4c719e8d30045174aba2",
       "version_major": 2,
       "version_minor": 0
      },
      "text/plain": [
       "  0%|          | 0/1000 [00:00<?, ?it/s]"
      ]
     },
     "metadata": {},
     "output_type": "display_data"
    },
    {
     "name": "stdout",
     "output_type": "stream",
     "text": [
      "tensor([0, 1])\n",
      "tensor([2, 2])\n",
      "tensor([1, 0])\n",
      "tensor([0, 0])\n",
      "Parameter containing:\n",
      "tensor([[ 1.7535, -0.1089,  0.1089,  0.6589],\n",
      "        [-0.0323,  1.5207,  0.0304,  0.3383]], requires_grad=True)\n",
      "Parameter containing:\n",
      "tensor([[0.6923, 0.7000, 1.4854, 0.7269],\n",
      "        [0.2688, 0.2941, 1.0996, 0.2638]], requires_grad=True)\n",
      "Parameter containing:\n",
      "tensor([[0.4889, 1.1944, 0.5466, 0.0931],\n",
      "        [1.3101, 0.4202, 0.7186, 0.4581]], requires_grad=True)\n",
      "Parameter containing:\n",
      "tensor([[ 0.9441,  0.2945, -0.3949,  0.7831],\n",
      "        [ 1.4184,  0.1568, -0.2173,  0.8080]], requires_grad=True)\n",
      "0.47139111906290054 9\n"
     ]
    },
    {
     "data": {
      "application/vnd.jupyter.widget-view+json": {
       "model_id": "5f8b0e7dfffd4bcd8228f2b3b51cbe99",
       "version_major": 2,
       "version_minor": 0
      },
      "text/plain": [
       "  0%|          | 0/1000 [00:00<?, ?it/s]"
      ]
     },
     "metadata": {},
     "output_type": "display_data"
    },
    {
     "data": {
      "application/vnd.jupyter.widget-view+json": {
       "model_id": "14f9926c53a842528d313b19012a55c7",
       "version_major": 2,
       "version_minor": 0
      },
      "text/plain": [
       "  0%|          | 0/1000 [00:00<?, ?it/s]"
      ]
     },
     "metadata": {},
     "output_type": "display_data"
    },
    {
     "name": "stdout",
     "output_type": "stream",
     "text": [
      "tensor([3, 2])\n",
      "tensor([0, 2])\n",
      "tensor([2, 3])\n",
      "tensor([1, 3])\n",
      "Parameter containing:\n",
      "tensor([[ 0.2083,  0.8950,  0.6677,  0.9595],\n",
      "        [-0.1378,  0.4993,  0.9532,  0.1340]], requires_grad=True)\n",
      "Parameter containing:\n",
      "tensor([[ 1.1704, -0.5107,  0.2067,  0.2084],\n",
      "        [ 0.5086, -0.0138,  1.2280,  0.2812]], requires_grad=True)\n",
      "Parameter containing:\n",
      "tensor([[ 0.6607,  0.1486,  1.4681,  0.6545],\n",
      "        [ 0.2189,  0.1418, -0.3130,  1.6567]], requires_grad=True)\n",
      "Parameter containing:\n",
      "tensor([[ 0.3060,  1.4262,  0.3766,  0.0549],\n",
      "        [-0.0018,  0.9141,  0.1177,  0.9926]], requires_grad=True)\n",
      "0.8816287368535995 8\n"
     ]
    },
    {
     "data": {
      "application/vnd.jupyter.widget-view+json": {
       "model_id": "d25a74d6d4d34d52b6bc6a2bb39a6ce3",
       "version_major": 2,
       "version_minor": 0
      },
      "text/plain": [
       "  0%|          | 0/1000 [00:00<?, ?it/s]"
      ]
     },
     "metadata": {},
     "output_type": "display_data"
    },
    {
     "data": {
      "application/vnd.jupyter.widget-view+json": {
       "model_id": "4e2e9364f51041f2a7d042a0df44abfd",
       "version_major": 2,
       "version_minor": 0
      },
      "text/plain": [
       "  0%|          | 0/1000 [00:00<?, ?it/s]"
      ]
     },
     "metadata": {},
     "output_type": "display_data"
    },
    {
     "name": "stdout",
     "output_type": "stream",
     "text": [
      "tensor([0, 1])\n",
      "tensor([2, 2])\n",
      "tensor([3, 1])\n",
      "tensor([2, 1])\n",
      "Parameter containing:\n",
      "tensor([[ 1.6632,  0.6114, -0.3357, -0.5408],\n",
      "        [ 0.4265,  1.5512,  0.0771,  0.0698]], requires_grad=True)\n",
      "Parameter containing:\n",
      "tensor([[-0.0809,  0.1934,  1.2518,  0.0928],\n",
      "        [ 1.1669, -0.0302,  1.3727,  0.6169]], requires_grad=True)\n",
      "Parameter containing:\n",
      "tensor([[-0.1293, -0.0062,  1.1343,  1.6931],\n",
      "        [-0.3275,  1.4808,  0.9123, -0.4852]], requires_grad=True)\n",
      "Parameter containing:\n",
      "tensor([[-0.2930,  0.8055,  1.1971,  0.2647],\n",
      "        [ 0.8067,  1.7141,  0.6835,  0.5435]], requires_grad=True)\n",
      "0.73158098757267 7\n",
      "[Parameter containing:\n",
      "tensor([[ 1.6632,  0.6114, -0.3357, -0.5408],\n",
      "        [ 0.4265,  1.5512,  0.0771,  0.0698]], requires_grad=True), Parameter containing:\n",
      "tensor([[-0.0809,  0.1934,  1.2518,  0.0928],\n",
      "        [ 1.1669, -0.0302,  1.3727,  0.6169]], requires_grad=True), Parameter containing:\n",
      "tensor([[-0.1293, -0.0062,  1.1343,  1.6931],\n",
      "        [-0.3275,  1.4808,  0.9123, -0.4852]], requires_grad=True), Parameter containing:\n",
      "tensor([[-0.2930,  0.8055,  1.1971,  0.2647],\n",
      "        [ 0.8067,  1.7141,  0.6835,  0.5435]], requires_grad=True)]\n",
      "Parameter containing:\n",
      "tensor([88.2474], requires_grad=True)\n",
      "Parameter containing:\n",
      "tensor([112.6450], requires_grad=True)\n",
      "Parameter containing:\n",
      "tensor([-87.3169], requires_grad=True)\n",
      "Parameter containing:\n",
      "tensor([-88.2126], requires_grad=True)\n"
     ]
    },
    {
     "data": {
      "text/plain": [
       "(0.7901320636272431, 8.8)"
      ]
     },
     "execution_count": 43,
     "metadata": {},
     "output_type": "execute_result"
    }
   ],
   "source": [
    "# no reg\n",
    "dartslike('darts', 0.0, 0.0)\n"
   ]
  },
  {
   "cell_type": "code",
   "execution_count": 44,
   "id": "f7094286",
   "metadata": {},
   "outputs": [
    {
     "name": "stderr",
     "output_type": "stream",
     "text": [
      "<ipython-input-41-a54c2137ebe0>:35: TqdmDeprecationWarning: This function will be removed in tqdm==5.0.0\n",
      "Please use `tqdm.notebook.tqdm` instead of `tqdm.tqdm_notebook`\n",
      "  tq = tqdm.tqdm_notebook(range(EPOCH_NUM )) # taking half of epoch num for NAS\n"
     ]
    },
    {
     "data": {
      "application/vnd.jupyter.widget-view+json": {
       "model_id": "5f119b1ebe2a4a41a81c1a76f601efaf",
       "version_major": 2,
       "version_minor": 0
      },
      "text/plain": [
       "  0%|          | 0/1000 [00:00<?, ?it/s]"
      ]
     },
     "metadata": {},
     "output_type": "display_data"
    },
    {
     "name": "stderr",
     "output_type": "stream",
     "text": [
      "<ipython-input-38-66707aa3ab2d>:5: UserWarning: Implicit dimension choice for softmax has been deprecated. Change the call to include dim=X as an argument.\n",
      "  g0 = torch.nn.functional.softmax(gammas[0])\n",
      "<ipython-input-38-66707aa3ab2d>:17: UserWarning: Implicit dimension choice for softmax has been deprecated. Change the call to include dim=X as an argument.\n",
      "  g1 = torch.nn.functional.softmax(gammas[1])\n",
      "<ipython-input-41-a54c2137ebe0>:120: TqdmDeprecationWarning: This function will be removed in tqdm==5.0.0\n",
      "Please use `tqdm.notebook.tqdm` instead of `tqdm.tqdm_notebook`\n",
      "  tq = tqdm.tqdm_notebook(range(EPOCH_NUM))\n"
     ]
    },
    {
     "data": {
      "application/vnd.jupyter.widget-view+json": {
       "model_id": "852cb23f20d04fabb872f4b2c9da4023",
       "version_major": 2,
       "version_minor": 0
      },
      "text/plain": [
       "  0%|          | 0/1000 [00:00<?, ?it/s]"
      ]
     },
     "metadata": {},
     "output_type": "display_data"
    },
    {
     "name": "stdout",
     "output_type": "stream",
     "text": [
      "tensor([0, 2])\n",
      "tensor([0, 2])\n",
      "tensor([0, 2])\n",
      "tensor([0, 2])\n",
      "Parameter containing:\n",
      "tensor([[1.1091, 0.7148, 0.6006, 0.7149],\n",
      "        [0.5554, 0.4120, 0.5713, 0.5029]], requires_grad=True)\n",
      "Parameter containing:\n",
      "tensor([[0.9797, 0.5843, 0.4620, 0.5763],\n",
      "        [0.6948, 0.5548, 0.7095, 0.6485]], requires_grad=True)\n",
      "Parameter containing:\n",
      "tensor([[0.9127, 0.5223, 0.4020, 0.5164],\n",
      "        [0.5053, 0.3613, 0.5222, 0.4508]], requires_grad=True)\n",
      "Parameter containing:\n",
      "tensor([[0.5484, 0.1579, 0.0561, 0.1705],\n",
      "        [0.4421, 0.2950, 0.4591, 0.3840]], requires_grad=True)\n",
      "1.1573370695114136 3\n"
     ]
    },
    {
     "data": {
      "application/vnd.jupyter.widget-view+json": {
       "model_id": "919e01a426704084a01d8257efc67868",
       "version_major": 2,
       "version_minor": 0
      },
      "text/plain": [
       "  0%|          | 0/1000 [00:00<?, ?it/s]"
      ]
     },
     "metadata": {},
     "output_type": "display_data"
    },
    {
     "data": {
      "application/vnd.jupyter.widget-view+json": {
       "model_id": "8d2a661207074be3991c1b225ad2072e",
       "version_major": 2,
       "version_minor": 0
      },
      "text/plain": [
       "  0%|          | 0/1000 [00:00<?, ?it/s]"
      ]
     },
     "metadata": {},
     "output_type": "display_data"
    },
    {
     "name": "stdout",
     "output_type": "stream",
     "text": [
      "tensor([2, 0])\n",
      "tensor([2, 0])\n",
      "tensor([2, 0])\n",
      "tensor([2, 0])\n",
      "Parameter containing:\n",
      "tensor([[0.5614, 0.3842, 0.6961, 0.2760],\n",
      "        [0.4548, 0.1816, 0.0270, 0.2274]], requires_grad=True)\n",
      "Parameter containing:\n",
      "tensor([[0.6960, 0.5133, 0.8301, 0.4065],\n",
      "        [0.8072, 0.5307, 0.3795, 0.5786]], requires_grad=True)\n",
      "Parameter containing:\n",
      "tensor([[0.5052, 0.3297, 0.6452, 0.2194],\n",
      "        [0.7429, 0.4682, 0.3200, 0.5155]], requires_grad=True)\n",
      "Parameter containing:\n",
      "tensor([[0.5662, 0.3923, 0.7052, 0.2819],\n",
      "        [0.7447, 0.4712, 0.3202, 0.5175]], requires_grad=True)\n",
      "1.0676323920488358 3\n"
     ]
    },
    {
     "data": {
      "application/vnd.jupyter.widget-view+json": {
       "model_id": "ad763d8ab3fc46e5ab1895b50e0a11e7",
       "version_major": 2,
       "version_minor": 0
      },
      "text/plain": [
       "  0%|          | 0/1000 [00:00<?, ?it/s]"
      ]
     },
     "metadata": {},
     "output_type": "display_data"
    },
    {
     "data": {
      "application/vnd.jupyter.widget-view+json": {
       "model_id": "e9c66b21d0004bb4b4a43e77ea2e86be",
       "version_major": 2,
       "version_minor": 0
      },
      "text/plain": [
       "  0%|          | 0/1000 [00:00<?, ?it/s]"
      ]
     },
     "metadata": {},
     "output_type": "display_data"
    },
    {
     "name": "stdout",
     "output_type": "stream",
     "text": [
      "tensor([0, 0])\n",
      "tensor([0, 0])\n",
      "tensor([0, 0])\n",
      "tensor([0, 0])\n",
      "Parameter containing:\n",
      "tensor([[0.7070, 0.5347, 0.6424, 0.5284],\n",
      "        [0.6471, 0.4184, 0.3792, 0.4125]], requires_grad=True)\n",
      "Parameter containing:\n",
      "tensor([[0.9998, 0.8365, 0.9460, 0.8223],\n",
      "        [0.6650, 0.4341, 0.3985, 0.4288]], requires_grad=True)\n",
      "Parameter containing:\n",
      "tensor([[0.6795, 0.5204, 0.6236, 0.4995],\n",
      "        [0.9141, 0.6766, 0.6422, 0.6742]], requires_grad=True)\n",
      "Parameter containing:\n",
      "tensor([[0.5092, 0.3433, 0.4457, 0.3286],\n",
      "        [0.7293, 0.4918, 0.4554, 0.4893]], requires_grad=True)\n",
      "0.8324178159236908 3\n"
     ]
    },
    {
     "data": {
      "application/vnd.jupyter.widget-view+json": {
       "model_id": "9b9e3dbfe5054ef7a858fb8398056b66",
       "version_major": 2,
       "version_minor": 0
      },
      "text/plain": [
       "  0%|          | 0/1000 [00:00<?, ?it/s]"
      ]
     },
     "metadata": {},
     "output_type": "display_data"
    },
    {
     "data": {
      "application/vnd.jupyter.widget-view+json": {
       "model_id": "99632216769b42219b817daa97c44288",
       "version_major": 2,
       "version_minor": 0
      },
      "text/plain": [
       "  0%|          | 0/1000 [00:00<?, ?it/s]"
      ]
     },
     "metadata": {},
     "output_type": "display_data"
    },
    {
     "name": "stdout",
     "output_type": "stream",
     "text": [
      "tensor([1, 3])\n",
      "tensor([1, 3])\n",
      "tensor([1, 3])\n",
      "tensor([1, 3])\n",
      "Parameter containing:\n",
      "tensor([[0.6653, 0.7172, 0.6979, 0.6501],\n",
      "        [0.1079, 0.3525, 0.3305, 0.6578]], requires_grad=True)\n",
      "Parameter containing:\n",
      "tensor([[0.2533, 0.2976, 0.2861, 0.2377],\n",
      "        [0.2470, 0.4913, 0.4685, 0.7973]], requires_grad=True)\n",
      "Parameter containing:\n",
      "tensor([[0.7154, 0.7660, 0.7515, 0.6989],\n",
      "        [0.1729, 0.4181, 0.3898, 0.7236]], requires_grad=True)\n",
      "Parameter containing:\n",
      "tensor([[0.5226, 0.5763, 0.5585, 0.5064],\n",
      "        [0.2487, 0.4968, 0.4738, 0.8034]], requires_grad=True)\n",
      "1.2857360243797302 3\n"
     ]
    },
    {
     "data": {
      "application/vnd.jupyter.widget-view+json": {
       "model_id": "f7acbdb3ebac4653ad1e20c9516b5990",
       "version_major": 2,
       "version_minor": 0
      },
      "text/plain": [
       "  0%|          | 0/1000 [00:00<?, ?it/s]"
      ]
     },
     "metadata": {},
     "output_type": "display_data"
    },
    {
     "data": {
      "application/vnd.jupyter.widget-view+json": {
       "model_id": "4845d5745d24465f85d9041b2e6d5056",
       "version_major": 2,
       "version_minor": 0
      },
      "text/plain": [
       "  0%|          | 0/1000 [00:00<?, ?it/s]"
      ]
     },
     "metadata": {},
     "output_type": "display_data"
    },
    {
     "name": "stdout",
     "output_type": "stream",
     "text": [
      "tensor([2, 1])\n",
      "tensor([2, 1])\n",
      "tensor([2, 1])\n",
      "tensor([2, 1])\n",
      "Parameter containing:\n",
      "tensor([[-0.1266,  0.1240,  1.0099,  0.3909],\n",
      "        [ 0.2539,  1.1208,  0.6721,  0.0778]], requires_grad=True)\n",
      "Parameter containing:\n",
      "tensor([[-0.1168,  0.1367,  1.0286,  0.4087],\n",
      "        [ 0.5063,  1.3687,  0.9232,  0.3280]], requires_grad=True)\n",
      "Parameter containing:\n",
      "tensor([[ 0.1814,  0.4358,  1.3474,  0.7274],\n",
      "        [ 0.1160,  0.9901,  0.5367, -0.0625]], requires_grad=True)\n",
      "Parameter containing:\n",
      "tensor([[0.0223, 0.2815, 1.1465, 0.5240],\n",
      "        [0.6602, 1.5279, 1.0759, 0.4837]], requires_grad=True)\n",
      "0.8407305777072906 3\n",
      "[Parameter containing:\n",
      "tensor([[-0.1266,  0.1240,  1.0099,  0.3909],\n",
      "        [ 0.2539,  1.1208,  0.6721,  0.0778]], requires_grad=True), Parameter containing:\n",
      "tensor([[-0.1168,  0.1367,  1.0286,  0.4087],\n",
      "        [ 0.5063,  1.3687,  0.9232,  0.3280]], requires_grad=True), Parameter containing:\n",
      "tensor([[ 0.1814,  0.4358,  1.3474,  0.7274],\n",
      "        [ 0.1160,  0.9901,  0.5367, -0.0625]], requires_grad=True), Parameter containing:\n",
      "tensor([[0.0223, 0.2815, 1.1465, 0.5240],\n",
      "        [0.6602, 1.5279, 1.0759, 0.4837]], requires_grad=True)]\n",
      "Parameter containing:\n",
      "tensor([88.0433], requires_grad=True)\n",
      "Parameter containing:\n",
      "tensor([112.6138], requires_grad=True)\n",
      "Parameter containing:\n",
      "tensor([-98.5962], requires_grad=True)\n",
      "Parameter containing:\n",
      "tensor([-88.9165], requires_grad=True)\n"
     ]
    },
    {
     "data": {
      "text/plain": [
       "(1.0367707759141922, 3.0)"
      ]
     },
     "execution_count": 44,
     "metadata": {},
     "output_type": "execute_result"
    }
   ],
   "source": [
    "dartslike('js', js_coef=100.0)"
   ]
  }
 ],
 "metadata": {
  "kernelspec": {
   "display_name": "Python 3",
   "language": "python",
   "name": "python3"
  },
  "language_info": {
   "codemirror_mode": {
    "name": "ipython",
    "version": 3
   },
   "file_extension": ".py",
   "mimetype": "text/x-python",
   "name": "python",
   "nbconvert_exporter": "python",
   "pygments_lexer": "ipython3",
   "version": "3.8.10"
  }
 },
 "nbformat": 4,
 "nbformat_minor": 5
}
