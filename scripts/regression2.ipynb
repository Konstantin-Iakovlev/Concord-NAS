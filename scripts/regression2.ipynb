{
 "cells": [
  {
   "cell_type": "code",
   "execution_count": 63,
   "id": "6786c374",
   "metadata": {},
   "outputs": [],
   "source": [
    "import matplotlib.pylab as plt\n",
    "%matplotlib inline\n",
    "import numpy as np\n",
    "import torch\n",
    "import tqdm\n",
    "from sklearn.model_selection import StratifiedShuffleSplit"
   ]
  },
  {
   "cell_type": "code",
   "execution_count": 101,
   "id": "90f84fb9",
   "metadata": {},
   "outputs": [],
   "source": [
    "epoch_num = 2000\n",
    "train_num = 32# 8\n",
    "DIM = 32 # 4\n",
    "D = 4\n",
    "crit2 = torch.nn.L1Loss()"
   ]
  },
  {
   "cell_type": "code",
   "execution_count": 50,
   "id": "7738f3c1",
   "metadata": {},
   "outputs": [
    {
     "data": {
      "text/plain": [
       "[0, 180]"
      ]
     },
     "execution_count": 50,
     "metadata": {},
     "output_type": "execute_result"
    }
   ],
   "source": [
    "def make_angles():\n",
    "    if D == 2:\n",
    "        return [0, 180]\n",
    "    step = 360/D\n",
    "    return [i*step for i in range(D)]\n",
    "make_angles()"
   ]
  },
  {
   "cell_type": "code",
   "execution_count": 51,
   "id": "675c04d8",
   "metadata": {},
   "outputs": [],
   "source": [
    "from scipy.ndimage import rotate\n",
    "def gen(N1, N2, sigma=.1, seed=42, angle = 0.0):\n",
    "    angle = np.pi/2 * angle/90\n",
    "    N = N1+N2\n",
    "    rs = np.random.RandomState(seed)\n",
    "    x = rs.randn(N, DIM) * sigma\n",
    "    y = x[:,0]*0.25 + x[:,1]*0.75\n",
    "    \n",
    "    if angle:\n",
    "        M = np.array([[np.cos(angle), -np.sin(angle)], [np.sin(angle), np.cos(angle)]])\n",
    "        x[:,:2] = (M@x[:,:2].T).T\n",
    "    elems = list(range(len(x)))\n",
    "    rs.shuffle(elems)\n",
    "    trainval, test = elems[:N1], elems[N1:]\n",
    "    xtrainval, ytrainval = x[trainval], y[trainval]\n",
    "    xtest,ytest = x[test], y[test]\n",
    "    elems = list(range(len(xtrainval)))\n",
    "    rs.shuffle(elems)\n",
    "    train, val = elems[:N1//2], elems[N1//2:]\n",
    "    \n",
    "    xtrain, ytrain = xtrainval[train], ytrainval[train]\n",
    "    xval, yval = xtrainval[val], ytrainval[val]\n",
    "    return (xtrain, ytrain), (xval, yval), (xtest, ytest)\n",
    "xy, _,_ = gen(4, 2, angle=0)\n"
   ]
  },
  {
   "cell_type": "code",
   "execution_count": 66,
   "id": "d449fac5",
   "metadata": {},
   "outputs": [
    {
     "name": "stderr",
     "output_type": "stream",
     "text": [
      "<ipython-input-66-db024305ec91>:12: TqdmDeprecationWarning: This function will be removed in tqdm==5.0.0\n",
      "Please use `tqdm.notebook.tqdm` instead of `tqdm.tqdm_notebook`\n",
      "  tq = tqdm.tqdm_notebook(range(epoch_num))\n"
     ]
    },
    {
     "data": {
      "application/vnd.jupyter.widget-view+json": {
       "model_id": "07a8fb8e005c47e0a5dffee9f3b9bf32",
       "version_major": 2,
       "version_minor": 0
      },
      "text/plain": [
       "  0%|          | 0/2000 [00:00<?, ?it/s]"
      ]
     },
     "metadata": {},
     "output_type": "display_data"
    },
    {
     "data": {
      "application/vnd.jupyter.widget-view+json": {
       "model_id": "c87b6690be9347f79d0b8dbcd1ebf5ec",
       "version_major": 2,
       "version_minor": 0
      },
      "text/plain": [
       "  0%|          | 0/2000 [00:00<?, ?it/s]"
      ]
     },
     "metadata": {},
     "output_type": "display_data"
    },
    {
     "data": {
      "application/vnd.jupyter.widget-view+json": {
       "model_id": "c039edc2fd20428e8fb113f690c0cea3",
       "version_major": 2,
       "version_minor": 0
      },
      "text/plain": [
       "  0%|          | 0/2000 [00:00<?, ?it/s]"
      ]
     },
     "metadata": {},
     "output_type": "display_data"
    },
    {
     "data": {
      "application/vnd.jupyter.widget-view+json": {
       "model_id": "5afd4fb3a7274d43ac13db951f10bc5d",
       "version_major": 2,
       "version_minor": 0
      },
      "text/plain": [
       "  0%|          | 0/2000 [00:00<?, ?it/s]"
      ]
     },
     "metadata": {},
     "output_type": "display_data"
    },
    {
     "data": {
      "application/vnd.jupyter.widget-view+json": {
       "model_id": "c22d9f0a7964485c887ec0da43e28953",
       "version_major": 2,
       "version_minor": 0
      },
      "text/plain": [
       "  0%|          | 0/2000 [00:00<?, ?it/s]"
      ]
     },
     "metadata": {},
     "output_type": "display_data"
    },
    {
     "data": {
      "text/plain": [
       "([0.02337760105729103,\n",
       "  0.03822921961545944,\n",
       "  0.032760124653577805,\n",
       "  0.036191198974847794,\n",
       "  0.030610783025622368],\n",
       " 0.03223378546535969)"
      ]
     },
     "execution_count": 66,
     "metadata": {},
     "output_type": "execute_result"
    }
   ],
   "source": [
    "# one-model\n",
    "accs = []\n",
    "for k in range(5):\n",
    "    torch.manual_seed(42+k)\n",
    "    (x_train, y_train), (x_val, y_val), (x_test, y_test) = gen(train_num, 2000, seed=42+k)\n",
    "    x_train = np.concatenate([x_train, x_val])\n",
    "    y_train = np.concatenate([y_train, y_val])\n",
    "    \n",
    "    model = torch.nn.Linear(DIM,1)\n",
    "    opt = torch.optim.SGD(model.parameters(), lr=1e-1)\n",
    "    crit = torch.nn.MSELoss()\n",
    "    tq = tqdm.tqdm_notebook(range(epoch_num))\n",
    "    \n",
    "    for e in tq:\n",
    "        opt.zero_grad()\n",
    "        out = model(torch.tensor(x_train).float())[:,0]\n",
    "        loss = crit(out, torch.tensor(y_train).float())\n",
    "        loss.backward()\n",
    "        opt.step()\n",
    "        tq.set_description(str(loss.item()))\n",
    "    acc = crit2(model(torch.tensor(x_test).float())[:,0], torch.tensor(y_test).float()).item()\n",
    "    #acc = torch.eq(model(torch.tensor(x_test).float()).argmax(1), torch.tensor(y_test)).float().mean()\n",
    "    accs.append(acc)\n",
    "accs, np.mean(accs) \n",
    "# old: 2d: 0.02\n",
    "# 2d: 0.03"
   ]
  },
  {
   "cell_type": "code",
   "execution_count": 91,
   "id": "e96a6165",
   "metadata": {},
   "outputs": [
    {
     "name": "stderr",
     "output_type": "stream",
     "text": [
      "<ipython-input-91-b8b80d4ee0c5>:20: TqdmDeprecationWarning: This function will be removed in tqdm==5.0.0\n",
      "Please use `tqdm.notebook.tqdm` instead of `tqdm.tqdm_notebook`\n",
      "  tq = tqdm.tqdm_notebook(range(epoch_num))\n"
     ]
    },
    {
     "data": {
      "application/vnd.jupyter.widget-view+json": {
       "model_id": "3dd18929204545569687e62970172d7a",
       "version_major": 2,
       "version_minor": 0
      },
      "text/plain": [
       "  0%|          | 0/2000 [00:00<?, ?it/s]"
      ]
     },
     "metadata": {},
     "output_type": "display_data"
    },
    {
     "data": {
      "application/vnd.jupyter.widget-view+json": {
       "model_id": "d7458f1d54b34806b3f8b6cccc43f9bf",
       "version_major": 2,
       "version_minor": 0
      },
      "text/plain": [
       "  0%|          | 0/2000 [00:00<?, ?it/s]"
      ]
     },
     "metadata": {},
     "output_type": "display_data"
    },
    {
     "data": {
      "application/vnd.jupyter.widget-view+json": {
       "model_id": "86ae4b9ca5e1447b8f39f76531f57030",
       "version_major": 2,
       "version_minor": 0
      },
      "text/plain": [
       "  0%|          | 0/2000 [00:00<?, ?it/s]"
      ]
     },
     "metadata": {},
     "output_type": "display_data"
    },
    {
     "data": {
      "application/vnd.jupyter.widget-view+json": {
       "model_id": "602f4478f1184e8d87e1a354387dc2cd",
       "version_major": 2,
       "version_minor": 0
      },
      "text/plain": [
       "  0%|          | 0/2000 [00:00<?, ?it/s]"
      ]
     },
     "metadata": {},
     "output_type": "display_data"
    },
    {
     "data": {
      "application/vnd.jupyter.widget-view+json": {
       "model_id": "297f1780551a492aa73a6c29b96df6a0",
       "version_major": 2,
       "version_minor": 0
      },
      "text/plain": [
       "  0%|          | 0/2000 [00:00<?, ?it/s]"
      ]
     },
     "metadata": {},
     "output_type": "display_data"
    },
    {
     "data": {
      "text/plain": [
       "([0.06856674700975418,\n",
       "  0.07092997431755066,\n",
       "  0.06963121145963669,\n",
       "  0.07302738726139069,\n",
       "  0.07072072476148605],\n",
       " 0.07057520896196365)"
      ]
     },
     "execution_count": 91,
     "metadata": {},
     "output_type": "execute_result"
    }
   ],
   "source": [
    "# shared-model\n",
    "accs = []\n",
    "for k in range(5):\n",
    "    torch.manual_seed(42+k)\n",
    "    x_train, y_train, x_test, y_test = [],[],[],[]\n",
    "    for angle in make_angles():\n",
    "        (_x_train, _y_train), (x_val, y_val), (_x_test, _y_test) = gen(train_num, 2000, seed=42+k+int(angle),\n",
    "                                                                       angle=angle)\n",
    "        \n",
    "        _x_train = np.concatenate([_x_train, x_val])\n",
    "        _y_train = np.concatenate([_y_train, y_val])\n",
    "        x_train.extend(_x_train)\n",
    "        y_train.extend(_y_train)\n",
    "        x_test.extend(_x_test)\n",
    "        y_test.extend(_y_test)\n",
    "    \n",
    "    model = torch.nn.Linear(DIM,1) \n",
    "    opt = torch.optim.SGD(model.parameters(), lr=1e-1)\n",
    "    crit = torch.nn.MSELoss()\n",
    "    tq = tqdm.tqdm_notebook(range(epoch_num))\n",
    "    \n",
    "    for e in tq:\n",
    "        opt.zero_grad()\n",
    "        out = model(torch.tensor(x_train).float())[:,0]\n",
    "        loss = crit(out, torch.tensor(y_train).float())\n",
    "        loss.backward()\n",
    "        opt.step()\n",
    "        tq.set_description(str(loss.item()))\n",
    "    acc = crit2(model(torch.tensor(x_test).float())[:,0], torch.tensor(y_test).float()).item()\n",
    "    #acc = torch.eq(model(torch.tensor(x_test).float()).argmax(1), torch.tensor(y_test)).float().mean()\n",
    "    accs.append(acc)\n",
    "accs, np.mean(accs) \n",
    "# old: \n",
    "# 2d: 0.07\n",
    "# 3d: 0.07\n",
    "\n",
    "# 2d: 0.08\n",
    "# 3d: 0.07\n",
    "# 4d: 0.07"
   ]
  },
  {
   "cell_type": "code",
   "execution_count": 102,
   "id": "060981ab",
   "metadata": {},
   "outputs": [
    {
     "name": "stderr",
     "output_type": "stream",
     "text": [
      "<ipython-input-102-bf4ca8bd49cf>:20: TqdmDeprecationWarning: This function will be removed in tqdm==5.0.0\n",
      "Please use `tqdm.notebook.tqdm` instead of `tqdm.tqdm_notebook`\n",
      "  tq = tqdm.tqdm_notebook(range(epoch_num))\n"
     ]
    },
    {
     "data": {
      "application/vnd.jupyter.widget-view+json": {
       "model_id": "d7015ed9243e419ab3ef212453212e0d",
       "version_major": 2,
       "version_minor": 0
      },
      "text/plain": [
       "  0%|          | 0/2000 [00:00<?, ?it/s]"
      ]
     },
     "metadata": {},
     "output_type": "display_data"
    },
    {
     "data": {
      "application/vnd.jupyter.widget-view+json": {
       "model_id": "3e7e67256c1c45a8a58ee59d388851f5",
       "version_major": 2,
       "version_minor": 0
      },
      "text/plain": [
       "  0%|          | 0/2000 [00:00<?, ?it/s]"
      ]
     },
     "metadata": {},
     "output_type": "display_data"
    },
    {
     "data": {
      "application/vnd.jupyter.widget-view+json": {
       "model_id": "009c6a5298a14885bea3bfb176af3168",
       "version_major": 2,
       "version_minor": 0
      },
      "text/plain": [
       "  0%|          | 0/2000 [00:00<?, ?it/s]"
      ]
     },
     "metadata": {},
     "output_type": "display_data"
    },
    {
     "data": {
      "application/vnd.jupyter.widget-view+json": {
       "model_id": "c82ee888765e4b4c82e71bc25f09e6b0",
       "version_major": 2,
       "version_minor": 0
      },
      "text/plain": [
       "  0%|          | 0/2000 [00:00<?, ?it/s]"
      ]
     },
     "metadata": {},
     "output_type": "display_data"
    },
    {
     "data": {
      "application/vnd.jupyter.widget-view+json": {
       "model_id": "214a6cdf68d74c979b685bfb374f2ed2",
       "version_major": 2,
       "version_minor": 0
      },
      "text/plain": [
       "  0%|          | 0/2000 [00:00<?, ?it/s]"
      ]
     },
     "metadata": {},
     "output_type": "display_data"
    },
    {
     "data": {
      "text/plain": [
       "([0.010324080474674702,\n",
       "  0.01435939408838749,\n",
       "  0.01239052601158619,\n",
       "  0.010584849864244461,\n",
       "  0.018240517005324364],\n",
       " 0.013179873488843441)"
      ]
     },
     "execution_count": 102,
     "metadata": {},
     "output_type": "execute_result"
    }
   ],
   "source": [
    "# perfect-case\n",
    "accs = []\n",
    "for k in range(5):\n",
    "    torch.manual_seed(42+k)\n",
    "    x_train, y_train, x_test, y_test = [],[],[],[]\n",
    "    for angle in make_angles():\n",
    "        (_x_train, _y_train), (x_val, y_val), (_x_test, _y_test) = gen(train_num, 2000, seed=42+k+int(angle),\n",
    "                                                                       angle=0.0)\n",
    "        \n",
    "        _x_train = np.concatenate([_x_train, x_val])\n",
    "        _y_train = np.concatenate([_y_train, y_val])\n",
    "        x_train.extend(_x_train)\n",
    "        y_train.extend(_y_train)\n",
    "        x_test.extend(_x_test)\n",
    "        y_test.extend(_y_test)\n",
    "    \n",
    "    model = torch.nn.Linear(DIM,1) \n",
    "    opt = torch.optim.SGD(model.parameters(), lr=1e-1)\n",
    "    crit = torch.nn.MSELoss()\n",
    "    tq = tqdm.tqdm_notebook(range(epoch_num))\n",
    "    \n",
    "    for e in tq:\n",
    "        opt.zero_grad()\n",
    "        out = model(torch.tensor(x_train).float())[:,0]\n",
    "        loss = crit(out, torch.tensor(y_train).float())\n",
    "        loss.backward()\n",
    "        opt.step()\n",
    "        tq.set_description(str(loss.item()))\n",
    "    acc = crit2(model(torch.tensor(x_test).float())[:,0], torch.tensor(y_test).float()).item()\n",
    "    #acc = torch.eq(model(torch.tensor(x_test).float()).argmax(1), torch.tensor(y_test)).float().mean()\n",
    "    accs.append(acc)\n",
    "accs, np.mean(accs) \n",
    "# old: \n",
    "#2d: 0.006820007972419262\n",
    "#3d: 0.0062\n",
    "\n",
    "# 2d: 0.016 \n",
    "# 3d: 0.008\n",
    "# 4d: 0.009"
   ]
  },
  {
   "cell_type": "code",
   "execution_count": 93,
   "id": "2607f0d2",
   "metadata": {},
   "outputs": [],
   "source": [
    "class Rot(torch.nn.Module):\n",
    "    def __init__(self, angle = None):\n",
    "        super().__init__()\n",
    "        if angle is None:\n",
    "            angle = torch.randn(1)*90\n",
    "        else:\n",
    "            angle = torch.tensor(angle).float()\n",
    "        self.angle = torch.nn.Parameter(angle)\n",
    "    \n",
    "    def forward(self, x):\n",
    "        angle = self.angle * np.pi/2 / 90\n",
    "        c = torch.cos(angle)\n",
    "        s = torch.sin(angle)\n",
    "        M = torch.vstack([torch.hstack([c, -s]), torch.hstack([s, c])])\n",
    "        result = x * 1.0\n",
    "        result[:,:2] = (M@x[:,:2].T).T\n",
    "        return result\n"
   ]
  },
  {
   "cell_type": "code",
   "execution_count": 94,
   "id": "be35be28",
   "metadata": {},
   "outputs": [],
   "source": [
    "def make_inference(x, rots, models, gammas, use_softmax=True, only_angle=False, c_head = False):\n",
    "    if use_softmax:\n",
    "        g0 = torch.nn.functional.softmax(gammas[0])\n",
    "    else:\n",
    "        g0 = (gammas[0] == gammas[0].max()) * 1\n",
    "        \n",
    "    x = torch.sum(torch.cat([(r(x)*g0[i]).unsqueeze(2) for i, r in enumerate(rots)], 2), 2)\n",
    "    if only_angle:\n",
    "        return x \n",
    "    if c_head:\n",
    "        g1 = torch.zeros(gammas[1].shape)\n",
    "        g1[0] += 0\n",
    "    if use_softmax:\n",
    "        g1 = torch.nn.functional.softmax(gammas[1])\n",
    "    else:\n",
    "        g1 = (gammas[1] == gammas[1].max()) * 1\n",
    "\n",
    "    x = torch.sum(torch.cat([(m(x)*g1[i]).unsqueeze(2) for i, m in enumerate(models)], 2), 2)\n",
    "    \n",
    "    return x\n"
   ]
  },
  {
   "cell_type": "code",
   "execution_count": 95,
   "id": "ac9471ae",
   "metadata": {},
   "outputs": [],
   "source": [
    "nn = torch.nn\n",
    "class MdTripletLoss(nn.Module):\n",
    "    def __init__(self, m =0.0, p=2, subset_size = 8, k = 1.0):\n",
    "        super(MdTripletLoss, self).__init__()\n",
    "        self.triplet_loss = nn.TripletMarginLoss(margin=m, p=p)\n",
    "        self.rs = np.random.RandomState(42)\n",
    "        self.subset_size = subset_size\n",
    "        self.k = k\n",
    "        \n",
    "    def forward(self, h1: torch.Tensor, h2: torch.Tensor, labels1: torch.LongTensor, labels2: torch.LongTensor):\n",
    "        \"\"\"\n",
    "        :param: h1: hidden representations of size (bs, *), anchors\n",
    "        :param: h1: hidden representations of size (bs, *), positives and negatives candidates\n",
    "        \"\"\"\n",
    "        \n",
    "        bs = h1.size(0)\n",
    "        if bs > self.subset_size:\n",
    "            elems = list(range(bs))\n",
    "            self.rs.shuffle(elems)\n",
    "            h1 = h1[elems[:self.subset_size]]\n",
    "            labels1 = labels1[elems[:self.subset_size]]\n",
    "            self.rs.shuffle(elems)\n",
    "            h2 = h2[elems[:self.subset_size]]\n",
    "            labels2 = labels2[elems[:self.subset_size]]\n",
    "            bs = self.subset_size\n",
    "            \n",
    "        \n",
    "        h1 = h1.view(bs, -1)\n",
    "        h2 = h2.view(bs, -1)\n",
    "        \n",
    "        loss = 0.0\n",
    "        anch =  []\n",
    "        pos = []\n",
    "        neg = []\n",
    "        \n",
    "        for i in range(len(h1)):\n",
    "            found = False \n",
    "            for j in range(len(h2)):\n",
    "                if found:\n",
    "                    break\n",
    "                for k in range(j+1, len(h2)):\n",
    "                    if   abs(labels1[i] - labels2[j]) > abs(labels1[i] - labels2[k]):\\\n",
    "                         #torch.linalg.norm(h1[i] - h2[j]) < torch.linalg.norm(h1[i] - h2[k]) and\\\n",
    "                        anch.append(h1[i])\n",
    "                        pos.append(h2[k])\n",
    "                        neg.append(h2[j])\n",
    "                        found = True\n",
    "                        break\n",
    "                \n",
    "        if len(anch) >0:\n",
    "            a = torch.vstack(anch)\n",
    "            p = torch.vstack(pos)\n",
    "            n = torch.vstack(neg)\n",
    "            loss = self.triplet_loss(a, p, n)\n",
    "            return loss\n",
    "        else:\n",
    "            return 0.0\n",
    "    \n",
    "def calc_params(gammas):\n",
    "    cnt = 0\n",
    "    rots = set()\n",
    "    for i in range(D):\n",
    "        rots.add(gammas[i][0].argmax().item())\n",
    "    \n",
    "    linears = set()\n",
    "    for i in range(D):\n",
    "        linears.add(gammas[i][1].argmax().item())\n",
    "    return len(rots) + len(linears)*2\n"
   ]
  },
  {
   "cell_type": "code",
   "execution_count": 96,
   "id": "792212a6",
   "metadata": {},
   "outputs": [],
   "source": [
    "class ArchModel(torch.nn.Module):\n",
    "    def __init__(self):\n",
    "        super().__init__()\n",
    "        \n",
    "        self.gammas = [torch.nn.Parameter(torch.rand(2, D)) for _ in range(D)]\n",
    "        self.rots = torch.nn.ModuleList([Rot() for _ in range(D)])\n",
    "        self.models = torch.nn.ModuleList([torch.nn.Linear(DIM, 1) for _ in range(D)])\n",
    "    def forward(self, x, d, only_angle = False, use_softmax = True):\n",
    "        return make_inference(x, self.rots, self.models, self.gammas[d],\n",
    "                              use_softmax=use_softmax, only_angle=only_angle)\n",
    "   \n",
    "def multi_js_divergence(alphas) -> torch.tensor:\n",
    "    alpha_full = torch.stack(alphas, dim=0)\n",
    "    centroid = torch.mean(alpha_full, 0)\n",
    "    d_centroid = torch.distributions.Categorical(probs=centroid)\n",
    "    js = 0.0\n",
    "    for alpha in alphas:\n",
    "        d = torch.distributions.Categorical(probs=alpha)\n",
    "        js += 1.0/len(alphas) * \\\n",
    "            torch.distributions.kl.kl_divergence(d, d_centroid)\n",
    "    return js\n",
    "\n"
   ]
  },
  {
   "cell_type": "code",
   "execution_count": 97,
   "id": "ec225711",
   "metadata": {},
   "outputs": [],
   "source": [
    "def dartslike2(triplet_coef_search = 0.0, triplet_coef_train = 0.0, js_coef = 0.0, unroll: bool = True):\n",
    "    lr = 0.1 # for models\n",
    "    lr0 = 0.01 # for alpha\n",
    "    lr2 = 0.01\n",
    "    accs = []\n",
    "    param_num = []\n",
    "    tl = MdTripletLoss(p=1.0, subset_size=9999)\n",
    "    for k in range(5):\n",
    "        torch.manual_seed(42+k)\n",
    "        x_train, y_train, x_val, y_val, x_test, y_test = [],[],[],[],[],[]\n",
    "        for angle in make_angles():\n",
    "            (_x_train, _y_train), (_x_val, _y_val), (_x_test, _y_test) = gen(train_num, 2000, seed=42+k+int(angle),\n",
    "                                                                             angle=angle)\n",
    "            x_train.append(_x_train)\n",
    "            y_train.append(_y_train)\n",
    "            x_val.append(_x_val)\n",
    "            y_val.append(_y_val)\n",
    "            x_test.append(_x_test)\n",
    "            y_test.append(_y_test)\n",
    "        model = ArchModel()\n",
    "        rs = np.random.RandomState(42+k)\n",
    "        \n",
    "        opt = torch.optim.SGD([{'params': model.rots.parameters(), 'lr': lr0},\n",
    "                              {'params': model.models.parameters(), 'lr': lr}],\n",
    "                              lr=lr)\n",
    "                              \n",
    "                              \n",
    "        opt2 = torch.optim.SGD(model.gammas, lr=lr2)\n",
    "\n",
    "        crit = torch.nn.MSELoss()\n",
    "        tq = tqdm.tqdm_notebook(range(epoch_num//2))\n",
    "        losses = []\n",
    "        losses2 = []\n",
    "        for e in tq:\n",
    "            \n",
    "            \n",
    "            for d in range(D):\n",
    "            \n",
    "                opt2.zero_grad()\n",
    "                d2 = rs.choice([i for i in range(D) if i != d])\n",
    "\n",
    "                if unroll:\n",
    "                    opt.zero_grad()\n",
    "                    x = torch.tensor(x_train[d]).float()\n",
    "                    y = torch.tensor(y_train[d]).float()\n",
    "\n",
    "                    x2 = torch.tensor(x_train[d2]).float()\n",
    "                    y2 = torch.tensor(y_train[d2]).float()\n",
    "\n",
    "                    out_angle1 = model(x, d, only_angle=True)\n",
    "                    out_angle2 = model(x2, d2, only_angle=True)\n",
    "\n",
    "                    out = model(x, d)[:,0]\n",
    "                    loss = crit(out, y)\n",
    "                    if triplet_coef_search:\n",
    "                        tloss = tl(out_angle1, out_angle2, y, y2) * triplet_coef_search\n",
    "                        loss += tloss\n",
    "                    grads = torch.autograd.grad(loss, model.parameters())\n",
    "                    with torch.no_grad():\n",
    "                        for p,g in zip(model.parameters(), grads):\n",
    "                            #print ('g', g)\n",
    "                            #print ('v0', p)\n",
    "                            p = p + lr * g\n",
    "                            #print ('v1', p)\n",
    "                            #break\n",
    "                x = torch.tensor(x_val[d]).float()\n",
    "                y = torch.tensor(y_val[d]).float()\n",
    "\n",
    "                x2 = torch.tensor(x_val[d2]).float()\n",
    "                y2 = torch.tensor(y_val[d2]).float()\n",
    "\n",
    "                out_angle1 = model(x, d, only_angle=True)\n",
    "                out_angle2 = model(x2, d2, only_angle=True)\n",
    "                \n",
    "                \n",
    "\n",
    "                out = model(x, d)[:,0]\n",
    "                loss2 = crit(out, y) \n",
    "                if triplet_coef_search:\n",
    "                        tloss = tl(out_angle1, out_angle2, y, y2) * triplet_coef_search\n",
    "\n",
    "                        loss2 += tloss\n",
    "                if js_coef:\n",
    "                    loss2 += multi_js_divergence(model.gammas).mean() * js_coef\n",
    "                #print ('gg', grads[0])\n",
    "                loss2.backward()\n",
    "                #print ('gg', grads[0])\n",
    "                #if triplet_coef_search:\n",
    "                #    print ([(r.angle.item(), r.angle.grad) for r in rots]) \n",
    "                opt2.step()\n",
    "                \n",
    "                if unroll:\n",
    "                    with torch.no_grad():\n",
    "                        for i,g in zip(model.parameters(), grads):\n",
    "                            #print ('g', g)\n",
    "                            p = p - lr * g\n",
    "                            #print ('v2', p)\n",
    "                            #break\n",
    "                #1/0\n",
    "                opt.zero_grad()\n",
    "                x = torch.tensor(x_train[d]).float()\n",
    "                y = torch.tensor(y_train[d]).float()\n",
    "\n",
    "                x2 = torch.tensor(x_train[d2]).float()\n",
    "                y2 = torch.tensor(y_train[d2]).float()\n",
    "\n",
    "                out_angle1 = model(x, d, only_angle=True)\n",
    "                out_angle2 = model(x2, d2, only_angle=True)\n",
    "                \n",
    "                out = model(x, d)[:,0]\n",
    "                loss = crit(out, y)\n",
    "                if triplet_coef_search:\n",
    "                    tloss = tl(out_angle1, out_angle2, y, y2) * triplet_coef_search\n",
    "                    loss += tloss\n",
    "                loss.backward()\n",
    "                opt.step()\n",
    "                losses.append(loss.item())\n",
    "                losses2.append(loss2.item())\n",
    "            \n",
    "            tq.set_description(str(np.mean(losses))+';'+str(np.mean(losses2)))\n",
    "\n",
    "        tq = tqdm.tqdm_notebook(range(epoch_num//2))\n",
    "        \n",
    "        \n",
    "        x_train = np.concatenate([x_train, x_val], axis=1)\n",
    "        y_train =  np.concatenate([y_train, y_val], axis=1)\n",
    "        \"\"\"\n",
    "        new_model = ArchModel()\n",
    "        for g_old, g_new in zip(model.gammas, new_model.gammas):\n",
    "            g_new.data *= 0.0\n",
    "            g_new.data += g_old.data \n",
    "        model = new_model\n",
    "        \n",
    "        gammas = model.gammas\n",
    "        gammas[0][1].data *=0 \n",
    "        gammas[1][1].data *=0 \n",
    "        \n",
    "        gammas[0][1, 1].data +=1 \n",
    "        gammas[1][1, 1].data +=1\n",
    "        \n",
    "        \n",
    "        gammas[0][0].data *=0 \n",
    "        gammas[1][0].data *=0 \n",
    "        \n",
    "        gammas[0][0, 1].data +=1 \n",
    "        gammas[1][0, 0].data +=1\n",
    "        \n",
    "        model.rots[0].angle.data *= 0.0\n",
    "        model.rots[1].angle.data *= 0.0\n",
    "        model.rots[1].angle.data += 180.0\n",
    "        \"\"\"\n",
    "        \n",
    "        for g in model.gammas:\n",
    "            print (g.argmax(1))\n",
    "        \n",
    "        for g in model.gammas:\n",
    "            print (g)\n",
    "        \n",
    "        opt = torch.optim.SGD([{'params': model.rots.parameters(), 'lr': lr0},\n",
    "                              {'params': model.models.parameters(), 'lr': lr}],\n",
    "                              lr=lr)\n",
    "        \n",
    "        for e in tq:\n",
    "\n",
    "            for d in range(D):\n",
    "                loss = 0.0\n",
    "                opt.zero_grad()\n",
    "\n",
    "                d2 = rs.choice([i for i in range(D) if i != d])\n",
    "\n",
    "                x = torch.tensor(x_train[d]).float()\n",
    "                y = torch.tensor(y_train[d]).float()\n",
    "                out = model(x, d, use_softmax=False)[:,0]\n",
    "\n",
    "               \n",
    "                loss = crit(out, y) \n",
    "                if triplet_coef_train:\n",
    "                    x2 = torch.tensor(x_train[d2]).float()\n",
    "                    y2 = torch.tensor(y_train[d2]).float()\n",
    "\n",
    "                    out_angle1 = model(x, d, only_angle=True, use_softmax=False)\n",
    "                    out_angle2 = model(x2, d2, only_angle=True, use_softmax=False)\n",
    "\n",
    "                    tloss = tl(out_angle1, out_angle2, y, y2)* triplet_coef_train\n",
    "                    loss += tloss\n",
    "                    \n",
    "\n",
    "                loss.backward()\n",
    "                \n",
    "            #print ('before', [r.angle.item() for r in rots])\n",
    "\n",
    "                opt.step()\n",
    "            #print ([r.angle.grad for r in rots])\n",
    "            #print ('after', [r.angle.item() for r in rots])\n",
    "\n",
    "            angles= [str(r.angle.item()) for r in model.rots]\n",
    "            #tq.set_description(str(loss.item())+';'+str(loss2.item()))\n",
    "            tq.set_description(' '.join(angles))\n",
    "        total = 0\n",
    "        for d in range(D):\n",
    "\n",
    "            out = model(torch.tensor(x_test[d]).float(), d, use_softmax=False)\n",
    "            total = crit2(out[:,0], torch.tensor(y_test[d]).float()).item()\n",
    "\n",
    "        acc = total/D\n",
    "        accs.append(acc)\n",
    "        param_num.append(calc_params(model.gammas))\n",
    "        print (acc, param_num[-1])\n",
    "    return (np.mean(accs), np.mean(param_num))\n",
    "#dartslike2(10000.0, 10000.0)"
   ]
  },
  {
   "cell_type": "code",
   "execution_count": 98,
   "id": "8259e050",
   "metadata": {},
   "outputs": [
    {
     "name": "stderr",
     "output_type": "stream",
     "text": [
      "<ipython-input-97-e1c89ca37118>:31: TqdmDeprecationWarning: This function will be removed in tqdm==5.0.0\n",
      "Please use `tqdm.notebook.tqdm` instead of `tqdm.tqdm_notebook`\n",
      "  tq = tqdm.tqdm_notebook(range(epoch_num//2))\n"
     ]
    },
    {
     "data": {
      "application/vnd.jupyter.widget-view+json": {
       "model_id": "ec65626ceccd45aa95f969fc14f670fb",
       "version_major": 2,
       "version_minor": 0
      },
      "text/plain": [
       "  0%|          | 0/1000 [00:00<?, ?it/s]"
      ]
     },
     "metadata": {},
     "output_type": "display_data"
    },
    {
     "name": "stderr",
     "output_type": "stream",
     "text": [
      "<ipython-input-94-077aec73239a>:3: UserWarning: Implicit dimension choice for softmax has been deprecated. Change the call to include dim=X as an argument.\n",
      "  g0 = torch.nn.functional.softmax(gammas[0])\n",
      "<ipython-input-94-077aec73239a>:14: UserWarning: Implicit dimension choice for softmax has been deprecated. Change the call to include dim=X as an argument.\n",
      "  g1 = torch.nn.functional.softmax(gammas[1])\n",
      "<ipython-input-97-e1c89ca37118>:122: TqdmDeprecationWarning: This function will be removed in tqdm==5.0.0\n",
      "Please use `tqdm.notebook.tqdm` instead of `tqdm.tqdm_notebook`\n",
      "  tq = tqdm.tqdm_notebook(range(epoch_num//2))\n"
     ]
    },
    {
     "data": {
      "application/vnd.jupyter.widget-view+json": {
       "model_id": "f4490b5d668949e1b41509a1f57d9bd6",
       "version_major": 2,
       "version_minor": 0
      },
      "text/plain": [
       "  0%|          | 0/1000 [00:00<?, ?it/s]"
      ]
     },
     "metadata": {},
     "output_type": "display_data"
    },
    {
     "name": "stdout",
     "output_type": "stream",
     "text": [
      "tensor([3, 3])\n",
      "tensor([0, 0])\n",
      "tensor([0, 3])\n",
      "tensor([2, 2])\n",
      "Parameter containing:\n",
      "tensor([[0.8832, 0.9156, 0.3823, 0.9583],\n",
      "        [0.3901, 0.5953, 0.2587, 0.7974]], requires_grad=True)\n",
      "Parameter containing:\n",
      "tensor([[0.9423, 0.1347, 0.9328, 0.5924],\n",
      "        [0.8704, 0.6003, 0.7208, 0.4160]], requires_grad=True)\n",
      "Parameter containing:\n",
      "tensor([[0.8833, 0.5729, 0.2679, 0.6293],\n",
      "        [0.2820, 0.4298, 0.3076, 0.8201]], requires_grad=True)\n",
      "Parameter containing:\n",
      "tensor([[0.1050, 0.2672, 0.3603, 0.2006],\n",
      "        [0.5554, 0.0548, 0.8893, 0.0806]], requires_grad=True)\n",
      "0.01534047070890665 9\n"
     ]
    },
    {
     "data": {
      "application/vnd.jupyter.widget-view+json": {
       "model_id": "35e5b2dd43bb4f4aa2f968f44c5a0827",
       "version_major": 2,
       "version_minor": 0
      },
      "text/plain": [
       "  0%|          | 0/1000 [00:00<?, ?it/s]"
      ]
     },
     "metadata": {},
     "output_type": "display_data"
    },
    {
     "data": {
      "application/vnd.jupyter.widget-view+json": {
       "model_id": "96697ba6f4c944019fc33b75e2d72d20",
       "version_major": 2,
       "version_minor": 0
      },
      "text/plain": [
       "  0%|          | 0/1000 [00:00<?, ?it/s]"
      ]
     },
     "metadata": {},
     "output_type": "display_data"
    },
    {
     "name": "stdout",
     "output_type": "stream",
     "text": [
      "tensor([2, 2])\n",
      "tensor([2, 3])\n",
      "tensor([2, 3])\n",
      "tensor([1, 0])\n",
      "Parameter containing:\n",
      "tensor([[0.4538, 0.1979, 0.9180, 0.3479],\n",
      "        [0.1455, 0.1039, 0.5600, 0.0814]], requires_grad=True)\n",
      "Parameter containing:\n",
      "tensor([[0.7505, 0.6231, 0.9386, 0.1337],\n",
      "        [0.5298, 0.5135, 0.5809, 0.6718]], requires_grad=True)\n",
      "Parameter containing:\n",
      "tensor([[0.4271, 0.2755, 0.8415, 0.1554],\n",
      "        [0.1208, 0.7169, 0.3439, 0.8650]], requires_grad=True)\n",
      "Parameter containing:\n",
      "tensor([[0.1315, 0.8373, 0.5637, 0.4132],\n",
      "        [0.8664, 0.2721, 0.5899, 0.3252]], requires_grad=True)\n",
      "0.017621809616684914 8\n"
     ]
    },
    {
     "data": {
      "application/vnd.jupyter.widget-view+json": {
       "model_id": "8b035bb3526a482a860404690b8414f7",
       "version_major": 2,
       "version_minor": 0
      },
      "text/plain": [
       "  0%|          | 0/1000 [00:00<?, ?it/s]"
      ]
     },
     "metadata": {},
     "output_type": "display_data"
    },
    {
     "data": {
      "application/vnd.jupyter.widget-view+json": {
       "model_id": "446598c2a4e04a47a86a0b3321b821ad",
       "version_major": 2,
       "version_minor": 0
      },
      "text/plain": [
       "  0%|          | 0/1000 [00:00<?, ?it/s]"
      ]
     },
     "metadata": {},
     "output_type": "display_data"
    },
    {
     "name": "stdout",
     "output_type": "stream",
     "text": [
      "tensor([2, 1])\n",
      "tensor([0, 0])\n",
      "tensor([2, 2])\n",
      "tensor([3, 3])\n",
      "Parameter containing:\n",
      "tensor([[0.7170, 0.7306, 0.8312, 0.1337],\n",
      "        [0.6284, 0.7161, 0.2912, 0.2213]], requires_grad=True)\n",
      "Parameter containing:\n",
      "tensor([[0.9829, 0.8780, 0.9631, 0.7805],\n",
      "        [0.8010, 0.0684, 0.7224, 0.3345]], requires_grad=True)\n",
      "Parameter containing:\n",
      "tensor([[0.5378, 0.7121, 0.7938, 0.2794],\n",
      "        [0.8887, 0.6729, 0.8955, 0.4499]], requires_grad=True)\n",
      "Parameter containing:\n",
      "tensor([[0.4799, 0.3503, 0.0462, 0.7504],\n",
      "        [0.7811, 0.4300, 0.1132, 0.8415]], requires_grad=True)\n",
      "0.00875304639339447 11\n"
     ]
    },
    {
     "data": {
      "application/vnd.jupyter.widget-view+json": {
       "model_id": "8015fe28ec0c4eabb20a0b900f708a7f",
       "version_major": 2,
       "version_minor": 0
      },
      "text/plain": [
       "  0%|          | 0/1000 [00:00<?, ?it/s]"
      ]
     },
     "metadata": {},
     "output_type": "display_data"
    },
    {
     "data": {
      "application/vnd.jupyter.widget-view+json": {
       "model_id": "17a96a9baec6471880c48bf9fa9a936d",
       "version_major": 2,
       "version_minor": 0
      },
      "text/plain": [
       "  0%|          | 0/1000 [00:00<?, ?it/s]"
      ]
     },
     "metadata": {},
     "output_type": "display_data"
    },
    {
     "name": "stdout",
     "output_type": "stream",
     "text": [
      "tensor([1, 2])\n",
      "tensor([0, 2])\n",
      "tensor([3, 3])\n",
      "tensor([1, 1])\n",
      "Parameter containing:\n",
      "tensor([[0.1854, 0.9671, 0.6828, 0.8952],\n",
      "        [0.0501, 0.5841, 0.7377, 0.0768]], requires_grad=True)\n",
      "Parameter containing:\n",
      "tensor([[0.7844, 0.1480, 0.0381, 0.1041],\n",
      "        [0.4112, 0.2540, 0.7913, 0.5476]], requires_grad=True)\n",
      "Parameter containing:\n",
      "tensor([[0.6850, 0.6488, 0.6122, 0.9858],\n",
      "        [0.1825, 0.1282, 0.4311, 0.9626]], requires_grad=True)\n",
      "Parameter containing:\n",
      "tensor([[0.6246, 0.7819, 0.4108, 0.3465],\n",
      "        [0.2900, 0.7298, 0.3974, 0.6055]], requires_grad=True)\n",
      "0.015362891368567944 9\n"
     ]
    },
    {
     "data": {
      "application/vnd.jupyter.widget-view+json": {
       "model_id": "db9266f442374d269c88bfcb62768580",
       "version_major": 2,
       "version_minor": 0
      },
      "text/plain": [
       "  0%|          | 0/1000 [00:00<?, ?it/s]"
      ]
     },
     "metadata": {},
     "output_type": "display_data"
    },
    {
     "data": {
      "application/vnd.jupyter.widget-view+json": {
       "model_id": "c9b21b7af5cf46ce816b21202709b3ea",
       "version_major": 2,
       "version_minor": 0
      },
      "text/plain": [
       "  0%|          | 0/1000 [00:00<?, ?it/s]"
      ]
     },
     "metadata": {},
     "output_type": "display_data"
    },
    {
     "name": "stdout",
     "output_type": "stream",
     "text": [
      "tensor([0, 1])\n",
      "tensor([2, 0])\n",
      "tensor([1, 2])\n",
      "tensor([2, 0])\n",
      "Parameter containing:\n",
      "tensor([[0.6566, 0.0582, 0.5212, 0.1621],\n",
      "        [0.7452, 0.8399, 0.0739, 0.4655]], requires_grad=True)\n",
      "Parameter containing:\n",
      "tensor([[0.1479, 0.3602, 0.9323, 0.0168],\n",
      "        [0.9702, 0.4104, 0.8734, 0.8723]], requires_grad=True)\n",
      "Parameter containing:\n",
      "tensor([[0.6589, 0.8172, 0.4793, 0.7366],\n",
      "        [0.0287, 0.7103, 0.7319, 0.1095]], requires_grad=True)\n",
      "Parameter containing:\n",
      "tensor([[0.1454, 0.2626, 0.9038, 0.6625],\n",
      "        [0.9824, 0.9360, 0.8630, 0.9663]], requires_grad=True)\n",
      "0.017324361950159073 9\n"
     ]
    },
    {
     "data": {
      "text/plain": [
       "(0.01488051600754261, 9.2)"
      ]
     },
     "execution_count": 98,
     "metadata": {},
     "output_type": "execute_result"
    }
   ],
   "source": [
    "# no reg\n",
    "dartslike2(0.0, 0.0)\n",
    "# old:\n",
    "# 2d: 0.02343731336295605, 4.0\n",
    "# 3d: 0.016, 6.6\n",
    "\n",
    "#2d: 0.03537779226899147, 4.0\n",
    "#3d: 0.017075569182634354, 6.6\n",
    "#4d: (0.01488051600754261, 9.2)"
   ]
  },
  {
   "cell_type": "code",
   "execution_count": 99,
   "id": "37119076",
   "metadata": {},
   "outputs": [
    {
     "name": "stderr",
     "output_type": "stream",
     "text": [
      "<ipython-input-97-e1c89ca37118>:31: TqdmDeprecationWarning: This function will be removed in tqdm==5.0.0\n",
      "Please use `tqdm.notebook.tqdm` instead of `tqdm.tqdm_notebook`\n",
      "  tq = tqdm.tqdm_notebook(range(epoch_num//2))\n"
     ]
    },
    {
     "data": {
      "application/vnd.jupyter.widget-view+json": {
       "model_id": "45f4e563b19b412a9fcd967c2017eeea",
       "version_major": 2,
       "version_minor": 0
      },
      "text/plain": [
       "  0%|          | 0/1000 [00:00<?, ?it/s]"
      ]
     },
     "metadata": {},
     "output_type": "display_data"
    },
    {
     "name": "stderr",
     "output_type": "stream",
     "text": [
      "<ipython-input-94-077aec73239a>:3: UserWarning: Implicit dimension choice for softmax has been deprecated. Change the call to include dim=X as an argument.\n",
      "  g0 = torch.nn.functional.softmax(gammas[0])\n",
      "<ipython-input-94-077aec73239a>:14: UserWarning: Implicit dimension choice for softmax has been deprecated. Change the call to include dim=X as an argument.\n",
      "  g1 = torch.nn.functional.softmax(gammas[1])\n",
      "<ipython-input-97-e1c89ca37118>:122: TqdmDeprecationWarning: This function will be removed in tqdm==5.0.0\n",
      "Please use `tqdm.notebook.tqdm` instead of `tqdm.tqdm_notebook`\n",
      "  tq = tqdm.tqdm_notebook(range(epoch_num//2))\n"
     ]
    },
    {
     "data": {
      "application/vnd.jupyter.widget-view+json": {
       "model_id": "6c810711ebee40d08a0d2a8fb8391a51",
       "version_major": 2,
       "version_minor": 0
      },
      "text/plain": [
       "  0%|          | 0/1000 [00:00<?, ?it/s]"
      ]
     },
     "metadata": {},
     "output_type": "display_data"
    },
    {
     "name": "stdout",
     "output_type": "stream",
     "text": [
      "tensor([3, 3])\n",
      "tensor([0, 0])\n",
      "tensor([1, 3])\n",
      "tensor([2, 2])\n",
      "Parameter containing:\n",
      "tensor([[-2.5283, -2.7558,  0.6322,  7.7914],\n",
      "        [ 0.3917,  0.5991,  0.2530,  0.7977]], requires_grad=True)\n",
      "Parameter containing:\n",
      "tensor([[ 4.3672, -3.1780,  0.2710,  1.1419],\n",
      "        [ 0.8674,  0.5886,  0.7350,  0.4166]], requires_grad=True)\n",
      "Parameter containing:\n",
      "tensor([[-0.1411,  4.5671, -0.9066, -1.1660],\n",
      "        [ 0.2822,  0.4345,  0.3020,  0.8210]], requires_grad=True)\n",
      "Parameter containing:\n",
      "tensor([[-3.7467, -3.4386,  7.2505,  0.8678],\n",
      "        [ 0.5448,  0.0396,  0.9222,  0.0737]], requires_grad=True)\n",
      "0.009076532907783985 10\n"
     ]
    },
    {
     "data": {
      "application/vnd.jupyter.widget-view+json": {
       "model_id": "5f7b7c4963cd40b2bb05e7301b46abbc",
       "version_major": 2,
       "version_minor": 0
      },
      "text/plain": [
       "  0%|          | 0/1000 [00:00<?, ?it/s]"
      ]
     },
     "metadata": {},
     "output_type": "display_data"
    },
    {
     "data": {
      "application/vnd.jupyter.widget-view+json": {
       "model_id": "89c1d1a83d27460b91ff495405b8f0cf",
       "version_major": 2,
       "version_minor": 0
      },
      "text/plain": [
       "  0%|          | 0/1000 [00:00<?, ?it/s]"
      ]
     },
     "metadata": {},
     "output_type": "display_data"
    },
    {
     "name": "stdout",
     "output_type": "stream",
     "text": [
      "tensor([3, 2])\n",
      "tensor([0, 3])\n",
      "tensor([2, 3])\n",
      "tensor([1, 0])\n",
      "Parameter containing:\n",
      "tensor([[-1.5949, -0.8412, -2.7876,  7.1413],\n",
      "        [ 0.1515,  0.0946,  0.5703,  0.0744]], requires_grad=True)\n",
      "Parameter containing:\n",
      "tensor([[ 8.8506, -2.1934, -2.7439, -1.4675],\n",
      "        [ 0.5220,  0.5232,  0.5605,  0.6903]], requires_grad=True)\n",
      "Parameter containing:\n",
      "tensor([[-1.1780, -2.2187,  7.4021, -2.3059],\n",
      "        [ 0.1146,  0.7202,  0.3350,  0.8769]], requires_grad=True)\n",
      "Parameter containing:\n",
      "tensor([[-2.6189,  8.4810, -2.7957, -1.1210],\n",
      "        [ 0.8628,  0.2783,  0.5840,  0.3284]], requires_grad=True)\n",
      "0.010668590664863586 10\n"
     ]
    },
    {
     "data": {
      "application/vnd.jupyter.widget-view+json": {
       "model_id": "a79a13981f8441efa37c10602f194bb3",
       "version_major": 2,
       "version_minor": 0
      },
      "text/plain": [
       "  0%|          | 0/1000 [00:00<?, ?it/s]"
      ]
     },
     "metadata": {},
     "output_type": "display_data"
    },
    {
     "data": {
      "application/vnd.jupyter.widget-view+json": {
       "model_id": "99729f05ac6940b4b3795a8301f8f123",
       "version_major": 2,
       "version_minor": 0
      },
      "text/plain": [
       "  0%|          | 0/1000 [00:00<?, ?it/s]"
      ]
     },
     "metadata": {},
     "output_type": "display_data"
    },
    {
     "name": "stdout",
     "output_type": "stream",
     "text": [
      "tensor([3, 1])\n",
      "tensor([2, 0])\n",
      "tensor([1, 2])\n",
      "tensor([1, 3])\n",
      "Parameter containing:\n",
      "tensor([[-1.1542, -2.6737, -1.6668,  7.9071],\n",
      "        [ 0.6268,  0.7216,  0.2915,  0.2171]], requires_grad=True)\n",
      "Parameter containing:\n",
      "tensor([[-0.7223, -1.0273,  6.6966, -1.3425],\n",
      "        [ 0.8028,  0.0657,  0.7225,  0.3353]], requires_grad=True)\n",
      "Parameter containing:\n",
      "tensor([[-3.0036,  5.4971,  2.5948, -2.7653],\n",
      "        [ 0.8934,  0.6669,  0.8978,  0.4489]], requires_grad=True)\n",
      "Parameter containing:\n",
      "tensor([[ 1.2382,  5.6749, -3.1343, -2.1520],\n",
      "        [ 0.7782,  0.4330,  0.1133,  0.8414]], requires_grad=True)\n",
      "0.009599536657333374 11\n"
     ]
    },
    {
     "data": {
      "application/vnd.jupyter.widget-view+json": {
       "model_id": "eaa38d9d9c18452fa2b6f1fbbe8914bd",
       "version_major": 2,
       "version_minor": 0
      },
      "text/plain": [
       "  0%|          | 0/1000 [00:00<?, ?it/s]"
      ]
     },
     "metadata": {},
     "output_type": "display_data"
    },
    {
     "data": {
      "application/vnd.jupyter.widget-view+json": {
       "model_id": "90e92f6c0f1a421aba01b5869a31202e",
       "version_major": 2,
       "version_minor": 0
      },
      "text/plain": [
       "  0%|          | 0/1000 [00:00<?, ?it/s]"
      ]
     },
     "metadata": {},
     "output_type": "display_data"
    },
    {
     "name": "stdout",
     "output_type": "stream",
     "text": [
      "tensor([1, 2])\n",
      "tensor([1, 2])\n",
      "tensor([3, 3])\n",
      "tensor([2, 1])\n",
      "Parameter containing:\n",
      "tensor([[-1.9955,  8.2286, -1.4443, -2.0582],\n",
      "        [ 0.0505,  0.5722,  0.7506,  0.0754]], requires_grad=True)\n",
      "Parameter containing:\n",
      "tensor([[-0.3737,  1.5546,  1.0041, -1.1102],\n",
      "        [ 0.4090,  0.2518,  0.7958,  0.5475]], requires_grad=True)\n",
      "Parameter containing:\n",
      "tensor([[-1.0391, -1.8535, -2.1180,  7.9424],\n",
      "        [ 0.1824,  0.1291,  0.4295,  0.9634]], requires_grad=True)\n",
      "Parameter containing:\n",
      "tensor([[-1.5081, -2.0694,  7.7285, -1.9873],\n",
      "        [ 0.2860,  0.7429,  0.3780,  0.6158]], requires_grad=True)\n",
      "0.008096055127680302 9\n"
     ]
    },
    {
     "data": {
      "application/vnd.jupyter.widget-view+json": {
       "model_id": "7283becfba704fc59fec6adc9681e23f",
       "version_major": 2,
       "version_minor": 0
      },
      "text/plain": [
       "  0%|          | 0/1000 [00:00<?, ?it/s]"
      ]
     },
     "metadata": {},
     "output_type": "display_data"
    },
    {
     "data": {
      "application/vnd.jupyter.widget-view+json": {
       "model_id": "71e4a4aa6b75460aab14855945e6c80c",
       "version_major": 2,
       "version_minor": 0
      },
      "text/plain": [
       "  0%|          | 0/1000 [00:00<?, ?it/s]"
      ]
     },
     "metadata": {},
     "output_type": "display_data"
    },
    {
     "name": "stdout",
     "output_type": "stream",
     "text": [
      "tensor([2, 1])\n",
      "tensor([1, 0])\n",
      "tensor([0, 2])\n",
      "tensor([0, 0])\n",
      "Parameter containing:\n",
      "tensor([[-1.4323, -1.3248,  2.9234,  1.2319],\n",
      "        [ 0.7404,  0.8466,  0.0721,  0.4656]], requires_grad=True)\n",
      "Parameter containing:\n",
      "tensor([[-0.5106,  7.0278, -2.4625, -2.5975],\n",
      "        [ 0.9712,  0.4126,  0.8701,  0.8724]], requires_grad=True)\n",
      "Parameter containing:\n",
      "tensor([[ 6.9504, -0.2166, -2.0633, -1.9785],\n",
      "        [ 0.0268,  0.7147,  0.7300,  0.1088]], requires_grad=True)\n",
      "Parameter containing:\n",
      "tensor([[ 6.7994, -2.0254, -2.1724, -0.6273],\n",
      "        [ 0.9807,  0.9333,  0.8641,  0.9696]], requires_grad=True)\n",
      "0.01814030297100544 9\n"
     ]
    },
    {
     "data": {
      "text/plain": [
       "(0.011116203665733338, 9.8)"
      ]
     },
     "execution_count": 99,
     "metadata": {},
     "output_type": "execute_result"
    }
   ],
   "source": [
    "# triplets\n",
    "# old:\n",
    "#2d: 0.008606004761531949, 4.8\n",
    "\n",
    "# 2d: 0.0240134846419096, 4.6\n",
    "# 3d: 0.010908304899930953, 7.0\n",
    "# 4d: (0.011116203665733338, 9.8)\n",
    "dartslike2(10000.0, 10000.0)"
   ]
  },
  {
   "cell_type": "code",
   "execution_count": 100,
   "id": "f7094286",
   "metadata": {},
   "outputs": [
    {
     "name": "stderr",
     "output_type": "stream",
     "text": [
      "<ipython-input-97-e1c89ca37118>:31: TqdmDeprecationWarning: This function will be removed in tqdm==5.0.0\n",
      "Please use `tqdm.notebook.tqdm` instead of `tqdm.tqdm_notebook`\n",
      "  tq = tqdm.tqdm_notebook(range(epoch_num//2))\n"
     ]
    },
    {
     "data": {
      "application/vnd.jupyter.widget-view+json": {
       "model_id": "16e41f18269847a7ba0808bba027e44c",
       "version_major": 2,
       "version_minor": 0
      },
      "text/plain": [
       "  0%|          | 0/1000 [00:00<?, ?it/s]"
      ]
     },
     "metadata": {},
     "output_type": "display_data"
    },
    {
     "name": "stderr",
     "output_type": "stream",
     "text": [
      "<ipython-input-94-077aec73239a>:3: UserWarning: Implicit dimension choice for softmax has been deprecated. Change the call to include dim=X as an argument.\n",
      "  g0 = torch.nn.functional.softmax(gammas[0])\n",
      "<ipython-input-94-077aec73239a>:14: UserWarning: Implicit dimension choice for softmax has been deprecated. Change the call to include dim=X as an argument.\n",
      "  g1 = torch.nn.functional.softmax(gammas[1])\n",
      "<ipython-input-97-e1c89ca37118>:122: TqdmDeprecationWarning: This function will be removed in tqdm==5.0.0\n",
      "Please use `tqdm.notebook.tqdm` instead of `tqdm.tqdm_notebook`\n",
      "  tq = tqdm.tqdm_notebook(range(epoch_num//2))\n"
     ]
    },
    {
     "data": {
      "application/vnd.jupyter.widget-view+json": {
       "model_id": "1fa64b720c2741afa188d122e5d72398",
       "version_major": 2,
       "version_minor": 0
      },
      "text/plain": [
       "  0%|          | 0/1000 [00:00<?, ?it/s]"
      ]
     },
     "metadata": {},
     "output_type": "display_data"
    },
    {
     "name": "stdout",
     "output_type": "stream",
     "text": [
      "tensor([0, 2])\n",
      "tensor([0, 2])\n",
      "tensor([0, 2])\n",
      "tensor([0, 2])\n",
      "Parameter containing:\n",
      "tensor([[1.0081, 0.6950, 0.6811, 0.8435],\n",
      "        [0.5465, 0.4668, 0.6008, 0.5778]], requires_grad=True)\n",
      "Parameter containing:\n",
      "tensor([[0.9021, 0.6220, 0.6094, 0.7548],\n",
      "        [0.6656, 0.5692, 0.7325, 0.7036]], requires_grad=True)\n",
      "Parameter containing:\n",
      "tensor([[0.7723, 0.5325, 0.5219, 0.6464],\n",
      "        [0.5102, 0.4353, 0.5604, 0.5386]], requires_grad=True)\n",
      "Parameter containing:\n",
      "tensor([[0.3138, 0.2163, 0.2120, 0.2626],\n",
      "        [0.5466, 0.4671, 0.6006, 0.5783]], requires_grad=True)\n",
      "0.01659386046230793 3\n"
     ]
    },
    {
     "data": {
      "application/vnd.jupyter.widget-view+json": {
       "model_id": "df13e1a426454160bd2a11b1b2627b10",
       "version_major": 2,
       "version_minor": 0
      },
      "text/plain": [
       "  0%|          | 0/1000 [00:00<?, ?it/s]"
      ]
     },
     "metadata": {},
     "output_type": "display_data"
    },
    {
     "data": {
      "application/vnd.jupyter.widget-view+json": {
       "model_id": "f028f6762afc48898ef26ed0ccbbfd3c",
       "version_major": 2,
       "version_minor": 0
      },
      "text/plain": [
       "  0%|          | 0/1000 [00:00<?, ?it/s]"
      ]
     },
     "metadata": {},
     "output_type": "display_data"
    },
    {
     "name": "stdout",
     "output_type": "stream",
     "text": [
      "tensor([2, 3])\n",
      "tensor([2, 3])\n",
      "tensor([2, 3])\n",
      "tensor([2, 3])\n",
      "Parameter containing:\n",
      "tensor([[0.4698, 0.5202, 0.8046, 0.2793],\n",
      "        [0.2964, 0.2886, 0.3259, 0.3529]], requires_grad=True)\n",
      "Parameter containing:\n",
      "tensor([[0.5782, 0.6403, 0.9900, 0.3438],\n",
      "        [0.5400, 0.5263, 0.5959, 0.6434]], requires_grad=True)\n",
      "Parameter containing:\n",
      "tensor([[0.4239, 0.4693, 0.7259, 0.2520],\n",
      "        [0.5564, 0.5415, 0.6116, 0.6620]], requires_grad=True)\n",
      "Parameter containing:\n",
      "tensor([[0.4683, 0.5185, 0.8020, 0.2784],\n",
      "        [0.5286, 0.5150, 0.5825, 0.6301]], requires_grad=True)\n",
      "0.021483253687620163 3\n"
     ]
    },
    {
     "data": {
      "application/vnd.jupyter.widget-view+json": {
       "model_id": "b43a635d17b74d4fa3c49ffe46a3855e",
       "version_major": 2,
       "version_minor": 0
      },
      "text/plain": [
       "  0%|          | 0/1000 [00:00<?, ?it/s]"
      ]
     },
     "metadata": {},
     "output_type": "display_data"
    },
    {
     "data": {
      "application/vnd.jupyter.widget-view+json": {
       "model_id": "1a534744b8f74d32af5e1e4f424a3ebd",
       "version_major": 2,
       "version_minor": 0
      },
      "text/plain": [
       "  0%|          | 0/1000 [00:00<?, ?it/s]"
      ]
     },
     "metadata": {},
     "output_type": "display_data"
    },
    {
     "name": "stdout",
     "output_type": "stream",
     "text": [
      "tensor([2, 0])\n",
      "tensor([2, 0])\n",
      "tensor([2, 0])\n",
      "tensor([2, 0])\n",
      "Parameter containing:\n",
      "tensor([[0.6970, 0.6830, 0.7207, 0.5248],\n",
      "        [0.6653, 0.4395, 0.4883, 0.4274]], requires_grad=True)\n",
      "Parameter containing:\n",
      "tensor([[0.9547, 0.9357, 0.9865, 0.7186],\n",
      "        [0.7341, 0.4853, 0.5386, 0.4712]], requires_grad=True)\n",
      "Parameter containing:\n",
      "tensor([[0.6463, 0.6331, 0.6677, 0.4865],\n",
      "        [0.9698, 0.6405, 0.7119, 0.6227]], requires_grad=True)\n",
      "Parameter containing:\n",
      "tensor([[0.5092, 0.4988, 0.5262, 0.3833],\n",
      "        [0.7988, 0.5278, 0.5861, 0.5129]], requires_grad=True)\n",
      "0.017450008541345596 3\n"
     ]
    },
    {
     "data": {
      "application/vnd.jupyter.widget-view+json": {
       "model_id": "3af974679ad745dabb8e82918bd249cf",
       "version_major": 2,
       "version_minor": 0
      },
      "text/plain": [
       "  0%|          | 0/1000 [00:00<?, ?it/s]"
      ]
     },
     "metadata": {},
     "output_type": "display_data"
    },
    {
     "data": {
      "application/vnd.jupyter.widget-view+json": {
       "model_id": "ccc160381abb4d82856a3092011e62ac",
       "version_major": 2,
       "version_minor": 0
      },
      "text/plain": [
       "  0%|          | 0/1000 [00:00<?, ?it/s]"
      ]
     },
     "metadata": {},
     "output_type": "display_data"
    },
    {
     "name": "stdout",
     "output_type": "stream",
     "text": [
      "tensor([1, 2])\n",
      "tensor([1, 2])\n",
      "tensor([1, 2])\n",
      "tensor([1, 2])\n",
      "Parameter containing:\n",
      "tensor([[0.6939, 0.8320, 0.6011, 0.8086],\n",
      "        [0.2587, 0.4419, 0.5850, 0.5787]], requires_grad=True)\n",
      "Parameter containing:\n",
      "tensor([[0.3910, 0.4685, 0.3387, 0.4556],\n",
      "        [0.2897, 0.4950, 0.6554, 0.6479]], requires_grad=True)\n",
      "Parameter containing:\n",
      "tensor([[0.7001, 0.8386, 0.6064, 0.8160],\n",
      "        [0.2896, 0.4948, 0.6551, 0.6482]], requires_grad=True)\n",
      "Parameter containing:\n",
      "tensor([[0.5363, 0.6427, 0.4646, 0.6250],\n",
      "        [0.2885, 0.4929, 0.6528, 0.6450]], requires_grad=True)\n",
      "0.016816221177577972 3\n"
     ]
    },
    {
     "data": {
      "application/vnd.jupyter.widget-view+json": {
       "model_id": "890d235663b9468dbe83077b332af4e6",
       "version_major": 2,
       "version_minor": 0
      },
      "text/plain": [
       "  0%|          | 0/1000 [00:00<?, ?it/s]"
      ]
     },
     "metadata": {},
     "output_type": "display_data"
    },
    {
     "data": {
      "application/vnd.jupyter.widget-view+json": {
       "model_id": "b5e10fc99dd84fdc8702d6f1baeac77f",
       "version_major": 2,
       "version_minor": 0
      },
      "text/plain": [
       "  0%|          | 0/1000 [00:00<?, ?it/s]"
      ]
     },
     "metadata": {},
     "output_type": "display_data"
    },
    {
     "name": "stdout",
     "output_type": "stream",
     "text": [
      "tensor([2, 0])\n",
      "tensor([2, 0])\n",
      "tensor([2, 0])\n",
      "tensor([2, 0])\n",
      "Parameter containing:\n",
      "tensor([[0.3659, 0.3642, 0.5757, 0.3899],\n",
      "        [0.6513, 0.6243, 0.5918, 0.5805]], requires_grad=True)\n",
      "Parameter containing:\n",
      "tensor([[0.4320, 0.4299, 0.6796, 0.4602],\n",
      "        [0.8594, 0.8216, 0.7803, 0.7654]], requires_grad=True)\n",
      "Parameter containing:\n",
      "tensor([[0.5729, 0.5701, 0.9010, 0.6102],\n",
      "        [0.5532, 0.5290, 0.5021, 0.4929]], requires_grad=True)\n",
      "Parameter containing:\n",
      "tensor([[0.4911, 0.4887, 0.7725, 0.5232],\n",
      "        [0.9988, 0.9529, 0.9054, 0.8891]], requires_grad=True)\n",
      "0.018819229677319527 3\n"
     ]
    },
    {
     "data": {
      "text/plain": [
       "(0.01823251470923424, 3.0)"
      ]
     },
     "execution_count": 100,
     "metadata": {},
     "output_type": "execute_result"
    }
   ],
   "source": [
    "# js\n",
    "# old: 2d: 0.029673847928643228, 3.0\n",
    "\n",
    "# 2d: (0.04007584974169731, 3.0)\n",
    "# 3d: (0.025106737514336903, 3.0)\n",
    "# 4d: (0.01823251470923424, 3.0)\n",
    "dartslike2(js_coef=10.0)"
   ]
  },
  {
   "cell_type": "code",
   "execution_count": null,
   "id": "bba1c275",
   "metadata": {},
   "outputs": [],
   "source": []
  }
 ],
 "metadata": {
  "kernelspec": {
   "display_name": "Python 3",
   "language": "python",
   "name": "python3"
  },
  "language_info": {
   "codemirror_mode": {
    "name": "ipython",
    "version": 3
   },
   "file_extension": ".py",
   "mimetype": "text/x-python",
   "name": "python",
   "nbconvert_exporter": "python",
   "pygments_lexer": "ipython3",
   "version": "3.8.10"
  }
 },
 "nbformat": 4,
 "nbformat_minor": 5
}
