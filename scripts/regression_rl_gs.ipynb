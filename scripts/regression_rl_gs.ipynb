{
 "cells": [
  {
   "cell_type": "code",
   "execution_count": 1,
   "id": "6786c374",
   "metadata": {},
   "outputs": [],
   "source": [
    "import matplotlib.pylab as plt\n",
    "%matplotlib inline\n",
    "import numpy as np\n",
    "import torch\n",
    "import tqdm\n",
    "from sklearn.model_selection import StratifiedShuffleSplit\n",
    "import json"
   ]
  },
  {
   "cell_type": "code",
   "execution_count": 4,
   "id": "513541e8",
   "metadata": {},
   "outputs": [],
   "source": [
    "#!rm *txt\n",
    "#!rm *jsonl\n"
   ]
  },
  {
   "cell_type": "code",
   "execution_count": null,
   "id": "ae378a3f",
   "metadata": {},
   "outputs": [],
   "source": []
  },
  {
   "cell_type": "code",
   "execution_count": 2,
   "id": "90f84fb9",
   "metadata": {},
   "outputs": [],
   "source": [
    "EPOCH_NUM = 1000\n",
    "TEST_NUM = 2000\n",
    "TRAIN_NUM = 16 # training dataset size\n",
    "POLY_NUM = 3\n",
    "D = 4 # number of domains\n",
    "HEAD_NUM = 8 #D * 8\n",
    "RUN_NUM = 20\n",
    "GRAD_CLIP = 1500.0 # for unstable gradients pruning\n",
    "\n",
    "def rmse(y, y_hat):\n",
    "    return torch.sqrt(((y-y_hat)**2).mean())\n",
    "crit2 = rmse # eval criterion"
   ]
  },
  {
   "cell_type": "code",
   "execution_count": 3,
   "id": "7738f3c1",
   "metadata": {},
   "outputs": [
    {
     "data": {
      "text/plain": [
       "[0.0, 90.0, 180.0, 270.0]"
      ]
     },
     "execution_count": 3,
     "metadata": {},
     "output_type": "execute_result"
    }
   ],
   "source": [
    "def make_angles():\n",
    "    if D == 2:\n",
    "        return [0, 180] # hard-coding angles for 2D cases (to be opposite)\n",
    "    step = 360/D\n",
    "    return [i*step for i in range(D)]\n",
    "make_angles()"
   ]
  },
  {
   "cell_type": "code",
   "execution_count": 4,
   "id": "675c04d8",
   "metadata": {},
   "outputs": [],
   "source": [
    "# data generation\n",
    "from scipy.ndimage import rotate\n",
    "def gen(N1, N2, sigma=.1, seed=42, angle = 0.0):\n",
    "    \"\"\"\n",
    "    N1: train size\n",
    "    N2: test size\n",
    "    \"\"\"\n",
    "    angle = np.pi/2 * angle/90\n",
    "    N = N1+N2\n",
    "    rs = np.random.RandomState(seed)\n",
    "    x = rs.randn(N, 2) \n",
    "    y = x[:,0]*0.25 + x[:,1]*0.75 # y = X1 * 0.25 + x2 * 0.75, other  X components are irrelevant \n",
    "    \n",
    "    if angle: # making rotation if angle != 0\n",
    "        M = np.array([[np.cos(angle), -np.sin(angle)], [np.sin(angle), np.cos(angle)]])\n",
    "        x[:,:2] = (M@x[:,:2].T).T\n",
    "    # shuffling\n",
    "    elems = list(range(len(x)))\n",
    "    rs.shuffle(elems)\n",
    "    trainval, test = elems[:N1], elems[N1:]\n",
    "    xtrainval, ytrainval = x[trainval], y[trainval]\n",
    "    xtest,ytest = x[test], y[test]\n",
    "    elems = list(range(len(xtrainval)))\n",
    "    rs.shuffle(elems)\n",
    "    # actually this code is a bit messy, it was inherited from classification task\n",
    "    train, val = elems[:N1//2], elems[N1//2:]\n",
    "    \n",
    "    xtrain, ytrain = xtrainval[train], ytrainval[train]\n",
    "    xval, yval = xtrainval[val], ytrainval[val]\n",
    "    return (xtrain, ytrain), (xval, yval), (xtest, ytest)\n",
    "xy, _,_ = gen(4, 2, angle=0)\n"
   ]
  },
  {
   "cell_type": "code",
   "execution_count": 5,
   "id": "698fbd24",
   "metadata": {},
   "outputs": [],
   "source": [
    "def make_inference(x, rots, models, gammas, use_softmax=True, only_angle=False, c_head = False, t=1.0):\n",
    "    \n",
    "    if use_softmax:\n",
    "        g0 = torch.distributions.RelaxedOneHotCategorical(t, logits=gammas[0]).rsample((x.shape[0],))\n",
    "        x = torch.sum(torch.cat([(r(x)*g0[:, i].view(-1, 1)).unsqueeze(2) for i, r in enumerate(rots)], 2), 2)\n",
    "    \n",
    "    else:\n",
    "        if len(gammas[0].shape) == 1:\n",
    "            g0 = (gammas[0] == gammas[0].max()) * 1\n",
    "            x = torch.sum(torch.cat([(r(x)*g0[i]).unsqueeze(2) for i, r in enumerate(rots)], 2), 2)\n",
    "        else: # sample from rl\n",
    "            g0 = gammas[0]\n",
    "            x = torch.sum(torch.cat([(r(x)*g0[:, i].view(-1, 1)).unsqueeze(2) for i, r in enumerate(rots)], 2), 2)\n",
    "    \n",
    "    \n",
    "    if only_angle:\n",
    "        return x \n",
    "    x = poly_generate(x)\n",
    "    if c_head:\n",
    "        g1 = torch.zeros(gammas[1].shape)\n",
    "        g1[0] += 0\n",
    "        \n",
    "    if use_softmax:\n",
    "        g1 = torch.distributions.RelaxedOneHotCategorical(t, logits=gammas[1]).rsample((x.shape[0],))\n",
    "        x = torch.sum(torch.cat([(m(x)*g1[:, i].view(-1, 1)).unsqueeze(2) for i, m in enumerate(models)], 2), 2)\n",
    "       \n",
    "    else:\n",
    "        if len(gammas[0].shape) == 1:\n",
    "            g1 = (gammas[1] == gammas[1].max()) * 1\n",
    "            x = torch.sum(torch.cat([(m(x)*g1[i]).unsqueeze(2) for i, m in enumerate(models)], 2), 2)\n",
    "        else: # sample from rl\n",
    "            g1 = gammas[1]\n",
    "            x = torch.sum(torch.cat([(m(x)*g1[:, i].view(-1, 1)).unsqueeze(2) for i, m in enumerate(models)], 2), 2)\n",
    "    \n",
    "    return x\n",
    "\n"
   ]
  },
  {
   "cell_type": "code",
   "execution_count": 21,
   "id": "160e8bb7",
   "metadata": {},
   "outputs": [
    {
     "data": {
      "text/plain": [
       "array([-0.46341769, -0.46572975])"
      ]
     },
     "execution_count": 21,
     "metadata": {},
     "output_type": "execute_result"
    }
   ],
   "source": [
    "xy[0][0]"
   ]
  },
  {
   "cell_type": "code",
   "execution_count": 6,
   "id": "ec7b1e7f",
   "metadata": {},
   "outputs": [
    {
     "data": {
      "text/plain": [
       "torch.Size([2, 8])"
      ]
     },
     "execution_count": 6,
     "metadata": {},
     "output_type": "execute_result"
    }
   ],
   "source": [
    "def poly_generate(x):\n",
    "    result = [x]\n",
    "    for poly in range(POLY_NUM):\n",
    "        deg = poly+2 \n",
    "        new_x = x ** deg#/(deg)\n",
    "        result.append(new_x)\n",
    "    result =  torch.hstack(result)\n",
    "    return result\n",
    "poly_generate(torch.tensor(xy[0])).shape"
   ]
  },
  {
   "cell_type": "code",
   "execution_count": 7,
   "id": "d449fac5",
   "metadata": {},
   "outputs": [
    {
     "name": "stderr",
     "output_type": "stream",
     "text": [
      "<ipython-input-7-da2e9f739812>:13: TqdmDeprecationWarning: This function will be removed in tqdm==5.0.0\n",
      "Please use `tqdm.notebook.tqdm` instead of `tqdm.tqdm_notebook`\n",
      "  tq = tqdm.tqdm_notebook(range(EPOCH_NUM))\n"
     ]
    },
    {
     "data": {
      "application/vnd.jupyter.widget-view+json": {
       "model_id": "0d23d1cfea584423ab6ef3e18bf77827",
       "version_major": 2,
       "version_minor": 0
      },
      "text/plain": [
       "  0%|          | 0/1000 [00:00<?, ?it/s]"
      ]
     },
     "metadata": {},
     "output_type": "display_data"
    },
    {
     "ename": "KeyboardInterrupt",
     "evalue": "",
     "output_type": "error",
     "traceback": [
      "\u001b[0;31m---------------------------------------------------------------------------\u001b[0m",
      "\u001b[0;31mKeyboardInterrupt\u001b[0m                         Traceback (most recent call last)",
      "\u001b[0;32m<ipython-input-7-da2e9f739812>\u001b[0m in \u001b[0;36m<module>\u001b[0;34m\u001b[0m\n\u001b[1;32m     13\u001b[0m     \u001b[0mtq\u001b[0m \u001b[0;34m=\u001b[0m \u001b[0mtqdm\u001b[0m\u001b[0;34m.\u001b[0m\u001b[0mtqdm_notebook\u001b[0m\u001b[0;34m(\u001b[0m\u001b[0mrange\u001b[0m\u001b[0;34m(\u001b[0m\u001b[0mEPOCH_NUM\u001b[0m\u001b[0;34m)\u001b[0m\u001b[0;34m)\u001b[0m\u001b[0;34m\u001b[0m\u001b[0;34m\u001b[0m\u001b[0m\n\u001b[1;32m     14\u001b[0m \u001b[0;34m\u001b[0m\u001b[0m\n\u001b[0;32m---> 15\u001b[0;31m     \u001b[0;32mfor\u001b[0m \u001b[0me\u001b[0m \u001b[0;32min\u001b[0m \u001b[0mtq\u001b[0m\u001b[0;34m:\u001b[0m\u001b[0;34m\u001b[0m\u001b[0;34m\u001b[0m\u001b[0m\n\u001b[0m\u001b[1;32m     16\u001b[0m         \u001b[0mopt\u001b[0m\u001b[0;34m.\u001b[0m\u001b[0mzero_grad\u001b[0m\u001b[0;34m(\u001b[0m\u001b[0;34m)\u001b[0m\u001b[0;34m\u001b[0m\u001b[0;34m\u001b[0m\u001b[0m\n\u001b[1;32m     17\u001b[0m         \u001b[0mout\u001b[0m \u001b[0;34m=\u001b[0m \u001b[0mmodel\u001b[0m\u001b[0;34m(\u001b[0m\u001b[0mtorch\u001b[0m\u001b[0;34m.\u001b[0m\u001b[0mtensor\u001b[0m\u001b[0;34m(\u001b[0m\u001b[0mx_train\u001b[0m\u001b[0;34m)\u001b[0m\u001b[0;34m.\u001b[0m\u001b[0mfloat\u001b[0m\u001b[0;34m(\u001b[0m\u001b[0;34m)\u001b[0m\u001b[0;34m)\u001b[0m\u001b[0;34m[\u001b[0m\u001b[0;34m:\u001b[0m\u001b[0;34m,\u001b[0m\u001b[0;36m0\u001b[0m\u001b[0;34m]\u001b[0m\u001b[0;34m\u001b[0m\u001b[0;34m\u001b[0m\u001b[0m\n",
      "\u001b[0;32m/usr/local/lib/python3.8/dist-packages/tqdm/notebook.py\u001b[0m in \u001b[0;36m__iter__\u001b[0;34m(self)\u001b[0m\n\u001b[1;32m    252\u001b[0m     \u001b[0;32mdef\u001b[0m \u001b[0m__iter__\u001b[0m\u001b[0;34m(\u001b[0m\u001b[0mself\u001b[0m\u001b[0;34m)\u001b[0m\u001b[0;34m:\u001b[0m\u001b[0;34m\u001b[0m\u001b[0;34m\u001b[0m\u001b[0m\n\u001b[1;32m    253\u001b[0m         \u001b[0;32mtry\u001b[0m\u001b[0;34m:\u001b[0m\u001b[0;34m\u001b[0m\u001b[0;34m\u001b[0m\u001b[0m\n\u001b[0;32m--> 254\u001b[0;31m             \u001b[0;32mfor\u001b[0m \u001b[0mobj\u001b[0m \u001b[0;32min\u001b[0m \u001b[0msuper\u001b[0m\u001b[0;34m(\u001b[0m\u001b[0mtqdm_notebook\u001b[0m\u001b[0;34m,\u001b[0m \u001b[0mself\u001b[0m\u001b[0;34m)\u001b[0m\u001b[0;34m.\u001b[0m\u001b[0m__iter__\u001b[0m\u001b[0;34m(\u001b[0m\u001b[0;34m)\u001b[0m\u001b[0;34m:\u001b[0m\u001b[0;34m\u001b[0m\u001b[0;34m\u001b[0m\u001b[0m\n\u001b[0m\u001b[1;32m    255\u001b[0m                 \u001b[0;31m# return super(tqdm...) will not catch exception\u001b[0m\u001b[0;34m\u001b[0m\u001b[0;34m\u001b[0m\u001b[0;34m\u001b[0m\u001b[0m\n\u001b[1;32m    256\u001b[0m                 \u001b[0;32myield\u001b[0m \u001b[0mobj\u001b[0m\u001b[0;34m\u001b[0m\u001b[0;34m\u001b[0m\u001b[0m\n",
      "\u001b[0;32m/usr/local/lib/python3.8/dist-packages/tqdm/std.py\u001b[0m in \u001b[0;36m__iter__\u001b[0;34m(self)\u001b[0m\n\u001b[1;32m   1191\u001b[0m         \u001b[0;32mfinally\u001b[0m\u001b[0;34m:\u001b[0m\u001b[0;34m\u001b[0m\u001b[0;34m\u001b[0m\u001b[0m\n\u001b[1;32m   1192\u001b[0m             \u001b[0mself\u001b[0m\u001b[0;34m.\u001b[0m\u001b[0mn\u001b[0m \u001b[0;34m=\u001b[0m \u001b[0mn\u001b[0m\u001b[0;34m\u001b[0m\u001b[0;34m\u001b[0m\u001b[0m\n\u001b[0;32m-> 1193\u001b[0;31m             \u001b[0mself\u001b[0m\u001b[0;34m.\u001b[0m\u001b[0mclose\u001b[0m\u001b[0;34m(\u001b[0m\u001b[0;34m)\u001b[0m\u001b[0;34m\u001b[0m\u001b[0;34m\u001b[0m\u001b[0m\n\u001b[0m\u001b[1;32m   1194\u001b[0m \u001b[0;34m\u001b[0m\u001b[0m\n\u001b[1;32m   1195\u001b[0m     \u001b[0;32mdef\u001b[0m \u001b[0mupdate\u001b[0m\u001b[0;34m(\u001b[0m\u001b[0mself\u001b[0m\u001b[0;34m,\u001b[0m \u001b[0mn\u001b[0m\u001b[0;34m=\u001b[0m\u001b[0;36m1\u001b[0m\u001b[0;34m)\u001b[0m\u001b[0;34m:\u001b[0m\u001b[0;34m\u001b[0m\u001b[0;34m\u001b[0m\u001b[0m\n",
      "\u001b[0;32m/usr/local/lib/python3.8/dist-packages/tqdm/notebook.py\u001b[0m in \u001b[0;36mclose\u001b[0;34m(self)\u001b[0m\n\u001b[1;32m    284\u001b[0m         \u001b[0;32melse\u001b[0m\u001b[0;34m:\u001b[0m\u001b[0;34m\u001b[0m\u001b[0;34m\u001b[0m\u001b[0m\n\u001b[1;32m    285\u001b[0m             \u001b[0;32mif\u001b[0m \u001b[0mself\u001b[0m\u001b[0;34m.\u001b[0m\u001b[0mleave\u001b[0m\u001b[0;34m:\u001b[0m\u001b[0;34m\u001b[0m\u001b[0;34m\u001b[0m\u001b[0m\n\u001b[0;32m--> 286\u001b[0;31m                 \u001b[0mself\u001b[0m\u001b[0;34m.\u001b[0m\u001b[0mdisp\u001b[0m\u001b[0;34m(\u001b[0m\u001b[0mbar_style\u001b[0m\u001b[0;34m=\u001b[0m\u001b[0;34m'success'\u001b[0m\u001b[0;34m,\u001b[0m \u001b[0mcheck_delay\u001b[0m\u001b[0;34m=\u001b[0m\u001b[0;32mFalse\u001b[0m\u001b[0;34m)\u001b[0m\u001b[0;34m\u001b[0m\u001b[0;34m\u001b[0m\u001b[0m\n\u001b[0m\u001b[1;32m    287\u001b[0m             \u001b[0;32melse\u001b[0m\u001b[0;34m:\u001b[0m\u001b[0;34m\u001b[0m\u001b[0;34m\u001b[0m\u001b[0m\n\u001b[1;32m    288\u001b[0m                 \u001b[0mself\u001b[0m\u001b[0;34m.\u001b[0m\u001b[0mdisp\u001b[0m\u001b[0;34m(\u001b[0m\u001b[0mclose\u001b[0m\u001b[0;34m=\u001b[0m\u001b[0;32mTrue\u001b[0m\u001b[0;34m,\u001b[0m \u001b[0mcheck_delay\u001b[0m\u001b[0;34m=\u001b[0m\u001b[0;32mFalse\u001b[0m\u001b[0;34m)\u001b[0m\u001b[0;34m\u001b[0m\u001b[0;34m\u001b[0m\u001b[0m\n",
      "\u001b[0;32m/usr/local/lib/python3.8/dist-packages/tqdm/notebook.py\u001b[0m in \u001b[0;36mdisplay\u001b[0;34m(self, msg, pos, close, bar_style, check_delay)\u001b[0m\n\u001b[1;32m    182\u001b[0m             \u001b[0;31m# success because the bar gets closed after the error...\u001b[0m\u001b[0;34m\u001b[0m\u001b[0;34m\u001b[0m\u001b[0;34m\u001b[0m\u001b[0m\n\u001b[1;32m    183\u001b[0m             \u001b[0;32mif\u001b[0m \u001b[0mpbar\u001b[0m\u001b[0;34m.\u001b[0m\u001b[0mbar_style\u001b[0m \u001b[0;34m!=\u001b[0m \u001b[0;34m'danger'\u001b[0m \u001b[0;32mor\u001b[0m \u001b[0mbar_style\u001b[0m \u001b[0;34m!=\u001b[0m \u001b[0;34m'success'\u001b[0m\u001b[0;34m:\u001b[0m\u001b[0;34m\u001b[0m\u001b[0;34m\u001b[0m\u001b[0m\n\u001b[0;32m--> 184\u001b[0;31m                 \u001b[0mpbar\u001b[0m\u001b[0;34m.\u001b[0m\u001b[0mbar_style\u001b[0m \u001b[0;34m=\u001b[0m \u001b[0mbar_style\u001b[0m\u001b[0;34m\u001b[0m\u001b[0;34m\u001b[0m\u001b[0m\n\u001b[0m\u001b[1;32m    185\u001b[0m \u001b[0;34m\u001b[0m\u001b[0m\n\u001b[1;32m    186\u001b[0m         \u001b[0;31m# Special signal to close the bar\u001b[0m\u001b[0;34m\u001b[0m\u001b[0;34m\u001b[0m\u001b[0;34m\u001b[0m\u001b[0m\n",
      "\u001b[0;32m/usr/local/lib/python3.8/dist-packages/traitlets/traitlets.py\u001b[0m in \u001b[0;36m__set__\u001b[0;34m(self, obj, value)\u001b[0m\n\u001b[1;32m    602\u001b[0m             \u001b[0;32mraise\u001b[0m \u001b[0mTraitError\u001b[0m\u001b[0;34m(\u001b[0m\u001b[0;34m'The \"%s\" trait is read-only.'\u001b[0m \u001b[0;34m%\u001b[0m \u001b[0mself\u001b[0m\u001b[0;34m.\u001b[0m\u001b[0mname\u001b[0m\u001b[0;34m)\u001b[0m\u001b[0;34m\u001b[0m\u001b[0;34m\u001b[0m\u001b[0m\n\u001b[1;32m    603\u001b[0m         \u001b[0;32melse\u001b[0m\u001b[0;34m:\u001b[0m\u001b[0;34m\u001b[0m\u001b[0;34m\u001b[0m\u001b[0m\n\u001b[0;32m--> 604\u001b[0;31m             \u001b[0mself\u001b[0m\u001b[0;34m.\u001b[0m\u001b[0mset\u001b[0m\u001b[0;34m(\u001b[0m\u001b[0mobj\u001b[0m\u001b[0;34m,\u001b[0m \u001b[0mvalue\u001b[0m\u001b[0;34m)\u001b[0m\u001b[0;34m\u001b[0m\u001b[0;34m\u001b[0m\u001b[0m\n\u001b[0m\u001b[1;32m    605\u001b[0m \u001b[0;34m\u001b[0m\u001b[0m\n\u001b[1;32m    606\u001b[0m     \u001b[0;32mdef\u001b[0m \u001b[0m_validate\u001b[0m\u001b[0;34m(\u001b[0m\u001b[0mself\u001b[0m\u001b[0;34m,\u001b[0m \u001b[0mobj\u001b[0m\u001b[0;34m,\u001b[0m \u001b[0mvalue\u001b[0m\u001b[0;34m)\u001b[0m\u001b[0;34m:\u001b[0m\u001b[0;34m\u001b[0m\u001b[0;34m\u001b[0m\u001b[0m\n",
      "\u001b[0;32m/usr/local/lib/python3.8/dist-packages/traitlets/traitlets.py\u001b[0m in \u001b[0;36mset\u001b[0;34m(self, obj, value)\u001b[0m\n\u001b[1;32m    591\u001b[0m             \u001b[0;31m# we explicitly compare silent to True just in case the equality\u001b[0m\u001b[0;34m\u001b[0m\u001b[0;34m\u001b[0m\u001b[0;34m\u001b[0m\u001b[0m\n\u001b[1;32m    592\u001b[0m             \u001b[0;31m# comparison above returns something other than True/False\u001b[0m\u001b[0;34m\u001b[0m\u001b[0;34m\u001b[0m\u001b[0;34m\u001b[0m\u001b[0m\n\u001b[0;32m--> 593\u001b[0;31m             \u001b[0mobj\u001b[0m\u001b[0;34m.\u001b[0m\u001b[0m_notify_trait\u001b[0m\u001b[0;34m(\u001b[0m\u001b[0mself\u001b[0m\u001b[0;34m.\u001b[0m\u001b[0mname\u001b[0m\u001b[0;34m,\u001b[0m \u001b[0mold_value\u001b[0m\u001b[0;34m,\u001b[0m \u001b[0mnew_value\u001b[0m\u001b[0;34m)\u001b[0m\u001b[0;34m\u001b[0m\u001b[0;34m\u001b[0m\u001b[0m\n\u001b[0m\u001b[1;32m    594\u001b[0m \u001b[0;34m\u001b[0m\u001b[0m\n\u001b[1;32m    595\u001b[0m     \u001b[0;32mdef\u001b[0m \u001b[0m__set__\u001b[0m\u001b[0;34m(\u001b[0m\u001b[0mself\u001b[0m\u001b[0;34m,\u001b[0m \u001b[0mobj\u001b[0m\u001b[0;34m,\u001b[0m \u001b[0mvalue\u001b[0m\u001b[0;34m)\u001b[0m\u001b[0;34m:\u001b[0m\u001b[0;34m\u001b[0m\u001b[0;34m\u001b[0m\u001b[0m\n",
      "\u001b[0;32m/usr/local/lib/python3.8/dist-packages/traitlets/traitlets.py\u001b[0m in \u001b[0;36m_notify_trait\u001b[0;34m(self, name, old_value, new_value)\u001b[0m\n\u001b[1;32m   1215\u001b[0m \u001b[0;34m\u001b[0m\u001b[0m\n\u001b[1;32m   1216\u001b[0m     \u001b[0;32mdef\u001b[0m \u001b[0m_notify_trait\u001b[0m\u001b[0;34m(\u001b[0m\u001b[0mself\u001b[0m\u001b[0;34m,\u001b[0m \u001b[0mname\u001b[0m\u001b[0;34m,\u001b[0m \u001b[0mold_value\u001b[0m\u001b[0;34m,\u001b[0m \u001b[0mnew_value\u001b[0m\u001b[0;34m)\u001b[0m\u001b[0;34m:\u001b[0m\u001b[0;34m\u001b[0m\u001b[0;34m\u001b[0m\u001b[0m\n\u001b[0;32m-> 1217\u001b[0;31m         self.notify_change(Bunch(\n\u001b[0m\u001b[1;32m   1218\u001b[0m             \u001b[0mname\u001b[0m\u001b[0;34m=\u001b[0m\u001b[0mname\u001b[0m\u001b[0;34m,\u001b[0m\u001b[0;34m\u001b[0m\u001b[0;34m\u001b[0m\u001b[0m\n\u001b[1;32m   1219\u001b[0m             \u001b[0mold\u001b[0m\u001b[0;34m=\u001b[0m\u001b[0mold_value\u001b[0m\u001b[0;34m,\u001b[0m\u001b[0;34m\u001b[0m\u001b[0;34m\u001b[0m\u001b[0m\n",
      "\u001b[0;32m/usr/local/lib/python3.8/dist-packages/ipywidgets/widgets/widget.py\u001b[0m in \u001b[0;36mnotify_change\u001b[0;34m(self, change)\u001b[0m\n\u001b[1;32m    603\u001b[0m             \u001b[0;32mif\u001b[0m \u001b[0mname\u001b[0m \u001b[0;32min\u001b[0m \u001b[0mself\u001b[0m\u001b[0;34m.\u001b[0m\u001b[0mkeys\u001b[0m \u001b[0;32mand\u001b[0m \u001b[0mself\u001b[0m\u001b[0;34m.\u001b[0m\u001b[0m_should_send_property\u001b[0m\u001b[0;34m(\u001b[0m\u001b[0mname\u001b[0m\u001b[0;34m,\u001b[0m \u001b[0mgetattr\u001b[0m\u001b[0;34m(\u001b[0m\u001b[0mself\u001b[0m\u001b[0;34m,\u001b[0m \u001b[0mname\u001b[0m\u001b[0;34m)\u001b[0m\u001b[0;34m)\u001b[0m\u001b[0;34m:\u001b[0m\u001b[0;34m\u001b[0m\u001b[0;34m\u001b[0m\u001b[0m\n\u001b[1;32m    604\u001b[0m                 \u001b[0;31m# Send new state to front-end\u001b[0m\u001b[0;34m\u001b[0m\u001b[0;34m\u001b[0m\u001b[0;34m\u001b[0m\u001b[0m\n\u001b[0;32m--> 605\u001b[0;31m                 \u001b[0mself\u001b[0m\u001b[0;34m.\u001b[0m\u001b[0msend_state\u001b[0m\u001b[0;34m(\u001b[0m\u001b[0mkey\u001b[0m\u001b[0;34m=\u001b[0m\u001b[0mname\u001b[0m\u001b[0;34m)\u001b[0m\u001b[0;34m\u001b[0m\u001b[0;34m\u001b[0m\u001b[0m\n\u001b[0m\u001b[1;32m    606\u001b[0m         \u001b[0msuper\u001b[0m\u001b[0;34m(\u001b[0m\u001b[0mWidget\u001b[0m\u001b[0;34m,\u001b[0m \u001b[0mself\u001b[0m\u001b[0;34m)\u001b[0m\u001b[0;34m.\u001b[0m\u001b[0mnotify_change\u001b[0m\u001b[0;34m(\u001b[0m\u001b[0mchange\u001b[0m\u001b[0;34m)\u001b[0m\u001b[0;34m\u001b[0m\u001b[0;34m\u001b[0m\u001b[0m\n\u001b[1;32m    607\u001b[0m \u001b[0;34m\u001b[0m\u001b[0m\n",
      "\u001b[0;32m/usr/local/lib/python3.8/dist-packages/ipywidgets/widgets/widget.py\u001b[0m in \u001b[0;36msend_state\u001b[0;34m(self, key)\u001b[0m\n\u001b[1;32m    479\u001b[0m             \u001b[0mA\u001b[0m \u001b[0msingle\u001b[0m \u001b[0mproperty\u001b[0m\u001b[0;31m'\u001b[0m\u001b[0ms\u001b[0m \u001b[0mname\u001b[0m \u001b[0;32mor\u001b[0m \u001b[0miterable\u001b[0m \u001b[0mof\u001b[0m \u001b[0mproperty\u001b[0m \u001b[0mnames\u001b[0m \u001b[0mto\u001b[0m \u001b[0msync\u001b[0m \u001b[0;32mwith\u001b[0m \u001b[0mthe\u001b[0m \u001b[0mfront\u001b[0m\u001b[0;34m-\u001b[0m\u001b[0mend\u001b[0m\u001b[0;34m.\u001b[0m\u001b[0;34m\u001b[0m\u001b[0;34m\u001b[0m\u001b[0m\n\u001b[1;32m    480\u001b[0m         \"\"\"\n\u001b[0;32m--> 481\u001b[0;31m         \u001b[0mstate\u001b[0m \u001b[0;34m=\u001b[0m \u001b[0mself\u001b[0m\u001b[0;34m.\u001b[0m\u001b[0mget_state\u001b[0m\u001b[0;34m(\u001b[0m\u001b[0mkey\u001b[0m\u001b[0;34m=\u001b[0m\u001b[0mkey\u001b[0m\u001b[0;34m)\u001b[0m\u001b[0;34m\u001b[0m\u001b[0;34m\u001b[0m\u001b[0m\n\u001b[0m\u001b[1;32m    482\u001b[0m         \u001b[0;32mif\u001b[0m \u001b[0mlen\u001b[0m\u001b[0;34m(\u001b[0m\u001b[0mstate\u001b[0m\u001b[0;34m)\u001b[0m \u001b[0;34m>\u001b[0m \u001b[0;36m0\u001b[0m\u001b[0;34m:\u001b[0m\u001b[0;34m\u001b[0m\u001b[0;34m\u001b[0m\u001b[0m\n\u001b[1;32m    483\u001b[0m             \u001b[0;32mif\u001b[0m \u001b[0mself\u001b[0m\u001b[0;34m.\u001b[0m\u001b[0m_property_lock\u001b[0m\u001b[0;34m:\u001b[0m  \u001b[0;31m# we need to keep this dict up to date with the front-end values\u001b[0m\u001b[0;34m\u001b[0m\u001b[0;34m\u001b[0m\u001b[0m\n",
      "\u001b[0;32m/usr/local/lib/python3.8/dist-packages/ipywidgets/widgets/widget.py\u001b[0m in \u001b[0;36mget_state\u001b[0;34m(self, key, drop_defaults)\u001b[0m\n\u001b[1;32m    513\u001b[0m             \u001b[0;32mraise\u001b[0m \u001b[0mValueError\u001b[0m\u001b[0;34m(\u001b[0m\u001b[0;34m\"key must be a string, an iterable of keys, or None\"\u001b[0m\u001b[0;34m)\u001b[0m\u001b[0;34m\u001b[0m\u001b[0;34m\u001b[0m\u001b[0m\n\u001b[1;32m    514\u001b[0m         \u001b[0mstate\u001b[0m \u001b[0;34m=\u001b[0m \u001b[0;34m{\u001b[0m\u001b[0;34m}\u001b[0m\u001b[0;34m\u001b[0m\u001b[0;34m\u001b[0m\u001b[0m\n\u001b[0;32m--> 515\u001b[0;31m         \u001b[0mtraits\u001b[0m \u001b[0;34m=\u001b[0m \u001b[0mself\u001b[0m\u001b[0;34m.\u001b[0m\u001b[0mtraits\u001b[0m\u001b[0;34m(\u001b[0m\u001b[0;34m)\u001b[0m\u001b[0;34m\u001b[0m\u001b[0;34m\u001b[0m\u001b[0m\n\u001b[0m\u001b[1;32m    516\u001b[0m         \u001b[0;32mfor\u001b[0m \u001b[0mk\u001b[0m \u001b[0;32min\u001b[0m \u001b[0mkeys\u001b[0m\u001b[0;34m:\u001b[0m\u001b[0;34m\u001b[0m\u001b[0;34m\u001b[0m\u001b[0m\n\u001b[1;32m    517\u001b[0m             \u001b[0mto_json\u001b[0m \u001b[0;34m=\u001b[0m \u001b[0mself\u001b[0m\u001b[0;34m.\u001b[0m\u001b[0mtrait_metadata\u001b[0m\u001b[0;34m(\u001b[0m\u001b[0mk\u001b[0m\u001b[0;34m,\u001b[0m \u001b[0;34m'to_json'\u001b[0m\u001b[0;34m,\u001b[0m \u001b[0mself\u001b[0m\u001b[0;34m.\u001b[0m\u001b[0m_trait_to_json\u001b[0m\u001b[0;34m)\u001b[0m\u001b[0;34m\u001b[0m\u001b[0;34m\u001b[0m\u001b[0m\n",
      "\u001b[0;32m/usr/local/lib/python3.8/dist-packages/traitlets/traitlets.py\u001b[0m in \u001b[0;36mtraits\u001b[0;34m(self, **metadata)\u001b[0m\n\u001b[1;32m   1604\u001b[0m         \u001b[0mto\u001b[0m \u001b[0mthe\u001b[0m \u001b[0mfunction\u001b[0m\u001b[0;34m.\u001b[0m\u001b[0;34m\u001b[0m\u001b[0;34m\u001b[0m\u001b[0m\n\u001b[1;32m   1605\u001b[0m         \"\"\"\n\u001b[0;32m-> 1606\u001b[0;31m         traits = dict([memb for memb in getmembers(self.__class__) if\n\u001b[0m\u001b[1;32m   1607\u001b[0m                      isinstance(memb[1], TraitType)])\n\u001b[1;32m   1608\u001b[0m \u001b[0;34m\u001b[0m\u001b[0m\n",
      "\u001b[0;32m/usr/local/lib/python3.8/dist-packages/traitlets/traitlets.py\u001b[0m in \u001b[0;36mgetmembers\u001b[0;34m(object, predicate)\u001b[0m\n\u001b[1;32m    225\u001b[0m     \"\"\"\n\u001b[1;32m    226\u001b[0m     \u001b[0mresults\u001b[0m \u001b[0;34m=\u001b[0m \u001b[0;34m[\u001b[0m\u001b[0;34m]\u001b[0m\u001b[0;34m\u001b[0m\u001b[0;34m\u001b[0m\u001b[0m\n\u001b[0;32m--> 227\u001b[0;31m     \u001b[0;32mfor\u001b[0m \u001b[0mkey\u001b[0m \u001b[0;32min\u001b[0m \u001b[0mdir\u001b[0m\u001b[0;34m(\u001b[0m\u001b[0mobject\u001b[0m\u001b[0;34m)\u001b[0m\u001b[0;34m:\u001b[0m\u001b[0;34m\u001b[0m\u001b[0;34m\u001b[0m\u001b[0m\n\u001b[0m\u001b[1;32m    228\u001b[0m         \u001b[0;32mtry\u001b[0m\u001b[0;34m:\u001b[0m\u001b[0;34m\u001b[0m\u001b[0;34m\u001b[0m\u001b[0m\n\u001b[1;32m    229\u001b[0m             \u001b[0mvalue\u001b[0m \u001b[0;34m=\u001b[0m \u001b[0mgetattr\u001b[0m\u001b[0;34m(\u001b[0m\u001b[0mobject\u001b[0m\u001b[0;34m,\u001b[0m \u001b[0mkey\u001b[0m\u001b[0;34m)\u001b[0m\u001b[0;34m\u001b[0m\u001b[0;34m\u001b[0m\u001b[0m\n",
      "\u001b[0;31mKeyboardInterrupt\u001b[0m: "
     ]
    }
   ],
   "source": [
    "# one-model for strictly one domain, no NAS\n",
    "accs = []\n",
    "for k in range(RUN_NUM):\n",
    "    torch.manual_seed(42+k)\n",
    "    (x_train, y_train), (x_val, y_val), (x_test, y_test) = gen(TRAIN_NUM, TEST_NUM, seed=42+k)\n",
    "    x_train = np.concatenate([x_train, x_val]) # we don't use train/validation step\n",
    "    y_train = np.concatenate([y_train, y_val])\n",
    "    \n",
    "    lin_model = torch.nn.Linear(2*(POLY_NUM+1),1)\n",
    "    model = lambda x: lin_model(poly_generate(x))\n",
    "    opt = torch.optim.SGD(lin_model.parameters(), lr=1e-3)\n",
    "    crit = torch.nn.MSELoss()\n",
    "    tq = tqdm.tqdm_notebook(range(EPOCH_NUM))\n",
    "    \n",
    "    for e in tq:\n",
    "        opt.zero_grad()\n",
    "        out = model(torch.tensor(x_train).float())[:,0]\n",
    "        loss = crit(out, torch.tensor(y_train).float())\n",
    "        loss.backward()\n",
    "        torch.nn.utils.clip_grad_value_(lin_model.parameters(), GRAD_CLIP)\n",
    "        opt.step()\n",
    "        tq.set_description(str(loss.item()))\n",
    "    acc = crit2(model(torch.tensor(x_test).float())[:,0], torch.tensor(y_test).float()).item()\n",
    "    accs.append(acc)\n",
    "    \n",
    "print (accs, np.mean(accs)) \n",
    "\n",
    "with open('one_model.txt', 'a') as out:\n",
    "    out.write(f'D={D}, HEAD_NUM={HEAD_NUM}, RUN_NUM={RUN_NUM}, CRIT={np.mean(accs)}+-{np.std(accs)}.   MIN={np.min(accs)}, MAX={np.max(accs)}\\n')\n",
    "with open('one_model.jsonl', 'a') as out:\n",
    "    out.write(json.dumps({'D': D, 'HEAD_NUM':HEAD_NUM, 'RUN_NUM': RUN_NUM, 'accs': accs})+'\\n')\n",
    "    "
   ]
  },
  {
   "cell_type": "code",
   "execution_count": null,
   "id": "b34eb362",
   "metadata": {},
   "outputs": [],
   "source": []
  },
  {
   "cell_type": "code",
   "execution_count": 35,
   "id": "e96a6165",
   "metadata": {},
   "outputs": [
    {
     "name": "stderr",
     "output_type": "stream",
     "text": [
      "<ipython-input-35-944c4b619fd1>:25: TqdmDeprecationWarning: This function will be removed in tqdm==5.0.0\n",
      "Please use `tqdm.notebook.tqdm` instead of `tqdm.tqdm_notebook`\n",
      "  tq = tqdm.tqdm_notebook(range(EPOCH_NUM  * D)) # in darts we make D iterations per epoch. So here we multiply EPOCH_NUM  * D for compensation\n"
     ]
    },
    {
     "data": {
      "application/vnd.jupyter.widget-view+json": {
       "model_id": "1011c61cf91d4cafa4faacbd91cf5e7f",
       "version_major": 2,
       "version_minor": 0
      },
      "text/plain": [
       "  0%|          | 0/4000 [00:00<?, ?it/s]"
      ]
     },
     "metadata": {},
     "output_type": "display_data"
    },
    {
     "name": "stdout",
     "output_type": "stream",
     "text": [
      "1.3885122537612915\n"
     ]
    },
    {
     "data": {
      "application/vnd.jupyter.widget-view+json": {
       "model_id": "aaea204d33d04dd7b08398c067832cfb",
       "version_major": 2,
       "version_minor": 0
      },
      "text/plain": [
       "  0%|          | 0/4000 [00:00<?, ?it/s]"
      ]
     },
     "metadata": {},
     "output_type": "display_data"
    },
    {
     "name": "stdout",
     "output_type": "stream",
     "text": [
      "1.4878994226455688\n"
     ]
    },
    {
     "data": {
      "application/vnd.jupyter.widget-view+json": {
       "model_id": "5aff409a9d434c47aea08810d3ff3bba",
       "version_major": 2,
       "version_minor": 0
      },
      "text/plain": [
       "  0%|          | 0/4000 [00:00<?, ?it/s]"
      ]
     },
     "metadata": {},
     "output_type": "display_data"
    },
    {
     "name": "stdout",
     "output_type": "stream",
     "text": [
      "0.8789204359054565\n"
     ]
    },
    {
     "data": {
      "application/vnd.jupyter.widget-view+json": {
       "model_id": "c923c2daa46c4d8f83d17e062f0891eb",
       "version_major": 2,
       "version_minor": 0
      },
      "text/plain": [
       "  0%|          | 0/4000 [00:00<?, ?it/s]"
      ]
     },
     "metadata": {},
     "output_type": "display_data"
    },
    {
     "name": "stdout",
     "output_type": "stream",
     "text": [
      "1.004591941833496\n"
     ]
    },
    {
     "data": {
      "application/vnd.jupyter.widget-view+json": {
       "model_id": "167c614c71c2416b97dbd361e6ae374c",
       "version_major": 2,
       "version_minor": 0
      },
      "text/plain": [
       "  0%|          | 0/4000 [00:00<?, ?it/s]"
      ]
     },
     "metadata": {},
     "output_type": "display_data"
    },
    {
     "name": "stdout",
     "output_type": "stream",
     "text": [
      "0.8532770276069641\n",
      "[1.3885122537612915, 1.4878994226455688, 0.8789204359054565, 1.004591941833496, 0.8532770276069641] 1.1226402163505553\n"
     ]
    }
   ],
   "source": [
    "# shared-model:\n",
    "# one-model for all the domains, without any rotation, without NAS\n",
    "accs = []\n",
    "for k in range(RUN_NUM):\n",
    "    torch.manual_seed(42+k)\n",
    "    x_train, y_train, x_test, y_test = [],[],[],[]\n",
    "    for angle in make_angles():\n",
    "        (_x_train, _y_train), (x_val, y_val), (_x_test, _y_test) = gen(TRAIN_NUM,\n",
    "                                                                       TEST_NUM, seed=42+k+int(angle),\n",
    "                                                                       angle=angle)\n",
    "        \n",
    "            \n",
    "        \n",
    "        _x_train = np.concatenate([_x_train, x_val]) # we don't use train/validation step\n",
    "        _y_train = np.concatenate([_y_train, y_val])\n",
    "        x_train.extend(_x_train)\n",
    "        y_train.extend(_y_train)\n",
    "        x_test.extend(_x_test)\n",
    "        y_test.extend(_y_test)\n",
    "    \n",
    "    lin_model = torch.nn.Linear(2*(1+POLY_NUM),1) \n",
    "    opt = torch.optim.SGD(lin_model.parameters(), lr=1e-3)\n",
    "    model = lambda x: lin_model(poly_generate(x))\n",
    "    crit = torch.nn.MSELoss()\n",
    "    tq = tqdm.tqdm_notebook(range(EPOCH_NUM  * D)) # in darts we make D iterations per epoch. So here we multiply EPOCH_NUM  * D for compensation\n",
    "    \n",
    "    for e in tq:\n",
    "        opt.zero_grad()\n",
    "        out = model(torch.tensor(x_train).float())[:,0]\n",
    "        loss = crit(out, torch.tensor(y_train).float())\n",
    "        loss.backward()\n",
    "        torch.nn.utils.clip_grad_value_(lin_model.parameters(), GRAD_CLIP)\n",
    "        opt.step()\n",
    "        tq.set_description(str(loss.item()))\n",
    "    acc = crit2(model(torch.tensor(x_test).float())[:,0], torch.tensor(y_test).float()).item()\n",
    "    accs.append(acc)\n",
    "    print (acc)\n",
    "print (accs, np.mean(accs)) \n",
    "\n",
    "with open('shared_model.txt', 'a') as out:\n",
    "    out.write(f'D={D}, HEAD_NUM={HEAD_NUM}, RUN_NUM={RUN_NUM},  CRIT={np.mean(accs)}+-{np.std(accs)}. MIN={np.min(accs)}, MAX={np.max(accs)}\\n')\n",
    "with open('shared_model.jsonl', 'a') as out:\n",
    "    out.write(json.dumps({'D': D, 'HEAD_NUM':HEAD_NUM, 'RUN_NUM': RUN_NUM, 'accs': accs})+'\\n')"
   ]
  },
  {
   "cell_type": "code",
   "execution_count": null,
   "id": "a95ed87c",
   "metadata": {},
   "outputs": [],
   "source": [
    "lin_model.weight"
   ]
  },
  {
   "cell_type": "code",
   "execution_count": 9,
   "id": "060981ab",
   "metadata": {},
   "outputs": [
    {
     "name": "stderr",
     "output_type": "stream",
     "text": [
      "<ipython-input-9-3fdedc7601c8>:23: TqdmDeprecationWarning: This function will be removed in tqdm==5.0.0\n",
      "Please use `tqdm.notebook.tqdm` instead of `tqdm.tqdm_notebook`\n",
      "  tq = tqdm.tqdm_notebook(range(EPOCH_NUM * D))\n"
     ]
    },
    {
     "data": {
      "application/vnd.jupyter.widget-view+json": {
       "model_id": "df78a6d746314c8da332f309943fedd5",
       "version_major": 2,
       "version_minor": 0
      },
      "text/plain": [
       "  0%|          | 0/4000 [00:00<?, ?it/s]"
      ]
     },
     "metadata": {},
     "output_type": "display_data"
    },
    {
     "name": "stderr",
     "output_type": "stream",
     "text": [
      "<ipython-input-9-3fdedc7601c8>:27: UserWarning: Creating a tensor from a list of numpy.ndarrays is extremely slow. Please consider converting the list to a single numpy.ndarray with numpy.array() before converting to a tensor. (Triggered internally at ../torch/csrc/utils/tensor_new.cpp:230.)\n",
      "  out = model(torch.tensor(x_train).float())[:,0]\n"
     ]
    },
    {
     "name": "stdout",
     "output_type": "stream",
     "text": [
      "0.0724780336022377\n"
     ]
    },
    {
     "data": {
      "application/vnd.jupyter.widget-view+json": {
       "model_id": "1707596e60084832b15427fface7294e",
       "version_major": 2,
       "version_minor": 0
      },
      "text/plain": [
       "  0%|          | 0/4000 [00:00<?, ?it/s]"
      ]
     },
     "metadata": {},
     "output_type": "display_data"
    },
    {
     "name": "stdout",
     "output_type": "stream",
     "text": [
      "0.35640406608581543\n"
     ]
    },
    {
     "data": {
      "application/vnd.jupyter.widget-view+json": {
       "model_id": "746adbc5b64a42d0af721b7f65ba17a9",
       "version_major": 2,
       "version_minor": 0
      },
      "text/plain": [
       "  0%|          | 0/4000 [00:00<?, ?it/s]"
      ]
     },
     "metadata": {},
     "output_type": "display_data"
    },
    {
     "name": "stdout",
     "output_type": "stream",
     "text": [
      "0.11975093930959702\n"
     ]
    },
    {
     "data": {
      "application/vnd.jupyter.widget-view+json": {
       "model_id": "072402571ee5402ca26914dedebf7404",
       "version_major": 2,
       "version_minor": 0
      },
      "text/plain": [
       "  0%|          | 0/4000 [00:00<?, ?it/s]"
      ]
     },
     "metadata": {},
     "output_type": "display_data"
    },
    {
     "name": "stdout",
     "output_type": "stream",
     "text": [
      "0.16009056568145752\n"
     ]
    },
    {
     "data": {
      "application/vnd.jupyter.widget-view+json": {
       "model_id": "c7215f1dbfc7440da65d2561468f17db",
       "version_major": 2,
       "version_minor": 0
      },
      "text/plain": [
       "  0%|          | 0/4000 [00:00<?, ?it/s]"
      ]
     },
     "metadata": {},
     "output_type": "display_data"
    },
    {
     "name": "stdout",
     "output_type": "stream",
     "text": [
      "0.0829872339963913\n"
     ]
    },
    {
     "data": {
      "application/vnd.jupyter.widget-view+json": {
       "model_id": "ab174847835e4629a5561257e09f6926",
       "version_major": 2,
       "version_minor": 0
      },
      "text/plain": [
       "  0%|          | 0/4000 [00:00<?, ?it/s]"
      ]
     },
     "metadata": {},
     "output_type": "display_data"
    },
    {
     "name": "stdout",
     "output_type": "stream",
     "text": [
      "0.14346402883529663\n"
     ]
    },
    {
     "data": {
      "application/vnd.jupyter.widget-view+json": {
       "model_id": "95184c5ad9654f44bca4a150f1738a95",
       "version_major": 2,
       "version_minor": 0
      },
      "text/plain": [
       "  0%|          | 0/4000 [00:00<?, ?it/s]"
      ]
     },
     "metadata": {},
     "output_type": "display_data"
    },
    {
     "name": "stdout",
     "output_type": "stream",
     "text": [
      "0.16480834782123566\n"
     ]
    },
    {
     "data": {
      "application/vnd.jupyter.widget-view+json": {
       "model_id": "cdff5e68ae954cb6bcaee053373f3732",
       "version_major": 2,
       "version_minor": 0
      },
      "text/plain": [
       "  0%|          | 0/4000 [00:00<?, ?it/s]"
      ]
     },
     "metadata": {},
     "output_type": "display_data"
    },
    {
     "name": "stdout",
     "output_type": "stream",
     "text": [
      "0.2231200933456421\n"
     ]
    },
    {
     "data": {
      "application/vnd.jupyter.widget-view+json": {
       "model_id": "4b58b2d89a084ea1b4975d32602de17f",
       "version_major": 2,
       "version_minor": 0
      },
      "text/plain": [
       "  0%|          | 0/4000 [00:00<?, ?it/s]"
      ]
     },
     "metadata": {},
     "output_type": "display_data"
    },
    {
     "name": "stdout",
     "output_type": "stream",
     "text": [
      "0.576605498790741\n"
     ]
    },
    {
     "data": {
      "application/vnd.jupyter.widget-view+json": {
       "model_id": "88e8430d58a948a4bd8194f0472fd6e5",
       "version_major": 2,
       "version_minor": 0
      },
      "text/plain": [
       "  0%|          | 0/4000 [00:00<?, ?it/s]"
      ]
     },
     "metadata": {},
     "output_type": "display_data"
    },
    {
     "name": "stdout",
     "output_type": "stream",
     "text": [
      "0.17726732790470123\n"
     ]
    },
    {
     "data": {
      "application/vnd.jupyter.widget-view+json": {
       "model_id": "9d3d7b8dc212468b9bd69c027672504b",
       "version_major": 2,
       "version_minor": 0
      },
      "text/plain": [
       "  0%|          | 0/4000 [00:00<?, ?it/s]"
      ]
     },
     "metadata": {},
     "output_type": "display_data"
    },
    {
     "name": "stdout",
     "output_type": "stream",
     "text": [
      "0.2745930552482605\n"
     ]
    },
    {
     "data": {
      "application/vnd.jupyter.widget-view+json": {
       "model_id": "4e6685c8954149bf82c9309a17b164a7",
       "version_major": 2,
       "version_minor": 0
      },
      "text/plain": [
       "  0%|          | 0/4000 [00:00<?, ?it/s]"
      ]
     },
     "metadata": {},
     "output_type": "display_data"
    },
    {
     "name": "stdout",
     "output_type": "stream",
     "text": [
      "0.17707431316375732\n"
     ]
    },
    {
     "data": {
      "application/vnd.jupyter.widget-view+json": {
       "model_id": "44946ecba2d1486cba627b84190f7ad1",
       "version_major": 2,
       "version_minor": 0
      },
      "text/plain": [
       "  0%|          | 0/4000 [00:00<?, ?it/s]"
      ]
     },
     "metadata": {},
     "output_type": "display_data"
    },
    {
     "name": "stdout",
     "output_type": "stream",
     "text": [
      "0.15575726330280304\n"
     ]
    },
    {
     "data": {
      "application/vnd.jupyter.widget-view+json": {
       "model_id": "c4f687dd2cf8488fb56649dc86dc3bc1",
       "version_major": 2,
       "version_minor": 0
      },
      "text/plain": [
       "  0%|          | 0/4000 [00:00<?, ?it/s]"
      ]
     },
     "metadata": {},
     "output_type": "display_data"
    },
    {
     "name": "stdout",
     "output_type": "stream",
     "text": [
      "0.17612233757972717\n"
     ]
    },
    {
     "data": {
      "application/vnd.jupyter.widget-view+json": {
       "model_id": "5636166ca1334a7aa770978c6611ad52",
       "version_major": 2,
       "version_minor": 0
      },
      "text/plain": [
       "  0%|          | 0/4000 [00:00<?, ?it/s]"
      ]
     },
     "metadata": {},
     "output_type": "display_data"
    },
    {
     "name": "stdout",
     "output_type": "stream",
     "text": [
      "0.6122799515724182\n"
     ]
    },
    {
     "data": {
      "application/vnd.jupyter.widget-view+json": {
       "model_id": "840a4d6a0cd74ae0b65cfc122c8a379c",
       "version_major": 2,
       "version_minor": 0
      },
      "text/plain": [
       "  0%|          | 0/4000 [00:00<?, ?it/s]"
      ]
     },
     "metadata": {},
     "output_type": "display_data"
    },
    {
     "name": "stdout",
     "output_type": "stream",
     "text": [
      "0.10054340958595276\n"
     ]
    },
    {
     "data": {
      "application/vnd.jupyter.widget-view+json": {
       "model_id": "d42fb1d542c74a5e995d424adc79a503",
       "version_major": 2,
       "version_minor": 0
      },
      "text/plain": [
       "  0%|          | 0/4000 [00:00<?, ?it/s]"
      ]
     },
     "metadata": {},
     "output_type": "display_data"
    },
    {
     "name": "stdout",
     "output_type": "stream",
     "text": [
      "0.34368160367012024\n"
     ]
    },
    {
     "data": {
      "application/vnd.jupyter.widget-view+json": {
       "model_id": "ab7bc10112a94367bd320d06596d8462",
       "version_major": 2,
       "version_minor": 0
      },
      "text/plain": [
       "  0%|          | 0/4000 [00:00<?, ?it/s]"
      ]
     },
     "metadata": {},
     "output_type": "display_data"
    },
    {
     "name": "stdout",
     "output_type": "stream",
     "text": [
      "0.1256198137998581\n"
     ]
    },
    {
     "data": {
      "application/vnd.jupyter.widget-view+json": {
       "model_id": "c19ceaa22ed14721be73263a6b8afd8a",
       "version_major": 2,
       "version_minor": 0
      },
      "text/plain": [
       "  0%|          | 0/4000 [00:00<?, ?it/s]"
      ]
     },
     "metadata": {},
     "output_type": "display_data"
    },
    {
     "name": "stdout",
     "output_type": "stream",
     "text": [
      "0.3906998634338379\n"
     ]
    },
    {
     "data": {
      "application/vnd.jupyter.widget-view+json": {
       "model_id": "cf39b7fd611e426cadf5cc4cec51435a",
       "version_major": 2,
       "version_minor": 0
      },
      "text/plain": [
       "  0%|          | 0/4000 [00:00<?, ?it/s]"
      ]
     },
     "metadata": {},
     "output_type": "display_data"
    },
    {
     "name": "stdout",
     "output_type": "stream",
     "text": [
      "0.5258259773254395\n",
      "0.2479586862027645\n"
     ]
    }
   ],
   "source": [
    "# perfect-case:\n",
    "# one model for all the data, but the data is perfectly rotated\n",
    "accs = []\n",
    "for k in range(RUN_NUM):\n",
    "    torch.manual_seed(42+k)\n",
    "    x_train, y_train, x_test, y_test = [],[],[],[]\n",
    "    for angle in make_angles():\n",
    "        (_x_train, _y_train), (x_val, y_val), (_x_test, _y_test) = gen(TRAIN_NUM, 2000, seed=42+k+int(angle),\n",
    "                                                                       angle=0.0)\n",
    "        \n",
    "        _x_train = np.concatenate([_x_train, x_val]) # we don't use train/validation step\n",
    "        _y_train = np.concatenate([_y_train, y_val])\n",
    "        x_train.extend(_x_train)\n",
    "        y_train.extend(_y_train)\n",
    "        x_test.extend(_x_test)\n",
    "        y_test.extend(_y_test)\n",
    "    \n",
    "    \n",
    "    lin_model = torch.nn.Linear(2*(POLY_NUM+1),1) \n",
    "    opt = torch.optim.SGD(lin_model.parameters(), lr=1e-3)\n",
    "    model = lambda x: lin_model(poly_generate(x))\n",
    "    crit = torch.nn.MSELoss()\n",
    "    tq = tqdm.tqdm_notebook(range(EPOCH_NUM * D))\n",
    "    \n",
    "    for e in tq:\n",
    "        opt.zero_grad()\n",
    "        out = model(torch.tensor(x_train).float())[:,0]\n",
    "        loss = crit(out, torch.tensor(y_train).float())\n",
    "        loss.backward()\n",
    "        torch.nn.utils.clip_grad_value_(lin_model.parameters(), GRAD_CLIP)\n",
    "        opt.step()\n",
    "        tq.set_description(str(loss.item()))\n",
    "    acc = crit2(model(torch.tensor(x_test).float())[:,0], torch.tensor(y_test).float()).item()\n",
    "    accs.append(acc)\n",
    "    print (acc)\n",
    "print(np.mean(accs)) \n",
    "with open('perfect_model.txt', 'a') as out:\n",
    "    out.write(f'D={D}, HEAD_NUM={HEAD_NUM}, RUN_NUM={RUN_NUM}, CRIT={np.mean(accs)}+-{np.std(accs)}.   MIN={np.min(accs)}, MAX={np.max(accs)}\\n')\n",
    "with open('perfect_model.jsonl', 'a') as out:\n",
    "    out.write(json.dumps({'D': D, 'HEAD_NUM':HEAD_NUM, 'RUN_NUM': RUN_NUM, 'accs': accs})+'\\n')"
   ]
  },
  {
   "cell_type": "code",
   "execution_count": 8,
   "id": "2607f0d2",
   "metadata": {},
   "outputs": [],
   "source": [
    "# rotation module for torch. Angles are in degrees\n",
    "class Rot(torch.nn.Module):\n",
    "    def __init__(self, angle = None):\n",
    "        super().__init__()\n",
    "        if angle is None:\n",
    "            angle = torch.randn(1)*90\n",
    "        else:\n",
    "            angle = torch.tensor(angle).float()\n",
    "        self.angle = torch.nn.Parameter(angle)\n",
    "    \n",
    "    def forward(self, x):\n",
    "        angle = self.angle * np.pi/2 / 90\n",
    "        c = torch.cos(angle)\n",
    "        s = torch.sin(angle)\n",
    "        M = torch.vstack([torch.hstack([c, -s]), torch.hstack([s, c])])\n",
    "        result = x * 1.0\n",
    "        result[:,:2] = (M@x[:,:2].T).T\n",
    "        return result\n"
   ]
  },
  {
   "cell_type": "code",
   "execution_count": 21,
   "id": "be35be28",
   "metadata": {},
   "outputs": [],
   "source": []
  },
  {
   "cell_type": "code",
   "execution_count": 9,
   "id": "ac9471ae",
   "metadata": {},
   "outputs": [],
   "source": [
    "nn = torch.nn\n",
    "# simple triplet loss: for each objects takes a random triplet (with triplet conditions)\n",
    "class MdTripletLoss(nn.Module):\n",
    "    def __init__(self, m =0.0, p=2, subset_size = 9999, sample_num = 1):\n",
    "        super(MdTripletLoss, self).__init__()\n",
    "        self.triplet_loss = nn.TripletMarginLoss(margin=m, p=p)\n",
    "        self.rs = np.random.RandomState(21)\n",
    "        self.subset_size = subset_size\n",
    "        self.sample_num = sample_num\n",
    "    \n",
    "    def forward(self, h1: torch.Tensor, h2: torch.Tensor, labels1: torch.LongTensor, labels2: torch.LongTensor):\n",
    "        \"\"\"\n",
    "        :param: h1: hidden representations of size (bs, *), anchors\n",
    "        :param: h1: hidden representations of size (bs, *), positives and negatives candidates\n",
    "        \"\"\"\n",
    "        FEATURE_TRIPLET_DIM = 2\n",
    "        h1 = h1[:, :FEATURE_TRIPLET_DIM]\n",
    "        h2 = h2[:, :FEATURE_TRIPLET_DIM]\n",
    "        \n",
    "        bs = h1.size(0)\n",
    "        if bs > self.subset_size:\n",
    "            elems = list(range(bs))\n",
    "            self.rs.shuffle(elems)\n",
    "            h1 = h1[elems[:self.subset_size]]\n",
    "            labels1 = labels1[elems[:self.subset_size]]\n",
    "            self.rs.shuffle(elems)\n",
    "            h2 = h2[elems[:self.subset_size]]\n",
    "            labels2 = labels2[elems[:self.subset_size]]\n",
    "            bs = self.subset_size\n",
    "            \n",
    "        \n",
    "        h1 = h1.view(bs, -1)\n",
    "        h2 = h2.view(bs, -1)\n",
    "        \n",
    "        loss = 0.0\n",
    "        anch =  []\n",
    "        pos = []\n",
    "        neg = []\n",
    "        ids1 = list(range(len(h1)))\n",
    "        \n",
    "        ids2 = list(range(len(h2)))\n",
    "        rs = self.rs\n",
    "        for _ in range(self.sample_num):\n",
    "           \n",
    "            #ids2 = ids2[::-1]\n",
    "            rs.shuffle(ids1)\n",
    "            rs.shuffle(ids2)\n",
    "            h1 = h1[ids1]\n",
    "            h2 = h2[ids2]\n",
    "            labels1 = labels1[ids1]\n",
    "            labels2 = labels2[ids2]\n",
    "\n",
    "            for i in range(len(h1)):\n",
    "                found = False \n",
    "                for j in range(len(h2)):\n",
    "\n",
    "                    if found:\n",
    "                        break\n",
    "                    for k in range(j+1, len(h2)):\n",
    "                        if   abs(labels1[i] - labels2[j]) > abs(labels1[i] - labels2[k]): #\\\n",
    "                        #and torch.linalg.norm(h1[i] - h2[j]) < torch.linalg.norm(h1[i] - h2[k]):\n",
    "                            anch.append(h1[i])\n",
    "                            pos.append(h2[k])\n",
    "                            neg.append(h2[j])\n",
    "\n",
    "                            found = True\n",
    "                            break\n",
    "        \n",
    "        if len(anch) >0:\n",
    "            a = torch.vstack(anch)\n",
    "            p = torch.vstack(pos)\n",
    "            n = torch.vstack(neg)\n",
    "            loss = self.triplet_loss(a, p, n)\n",
    "            return loss\n",
    "        else:\n",
    "            return 0.0"
   ]
  },
  {
   "cell_type": "code",
   "execution_count": 32,
   "id": "e4ca449b",
   "metadata": {},
   "outputs": [
    {
     "data": {
      "text/plain": [
       "9"
      ]
     },
     "execution_count": 32,
     "metadata": {},
     "output_type": "execute_result"
    }
   ],
   "source": [
    "#model = ArchModel()\n",
    "#len(list((model.models[0].parameters()))[0][0])\n"
   ]
  },
  {
   "cell_type": "code",
   "execution_count": 10,
   "id": "792212a6",
   "metadata": {},
   "outputs": [],
   "source": [
    "# our architecture\n",
    "# consists of HEAD_NUM rotations and HEAD_NUN linear models\n",
    "\n",
    "class ArchModel(torch.nn.Module):\n",
    "    def __init__(self):\n",
    "        super().__init__()\n",
    "        \n",
    "        self.gammas = [torch.nn.Parameter(torch.rand(2, HEAD_NUM)) for _ in range(D)]\n",
    "        self.rots = torch.nn.ModuleList([Rot() for _ in range(HEAD_NUM)])\n",
    "        self.models = torch.nn.ModuleList([torch.nn.Linear(2*(POLY_NUM+1), 1) for _ in range(HEAD_NUM)])\n",
    "    def forward(self, x, d, gammas = None, only_angle = False, use_softmax = True, t=1.0):\n",
    "        if gammas is None:\n",
    "            gammas = self.gammas[d]\n",
    "        return make_inference(x, self.rots, self.models, self.gammas[d],\n",
    "                              use_softmax=use_softmax, only_angle=only_angle, t=t)\n",
    "   \n",
    "\n",
    "def multi_js_divergence(alphas) -> torch.tensor:\n",
    "    js = 0.0\n",
    "    for j in range(2): # rotation and head\n",
    "        alpha_full = torch.stack([a[j] for a in alphas], dim=0)\n",
    "        alpha_full = torch.softmax(alpha_full, dim=1)\n",
    "        \n",
    "        centroid = torch.mean(alpha_full, 0)\n",
    "        \n",
    "        d_centroid = torch.distributions.Categorical(probs=centroid)\n",
    "        \n",
    "        for alpha in alphas:\n",
    "            d = torch.distributions.Categorical(probs=torch.softmax(alpha[j], 0))\n",
    "            js += 1.0/len(alphas) * \\\n",
    "                torch.distributions.kl.kl_divergence(d, d_centroid)\n",
    "    return js\n",
    "\n",
    "# param number calculation   \n",
    "def calc_params(gammas):\n",
    "    linear_model_param_num = 2* ( POLY_NUM + 1) + 1\n",
    "    cnt = 0\n",
    "    rots = set()\n",
    "    for i in range(D):\n",
    "        rots.add(gammas[i][0].argmax().item())\n",
    "    \n",
    "    linears = set()\n",
    "    for i in range(D):\n",
    "        linears.add(gammas[i][1].argmax().item())\n",
    "    return len(rots) + len(linears)*(linear_model_param_num)\n",
    "\n",
    "#gammas = [torch.randn(2, 5) for _ in range(3)]\n",
    "#multi_js_divergence(gammas)"
   ]
  },
  {
   "cell_type": "code",
   "execution_count": null,
   "id": "c267b6c4",
   "metadata": {},
   "outputs": [],
   "source": []
  },
  {
   "cell_type": "code",
   "execution_count": 11,
   "id": "ec225711",
   "metadata": {},
   "outputs": [],
   "source": [
    "def dartslike(fname, triplet_coef_search = 0.0, triplet_coef_train = 0.0, js_coef = 0.0, unroll: bool = True,\n",
    "              lr=1e-3, lr0=0.1, lr2=.01):\n",
    "    h = []\n",
    "    accs = []\n",
    "    param_num = []\n",
    "\n",
    "    \n",
    "    tl = MdTripletLoss(p=2.0, subset_size=9999, sample_num=1) # oleg\n",
    "    \n",
    "    for k in range(RUN_NUM):\n",
    "        torch.manual_seed(42+k)\n",
    "        x_train, y_train, x_val, y_val, x_test, y_test = [],[],[],[],[],[]\n",
    "        for angle in make_angles():\n",
    "            (_x_train, _y_train), (_x_val, _y_val), (_x_test, _y_test) = gen(TRAIN_NUM, TEST_NUM, seed=42+k+int(angle),\n",
    "                                                                             angle=angle)\n",
    "            x_train.append(_x_train)\n",
    "            y_train.append(_y_train)\n",
    "            x_val.append(_x_val)\n",
    "            y_val.append(_y_val)\n",
    "            x_test.append(_x_test)\n",
    "            y_test.append(_y_test)\n",
    "        model = ArchModel()\n",
    "        \n",
    "    \n",
    "        rs = np.random.RandomState(42+k)\n",
    "        \n",
    "        opt = torch.optim.SGD([{'params': model.rots.parameters(), 'lr': lr0},\n",
    "                              {'params': model.models.parameters(), 'lr': lr}],\n",
    "                              lr=lr)\n",
    "                              \n",
    "                              \n",
    "        opt2 = torch.optim.SGD(model.gammas, lr=lr2)\n",
    "\n",
    "        crit = torch.nn.MSELoss()\n",
    "        tq = tqdm.tqdm_notebook(range(EPOCH_NUM )) # taking half of epoch num for NAS\n",
    "        losses = []\n",
    "        losses2 = []\n",
    "        for e in tq:\n",
    "            t = max(0.2, 1.0 - e/EPOCH_NUM)\n",
    "            \n",
    "            for d in range(D):\n",
    "            \n",
    "                opt2.zero_grad()\n",
    "                d2 = rs.choice([i for i in range(D) if i != d])\n",
    "            \n",
    "                # unrolling step: done manually without approximation\n",
    "                if unroll:\n",
    "                    opt.zero_grad()\n",
    "                    x = torch.tensor(x_train[d]).float()\n",
    "                    y = torch.tensor(y_train[d]).float()\n",
    "\n",
    "                    x2 = torch.tensor(x_train[d2]).float()\n",
    "                    y2 = torch.tensor(y_train[d2]).float()\n",
    "\n",
    "                    out_angle1 = model(x, d, only_angle=True, t=t)\n",
    "                    out_angle2 = model(x2, d2, only_angle=True, t=t)\n",
    "\n",
    "                    out = model(x, d, t=t)[:,0]\n",
    "                    loss = crit(out, y)\n",
    "                    if triplet_coef_search:\n",
    "                        tloss = tl(out_angle1, out_angle2, y, y2) * triplet_coef_search\n",
    "                        loss += tloss\n",
    "                    grads = torch.autograd.grad(loss, model.parameters())\n",
    "                    grads = [torch.clamp(g, -GRAD_CLIP, GRAD_CLIP) for g in grads]\n",
    "                        \n",
    "                    with torch.no_grad():\n",
    "                        for p,g in zip(model.parameters(), grads):\n",
    "                            p = p + lr * g\n",
    "                            \n",
    "                x = torch.tensor(x_val[d]).float()\n",
    "                y = torch.tensor(y_val[d]).float()\n",
    "\n",
    "                x2 = torch.tensor(x_val[d2]).float()\n",
    "                y2 = torch.tensor(y_val[d2]).float()\n",
    "\n",
    "                out_angle1 = model(x, d, only_angle=True, t=t)\n",
    "                out_angle2 = model(x2, d2, only_angle=True, t=t)\n",
    "                \n",
    "\n",
    "                out = model(x, d, t=t)[:,0]\n",
    "                loss2 = crit(out, y) \n",
    "                if triplet_coef_search:\n",
    "                        tloss = tl(out_angle1, out_angle2, y, y2) * triplet_coef_search\n",
    "                        loss2 += tloss\n",
    "                if js_coef:\n",
    "                    loss2 += multi_js_divergence(model.gammas).mean() * js_coef\n",
    "                loss2.backward()\n",
    "                torch.nn.utils.clip_grad_value_(model.gammas, GRAD_CLIP)\n",
    "                opt2.step()\n",
    "                \n",
    "                if unroll:\n",
    "                    with torch.no_grad():\n",
    "                        for i,g in zip(model.parameters(), grads):\n",
    "                            p = p - lr * g\n",
    "                            \n",
    "                            \n",
    "                opt.zero_grad()\n",
    "                x = torch.tensor(x_train[d]).float()\n",
    "                y = torch.tensor(y_train[d]).float()\n",
    "\n",
    "                x2 = torch.tensor(x_train[d2]).float()\n",
    "                y2 = torch.tensor(y_train[d2]).float()\n",
    "\n",
    "                out_angle1 = model(x, d, only_angle=True, t=t)\n",
    "                out_angle2 = model(x2, d2, only_angle=True, t=t)\n",
    "                \n",
    "                out = model(x, d)[:,0]\n",
    "                loss = crit(out, y)\n",
    "                if triplet_coef_search:\n",
    "                    tloss = tl(out_angle1, out_angle2, y, y2) * triplet_coef_search\n",
    "                    loss += tloss\n",
    "                loss.backward()\n",
    "                torch.nn.utils.clip_grad_value_(model.parameters(), GRAD_CLIP)\n",
    "                opt.step()\n",
    "                losses.append(loss.item())\n",
    "                losses2.append(loss2.item())\n",
    "            \n",
    "            tq.set_description(str(np.mean(losses))+';'+str(np.mean(losses2)))\n",
    "\n",
    "        tq = tqdm.tqdm_notebook(range(EPOCH_NUM))\n",
    "        \n",
    "        # search step. Now we concatenate train and validation\n",
    "        x_train = np.concatenate([x_train, x_val], axis=1)\n",
    "        y_train =  np.concatenate([y_train, y_val], axis=1)\n",
    "        \n",
    "        \n",
    "        for g in model.gammas:\n",
    "            print (g.argmax(1))\n",
    "        \n",
    "        for g in model.gammas:\n",
    "            print (g)\n",
    "        \n",
    "        opt = torch.optim.SGD([{'params': model.rots.parameters(), 'lr': lr0},\n",
    "                              {'params': model.models.parameters(), 'lr': lr}],\n",
    "                              lr=lr)\n",
    "        \n",
    "        for e in tq:\n",
    "            \n",
    "            for d in range(D):\n",
    "                loss = 0.0\n",
    "                opt.zero_grad()\n",
    "\n",
    "                d2 = rs.choice([i for i in range(D) if i != d])\n",
    "\n",
    "                x = torch.tensor(x_train[d]).float()\n",
    "                y = torch.tensor(y_train[d]).float()\n",
    "                out = model(x, d, use_softmax=False)[:,0]\n",
    "\n",
    "               \n",
    "                loss = crit(out, y) \n",
    "                if triplet_coef_train:\n",
    "                    x2 = torch.tensor(x_train[d2]).float()\n",
    "                    y2 = torch.tensor(y_train[d2]).float()\n",
    "\n",
    "                    out_angle1 = model(x, d, only_angle=True, use_softmax=False) # note, using one-hot here\n",
    "                    out_angle2 = model(x2, d2, only_angle=True, use_softmax=False)\n",
    "\n",
    "                    tloss = tl(out_angle1, out_angle2, y, y2)* triplet_coef_train\n",
    "                    loss += tloss\n",
    "                \n",
    "                \n",
    "                loss.backward()\n",
    "                torch.nn.utils.clip_grad_value_(model.parameters(), GRAD_CLIP)\n",
    "                opt.step()\n",
    "            angles= [str(r.angle.item()) for r in model.rots]\n",
    "            #print (angles)\n",
    "            tq.set_description(' '.join(angles))\n",
    "        total = 0\n",
    "        for d in range(D):\n",
    "\n",
    "            out = model(torch.tensor(x_test[d]).float(), d, use_softmax=False)\n",
    "            total += crit2(out[:,0], torch.tensor(y_test[d]).float()).item()\n",
    "            print ('acc ', d, crit2(out[:,0], torch.tensor(y_test[d]).float()).item())\n",
    "        acc = total/D\n",
    "        accs.append(acc)\n",
    "        param_num.append(calc_params(model.gammas))\n",
    "        print (acc, param_num[-1])\n",
    "        \n",
    "    with open(fname+'.txt', 'a') as out:\n",
    "        out.write(f'D={D}, HEAD_NUM={HEAD_NUM}, RUN_NUM={RUN_NUM}, CRIT={np.mean(accs)}+-{np.std(accs)}.  MIN={np.min(accs)}, MAX={np.max(accs)}')\n",
    "        out.write(f' PARAMS={np.mean(param_num)}+-{np.std(param_num)}. MIN={np.min(param_num)}, MAX={np.max(param_num)}\\n')\n",
    "    \n",
    "    with open(fname+'.jsonl', 'a') as out:\n",
    "        out.write(json.dumps({'D': D, 'HEAD_NUM': HEAD_NUM, 'RUN_NUM': RUN_NUM, 'accs': accs, 'params': param_num})+'\\n')\n",
    "    print (model.gammas)\n",
    "    for r in model.rots:\n",
    "        print (r.angle)\n",
    "    return (np.mean(accs), np.mean(param_num))\n"
   ]
  },
  {
   "cell_type": "code",
   "execution_count": 12,
   "id": "b08403db",
   "metadata": {
    "scrolled": true
   },
   "outputs": [
    {
     "name": "stderr",
     "output_type": "stream",
     "text": [
      "<ipython-input-9-7736bc93d887>:35: TqdmDeprecationWarning: This function will be removed in tqdm==5.0.0\n",
      "Please use `tqdm.notebook.tqdm` instead of `tqdm.tqdm_notebook`\n",
      "  tq = tqdm.tqdm_notebook(range(EPOCH_NUM )) # taking half of epoch num for NAS\n"
     ]
    },
    {
     "data": {
      "application/vnd.jupyter.widget-view+json": {
       "model_id": "1276b6d687094003acf31f0850791698",
       "version_major": 2,
       "version_minor": 0
      },
      "text/plain": [
       "  0%|          | 0/1000 [00:00<?, ?it/s]"
      ]
     },
     "metadata": {},
     "output_type": "display_data"
    },
    {
     "name": "stderr",
     "output_type": "stream",
     "text": [
      "<ipython-input-9-7736bc93d887>:120: TqdmDeprecationWarning: This function will be removed in tqdm==5.0.0\n",
      "Please use `tqdm.notebook.tqdm` instead of `tqdm.tqdm_notebook`\n",
      "  tq = tqdm.tqdm_notebook(range(EPOCH_NUM))\n"
     ]
    },
    {
     "data": {
      "application/vnd.jupyter.widget-view+json": {
       "model_id": "8d13112ab69f4e059c595e54ea7e7fc2",
       "version_major": 2,
       "version_minor": 0
      },
      "text/plain": [
       "  0%|          | 0/1000 [00:00<?, ?it/s]"
      ]
     },
     "metadata": {},
     "output_type": "display_data"
    },
    {
     "name": "stdout",
     "output_type": "stream",
     "text": [
      "tensor([6, 0])\n",
      "tensor([0, 6])\n",
      "tensor([3, 6])\n",
      "tensor([1, 0])\n",
      "Parameter containing:\n",
      "tensor([[-0.0225, -3.1178, -1.4113, -0.3959,  0.9707,  1.3132,  9.2108, -1.3661],\n",
      "        [ 0.9071,  0.2940,  0.6892,  0.6719,  0.6382,  0.7046,  0.7425,  0.5624]],\n",
      "       requires_grad=True)\n",
      "Parameter containing:\n",
      "tensor([[ 1.0739e+01, -1.6952e+00,  6.3089e-03, -2.4048e+00,  5.2030e-01,\n",
      "          1.9893e+00, -1.7392e+00, -3.2227e+00],\n",
      "        [ 1.3185e-01,  2.5738e-01,  1.3150e-01,  6.5252e-02,  6.4609e-01,\n",
      "         -9.4677e-02,  1.1486e+00,  2.2714e-01]], requires_grad=True)\n",
      "Parameter containing:\n",
      "tensor([[-8.1441e-01, -3.5143e-01,  4.1263e-01,  1.0004e+01, -2.1638e+00,\n",
      "         -1.4262e+00,  1.2386e-01, -7.9007e-01],\n",
      "        [ 8.3684e-01,  8.5815e-01,  1.0491e+00,  7.3535e-01,  1.0527e+00,\n",
      "          4.4803e-03,  1.0565e+00, -4.8895e-01]], requires_grad=True)\n",
      "Parameter containing:\n",
      "tensor([[ 1.4904, 11.1621, -2.8820, -2.3336, -0.7658, -1.1921, -0.9870, -0.8530],\n",
      "        [ 1.9639,  0.6081,  1.2531, -0.0895,  0.5083, -0.2232,  1.6270, -1.7900]],\n",
      "       requires_grad=True)\n",
      "acc  0 0.25120288133621216\n",
      "acc  1 1.1780120134353638\n",
      "acc  2 1.4418450593948364\n",
      "acc  3 0.21481645107269287\n",
      "0.7714691013097763 22\n"
     ]
    },
    {
     "data": {
      "application/vnd.jupyter.widget-view+json": {
       "model_id": "c5e0d6b24b4b42648bf546d88efbd538",
       "version_major": 2,
       "version_minor": 0
      },
      "text/plain": [
       "  0%|          | 0/1000 [00:00<?, ?it/s]"
      ]
     },
     "metadata": {},
     "output_type": "display_data"
    },
    {
     "data": {
      "application/vnd.jupyter.widget-view+json": {
       "model_id": "688de56d786f4c53adce62fa759bc135",
       "version_major": 2,
       "version_minor": 0
      },
      "text/plain": [
       "  0%|          | 0/1000 [00:00<?, ?it/s]"
      ]
     },
     "metadata": {},
     "output_type": "display_data"
    },
    {
     "name": "stdout",
     "output_type": "stream",
     "text": [
      "tensor([5, 7])\n",
      "tensor([7, 7])\n",
      "tensor([2, 1])\n",
      "tensor([3, 7])\n",
      "Parameter containing:\n",
      "tensor([[-0.1023,  1.6528, -2.6882, -0.7597, -0.6959,  9.2927, -1.2390, -2.6519],\n",
      "        [ 1.0110,  0.5195,  0.9386, -0.3878,  0.1175,  0.7735,  0.6606,  1.1090]],\n",
      "       requires_grad=True)\n",
      "Parameter containing:\n",
      "tensor([[-1.7094,  1.0117, -2.9540, -1.3571, -2.0054, -0.6332, -2.1315, 13.5249],\n",
      "        [-0.3122,  0.9393,  0.7192,  1.5869,  0.2697, -0.7294, -0.4165,  1.9422]],\n",
      "       requires_grad=True)\n",
      "Parameter containing:\n",
      "tensor([[-2.7364, -0.9561, 11.7981, -0.8606, -0.0224, -0.2963, -2.1074, -0.1596],\n",
      "        [ 0.0463,  1.1838,  0.5872,  0.1593,  0.6796,  0.9760,  0.4476, -0.0387]],\n",
      "       requires_grad=True)\n",
      "Parameter containing:\n",
      "tensor([[-0.9935, -0.1735, -1.4061,  9.3223, -0.2071, -0.3590, -1.0706, -0.7979],\n",
      "        [ 0.4061,  0.4962,  0.1698,  0.0401,  0.0494,  0.5820, -0.0820,  1.3155]],\n",
      "       requires_grad=True)\n",
      "acc  0 0.5890401005744934\n",
      "acc  1 0.619239330291748\n",
      "acc  2 1.1555438041687012\n",
      "acc  3 0.5658522844314575\n",
      "0.7324188798666 22\n"
     ]
    },
    {
     "data": {
      "application/vnd.jupyter.widget-view+json": {
       "model_id": "6230cc1878234e9b8e279a5aca994661",
       "version_major": 2,
       "version_minor": 0
      },
      "text/plain": [
       "  0%|          | 0/1000 [00:00<?, ?it/s]"
      ]
     },
     "metadata": {},
     "output_type": "display_data"
    },
    {
     "data": {
      "application/vnd.jupyter.widget-view+json": {
       "model_id": "25d863e3a7294acfa4587d050f0dca95",
       "version_major": 2,
       "version_minor": 0
      },
      "text/plain": [
       "  0%|          | 0/1000 [00:00<?, ?it/s]"
      ]
     },
     "metadata": {},
     "output_type": "display_data"
    },
    {
     "name": "stdout",
     "output_type": "stream",
     "text": [
      "tensor([1, 4])\n",
      "tensor([5, 5])\n",
      "tensor([3, 1])\n",
      "tensor([2, 7])\n",
      "Parameter containing:\n",
      "tensor([[ 2.5898,  9.6746, -1.6482, -2.0517,  0.3385, -1.3963, -0.6868, -2.5502],\n",
      "        [ 0.9572,  0.7244,  0.9318,  0.5839,  1.2681,  0.3911,  0.7413, -0.0671]],\n",
      "       requires_grad=True)\n",
      "Parameter containing:\n",
      "tensor([[-1.7052, -1.6386, -2.1446, -1.6124,  0.1239,  9.9974, -0.8818,  3.0914],\n",
      "        [ 0.2233,  0.6474,  0.0215,  0.5323,  0.8184,  0.8688,  0.2773,  0.4035]],\n",
      "       requires_grad=True)\n",
      "Parameter containing:\n",
      "tensor([[-1.5838, -1.2656, -1.7131, 11.1090,  0.3003, -1.0421, -0.5125, -1.4939],\n",
      "        [ 0.1847,  1.2850, -0.1450,  0.5264,  0.7860,  0.3591,  0.1225, -0.0454]],\n",
      "       requires_grad=True)\n",
      "Parameter containing:\n",
      "tensor([[-0.7682, -0.6174, 10.5216, -1.9044,  1.5230, -1.1692, -2.7379, -1.2112],\n",
      "        [ 0.3683,  0.9265,  0.3396,  0.6162,  0.1227,  0.4799,  0.4733,  0.9635]],\n",
      "       requires_grad=True)\n",
      "acc  0 1.3073983192443848\n",
      "acc  1 0.9512713551521301\n",
      "acc  2 0.7430656552314758\n",
      "acc  3 0.7688198685646057\n",
      "0.9426387995481491 40\n"
     ]
    },
    {
     "data": {
      "application/vnd.jupyter.widget-view+json": {
       "model_id": "7e6df6c80cc14ca3832f31bf5e9718a0",
       "version_major": 2,
       "version_minor": 0
      },
      "text/plain": [
       "  0%|          | 0/1000 [00:00<?, ?it/s]"
      ]
     },
     "metadata": {},
     "output_type": "display_data"
    },
    {
     "data": {
      "application/vnd.jupyter.widget-view+json": {
       "model_id": "65153053bf07432fa79020fce7817b63",
       "version_major": 2,
       "version_minor": 0
      },
      "text/plain": [
       "  0%|          | 0/1000 [00:00<?, ?it/s]"
      ]
     },
     "metadata": {},
     "output_type": "display_data"
    },
    {
     "name": "stdout",
     "output_type": "stream",
     "text": [
      "tensor([6, 0])\n",
      "tensor([2, 1])\n",
      "tensor([0, 7])\n",
      "tensor([4, 4])\n",
      "Parameter containing:\n",
      "tensor([[-0.6973, -1.4660, -2.3971, -1.0507,  0.0798, -2.1230, 11.6338,  0.1999],\n",
      "        [ 0.8082,  0.2417,  0.0789,  0.1788,  0.5058,  0.1985,  0.7991,  0.2677]],\n",
      "       requires_grad=True)\n",
      "Parameter containing:\n",
      "tensor([[-0.2253, -0.5645,  9.1727,  1.9240, -2.7035, -0.7988, -1.1181, -1.0502],\n",
      "        [ 0.6067,  0.7934,  0.2532,  0.3652,  0.5784,  0.7506,  0.3419,  0.4971]],\n",
      "       requires_grad=True)\n",
      "Parameter containing:\n",
      "tensor([[11.3288, -1.2635, -0.8306, -1.1643, -1.7379, -0.0321, -2.6926,  0.2187],\n",
      "        [ 0.5202,  0.1529,  0.6735,  0.1151,  0.1970,  0.0364,  0.5514,  0.6744]],\n",
      "       requires_grad=True)\n",
      "Parameter containing:\n",
      "tensor([[-1.2927, -1.6086, -0.3481, -0.9758, 10.5704, -2.7894,  0.4705, -0.2901],\n",
      "        [ 0.2679,  0.7218,  0.4609,  0.7679,  0.9364,  0.6002,  0.3528,  0.2798]],\n",
      "       requires_grad=True)\n",
      "acc  0 0.6184577941894531\n",
      "acc  1 0.831360399723053\n",
      "acc  2 0.968535304069519\n",
      "acc  3 0.9405913352966309\n",
      "0.839736208319664 40\n"
     ]
    },
    {
     "data": {
      "application/vnd.jupyter.widget-view+json": {
       "model_id": "ca82274a1fb9452fa12443719145296f",
       "version_major": 2,
       "version_minor": 0
      },
      "text/plain": [
       "  0%|          | 0/1000 [00:00<?, ?it/s]"
      ]
     },
     "metadata": {},
     "output_type": "display_data"
    },
    {
     "data": {
      "application/vnd.jupyter.widget-view+json": {
       "model_id": "3d4743c13dfb4bf781e8bb4d0fcf9538",
       "version_major": 2,
       "version_minor": 0
      },
      "text/plain": [
       "  0%|          | 0/1000 [00:00<?, ?it/s]"
      ]
     },
     "metadata": {},
     "output_type": "display_data"
    },
    {
     "name": "stdout",
     "output_type": "stream",
     "text": [
      "tensor([7, 4])\n",
      "tensor([5, 5])\n",
      "tensor([6, 2])\n",
      "tensor([2, 1])\n",
      "Parameter containing:\n",
      "tensor([[-1.3309,  0.9636, -1.5366, -2.3746, -1.1496, -0.5332, -1.4597, 10.9436],\n",
      "        [-0.0144,  0.4355,  0.6479,  0.0788,  1.1260,  0.5670,  1.0423,  0.7003]],\n",
      "       requires_grad=True)\n",
      "Parameter containing:\n",
      "tensor([[-0.7022, -1.9274, -1.0049,  2.3657,  1.6262, 10.0410, -1.2816, -4.8446],\n",
      "        [ 2.4822, -0.5060, -1.0232, -1.1750, -0.3060,  2.6559,  2.0081,  1.5861]],\n",
      "       requires_grad=True)\n",
      "Parameter containing:\n",
      "tensor([[-0.3888, -1.5476, -1.1338, -1.7993, -0.3081, -1.9875, 13.3955, -2.5555],\n",
      "        [-0.3413,  0.0821,  2.7723, -1.2322, -0.4237,  1.1142,  0.5471,  0.6137]],\n",
      "       requires_grad=True)\n",
      "Parameter containing:\n",
      "tensor([[ 0.1598, -1.0593, 11.5544, -1.5081, -3.6930,  0.1578,  1.5533, -3.5319],\n",
      "        [ 0.0659,  1.1700,  0.5617,  0.7474,  0.3219,  0.4600,  0.3725,  0.9543]],\n",
      "       requires_grad=True)\n",
      "acc  0 0.872482419013977\n",
      "acc  1 0.4767111837863922\n",
      "acc  2 1.005407452583313\n",
      "acc  3 0.697145402431488\n",
      "0.7629366144537926 40\n"
     ]
    },
    {
     "data": {
      "application/vnd.jupyter.widget-view+json": {
       "model_id": "ebf1b6a21e114e1aa71bac502da9ce96",
       "version_major": 2,
       "version_minor": 0
      },
      "text/plain": [
       "  0%|          | 0/1000 [00:00<?, ?it/s]"
      ]
     },
     "metadata": {},
     "output_type": "display_data"
    },
    {
     "data": {
      "application/vnd.jupyter.widget-view+json": {
       "model_id": "6a3d2ab113c948ffb876286eebb32560",
       "version_major": 2,
       "version_minor": 0
      },
      "text/plain": [
       "  0%|          | 0/1000 [00:00<?, ?it/s]"
      ]
     },
     "metadata": {},
     "output_type": "display_data"
    },
    {
     "name": "stdout",
     "output_type": "stream",
     "text": [
      "tensor([6, 0])\n",
      "tensor([6, 7])\n",
      "tensor([4, 6])\n",
      "tensor([3, 5])\n",
      "Parameter containing:\n",
      "tensor([[-1.1283,  0.1483, -1.3795,  2.1932, -1.2243, -3.8157, 10.2556, -1.0244],\n",
      "        [ 4.3740, -0.3257, -0.6998, -1.5442,  1.2234, -1.0433,  0.5666,  0.7456]],\n",
      "       requires_grad=True)\n",
      "Parameter containing:\n",
      "tensor([[ 0.2037, -0.5816, -2.2042, -4.7106, -0.9959,  1.5861,  9.1454,  0.4471],\n",
      "        [-0.5725, -0.7263,  0.1539,  0.8603, -0.3339,  0.5731,  1.6840,  2.0267]],\n",
      "       requires_grad=True)\n",
      "Parameter containing:\n",
      "tensor([[ 0.8745, -1.9395, -0.0782, -1.0358,  9.5624,  1.5304, -2.5721, -3.0255],\n",
      "        [ 0.4519,  0.2725,  0.5887, -0.1207,  0.3508,  0.2964,  0.6101,  0.5825]],\n",
      "       requires_grad=True)\n",
      "Parameter containing:\n",
      "tensor([[-1.7005, -1.3692, -5.6214, 11.5437,  0.5217,  0.1575,  0.5633, -1.1789],\n",
      "        [-0.1833,  0.4060,  0.0542,  0.6691,  0.7795,  0.9525,  0.4981,  0.3457]],\n",
      "       requires_grad=True)\n",
      "acc  0 1.0404953956604004\n",
      "acc  1 0.9049862027168274\n",
      "acc  2 1.1027122735977173\n",
      "acc  3 0.9648953676223755\n",
      "1.0032723098993301 39\n"
     ]
    },
    {
     "data": {
      "application/vnd.jupyter.widget-view+json": {
       "model_id": "6f7c0af7186448dea0452b5face0847e",
       "version_major": 2,
       "version_minor": 0
      },
      "text/plain": [
       "  0%|          | 0/1000 [00:00<?, ?it/s]"
      ]
     },
     "metadata": {},
     "output_type": "display_data"
    },
    {
     "data": {
      "application/vnd.jupyter.widget-view+json": {
       "model_id": "c41043f23b33467d91f18632459411b2",
       "version_major": 2,
       "version_minor": 0
      },
      "text/plain": [
       "  0%|          | 0/1000 [00:00<?, ?it/s]"
      ]
     },
     "metadata": {},
     "output_type": "display_data"
    },
    {
     "name": "stdout",
     "output_type": "stream",
     "text": [
      "tensor([0, 5])\n",
      "tensor([3, 3])\n",
      "tensor([4, 4])\n",
      "tensor([5, 4])\n",
      "Parameter containing:\n",
      "tensor([[ 9.7549, -0.4341,  0.2737, -1.0205, -0.9533,  0.1001, -0.8637, -2.9689],\n",
      "        [ 0.7790,  0.1467,  0.1374,  0.6906,  0.6473,  0.9718,  0.5680, -0.0998]],\n",
      "       requires_grad=True)\n",
      "Parameter containing:\n",
      "tensor([[ 2.8015e-01, -1.1297e+00,  2.6136e+00,  1.1594e+01,  4.8116e-03,\n",
      "         -4.2885e+00, -9.7657e-01, -3.9754e+00],\n",
      "        [ 1.0395e+00, -5.2471e-01,  6.6595e-01,  1.4076e+00,  1.3318e+00,\n",
      "          1.1934e+00,  4.8679e-01, -3.9791e-01]], requires_grad=True)\n",
      "Parameter containing:\n",
      "tensor([[-2.1654, -1.8075, -3.0319, -1.2576,  9.4463, -2.3169,  5.1957,  0.6365],\n",
      "        [ 0.8250,  0.0868,  0.6822,  0.8938,  1.2570,  1.0584,  0.6006, -0.0347]],\n",
      "       requires_grad=True)\n",
      "Parameter containing:\n",
      "tensor([[-0.7009,  2.9681, -3.6870, -1.1291, -2.5035,  9.8638, -0.5831,  0.5303],\n",
      "        [ 0.8258, -0.1883,  0.7391,  0.8102,  1.0790,  0.6966,  1.0003, -0.3994]],\n",
      "       requires_grad=True)\n",
      "acc  0 0.4632485508918762\n",
      "acc  1 0.35083284974098206\n",
      "acc  2 0.887178361415863\n",
      "acc  3 1.1277670860290527\n",
      "0.7072567120194435 31\n"
     ]
    },
    {
     "data": {
      "application/vnd.jupyter.widget-view+json": {
       "model_id": "cd8c1ba1d3214dca92ef4e4002871687",
       "version_major": 2,
       "version_minor": 0
      },
      "text/plain": [
       "  0%|          | 0/1000 [00:00<?, ?it/s]"
      ]
     },
     "metadata": {},
     "output_type": "display_data"
    },
    {
     "data": {
      "application/vnd.jupyter.widget-view+json": {
       "model_id": "73b7bdc1acd64d8d944d09296ae466db",
       "version_major": 2,
       "version_minor": 0
      },
      "text/plain": [
       "  0%|          | 0/1000 [00:00<?, ?it/s]"
      ]
     },
     "metadata": {},
     "output_type": "display_data"
    },
    {
     "name": "stdout",
     "output_type": "stream",
     "text": [
      "tensor([7, 0])\n",
      "tensor([5, 7])\n",
      "tensor([0, 5])\n",
      "tensor([6, 0])\n",
      "Parameter containing:\n",
      "tensor([[-0.1714,  1.5012, -0.7981, -2.5765, -1.4369, -2.5569, -2.3193, 11.2008],\n",
      "        [ 1.1767,  0.5173,  0.1699,  0.2476, -0.1160,  0.3317,  0.8286,  0.9637]],\n",
      "       requires_grad=True)\n",
      "Parameter containing:\n",
      "tensor([[-2.1503, -2.0543,  1.3905,  2.6364, -2.0867, 11.2130, -0.7189, -3.7469],\n",
      "        [ 0.5923, -0.1959, -0.5295, -0.4790,  0.6825,  0.0469,  1.7936,  1.7940]],\n",
      "       requires_grad=True)\n",
      "Parameter containing:\n",
      "tensor([[11.5576, -2.1275, -4.1108, -0.1125, -1.4703, -0.5303,  1.0209, -0.3521],\n",
      "        [ 1.9150, -2.5171,  1.2694, -2.3601, -1.5769,  6.6896, -0.1860,  0.1687]],\n",
      "       requires_grad=True)\n",
      "Parameter containing:\n",
      "tensor([[-0.2997,  0.8652, -1.0934, -1.3003, -0.6107, -2.9901,  9.4734, -0.5545],\n",
      "        [ 1.6337, -0.4230,  1.0706, -0.8369, -0.1714,  1.1664,  0.5430,  0.2370]],\n",
      "       requires_grad=True)\n",
      "acc  0 0.28632068634033203\n",
      "acc  1 1.5111130475997925\n",
      "acc  2 0.4836585819721222\n",
      "acc  3 0.36531394720077515\n",
      "0.6616015657782555 31\n"
     ]
    },
    {
     "data": {
      "application/vnd.jupyter.widget-view+json": {
       "model_id": "6b2837c69b17435db4d07b5aab08e081",
       "version_major": 2,
       "version_minor": 0
      },
      "text/plain": [
       "  0%|          | 0/1000 [00:00<?, ?it/s]"
      ]
     },
     "metadata": {},
     "output_type": "display_data"
    },
    {
     "data": {
      "application/vnd.jupyter.widget-view+json": {
       "model_id": "d7fdcb10a5a74832a6eb9822681f79f6",
       "version_major": 2,
       "version_minor": 0
      },
      "text/plain": [
       "  0%|          | 0/1000 [00:00<?, ?it/s]"
      ]
     },
     "metadata": {},
     "output_type": "display_data"
    },
    {
     "name": "stdout",
     "output_type": "stream",
     "text": [
      "tensor([6, 1])\n",
      "tensor([2, 5])\n",
      "tensor([7, 4])\n",
      "tensor([3, 6])\n",
      "Parameter containing:\n",
      "tensor([[-2.8766,  1.2440, -1.1438, -1.1520,  0.9257, -0.7890, 10.2777, -3.8759],\n",
      "        [ 0.4891,  1.0723,  0.0841,  0.4649,  0.6275,  1.0657,  0.5318,  0.3735]],\n",
      "       requires_grad=True)\n",
      "Parameter containing:\n",
      "tensor([[ 2.0232,  0.3770, 15.5917, -2.6625, -2.5693, -5.7677, -2.5443, -1.1544],\n",
      "        [-1.4880,  0.4088, -1.2518,  0.4908,  1.0283,  5.1454, -0.1670, -1.2739]],\n",
      "       requires_grad=True)\n",
      "Parameter containing:\n",
      "tensor([[ 1.3694, -3.2803, -1.9750,  0.0781,  0.1592, -1.5416, -1.1836, 10.4852],\n",
      "        [ 0.6615,  0.0855,  0.2617,  0.2553,  0.8408, -0.0235,  0.3034,  0.5459]],\n",
      "       requires_grad=True)\n",
      "Parameter containing:\n",
      "tensor([[-1.6219, -1.1378, -1.6291, 10.2722, -0.1778, -0.6681, -0.7194,  0.2732],\n",
      "        [-0.3493,  0.4239,  0.3106,  0.3509,  0.3124,  0.5204,  1.0037,  0.6163]],\n",
      "       requires_grad=True)\n",
      "acc  0 1.1806377172470093\n",
      "acc  1 0.746360182762146\n",
      "acc  2 0.8336579203605652\n",
      "acc  3 1.6978709697723389\n",
      "1.1146316975355148 40\n"
     ]
    },
    {
     "data": {
      "application/vnd.jupyter.widget-view+json": {
       "model_id": "815fac8fa709404a9fcdeafd0715481e",
       "version_major": 2,
       "version_minor": 0
      },
      "text/plain": [
       "  0%|          | 0/1000 [00:00<?, ?it/s]"
      ]
     },
     "metadata": {},
     "output_type": "display_data"
    },
    {
     "data": {
      "application/vnd.jupyter.widget-view+json": {
       "model_id": "aa8e27a2975749a49f30e25c66902cd4",
       "version_major": 2,
       "version_minor": 0
      },
      "text/plain": [
       "  0%|          | 0/1000 [00:00<?, ?it/s]"
      ]
     },
     "metadata": {},
     "output_type": "display_data"
    },
    {
     "name": "stdout",
     "output_type": "stream",
     "text": [
      "tensor([0, 2])\n",
      "tensor([6, 2])\n",
      "tensor([2, 6])\n",
      "tensor([2, 7])\n",
      "Parameter containing:\n",
      "tensor([[11.0255, -2.3229, -3.2946,  0.1216,  0.0543, -0.7140, -1.0380,  1.0216],\n",
      "        [-0.1150,  0.0548,  1.4360,  0.2613,  0.2660,  1.0402, -0.0683,  0.6537]],\n",
      "       requires_grad=True)\n",
      "Parameter containing:\n",
      "tensor([[-3.6606, -0.4803,  0.7676, -2.3398, -0.0717,  1.3641, 12.0155, -2.6149],\n",
      "        [-0.4099,  0.0519,  3.2065, -0.2388,  0.2605,  0.2080, -0.2957,  0.3928]],\n",
      "       requires_grad=True)\n",
      "Parameter containing:\n",
      "tensor([[-1.5770e+00, -1.0464e+00,  1.1809e+01, -1.6391e+00, -4.3442e+00,\n",
      "         -1.5074e-01, -7.0520e-01,  1.6307e+00],\n",
      "        [ 1.2795e-01,  7.4449e-03,  4.1535e-01,  4.5204e-01,  2.5004e-01,\n",
      "          4.5849e-01,  1.4836e+00,  3.0227e-01]], requires_grad=True)\n",
      "Parameter containing:\n",
      "tensor([[-2.3698e-01, -7.5783e-01,  1.1604e+01, -2.4783e+00, -9.6058e-01,\n",
      "         -2.2886e+00,  5.1689e-01, -1.3263e+00],\n",
      "        [ 5.7698e-01,  5.9310e-01,  9.5168e-01,  9.4219e-01,  4.8886e-01,\n",
      "         -2.3921e-03,  1.5753e-01,  1.1423e+00]], requires_grad=True)\n",
      "acc  0 0.46304258704185486\n",
      "acc  1 0.44139036536216736\n",
      "acc  2 0.324320524930954\n",
      "acc  3 1.3075339794158936\n",
      "0.6340718641877174 30\n"
     ]
    },
    {
     "data": {
      "application/vnd.jupyter.widget-view+json": {
       "model_id": "90c2df7cb9d643c5a01c228bb17bf573",
       "version_major": 2,
       "version_minor": 0
      },
      "text/plain": [
       "  0%|          | 0/1000 [00:00<?, ?it/s]"
      ]
     },
     "metadata": {},
     "output_type": "display_data"
    },
    {
     "data": {
      "application/vnd.jupyter.widget-view+json": {
       "model_id": "b5b26e16db7249e98dbfc03b2884ee1e",
       "version_major": 2,
       "version_minor": 0
      },
      "text/plain": [
       "  0%|          | 0/1000 [00:00<?, ?it/s]"
      ]
     },
     "metadata": {},
     "output_type": "display_data"
    },
    {
     "name": "stdout",
     "output_type": "stream",
     "text": [
      "tensor([7, 2])\n",
      "tensor([4, 2])\n",
      "tensor([4, 1])\n",
      "tensor([3, 6])\n",
      "Parameter containing:\n",
      "tensor([[-4.3068e-01, -6.8891e-01, -1.9403e-01, -4.9567e-01, -7.9092e-01,\n",
      "         -1.4191e+00,  1.8419e-03,  9.5413e+00],\n",
      "        [ 1.6084e-01,  7.0374e-01,  9.7059e-01,  3.3439e-01,  8.8398e-01,\n",
      "          7.5115e-01,  5.0672e-01,  4.2276e-01]], requires_grad=True)\n",
      "Parameter containing:\n",
      "tensor([[-1.6075e+00, -2.4470e+00, -8.4525e-01, -9.4309e-01,  9.9952e+00,\n",
      "          1.6590e+00, -1.4099e+00,  1.1806e+00],\n",
      "        [ 3.3570e-01,  3.1722e-01,  1.0784e+00,  9.2152e-01,  9.3404e-01,\n",
      "          2.1389e-01,  3.7332e-01, -4.4325e-03]], requires_grad=True)\n",
      "Parameter containing:\n",
      "tensor([[-1.2618, -0.3292, -1.8424, -2.5689, 12.8126,  1.1159, -2.2573, -2.2871],\n",
      "        [-0.6790,  1.5509, -0.1850, -0.2375,  0.5769,  0.9751,  0.9386,  0.5448]],\n",
      "       requires_grad=True)\n",
      "Parameter containing:\n",
      "tensor([[ 1.0093e+00, -9.3160e-01, -1.1404e+00,  1.3059e+01, -3.6643e+00,\n",
      "         -4.9920e-01, -2.0313e+00, -1.9553e+00],\n",
      "        [ 1.1585e-02,  8.2713e-01,  2.2920e-01,  6.8585e-01,  4.5895e-01,\n",
      "          8.7236e-01,  1.0885e+00, -8.6899e-02]], requires_grad=True)\n",
      "acc  0 1.598328709602356\n",
      "acc  1 1.4944161176681519\n",
      "acc  2 0.6837353110313416\n",
      "acc  3 0.5741918683052063\n",
      "1.087668001651764 30\n"
     ]
    },
    {
     "data": {
      "application/vnd.jupyter.widget-view+json": {
       "model_id": "90fa0faf83804761935d92df94cc2ef6",
       "version_major": 2,
       "version_minor": 0
      },
      "text/plain": [
       "  0%|          | 0/1000 [00:00<?, ?it/s]"
      ]
     },
     "metadata": {},
     "output_type": "display_data"
    },
    {
     "data": {
      "application/vnd.jupyter.widget-view+json": {
       "model_id": "1c63599c51924554853f9b4750e53a22",
       "version_major": 2,
       "version_minor": 0
      },
      "text/plain": [
       "  0%|          | 0/1000 [00:00<?, ?it/s]"
      ]
     },
     "metadata": {},
     "output_type": "display_data"
    },
    {
     "name": "stdout",
     "output_type": "stream",
     "text": [
      "tensor([2, 0])\n",
      "tensor([2, 7])\n",
      "tensor([5, 7])\n",
      "tensor([1, 6])\n",
      "Parameter containing:\n",
      "tensor([[-2.9391e+00, -1.4739e+00,  1.4060e+01, -8.0158e-01, -4.9977e+00,\n",
      "         -3.6311e-01,  5.0562e-02,  8.0766e-01],\n",
      "        [ 1.0220e+00,  1.2910e-02,  3.7962e-01,  6.5083e-01,  9.7626e-01,\n",
      "         -3.7869e-02,  5.6153e-01,  9.4796e-01]], requires_grad=True)\n",
      "Parameter containing:\n",
      "tensor([[ 0.4422, -2.4852, 11.5938, -0.4249, -1.8968, -1.5447, -0.6799, -1.8129],\n",
      "        [ 0.1946,  0.2688,  0.9503,  0.7661,  0.0346,  0.4182,  0.6197,  1.1114]],\n",
      "       requires_grad=True)\n",
      "Parameter containing:\n",
      "tensor([[-0.9540, -0.7733, -3.0993,  5.7746, -1.0227,  6.1223,  0.8954, -2.7669],\n",
      "        [ 0.4659,  0.9062, -0.1725, -0.0396, -0.2453,  0.0789,  0.8018,  1.7395]],\n",
      "       requires_grad=True)\n",
      "Parameter containing:\n",
      "tensor([[-2.0314, 11.5021, -1.5562,  0.5351, -0.1553,  0.9975, -1.6917, -2.5870],\n",
      "        [ 0.6157,  0.2943,  0.1728,  0.2217,  0.1174,  0.4398,  0.7553,  0.2386]],\n",
      "       requires_grad=True)\n",
      "acc  0 0.9299748539924622\n",
      "acc  1 0.5777145028114319\n",
      "acc  2 0.31369271874427795\n",
      "acc  3 0.8191384077072144\n",
      "0.6601301208138466 30\n"
     ]
    },
    {
     "data": {
      "application/vnd.jupyter.widget-view+json": {
       "model_id": "dc0f2eef8e0b42a291b218264dcc4228",
       "version_major": 2,
       "version_minor": 0
      },
      "text/plain": [
       "  0%|          | 0/1000 [00:00<?, ?it/s]"
      ]
     },
     "metadata": {},
     "output_type": "display_data"
    },
    {
     "data": {
      "application/vnd.jupyter.widget-view+json": {
       "model_id": "7307b2c62b1e4684b4af06ba55c611f6",
       "version_major": 2,
       "version_minor": 0
      },
      "text/plain": [
       "  0%|          | 0/1000 [00:00<?, ?it/s]"
      ]
     },
     "metadata": {},
     "output_type": "display_data"
    },
    {
     "name": "stdout",
     "output_type": "stream",
     "text": [
      "tensor([1, 6])\n",
      "tensor([6, 4])\n",
      "tensor([6, 6])\n",
      "tensor([7, 4])\n",
      "Parameter containing:\n",
      "tensor([[ 1.0314e+00,  1.1678e+01, -1.3279e+00, -2.6056e+00, -1.9805e+00,\n",
      "         -2.2734e+00,  6.3619e-01,  1.1552e-02],\n",
      "        [ 2.0837e-01,  5.3893e-01, -3.3982e-02,  2.3668e-01,  2.0952e-01,\n",
      "          6.4635e-01,  7.8772e-01,  6.9415e-01]], requires_grad=True)\n",
      "Parameter containing:\n",
      "tensor([[-2.7657, -1.9640, -3.0259, -0.2972,  0.8366, -1.1505, 13.5590, -0.5094],\n",
      "        [ 0.6435,  0.6859,  0.1326,  0.2128,  1.1638,  0.0163,  0.0153,  1.0320]],\n",
      "       requires_grad=True)\n",
      "Parameter containing:\n",
      "tensor([[-2.5487, -1.6933, -1.3307, -0.6770,  1.6925, -0.1253,  9.7785, -1.7471],\n",
      "        [ 0.8533,  0.7327,  0.1114,  0.4698,  0.7993,  0.1952,  1.0930,  0.7969]],\n",
      "       requires_grad=True)\n",
      "Parameter containing:\n",
      "tensor([[-1.7706, -1.4111,  0.1752, -2.7811, -0.2835,  1.1108, -1.6901, 10.9985],\n",
      "        [ 0.0486,  0.8930,  0.4431,  0.6365,  1.2365, -0.2682,  0.5187,  0.2855]],\n",
      "       requires_grad=True)\n",
      "acc  0 1.4136877059936523\n",
      "acc  1 0.3622903823852539\n",
      "acc  2 1.561580777168274\n",
      "acc  3 0.4073043763637543\n",
      "0.9362158104777336 21\n"
     ]
    },
    {
     "data": {
      "application/vnd.jupyter.widget-view+json": {
       "model_id": "d58f0317e5034f508dc3379cc9d465d7",
       "version_major": 2,
       "version_minor": 0
      },
      "text/plain": [
       "  0%|          | 0/1000 [00:00<?, ?it/s]"
      ]
     },
     "metadata": {},
     "output_type": "display_data"
    },
    {
     "data": {
      "application/vnd.jupyter.widget-view+json": {
       "model_id": "866621776dca4fe9902365b0c8c896c3",
       "version_major": 2,
       "version_minor": 0
      },
      "text/plain": [
       "  0%|          | 0/1000 [00:00<?, ?it/s]"
      ]
     },
     "metadata": {},
     "output_type": "display_data"
    },
    {
     "name": "stdout",
     "output_type": "stream",
     "text": [
      "tensor([0, 4])\n",
      "tensor([0, 7])\n",
      "tensor([6, 2])\n",
      "tensor([3, 1])\n",
      "Parameter containing:\n",
      "tensor([[ 9.8356, -1.0866,  1.0867, -0.7187, -0.2611, -2.5062, -3.4387,  2.3783],\n",
      "        [ 1.0310,  0.3254,  0.2552, -0.3267,  1.2653,  0.6416,  0.0183,  1.0442]],\n",
      "       requires_grad=True)\n",
      "Parameter containing:\n",
      "tensor([[10.5822, -4.6555, -2.7299, -1.1991, -0.7049,  3.0731, -0.7294,  0.2585],\n",
      "        [ 0.3833,  0.3993,  0.2879, -0.2149,  0.8521,  0.1482, -0.0743,  1.0909]],\n",
      "       requires_grad=True)\n",
      "Parameter containing:\n",
      "tensor([[-1.1421e+00,  2.4111e+00, -1.3609e+00, -2.6519e-01, -1.1615e+00,\n",
      "         -2.8223e+00,  1.0177e+01, -1.6040e+00],\n",
      "        [-2.4512e+00,  1.3911e+00,  5.1218e+00,  2.9598e-01, -9.8574e-01,\n",
      "          8.3742e-01, -4.9107e-03, -5.6196e-01]], requires_grad=True)\n",
      "Parameter containing:\n",
      "tensor([[ 0.8590, -1.6836,  0.5877,  8.0743,  0.5972, -2.5787, -1.5706,  0.0802],\n",
      "        [ 0.3463,  1.4201,  0.6097, -0.2948,  0.5719,  0.2080,  0.1202,  1.1229]],\n",
      "       requires_grad=True)\n",
      "acc  0 0.8869880437850952\n",
      "acc  1 1.0259666442871094\n",
      "acc  2 0.8812553286552429\n",
      "acc  3 0.7334775924682617\n",
      "0.8819219022989273 39\n"
     ]
    },
    {
     "data": {
      "application/vnd.jupyter.widget-view+json": {
       "model_id": "728918b339ae4dfe9a1e3834b9d2fe0f",
       "version_major": 2,
       "version_minor": 0
      },
      "text/plain": [
       "  0%|          | 0/1000 [00:00<?, ?it/s]"
      ]
     },
     "metadata": {},
     "output_type": "display_data"
    },
    {
     "data": {
      "application/vnd.jupyter.widget-view+json": {
       "model_id": "e79a129ffda64fbab7d0dd11f7492267",
       "version_major": 2,
       "version_minor": 0
      },
      "text/plain": [
       "  0%|          | 0/1000 [00:00<?, ?it/s]"
      ]
     },
     "metadata": {},
     "output_type": "display_data"
    },
    {
     "name": "stdout",
     "output_type": "stream",
     "text": [
      "tensor([0, 0])\n",
      "tensor([7, 4])\n",
      "tensor([2, 0])\n",
      "tensor([1, 2])\n",
      "Parameter containing:\n",
      "tensor([[ 8.5658, -0.2185,  0.0443, -0.5463,  1.2170,  0.8943, -7.1031,  1.9044],\n",
      "        [ 1.0188,  0.5415,  0.3606,  0.6013,  0.2442,  0.2847,  0.5902,  0.3735]],\n",
      "       requires_grad=True)\n",
      "Parameter containing:\n",
      "tensor([[ 0.8404, -3.6189, -1.7628, -1.2920, -1.4623, -0.1336, -1.1618, 11.3490],\n",
      "        [ 0.0498,  0.1787,  1.0051,  0.5156,  1.1197,  0.3070,  0.9350,  0.4440]],\n",
      "       requires_grad=True)\n",
      "Parameter containing:\n",
      "tensor([[ 1.3996, -2.4564, 11.2944, -0.8275,  0.2397, -1.5417,  0.0834, -3.6334],\n",
      "        [ 1.4372,  0.3148,  0.6342,  0.2632, -0.0433,  0.7722, -0.1242, -0.0666]],\n",
      "       requires_grad=True)\n",
      "Parameter containing:\n",
      "tensor([[-2.8279, 13.5847,  0.3526,  0.0888, -0.3094,  0.1896,  1.5927, -7.9324],\n",
      "        [-0.2235, -0.1430,  3.6195, -0.0522, -0.5507, -0.8128,  1.8955,  0.8874]],\n",
      "       requires_grad=True)\n",
      "acc  0 0.5211672782897949\n",
      "acc  1 1.252135992050171\n",
      "acc  2 0.5324611067771912\n",
      "acc  3 1.6509828567504883\n",
      "0.9891868084669113 31\n"
     ]
    },
    {
     "data": {
      "application/vnd.jupyter.widget-view+json": {
       "model_id": "cb90924f68bc4e63bde4162d8cace399",
       "version_major": 2,
       "version_minor": 0
      },
      "text/plain": [
       "  0%|          | 0/1000 [00:00<?, ?it/s]"
      ]
     },
     "metadata": {},
     "output_type": "display_data"
    },
    {
     "data": {
      "application/vnd.jupyter.widget-view+json": {
       "model_id": "c88e490aa39647079acfd7dd94088094",
       "version_major": 2,
       "version_minor": 0
      },
      "text/plain": [
       "  0%|          | 0/1000 [00:00<?, ?it/s]"
      ]
     },
     "metadata": {},
     "output_type": "display_data"
    },
    {
     "name": "stdout",
     "output_type": "stream",
     "text": [
      "tensor([2, 7])\n",
      "tensor([0, 7])\n",
      "tensor([0, 6])\n",
      "tensor([4, 7])\n",
      "Parameter containing:\n",
      "tensor([[-1.2811,  0.9341, 10.1998, -2.8725, -0.9224, -1.9447,  1.8896, -2.5286],\n",
      "        [ 1.3368, -1.8461, -2.1516,  0.2351,  1.7168,  0.1305, -0.3036,  5.3859]],\n",
      "       requires_grad=True)\n",
      "Parameter containing:\n",
      "tensor([[10.8244, -2.0987, -2.7830, -2.5812, -1.7153, -0.7075, -0.5873,  2.3848],\n",
      "        [ 0.1383, -1.1572, -0.4450, -0.3993,  0.6164, -0.3136, -0.1341,  5.4922]],\n",
      "       requires_grad=True)\n",
      "Parameter containing:\n",
      "tensor([[ 8.9353, -0.6266, -0.9063, -0.9963, -1.3584, -0.0801, -0.7867, -0.5384],\n",
      "        [ 0.6728,  0.5850,  0.2659,  0.5142,  0.0192,  0.6147,  0.9999,  0.8518]],\n",
      "       requires_grad=True)\n",
      "Parameter containing:\n",
      "tensor([[-3.0171,  1.6226,  0.2190, -0.9646,  9.7429,  0.6812, -1.7144, -1.3098],\n",
      "        [ 0.7372,  0.4385,  0.5937,  0.0457, -0.2109, -0.3884, -0.5160,  4.6941]],\n",
      "       requires_grad=True)\n",
      "acc  0 0.26110634207725525\n",
      "acc  1 0.3048781156539917\n",
      "acc  2 0.7574127316474915\n",
      "acc  3 0.2209315001964569\n",
      "0.38608217239379883 21\n"
     ]
    },
    {
     "data": {
      "application/vnd.jupyter.widget-view+json": {
       "model_id": "f79ae395d3174132ad80ada3ad2a1281",
       "version_major": 2,
       "version_minor": 0
      },
      "text/plain": [
       "  0%|          | 0/1000 [00:00<?, ?it/s]"
      ]
     },
     "metadata": {},
     "output_type": "display_data"
    },
    {
     "data": {
      "application/vnd.jupyter.widget-view+json": {
       "model_id": "ec738c1479474f3991fd77bf97bfbbce",
       "version_major": 2,
       "version_minor": 0
      },
      "text/plain": [
       "  0%|          | 0/1000 [00:00<?, ?it/s]"
      ]
     },
     "metadata": {},
     "output_type": "display_data"
    },
    {
     "name": "stdout",
     "output_type": "stream",
     "text": [
      "tensor([0, 5])\n",
      "tensor([6, 0])\n",
      "tensor([4, 6])\n",
      "tensor([6, 5])\n",
      "Parameter containing:\n",
      "tensor([[ 1.0363e+01, -4.4917e+00,  5.3406e-01, -8.0294e-01,  1.5492e-03,\n",
      "         -1.2235e+00,  1.8024e-03, -1.0546e+00],\n",
      "        [-2.7324e-01,  1.2774e+00,  5.9968e-02,  4.7239e-01, -7.2063e-01,\n",
      "          1.4410e+00,  7.8142e-01,  1.3847e+00]], requires_grad=True)\n",
      "Parameter containing:\n",
      "tensor([[-0.7836, -8.2090,  1.3767, -0.7575, -3.3012,  1.9453, 14.3987, -0.1640],\n",
      "        [ 4.9624,  0.3118,  0.9470, -0.3406, -0.6593,  0.0236, -0.4994, -0.7782]],\n",
      "       requires_grad=True)\n",
      "Parameter containing:\n",
      "tensor([[-2.4029, -0.7523,  0.1527, -1.8186, 10.0194, -0.7184, -1.0981,  0.6503],\n",
      "        [ 0.1572,  0.9233,  0.1421, -0.5050, -0.5198,  1.0535,  1.0551,  0.2750]],\n",
      "       requires_grad=True)\n",
      "Parameter containing:\n",
      "tensor([[-0.1738, -2.6556, -0.6807, -2.9619, -1.6304, -0.9080, 13.3342, -0.0900],\n",
      "        [ 0.0798,  1.2091,  1.6623, -2.6161, -2.3112,  6.5340,  0.2260, -1.1371]],\n",
      "       requires_grad=True)\n",
      "acc  0 0.4546757936477661\n",
      "acc  1 0.676561713218689\n",
      "acc  2 1.6310313940048218\n",
      "acc  3 0.7881515026092529\n",
      "0.8876051008701324 30\n"
     ]
    },
    {
     "data": {
      "application/vnd.jupyter.widget-view+json": {
       "model_id": "26451455c8174e0fba7a66b3fdb9e7f8",
       "version_major": 2,
       "version_minor": 0
      },
      "text/plain": [
       "  0%|          | 0/1000 [00:00<?, ?it/s]"
      ]
     },
     "metadata": {},
     "output_type": "display_data"
    },
    {
     "data": {
      "application/vnd.jupyter.widget-view+json": {
       "model_id": "dbb3abfd20e04148b248582cbc7773ae",
       "version_major": 2,
       "version_minor": 0
      },
      "text/plain": [
       "  0%|          | 0/1000 [00:00<?, ?it/s]"
      ]
     },
     "metadata": {},
     "output_type": "display_data"
    },
    {
     "name": "stdout",
     "output_type": "stream",
     "text": [
      "tensor([6, 3])\n",
      "tensor([3, 4])\n",
      "tensor([0, 4])\n",
      "tensor([7, 7])\n",
      "Parameter containing:\n",
      "tensor([[-2.7496, -1.4489, -5.8061, -0.2310,  1.0837, -1.1674, 15.0009,  0.4387],\n",
      "        [ 0.8222,  0.5763,  0.2033,  1.1654,  0.6999,  0.1127,  0.4177,  0.5335]],\n",
      "       requires_grad=True)\n",
      "Parameter containing:\n",
      "tensor([[ 0.4018, -2.6207, -1.8532,  9.8605,  0.2380, -0.2560, -0.7890, -1.2985],\n",
      "        [ 0.1840, -0.2126,  0.4624, -0.1818,  1.5526,  0.4313,  0.4215,  0.1953]],\n",
      "       requires_grad=True)\n",
      "Parameter containing:\n",
      "tensor([[11.1885, -0.0188,  0.0260, -0.4095, -2.7190, -1.7721, -2.1279, -0.7410],\n",
      "        [ 1.0063, -0.1453,  0.4679,  0.2563,  1.1528,  0.1273,  1.0905,  0.2457]],\n",
      "       requires_grad=True)\n",
      "Parameter containing:\n",
      "tensor([[-6.3925e-01,  3.1089e-01,  1.4502e+00, -2.2537e+00, -2.1873e+00,\n",
      "         -1.3419e+00, -1.8551e+00,  1.0220e+01],\n",
      "        [ 4.9237e-01,  2.1559e-01,  5.4607e-01,  6.5478e-01, -3.8914e-01,\n",
      "          3.9232e-01,  9.0378e-04,  8.2544e-01]], requires_grad=True)\n",
      "acc  0 0.9523293972015381\n",
      "acc  1 1.2964409589767456\n",
      "acc  2 1.186760663986206\n",
      "acc  3 0.7947536706924438\n",
      "1.0575711727142334 31\n"
     ]
    },
    {
     "data": {
      "application/vnd.jupyter.widget-view+json": {
       "model_id": "6a59a87a0f614ae3a879ca89751a377b",
       "version_major": 2,
       "version_minor": 0
      },
      "text/plain": [
       "  0%|          | 0/1000 [00:00<?, ?it/s]"
      ]
     },
     "metadata": {},
     "output_type": "display_data"
    },
    {
     "data": {
      "application/vnd.jupyter.widget-view+json": {
       "model_id": "7de671e46982464da5857cd39e8644e7",
       "version_major": 2,
       "version_minor": 0
      },
      "text/plain": [
       "  0%|          | 0/1000 [00:00<?, ?it/s]"
      ]
     },
     "metadata": {},
     "output_type": "display_data"
    },
    {
     "name": "stdout",
     "output_type": "stream",
     "text": [
      "tensor([6, 1])\n",
      "tensor([4, 7])\n",
      "tensor([1, 0])\n",
      "tensor([0, 1])\n",
      "Parameter containing:\n",
      "tensor([[ 0.8196, -1.5378, -2.0365,  0.0433, -1.4232, -1.5676, 11.4848, -1.5119],\n",
      "        [ 0.5362,  1.6306,  1.0948,  0.1645,  0.2557, -0.3713,  1.3761, -0.7070]],\n",
      "       requires_grad=True)\n",
      "Parameter containing:\n",
      "tensor([[-1.2612,  0.7653, -1.7499,  1.1703, 11.5981,  0.6716, -3.3347, -3.2835],\n",
      "        [ 0.4290,  0.7219,  0.1211, -0.0492,  0.6288,  0.0428,  0.1842,  0.7867]],\n",
      "       requires_grad=True)\n",
      "Parameter containing:\n",
      "tensor([[-2.0845, 10.0749, -0.7338, -0.9913, -1.6352, -0.2901, -0.7865,  0.6639],\n",
      "        [ 1.4981,  1.2533,  0.3771,  0.8232,  0.8809,  0.0705,  1.3597, -0.2719]],\n",
      "       requires_grad=True)\n",
      "Parameter containing:\n",
      "tensor([[11.6024, -1.9473, -0.7191, -3.4519, -1.4556, -2.3969,  0.0226,  2.0182],\n",
      "        [ 0.6921,  0.8319,  0.8190, -0.1846,  0.2523,  0.1244,  0.3609, -0.0652]],\n",
      "       requires_grad=True)\n",
      "acc  0 0.6464376449584961\n",
      "acc  1 1.7932721376419067\n",
      "acc  2 0.5077188014984131\n",
      "acc  3 0.7165125012397766\n",
      "0.9159852713346481 31\n"
     ]
    },
    {
     "data": {
      "application/vnd.jupyter.widget-view+json": {
       "model_id": "93e3f83e5ce24d96b8e40dd2e17758a0",
       "version_major": 2,
       "version_minor": 0
      },
      "text/plain": [
       "  0%|          | 0/1000 [00:00<?, ?it/s]"
      ]
     },
     "metadata": {},
     "output_type": "display_data"
    },
    {
     "data": {
      "application/vnd.jupyter.widget-view+json": {
       "model_id": "76ac1aa8bf2b49ad830b28939ecb4e15",
       "version_major": 2,
       "version_minor": 0
      },
      "text/plain": [
       "  0%|          | 0/1000 [00:00<?, ?it/s]"
      ]
     },
     "metadata": {},
     "output_type": "display_data"
    },
    {
     "name": "stdout",
     "output_type": "stream",
     "text": [
      "tensor([0, 2])\n",
      "tensor([1, 6])\n",
      "tensor([5, 5])\n",
      "tensor([0, 1])\n",
      "Parameter containing:\n",
      "tensor([[10.6168, -0.5528, -0.6010, -1.0621, -1.2049, -1.7602,  0.4434, -0.7555],\n",
      "        [ 0.0508,  0.5931,  1.0343,  0.8964,  0.5063,  0.6903, -0.0740,  0.1210]],\n",
      "       requires_grad=True)\n",
      "Parameter containing:\n",
      "tensor([[-2.2080, 13.1822, -1.6983, -0.7355, -1.7869,  0.2776, -1.8081, -0.9574],\n",
      "        [ 0.5310,  0.5460,  0.1802, -0.3401,  0.8060,  0.4814,  2.3477,  0.5110]],\n",
      "       requires_grad=True)\n",
      "Parameter containing:\n",
      "tensor([[-0.1738, -0.5638, -0.4170, -2.0826, -1.5136, 11.8069, -4.6158,  2.3615],\n",
      "        [ 0.1926,  0.7038,  0.1911,  0.0407,  0.4767,  1.0140,  0.0431,  0.6654]],\n",
      "       requires_grad=True)\n",
      "Parameter containing:\n",
      "tensor([[ 9.0580, -3.7388,  0.8577, -0.5009, -1.9497,  0.2266, -1.3708,  0.3624],\n",
      "        [ 0.6263,  0.8620,  0.7798,  0.3756,  0.6927,  0.0956,  0.7488,  0.5942]],\n",
      "       requires_grad=True)\n",
      "acc  0 0.7519489526748657\n",
      "acc  1 0.4081135094165802\n",
      "acc  2 0.5345773696899414\n",
      "acc  3 1.1251951456069946\n",
      "0.7049587443470955 39\n",
      "[Parameter containing:\n",
      "tensor([[10.6168, -0.5528, -0.6010, -1.0621, -1.2049, -1.7602,  0.4434, -0.7555],\n",
      "        [ 0.0508,  0.5931,  1.0343,  0.8964,  0.5063,  0.6903, -0.0740,  0.1210]],\n",
      "       requires_grad=True), Parameter containing:\n",
      "tensor([[-2.2080, 13.1822, -1.6983, -0.7355, -1.7869,  0.2776, -1.8081, -0.9574],\n",
      "        [ 0.5310,  0.5460,  0.1802, -0.3401,  0.8060,  0.4814,  2.3477,  0.5110]],\n",
      "       requires_grad=True), Parameter containing:\n",
      "tensor([[-0.1738, -0.5638, -0.4170, -2.0826, -1.5136, 11.8069, -4.6158,  2.3615],\n",
      "        [ 0.1926,  0.7038,  0.1911,  0.0407,  0.4767,  1.0140,  0.0431,  0.6654]],\n",
      "       requires_grad=True), Parameter containing:\n",
      "tensor([[ 9.0580, -3.7388,  0.8577, -0.5009, -1.9497,  0.2266, -1.3708,  0.3624],\n",
      "        [ 0.6263,  0.8620,  0.7798,  0.3756,  0.6927,  0.0956,  0.7488,  0.5942]],\n",
      "       requires_grad=True)]\n",
      "Parameter containing:\n",
      "tensor([-6.6211], requires_grad=True)\n",
      "Parameter containing:\n",
      "tensor([193.8899], requires_grad=True)\n",
      "Parameter containing:\n",
      "tensor([35.6091], requires_grad=True)\n",
      "Parameter containing:\n",
      "tensor([6.9482], requires_grad=True)\n",
      "Parameter containing:\n",
      "tensor([9.5649], requires_grad=True)\n",
      "Parameter containing:\n",
      "tensor([78.6199], requires_grad=True)\n",
      "Parameter containing:\n",
      "tensor([-97.6048], requires_grad=True)\n",
      "Parameter containing:\n",
      "tensor([44.5862], requires_grad=True)\n"
     ]
    }
   ],
   "source": [
    "# helper for make inference for a model\n",
    "\n",
    "#for D in [2,3,4]:\n",
    "#    for HEAD_NUM in [D, 8]:\n",
    "for D in [4]:\n",
    "    for HEAD_NUM in [8]:\n",
    "\n",
    "        dartslike('triplets_gs', 1000.0, 1000.0)"
   ]
  },
  {
   "cell_type": "code",
   "execution_count": 12,
   "id": "8259e050",
   "metadata": {},
   "outputs": [
    {
     "name": "stderr",
     "output_type": "stream",
     "text": [
      "<ipython-input-11-7736bc93d887>:35: TqdmDeprecationWarning: This function will be removed in tqdm==5.0.0\n",
      "Please use `tqdm.notebook.tqdm` instead of `tqdm.tqdm_notebook`\n",
      "  tq = tqdm.tqdm_notebook(range(EPOCH_NUM )) # taking half of epoch num for NAS\n"
     ]
    },
    {
     "data": {
      "application/vnd.jupyter.widget-view+json": {
       "model_id": "f32e08e58e2e4f528c3b45436de65cf4",
       "version_major": 2,
       "version_minor": 0
      },
      "text/plain": [
       "  0%|          | 0/1000 [00:00<?, ?it/s]"
      ]
     },
     "metadata": {},
     "output_type": "display_data"
    },
    {
     "name": "stderr",
     "output_type": "stream",
     "text": [
      "<ipython-input-11-7736bc93d887>:120: TqdmDeprecationWarning: This function will be removed in tqdm==5.0.0\n",
      "Please use `tqdm.notebook.tqdm` instead of `tqdm.tqdm_notebook`\n",
      "  tq = tqdm.tqdm_notebook(range(EPOCH_NUM))\n"
     ]
    },
    {
     "data": {
      "application/vnd.jupyter.widget-view+json": {
       "model_id": "1f974edd81ae42819c9da4d6c2471bae",
       "version_major": 2,
       "version_minor": 0
      },
      "text/plain": [
       "  0%|          | 0/1000 [00:00<?, ?it/s]"
      ]
     },
     "metadata": {},
     "output_type": "display_data"
    },
    {
     "name": "stdout",
     "output_type": "stream",
     "text": [
      "tensor([0, 0])\n",
      "tensor([0, 1])\n",
      "Parameter containing:\n",
      "tensor([[1.0506, 0.7466],\n",
      "        [1.2429, 0.0993]], requires_grad=True)\n",
      "Parameter containing:\n",
      "tensor([[ 1.2469, -0.2555],\n",
      "        [-0.1186,  1.1688]], requires_grad=True)\n",
      "acc  0 1.224833607673645\n",
      "acc  1 1.0574719905853271\n",
      "1.141152799129486 19\n"
     ]
    },
    {
     "data": {
      "application/vnd.jupyter.widget-view+json": {
       "model_id": "90fceff81a5b4170ae9b25627f666cb7",
       "version_major": 2,
       "version_minor": 0
      },
      "text/plain": [
       "  0%|          | 0/1000 [00:00<?, ?it/s]"
      ]
     },
     "metadata": {},
     "output_type": "display_data"
    },
    {
     "data": {
      "application/vnd.jupyter.widget-view+json": {
       "model_id": "4be7187e48714b4b99b0b28bb84b4849",
       "version_major": 2,
       "version_minor": 0
      },
      "text/plain": [
       "  0%|          | 0/1000 [00:00<?, ?it/s]"
      ]
     },
     "metadata": {},
     "output_type": "display_data"
    },
    {
     "name": "stdout",
     "output_type": "stream",
     "text": [
      "tensor([0, 0])\n",
      "tensor([0, 1])\n",
      "Parameter containing:\n",
      "tensor([[0.3264, 0.3240],\n",
      "        [1.2226, 0.0446]], requires_grad=True)\n",
      "Parameter containing:\n",
      "tensor([[ 0.4209, -0.1870],\n",
      "        [-0.6924,  1.3493]], requires_grad=True)\n",
      "acc  0 0.910137414932251\n",
      "acc  1 1.6114027500152588\n",
      "1.2607700824737549 19\n"
     ]
    },
    {
     "data": {
      "application/vnd.jupyter.widget-view+json": {
       "model_id": "64aba51ca5854308aac3baa9cd5bd33b",
       "version_major": 2,
       "version_minor": 0
      },
      "text/plain": [
       "  0%|          | 0/1000 [00:00<?, ?it/s]"
      ]
     },
     "metadata": {},
     "output_type": "display_data"
    },
    {
     "data": {
      "application/vnd.jupyter.widget-view+json": {
       "model_id": "3c3f1d9038df414a8a05bb8bd4db3140",
       "version_major": 2,
       "version_minor": 0
      },
      "text/plain": [
       "  0%|          | 0/1000 [00:00<?, ?it/s]"
      ]
     },
     "metadata": {},
     "output_type": "display_data"
    },
    {
     "name": "stdout",
     "output_type": "stream",
     "text": [
      "tensor([1, 0])\n",
      "tensor([0, 1])\n",
      "Parameter containing:\n",
      "tensor([[0.2109, 1.2393],\n",
      "        [0.5838, 0.3783]], requires_grad=True)\n",
      "Parameter containing:\n",
      "tensor([[ 1.1991,  0.1586],\n",
      "        [-1.1880,  1.6874]], requires_grad=True)\n",
      "acc  0 0.3214581310749054\n",
      "acc  1 0.6801073551177979\n",
      "0.5007827430963516 20\n"
     ]
    },
    {
     "data": {
      "application/vnd.jupyter.widget-view+json": {
       "model_id": "631b23abc6734e249cd73746d7aed4e9",
       "version_major": 2,
       "version_minor": 0
      },
      "text/plain": [
       "  0%|          | 0/1000 [00:00<?, ?it/s]"
      ]
     },
     "metadata": {},
     "output_type": "display_data"
    },
    {
     "data": {
      "application/vnd.jupyter.widget-view+json": {
       "model_id": "08acc5f4c49d4e368c190cdbacdf17ba",
       "version_major": 2,
       "version_minor": 0
      },
      "text/plain": [
       "  0%|          | 0/1000 [00:00<?, ?it/s]"
      ]
     },
     "metadata": {},
     "output_type": "display_data"
    },
    {
     "name": "stdout",
     "output_type": "stream",
     "text": [
      "tensor([1, 0])\n",
      "tensor([1, 0])\n",
      "Parameter containing:\n",
      "tensor([[0.5219, 0.6264],\n",
      "        [0.9170, 0.6653]], requires_grad=True)\n",
      "Parameter containing:\n",
      "tensor([[-0.0490,  0.6550],\n",
      "        [ 1.9880, -1.1453]], requires_grad=True)\n",
      "acc  0 1.4725072383880615\n",
      "acc  1 1.7453312873840332\n",
      "1.6089192628860474 10\n"
     ]
    },
    {
     "data": {
      "application/vnd.jupyter.widget-view+json": {
       "model_id": "55e17e4f21484ce3a11f33dd8e962e8c",
       "version_major": 2,
       "version_minor": 0
      },
      "text/plain": [
       "  0%|          | 0/1000 [00:00<?, ?it/s]"
      ]
     },
     "metadata": {},
     "output_type": "display_data"
    },
    {
     "data": {
      "application/vnd.jupyter.widget-view+json": {
       "model_id": "7a185fb11af44e48a0d9d0460b97e571",
       "version_major": 2,
       "version_minor": 0
      },
      "text/plain": [
       "  0%|          | 0/1000 [00:00<?, ?it/s]"
      ]
     },
     "metadata": {},
     "output_type": "display_data"
    },
    {
     "name": "stdout",
     "output_type": "stream",
     "text": [
      "tensor([1, 1])\n",
      "tensor([0, 0])\n",
      "Parameter containing:\n",
      "tensor([[ 0.1019,  0.6192],\n",
      "        [-0.1051,  0.7822]], requires_grad=True)\n",
      "Parameter containing:\n",
      "tensor([[ 2.6601, -1.0661],\n",
      "        [ 2.1679, -1.6374]], requires_grad=True)\n",
      "acc  0 1.4470078945159912\n",
      "acc  1 0.8840746879577637\n",
      "1.1655412912368774 20\n"
     ]
    },
    {
     "data": {
      "application/vnd.jupyter.widget-view+json": {
       "model_id": "b334334734df441eb9840f01bea6583f",
       "version_major": 2,
       "version_minor": 0
      },
      "text/plain": [
       "  0%|          | 0/1000 [00:00<?, ?it/s]"
      ]
     },
     "metadata": {},
     "output_type": "display_data"
    },
    {
     "data": {
      "application/vnd.jupyter.widget-view+json": {
       "model_id": "064cfa846b204b5986f162af2a83cdf2",
       "version_major": 2,
       "version_minor": 0
      },
      "text/plain": [
       "  0%|          | 0/1000 [00:00<?, ?it/s]"
      ]
     },
     "metadata": {},
     "output_type": "display_data"
    },
    {
     "name": "stdout",
     "output_type": "stream",
     "text": [
      "tensor([0, 0])\n",
      "tensor([1, 1])\n",
      "Parameter containing:\n",
      "tensor([[ 1.4194, -1.3165],\n",
      "        [ 3.8012, -2.4579]], requires_grad=True)\n",
      "Parameter containing:\n",
      "tensor([[-0.3983,  1.7527],\n",
      "        [ 0.2168,  1.0072]], requires_grad=True)\n",
      "acc  0 0.938224196434021\n",
      "acc  1 1.17597496509552\n",
      "1.0570995807647705 20\n"
     ]
    },
    {
     "data": {
      "application/vnd.jupyter.widget-view+json": {
       "model_id": "b42d2eea86434fc3a5774890c8e76be8",
       "version_major": 2,
       "version_minor": 0
      },
      "text/plain": [
       "  0%|          | 0/1000 [00:00<?, ?it/s]"
      ]
     },
     "metadata": {},
     "output_type": "display_data"
    },
    {
     "data": {
      "application/vnd.jupyter.widget-view+json": {
       "model_id": "df14eb45c82a45b785aa38428752b60e",
       "version_major": 2,
       "version_minor": 0
      },
      "text/plain": [
       "  0%|          | 0/1000 [00:00<?, ?it/s]"
      ]
     },
     "metadata": {},
     "output_type": "display_data"
    },
    {
     "name": "stdout",
     "output_type": "stream",
     "text": [
      "tensor([0, 1])\n",
      "tensor([1, 0])\n",
      "Parameter containing:\n",
      "tensor([[ 0.3934,  0.2640],\n",
      "        [-0.4605,  0.9199]], requires_grad=True)\n",
      "Parameter containing:\n",
      "tensor([[ 0.2838,  1.2475],\n",
      "        [ 1.9533, -0.7131]], requires_grad=True)\n",
      "acc  0 0.4101826548576355\n",
      "acc  1 0.81427401304245\n",
      "0.6122283339500427 20\n"
     ]
    },
    {
     "data": {
      "application/vnd.jupyter.widget-view+json": {
       "model_id": "352a1e9993454f049d53fc7d8be2c976",
       "version_major": 2,
       "version_minor": 0
      },
      "text/plain": [
       "  0%|          | 0/1000 [00:00<?, ?it/s]"
      ]
     },
     "metadata": {},
     "output_type": "display_data"
    },
    {
     "data": {
      "application/vnd.jupyter.widget-view+json": {
       "model_id": "57e4e765f2c54cbab6d3943701078a53",
       "version_major": 2,
       "version_minor": 0
      },
      "text/plain": [
       "  0%|          | 0/1000 [00:00<?, ?it/s]"
      ]
     },
     "metadata": {},
     "output_type": "display_data"
    },
    {
     "name": "stdout",
     "output_type": "stream",
     "text": [
      "tensor([1, 0])\n",
      "tensor([1, 1])\n",
      "Parameter containing:\n",
      "tensor([[0.0707, 0.2529],\n",
      "        [1.1414, 0.0332]], requires_grad=True)\n",
      "Parameter containing:\n",
      "tensor([[-2.3969,  3.2579],\n",
      "        [-2.6405,  3.1242]], requires_grad=True)\n",
      "acc  0 0.9339236617088318\n",
      "acc  1 0.3799470067024231\n",
      "0.6569353342056274 19\n"
     ]
    },
    {
     "data": {
      "application/vnd.jupyter.widget-view+json": {
       "model_id": "a062f0362d7d4fdf923af35c0261f582",
       "version_major": 2,
       "version_minor": 0
      },
      "text/plain": [
       "  0%|          | 0/1000 [00:00<?, ?it/s]"
      ]
     },
     "metadata": {},
     "output_type": "display_data"
    },
    {
     "data": {
      "application/vnd.jupyter.widget-view+json": {
       "model_id": "94af37dbafdc48a5a348ea590fe168b6",
       "version_major": 2,
       "version_minor": 0
      },
      "text/plain": [
       "  0%|          | 0/1000 [00:00<?, ?it/s]"
      ]
     },
     "metadata": {},
     "output_type": "display_data"
    },
    {
     "name": "stdout",
     "output_type": "stream",
     "text": [
      "tensor([0, 0])\n",
      "tensor([0, 1])\n",
      "Parameter containing:\n",
      "tensor([[ 0.8930, -0.2063],\n",
      "        [ 1.5189, -1.0893]], requires_grad=True)\n",
      "Parameter containing:\n",
      "tensor([[ 1.4683, -0.9228],\n",
      "        [-0.5754,  1.5235]], requires_grad=True)\n",
      "acc  0 1.0325909852981567\n",
      "acc  1 0.8631703853607178\n",
      "0.9478806853294373 19\n"
     ]
    },
    {
     "data": {
      "application/vnd.jupyter.widget-view+json": {
       "model_id": "aaf90410136d47ddac8f8914949e845d",
       "version_major": 2,
       "version_minor": 0
      },
      "text/plain": [
       "  0%|          | 0/1000 [00:00<?, ?it/s]"
      ]
     },
     "metadata": {},
     "output_type": "display_data"
    },
    {
     "data": {
      "application/vnd.jupyter.widget-view+json": {
       "model_id": "84d23a27aee14d5ab07a26663ca206fe",
       "version_major": 2,
       "version_minor": 0
      },
      "text/plain": [
       "  0%|          | 0/1000 [00:00<?, ?it/s]"
      ]
     },
     "metadata": {},
     "output_type": "display_data"
    },
    {
     "name": "stdout",
     "output_type": "stream",
     "text": [
      "tensor([1, 1])\n",
      "tensor([1, 0])\n",
      "Parameter containing:\n",
      "tensor([[-0.6242,  2.3518],\n",
      "        [-0.6336,  1.4355]], requires_grad=True)\n",
      "Parameter containing:\n",
      "tensor([[ 0.3246,  0.8982],\n",
      "        [ 2.5131, -1.4118]], requires_grad=True)\n",
      "acc  0 1.0765717029571533\n",
      "acc  1 0.6356830596923828\n",
      "0.8561273813247681 19\n"
     ]
    },
    {
     "data": {
      "application/vnd.jupyter.widget-view+json": {
       "model_id": "7fa00833b35843fbac73799446eea630",
       "version_major": 2,
       "version_minor": 0
      },
      "text/plain": [
       "  0%|          | 0/1000 [00:00<?, ?it/s]"
      ]
     },
     "metadata": {},
     "output_type": "display_data"
    },
    {
     "data": {
      "application/vnd.jupyter.widget-view+json": {
       "model_id": "8bd903dc6a6f4923b1d5b84bc56f93a1",
       "version_major": 2,
       "version_minor": 0
      },
      "text/plain": [
       "  0%|          | 0/1000 [00:00<?, ?it/s]"
      ]
     },
     "metadata": {},
     "output_type": "display_data"
    },
    {
     "name": "stdout",
     "output_type": "stream",
     "text": [
      "tensor([0, 1])\n",
      "tensor([0, 0])\n",
      "Parameter containing:\n",
      "tensor([[ 1.2449,  0.2552],\n",
      "        [-0.0084,  1.1354]], requires_grad=True)\n",
      "Parameter containing:\n",
      "tensor([[ 1.1192,  0.5333],\n",
      "        [ 2.0747, -0.8304]], requires_grad=True)\n",
      "acc  0 0.6999037861824036\n",
      "acc  1 1.1524709463119507\n",
      "0.9261873662471771 19\n"
     ]
    },
    {
     "data": {
      "application/vnd.jupyter.widget-view+json": {
       "model_id": "d399e55bebdb4cfbb2e432960f319e1c",
       "version_major": 2,
       "version_minor": 0
      },
      "text/plain": [
       "  0%|          | 0/1000 [00:00<?, ?it/s]"
      ]
     },
     "metadata": {},
     "output_type": "display_data"
    },
    {
     "data": {
      "application/vnd.jupyter.widget-view+json": {
       "model_id": "32aebf7ce7a4416d82d01ae3c3a00bcc",
       "version_major": 2,
       "version_minor": 0
      },
      "text/plain": [
       "  0%|          | 0/1000 [00:00<?, ?it/s]"
      ]
     },
     "metadata": {},
     "output_type": "display_data"
    },
    {
     "name": "stdout",
     "output_type": "stream",
     "text": [
      "tensor([0, 1])\n",
      "tensor([0, 0])\n",
      "Parameter containing:\n",
      "tensor([[ 0.8290,  0.6779],\n",
      "        [-1.1287,  2.4310]], requires_grad=True)\n",
      "Parameter containing:\n",
      "tensor([[ 1.3513, -0.2028],\n",
      "        [ 0.3767,  0.0088]], requires_grad=True)\n",
      "acc  0 0.6901290416717529\n",
      "acc  1 1.0414007902145386\n",
      "0.8657649159431458 19\n"
     ]
    },
    {
     "data": {
      "application/vnd.jupyter.widget-view+json": {
       "model_id": "05ba7b4076a14851b0f8358dcdb9b5bf",
       "version_major": 2,
       "version_minor": 0
      },
      "text/plain": [
       "  0%|          | 0/1000 [00:00<?, ?it/s]"
      ]
     },
     "metadata": {},
     "output_type": "display_data"
    },
    {
     "data": {
      "application/vnd.jupyter.widget-view+json": {
       "model_id": "1a1a205eef5448cc92b502b54d3a873a",
       "version_major": 2,
       "version_minor": 0
      },
      "text/plain": [
       "  0%|          | 0/1000 [00:00<?, ?it/s]"
      ]
     },
     "metadata": {},
     "output_type": "display_data"
    },
    {
     "name": "stdout",
     "output_type": "stream",
     "text": [
      "tensor([1, 1])\n",
      "tensor([1, 0])\n",
      "Parameter containing:\n",
      "tensor([[0.5667, 0.6471],\n",
      "        [0.2807, 1.3529]], requires_grad=True)\n",
      "Parameter containing:\n",
      "tensor([[ 0.3298,  0.8246],\n",
      "        [ 1.1904, -0.0223]], requires_grad=True)\n",
      "acc  0 1.8261343240737915\n",
      "acc  1 0.654711902141571\n",
      "1.2404231131076813 19\n"
     ]
    },
    {
     "data": {
      "application/vnd.jupyter.widget-view+json": {
       "model_id": "40352f769c8c4940ad798eac9b20131f",
       "version_major": 2,
       "version_minor": 0
      },
      "text/plain": [
       "  0%|          | 0/1000 [00:00<?, ?it/s]"
      ]
     },
     "metadata": {},
     "output_type": "display_data"
    },
    {
     "data": {
      "application/vnd.jupyter.widget-view+json": {
       "model_id": "b488579bbe2340b5bc22bcd607043d38",
       "version_major": 2,
       "version_minor": 0
      },
      "text/plain": [
       "  0%|          | 0/1000 [00:00<?, ?it/s]"
      ]
     },
     "metadata": {},
     "output_type": "display_data"
    },
    {
     "name": "stdout",
     "output_type": "stream",
     "text": [
      "tensor([1, 0])\n",
      "tensor([0, 1])\n",
      "Parameter containing:\n",
      "tensor([[0.4821, 1.2914],\n",
      "        [1.2516, 0.0598]], requires_grad=True)\n",
      "Parameter containing:\n",
      "tensor([[ 1.2602,  0.0845],\n",
      "        [-1.7654,  2.6253]], requires_grad=True)\n",
      "acc  0 0.8132089376449585\n",
      "acc  1 0.655907154083252\n",
      "0.7345580458641052 20\n"
     ]
    },
    {
     "data": {
      "application/vnd.jupyter.widget-view+json": {
       "model_id": "70c34bf89264480eb810477abdff3fb6",
       "version_major": 2,
       "version_minor": 0
      },
      "text/plain": [
       "  0%|          | 0/1000 [00:00<?, ?it/s]"
      ]
     },
     "metadata": {},
     "output_type": "display_data"
    },
    {
     "data": {
      "application/vnd.jupyter.widget-view+json": {
       "model_id": "676d52154ee04de8bb166ee138794efb",
       "version_major": 2,
       "version_minor": 0
      },
      "text/plain": [
       "  0%|          | 0/1000 [00:00<?, ?it/s]"
      ]
     },
     "metadata": {},
     "output_type": "display_data"
    },
    {
     "name": "stdout",
     "output_type": "stream",
     "text": [
      "tensor([0, 1])\n",
      "tensor([1, 0])\n",
      "Parameter containing:\n",
      "tensor([[ 1.8151, -0.3013],\n",
      "        [ 0.4224,  0.8766]], requires_grad=True)\n",
      "Parameter containing:\n",
      "tensor([[-0.6759,  1.8716],\n",
      "        [ 0.4688,  0.2805]], requires_grad=True)\n",
      "acc  0 0.8009930849075317\n",
      "acc  1 0.6335859894752502\n",
      "0.717289537191391 20\n"
     ]
    },
    {
     "data": {
      "application/vnd.jupyter.widget-view+json": {
       "model_id": "9af841fed63e44f5a4cf6d94bfbcf8ae",
       "version_major": 2,
       "version_minor": 0
      },
      "text/plain": [
       "  0%|          | 0/1000 [00:00<?, ?it/s]"
      ]
     },
     "metadata": {},
     "output_type": "display_data"
    },
    {
     "data": {
      "application/vnd.jupyter.widget-view+json": {
       "model_id": "b30dd768ff0e4b2c9e0d3e748e60494e",
       "version_major": 2,
       "version_minor": 0
      },
      "text/plain": [
       "  0%|          | 0/1000 [00:00<?, ?it/s]"
      ]
     },
     "metadata": {},
     "output_type": "display_data"
    },
    {
     "name": "stdout",
     "output_type": "stream",
     "text": [
      "tensor([1, 0])\n",
      "tensor([1, 1])\n",
      "Parameter containing:\n",
      "tensor([[-2.6024,  3.6209],\n",
      "        [ 3.5897, -3.1747]], requires_grad=True)\n",
      "Parameter containing:\n",
      "tensor([[ 0.1918,  0.4628],\n",
      "        [-0.5797,  1.9657]], requires_grad=True)\n",
      "acc  0 0.5676606297492981\n",
      "acc  1 0.528969407081604\n",
      "0.548315018415451 19\n"
     ]
    },
    {
     "data": {
      "application/vnd.jupyter.widget-view+json": {
       "model_id": "269ffc15abb04dbca223001fd5ccc6cc",
       "version_major": 2,
       "version_minor": 0
      },
      "text/plain": [
       "  0%|          | 0/1000 [00:00<?, ?it/s]"
      ]
     },
     "metadata": {},
     "output_type": "display_data"
    },
    {
     "data": {
      "application/vnd.jupyter.widget-view+json": {
       "model_id": "3564c256bd244a04becf1d8644021f73",
       "version_major": 2,
       "version_minor": 0
      },
      "text/plain": [
       "  0%|          | 0/1000 [00:00<?, ?it/s]"
      ]
     },
     "metadata": {},
     "output_type": "display_data"
    },
    {
     "name": "stdout",
     "output_type": "stream",
     "text": [
      "tensor([1, 1])\n",
      "tensor([0, 1])\n",
      "Parameter containing:\n",
      "tensor([[-0.1098,  0.9327],\n",
      "        [-0.7138,  1.4115]], requires_grad=True)\n",
      "Parameter containing:\n",
      "tensor([[ 1.2580,  0.1335],\n",
      "        [-0.1342,  0.5499]], requires_grad=True)\n",
      "acc  0 2.2512900829315186\n",
      "acc  1 1.6684573888778687\n",
      "1.9598737359046936 11\n"
     ]
    },
    {
     "data": {
      "application/vnd.jupyter.widget-view+json": {
       "model_id": "3141c6814e8b4d959bd7e573e681ba3b",
       "version_major": 2,
       "version_minor": 0
      },
      "text/plain": [
       "  0%|          | 0/1000 [00:00<?, ?it/s]"
      ]
     },
     "metadata": {},
     "output_type": "display_data"
    },
    {
     "data": {
      "application/vnd.jupyter.widget-view+json": {
       "model_id": "5b60f130d41546ccb4b699ae0cd8b0b0",
       "version_major": 2,
       "version_minor": 0
      },
      "text/plain": [
       "  0%|          | 0/1000 [00:00<?, ?it/s]"
      ]
     },
     "metadata": {},
     "output_type": "display_data"
    },
    {
     "name": "stdout",
     "output_type": "stream",
     "text": [
      "tensor([0, 0])\n",
      "tensor([1, 1])\n",
      "Parameter containing:\n",
      "tensor([[ 1.0594,  0.4755],\n",
      "        [ 0.9292, -0.3346]], requires_grad=True)\n",
      "Parameter containing:\n",
      "tensor([[ 0.1320,  1.4637],\n",
      "        [-0.7340,  2.1292]], requires_grad=True)\n",
      "acc  0 0.5186915397644043\n",
      "acc  1 1.7910584211349487\n",
      "1.1548749804496765 20\n"
     ]
    },
    {
     "data": {
      "application/vnd.jupyter.widget-view+json": {
       "model_id": "43f94d2f63f7484a8cd3b53a1fbe1771",
       "version_major": 2,
       "version_minor": 0
      },
      "text/plain": [
       "  0%|          | 0/1000 [00:00<?, ?it/s]"
      ]
     },
     "metadata": {},
     "output_type": "display_data"
    },
    {
     "data": {
      "application/vnd.jupyter.widget-view+json": {
       "model_id": "41cc15fd8cbc47609c0c1e99906033d2",
       "version_major": 2,
       "version_minor": 0
      },
      "text/plain": [
       "  0%|          | 0/1000 [00:00<?, ?it/s]"
      ]
     },
     "metadata": {},
     "output_type": "display_data"
    },
    {
     "name": "stdout",
     "output_type": "stream",
     "text": [
      "tensor([1, 1])\n",
      "tensor([1, 1])\n",
      "Parameter containing:\n",
      "tensor([[-0.5444,  0.8787],\n",
      "        [-1.2791,  2.6363]], requires_grad=True)\n",
      "Parameter containing:\n",
      "tensor([[ 0.0054,  1.4272],\n",
      "        [-3.5453,  4.6920]], requires_grad=True)\n",
      "acc  0 1.4132064580917358\n",
      "acc  1 1.7988104820251465\n",
      "1.6060084700584412 10\n"
     ]
    },
    {
     "data": {
      "application/vnd.jupyter.widget-view+json": {
       "model_id": "b6710f88b9a94099a32bd922276b7260",
       "version_major": 2,
       "version_minor": 0
      },
      "text/plain": [
       "  0%|          | 0/1000 [00:00<?, ?it/s]"
      ]
     },
     "metadata": {},
     "output_type": "display_data"
    },
    {
     "data": {
      "application/vnd.jupyter.widget-view+json": {
       "model_id": "4c27097b16de4bb1af400529d599c33f",
       "version_major": 2,
       "version_minor": 0
      },
      "text/plain": [
       "  0%|          | 0/1000 [00:00<?, ?it/s]"
      ]
     },
     "metadata": {},
     "output_type": "display_data"
    },
    {
     "name": "stdout",
     "output_type": "stream",
     "text": [
      "tensor([1, 1])\n",
      "tensor([1, 0])\n",
      "Parameter containing:\n",
      "tensor([[0.2094, 0.6372],\n",
      "        [0.0452, 1.0909]], requires_grad=True)\n",
      "Parameter containing:\n",
      "tensor([[0.3324, 1.1006],\n",
      "        [1.0585, 0.6495]], requires_grad=True)\n",
      "acc  0 1.1164650917053223\n",
      "acc  1 1.3665415048599243\n",
      "1.2415032982826233 19\n",
      "[Parameter containing:\n",
      "tensor([[0.2094, 0.6372],\n",
      "        [0.0452, 1.0909]], requires_grad=True), Parameter containing:\n",
      "tensor([[0.3324, 1.1006],\n",
      "        [1.0585, 0.6495]], requires_grad=True)]\n",
      "Parameter containing:\n",
      "tensor([34.1728], requires_grad=True)\n",
      "Parameter containing:\n",
      "tensor([60.4540], requires_grad=True)\n"
     ]
    },
    {
     "data": {
      "application/vnd.jupyter.widget-view+json": {
       "model_id": "939a3bb2443d4694aa4b27bbc27f4a89",
       "version_major": 2,
       "version_minor": 0
      },
      "text/plain": [
       "  0%|          | 0/1000 [00:00<?, ?it/s]"
      ]
     },
     "metadata": {},
     "output_type": "display_data"
    },
    {
     "data": {
      "application/vnd.jupyter.widget-view+json": {
       "model_id": "40220cd2c5454fc1bb2a502c47c009d7",
       "version_major": 2,
       "version_minor": 0
      },
      "text/plain": [
       "  0%|          | 0/1000 [00:00<?, ?it/s]"
      ]
     },
     "metadata": {},
     "output_type": "display_data"
    },
    {
     "name": "stdout",
     "output_type": "stream",
     "text": [
      "tensor([3, 0])\n",
      "tensor([3, 3])\n",
      "Parameter containing:\n",
      "tensor([[0.9982, 0.7727, 0.4641, 1.1442, 0.4592, 0.4492, 0.2292, 0.6644],\n",
      "        [1.2683, 0.2828, 0.5890, 0.5484, 1.2443, 0.4131, 0.7105, 0.1534]],\n",
      "       requires_grad=True)\n",
      "Parameter containing:\n",
      "tensor([[ 0.8067,  0.4449,  0.3552,  0.9134,  0.0627,  0.4766,  0.6793,  0.4542],\n",
      "        [ 1.3844,  1.4376, -0.7971,  1.7137,  0.7814, -0.3076, -0.6385, -1.0607]],\n",
      "       requires_grad=True)\n",
      "acc  0 1.448608160018921\n",
      "acc  1 0.3471243977546692\n",
      "0.897866278886795 19\n"
     ]
    },
    {
     "data": {
      "application/vnd.jupyter.widget-view+json": {
       "model_id": "3f55c949bcb64ca791b47523ff1d8468",
       "version_major": 2,
       "version_minor": 0
      },
      "text/plain": [
       "  0%|          | 0/1000 [00:00<?, ?it/s]"
      ]
     },
     "metadata": {},
     "output_type": "display_data"
    },
    {
     "data": {
      "application/vnd.jupyter.widget-view+json": {
       "model_id": "b73332f00d3848cc92058a90816d97bd",
       "version_major": 2,
       "version_minor": 0
      },
      "text/plain": [
       "  0%|          | 0/1000 [00:00<?, ?it/s]"
      ]
     },
     "metadata": {},
     "output_type": "display_data"
    },
    {
     "name": "stdout",
     "output_type": "stream",
     "text": [
      "tensor([2, 2])\n",
      "tensor([7, 4])\n",
      "Parameter containing:\n",
      "tensor([[ 0.5135,  0.3333,  0.7434,  0.4729,  0.1162,  0.0751,  0.6768, -0.1228],\n",
      "        [ 0.4799,  0.5740,  1.0115,  0.1170,  0.7575,  0.7390,  0.6299,  0.4331]],\n",
      "       requires_grad=True)\n",
      "Parameter containing:\n",
      "tensor([[ 0.0751,  0.3638,  1.0612,  0.1081, -0.2157,  0.3324,  0.2330,  1.7883],\n",
      "        [ 0.5127,  0.7810,  0.7851,  0.3574,  0.8937,  0.2488,  0.5572, -0.1368]],\n",
      "       requires_grad=True)\n",
      "acc  0 0.43714553117752075\n",
      "acc  1 1.270887851715088\n",
      "0.8540166914463043 20\n"
     ]
    },
    {
     "data": {
      "application/vnd.jupyter.widget-view+json": {
       "model_id": "2befcffda45c4b8e9fd75249fc9c1755",
       "version_major": 2,
       "version_minor": 0
      },
      "text/plain": [
       "  0%|          | 0/1000 [00:00<?, ?it/s]"
      ]
     },
     "metadata": {},
     "output_type": "display_data"
    },
    {
     "data": {
      "application/vnd.jupyter.widget-view+json": {
       "model_id": "84cdc39f971941cdbc2b5821f5e0123c",
       "version_major": 2,
       "version_minor": 0
      },
      "text/plain": [
       "  0%|          | 0/1000 [00:00<?, ?it/s]"
      ]
     },
     "metadata": {},
     "output_type": "display_data"
    },
    {
     "name": "stdout",
     "output_type": "stream",
     "text": [
      "tensor([4, 1])\n",
      "tensor([4, 7])\n",
      "Parameter containing:\n",
      "tensor([[ 0.5171,  0.2707,  0.8426,  0.0693,  1.4373,  0.5898,  0.0139,  0.5287],\n",
      "        [ 0.0941,  1.6599,  1.0036,  1.1162,  1.5330,  0.2135,  0.1418, -0.2313]],\n",
      "       requires_grad=True)\n",
      "Parameter containing:\n",
      "tensor([[ 0.7552, -0.0564,  0.9711,  0.4401,  1.3008,  0.8114,  0.7580,  0.2499],\n",
      "        [ 0.4305,  0.2237,  0.5418,  0.6243,  0.2304,  0.4454, -0.5472,  1.8437]],\n",
      "       requires_grad=True)\n",
      "acc  0 0.7885763049125671\n",
      "acc  1 1.3971202373504639\n",
      "1.0928482711315155 19\n"
     ]
    },
    {
     "data": {
      "application/vnd.jupyter.widget-view+json": {
       "model_id": "01e4be720f17463882a58ccbc75e10a3",
       "version_major": 2,
       "version_minor": 0
      },
      "text/plain": [
       "  0%|          | 0/1000 [00:00<?, ?it/s]"
      ]
     },
     "metadata": {},
     "output_type": "display_data"
    },
    {
     "data": {
      "application/vnd.jupyter.widget-view+json": {
       "model_id": "6b15bdc62a9241aa828f9af7d8066042",
       "version_major": 2,
       "version_minor": 0
      },
      "text/plain": [
       "  0%|          | 0/1000 [00:00<?, ?it/s]"
      ]
     },
     "metadata": {},
     "output_type": "display_data"
    },
    {
     "name": "stdout",
     "output_type": "stream",
     "text": [
      "tensor([1, 7])\n",
      "tensor([1, 7])\n",
      "Parameter containing:\n",
      "tensor([[ 0.2183,  1.4206,  0.3187,  0.9008,  0.1354,  0.7921,  0.3545,  0.0387],\n",
      "        [ 0.8012,  0.4279, -0.0993,  0.4559,  0.3478,  0.0132,  0.1534,  0.9788]],\n",
      "       requires_grad=True)\n",
      "Parameter containing:\n",
      "tensor([[ 0.6131,  1.0476,  0.6824,  0.8321,  0.1710,  0.2126,  0.4341,  0.6435],\n",
      "        [-0.0509,  0.8851,  0.1568,  0.9169,  0.7159, -0.0371, -0.0610,  1.6607]],\n",
      "       requires_grad=True)\n",
      "acc  0 1.3870577812194824\n",
      "acc  1 0.9898136854171753\n",
      "1.1884357333183289 10\n"
     ]
    },
    {
     "data": {
      "application/vnd.jupyter.widget-view+json": {
       "model_id": "97123a4c1b8e4feaadff767b1d84cd63",
       "version_major": 2,
       "version_minor": 0
      },
      "text/plain": [
       "  0%|          | 0/1000 [00:00<?, ?it/s]"
      ]
     },
     "metadata": {},
     "output_type": "display_data"
    },
    {
     "data": {
      "application/vnd.jupyter.widget-view+json": {
       "model_id": "5a76f23003d147a7a567c8fc15c6d73a",
       "version_major": 2,
       "version_minor": 0
      },
      "text/plain": [
       "  0%|          | 0/1000 [00:00<?, ?it/s]"
      ]
     },
     "metadata": {},
     "output_type": "display_data"
    },
    {
     "name": "stdout",
     "output_type": "stream",
     "text": [
      "tensor([4, 4])\n",
      "tensor([1, 6])\n",
      "Parameter containing:\n",
      "tensor([[ 0.7081, -0.1369,  0.5821,  0.1653,  0.9425,  0.6899,  0.0596,  0.5121],\n",
      "        [ 0.1998,  0.7797,  0.5338,  0.1802,  1.1385,  0.3117,  1.0861,  0.3538]],\n",
      "       requires_grad=True)\n",
      "Parameter containing:\n",
      "tensor([[ 0.1312,  2.3184, -0.1371, -0.1577, -0.2347,  1.3447,  0.5867,  0.4208],\n",
      "        [ 1.7027,  0.6491, -0.3378,  0.7159, -0.3840, -0.3060,  4.3196, -0.6376]],\n",
      "       requires_grad=True)\n",
      "acc  0 0.8830745220184326\n",
      "acc  1 0.8036795258522034\n",
      "0.843377023935318 20\n"
     ]
    },
    {
     "data": {
      "application/vnd.jupyter.widget-view+json": {
       "model_id": "049fe650edac411c999cf56249d62865",
       "version_major": 2,
       "version_minor": 0
      },
      "text/plain": [
       "  0%|          | 0/1000 [00:00<?, ?it/s]"
      ]
     },
     "metadata": {},
     "output_type": "display_data"
    },
    {
     "data": {
      "application/vnd.jupyter.widget-view+json": {
       "model_id": "3a0c670fd6f14d739d8cc4af1cf808fe",
       "version_major": 2,
       "version_minor": 0
      },
      "text/plain": [
       "  0%|          | 0/1000 [00:00<?, ?it/s]"
      ]
     },
     "metadata": {},
     "output_type": "display_data"
    },
    {
     "name": "stdout",
     "output_type": "stream",
     "text": [
      "tensor([7, 0])\n",
      "tensor([7, 2])\n",
      "Parameter containing:\n",
      "tensor([[ 0.5363, -0.4484, -0.1762, -0.9295, -0.4888, -0.2572,  2.0002,  3.7882],\n",
      "        [ 4.6693,  1.8622, -0.5174, -1.6905,  0.0560, -1.0650,  0.6326, -0.6504]],\n",
      "       requires_grad=True)\n",
      "Parameter containing:\n",
      "tensor([[ 0.6844, -0.0834,  0.2905,  0.3507,  0.2439,  0.6828, -0.1108,  0.8321],\n",
      "        [ 0.6163,  1.1135,  1.2691, -1.1311,  0.1239,  0.0075,  0.8344,  0.8317]],\n",
      "       requires_grad=True)\n",
      "acc  0 0.390470027923584\n",
      "acc  1 0.6096987128257751\n",
      "0.5000843703746796 19\n"
     ]
    },
    {
     "data": {
      "application/vnd.jupyter.widget-view+json": {
       "model_id": "179d1c7c553d4d609823dbe169014442",
       "version_major": 2,
       "version_minor": 0
      },
      "text/plain": [
       "  0%|          | 0/1000 [00:00<?, ?it/s]"
      ]
     },
     "metadata": {},
     "output_type": "display_data"
    },
    {
     "data": {
      "application/vnd.jupyter.widget-view+json": {
       "model_id": "368cc4b5b93d4f7dba27efc0000cc188",
       "version_major": 2,
       "version_minor": 0
      },
      "text/plain": [
       "  0%|          | 0/1000 [00:00<?, ?it/s]"
      ]
     },
     "metadata": {},
     "output_type": "display_data"
    },
    {
     "name": "stdout",
     "output_type": "stream",
     "text": [
      "tensor([4, 0])\n",
      "tensor([1, 3])\n",
      "Parameter containing:\n",
      "tensor([[-0.1225, -0.0562,  0.4195,  0.3159,  1.2151,  0.8469,  0.5216,  0.7479],\n",
      "        [ 1.0270,  0.4869,  0.2165,  0.1100,  0.0284,  0.6419,  0.8994,  0.4308]],\n",
      "       requires_grad=True)\n",
      "Parameter containing:\n",
      "tensor([[ 1.4700,  1.9496, -0.0112,  0.4269,  0.0468, -0.3202,  0.1435,  0.4174],\n",
      "        [ 0.5510,  0.2944,  0.1972,  1.3032,  1.2767,  1.2225,  0.1932,  0.1643]],\n",
      "       requires_grad=True)\n",
      "acc  0 0.3328164219856262\n",
      "acc  1 1.0235564708709717\n",
      "0.678186446428299 20\n"
     ]
    },
    {
     "data": {
      "application/vnd.jupyter.widget-view+json": {
       "model_id": "03f932c6581a4ac3b6b1c888d422fcfd",
       "version_major": 2,
       "version_minor": 0
      },
      "text/plain": [
       "  0%|          | 0/1000 [00:00<?, ?it/s]"
      ]
     },
     "metadata": {},
     "output_type": "display_data"
    },
    {
     "data": {
      "application/vnd.jupyter.widget-view+json": {
       "model_id": "2ad101128c674718ad6b1fa36ba35ade",
       "version_major": 2,
       "version_minor": 0
      },
      "text/plain": [
       "  0%|          | 0/1000 [00:00<?, ?it/s]"
      ]
     },
     "metadata": {},
     "output_type": "display_data"
    },
    {
     "name": "stdout",
     "output_type": "stream",
     "text": [
      "tensor([3, 0])\n",
      "tensor([6, 6])\n",
      "Parameter containing:\n",
      "tensor([[-0.0912,  0.3825,  0.2687,  1.0923,  0.1915,  0.8375,  0.2197, -0.0580],\n",
      "        [ 1.0321,  0.8549,  0.0407,  0.3414,  0.0108,  0.1517,  0.7890,  0.8990]],\n",
      "       requires_grad=True)\n",
      "Parameter containing:\n",
      "tensor([[-1.0303,  0.1906,  1.0091, -1.4829, -0.0282,  2.1204,  4.2830, -0.5790],\n",
      "        [ 0.5870, -0.4990, -1.9684,  0.4423, -1.6810,  2.4758,  5.5206, -1.1723]],\n",
      "       requires_grad=True)\n",
      "acc  0 0.2536277770996094\n",
      "acc  1 0.8967685699462891\n",
      "0.5751981735229492 20\n"
     ]
    },
    {
     "data": {
      "application/vnd.jupyter.widget-view+json": {
       "model_id": "c83929bd96404168a0679755518d291a",
       "version_major": 2,
       "version_minor": 0
      },
      "text/plain": [
       "  0%|          | 0/1000 [00:00<?, ?it/s]"
      ]
     },
     "metadata": {},
     "output_type": "display_data"
    },
    {
     "data": {
      "application/vnd.jupyter.widget-view+json": {
       "model_id": "997ce8f93f9b4a638fea7f729573acd2",
       "version_major": 2,
       "version_minor": 0
      },
      "text/plain": [
       "  0%|          | 0/1000 [00:00<?, ?it/s]"
      ]
     },
     "metadata": {},
     "output_type": "display_data"
    },
    {
     "name": "stdout",
     "output_type": "stream",
     "text": [
      "tensor([0, 0])\n",
      "tensor([5, 6])\n",
      "Parameter containing:\n",
      "tensor([[ 0.8142,  0.2053,  0.1731,  0.0277,  0.4122,  0.0600,  0.4075,  0.5102],\n",
      "        [ 1.0107,  0.7564,  0.0485,  0.6375,  0.8933,  0.7360, -0.1003,  0.7266]],\n",
      "       requires_grad=True)\n",
      "Parameter containing:\n",
      "tensor([[ 0.2319, -0.2725,  0.3072,  0.3916,  0.4511,  1.8604,  0.4287, -0.1046],\n",
      "        [-0.3977,  1.1612,  0.1481,  0.4906, -0.9704,  1.2765,  1.5619, -0.3775]],\n",
      "       requires_grad=True)\n",
      "acc  0 1.4556933641433716\n",
      "acc  1 0.6853159070014954\n",
      "1.0705046355724335 20\n"
     ]
    },
    {
     "data": {
      "application/vnd.jupyter.widget-view+json": {
       "model_id": "5187540dcfe64f3588e641ebbb15e3d9",
       "version_major": 2,
       "version_minor": 0
      },
      "text/plain": [
       "  0%|          | 0/1000 [00:00<?, ?it/s]"
      ]
     },
     "metadata": {},
     "output_type": "display_data"
    },
    {
     "data": {
      "application/vnd.jupyter.widget-view+json": {
       "model_id": "925df4e000014984877be10153125bc4",
       "version_major": 2,
       "version_minor": 0
      },
      "text/plain": [
       "  0%|          | 0/1000 [00:00<?, ?it/s]"
      ]
     },
     "metadata": {},
     "output_type": "display_data"
    },
    {
     "name": "stdout",
     "output_type": "stream",
     "text": [
      "tensor([3, 0])\n",
      "tensor([2, 0])\n",
      "Parameter containing:\n",
      "tensor([[ 0.8284,  0.4835,  0.9564,  1.8446,  0.1279,  0.2968,  0.4810, -0.1650],\n",
      "        [ 2.0299,  0.3472, -1.1806, -0.6631,  0.5096,  0.9483, -0.1698,  1.7074]],\n",
      "       requires_grad=True)\n",
      "Parameter containing:\n",
      "tensor([[-0.1432,  0.1103,  1.6012,  1.2800,  0.2015,  1.1982,  0.4473,  0.2847],\n",
      "        [ 0.8950,  0.8298,  0.4542, -0.0135, -0.3017,  0.8613,  0.5500, -0.0996]],\n",
      "       requires_grad=True)\n",
      "acc  0 0.9900749921798706\n",
      "acc  1 1.4120930433273315\n",
      "1.201084017753601 11\n"
     ]
    },
    {
     "data": {
      "application/vnd.jupyter.widget-view+json": {
       "model_id": "eb920032b0c94fb78be335a468bac241",
       "version_major": 2,
       "version_minor": 0
      },
      "text/plain": [
       "  0%|          | 0/1000 [00:00<?, ?it/s]"
      ]
     },
     "metadata": {},
     "output_type": "display_data"
    },
    {
     "data": {
      "application/vnd.jupyter.widget-view+json": {
       "model_id": "5d97f2b81a7d47dba5c142b84b5b42a6",
       "version_major": 2,
       "version_minor": 0
      },
      "text/plain": [
       "  0%|          | 0/1000 [00:00<?, ?it/s]"
      ]
     },
     "metadata": {},
     "output_type": "display_data"
    },
    {
     "name": "stdout",
     "output_type": "stream",
     "text": [
      "tensor([4, 2])\n",
      "tensor([4, 0])\n",
      "Parameter containing:\n",
      "tensor([[ 0.4472,  1.0284,  0.5529,  0.4000,  1.0425,  0.9337,  0.1285,  0.9905],\n",
      "        [-0.0945,  1.1443,  1.3216,  0.5467,  0.9030,  0.3219,  0.1994,  0.3917]],\n",
      "       requires_grad=True)\n",
      "Parameter containing:\n",
      "tensor([[ 0.3988,  0.7586,  0.1616,  0.5252,  1.5742,  1.2997, -0.0294,  0.8933],\n",
      "        [ 1.9594, -0.3884,  0.9348, -0.4244,  0.1630,  1.3054,  0.6320, -0.0122]],\n",
      "       requires_grad=True)\n",
      "acc  0 1.3989133834838867\n",
      "acc  1 1.7813761234283447\n",
      "1.5901447534561157 19\n"
     ]
    },
    {
     "data": {
      "application/vnd.jupyter.widget-view+json": {
       "model_id": "0d61ea00ca17409e89976912b9203506",
       "version_major": 2,
       "version_minor": 0
      },
      "text/plain": [
       "  0%|          | 0/1000 [00:00<?, ?it/s]"
      ]
     },
     "metadata": {},
     "output_type": "display_data"
    },
    {
     "data": {
      "application/vnd.jupyter.widget-view+json": {
       "model_id": "0c1da849071f4bf3b3fafd80bb58440f",
       "version_major": 2,
       "version_minor": 0
      },
      "text/plain": [
       "  0%|          | 0/1000 [00:00<?, ?it/s]"
      ]
     },
     "metadata": {},
     "output_type": "display_data"
    },
    {
     "name": "stdout",
     "output_type": "stream",
     "text": [
      "tensor([3, 3])\n",
      "tensor([5, 2])\n",
      "Parameter containing:\n",
      "tensor([[ 0.5060,  0.8216,  0.8251,  0.8668,  0.6507,  0.4070,  0.1289,  0.1371],\n",
      "        [ 0.2676,  0.0729,  0.5914,  1.5584,  0.3541, -0.1153,  0.6090,  1.1751]],\n",
      "       requires_grad=True)\n",
      "Parameter containing:\n",
      "tensor([[ 0.6507, -0.0290, -0.0362,  0.2137,  0.3047,  1.2123,  0.1082,  0.7671],\n",
      "        [-0.2071,  0.9071,  1.5571,  0.0132,  0.2561,  0.6083,  0.4583,  0.7706]],\n",
      "       requires_grad=True)\n",
      "acc  0 0.6518075466156006\n",
      "acc  1 0.9312534928321838\n",
      "0.7915305197238922 20\n"
     ]
    },
    {
     "data": {
      "application/vnd.jupyter.widget-view+json": {
       "model_id": "74161c2ceac346f3bdcc7bee91766364",
       "version_major": 2,
       "version_minor": 0
      },
      "text/plain": [
       "  0%|          | 0/1000 [00:00<?, ?it/s]"
      ]
     },
     "metadata": {},
     "output_type": "display_data"
    },
    {
     "data": {
      "application/vnd.jupyter.widget-view+json": {
       "model_id": "545dc54b31c741629576913ebf9ddcd6",
       "version_major": 2,
       "version_minor": 0
      },
      "text/plain": [
       "  0%|          | 0/1000 [00:00<?, ?it/s]"
      ]
     },
     "metadata": {},
     "output_type": "display_data"
    },
    {
     "name": "stdout",
     "output_type": "stream",
     "text": [
      "tensor([2, 5])\n",
      "tensor([7, 7])\n",
      "Parameter containing:\n",
      "tensor([[ 0.5500,  0.5877,  1.2144,  0.6038,  0.2075,  0.7212,  0.6063,  0.6790],\n",
      "        [-0.0642,  0.7213,  0.0914,  0.0889,  0.1879,  0.9458,  0.7278,  0.5890]],\n",
      "       requires_grad=True)\n",
      "Parameter containing:\n",
      "tensor([[ 0.9346,  0.4201,  0.6381, -0.0288,  0.2108,  0.8869,  0.6792,  0.9420],\n",
      "        [ 0.2009,  0.7970,  0.7099, -0.1030,  0.8925,  0.5205, -0.0518,  0.9361]],\n",
      "       requires_grad=True)\n",
      "acc  0 0.51042640209198\n",
      "acc  1 0.5445628762245178\n",
      "0.5274946391582489 20\n"
     ]
    },
    {
     "data": {
      "application/vnd.jupyter.widget-view+json": {
       "model_id": "2c67292c89b243e2a4bf6035fc4424a1",
       "version_major": 2,
       "version_minor": 0
      },
      "text/plain": [
       "  0%|          | 0/1000 [00:00<?, ?it/s]"
      ]
     },
     "metadata": {},
     "output_type": "display_data"
    },
    {
     "data": {
      "application/vnd.jupyter.widget-view+json": {
       "model_id": "9a224eecd31c4e1a928f3e3afbb1acaf",
       "version_major": 2,
       "version_minor": 0
      },
      "text/plain": [
       "  0%|          | 0/1000 [00:00<?, ?it/s]"
      ]
     },
     "metadata": {},
     "output_type": "display_data"
    },
    {
     "name": "stdout",
     "output_type": "stream",
     "text": [
      "tensor([1, 0])\n",
      "tensor([7, 7])\n",
      "Parameter containing:\n",
      "tensor([[ 1.2940,  1.3705,  0.3210,  0.7749,  0.2977,  0.6731, -0.0452,  0.6034],\n",
      "        [ 2.0869,  0.1751, -0.3018, -0.0790,  1.2147,  0.3731,  0.2716,  0.5137]],\n",
      "       requires_grad=True)\n",
      "Parameter containing:\n",
      "tensor([[ 0.6094, -0.3593,  0.8144, -0.0232,  0.3632,  0.6282,  0.6263,  1.2362],\n",
      "        [-0.0235, -0.5592,  0.5384,  0.0547,  0.0221, -0.7647, -0.0744,  3.6793]],\n",
      "       requires_grad=True)\n",
      "acc  0 1.108759880065918\n",
      "acc  1 0.6654680967330933\n",
      "0.8871139883995056 20\n"
     ]
    },
    {
     "data": {
      "application/vnd.jupyter.widget-view+json": {
       "model_id": "4a4f6ba76938427c9e8e3776e33e2c2f",
       "version_major": 2,
       "version_minor": 0
      },
      "text/plain": [
       "  0%|          | 0/1000 [00:00<?, ?it/s]"
      ]
     },
     "metadata": {},
     "output_type": "display_data"
    },
    {
     "data": {
      "application/vnd.jupyter.widget-view+json": {
       "model_id": "5c3c81eedb7f4703a3e71aa5ccf479c4",
       "version_major": 2,
       "version_minor": 0
      },
      "text/plain": [
       "  0%|          | 0/1000 [00:00<?, ?it/s]"
      ]
     },
     "metadata": {},
     "output_type": "display_data"
    },
    {
     "name": "stdout",
     "output_type": "stream",
     "text": [
      "tensor([0, 3])\n",
      "tensor([3, 2])\n",
      "Parameter containing:\n",
      "tensor([[ 1.0964,  0.6024,  0.2734,  1.0793,  0.5704,  0.5579,  0.3331,  0.2451],\n",
      "        [ 0.0883,  0.8646,  0.4383,  1.2791,  0.6304, -0.0645,  0.4225,  0.3562]],\n",
      "       requires_grad=True)\n",
      "Parameter containing:\n",
      "tensor([[ 0.7916,  0.4187,  0.1841,  0.9259,  0.0832,  0.3682, -0.1473,  0.1336],\n",
      "        [-0.4306, -0.1757,  1.4314, -0.0167,  1.1307,  1.0079,  1.2326,  0.3751]],\n",
      "       requires_grad=True)\n",
      "acc  0 1.616738200187683\n",
      "acc  1 1.2053345441818237\n",
      "1.4110363721847534 20\n"
     ]
    },
    {
     "data": {
      "application/vnd.jupyter.widget-view+json": {
       "model_id": "9f3484d9833d4f8bb4fb083379ff3ddd",
       "version_major": 2,
       "version_minor": 0
      },
      "text/plain": [
       "  0%|          | 0/1000 [00:00<?, ?it/s]"
      ]
     },
     "metadata": {},
     "output_type": "display_data"
    },
    {
     "data": {
      "application/vnd.jupyter.widget-view+json": {
       "model_id": "128f812ca5514052aadf60b98a65022e",
       "version_major": 2,
       "version_minor": 0
      },
      "text/plain": [
       "  0%|          | 0/1000 [00:00<?, ?it/s]"
      ]
     },
     "metadata": {},
     "output_type": "display_data"
    },
    {
     "name": "stdout",
     "output_type": "stream",
     "text": [
      "tensor([0, 1])\n",
      "tensor([2, 0])\n",
      "Parameter containing:\n",
      "tensor([[ 4.5092, -0.6837,  1.1598, -1.0166, -0.4567, -0.5878,  1.0404, -0.4904],\n",
      "        [ 1.2425,  4.1350, -0.3778, -0.7348,  1.8575,  0.0564, -1.3922, -0.2829]],\n",
      "       requires_grad=True)\n",
      "Parameter containing:\n",
      "tensor([[ 0.5453,  0.0308,  0.7750,  0.5474,  0.4181,  0.1588, -0.0217,  0.2825],\n",
      "        [ 1.1113, -0.1722, -0.0223,  0.5971,  0.6898,  0.4464,  0.6138,  0.5336]],\n",
      "       requires_grad=True)\n",
      "acc  0 0.4819974899291992\n",
      "acc  1 0.6727848649024963\n",
      "0.5773911774158478 20\n"
     ]
    },
    {
     "data": {
      "application/vnd.jupyter.widget-view+json": {
       "model_id": "2bedfc5d6dff4152b34d32d23a953752",
       "version_major": 2,
       "version_minor": 0
      },
      "text/plain": [
       "  0%|          | 0/1000 [00:00<?, ?it/s]"
      ]
     },
     "metadata": {},
     "output_type": "display_data"
    },
    {
     "data": {
      "application/vnd.jupyter.widget-view+json": {
       "model_id": "fdc060f13f8b42dc8b750f49838ef949",
       "version_major": 2,
       "version_minor": 0
      },
      "text/plain": [
       "  0%|          | 0/1000 [00:00<?, ?it/s]"
      ]
     },
     "metadata": {},
     "output_type": "display_data"
    },
    {
     "name": "stdout",
     "output_type": "stream",
     "text": [
      "tensor([0, 0])\n",
      "tensor([0, 5])\n",
      "Parameter containing:\n",
      "tensor([[ 2.0407,  0.5480,  0.8385, -0.4326,  1.2600, -0.4616,  0.3323, -0.7977],\n",
      "        [ 1.8738,  0.1077,  1.0390, -0.1955, -0.1611,  0.8206, -0.1047,  1.0431]],\n",
      "       requires_grad=True)\n",
      "Parameter containing:\n",
      "tensor([[ 1.2534,  0.2694,  0.0481,  0.5683,  0.9172,  0.6146,  0.5939,  0.2404],\n",
      "        [ 0.4823,  0.8716,  0.5388, -0.6723,  0.2463,  2.7397,  0.1949, -0.4342]],\n",
      "       requires_grad=True)\n",
      "acc  0 1.1107027530670166\n",
      "acc  1 1.0765899419784546\n",
      "1.0936463475227356 19\n"
     ]
    },
    {
     "data": {
      "application/vnd.jupyter.widget-view+json": {
       "model_id": "e41c47e4c40d4d399fedcc36925a0c22",
       "version_major": 2,
       "version_minor": 0
      },
      "text/plain": [
       "  0%|          | 0/1000 [00:00<?, ?it/s]"
      ]
     },
     "metadata": {},
     "output_type": "display_data"
    },
    {
     "data": {
      "application/vnd.jupyter.widget-view+json": {
       "model_id": "180489dc243a44e1bb18052179a98bea",
       "version_major": 2,
       "version_minor": 0
      },
      "text/plain": [
       "  0%|          | 0/1000 [00:00<?, ?it/s]"
      ]
     },
     "metadata": {},
     "output_type": "display_data"
    },
    {
     "name": "stdout",
     "output_type": "stream",
     "text": [
      "tensor([1, 3])\n",
      "tensor([6, 5])\n",
      "Parameter containing:\n",
      "tensor([[0.6277, 0.8959, 0.3641, 0.3400, 0.7310, 0.6445, 0.7739, 0.7432],\n",
      "        [0.4287, 0.6201, 0.4149, 1.2548, 0.5026, 0.3938, 0.3252, 0.5910]],\n",
      "       requires_grad=True)\n",
      "Parameter containing:\n",
      "tensor([[ 0.9893,  0.5527, -0.5725,  0.4354,  0.3184,  0.7961,  1.3003, -0.1371],\n",
      "        [ 0.4706, -0.7326,  0.3537, -0.0943,  0.2336,  1.9700,  0.6135,  0.0382]],\n",
      "       requires_grad=True)\n",
      "acc  0 0.9922395944595337\n",
      "acc  1 1.2818471193313599\n",
      "1.1370433568954468 20\n"
     ]
    },
    {
     "data": {
      "application/vnd.jupyter.widget-view+json": {
       "model_id": "a2e929181e964dd4aad86c399a93685f",
       "version_major": 2,
       "version_minor": 0
      },
      "text/plain": [
       "  0%|          | 0/1000 [00:00<?, ?it/s]"
      ]
     },
     "metadata": {},
     "output_type": "display_data"
    },
    {
     "data": {
      "application/vnd.jupyter.widget-view+json": {
       "model_id": "c432204e0d324b2d8983fa0df3dce408",
       "version_major": 2,
       "version_minor": 0
      },
      "text/plain": [
       "  0%|          | 0/1000 [00:00<?, ?it/s]"
      ]
     },
     "metadata": {},
     "output_type": "display_data"
    },
    {
     "name": "stdout",
     "output_type": "stream",
     "text": [
      "tensor([2, 3])\n",
      "tensor([7, 7])\n",
      "Parameter containing:\n",
      "tensor([[-0.0989,  0.8887,  1.5229,  0.3781,  0.8639,  0.8688,  0.0038, -0.1565],\n",
      "        [ 0.2386,  0.1656, -0.1276,  1.4797, -0.0733,  0.1518,  1.1718,  0.9731]],\n",
      "       requires_grad=True)\n",
      "Parameter containing:\n",
      "tensor([[-1.1359, -0.2621, -0.0470,  2.2652, -0.8085,  0.8406,  0.6672,  3.0567],\n",
      "        [ 0.1632, -1.1987, -1.2113,  0.3699, -0.4650, -0.1164,  2.3920,  2.9316]],\n",
      "       requires_grad=True)\n",
      "acc  0 1.4843803644180298\n",
      "acc  1 1.2185566425323486\n",
      "1.3514685034751892 20\n"
     ]
    },
    {
     "data": {
      "application/vnd.jupyter.widget-view+json": {
       "model_id": "6ec91bd939fb4ed881304e8fb4ad0652",
       "version_major": 2,
       "version_minor": 0
      },
      "text/plain": [
       "  0%|          | 0/1000 [00:00<?, ?it/s]"
      ]
     },
     "metadata": {},
     "output_type": "display_data"
    },
    {
     "data": {
      "application/vnd.jupyter.widget-view+json": {
       "model_id": "3562b81b660143d89da4d947e8fb3855",
       "version_major": 2,
       "version_minor": 0
      },
      "text/plain": [
       "  0%|          | 0/1000 [00:00<?, ?it/s]"
      ]
     },
     "metadata": {},
     "output_type": "display_data"
    },
    {
     "name": "stdout",
     "output_type": "stream",
     "text": [
      "tensor([5, 1])\n",
      "tensor([3, 2])\n",
      "Parameter containing:\n",
      "tensor([[-0.2431,  0.8574,  0.1237,  0.7251,  0.6813,  1.4342,  0.5443,  1.0008],\n",
      "        [ 0.3041,  1.3843,  1.3602,  0.2106,  0.2510,  0.0121,  0.1662,  0.1295]],\n",
      "       requires_grad=True)\n",
      "Parameter containing:\n",
      "tensor([[ 0.3928,  1.2911, -0.0390,  1.6090, -0.2074,  0.8578, -0.1406,  0.5019],\n",
      "        [ 1.2132,  0.5548,  1.8175,  0.2011,  0.8640, -0.2759,  0.3733,  0.3149]],\n",
      "       requires_grad=True)\n",
      "acc  0 0.9353120923042297\n",
      "acc  1 0.9031091332435608\n",
      "0.9192106127738953 20\n",
      "[Parameter containing:\n",
      "tensor([[-0.2431,  0.8574,  0.1237,  0.7251,  0.6813,  1.4342,  0.5443,  1.0008],\n",
      "        [ 0.3041,  1.3843,  1.3602,  0.2106,  0.2510,  0.0121,  0.1662,  0.1295]],\n",
      "       requires_grad=True), Parameter containing:\n",
      "tensor([[ 0.3928,  1.2911, -0.0390,  1.6090, -0.2074,  0.8578, -0.1406,  0.5019],\n",
      "        [ 1.2132,  0.5548,  1.8175,  0.2011,  0.8640, -0.2759,  0.3733,  0.3149]],\n",
      "       requires_grad=True)]\n",
      "Parameter containing:\n",
      "tensor([116.6797], requires_grad=True)\n",
      "Parameter containing:\n",
      "tensor([-25.5038], requires_grad=True)\n",
      "Parameter containing:\n",
      "tensor([125.8983], requires_grad=True)\n",
      "Parameter containing:\n",
      "tensor([-14.3582], requires_grad=True)\n",
      "Parameter containing:\n",
      "tensor([49.8178], requires_grad=True)\n",
      "Parameter containing:\n",
      "tensor([-122.5649], requires_grad=True)\n",
      "Parameter containing:\n",
      "tensor([-71.2760], requires_grad=True)\n",
      "Parameter containing:\n",
      "tensor([62.2929], requires_grad=True)\n"
     ]
    },
    {
     "data": {
      "application/vnd.jupyter.widget-view+json": {
       "model_id": "90f94dc59e104676b07e4442d4d3287a",
       "version_major": 2,
       "version_minor": 0
      },
      "text/plain": [
       "  0%|          | 0/1000 [00:00<?, ?it/s]"
      ]
     },
     "metadata": {},
     "output_type": "display_data"
    },
    {
     "data": {
      "application/vnd.jupyter.widget-view+json": {
       "model_id": "e70b1873e6224bdcb1ebae6425d50adc",
       "version_major": 2,
       "version_minor": 0
      },
      "text/plain": [
       "  0%|          | 0/1000 [00:00<?, ?it/s]"
      ]
     },
     "metadata": {},
     "output_type": "display_data"
    },
    {
     "name": "stdout",
     "output_type": "stream",
     "text": [
      "tensor([2, 1])\n",
      "tensor([2, 1])\n",
      "tensor([0, 1])\n",
      "Parameter containing:\n",
      "tensor([[0.5017, 0.5169, 1.1616],\n",
      "        [0.4545, 0.9783, 0.5179]], requires_grad=True)\n",
      "Parameter containing:\n",
      "tensor([[0.1278, 0.5885, 1.2747],\n",
      "        [0.1764, 0.8342, 0.6508]], requires_grad=True)\n",
      "Parameter containing:\n",
      "tensor([[1.1700, 0.7836, 0.2246],\n",
      "        [0.3482, 0.8732, 0.6673]], requires_grad=True)\n",
      "acc  0 0.7171001434326172\n",
      "acc  1 0.8471923470497131\n",
      "acc  2 0.608246922492981\n",
      "0.7241798043251038 11\n"
     ]
    },
    {
     "data": {
      "application/vnd.jupyter.widget-view+json": {
       "model_id": "74253180c82e4fdabdb1785cf24a69f4",
       "version_major": 2,
       "version_minor": 0
      },
      "text/plain": [
       "  0%|          | 0/1000 [00:00<?, ?it/s]"
      ]
     },
     "metadata": {},
     "output_type": "display_data"
    },
    {
     "data": {
      "application/vnd.jupyter.widget-view+json": {
       "model_id": "771a5d737c44406e88ea3b4a5e0c2cf1",
       "version_major": 2,
       "version_minor": 0
      },
      "text/plain": [
       "  0%|          | 0/1000 [00:00<?, ?it/s]"
      ]
     },
     "metadata": {},
     "output_type": "display_data"
    },
    {
     "name": "stdout",
     "output_type": "stream",
     "text": [
      "tensor([2, 2])\n",
      "tensor([1, 2])\n",
      "tensor([1, 1])\n",
      "Parameter containing:\n",
      "tensor([[ 0.7957, -0.1327,  0.9085],\n",
      "        [ 0.2511, -0.5029,  0.8319]], requires_grad=True)\n",
      "Parameter containing:\n",
      "tensor([[-1.4443,  4.0488, -1.2000],\n",
      "        [-1.3469, -1.1319,  4.1771]], requires_grad=True)\n",
      "Parameter containing:\n",
      "tensor([[-0.2623,  1.7207,  0.1317],\n",
      "        [-0.6358,  2.2719, -0.2266]], requires_grad=True)\n",
      "acc  0 0.6686499118804932\n",
      "acc  1 0.8957465887069702\n",
      "acc  2 0.7853823900222778\n",
      "0.7832596302032471 20\n"
     ]
    },
    {
     "data": {
      "application/vnd.jupyter.widget-view+json": {
       "model_id": "a261b16a2dc648daa47f7565b9a2a071",
       "version_major": 2,
       "version_minor": 0
      },
      "text/plain": [
       "  0%|          | 0/1000 [00:00<?, ?it/s]"
      ]
     },
     "metadata": {},
     "output_type": "display_data"
    },
    {
     "data": {
      "application/vnd.jupyter.widget-view+json": {
       "model_id": "31953855e7df4d1e8221bac551a356a4",
       "version_major": 2,
       "version_minor": 0
      },
      "text/plain": [
       "  0%|          | 0/1000 [00:00<?, ?it/s]"
      ]
     },
     "metadata": {},
     "output_type": "display_data"
    },
    {
     "name": "stdout",
     "output_type": "stream",
     "text": [
      "tensor([2, 0])\n",
      "tensor([2, 0])\n",
      "tensor([0, 2])\n",
      "Parameter containing:\n",
      "tensor([[ 0.2038,  1.0297,  1.0445],\n",
      "        [ 1.4300,  0.4333, -0.3712]], requires_grad=True)\n",
      "Parameter containing:\n",
      "tensor([[0.2207, 0.1993, 1.0631],\n",
      "        [0.9965, 0.9082, 0.7162]], requires_grad=True)\n",
      "Parameter containing:\n",
      "tensor([[ 2.0852,  0.4700, -0.9642],\n",
      "        [-0.4061, -0.7785,  2.7667]], requires_grad=True)\n",
      "acc  0 0.7490819692611694\n",
      "acc  1 1.1833902597427368\n",
      "acc  2 0.4712948799133301\n",
      "0.8012557029724121 20\n"
     ]
    },
    {
     "data": {
      "application/vnd.jupyter.widget-view+json": {
       "model_id": "d9f5e836123d4391b492a68d5156ae08",
       "version_major": 2,
       "version_minor": 0
      },
      "text/plain": [
       "  0%|          | 0/1000 [00:00<?, ?it/s]"
      ]
     },
     "metadata": {},
     "output_type": "display_data"
    },
    {
     "data": {
      "application/vnd.jupyter.widget-view+json": {
       "model_id": "01dbebc1c11946559c05be7dec8bf8b4",
       "version_major": 2,
       "version_minor": 0
      },
      "text/plain": [
       "  0%|          | 0/1000 [00:00<?, ?it/s]"
      ]
     },
     "metadata": {},
     "output_type": "display_data"
    },
    {
     "name": "stdout",
     "output_type": "stream",
     "text": [
      "tensor([1, 0])\n",
      "tensor([0, 0])\n",
      "tensor([1, 0])\n",
      "Parameter containing:\n",
      "tensor([[ 0.0740,  1.2251,  0.5326],\n",
      "        [ 0.8796, -0.0463,  0.6714]], requires_grad=True)\n",
      "Parameter containing:\n",
      "tensor([[ 1.4690, -1.1081,  1.2661],\n",
      "        [ 1.1252, -0.8832,  0.0485]], requires_grad=True)\n",
      "Parameter containing:\n",
      "tensor([[ 0.0959,  0.8843,  0.4898],\n",
      "        [ 1.5391, -0.2607,  0.5918]], requires_grad=True)\n",
      "acc  0 1.135402798652649\n",
      "acc  1 0.6121475100517273\n",
      "acc  2 0.5691223740577698\n",
      "0.772224227587382 11\n"
     ]
    },
    {
     "data": {
      "application/vnd.jupyter.widget-view+json": {
       "model_id": "781cb0075b02427ba036bf6bc7067bd6",
       "version_major": 2,
       "version_minor": 0
      },
      "text/plain": [
       "  0%|          | 0/1000 [00:00<?, ?it/s]"
      ]
     },
     "metadata": {},
     "output_type": "display_data"
    },
    {
     "data": {
      "application/vnd.jupyter.widget-view+json": {
       "model_id": "0a4714d807d946f2ac5f5101b4fdfda0",
       "version_major": 2,
       "version_minor": 0
      },
      "text/plain": [
       "  0%|          | 0/1000 [00:00<?, ?it/s]"
      ]
     },
     "metadata": {},
     "output_type": "display_data"
    },
    {
     "name": "stdout",
     "output_type": "stream",
     "text": [
      "tensor([0, 0])\n",
      "tensor([2, 2])\n",
      "tensor([1, 1])\n",
      "Parameter containing:\n",
      "tensor([[ 0.4987,  0.3367,  0.4031],\n",
      "        [ 1.4000, -0.1893,  0.5430]], requires_grad=True)\n",
      "Parameter containing:\n",
      "tensor([[ 0.6925, -0.9605,  0.9462],\n",
      "        [-0.9436,  0.0712,  2.1819]], requires_grad=True)\n",
      "Parameter containing:\n",
      "tensor([[ 0.3001,  1.9073,  0.0391],\n",
      "        [-0.2781,  2.4529,  0.1773]], requires_grad=True)\n",
      "acc  0 1.1591747999191284\n",
      "acc  1 1.8748688697814941\n",
      "acc  2 0.9621943831443787\n",
      "1.3320793509483337 30\n"
     ]
    },
    {
     "data": {
      "application/vnd.jupyter.widget-view+json": {
       "model_id": "e8970e2af7734ebaadc67bbe4a64a527",
       "version_major": 2,
       "version_minor": 0
      },
      "text/plain": [
       "  0%|          | 0/1000 [00:00<?, ?it/s]"
      ]
     },
     "metadata": {},
     "output_type": "display_data"
    },
    {
     "data": {
      "application/vnd.jupyter.widget-view+json": {
       "model_id": "18fdfa6ec90f4a509c7d9fe04a6c018f",
       "version_major": 2,
       "version_minor": 0
      },
      "text/plain": [
       "  0%|          | 0/1000 [00:00<?, ?it/s]"
      ]
     },
     "metadata": {},
     "output_type": "display_data"
    },
    {
     "name": "stdout",
     "output_type": "stream",
     "text": [
      "tensor([2, 2])\n",
      "tensor([2, 2])\n",
      "tensor([1, 0])\n",
      "Parameter containing:\n",
      "tensor([[-0.4947, -0.2235,  1.2888],\n",
      "        [ 0.1212, -1.2576,  3.3666]], requires_grad=True)\n",
      "Parameter containing:\n",
      "tensor([[-0.0068, -0.4496,  1.8272],\n",
      "        [ 0.4925, -1.2383,  2.7674]], requires_grad=True)\n",
      "Parameter containing:\n",
      "tensor([[ 0.1693,  0.7651, -0.2672],\n",
      "        [ 1.5571,  0.5643, -0.8815]], requires_grad=True)\n",
      "acc  0 1.0264949798583984\n",
      "acc  1 0.5190938711166382\n",
      "acc  2 0.9189780950546265\n",
      "0.8215223153432211 20\n"
     ]
    },
    {
     "data": {
      "application/vnd.jupyter.widget-view+json": {
       "model_id": "2899b8e0c05c4cab84a20fd37f95fafb",
       "version_major": 2,
       "version_minor": 0
      },
      "text/plain": [
       "  0%|          | 0/1000 [00:00<?, ?it/s]"
      ]
     },
     "metadata": {},
     "output_type": "display_data"
    },
    {
     "data": {
      "application/vnd.jupyter.widget-view+json": {
       "model_id": "11b0e5be37fa48bb84cae20dbfe86934",
       "version_major": 2,
       "version_minor": 0
      },
      "text/plain": [
       "  0%|          | 0/1000 [00:00<?, ?it/s]"
      ]
     },
     "metadata": {},
     "output_type": "display_data"
    },
    {
     "name": "stdout",
     "output_type": "stream",
     "text": [
      "tensor([0, 1])\n",
      "tensor([2, 0])\n",
      "tensor([1, 2])\n",
      "Parameter containing:\n",
      "tensor([[ 0.5813,  0.2571,  0.0617],\n",
      "        [-0.1540,  1.2136,  0.6883]], requires_grad=True)\n",
      "Parameter containing:\n",
      "tensor([[ 0.4350,  0.5760,  0.9900],\n",
      "        [ 1.4961, -0.3863,  0.0281]], requires_grad=True)\n",
      "Parameter containing:\n",
      "tensor([[0.3362, 0.7045, 0.6578],\n",
      "        [0.3221, 0.4547, 0.5161]], requires_grad=True)\n",
      "acc  0 0.8771125078201294\n",
      "acc  1 0.5099698901176453\n",
      "acc  2 0.4309404194355011\n",
      "0.6060076057910919 30\n"
     ]
    },
    {
     "data": {
      "application/vnd.jupyter.widget-view+json": {
       "model_id": "93d3cc95733c45bdb3c001acd873c270",
       "version_major": 2,
       "version_minor": 0
      },
      "text/plain": [
       "  0%|          | 0/1000 [00:00<?, ?it/s]"
      ]
     },
     "metadata": {},
     "output_type": "display_data"
    },
    {
     "data": {
      "application/vnd.jupyter.widget-view+json": {
       "model_id": "cddf0915a2b440ce918718e896890aac",
       "version_major": 2,
       "version_minor": 0
      },
      "text/plain": [
       "  0%|          | 0/1000 [00:00<?, ?it/s]"
      ]
     },
     "metadata": {},
     "output_type": "display_data"
    },
    {
     "name": "stdout",
     "output_type": "stream",
     "text": [
      "tensor([2, 0])\n",
      "tensor([2, 0])\n",
      "tensor([2, 0])\n",
      "Parameter containing:\n",
      "tensor([[0.1829, 0.1148, 0.2738],\n",
      "        [0.7598, 0.3872, 0.6407]], requires_grad=True)\n",
      "Parameter containing:\n",
      "tensor([[ 0.1562,  0.2896,  0.9568],\n",
      "        [ 0.8291, -0.0245,  0.2347]], requires_grad=True)\n",
      "Parameter containing:\n",
      "tensor([[0.0285, 0.3607, 0.8760],\n",
      "        [0.8612, 0.0915, 0.4512]], requires_grad=True)\n",
      "acc  0 0.655053436756134\n",
      "acc  1 1.0648201704025269\n",
      "acc  2 1.2068630456924438\n",
      "0.9755788842837015 10\n"
     ]
    },
    {
     "data": {
      "application/vnd.jupyter.widget-view+json": {
       "model_id": "b920ee53e0304ae5988ddece6f8581ce",
       "version_major": 2,
       "version_minor": 0
      },
      "text/plain": [
       "  0%|          | 0/1000 [00:00<?, ?it/s]"
      ]
     },
     "metadata": {},
     "output_type": "display_data"
    },
    {
     "data": {
      "application/vnd.jupyter.widget-view+json": {
       "model_id": "775ca6942c6f4e919597a6f32e9a6768",
       "version_major": 2,
       "version_minor": 0
      },
      "text/plain": [
       "  0%|          | 0/1000 [00:00<?, ?it/s]"
      ]
     },
     "metadata": {},
     "output_type": "display_data"
    },
    {
     "name": "stdout",
     "output_type": "stream",
     "text": [
      "tensor([0, 2])\n",
      "tensor([1, 1])\n",
      "tensor([1, 0])\n",
      "Parameter containing:\n",
      "tensor([[ 1.0299,  0.0761, -0.0301],\n",
      "        [ 0.1365, -0.3906,  0.8399]], requires_grad=True)\n",
      "Parameter containing:\n",
      "tensor([[-0.1409,  0.9886,  0.6931],\n",
      "        [ 0.4190,  0.8156,  0.2565]], requires_grad=True)\n",
      "Parameter containing:\n",
      "tensor([[0.7102, 0.7247, 0.6672],\n",
      "        [1.0121, 0.0502, 0.4085]], requires_grad=True)\n",
      "acc  0 1.6107456684112549\n",
      "acc  1 0.9910134077072144\n",
      "acc  2 0.5491377711296082\n",
      "1.0502989490826924 29\n"
     ]
    },
    {
     "data": {
      "application/vnd.jupyter.widget-view+json": {
       "model_id": "ae79c509f64a4daca1bd2836ca68e932",
       "version_major": 2,
       "version_minor": 0
      },
      "text/plain": [
       "  0%|          | 0/1000 [00:00<?, ?it/s]"
      ]
     },
     "metadata": {},
     "output_type": "display_data"
    },
    {
     "data": {
      "application/vnd.jupyter.widget-view+json": {
       "model_id": "ddab4860e1df49a4897e713370d76207",
       "version_major": 2,
       "version_minor": 0
      },
      "text/plain": [
       "  0%|          | 0/1000 [00:00<?, ?it/s]"
      ]
     },
     "metadata": {},
     "output_type": "display_data"
    },
    {
     "name": "stdout",
     "output_type": "stream",
     "text": [
      "tensor([0, 2])\n",
      "tensor([2, 2])\n",
      "tensor([1, 2])\n",
      "Parameter containing:\n",
      "tensor([[ 1.4457,  0.5294,  0.1988],\n",
      "        [-1.5851,  1.1286,  2.0349]], requires_grad=True)\n",
      "Parameter containing:\n",
      "tensor([[ 0.7221, -0.0958,  1.2334],\n",
      "        [ 0.3457,  0.1297,  0.4013]], requires_grad=True)\n",
      "Parameter containing:\n",
      "tensor([[-1.1642,  3.1656, -0.8118],\n",
      "        [-0.5140,  0.8081,  0.8114]], requires_grad=True)\n",
      "acc  0 1.519741177558899\n",
      "acc  1 1.061795711517334\n",
      "acc  2 0.9413827061653137\n",
      "1.1743065317471821 12\n"
     ]
    },
    {
     "data": {
      "application/vnd.jupyter.widget-view+json": {
       "model_id": "ed82a413bda340799d99dfbd9efdd52c",
       "version_major": 2,
       "version_minor": 0
      },
      "text/plain": [
       "  0%|          | 0/1000 [00:00<?, ?it/s]"
      ]
     },
     "metadata": {},
     "output_type": "display_data"
    },
    {
     "data": {
      "application/vnd.jupyter.widget-view+json": {
       "model_id": "fe5ad6c3c630437e916be73a410952f4",
       "version_major": 2,
       "version_minor": 0
      },
      "text/plain": [
       "  0%|          | 0/1000 [00:00<?, ?it/s]"
      ]
     },
     "metadata": {},
     "output_type": "display_data"
    },
    {
     "name": "stdout",
     "output_type": "stream",
     "text": [
      "tensor([0, 2])\n",
      "tensor([1, 0])\n",
      "tensor([2, 1])\n",
      "Parameter containing:\n",
      "tensor([[ 1.6064, -0.1726,  0.7524],\n",
      "        [-0.2440,  0.2057,  2.1317]], requires_grad=True)\n",
      "Parameter containing:\n",
      "tensor([[-0.4802,  2.1344, -0.2492],\n",
      "        [ 1.2908,  0.1205,  0.1309]], requires_grad=True)\n",
      "Parameter containing:\n",
      "tensor([[ 1.2381, -0.1821,  1.6639],\n",
      "        [-0.0655,  2.0039, -0.3054]], requires_grad=True)\n",
      "acc  0 1.1489789485931396\n",
      "acc  1 0.40739408135414124\n",
      "acc  2 0.5142348408699036\n",
      "0.6902026236057281 30\n"
     ]
    },
    {
     "data": {
      "application/vnd.jupyter.widget-view+json": {
       "model_id": "6a3fa950b9d54a0597545dbebba7b1d7",
       "version_major": 2,
       "version_minor": 0
      },
      "text/plain": [
       "  0%|          | 0/1000 [00:00<?, ?it/s]"
      ]
     },
     "metadata": {},
     "output_type": "display_data"
    },
    {
     "data": {
      "application/vnd.jupyter.widget-view+json": {
       "model_id": "8751b8ef8db64c6a917bb11f1ef64255",
       "version_major": 2,
       "version_minor": 0
      },
      "text/plain": [
       "  0%|          | 0/1000 [00:00<?, ?it/s]"
      ]
     },
     "metadata": {},
     "output_type": "display_data"
    },
    {
     "name": "stdout",
     "output_type": "stream",
     "text": [
      "tensor([2, 0])\n",
      "tensor([1, 2])\n",
      "tensor([2, 1])\n",
      "Parameter containing:\n",
      "tensor([[0.3164, 0.8460, 1.0029],\n",
      "        [0.9193, 0.6850, 0.1882]], requires_grad=True)\n",
      "Parameter containing:\n",
      "tensor([[-0.3309,  3.3753, -1.6809],\n",
      "        [ 0.0233, -1.5375,  3.0155]], requires_grad=True)\n",
      "Parameter containing:\n",
      "tensor([[0.6928, 0.1562, 0.8003],\n",
      "        [0.3019, 0.5919, 0.2835]], requires_grad=True)\n",
      "acc  0 0.8007076978683472\n",
      "acc  1 0.39973849058151245\n",
      "acc  2 1.08837890625\n",
      "0.7629416982332865 29\n"
     ]
    },
    {
     "data": {
      "application/vnd.jupyter.widget-view+json": {
       "model_id": "afb74e0a15ee44c78098caf86192e884",
       "version_major": 2,
       "version_minor": 0
      },
      "text/plain": [
       "  0%|          | 0/1000 [00:00<?, ?it/s]"
      ]
     },
     "metadata": {},
     "output_type": "display_data"
    },
    {
     "data": {
      "application/vnd.jupyter.widget-view+json": {
       "model_id": "6a372f848ab44f4a93761fcad252e199",
       "version_major": 2,
       "version_minor": 0
      },
      "text/plain": [
       "  0%|          | 0/1000 [00:00<?, ?it/s]"
      ]
     },
     "metadata": {},
     "output_type": "display_data"
    },
    {
     "name": "stdout",
     "output_type": "stream",
     "text": [
      "tensor([2, 2])\n",
      "tensor([0, 0])\n",
      "tensor([1, 1])\n",
      "Parameter containing:\n",
      "tensor([[0.4006, 0.7832, 1.0192],\n",
      "        [0.6826, 0.4181, 0.6979]], requires_grad=True)\n",
      "Parameter containing:\n",
      "tensor([[ 0.9362, -0.1053,  0.5402],\n",
      "        [ 0.3664,  0.1873,  0.2175]], requires_grad=True)\n",
      "Parameter containing:\n",
      "tensor([[0.3462, 0.8844, 0.5396],\n",
      "        [0.0487, 1.3742, 0.5245]], requires_grad=True)\n",
      "acc  0 0.6563237309455872\n",
      "acc  1 0.4625089466571808\n",
      "acc  2 1.3943015336990356\n",
      "0.8377114037672678 30\n"
     ]
    },
    {
     "data": {
      "application/vnd.jupyter.widget-view+json": {
       "model_id": "1c1ab83a3d144dd2a26acda7b7418a97",
       "version_major": 2,
       "version_minor": 0
      },
      "text/plain": [
       "  0%|          | 0/1000 [00:00<?, ?it/s]"
      ]
     },
     "metadata": {},
     "output_type": "display_data"
    },
    {
     "data": {
      "application/vnd.jupyter.widget-view+json": {
       "model_id": "ba341568a55c41ba9c84c6331ad10a4c",
       "version_major": 2,
       "version_minor": 0
      },
      "text/plain": [
       "  0%|          | 0/1000 [00:00<?, ?it/s]"
      ]
     },
     "metadata": {},
     "output_type": "display_data"
    },
    {
     "name": "stdout",
     "output_type": "stream",
     "text": [
      "tensor([0, 2])\n",
      "tensor([2, 2])\n",
      "tensor([0, 1])\n",
      "Parameter containing:\n",
      "tensor([[ 2.0665,  1.0386, -0.5877],\n",
      "        [ 0.8378, -0.3041,  1.3784]], requires_grad=True)\n",
      "Parameter containing:\n",
      "tensor([[-0.1487,  0.5431,  1.4331],\n",
      "        [ 0.1491, -0.0252,  0.2239]], requires_grad=True)\n",
      "Parameter containing:\n",
      "tensor([[ 1.4611,  1.1573, -0.4799],\n",
      "        [-0.8347,  2.3151,  0.3693]], requires_grad=True)\n",
      "acc  0 0.36928680539131165\n",
      "acc  1 0.4216200113296509\n",
      "acc  2 1.6915874481201172\n",
      "0.8274980882803599 20\n"
     ]
    },
    {
     "data": {
      "application/vnd.jupyter.widget-view+json": {
       "model_id": "ca1d995500194f55a7a26197376f8dce",
       "version_major": 2,
       "version_minor": 0
      },
      "text/plain": [
       "  0%|          | 0/1000 [00:00<?, ?it/s]"
      ]
     },
     "metadata": {},
     "output_type": "display_data"
    },
    {
     "data": {
      "application/vnd.jupyter.widget-view+json": {
       "model_id": "deb85228301a4b91aa8beb2d8daf817a",
       "version_major": 2,
       "version_minor": 0
      },
      "text/plain": [
       "  0%|          | 0/1000 [00:00<?, ?it/s]"
      ]
     },
     "metadata": {},
     "output_type": "display_data"
    },
    {
     "name": "stdout",
     "output_type": "stream",
     "text": [
      "tensor([2, 1])\n",
      "tensor([0, 2])\n",
      "tensor([1, 1])\n",
      "Parameter containing:\n",
      "tensor([[ 0.3130, -0.0853,  1.6397],\n",
      "        [ 0.4769,  0.9543,  0.7100]], requires_grad=True)\n",
      "Parameter containing:\n",
      "tensor([[ 0.6405,  0.6019,  0.2453],\n",
      "        [-0.2505,  0.6995,  1.0754]], requires_grad=True)\n",
      "Parameter containing:\n",
      "tensor([[-0.0252,  1.0292,  0.1225],\n",
      "        [-1.1039,  2.3458,  0.4874]], requires_grad=True)\n",
      "acc  0 1.443132758140564\n",
      "acc  1 0.9669588804244995\n",
      "acc  2 1.8360216617584229\n",
      "1.4153711001078289 21\n"
     ]
    },
    {
     "data": {
      "application/vnd.jupyter.widget-view+json": {
       "model_id": "6929beeed635421dac72fe8c8770aec1",
       "version_major": 2,
       "version_minor": 0
      },
      "text/plain": [
       "  0%|          | 0/1000 [00:00<?, ?it/s]"
      ]
     },
     "metadata": {},
     "output_type": "display_data"
    },
    {
     "data": {
      "application/vnd.jupyter.widget-view+json": {
       "model_id": "d305e47511d846f3a904e28f42022616",
       "version_major": 2,
       "version_minor": 0
      },
      "text/plain": [
       "  0%|          | 0/1000 [00:00<?, ?it/s]"
      ]
     },
     "metadata": {},
     "output_type": "display_data"
    },
    {
     "name": "stdout",
     "output_type": "stream",
     "text": [
      "tensor([2, 1])\n",
      "tensor([2, 0])\n",
      "tensor([1, 0])\n",
      "Parameter containing:\n",
      "tensor([[-0.5409, -1.7241,  3.2855],\n",
      "        [-0.5557,  3.9021, -2.2790]], requires_grad=True)\n",
      "Parameter containing:\n",
      "tensor([[ 0.4896,  0.1039,  1.6772],\n",
      "        [ 1.3030, -0.4280,  0.9612]], requires_grad=True)\n",
      "Parameter containing:\n",
      "tensor([[ 0.6792,  0.6933, -0.0969],\n",
      "        [ 0.9497, -0.1030,  0.3768]], requires_grad=True)\n",
      "acc  0 0.5534238815307617\n",
      "acc  1 0.9533824324607849\n",
      "acc  2 0.39902248978614807\n",
      "0.6352762679258982 20\n"
     ]
    },
    {
     "data": {
      "application/vnd.jupyter.widget-view+json": {
       "model_id": "4ab5171355d94ed5ae9d46bc8bb2987e",
       "version_major": 2,
       "version_minor": 0
      },
      "text/plain": [
       "  0%|          | 0/1000 [00:00<?, ?it/s]"
      ]
     },
     "metadata": {},
     "output_type": "display_data"
    },
    {
     "data": {
      "application/vnd.jupyter.widget-view+json": {
       "model_id": "e06b7ccde604439ead490e0422ea14a7",
       "version_major": 2,
       "version_minor": 0
      },
      "text/plain": [
       "  0%|          | 0/1000 [00:00<?, ?it/s]"
      ]
     },
     "metadata": {},
     "output_type": "display_data"
    },
    {
     "name": "stdout",
     "output_type": "stream",
     "text": [
      "tensor([0, 1])\n",
      "tensor([2, 1])\n",
      "tensor([1, 0])\n",
      "Parameter containing:\n",
      "tensor([[ 1.3878,  1.0275, -1.0837],\n",
      "        [ 0.7560,  0.7673,  0.0572]], requires_grad=True)\n",
      "Parameter containing:\n",
      "tensor([[-0.1346, -2.1380,  3.0592],\n",
      "        [-0.6413,  3.1745, -0.8637]], requires_grad=True)\n",
      "Parameter containing:\n",
      "tensor([[-1.3915e-03,  2.4347e+00, -5.6900e-01],\n",
      "        [ 1.1810e+00,  9.9534e-01, -5.6266e-01]], requires_grad=True)\n",
      "acc  0 0.3760678172111511\n",
      "acc  1 0.37591177225112915\n",
      "acc  2 1.43478262424469\n",
      "0.7289207379023234 21\n"
     ]
    },
    {
     "data": {
      "application/vnd.jupyter.widget-view+json": {
       "model_id": "54119a7f498d444b9f68f7c333f71d79",
       "version_major": 2,
       "version_minor": 0
      },
      "text/plain": [
       "  0%|          | 0/1000 [00:00<?, ?it/s]"
      ]
     },
     "metadata": {},
     "output_type": "display_data"
    },
    {
     "data": {
      "application/vnd.jupyter.widget-view+json": {
       "model_id": "e9b33af1632f41d28995e1a2f6a96524",
       "version_major": 2,
       "version_minor": 0
      },
      "text/plain": [
       "  0%|          | 0/1000 [00:00<?, ?it/s]"
      ]
     },
     "metadata": {},
     "output_type": "display_data"
    },
    {
     "name": "stdout",
     "output_type": "stream",
     "text": [
      "tensor([0, 1])\n",
      "tensor([1, 2])\n",
      "tensor([2, 2])\n",
      "Parameter containing:\n",
      "tensor([[ 0.8372,  0.3708,  0.7418],\n",
      "        [-0.0602,  1.2650,  0.5706]], requires_grad=True)\n",
      "Parameter containing:\n",
      "tensor([[-0.2413,  2.1409,  0.3304],\n",
      "        [ 0.9708, -0.1730,  1.1902]], requires_grad=True)\n",
      "Parameter containing:\n",
      "tensor([[-0.2951,  0.6674,  0.7714],\n",
      "        [-0.4103, -0.2186,  2.1347]], requires_grad=True)\n",
      "acc  0 0.8466609716415405\n",
      "acc  1 0.9245405197143555\n",
      "acc  2 0.9701194167137146\n",
      "0.9137736360232035 21\n"
     ]
    },
    {
     "data": {
      "application/vnd.jupyter.widget-view+json": {
       "model_id": "975f1193c99e46b78c88232f14541944",
       "version_major": 2,
       "version_minor": 0
      },
      "text/plain": [
       "  0%|          | 0/1000 [00:00<?, ?it/s]"
      ]
     },
     "metadata": {},
     "output_type": "display_data"
    },
    {
     "data": {
      "application/vnd.jupyter.widget-view+json": {
       "model_id": "0fa4f6cfc9194273a46f41a1d76b8fa0",
       "version_major": 2,
       "version_minor": 0
      },
      "text/plain": [
       "  0%|          | 0/1000 [00:00<?, ?it/s]"
      ]
     },
     "metadata": {},
     "output_type": "display_data"
    },
    {
     "name": "stdout",
     "output_type": "stream",
     "text": [
      "tensor([2, 2])\n",
      "tensor([2, 1])\n",
      "tensor([2, 0])\n",
      "Parameter containing:\n",
      "tensor([[0.4480, 0.1648, 0.5796],\n",
      "        [0.4094, 0.6535, 0.8689]], requires_grad=True)\n",
      "Parameter containing:\n",
      "tensor([[-0.7598, -1.9739,  4.0248],\n",
      "        [-0.2990,  2.2773,  0.3541]], requires_grad=True)\n",
      "Parameter containing:\n",
      "tensor([[-0.9168, -0.6822,  2.7801],\n",
      "        [ 1.6098, -0.7761,  0.1527]], requires_grad=True)\n",
      "acc  0 2.0968713760375977\n",
      "acc  1 0.9580008387565613\n",
      "acc  2 1.4991519451141357\n",
      "1.518008053302765 28\n"
     ]
    },
    {
     "data": {
      "application/vnd.jupyter.widget-view+json": {
       "model_id": "a894f4e0162a4af0bb61dea868eee79d",
       "version_major": 2,
       "version_minor": 0
      },
      "text/plain": [
       "  0%|          | 0/1000 [00:00<?, ?it/s]"
      ]
     },
     "metadata": {},
     "output_type": "display_data"
    },
    {
     "data": {
      "application/vnd.jupyter.widget-view+json": {
       "model_id": "b247a5eac7cb437a971024d85fe2d02d",
       "version_major": 2,
       "version_minor": 0
      },
      "text/plain": [
       "  0%|          | 0/1000 [00:00<?, ?it/s]"
      ]
     },
     "metadata": {},
     "output_type": "display_data"
    },
    {
     "name": "stdout",
     "output_type": "stream",
     "text": [
      "tensor([1, 2])\n",
      "tensor([0, 2])\n",
      "tensor([1, 1])\n",
      "Parameter containing:\n",
      "tensor([[-1.1920,  1.7041,  0.7601],\n",
      "        [-0.2380,  0.1830,  2.1985]], requires_grad=True)\n",
      "Parameter containing:\n",
      "tensor([[ 1.6396, -0.9462,  1.0358],\n",
      "        [-1.3462, -1.0735,  4.9798]], requires_grad=True)\n",
      "Parameter containing:\n",
      "tensor([[-0.8621,  1.1252,  0.9047],\n",
      "        [-0.0493,  2.1001, -0.2818]], requires_grad=True)\n",
      "acc  0 1.740183711051941\n",
      "acc  1 1.508091926574707\n",
      "acc  2 1.2972289323806763\n",
      "1.5151681900024414 20\n",
      "[Parameter containing:\n",
      "tensor([[-1.1920,  1.7041,  0.7601],\n",
      "        [-0.2380,  0.1830,  2.1985]], requires_grad=True), Parameter containing:\n",
      "tensor([[ 1.6396, -0.9462,  1.0358],\n",
      "        [-1.3462, -1.0735,  4.9798]], requires_grad=True), Parameter containing:\n",
      "tensor([[-0.8621,  1.1252,  0.9047],\n",
      "        [-0.0493,  2.1001, -0.2818]], requires_grad=True)]\n",
      "Parameter containing:\n",
      "tensor([13.8206], requires_grad=True)\n",
      "Parameter containing:\n",
      "tensor([62.9900], requires_grad=True)\n",
      "Parameter containing:\n",
      "tensor([-64.1167], requires_grad=True)\n"
     ]
    },
    {
     "data": {
      "application/vnd.jupyter.widget-view+json": {
       "model_id": "36b8bbaac50546c9815d65cc20d2f38a",
       "version_major": 2,
       "version_minor": 0
      },
      "text/plain": [
       "  0%|          | 0/1000 [00:00<?, ?it/s]"
      ]
     },
     "metadata": {},
     "output_type": "display_data"
    },
    {
     "data": {
      "application/vnd.jupyter.widget-view+json": {
       "model_id": "5240c8ee3702404a9185498de23b5f23",
       "version_major": 2,
       "version_minor": 0
      },
      "text/plain": [
       "  0%|          | 0/1000 [00:00<?, ?it/s]"
      ]
     },
     "metadata": {},
     "output_type": "display_data"
    },
    {
     "name": "stdout",
     "output_type": "stream",
     "text": [
      "tensor([3, 3])\n",
      "tensor([7, 6])\n",
      "tensor([3, 2])\n",
      "Parameter containing:\n",
      "tensor([[ 0.8117,  0.8870,  0.3736,  1.0432,  0.3880,  0.5788,  0.2497,  0.8491],\n",
      "        [ 0.8976, -0.0584,  0.6461,  1.2454,  0.5690,  0.8508,  0.3777,  0.6816]],\n",
      "       requires_grad=True)\n",
      "Parameter containing:\n",
      "tensor([[ 0.6400,  0.2134,  0.4834,  0.5496, -0.0490,  0.6762,  0.0283,  1.6512],\n",
      "        [ 0.2608,  0.4993,  0.3147, -0.0393,  0.3132,  0.2596,  0.8297,  0.0751]],\n",
      "       requires_grad=True)\n",
      "Parameter containing:\n",
      "tensor([[ 0.8668,  0.5977,  0.3199,  0.8700,  0.5975,  0.8513,  0.5687,  0.3228],\n",
      "        [ 1.2190,  0.3443,  2.0459,  0.2816,  0.4002, -0.3457,  0.7068,  0.4521]],\n",
      "       requires_grad=True)\n",
      "acc  0 1.5257072448730469\n",
      "acc  1 0.5426579117774963\n",
      "acc  2 0.7975063920021057\n",
      "0.9552905162175497 29\n"
     ]
    },
    {
     "data": {
      "application/vnd.jupyter.widget-view+json": {
       "model_id": "07fda89669434806960eafe7551e2aac",
       "version_major": 2,
       "version_minor": 0
      },
      "text/plain": [
       "  0%|          | 0/1000 [00:00<?, ?it/s]"
      ]
     },
     "metadata": {},
     "output_type": "display_data"
    },
    {
     "data": {
      "application/vnd.jupyter.widget-view+json": {
       "model_id": "83237c140cba420d890fbf5f36a53409",
       "version_major": 2,
       "version_minor": 0
      },
      "text/plain": [
       "  0%|          | 0/1000 [00:00<?, ?it/s]"
      ]
     },
     "metadata": {},
     "output_type": "display_data"
    },
    {
     "name": "stdout",
     "output_type": "stream",
     "text": [
      "tensor([6, 7])\n",
      "tensor([6, 4])\n",
      "tensor([0, 0])\n",
      "Parameter containing:\n",
      "tensor([[-0.0082,  0.4391,  0.5778,  0.5674,  0.4549,  0.0444,  0.5905,  0.1427],\n",
      "        [ 0.2931,  0.3432,  0.4996,  0.1355,  1.0743,  0.3549,  0.7326,  1.3086]],\n",
      "       requires_grad=True)\n",
      "Parameter containing:\n",
      "tensor([[ 4.1881e-01, -1.5884e+00,  1.2465e+00, -4.1208e-02, -2.8722e-03,\n",
      "         -3.0594e-01,  3.2090e+00,  8.1019e-01],\n",
      "        [-4.0841e-01,  4.1244e-01, -2.5129e-01,  1.2085e-01,  4.0111e+00,\n",
      "         -6.6809e-02, -3.3555e-01,  5.1684e-01]], requires_grad=True)\n",
      "Parameter containing:\n",
      "tensor([[ 3.2122,  0.1660,  0.6850, -0.4449, -0.5512,  0.0181,  1.3924,  0.1817],\n",
      "        [ 3.6609, -0.4274, -0.1716,  0.7267,  0.6875, -0.2539,  0.0754, -0.2566]],\n",
      "       requires_grad=True)\n",
      "acc  0 0.6356501579284668\n",
      "acc  1 0.7648564577102661\n",
      "acc  2 1.274659276008606\n",
      "0.8917219638824463 29\n"
     ]
    },
    {
     "data": {
      "application/vnd.jupyter.widget-view+json": {
       "model_id": "06f956ee92224fb1816b6bcb98783b33",
       "version_major": 2,
       "version_minor": 0
      },
      "text/plain": [
       "  0%|          | 0/1000 [00:00<?, ?it/s]"
      ]
     },
     "metadata": {},
     "output_type": "display_data"
    },
    {
     "data": {
      "application/vnd.jupyter.widget-view+json": {
       "model_id": "68320e5f53384ec6b2bc98503dccf91e",
       "version_major": 2,
       "version_minor": 0
      },
      "text/plain": [
       "  0%|          | 0/1000 [00:00<?, ?it/s]"
      ]
     },
     "metadata": {},
     "output_type": "display_data"
    },
    {
     "name": "stdout",
     "output_type": "stream",
     "text": [
      "tensor([0, 0])\n",
      "tensor([4, 7])\n",
      "tensor([4, 4])\n",
      "Parameter containing:\n",
      "tensor([[ 1.9446,  0.3258,  0.7327, -0.3163,  0.2785,  0.4541,  0.5339,  0.3162],\n",
      "        [ 2.5195, -0.1353,  0.6408,  0.3894,  0.8112,  0.1680,  1.0583,  0.0790]],\n",
      "       requires_grad=True)\n",
      "Parameter containing:\n",
      "tensor([[0.5313, 0.7240, 0.7538, 0.3003, 0.9349, 0.6927, 0.8654, 0.4275],\n",
      "        [0.4318, 0.3457, 0.0441, 0.7274, 0.7805, 0.3539, 0.1682, 0.9411]],\n",
      "       requires_grad=True)\n",
      "Parameter containing:\n",
      "tensor([[ 0.4455,  1.3846, -0.7924,  0.8811,  1.8459,  0.3605,  0.2631, -0.5902],\n",
      "        [ 0.5789, -0.4220,  1.6474, -1.7144,  2.4867, -1.0566,  0.0511,  1.5024]],\n",
      "       requires_grad=True)\n",
      "acc  0 0.7295717000961304\n",
      "acc  1 1.7536693811416626\n",
      "acc  2 0.8979586362838745\n",
      "1.1270665725072224 29\n"
     ]
    },
    {
     "data": {
      "application/vnd.jupyter.widget-view+json": {
       "model_id": "5a77a191cd8940e0b588421ab3c9fc12",
       "version_major": 2,
       "version_minor": 0
      },
      "text/plain": [
       "  0%|          | 0/1000 [00:00<?, ?it/s]"
      ]
     },
     "metadata": {},
     "output_type": "display_data"
    },
    {
     "data": {
      "application/vnd.jupyter.widget-view+json": {
       "model_id": "885a22e5d11949679c18e3897f5e6c73",
       "version_major": 2,
       "version_minor": 0
      },
      "text/plain": [
       "  0%|          | 0/1000 [00:00<?, ?it/s]"
      ]
     },
     "metadata": {},
     "output_type": "display_data"
    },
    {
     "name": "stdout",
     "output_type": "stream",
     "text": [
      "tensor([1, 6])\n",
      "tensor([3, 5])\n",
      "tensor([0, 2])\n",
      "Parameter containing:\n",
      "tensor([[0.2074, 0.9914, 0.7604, 0.7245, 0.0404, 0.5715, 0.8205, 0.0632],\n",
      "        [0.6744, 0.2442, 0.0570, 0.2315, 0.2009, 0.3555, 0.7151, 0.6001]],\n",
      "       requires_grad=True)\n",
      "Parameter containing:\n",
      "tensor([[ 1.1256,  0.4873,  0.0885,  1.4010,  0.3257,  0.0974,  0.1245,  0.9862],\n",
      "        [-0.1453,  1.1039,  0.0325,  0.1728,  0.2580,  1.4703,  0.2228,  1.0714]],\n",
      "       requires_grad=True)\n",
      "Parameter containing:\n",
      "tensor([[ 0.8631,  0.6259,  0.0124,  0.1581,  0.6044,  0.4418,  0.3184,  0.8024],\n",
      "        [-0.0469,  0.3721,  1.2180,  0.5564, -0.0443,  0.1558, -0.0131,  0.7231]],\n",
      "       requires_grad=True)\n",
      "acc  0 1.6771315336227417\n",
      "acc  1 0.6291226744651794\n",
      "acc  2 1.141255497932434\n",
      "1.1491699020067851 30\n"
     ]
    },
    {
     "data": {
      "application/vnd.jupyter.widget-view+json": {
       "model_id": "0ec285ba6e13445d86066cbf5f840616",
       "version_major": 2,
       "version_minor": 0
      },
      "text/plain": [
       "  0%|          | 0/1000 [00:00<?, ?it/s]"
      ]
     },
     "metadata": {},
     "output_type": "display_data"
    },
    {
     "data": {
      "application/vnd.jupyter.widget-view+json": {
       "model_id": "034ee1fd4c8e4a1695acc7869e6ec123",
       "version_major": 2,
       "version_minor": 0
      },
      "text/plain": [
       "  0%|          | 0/1000 [00:00<?, ?it/s]"
      ]
     },
     "metadata": {},
     "output_type": "display_data"
    },
    {
     "name": "stdout",
     "output_type": "stream",
     "text": [
      "tensor([4, 4])\n",
      "tensor([0, 4])\n",
      "tensor([3, 4])\n",
      "Parameter containing:\n",
      "tensor([[ 0.6811,  0.0770,  0.5811,  0.0516,  0.7749,  0.7216,  0.1136,  0.5218],\n",
      "        [ 0.0758,  0.4095,  0.9618, -0.0569,  0.9637,  0.4103,  0.8898,  0.9295]],\n",
      "       requires_grad=True)\n",
      "Parameter containing:\n",
      "tensor([[ 1.1900e+00,  3.7236e-01,  1.8760e-01,  9.0420e-01, -1.3694e-01,\n",
      "          1.0118e+00,  8.5911e-01, -1.1587e-01],\n",
      "        [ 3.8785e-02, -1.1536e-01,  8.4102e-01,  6.3674e-01,  2.1639e+00,\n",
      "          1.1253e-04,  7.9215e-01,  1.3647e+00]], requires_grad=True)\n",
      "Parameter containing:\n",
      "tensor([[ 0.4419,  0.3766,  0.0973,  1.2971,  0.1600,  0.3573,  0.8869,  0.0576],\n",
      "        [ 0.0209,  0.2375,  0.8144,  0.8641,  0.9176,  0.1016, -0.1901,  0.3664]],\n",
      "       requires_grad=True)\n",
      "acc  0 0.4875856935977936\n",
      "acc  1 0.6953269243240356\n",
      "acc  2 0.40764594078063965\n",
      "0.5301861862341563 12\n"
     ]
    },
    {
     "data": {
      "application/vnd.jupyter.widget-view+json": {
       "model_id": "6abe2568074542bb81d0588eb12a3a68",
       "version_major": 2,
       "version_minor": 0
      },
      "text/plain": [
       "  0%|          | 0/1000 [00:00<?, ?it/s]"
      ]
     },
     "metadata": {},
     "output_type": "display_data"
    },
    {
     "data": {
      "application/vnd.jupyter.widget-view+json": {
       "model_id": "11951e79f9bf4047bab1cab67513a32e",
       "version_major": 2,
       "version_minor": 0
      },
      "text/plain": [
       "  0%|          | 0/1000 [00:00<?, ?it/s]"
      ]
     },
     "metadata": {},
     "output_type": "display_data"
    },
    {
     "name": "stdout",
     "output_type": "stream",
     "text": [
      "tensor([4, 1])\n",
      "tensor([4, 7])\n",
      "tensor([2, 7])\n",
      "Parameter containing:\n",
      "tensor([[-0.1526,  0.0964,  0.3078,  0.4311,  2.7923, -0.9319,  1.0589,  0.4228],\n",
      "        [ 0.4713,  2.8234, -1.4352, -0.6366, -0.5698,  0.6721,  0.7056,  1.2659]],\n",
      "       requires_grad=True)\n",
      "Parameter containing:\n",
      "tensor([[-0.3433,  0.2037,  0.2063, -0.1715,  2.6565,  0.0602, -0.2832,  0.5614],\n",
      "        [ 0.8272,  1.3106, -0.5597,  0.0700, -0.7742, -0.0659,  0.7484,  2.1092]],\n",
      "       requires_grad=True)\n",
      "Parameter containing:\n",
      "tensor([[ 1.0124,  0.6771,  1.3752,  0.9879,  0.5298, -0.0881, -0.4539, -0.7242],\n",
      "        [-0.0468,  0.9428, -0.5790,  0.0724,  0.3431, -0.2923,  0.9678,  1.6241]],\n",
      "       requires_grad=True)\n",
      "acc  0 0.8190269470214844\n",
      "acc  1 0.931402862071991\n",
      "acc  2 0.7337354421615601\n",
      "0.8280550837516785 20\n"
     ]
    },
    {
     "data": {
      "application/vnd.jupyter.widget-view+json": {
       "model_id": "81a8d0b1eb454cd499821184e3a900cd",
       "version_major": 2,
       "version_minor": 0
      },
      "text/plain": [
       "  0%|          | 0/1000 [00:00<?, ?it/s]"
      ]
     },
     "metadata": {},
     "output_type": "display_data"
    },
    {
     "data": {
      "application/vnd.jupyter.widget-view+json": {
       "model_id": "495b5a10b4d847b18648c384061a88f8",
       "version_major": 2,
       "version_minor": 0
      },
      "text/plain": [
       "  0%|          | 0/1000 [00:00<?, ?it/s]"
      ]
     },
     "metadata": {},
     "output_type": "display_data"
    },
    {
     "name": "stdout",
     "output_type": "stream",
     "text": [
      "tensor([4, 5])\n",
      "tensor([3, 3])\n",
      "tensor([5, 4])\n",
      "Parameter containing:\n",
      "tensor([[ 0.4061,  0.2385,  0.3453,  0.2950,  0.9796,  0.6126,  0.2316,  0.7795],\n",
      "        [ 1.2293,  0.3098, -0.3563, -0.1193,  0.5103,  1.5540,  1.1823, -0.4693]],\n",
      "       requires_grad=True)\n",
      "Parameter containing:\n",
      "tensor([[0.3540, 0.7528, 0.7260, 0.7694, 0.6796, 0.2970, 0.2580, 0.2860],\n",
      "        [0.8321, 0.6589, 0.5529, 1.2304, 0.0910, 0.3926, 0.6746, 0.7699]],\n",
      "       requires_grad=True)\n",
      "Parameter containing:\n",
      "tensor([[ 0.0625, -0.0230,  0.6350,  0.4521,  0.7054,  1.2914,  0.6691,  0.9066],\n",
      "        [ 1.0663,  0.2680,  0.2391,  0.7250,  1.1658,  1.0259,  0.5502,  0.3289]],\n",
      "       requires_grad=True)\n",
      "acc  0 0.5290886163711548\n",
      "acc  1 1.2693604230880737\n",
      "acc  2 1.2266311645507812\n",
      "1.0083600680033367 30\n"
     ]
    },
    {
     "data": {
      "application/vnd.jupyter.widget-view+json": {
       "model_id": "d8910351eeec4fb988f6a50c6165e0a2",
       "version_major": 2,
       "version_minor": 0
      },
      "text/plain": [
       "  0%|          | 0/1000 [00:00<?, ?it/s]"
      ]
     },
     "metadata": {},
     "output_type": "display_data"
    },
    {
     "data": {
      "application/vnd.jupyter.widget-view+json": {
       "model_id": "5c0a96587bf74012aaf9f20209e8f528",
       "version_major": 2,
       "version_minor": 0
      },
      "text/plain": [
       "  0%|          | 0/1000 [00:00<?, ?it/s]"
      ]
     },
     "metadata": {},
     "output_type": "display_data"
    },
    {
     "name": "stdout",
     "output_type": "stream",
     "text": [
      "tensor([3, 0])\n",
      "tensor([7, 7])\n",
      "tensor([6, 0])\n",
      "Parameter containing:\n",
      "tensor([[-0.0474,  0.3878,  0.1827,  1.1555,  0.0907,  0.6593,  0.1683,  0.2460],\n",
      "        [ 1.0609,  0.7076,  0.1403,  0.2328, -0.0288,  0.3413,  0.7600,  0.9054]],\n",
      "       requires_grad=True)\n",
      "Parameter containing:\n",
      "tensor([[ 0.0106,  0.7597, -0.0025,  0.6724,  0.7105,  0.5736,  0.6377,  1.1207],\n",
      "        [ 0.2248, -0.1858,  0.3418,  0.9358,  0.3306,  0.2753,  0.7614,  1.0210]],\n",
      "       requires_grad=True)\n",
      "Parameter containing:\n",
      "tensor([[0.2327, 0.8677, 0.0799, 0.4485, 0.3301, 0.1899, 0.9441, 0.7821],\n",
      "        [0.8578, 0.3702, 0.1301, 0.2847, 0.4678, 0.4703, 0.2218, 0.5999]],\n",
      "       requires_grad=True)\n",
      "acc  0 0.8418760895729065\n",
      "acc  1 0.5153151154518127\n",
      "acc  2 1.314274549484253\n",
      "0.8904885848363241 21\n"
     ]
    },
    {
     "data": {
      "application/vnd.jupyter.widget-view+json": {
       "model_id": "97f6b2d7dff343b2bdec52502d3ab44b",
       "version_major": 2,
       "version_minor": 0
      },
      "text/plain": [
       "  0%|          | 0/1000 [00:00<?, ?it/s]"
      ]
     },
     "metadata": {},
     "output_type": "display_data"
    },
    {
     "data": {
      "application/vnd.jupyter.widget-view+json": {
       "model_id": "66c68f1e7b324858986bba74321a3c1a",
       "version_major": 2,
       "version_minor": 0
      },
      "text/plain": [
       "  0%|          | 0/1000 [00:00<?, ?it/s]"
      ]
     },
     "metadata": {},
     "output_type": "display_data"
    },
    {
     "name": "stdout",
     "output_type": "stream",
     "text": [
      "tensor([0, 5])\n",
      "tensor([3, 3])\n",
      "tensor([7, 0])\n",
      "Parameter containing:\n",
      "tensor([[ 8.6881e-01,  3.1752e-01,  2.4565e-01,  3.3987e-01,  6.8170e-01,\n",
      "         -1.7149e-01,  1.3663e-03,  3.2658e-01],\n",
      "        [ 4.7965e-01,  7.9996e-01,  5.5353e-01,  7.6237e-01, -2.0320e-01,\n",
      "          1.8968e+00,  4.6899e-01, -4.9315e-02]], requires_grad=True)\n",
      "Parameter containing:\n",
      "tensor([[ 0.2592,  0.1208,  0.1151,  1.3134,  0.4221,  0.7126,  0.4150, -0.0645],\n",
      "        [ 0.7892,  0.1801,  0.6463,  1.4963,  0.0019,  0.2070,  0.2896, -0.7179]],\n",
      "       requires_grad=True)\n",
      "Parameter containing:\n",
      "tensor([[ 0.3623,  0.2825,  0.3181,  0.6839,  0.5786,  0.8448,  0.1623,  0.8786],\n",
      "        [ 1.4071,  0.2912, -0.0382,  0.3168, -0.0683,  0.0412,  0.4650,  0.5158]],\n",
      "       requires_grad=True)\n",
      "acc  0 0.8338019847869873\n",
      "acc  1 0.5493414402008057\n",
      "acc  2 0.8649848103523254\n",
      "0.7493760784467062 30\n"
     ]
    },
    {
     "data": {
      "application/vnd.jupyter.widget-view+json": {
       "model_id": "a7757694adc64559a1c1b9475695430a",
       "version_major": 2,
       "version_minor": 0
      },
      "text/plain": [
       "  0%|          | 0/1000 [00:00<?, ?it/s]"
      ]
     },
     "metadata": {},
     "output_type": "display_data"
    },
    {
     "data": {
      "application/vnd.jupyter.widget-view+json": {
       "model_id": "48a1641ecce946d5b3f130bd2d31ee61",
       "version_major": 2,
       "version_minor": 0
      },
      "text/plain": [
       "  0%|          | 0/1000 [00:00<?, ?it/s]"
      ]
     },
     "metadata": {},
     "output_type": "display_data"
    },
    {
     "name": "stdout",
     "output_type": "stream",
     "text": [
      "tensor([4, 1])\n",
      "tensor([5, 2])\n",
      "tensor([1, 6])\n",
      "Parameter containing:\n",
      "tensor([[ 0.1235,  1.3938,  0.6578, -0.1182,  1.9715, -0.4740,  0.4808,  0.8182],\n",
      "        [-0.7167,  2.2997,  0.4505, -0.3621, -0.6432,  1.4449,  0.2700,  0.7857]],\n",
      "       requires_grad=True)\n",
      "Parameter containing:\n",
      "tensor([[ 0.0381,  0.3682,  0.8349,  0.6810,  0.5045,  0.9776,  0.9651,  0.6106],\n",
      "        [ 0.5159,  0.6288,  1.0645, -0.1483, -0.0354,  0.4817,  0.2743,  0.3938]],\n",
      "       requires_grad=True)\n",
      "Parameter containing:\n",
      "tensor([[ 0.8685,  4.3094,  0.7746, -1.6000, -0.0190,  0.3371, -1.6838,  0.9906],\n",
      "        [-0.6269,  0.5334,  1.4954, -1.4931, -0.6460, -0.1527,  4.3052,  0.0819]],\n",
      "       requires_grad=True)\n",
      "acc  0 1.7903478145599365\n",
      "acc  1 0.5563455820083618\n",
      "acc  2 0.6937487721443176\n",
      "1.0134807229042053 30\n"
     ]
    },
    {
     "data": {
      "application/vnd.jupyter.widget-view+json": {
       "model_id": "6f9c760c9f4d4f65847eb86ef326f8d6",
       "version_major": 2,
       "version_minor": 0
      },
      "text/plain": [
       "  0%|          | 0/1000 [00:00<?, ?it/s]"
      ]
     },
     "metadata": {},
     "output_type": "display_data"
    },
    {
     "data": {
      "application/vnd.jupyter.widget-view+json": {
       "model_id": "e030f708081d489aa53c80a9288c9bf0",
       "version_major": 2,
       "version_minor": 0
      },
      "text/plain": [
       "  0%|          | 0/1000 [00:00<?, ?it/s]"
      ]
     },
     "metadata": {},
     "output_type": "display_data"
    },
    {
     "name": "stdout",
     "output_type": "stream",
     "text": [
      "tensor([4, 6])\n",
      "tensor([3, 3])\n",
      "tensor([2, 5])\n",
      "Parameter containing:\n",
      "tensor([[ 0.3128,  0.7728,  0.5768,  0.3472,  1.4801,  0.5261,  0.2628,  1.2454],\n",
      "        [-0.3847,  0.1860,  0.1816,  0.5366,  0.9068,  0.9964,  1.3150,  0.9965]],\n",
      "       requires_grad=True)\n",
      "Parameter containing:\n",
      "tensor([[ 0.8360,  0.2014,  0.3566,  1.9295,  1.6447,  0.1958, -0.5025,  0.9206],\n",
      "        [-1.0217, -0.5328, -0.6624,  3.4873,  1.4299,  0.2378,  1.2839, -0.0524]],\n",
      "       requires_grad=True)\n",
      "Parameter containing:\n",
      "tensor([[ 0.2256,  0.5666,  0.7960,  0.3215,  0.2540,  0.1750,  0.4162,  0.6267],\n",
      "        [ 0.2441,  0.6463,  0.1172,  0.9269,  0.6490,  1.1143,  0.3295, -0.5423]],\n",
      "       requires_grad=True)\n",
      "acc  0 0.6194773316383362\n",
      "acc  1 0.8515594005584717\n",
      "acc  2 0.5045164823532104\n",
      "0.6585177381833395 30\n"
     ]
    },
    {
     "data": {
      "application/vnd.jupyter.widget-view+json": {
       "model_id": "10d983eee11940e6a04258dcfe3a16e7",
       "version_major": 2,
       "version_minor": 0
      },
      "text/plain": [
       "  0%|          | 0/1000 [00:00<?, ?it/s]"
      ]
     },
     "metadata": {},
     "output_type": "display_data"
    },
    {
     "data": {
      "application/vnd.jupyter.widget-view+json": {
       "model_id": "f20422f779e94239807dc71a092da58d",
       "version_major": 2,
       "version_minor": 0
      },
      "text/plain": [
       "  0%|          | 0/1000 [00:00<?, ?it/s]"
      ]
     },
     "metadata": {},
     "output_type": "display_data"
    },
    {
     "name": "stdout",
     "output_type": "stream",
     "text": [
      "tensor([1, 0])\n",
      "tensor([5, 2])\n",
      "tensor([7, 7])\n",
      "Parameter containing:\n",
      "tensor([[ 0.7277,  0.9308,  0.7415,  0.7196,  0.2602,  0.6394,  0.1025,  0.2217],\n",
      "        [ 1.3259,  0.4949,  0.1491,  0.4892,  1.3043, -0.2591,  1.0966, -0.0877]],\n",
      "       requires_grad=True)\n",
      "Parameter containing:\n",
      "tensor([[ 0.6233,  0.2743,  0.0198,  0.0804,  0.4103,  0.6584,  0.6324,  0.4925],\n",
      "        [ 0.2930,  0.1277,  1.1557,  1.1139, -0.2531,  0.6359,  0.3949,  0.8956]],\n",
      "       requires_grad=True)\n",
      "Parameter containing:\n",
      "tensor([[0.7698, 0.8051, 0.8751, 0.4493, 0.2587, 0.0900, 0.0118, 0.9162],\n",
      "        [0.2103, 0.9474, 0.0070, 0.2531, 0.1719, 0.3958, 0.5383, 1.0111]],\n",
      "       requires_grad=True)\n",
      "acc  0 0.4393768310546875\n",
      "acc  1 0.6249621510505676\n",
      "acc  2 1.1917898654937744\n",
      "0.7520429491996765 30\n"
     ]
    },
    {
     "data": {
      "application/vnd.jupyter.widget-view+json": {
       "model_id": "e945bd4375b2480cb419a78c180e92cf",
       "version_major": 2,
       "version_minor": 0
      },
      "text/plain": [
       "  0%|          | 0/1000 [00:00<?, ?it/s]"
      ]
     },
     "metadata": {},
     "output_type": "display_data"
    },
    {
     "data": {
      "application/vnd.jupyter.widget-view+json": {
       "model_id": "508518eb7fd641cb903f2d08bd460be5",
       "version_major": 2,
       "version_minor": 0
      },
      "text/plain": [
       "  0%|          | 0/1000 [00:00<?, ?it/s]"
      ]
     },
     "metadata": {},
     "output_type": "display_data"
    },
    {
     "name": "stdout",
     "output_type": "stream",
     "text": [
      "tensor([1, 6])\n",
      "tensor([5, 7])\n",
      "tensor([2, 1])\n",
      "Parameter containing:\n",
      "tensor([[ 0.9607,  1.0730,  0.8198,  0.5483,  0.2512,  0.5675,  0.7774,  0.1719],\n",
      "        [ 0.2969,  0.4829, -0.2440,  0.3114,  0.1567,  0.8472,  0.9475,  0.4892]],\n",
      "       requires_grad=True)\n",
      "Parameter containing:\n",
      "tensor([[ 0.7118,  0.6247,  0.5536, -0.0314,  0.2160,  0.9191,  0.8693,  0.8199],\n",
      "        [ 0.2296,  1.0873,  0.5142, -0.1523,  0.6132,  0.2814,  0.1695,  1.1593]],\n",
      "       requires_grad=True)\n",
      "Parameter containing:\n",
      "tensor([[-0.4408,  0.4825,  0.9678,  0.6403,  0.5721,  0.1661,  0.4823,  0.4786],\n",
      "        [ 0.7237,  1.1359,  0.0443,  0.5502,  0.6465,  0.2510,  0.8222,  0.8779]],\n",
      "       requires_grad=True)\n",
      "acc  0 1.5723655223846436\n",
      "acc  1 0.8737825155258179\n",
      "acc  2 1.2849736213684082\n",
      "1.2437072197596233 30\n"
     ]
    },
    {
     "data": {
      "application/vnd.jupyter.widget-view+json": {
       "model_id": "05d7d9de5b89487e9aeb326a378cc7bb",
       "version_major": 2,
       "version_minor": 0
      },
      "text/plain": [
       "  0%|          | 0/1000 [00:00<?, ?it/s]"
      ]
     },
     "metadata": {},
     "output_type": "display_data"
    },
    {
     "data": {
      "application/vnd.jupyter.widget-view+json": {
       "model_id": "2ec61fad5a3b4f5b992f692dbaa4075a",
       "version_major": 2,
       "version_minor": 0
      },
      "text/plain": [
       "  0%|          | 0/1000 [00:00<?, ?it/s]"
      ]
     },
     "metadata": {},
     "output_type": "display_data"
    },
    {
     "name": "stdout",
     "output_type": "stream",
     "text": [
      "tensor([4, 4])\n",
      "tensor([0, 7])\n",
      "tensor([7, 5])\n",
      "Parameter containing:\n",
      "tensor([[-0.0952, -0.4685,  1.6459,  1.4845,  1.9241,  0.8633,  0.0960, -0.1608],\n",
      "        [ 1.2184, -0.0673, -0.7404,  0.2642,  1.6528,  0.4868,  0.1920,  1.2477]],\n",
      "       requires_grad=True)\n",
      "Parameter containing:\n",
      "tensor([[0.8766, 0.3275, 0.3334, 0.2685, 0.1207, 0.7718, 0.6811, 0.5154],\n",
      "        [0.0638, 0.3537, 0.4507, 0.2329, 0.1733, 0.4618, 0.1215, 1.0148]],\n",
      "       requires_grad=True)\n",
      "Parameter containing:\n",
      "tensor([[-0.5724,  1.0716, -0.1106, -0.1372,  0.4189,  1.3667, -0.5668,  2.7620],\n",
      "        [ 0.2312, -0.7301, -0.0439, -0.4314,  0.1663,  1.6712,  1.3927,  1.3865]],\n",
      "       requires_grad=True)\n",
      "acc  0 0.8258962035179138\n",
      "acc  1 1.520595669746399\n",
      "acc  2 0.7197946906089783\n",
      "1.022095521291097 30\n"
     ]
    },
    {
     "data": {
      "application/vnd.jupyter.widget-view+json": {
       "model_id": "cf3e9c43da8645fd920027e9cd4316d5",
       "version_major": 2,
       "version_minor": 0
      },
      "text/plain": [
       "  0%|          | 0/1000 [00:00<?, ?it/s]"
      ]
     },
     "metadata": {},
     "output_type": "display_data"
    },
    {
     "data": {
      "application/vnd.jupyter.widget-view+json": {
       "model_id": "0904877e0716450cb329e5b08cb9607d",
       "version_major": 2,
       "version_minor": 0
      },
      "text/plain": [
       "  0%|          | 0/1000 [00:00<?, ?it/s]"
      ]
     },
     "metadata": {},
     "output_type": "display_data"
    },
    {
     "name": "stdout",
     "output_type": "stream",
     "text": [
      "tensor([0, 1])\n",
      "tensor([0, 2])\n",
      "tensor([7, 6])\n",
      "Parameter containing:\n",
      "tensor([[0.9671, 0.5334, 0.4499, 0.7707, 0.4680, 0.5524, 0.3490, 0.6673],\n",
      "        [0.7495, 0.8492, 0.1515, 0.6855, 0.4294, 0.1390, 0.3217, 0.6891]],\n",
      "       requires_grad=True)\n",
      "Parameter containing:\n",
      "tensor([[ 1.0773,  0.3624,  0.4394, -0.0070,  0.1066,  0.8022, -0.1492,  0.1263],\n",
      "        [ 0.8825,  0.4327,  1.2828,  0.7262,  0.5432,  0.0976,  0.0427,  0.5470]],\n",
      "       requires_grad=True)\n",
      "Parameter containing:\n",
      "tensor([[ 0.8727,  0.0204,  1.0247,  0.5033,  0.4770,  0.7101, -0.2762,  1.2260],\n",
      "        [ 0.3450,  0.9181,  0.0088,  0.2625,  0.0193, -0.7614,  1.8573,  0.5380]],\n",
      "       requires_grad=True)\n",
      "acc  0 0.9497724175453186\n",
      "acc  1 0.8300985097885132\n",
      "acc  2 1.0342328548431396\n",
      "0.9380345940589905 29\n"
     ]
    },
    {
     "data": {
      "application/vnd.jupyter.widget-view+json": {
       "model_id": "6478d984bd1a45e49344a724e975b6e0",
       "version_major": 2,
       "version_minor": 0
      },
      "text/plain": [
       "  0%|          | 0/1000 [00:00<?, ?it/s]"
      ]
     },
     "metadata": {},
     "output_type": "display_data"
    },
    {
     "data": {
      "application/vnd.jupyter.widget-view+json": {
       "model_id": "f884351a57b54cadb7add7ab6de22ccc",
       "version_major": 2,
       "version_minor": 0
      },
      "text/plain": [
       "  0%|          | 0/1000 [00:00<?, ?it/s]"
      ]
     },
     "metadata": {},
     "output_type": "display_data"
    },
    {
     "name": "stdout",
     "output_type": "stream",
     "text": [
      "tensor([7, 2])\n",
      "tensor([2, 6])\n",
      "tensor([2, 0])\n",
      "Parameter containing:\n",
      "tensor([[-0.3395,  1.1376, -1.0562,  0.3873, -0.5772, -0.5876,  0.6144,  3.8953],\n",
      "        [ 0.3128, -1.3735,  5.5500,  0.7401, -1.0245, -0.1745, -0.7777,  1.2510]],\n",
      "       requires_grad=True)\n",
      "Parameter containing:\n",
      "tensor([[ 0.7454,  0.0152,  0.8289,  0.4167,  0.3430,  0.1770, -0.0146,  0.2245],\n",
      "        [ 0.5336,  0.8400, -0.4459,  0.0939,  0.8520,  0.2250,  1.1944,  0.5048]],\n",
      "       requires_grad=True)\n",
      "Parameter containing:\n",
      "tensor([[ 0.8206,  0.4890,  0.8254,  0.4432,  0.3448,  0.2428,  0.2017,  0.2751],\n",
      "        [ 1.2847,  0.5019,  0.0614,  0.9678, -0.1638,  0.6770,  0.6070,  0.5876]],\n",
      "       requires_grad=True)\n",
      "acc  0 0.27681785821914673\n",
      "acc  1 0.9898361563682556\n",
      "acc  2 0.652723491191864\n",
      "0.6397925019264221 29\n"
     ]
    },
    {
     "data": {
      "application/vnd.jupyter.widget-view+json": {
       "model_id": "9623d8d11f0a45e589140ca50d7ade4a",
       "version_major": 2,
       "version_minor": 0
      },
      "text/plain": [
       "  0%|          | 0/1000 [00:00<?, ?it/s]"
      ]
     },
     "metadata": {},
     "output_type": "display_data"
    },
    {
     "data": {
      "application/vnd.jupyter.widget-view+json": {
       "model_id": "f43fe1e3017042dc8682e57c98031a2b",
       "version_major": 2,
       "version_minor": 0
      },
      "text/plain": [
       "  0%|          | 0/1000 [00:00<?, ?it/s]"
      ]
     },
     "metadata": {},
     "output_type": "display_data"
    },
    {
     "name": "stdout",
     "output_type": "stream",
     "text": [
      "tensor([0, 4])\n",
      "tensor([1, 4])\n",
      "tensor([2, 4])\n",
      "Parameter containing:\n",
      "tensor([[ 1.4593, -0.0937,  1.2477, -0.6400,  0.9353, -0.3156, -0.0738,  0.8085],\n",
      "        [ 0.2462,  0.3285,  0.3976,  0.7839,  2.0605, -0.1866,  0.7386,  0.0543]],\n",
      "       requires_grad=True)\n",
      "Parameter containing:\n",
      "tensor([[ 0.9465,  3.5718,  0.7757,  2.1091, -0.8214, -1.7908, -0.1744, -0.1111],\n",
      "        [-0.8172, -0.7663,  0.1057,  0.0709,  6.5139, -0.8800, -0.0647, -0.1951]],\n",
      "       requires_grad=True)\n",
      "Parameter containing:\n",
      "tensor([[-1.8949e-01, -2.7142e-01,  4.0510e+00, -8.6598e-01,  5.0044e-01,\n",
      "         -9.6733e-02,  4.6815e-03,  8.9964e-01],\n",
      "        [-5.6597e-01, -6.2356e-01, -8.8928e-02, -4.1176e-01,  4.8545e+00,\n",
      "         -6.8827e-01,  4.6726e-01, -3.6178e-01]], requires_grad=True)\n",
      "acc  0 0.5739841461181641\n",
      "acc  1 0.3864124119281769\n",
      "acc  2 0.7040956020355225\n",
      "0.5548307200272878 12\n"
     ]
    },
    {
     "data": {
      "application/vnd.jupyter.widget-view+json": {
       "model_id": "d2ed05750e3b4c7f970c41be97c0941e",
       "version_major": 2,
       "version_minor": 0
      },
      "text/plain": [
       "  0%|          | 0/1000 [00:00<?, ?it/s]"
      ]
     },
     "metadata": {},
     "output_type": "display_data"
    },
    {
     "data": {
      "application/vnd.jupyter.widget-view+json": {
       "model_id": "6361101471934c75b24f164b97577489",
       "version_major": 2,
       "version_minor": 0
      },
      "text/plain": [
       "  0%|          | 0/1000 [00:00<?, ?it/s]"
      ]
     },
     "metadata": {},
     "output_type": "display_data"
    },
    {
     "name": "stdout",
     "output_type": "stream",
     "text": [
      "tensor([1, 3])\n",
      "tensor([7, 5])\n",
      "tensor([0, 3])\n",
      "Parameter containing:\n",
      "tensor([[0.4623, 1.2610, 0.4584, 0.3004, 0.5820, 0.4700, 0.5544, 1.0318],\n",
      "        [0.7905, 0.8677, 0.1945, 0.9884, 0.5894, 0.2171, 0.4401, 0.4434]],\n",
      "       requires_grad=True)\n",
      "Parameter containing:\n",
      "tensor([[0.2638, 0.7464, 0.0884, 0.3824, 0.7378, 0.2473, 0.1155, 1.1012],\n",
      "        [0.1249, 0.0049, 0.1033, 0.2472, 0.9227, 1.0133, 0.2318, 0.2048]],\n",
      "       requires_grad=True)\n",
      "Parameter containing:\n",
      "tensor([[ 1.1470,  0.4620,  0.6478,  0.0160, -0.1602, -0.3560,  0.7428,  0.9269],\n",
      "        [-0.0053,  0.1544,  0.9676,  1.1983,  1.0270,  0.1714,  1.0052, -0.3173]],\n",
      "       requires_grad=True)\n",
      "acc  0 0.5775920748710632\n",
      "acc  1 0.4003385603427887\n",
      "acc  2 0.5431490540504456\n",
      "0.5070265630880991 21\n"
     ]
    },
    {
     "data": {
      "application/vnd.jupyter.widget-view+json": {
       "model_id": "f2fbddf717f84feead4f7b02da4a4389",
       "version_major": 2,
       "version_minor": 0
      },
      "text/plain": [
       "  0%|          | 0/1000 [00:00<?, ?it/s]"
      ]
     },
     "metadata": {},
     "output_type": "display_data"
    },
    {
     "data": {
      "application/vnd.jupyter.widget-view+json": {
       "model_id": "d9b6bab6df5346d38e3a8b0d4f9a7d74",
       "version_major": 2,
       "version_minor": 0
      },
      "text/plain": [
       "  0%|          | 0/1000 [00:00<?, ?it/s]"
      ]
     },
     "metadata": {},
     "output_type": "display_data"
    },
    {
     "name": "stdout",
     "output_type": "stream",
     "text": [
      "tensor([2, 3])\n",
      "tensor([6, 7])\n",
      "tensor([7, 6])\n",
      "Parameter containing:\n",
      "tensor([[-0.2259, -0.4688,  2.4828,  0.5970,  0.5540,  0.6229,  0.2625,  0.4464],\n",
      "        [-0.3682,  0.1115,  1.3217,  1.3373,  0.5808, -0.7204,  1.1699,  0.5471]],\n",
      "       requires_grad=True)\n",
      "Parameter containing:\n",
      "tensor([[-0.4500, -0.4266,  0.8788, -0.1382, -0.9108,  1.8952,  3.2315,  0.4961],\n",
      "        [-0.2438,  0.5036, -0.5650,  0.7232,  0.9716, -0.9723, -0.7780,  3.2262]],\n",
      "       requires_grad=True)\n",
      "Parameter containing:\n",
      "tensor([[ 0.6807,  0.7321,  0.0165, -0.0353, -0.2346,  0.2284,  0.3958,  2.4338],\n",
      "        [-0.3259,  0.5997,  1.1494,  0.6263,  2.1071, -0.8567,  2.5030,  0.1880]],\n",
      "       requires_grad=True)\n",
      "acc  0 1.689465880393982\n",
      "acc  1 1.1725825071334839\n",
      "acc  2 1.2037862539291382\n",
      "1.355278213818868 30\n"
     ]
    },
    {
     "data": {
      "application/vnd.jupyter.widget-view+json": {
       "model_id": "8b83401a9a4b4f6b857e065710188d10",
       "version_major": 2,
       "version_minor": 0
      },
      "text/plain": [
       "  0%|          | 0/1000 [00:00<?, ?it/s]"
      ]
     },
     "metadata": {},
     "output_type": "display_data"
    },
    {
     "data": {
      "application/vnd.jupyter.widget-view+json": {
       "model_id": "83a39b4fcbde45c5a8b4766dca6faef0",
       "version_major": 2,
       "version_minor": 0
      },
      "text/plain": [
       "  0%|          | 0/1000 [00:00<?, ?it/s]"
      ]
     },
     "metadata": {},
     "output_type": "display_data"
    },
    {
     "name": "stdout",
     "output_type": "stream",
     "text": [
      "tensor([3, 3])\n",
      "tensor([0, 2])\n",
      "tensor([7, 1])\n",
      "Parameter containing:\n",
      "tensor([[-0.1354,  0.9683,  0.5197,  1.1754,  0.4007,  1.0345,  0.2122,  0.9483],\n",
      "        [ 0.1013,  0.1946,  1.3398,  1.4627,  0.9977, -0.0824, -0.1443, -0.0512]],\n",
      "       requires_grad=True)\n",
      "Parameter containing:\n",
      "tensor([[ 3.2190, -0.4891, -0.9719,  0.0386,  0.8860,  2.1288,  0.1855, -0.7313],\n",
      "        [ 0.7834, -0.9157,  3.2214,  2.0640,  1.4139, -0.7095, -0.6084, -0.1860]],\n",
      "       requires_grad=True)\n",
      "Parameter containing:\n",
      "tensor([[ 0.2600,  0.4993,  0.9361,  0.5437,  0.4537,  1.0338, -0.1221,  1.1973],\n",
      "        [ 0.4680,  1.1996,  0.7568,  0.9094,  0.3361, -0.5015, -0.4244,  0.5835]],\n",
      "       requires_grad=True)\n",
      "acc  0 0.7159323692321777\n",
      "acc  1 0.6698549389839172\n",
      "acc  2 0.7013881206512451\n",
      "0.69572514295578 30\n",
      "[Parameter containing:\n",
      "tensor([[-0.1354,  0.9683,  0.5197,  1.1754,  0.4007,  1.0345,  0.2122,  0.9483],\n",
      "        [ 0.1013,  0.1946,  1.3398,  1.4627,  0.9977, -0.0824, -0.1443, -0.0512]],\n",
      "       requires_grad=True), Parameter containing:\n",
      "tensor([[ 3.2190, -0.4891, -0.9719,  0.0386,  0.8860,  2.1288,  0.1855, -0.7313],\n",
      "        [ 0.7834, -0.9157,  3.2214,  2.0640,  1.4139, -0.7095, -0.6084, -0.1860]],\n",
      "       requires_grad=True), Parameter containing:\n",
      "tensor([[ 0.2600,  0.4993,  0.9361,  0.5437,  0.4537,  1.0338, -0.1221,  1.1973],\n",
      "        [ 0.4680,  1.1996,  0.7568,  0.9094,  0.3361, -0.5015, -0.4244,  0.5835]],\n",
      "       requires_grad=True)]\n",
      "Parameter containing:\n",
      "tensor([13.2673], requires_grad=True)\n",
      "Parameter containing:\n",
      "tensor([51.0164], requires_grad=True)\n",
      "Parameter containing:\n",
      "tensor([58.6420], requires_grad=True)\n",
      "Parameter containing:\n",
      "tensor([148.2406], requires_grad=True)\n",
      "Parameter containing:\n",
      "tensor([96.0677], requires_grad=True)\n",
      "Parameter containing:\n",
      "tensor([-95.4172], requires_grad=True)\n",
      "Parameter containing:\n",
      "tensor([27.9176], requires_grad=True)\n",
      "Parameter containing:\n",
      "tensor([-38.1625], requires_grad=True)\n"
     ]
    },
    {
     "data": {
      "application/vnd.jupyter.widget-view+json": {
       "model_id": "8817f80004bd4ef4840a856ef92209bd",
       "version_major": 2,
       "version_minor": 0
      },
      "text/plain": [
       "  0%|          | 0/1000 [00:00<?, ?it/s]"
      ]
     },
     "metadata": {},
     "output_type": "display_data"
    },
    {
     "data": {
      "application/vnd.jupyter.widget-view+json": {
       "model_id": "6d3bbb7982fc414a835fbd65a9adf72b",
       "version_major": 2,
       "version_minor": 0
      },
      "text/plain": [
       "  0%|          | 0/1000 [00:00<?, ?it/s]"
      ]
     },
     "metadata": {},
     "output_type": "display_data"
    },
    {
     "name": "stdout",
     "output_type": "stream",
     "text": [
      "tensor([3, 0])\n",
      "tensor([0, 1])\n",
      "tensor([0, 1])\n",
      "tensor([2, 0])\n",
      "Parameter containing:\n",
      "tensor([[0.8128, 0.6236, 0.5025, 1.2005],\n",
      "        [0.6584, 0.6436, 0.3434, 0.3962]], requires_grad=True)\n",
      "Parameter containing:\n",
      "tensor([[ 2.5238e+00,  3.0704e-01,  2.8243e-02, -2.5699e-01],\n",
      "        [ 5.2913e-01,  1.7102e+00,  3.7079e-01, -2.4637e-03]],\n",
      "       requires_grad=True)\n",
      "Parameter containing:\n",
      "tensor([[ 1.4974,  1.3738, -0.1952, -0.3226],\n",
      "        [ 1.2858,  1.9518, -0.2330, -1.1650]], requires_grad=True)\n",
      "Parameter containing:\n",
      "tensor([[-1.3023, -0.2574,  1.4654,  1.0273],\n",
      "        [ 3.7420,  0.1320,  0.6020, -2.8959]], requires_grad=True)\n",
      "acc  0 0.6373521685600281\n",
      "acc  1 0.8728909492492676\n",
      "acc  2 1.2086840867996216\n",
      "acc  3 0.5230048298835754\n",
      "0.8104830086231232 21\n"
     ]
    },
    {
     "data": {
      "application/vnd.jupyter.widget-view+json": {
       "model_id": "54832094766243878f166aba801bbfc1",
       "version_major": 2,
       "version_minor": 0
      },
      "text/plain": [
       "  0%|          | 0/1000 [00:00<?, ?it/s]"
      ]
     },
     "metadata": {},
     "output_type": "display_data"
    },
    {
     "data": {
      "application/vnd.jupyter.widget-view+json": {
       "model_id": "fc7e4959b0c34ab8b4147ab5b39c3a80",
       "version_major": 2,
       "version_minor": 0
      },
      "text/plain": [
       "  0%|          | 0/1000 [00:00<?, ?it/s]"
      ]
     },
     "metadata": {},
     "output_type": "display_data"
    },
    {
     "name": "stdout",
     "output_type": "stream",
     "text": [
      "tensor([3, 0])\n",
      "tensor([0, 0])\n",
      "tensor([2, 3])\n",
      "tensor([1, 0])\n",
      "Parameter containing:\n",
      "tensor([[ 0.5666,  0.2389, -0.4224,  1.5346],\n",
      "        [ 0.5434,  0.4972, -0.2121,  0.0623]], requires_grad=True)\n",
      "Parameter containing:\n",
      "tensor([[ 2.3990, -0.4962,  0.9562, -0.4131],\n",
      "        [ 1.9123,  0.0641,  0.7703, -0.4508]], requires_grad=True)\n",
      "Parameter containing:\n",
      "tensor([[ 0.0626,  0.0573,  2.0056, -0.4260],\n",
      "        [ 0.2833,  0.3603,  0.6887,  0.7144]], requires_grad=True)\n",
      "Parameter containing:\n",
      "tensor([[-0.1801,  1.2743,  0.4962,  0.3553],\n",
      "        [ 0.9224,  0.4439,  0.3982,  0.2890]], requires_grad=True)\n",
      "acc  0 0.5570303201675415\n",
      "acc  1 0.6238662004470825\n",
      "acc  2 1.8140989542007446\n",
      "acc  3 0.547915518283844\n",
      "0.8857277482748032 22\n"
     ]
    },
    {
     "data": {
      "application/vnd.jupyter.widget-view+json": {
       "model_id": "da3e199273c549729b1c819f3fa5f55a",
       "version_major": 2,
       "version_minor": 0
      },
      "text/plain": [
       "  0%|          | 0/1000 [00:00<?, ?it/s]"
      ]
     },
     "metadata": {},
     "output_type": "display_data"
    },
    {
     "data": {
      "application/vnd.jupyter.widget-view+json": {
       "model_id": "2fc79cc9f057418eb107a6da729e391b",
       "version_major": 2,
       "version_minor": 0
      },
      "text/plain": [
       "  0%|          | 0/1000 [00:00<?, ?it/s]"
      ]
     },
     "metadata": {},
     "output_type": "display_data"
    },
    {
     "name": "stdout",
     "output_type": "stream",
     "text": [
      "tensor([0, 1])\n",
      "tensor([2, 2])\n",
      "tensor([1, 0])\n",
      "tensor([0, 0])\n",
      "Parameter containing:\n",
      "tensor([[ 0.9497, -0.0098,  0.9140,  0.5585],\n",
      "        [ 0.3185,  1.1230,  0.0316,  0.3841]], requires_grad=True)\n",
      "Parameter containing:\n",
      "tensor([[ 0.6428,  0.5925,  1.5226,  0.8467],\n",
      "        [ 0.4635, -0.0995,  1.1432,  0.4192]], requires_grad=True)\n",
      "Parameter containing:\n",
      "tensor([[0.1621, 1.5060, 0.6107, 0.0442],\n",
      "        [1.2089, 0.2259, 0.9901, 0.4820]], requires_grad=True)\n",
      "Parameter containing:\n",
      "tensor([[ 0.9624,  0.0311, -0.1753,  0.8085],\n",
      "        [ 1.2386, -0.0593,  0.0645,  0.9221]], requires_grad=True)\n",
      "acc  0 0.530247688293457\n",
      "acc  1 0.5298098921775818\n",
      "acc  2 0.3763706386089325\n",
      "acc  3 0.3337119519710541\n",
      "0.44253504276275635 30\n"
     ]
    },
    {
     "data": {
      "application/vnd.jupyter.widget-view+json": {
       "model_id": "773f39b3e00a4244935d76069121cfe4",
       "version_major": 2,
       "version_minor": 0
      },
      "text/plain": [
       "  0%|          | 0/1000 [00:00<?, ?it/s]"
      ]
     },
     "metadata": {},
     "output_type": "display_data"
    },
    {
     "data": {
      "application/vnd.jupyter.widget-view+json": {
       "model_id": "4de52856c7ac4bdda80755d91196be9d",
       "version_major": 2,
       "version_minor": 0
      },
      "text/plain": [
       "  0%|          | 0/1000 [00:00<?, ?it/s]"
      ]
     },
     "metadata": {},
     "output_type": "display_data"
    },
    {
     "name": "stdout",
     "output_type": "stream",
     "text": [
      "tensor([3, 2])\n",
      "tensor([0, 2])\n",
      "tensor([2, 3])\n",
      "tensor([1, 1])\n",
      "Parameter containing:\n",
      "tensor([[ 0.2298,  0.8622,  0.7275,  0.9110],\n",
      "        [-0.2102,  0.4514,  1.3632, -0.1557]], requires_grad=True)\n",
      "Parameter containing:\n",
      "tensor([[ 1.2678, -0.4004, -0.2053,  0.4127],\n",
      "        [ 0.5439, -0.0094,  1.4341,  0.0354]], requires_grad=True)\n",
      "Parameter containing:\n",
      "tensor([[ 0.4687,  0.1184,  1.7190,  0.6257],\n",
      "        [-0.0359,  0.4376, -0.4224,  1.7251]], requires_grad=True)\n",
      "Parameter containing:\n",
      "tensor([[ 0.0721,  1.8573,  0.3853, -0.1509],\n",
      "        [ 0.0830,  0.9154,  0.2307,  0.7935]], requires_grad=True)\n",
      "acc  0 1.237204909324646\n",
      "acc  1 1.08966863155365\n",
      "acc  2 1.5804728269577026\n",
      "acc  3 0.6249144673347473\n",
      "1.1330652087926865 31\n"
     ]
    },
    {
     "data": {
      "application/vnd.jupyter.widget-view+json": {
       "model_id": "26aea550bf8740b28f0e9e23eb708610",
       "version_major": 2,
       "version_minor": 0
      },
      "text/plain": [
       "  0%|          | 0/1000 [00:00<?, ?it/s]"
      ]
     },
     "metadata": {},
     "output_type": "display_data"
    },
    {
     "data": {
      "application/vnd.jupyter.widget-view+json": {
       "model_id": "4038d533670c48c0af5cca46a4c0e68f",
       "version_major": 2,
       "version_minor": 0
      },
      "text/plain": [
       "  0%|          | 0/1000 [00:00<?, ?it/s]"
      ]
     },
     "metadata": {},
     "output_type": "display_data"
    },
    {
     "name": "stdout",
     "output_type": "stream",
     "text": [
      "tensor([0, 1])\n",
      "tensor([3, 1])\n",
      "tensor([1, 1])\n",
      "tensor([2, 1])\n",
      "Parameter containing:\n",
      "tensor([[ 1.0084,  0.2382,  0.2409, -0.0893],\n",
      "        [ 0.2658,  1.3303,  0.0154,  0.5132]], requires_grad=True)\n",
      "Parameter containing:\n",
      "tensor([[-0.1718,  1.0132, -0.6727,  1.2885],\n",
      "        [-1.2081,  4.8444, -0.0814, -0.4286]], requires_grad=True)\n",
      "Parameter containing:\n",
      "tensor([[ 0.3793,  1.3227,  0.5241,  0.4659],\n",
      "        [-1.0147,  4.1419, -0.7035, -0.8434]], requires_grad=True)\n",
      "Parameter containing:\n",
      "tensor([[ 0.5983,  0.4621,  0.8194,  0.0945],\n",
      "        [-0.3208,  4.3571,  0.4489, -0.7374]], requires_grad=True)\n",
      "acc  0 1.2105367183685303\n",
      "acc  1 1.3387789726257324\n",
      "acc  2 1.140375018119812\n",
      "acc  3 0.8852341175079346\n",
      "1.1437312066555023 13\n"
     ]
    },
    {
     "data": {
      "application/vnd.jupyter.widget-view+json": {
       "model_id": "849e751d731245ae94ccc0b781038595",
       "version_major": 2,
       "version_minor": 0
      },
      "text/plain": [
       "  0%|          | 0/1000 [00:00<?, ?it/s]"
      ]
     },
     "metadata": {},
     "output_type": "display_data"
    },
    {
     "data": {
      "application/vnd.jupyter.widget-view+json": {
       "model_id": "7e11cf0d4da24f5ba86a4b489638b805",
       "version_major": 2,
       "version_minor": 0
      },
      "text/plain": [
       "  0%|          | 0/1000 [00:00<?, ?it/s]"
      ]
     },
     "metadata": {},
     "output_type": "display_data"
    },
    {
     "name": "stdout",
     "output_type": "stream",
     "text": [
      "tensor([0, 2])\n",
      "tensor([0, 2])\n",
      "tensor([0, 1])\n",
      "tensor([2, 3])\n",
      "Parameter containing:\n",
      "tensor([[ 1.8062, -0.4074,  0.3437, -0.2962],\n",
      "        [-0.3639,  0.1090,  4.7558, -1.9225]], requires_grad=True)\n",
      "Parameter containing:\n",
      "tensor([[ 3.1796, -0.9222, -0.0821, -0.0068],\n",
      "        [-0.7282,  0.0834,  3.4452, -1.6723]], requires_grad=True)\n",
      "Parameter containing:\n",
      "tensor([[ 1.0785, -0.0152,  0.1570,  0.1066],\n",
      "        [-0.1265,  1.6238, -0.0234,  0.0893]], requires_grad=True)\n",
      "Parameter containing:\n",
      "tensor([[ 0.6000,  0.4053,  1.2996, -0.1548],\n",
      "        [-0.3992, -0.1557,  1.0300,  1.0402]], requires_grad=True)\n",
      "acc  0 0.8259835839271545\n",
      "acc  1 0.7970559000968933\n",
      "acc  2 0.5324422121047974\n",
      "acc  3 0.9492574334144592\n",
      "0.7761847823858261 29\n"
     ]
    },
    {
     "data": {
      "application/vnd.jupyter.widget-view+json": {
       "model_id": "98085ba370c546ebb9649e315c10355a",
       "version_major": 2,
       "version_minor": 0
      },
      "text/plain": [
       "  0%|          | 0/1000 [00:00<?, ?it/s]"
      ]
     },
     "metadata": {},
     "output_type": "display_data"
    },
    {
     "data": {
      "application/vnd.jupyter.widget-view+json": {
       "model_id": "5e5da2b3f2144bd5b48726a49a13aa7a",
       "version_major": 2,
       "version_minor": 0
      },
      "text/plain": [
       "  0%|          | 0/1000 [00:00<?, ?it/s]"
      ]
     },
     "metadata": {},
     "output_type": "display_data"
    },
    {
     "name": "stdout",
     "output_type": "stream",
     "text": [
      "tensor([2, 0])\n",
      "tensor([1, 1])\n",
      "tensor([1, 2])\n",
      "tensor([3, 3])\n",
      "Parameter containing:\n",
      "tensor([[-0.3960, -0.2147,  0.9592,  0.7683],\n",
      "        [ 0.9971,  0.9568,  0.3483,  0.4693]], requires_grad=True)\n",
      "Parameter containing:\n",
      "tensor([[ 0.7033,  1.1934,  0.1434, -0.1414],\n",
      "        [ 0.3775,  0.8428, -0.0079,  0.7298]], requires_grad=True)\n",
      "Parameter containing:\n",
      "tensor([[0.7704, 1.3250, 0.1064, 0.0186],\n",
      "        [0.1166, 0.3843, 1.2704, 0.1310]], requires_grad=True)\n",
      "Parameter containing:\n",
      "tensor([[ 0.7639, -0.0491,  0.0730,  1.7783],\n",
      "        [ 0.7350,  0.8005,  0.0705,  1.0304]], requires_grad=True)\n",
      "acc  0 0.44712164998054504\n",
      "acc  1 0.41018688678741455\n",
      "acc  2 0.8858555555343628\n",
      "acc  3 1.0295875072479248\n",
      "0.6931878998875618 39\n"
     ]
    },
    {
     "data": {
      "application/vnd.jupyter.widget-view+json": {
       "model_id": "8f3b8dadce9742738bf2f8a27ac8bc17",
       "version_major": 2,
       "version_minor": 0
      },
      "text/plain": [
       "  0%|          | 0/1000 [00:00<?, ?it/s]"
      ]
     },
     "metadata": {},
     "output_type": "display_data"
    },
    {
     "data": {
      "application/vnd.jupyter.widget-view+json": {
       "model_id": "6844527206314176807bda9cda8588cc",
       "version_major": 2,
       "version_minor": 0
      },
      "text/plain": [
       "  0%|          | 0/1000 [00:00<?, ?it/s]"
      ]
     },
     "metadata": {},
     "output_type": "display_data"
    },
    {
     "name": "stdout",
     "output_type": "stream",
     "text": [
      "tensor([3, 1])\n",
      "tensor([0, 3])\n",
      "tensor([2, 1])\n",
      "tensor([0, 2])\n",
      "Parameter containing:\n",
      "tensor([[-0.1623,  0.2463,  0.3547,  1.0594],\n",
      "        [ 0.2748,  0.7340, -0.1876,  0.5235]], requires_grad=True)\n",
      "Parameter containing:\n",
      "tensor([[ 2.9196,  0.0285, -0.5020, -0.4880],\n",
      "        [ 0.3211,  0.6546,  0.5107,  0.6750]], requires_grad=True)\n",
      "Parameter containing:\n",
      "tensor([[-1.7553,  0.0478,  4.1104, -1.0525],\n",
      "        [-0.5731,  4.0395,  1.2413, -1.5753]], requires_grad=True)\n",
      "Parameter containing:\n",
      "tensor([[ 1.0167, -0.1415,  0.3994,  0.4400],\n",
      "        [-0.2039,  0.1813,  2.1860, -0.1731]], requires_grad=True)\n",
      "acc  0 0.8438774943351746\n",
      "acc  1 1.396499752998352\n",
      "acc  2 1.185654878616333\n",
      "acc  3 0.507111668586731\n",
      "0.9832859486341476 30\n"
     ]
    },
    {
     "data": {
      "application/vnd.jupyter.widget-view+json": {
       "model_id": "72249af5ad3e44599d9a8c74328e1edb",
       "version_major": 2,
       "version_minor": 0
      },
      "text/plain": [
       "  0%|          | 0/1000 [00:00<?, ?it/s]"
      ]
     },
     "metadata": {},
     "output_type": "display_data"
    },
    {
     "data": {
      "application/vnd.jupyter.widget-view+json": {
       "model_id": "08f4f6e432aa4e4295e4d0ea7d662c69",
       "version_major": 2,
       "version_minor": 0
      },
      "text/plain": [
       "  0%|          | 0/1000 [00:00<?, ?it/s]"
      ]
     },
     "metadata": {},
     "output_type": "display_data"
    },
    {
     "name": "stdout",
     "output_type": "stream",
     "text": [
      "tensor([2, 3])\n",
      "tensor([2, 0])\n",
      "tensor([0, 0])\n",
      "tensor([3, 0])\n",
      "Parameter containing:\n",
      "tensor([[ 0.1043, -0.2422,  1.4859, -0.2316],\n",
      "        [-0.3149,  0.4803,  0.6180,  0.7102]], requires_grad=True)\n",
      "Parameter containing:\n",
      "tensor([[ 0.1473,  0.7531,  1.2902, -0.1068],\n",
      "        [ 1.7926,  0.3219,  0.0930,  0.4174]], requires_grad=True)\n",
      "Parameter containing:\n",
      "tensor([[ 1.2167,  0.7300, -0.2710,  0.0966],\n",
      "        [ 1.1264,  0.9089, -0.3571, -0.1569]], requires_grad=True)\n",
      "Parameter containing:\n",
      "tensor([[ 0.3299,  0.3302, -0.4399,  1.1295],\n",
      "        [ 1.0742,  0.1763,  0.1800,  0.1124]], requires_grad=True)\n",
      "acc  0 1.6723464727401733\n",
      "acc  1 0.2246980369091034\n",
      "acc  2 0.27833667397499084\n",
      "acc  3 0.22852103412151337\n",
      "0.6009755544364452 21\n"
     ]
    },
    {
     "data": {
      "application/vnd.jupyter.widget-view+json": {
       "model_id": "31f6318f313f4494849538115e8beb6a",
       "version_major": 2,
       "version_minor": 0
      },
      "text/plain": [
       "  0%|          | 0/1000 [00:00<?, ?it/s]"
      ]
     },
     "metadata": {},
     "output_type": "display_data"
    },
    {
     "data": {
      "application/vnd.jupyter.widget-view+json": {
       "model_id": "7e9c32584ba14b1f94a0b9f0dc3e7822",
       "version_major": 2,
       "version_minor": 0
      },
      "text/plain": [
       "  0%|          | 0/1000 [00:00<?, ?it/s]"
      ]
     },
     "metadata": {},
     "output_type": "display_data"
    },
    {
     "name": "stdout",
     "output_type": "stream",
     "text": [
      "tensor([0, 2])\n",
      "tensor([3, 3])\n",
      "tensor([3, 0])\n",
      "tensor([2, 1])\n",
      "Parameter containing:\n",
      "tensor([[ 1.4298,  0.9417,  0.2379, -0.0799],\n",
      "        [ 0.1725,  0.8270,  1.1969,  0.1275]], requires_grad=True)\n",
      "Parameter containing:\n",
      "tensor([[ 0.4086,  0.2490,  0.0335,  0.9442],\n",
      "        [-0.0759, -0.3667,  0.3961,  1.9401]], requires_grad=True)\n",
      "Parameter containing:\n",
      "tensor([[-0.3234, -0.1547,  0.9853,  1.2908],\n",
      "        [ 1.2557,  0.4320,  0.5739,  0.9203]], requires_grad=True)\n",
      "Parameter containing:\n",
      "tensor([[0.4851, 0.4797, 1.1444, 0.2095],\n",
      "        [0.0522, 0.4634, 0.2240, 0.1171]], requires_grad=True)\n",
      "acc  0 0.38824355602264404\n",
      "acc  1 0.3632640540599823\n",
      "acc  2 0.931204617023468\n",
      "acc  3 1.020917534828186\n",
      "0.6759074404835701 39\n"
     ]
    },
    {
     "data": {
      "application/vnd.jupyter.widget-view+json": {
       "model_id": "57b1f400527c496984b2cf5204c26585",
       "version_major": 2,
       "version_minor": 0
      },
      "text/plain": [
       "  0%|          | 0/1000 [00:00<?, ?it/s]"
      ]
     },
     "metadata": {},
     "output_type": "display_data"
    },
    {
     "data": {
      "application/vnd.jupyter.widget-view+json": {
       "model_id": "06312b64cbbb4b4aa7fd9f92cb09affa",
       "version_major": 2,
       "version_minor": 0
      },
      "text/plain": [
       "  0%|          | 0/1000 [00:00<?, ?it/s]"
      ]
     },
     "metadata": {},
     "output_type": "display_data"
    },
    {
     "name": "stdout",
     "output_type": "stream",
     "text": [
      "tensor([1, 3])\n",
      "tensor([1, 1])\n",
      "tensor([1, 0])\n",
      "tensor([0, 0])\n",
      "Parameter containing:\n",
      "tensor([[ 0.5879,  0.8474,  0.7507,  0.4411],\n",
      "        [ 0.5911, -0.0789,  0.8593,  1.5252]], requires_grad=True)\n",
      "Parameter containing:\n",
      "tensor([[0.0178, 0.8660, 0.6789, 0.1404],\n",
      "        [0.9358, 1.3231, 0.6506, 0.1217]], requires_grad=True)\n",
      "Parameter containing:\n",
      "tensor([[-0.0607,  2.8270, -0.4073,  0.0214],\n",
      "        [ 2.0577,  0.2296,  0.4986,  0.4158]], requires_grad=True)\n",
      "Parameter containing:\n",
      "tensor([[ 1.6516,  0.2092,  0.5512,  0.3528],\n",
      "        [ 1.1550,  0.4602,  0.2789, -0.4895]], requires_grad=True)\n",
      "acc  0 1.2202602624893188\n",
      "acc  1 0.8718273043632507\n",
      "acc  2 0.8179916739463806\n",
      "acc  3 0.8620111346244812\n",
      "0.9430225938558578 29\n"
     ]
    },
    {
     "data": {
      "application/vnd.jupyter.widget-view+json": {
       "model_id": "25a5ef2cdd2d42feb70df15a67abdc89",
       "version_major": 2,
       "version_minor": 0
      },
      "text/plain": [
       "  0%|          | 0/1000 [00:00<?, ?it/s]"
      ]
     },
     "metadata": {},
     "output_type": "display_data"
    },
    {
     "data": {
      "application/vnd.jupyter.widget-view+json": {
       "model_id": "720b8df8df2141729356b22943b42c23",
       "version_major": 2,
       "version_minor": 0
      },
      "text/plain": [
       "  0%|          | 0/1000 [00:00<?, ?it/s]"
      ]
     },
     "metadata": {},
     "output_type": "display_data"
    },
    {
     "name": "stdout",
     "output_type": "stream",
     "text": [
      "tensor([0, 0])\n",
      "tensor([0, 0])\n",
      "tensor([1, 2])\n",
      "tensor([2, 2])\n",
      "Parameter containing:\n",
      "tensor([[ 0.9481,  0.7596,  0.6089,  0.4926],\n",
      "        [ 1.5904,  0.3638, -0.4427,  0.0226]], requires_grad=True)\n",
      "Parameter containing:\n",
      "tensor([[ 1.0558,  0.5081,  0.1308,  0.7846],\n",
      "        [ 1.4748, -0.0540,  0.4311,  0.1821]], requires_grad=True)\n",
      "Parameter containing:\n",
      "tensor([[ 0.4904,  0.5146,  0.0107,  0.0979],\n",
      "        [-0.2117,  0.6236,  1.3732,  0.2928]], requires_grad=True)\n",
      "Parameter containing:\n",
      "tensor([[ 0.6046,  0.0763,  0.9982,  0.6208],\n",
      "        [-0.1719,  0.0600,  1.3735,  0.8021]], requires_grad=True)\n",
      "acc  0 0.46605002880096436\n",
      "acc  1 0.9572658538818359\n",
      "acc  2 0.7650967240333557\n",
      "acc  3 0.7037919759750366\n",
      "0.7230511456727982 21\n"
     ]
    },
    {
     "data": {
      "application/vnd.jupyter.widget-view+json": {
       "model_id": "2e357a20965f40cfa029772edca98efc",
       "version_major": 2,
       "version_minor": 0
      },
      "text/plain": [
       "  0%|          | 0/1000 [00:00<?, ?it/s]"
      ]
     },
     "metadata": {},
     "output_type": "display_data"
    },
    {
     "data": {
      "application/vnd.jupyter.widget-view+json": {
       "model_id": "283f52b373b04476bca08dbe69272214",
       "version_major": 2,
       "version_minor": 0
      },
      "text/plain": [
       "  0%|          | 0/1000 [00:00<?, ?it/s]"
      ]
     },
     "metadata": {},
     "output_type": "display_data"
    },
    {
     "name": "stdout",
     "output_type": "stream",
     "text": [
      "tensor([2, 1])\n",
      "tensor([1, 2])\n",
      "tensor([0, 1])\n",
      "tensor([0, 0])\n",
      "Parameter containing:\n",
      "tensor([[0.5204, 0.6961, 0.9292, 0.7016],\n",
      "        [0.2499, 0.8388, 0.7008, 0.5330]], requires_grad=True)\n",
      "Parameter containing:\n",
      "tensor([[ 0.0995,  0.7004, -0.0885,  0.2628],\n",
      "        [-0.1092,  0.5784,  1.1900,  0.6543]], requires_grad=True)\n",
      "Parameter containing:\n",
      "tensor([[ 0.8076,  0.5968,  0.6335, -0.0396],\n",
      "        [ 0.2654,  1.4212,  0.5388,  0.4592]], requires_grad=True)\n",
      "Parameter containing:\n",
      "tensor([[ 0.9234,  0.4168,  0.3134,  0.0170],\n",
      "        [ 1.1431,  0.2831, -0.1506,  0.9559]], requires_grad=True)\n",
      "acc  0 0.6339955925941467\n",
      "acc  1 1.3787602186203003\n",
      "acc  2 0.6093627214431763\n",
      "acc  3 0.5938672423362732\n",
      "0.8039964437484741 30\n"
     ]
    },
    {
     "data": {
      "application/vnd.jupyter.widget-view+json": {
       "model_id": "f3d1bb142e1346599168ae2f521cce23",
       "version_major": 2,
       "version_minor": 0
      },
      "text/plain": [
       "  0%|          | 0/1000 [00:00<?, ?it/s]"
      ]
     },
     "metadata": {},
     "output_type": "display_data"
    },
    {
     "data": {
      "application/vnd.jupyter.widget-view+json": {
       "model_id": "8828e2ab6d6044e58c0a6ef9b2eeeeb3",
       "version_major": 2,
       "version_minor": 0
      },
      "text/plain": [
       "  0%|          | 0/1000 [00:00<?, ?it/s]"
      ]
     },
     "metadata": {},
     "output_type": "display_data"
    },
    {
     "name": "stdout",
     "output_type": "stream",
     "text": [
      "tensor([0, 3])\n",
      "tensor([0, 1])\n",
      "tensor([2, 1])\n",
      "tensor([1, 0])\n",
      "Parameter containing:\n",
      "tensor([[ 1.6266,  0.3605,  0.2783,  0.8196],\n",
      "        [ 0.1538, -0.2069, -0.3160,  2.5736]], requires_grad=True)\n",
      "Parameter containing:\n",
      "tensor([[ 0.9628,  0.0399,  0.3334, -0.0207],\n",
      "        [ 0.2230,  1.0301,  0.7158,  0.9699]], requires_grad=True)\n",
      "Parameter containing:\n",
      "tensor([[ 0.2322, -0.1654,  1.7132, -0.0246],\n",
      "        [-0.0957,  2.9685, -0.5534, -0.1799]], requires_grad=True)\n",
      "Parameter containing:\n",
      "tensor([[ 0.4056,  0.4553, -0.1272,  0.3129],\n",
      "        [ 1.2737,  0.1587, -0.3500,  0.7434]], requires_grad=True)\n",
      "acc  0 0.7163370251655579\n",
      "acc  1 0.22035378217697144\n",
      "acc  2 0.2579082250595093\n",
      "acc  3 0.29605019092559814\n",
      "0.3726623058319092 30\n"
     ]
    },
    {
     "data": {
      "application/vnd.jupyter.widget-view+json": {
       "model_id": "f54a9a6c1a6a4f1485b076e387a2e6e6",
       "version_major": 2,
       "version_minor": 0
      },
      "text/plain": [
       "  0%|          | 0/1000 [00:00<?, ?it/s]"
      ]
     },
     "metadata": {},
     "output_type": "display_data"
    },
    {
     "data": {
      "application/vnd.jupyter.widget-view+json": {
       "model_id": "cd96a65547dd42aabde50a8cc72e36c6",
       "version_major": 2,
       "version_minor": 0
      },
      "text/plain": [
       "  0%|          | 0/1000 [00:00<?, ?it/s]"
      ]
     },
     "metadata": {},
     "output_type": "display_data"
    },
    {
     "name": "stdout",
     "output_type": "stream",
     "text": [
      "tensor([0, 0])\n",
      "tensor([1, 0])\n",
      "tensor([1, 0])\n",
      "tensor([3, 1])\n",
      "Parameter containing:\n",
      "tensor([[ 1.1784,  0.5723, -0.0254,  1.0875],\n",
      "        [ 0.6970,  0.5475,  0.0525,  0.6481]], requires_grad=True)\n",
      "Parameter containing:\n",
      "tensor([[ 0.0268,  1.3653,  0.7104,  0.1601],\n",
      "        [ 1.3325, -0.6618, -0.1755,  1.2569]], requires_grad=True)\n",
      "Parameter containing:\n",
      "tensor([[ 0.2296,  1.6335, -0.5446,  0.3753],\n",
      "        [ 1.3598,  0.0577, -0.0459, -0.3074]], requires_grad=True)\n",
      "Parameter containing:\n",
      "tensor([[ 0.9908, -0.1365, -0.1012,  1.5350],\n",
      "        [ 0.4073,  1.3617,  0.8629, -0.3652]], requires_grad=True)\n",
      "acc  0 1.40559720993042\n",
      "acc  1 1.4853575229644775\n",
      "acc  2 1.6096551418304443\n",
      "acc  3 0.6566019058227539\n",
      "1.289302945137024 21\n"
     ]
    },
    {
     "data": {
      "application/vnd.jupyter.widget-view+json": {
       "model_id": "8ac3ad4744c14a20a26a6bb7751e8558",
       "version_major": 2,
       "version_minor": 0
      },
      "text/plain": [
       "  0%|          | 0/1000 [00:00<?, ?it/s]"
      ]
     },
     "metadata": {},
     "output_type": "display_data"
    },
    {
     "data": {
      "application/vnd.jupyter.widget-view+json": {
       "model_id": "26252a336ba9427e833272d97f24d592",
       "version_major": 2,
       "version_minor": 0
      },
      "text/plain": [
       "  0%|          | 0/1000 [00:00<?, ?it/s]"
      ]
     },
     "metadata": {},
     "output_type": "display_data"
    },
    {
     "name": "stdout",
     "output_type": "stream",
     "text": [
      "tensor([0, 0])\n",
      "tensor([2, 0])\n",
      "tensor([2, 3])\n",
      "tensor([2, 0])\n",
      "Parameter containing:\n",
      "tensor([[ 5.5347, -1.2898, -0.9060, -1.9054],\n",
      "        [ 2.6043, -1.2177, -1.5755,  2.2295]], requires_grad=True)\n",
      "Parameter containing:\n",
      "tensor([[ 1.5692, -2.3116,  5.1775, -1.7142],\n",
      "        [ 1.3512,  1.2271, -1.9984,  1.2030]], requires_grad=True)\n",
      "Parameter containing:\n",
      "tensor([[ 0.3951, -0.0172,  0.9855,  0.5965],\n",
      "        [ 0.1888,  0.0130, -0.1629,  0.7375]], requires_grad=True)\n",
      "Parameter containing:\n",
      "tensor([[ 0.2218, -0.6148,  2.7187, -0.9433],\n",
      "        [ 4.0883, -0.9649, -0.4018, -0.3062]], requires_grad=True)\n",
      "acc  0 0.7881141304969788\n",
      "acc  1 1.5178476572036743\n",
      "acc  2 0.6131466627120972\n",
      "acc  3 0.7921972274780273\n",
      "0.9278264194726944 20\n"
     ]
    },
    {
     "data": {
      "application/vnd.jupyter.widget-view+json": {
       "model_id": "a67f66f6d09a4c5b84e5dd95e034d746",
       "version_major": 2,
       "version_minor": 0
      },
      "text/plain": [
       "  0%|          | 0/1000 [00:00<?, ?it/s]"
      ]
     },
     "metadata": {},
     "output_type": "display_data"
    },
    {
     "data": {
      "application/vnd.jupyter.widget-view+json": {
       "model_id": "ee740fe119b444c3b8f1e622226784b5",
       "version_major": 2,
       "version_minor": 0
      },
      "text/plain": [
       "  0%|          | 0/1000 [00:00<?, ?it/s]"
      ]
     },
     "metadata": {},
     "output_type": "display_data"
    },
    {
     "name": "stdout",
     "output_type": "stream",
     "text": [
      "tensor([0, 0])\n",
      "tensor([3, 0])\n",
      "tensor([3, 0])\n",
      "tensor([0, 0])\n",
      "Parameter containing:\n",
      "tensor([[ 1.4013,  0.2342,  0.5147, -0.6297],\n",
      "        [ 2.8521, -0.2218, -0.6494, -0.1738]], requires_grad=True)\n",
      "Parameter containing:\n",
      "tensor([[-0.2635,  0.5894, -0.1726,  1.8872],\n",
      "        [ 4.0717, -1.0697,  0.1738, -0.7933]], requires_grad=True)\n",
      "Parameter containing:\n",
      "tensor([[ 0.2189,  0.6867, -0.1180,  0.9543],\n",
      "        [ 1.6932, -0.5061,  1.6066, -0.0302]], requires_grad=True)\n",
      "Parameter containing:\n",
      "tensor([[ 4.0585, -1.1694, -0.6368, -0.5470],\n",
      "        [ 5.1457, -2.5688,  1.5092, -1.8240]], requires_grad=True)\n",
      "acc  0 0.8345025777816772\n",
      "acc  1 0.7202758193016052\n",
      "acc  2 0.8542535305023193\n",
      "acc  3 0.9594131708145142\n",
      "0.842111274600029 11\n"
     ]
    },
    {
     "data": {
      "application/vnd.jupyter.widget-view+json": {
       "model_id": "f26a7edcebe94a12b2bc5c0caa66dd1a",
       "version_major": 2,
       "version_minor": 0
      },
      "text/plain": [
       "  0%|          | 0/1000 [00:00<?, ?it/s]"
      ]
     },
     "metadata": {},
     "output_type": "display_data"
    },
    {
     "data": {
      "application/vnd.jupyter.widget-view+json": {
       "model_id": "9d8dc482b033406ba8d9eb81837cd897",
       "version_major": 2,
       "version_minor": 0
      },
      "text/plain": [
       "  0%|          | 0/1000 [00:00<?, ?it/s]"
      ]
     },
     "metadata": {},
     "output_type": "display_data"
    },
    {
     "name": "stdout",
     "output_type": "stream",
     "text": [
      "tensor([0, 3])\n",
      "tensor([1, 0])\n",
      "tensor([1, 0])\n",
      "tensor([0, 3])\n",
      "Parameter containing:\n",
      "tensor([[1.4840, 0.1816, 0.1489, 0.3150],\n",
      "        [0.7043, 0.5015, 0.7012, 1.0838]], requires_grad=True)\n",
      "Parameter containing:\n",
      "tensor([[-0.0118,  1.1660,  0.9694,  0.6993],\n",
      "        [ 1.0809, -0.0185,  0.7668, -0.1210]], requires_grad=True)\n",
      "Parameter containing:\n",
      "tensor([[ 0.4012,  1.4002, -0.4199,  0.3079],\n",
      "        [ 1.2636,  0.1221,  0.0087,  0.5991]], requires_grad=True)\n",
      "Parameter containing:\n",
      "tensor([[ 2.0601, -0.3641, -0.8793, -0.2459],\n",
      "        [-0.1026, -0.7829,  1.3478,  1.8195]], requires_grad=True)\n",
      "acc  0 1.5996297597885132\n",
      "acc  1 1.6717302799224854\n",
      "acc  2 1.1346113681793213\n",
      "acc  3 1.5909868478775024\n",
      "1.4992395639419556 20\n"
     ]
    },
    {
     "data": {
      "application/vnd.jupyter.widget-view+json": {
       "model_id": "02849780fbc340e9847e8bbd4198582d",
       "version_major": 2,
       "version_minor": 0
      },
      "text/plain": [
       "  0%|          | 0/1000 [00:00<?, ?it/s]"
      ]
     },
     "metadata": {},
     "output_type": "display_data"
    },
    {
     "data": {
      "application/vnd.jupyter.widget-view+json": {
       "model_id": "c5f5d46ceb214a83b05638d15f3520b6",
       "version_major": 2,
       "version_minor": 0
      },
      "text/plain": [
       "  0%|          | 0/1000 [00:00<?, ?it/s]"
      ]
     },
     "metadata": {},
     "output_type": "display_data"
    },
    {
     "name": "stdout",
     "output_type": "stream",
     "text": [
      "tensor([2, 0])\n",
      "tensor([2, 2])\n",
      "tensor([3, 0])\n",
      "tensor([3, 2])\n",
      "Parameter containing:\n",
      "tensor([[-0.4352,  0.6246,  1.9453, -0.4431],\n",
      "        [ 0.8487,  0.3953,  0.6500,  0.6852]], requires_grad=True)\n",
      "Parameter containing:\n",
      "tensor([[ 0.3002,  0.4298,  0.9392,  0.8077],\n",
      "        [-0.0725, -0.9740,  2.5233,  0.0260]], requires_grad=True)\n",
      "Parameter containing:\n",
      "tensor([[ 0.9572, -0.8500, -0.6880,  2.7482],\n",
      "        [ 1.4509, -0.2192,  0.6677,  0.5094]], requires_grad=True)\n",
      "Parameter containing:\n",
      "tensor([[ 0.7484, -0.3497, -1.0870,  1.9454],\n",
      "        [ 0.3685, -0.5012,  1.1109,  0.6300]], requires_grad=True)\n",
      "acc  0 0.637046217918396\n",
      "acc  1 0.47649502754211426\n",
      "acc  2 0.40489116311073303\n",
      "acc  3 0.39863935112953186\n",
      "0.4792679399251938 20\n"
     ]
    },
    {
     "data": {
      "application/vnd.jupyter.widget-view+json": {
       "model_id": "a08c6c67088e4737ae3cd9ca7c7b9492",
       "version_major": 2,
       "version_minor": 0
      },
      "text/plain": [
       "  0%|          | 0/1000 [00:00<?, ?it/s]"
      ]
     },
     "metadata": {},
     "output_type": "display_data"
    },
    {
     "data": {
      "application/vnd.jupyter.widget-view+json": {
       "model_id": "91955292c7464325bb00fb8d9116f77f",
       "version_major": 2,
       "version_minor": 0
      },
      "text/plain": [
       "  0%|          | 0/1000 [00:00<?, ?it/s]"
      ]
     },
     "metadata": {},
     "output_type": "display_data"
    },
    {
     "name": "stdout",
     "output_type": "stream",
     "text": [
      "tensor([1, 2])\n",
      "tensor([2, 1])\n",
      "tensor([1, 3])\n",
      "tensor([2, 3])\n",
      "Parameter containing:\n",
      "tensor([[0.2021, 0.6680, 0.6612, 0.4514],\n",
      "        [0.6466, 0.5355, 1.1832, 0.7757]], requires_grad=True)\n",
      "Parameter containing:\n",
      "tensor([[ 0.5898, -0.1004,  2.2448, -0.1528],\n",
      "        [-0.9625,  1.8272, -0.2145,  0.5867]], requires_grad=True)\n",
      "Parameter containing:\n",
      "tensor([[ 0.8128,  0.9873,  0.1610,  0.9142],\n",
      "        [-0.4178, -0.1924,  0.7268,  1.2738]], requires_grad=True)\n",
      "Parameter containing:\n",
      "tensor([[ 0.6491,  0.4201,  1.1967,  0.4456],\n",
      "        [ 0.4187, -0.0479,  0.9186,  1.0621]], requires_grad=True)\n",
      "acc  0 1.2098852396011353\n",
      "acc  1 0.7150702476501465\n",
      "acc  2 1.224556803703308\n",
      "acc  3 1.476275086402893\n",
      "1.1564468443393707 29\n",
      "[Parameter containing:\n",
      "tensor([[0.2021, 0.6680, 0.6612, 0.4514],\n",
      "        [0.6466, 0.5355, 1.1832, 0.7757]], requires_grad=True), Parameter containing:\n",
      "tensor([[ 0.5898, -0.1004,  2.2448, -0.1528],\n",
      "        [-0.9625,  1.8272, -0.2145,  0.5867]], requires_grad=True), Parameter containing:\n",
      "tensor([[ 0.8128,  0.9873,  0.1610,  0.9142],\n",
      "        [-0.4178, -0.1924,  0.7268,  1.2738]], requires_grad=True), Parameter containing:\n",
      "tensor([[ 0.6491,  0.4201,  1.1967,  0.4456],\n",
      "        [ 0.4187, -0.0479,  0.9186,  1.0621]], requires_grad=True)]\n",
      "Parameter containing:\n",
      "tensor([116.6948], requires_grad=True)\n",
      "Parameter containing:\n",
      "tensor([-26.1224], requires_grad=True)\n",
      "Parameter containing:\n",
      "tensor([126.2558], requires_grad=True)\n",
      "Parameter containing:\n",
      "tensor([-14.1056], requires_grad=True)\n"
     ]
    },
    {
     "data": {
      "application/vnd.jupyter.widget-view+json": {
       "model_id": "18133a84f5ed49cfa65ac9af013561d2",
       "version_major": 2,
       "version_minor": 0
      },
      "text/plain": [
       "  0%|          | 0/1000 [00:00<?, ?it/s]"
      ]
     },
     "metadata": {},
     "output_type": "display_data"
    },
    {
     "data": {
      "application/vnd.jupyter.widget-view+json": {
       "model_id": "d4422766e47449cba5796deb68548219",
       "version_major": 2,
       "version_minor": 0
      },
      "text/plain": [
       "  0%|          | 0/1000 [00:00<?, ?it/s]"
      ]
     },
     "metadata": {},
     "output_type": "display_data"
    },
    {
     "name": "stdout",
     "output_type": "stream",
     "text": [
      "tensor([3, 5])\n",
      "tensor([7, 6])\n",
      "tensor([5, 2])\n",
      "tensor([5, 1])\n",
      "Parameter containing:\n",
      "tensor([[0.5991, 1.0357, 0.5463, 1.1145, 0.1493, 0.4545, 0.1746, 1.1068],\n",
      "        [0.8387, 0.3112, 0.6484, 0.5190, 0.5829, 0.8727, 0.6715, 0.7653]],\n",
      "       requires_grad=True)\n",
      "Parameter containing:\n",
      "tensor([[ 0.9301,  0.9931,  0.2761,  0.4687,  0.2047,  0.2538, -0.2813,  1.3478],\n",
      "        [-0.1396, -0.7585,  0.4135,  0.1645,  0.7264,  0.3766,  1.2550,  0.4752]],\n",
      "       requires_grad=True)\n",
      "Parameter containing:\n",
      "tensor([[ 0.8320, -0.0328,  0.4889, -0.0623,  1.0097,  2.0611,  1.0307, -0.3326],\n",
      "        [ 0.6021,  0.7278,  1.4042, -0.6848,  0.8795,  0.2572,  0.9832,  0.9349]],\n",
      "       requires_grad=True)\n",
      "Parameter containing:\n",
      "tensor([[-0.0099, -0.0773, -0.3477, -0.9481, -0.6236,  3.9522,  1.0813,  0.6119],\n",
      "        [ 1.0188,  4.2157,  0.4656, -1.4206,  0.1249, -0.5591,  0.0272, -0.0149]],\n",
      "       requires_grad=True)\n",
      "acc  0 2.1305956840515137\n",
      "acc  1 1.0098828077316284\n",
      "acc  2 1.0629421472549438\n",
      "acc  3 1.3288681507110596\n",
      "1.3830721974372864 39\n"
     ]
    },
    {
     "data": {
      "application/vnd.jupyter.widget-view+json": {
       "model_id": "0c92173ad21745ddaaea7026cba725c8",
       "version_major": 2,
       "version_minor": 0
      },
      "text/plain": [
       "  0%|          | 0/1000 [00:00<?, ?it/s]"
      ]
     },
     "metadata": {},
     "output_type": "display_data"
    },
    {
     "data": {
      "application/vnd.jupyter.widget-view+json": {
       "model_id": "4a2936a003e84409b990b0dad7f64f89",
       "version_major": 2,
       "version_minor": 0
      },
      "text/plain": [
       "  0%|          | 0/1000 [00:00<?, ?it/s]"
      ]
     },
     "metadata": {},
     "output_type": "display_data"
    },
    {
     "name": "stdout",
     "output_type": "stream",
     "text": [
      "tensor([2, 2])\n",
      "tensor([5, 2])\n",
      "tensor([2, 2])\n",
      "tensor([3, 7])\n",
      "Parameter containing:\n",
      "tensor([[0.3691, 0.4161, 0.7468, 0.1157, 0.0262, 0.3004, 0.5268, 0.3073],\n",
      "        [0.8713, 0.4306, 1.2609, 0.0849, 0.3647, 0.5084, 0.3594, 0.8617]],\n",
      "       requires_grad=True)\n",
      "Parameter containing:\n",
      "tensor([[ 0.9963,  0.0859,  0.7274,  0.4486, -0.1284,  1.9389, -0.1038, -0.2187],\n",
      "        [-0.4816,  0.1211,  3.2907,  0.3584,  0.3340,  0.5164,  1.0807, -1.2206]],\n",
      "       requires_grad=True)\n",
      "Parameter containing:\n",
      "tensor([[ 0.5052,  0.5729,  1.5096,  0.2995,  0.6835,  0.5381,  0.4777,  0.0729],\n",
      "        [ 0.4683,  0.4486,  1.2110,  0.5242,  0.6720,  0.6495,  0.2725, -0.2051]],\n",
      "       requires_grad=True)\n",
      "Parameter containing:\n",
      "tensor([[ 0.0573,  0.6374,  0.7325,  0.9502,  0.1755,  0.8049,  0.6067,  0.3500],\n",
      "        [ 0.5473,  0.2721,  0.2906,  0.2008,  0.1097,  0.4793, -0.1423,  1.2195]],\n",
      "       requires_grad=True)\n",
      "acc  0 1.356783390045166\n",
      "acc  1 1.3390470743179321\n",
      "acc  2 1.5578585863113403\n",
      "acc  3 0.9607893824577332\n",
      "1.303619608283043 21\n"
     ]
    },
    {
     "data": {
      "application/vnd.jupyter.widget-view+json": {
       "model_id": "fbe6533c9d594e4fbc6a4bd87e48496c",
       "version_major": 2,
       "version_minor": 0
      },
      "text/plain": [
       "  0%|          | 0/1000 [00:00<?, ?it/s]"
      ]
     },
     "metadata": {},
     "output_type": "display_data"
    },
    {
     "data": {
      "application/vnd.jupyter.widget-view+json": {
       "model_id": "5dd87184917a411d82732292a25cd446",
       "version_major": 2,
       "version_minor": 0
      },
      "text/plain": [
       "  0%|          | 0/1000 [00:00<?, ?it/s]"
      ]
     },
     "metadata": {},
     "output_type": "display_data"
    },
    {
     "name": "stdout",
     "output_type": "stream",
     "text": [
      "tensor([2, 4])\n",
      "tensor([4, 7])\n",
      "tensor([5, 1])\n",
      "tensor([7, 7])\n",
      "Parameter containing:\n",
      "tensor([[ 0.8028,  0.7643,  0.9926,  0.3312,  0.3877,  0.3841,  0.4830,  0.1237],\n",
      "        [ 0.9163,  1.0545,  0.8834,  0.8407,  1.1783,  0.2327,  0.4580, -0.0329]],\n",
      "       requires_grad=True)\n",
      "Parameter containing:\n",
      "tensor([[0.7039, 0.8875, 0.9154, 0.1270, 1.0760, 0.3858, 0.8867, 0.2478],\n",
      "        [0.3646, 0.4038, 0.1532, 0.7768, 0.5678, 0.3414, 0.2199, 0.9652]],\n",
      "       requires_grad=True)\n",
      "Parameter containing:\n",
      "tensor([[ 0.5031,  0.4215,  0.5332, -0.0530,  0.3310,  1.0320,  0.4538,  0.5765],\n",
      "        [-0.4938,  1.1772,  0.4743,  0.0188,  0.1523,  0.2155,  0.7757,  0.7535]],\n",
      "       requires_grad=True)\n",
      "Parameter containing:\n",
      "tensor([[ 0.0569,  0.5234,  0.0795,  0.9500,  0.7211,  0.2614,  0.0418,  1.0021],\n",
      "        [-0.0213,  0.5052,  0.5422,  0.7493,  0.1866,  0.5232,  0.3353,  1.4693]],\n",
      "       requires_grad=True)\n",
      "acc  0 1.3523359298706055\n",
      "acc  1 0.7278510928153992\n",
      "acc  2 0.6932588815689087\n",
      "acc  3 0.6029517650604248\n",
      "0.8440994173288345 31\n"
     ]
    },
    {
     "data": {
      "application/vnd.jupyter.widget-view+json": {
       "model_id": "c450c0d607ee47ea9be881dcebac9c19",
       "version_major": 2,
       "version_minor": 0
      },
      "text/plain": [
       "  0%|          | 0/1000 [00:00<?, ?it/s]"
      ]
     },
     "metadata": {},
     "output_type": "display_data"
    },
    {
     "data": {
      "application/vnd.jupyter.widget-view+json": {
       "model_id": "9c6a34c1a34b4e8f81f64fcf41d1a975",
       "version_major": 2,
       "version_minor": 0
      },
      "text/plain": [
       "  0%|          | 0/1000 [00:00<?, ?it/s]"
      ]
     },
     "metadata": {},
     "output_type": "display_data"
    },
    {
     "name": "stdout",
     "output_type": "stream",
     "text": [
      "tensor([6, 0])\n",
      "tensor([7, 0])\n",
      "tensor([0, 2])\n",
      "tensor([4, 4])\n",
      "Parameter containing:\n",
      "tensor([[ 0.0839,  0.9409,  0.3862,  0.8542,  0.2218,  0.4845,  1.2888, -0.0811],\n",
      "        [ 1.0676,  0.1437, -0.0818,  0.2228,  0.5710,  0.1882,  0.8840,  0.0833]],\n",
      "       requires_grad=True)\n",
      "Parameter containing:\n",
      "tensor([[0.6814, 0.5035, 0.7109, 0.8439, 0.2495, 0.1910, 0.5113, 0.9449],\n",
      "        [0.8615, 0.7964, 0.6106, 0.5197, 0.3330, 0.6402, 0.3512, 0.0740]],\n",
      "       requires_grad=True)\n",
      "Parameter containing:\n",
      "tensor([[ 1.2523,  0.6453,  0.4735, -0.0449,  0.4038,  0.4512,  0.0550,  0.5903],\n",
      "        [ 0.4606,  0.4344,  1.2531, -0.5047,  0.0057,  0.0665,  0.4557,  0.7498]],\n",
      "       requires_grad=True)\n",
      "Parameter containing:\n",
      "tensor([[0.0403, 0.5736, 0.0904, 0.2081, 1.2243, 0.6709, 0.4321, 0.4966],\n",
      "        [0.2709, 0.3367, 0.5067, 0.7772, 1.0399, 0.8056, 0.3805, 0.2701]],\n",
      "       requires_grad=True)\n",
      "acc  0 1.3395946025848389\n",
      "acc  1 1.2865930795669556\n",
      "acc  2 0.9288084506988525\n",
      "acc  3 0.9628718495368958\n",
      "1.1294669955968857 31\n"
     ]
    },
    {
     "data": {
      "application/vnd.jupyter.widget-view+json": {
       "model_id": "ccbe9bc0d24e48cc88a16b7c24fa7f62",
       "version_major": 2,
       "version_minor": 0
      },
      "text/plain": [
       "  0%|          | 0/1000 [00:00<?, ?it/s]"
      ]
     },
     "metadata": {},
     "output_type": "display_data"
    },
    {
     "data": {
      "application/vnd.jupyter.widget-view+json": {
       "model_id": "0446a0ab7c3c4d4186323d45529931d0",
       "version_major": 2,
       "version_minor": 0
      },
      "text/plain": [
       "  0%|          | 0/1000 [00:00<?, ?it/s]"
      ]
     },
     "metadata": {},
     "output_type": "display_data"
    },
    {
     "name": "stdout",
     "output_type": "stream",
     "text": [
      "tensor([5, 4])\n",
      "tensor([3, 7])\n",
      "tensor([6, 4])\n",
      "tensor([6, 4])\n",
      "Parameter containing:\n",
      "tensor([[0.5273, 0.0496, 0.6412, 0.0691, 0.7181, 0.7474, 0.1605, 0.6095],\n",
      "        [0.0349, 0.3646, 0.6426, 0.1860, 1.3511, 0.6323, 0.9035, 0.4685]],\n",
      "       requires_grad=True)\n",
      "Parameter containing:\n",
      "tensor([[ 0.2656,  1.1403,  1.3351,  2.1027, -0.7693, -0.6131, -0.3546,  1.1657],\n",
      "        [ 1.8028, -0.0248,  1.1457, -1.7185, -0.7244,  0.6076, -0.7094,  5.3430]],\n",
      "       requires_grad=True)\n",
      "Parameter containing:\n",
      "tensor([[ 0.0522,  0.3566, -0.1583,  1.6161,  0.6432, -0.5573,  1.7650, -0.0428],\n",
      "        [-0.2600, -0.8599,  1.2499, -1.1422,  3.2511,  1.2016, -0.5289,  0.2208]],\n",
      "       requires_grad=True)\n",
      "Parameter containing:\n",
      "tensor([[-0.0709, -0.6883,  0.6241,  0.4942,  0.4891,  0.4968,  1.4079,  0.8801],\n",
      "        [ 1.0961, -0.5511,  0.3785, -1.0738,  4.4493,  0.3683, -0.7191,  0.7056]],\n",
      "       requires_grad=True)\n",
      "acc  0 0.7098265290260315\n",
      "acc  1 1.1579149961471558\n",
      "acc  2 0.7744148373603821\n",
      "acc  3 1.0208065509796143\n",
      "0.9157407283782959 21\n"
     ]
    },
    {
     "data": {
      "application/vnd.jupyter.widget-view+json": {
       "model_id": "0162f5a02cd6427ba4706e675e47d0c3",
       "version_major": 2,
       "version_minor": 0
      },
      "text/plain": [
       "  0%|          | 0/1000 [00:00<?, ?it/s]"
      ]
     },
     "metadata": {},
     "output_type": "display_data"
    },
    {
     "data": {
      "application/vnd.jupyter.widget-view+json": {
       "model_id": "1df3fa86762642638ec8973fce5999b5",
       "version_major": 2,
       "version_minor": 0
      },
      "text/plain": [
       "  0%|          | 0/1000 [00:00<?, ?it/s]"
      ]
     },
     "metadata": {},
     "output_type": "display_data"
    },
    {
     "name": "stdout",
     "output_type": "stream",
     "text": [
      "tensor([2, 3])\n",
      "tensor([3, 6])\n",
      "tensor([2, 7])\n",
      "tensor([5, 6])\n",
      "Parameter containing:\n",
      "tensor([[ 1.2887,  0.5457,  2.3079, -0.6587, -0.2983,  1.7714, -0.4175, -0.5145],\n",
      "        [-0.8010, -1.0887, -1.4525,  5.1715, -0.9998,  1.2625,  0.6719,  0.5328]],\n",
      "       requires_grad=True)\n",
      "Parameter containing:\n",
      "tensor([[ 0.3855,  0.1920, -0.6632,  2.7201,  0.7436, -0.4463,  0.5728, -0.6145],\n",
      "        [-0.6238, -1.4635,  1.5128,  1.7038, -0.7043, -0.7161,  3.8568,  0.0998]],\n",
      "       requires_grad=True)\n",
      "Parameter containing:\n",
      "tensor([[ 0.7712,  0.1215,  1.0201, -0.0196,  0.4362,  0.5683, -0.0927,  0.5112],\n",
      "        [ 0.5630,  0.1085,  0.4098, -0.0767,  0.4016,  0.2871,  0.4426,  0.8962]],\n",
      "       requires_grad=True)\n",
      "Parameter containing:\n",
      "tensor([[-0.1240,  0.1759,  0.8728,  0.2281,  0.9334,  0.9440, -0.0181, -0.0958],\n",
      "        [ 0.0175, -0.6260,  0.3091,  1.1292,  1.1175, -0.6326,  1.9121,  0.2949]],\n",
      "       requires_grad=True)\n",
      "acc  0 0.34122899174690247\n",
      "acc  1 1.327599287033081\n",
      "acc  2 0.6929108500480652\n",
      "acc  3 0.978320837020874\n",
      "0.8350149914622307 30\n"
     ]
    },
    {
     "data": {
      "application/vnd.jupyter.widget-view+json": {
       "model_id": "0c2bf9c58fd3472581c303a7d3c5864a",
       "version_major": 2,
       "version_minor": 0
      },
      "text/plain": [
       "  0%|          | 0/1000 [00:00<?, ?it/s]"
      ]
     },
     "metadata": {},
     "output_type": "display_data"
    },
    {
     "data": {
      "application/vnd.jupyter.widget-view+json": {
       "model_id": "66af7a53782e41d585bf11d4d2249fc5",
       "version_major": 2,
       "version_minor": 0
      },
      "text/plain": [
       "  0%|          | 0/1000 [00:00<?, ?it/s]"
      ]
     },
     "metadata": {},
     "output_type": "display_data"
    },
    {
     "name": "stdout",
     "output_type": "stream",
     "text": [
      "tensor([5, 5])\n",
      "tensor([4, 0])\n",
      "tensor([4, 0])\n",
      "tensor([1, 6])\n",
      "Parameter containing:\n",
      "tensor([[ 0.6861,  0.2639,  0.4877,  0.1539,  0.4397,  0.8764,  0.5259,  0.4547],\n",
      "        [ 1.1758,  0.6215, -0.3915,  0.9179,  0.4241,  1.1883, -0.1589,  0.0638]],\n",
      "       requires_grad=True)\n",
      "Parameter containing:\n",
      "tensor([[ 0.3238,  0.4231,  0.4441,  0.8270,  0.9304, -0.1311,  0.4920,  0.8133],\n",
      "        [ 1.0998,  0.2050,  0.2043,  0.9322,  0.8455,  0.9737,  0.6538,  0.2881]],\n",
      "       requires_grad=True)\n",
      "Parameter containing:\n",
      "tensor([[0.0219, 0.0558, 0.0917, 0.5781, 1.1609, 0.7663, 0.9084, 1.1160],\n",
      "        [1.2127, 0.0035, 0.6013, 1.1158, 0.8541, 0.7176, 0.5492, 0.3148]],\n",
      "       requires_grad=True)\n",
      "Parameter containing:\n",
      "tensor([[0.6129, 1.0602, 0.6959, 0.5747, 0.4801, 0.8037, 0.0642, 0.4667],\n",
      "        [0.8931, 0.4096, 0.2118, 0.4067, 0.7970, 0.6124, 1.1864, 0.0463]],\n",
      "       requires_grad=True)\n",
      "acc  0 0.6732083559036255\n",
      "acc  1 0.5348407030105591\n",
      "acc  2 0.9657360315322876\n",
      "acc  3 0.7984089255332947\n",
      "0.7430485039949417 30\n"
     ]
    },
    {
     "data": {
      "application/vnd.jupyter.widget-view+json": {
       "model_id": "d75398daefda4062acccda305d2120d9",
       "version_major": 2,
       "version_minor": 0
      },
      "text/plain": [
       "  0%|          | 0/1000 [00:00<?, ?it/s]"
      ]
     },
     "metadata": {},
     "output_type": "display_data"
    },
    {
     "data": {
      "application/vnd.jupyter.widget-view+json": {
       "model_id": "a474385f771744928d8c1641fd15f25c",
       "version_major": 2,
       "version_minor": 0
      },
      "text/plain": [
       "  0%|          | 0/1000 [00:00<?, ?it/s]"
      ]
     },
     "metadata": {},
     "output_type": "display_data"
    },
    {
     "name": "stdout",
     "output_type": "stream",
     "text": [
      "tensor([3, 0])\n",
      "tensor([2, 6])\n",
      "tensor([6, 5])\n",
      "tensor([1, 5])\n",
      "Parameter containing:\n",
      "tensor([[ 0.0810,  0.2869,  0.1941,  0.9293,  0.1899,  0.6038,  0.2798,  0.2782],\n",
      "        [ 1.1873,  0.5280,  0.0410,  0.3656, -0.0047,  0.2326,  0.6114,  1.1582]],\n",
      "       requires_grad=True)\n",
      "Parameter containing:\n",
      "tensor([[-0.0511,  0.3165,  0.9417,  0.5653,  0.6351,  0.6409,  0.6816,  0.7527],\n",
      "        [ 0.8735,  0.5505,  0.1734, -0.0352, -0.8639,  0.5877,  1.7650,  0.6538]],\n",
      "       requires_grad=True)\n",
      "Parameter containing:\n",
      "tensor([[-1.6223,  0.9778,  0.1719, -0.2158,  0.4153, -0.0061,  4.1966, -0.0424],\n",
      "        [ 1.7374, -0.5183, -0.2335, -1.5862, -0.3850,  5.5138,  0.2704, -1.3961]],\n",
      "       requires_grad=True)\n",
      "Parameter containing:\n",
      "tensor([[ 0.6323,  0.9245,  0.3157,  0.8943, -0.2186,  0.2839,  0.8290, -0.1713],\n",
      "        [ 1.0127, -0.2411,  0.8247, -0.0749,  0.3544,  1.1609,  0.2465, -0.0639]],\n",
      "       requires_grad=True)\n",
      "acc  0 0.39146196842193604\n",
      "acc  1 1.0406301021575928\n",
      "acc  2 0.831200897693634\n",
      "acc  3 0.776327908039093\n",
      "0.759905219078064 31\n"
     ]
    },
    {
     "data": {
      "application/vnd.jupyter.widget-view+json": {
       "model_id": "9b7aa75bdc1343399cda66e5612c10d3",
       "version_major": 2,
       "version_minor": 0
      },
      "text/plain": [
       "  0%|          | 0/1000 [00:00<?, ?it/s]"
      ]
     },
     "metadata": {},
     "output_type": "display_data"
    },
    {
     "data": {
      "application/vnd.jupyter.widget-view+json": {
       "model_id": "aab8bcb71fa84a50b8af370dd3a7b542",
       "version_major": 2,
       "version_minor": 0
      },
      "text/plain": [
       "  0%|          | 0/1000 [00:00<?, ?it/s]"
      ]
     },
     "metadata": {},
     "output_type": "display_data"
    },
    {
     "name": "stdout",
     "output_type": "stream",
     "text": [
      "tensor([0, 1])\n",
      "tensor([0, 3])\n",
      "tensor([3, 7])\n",
      "tensor([5, 7])\n",
      "Parameter containing:\n",
      "tensor([[ 1.2627,  0.0245,  0.4373, -0.1483,  0.1679, -0.0251,  0.2601,  0.6308],\n",
      "        [ 0.8063,  1.0915,  0.0631,  0.4726,  0.5180,  0.9623,  0.4325,  0.3626]],\n",
      "       requires_grad=True)\n",
      "Parameter containing:\n",
      "tensor([[ 1.8734, -0.8455, -0.1554,  0.5251,  0.8606,  0.5399, -0.6509,  1.1465],\n",
      "        [-0.0115, -1.3008, -0.7578,  2.2250,  1.0174,  0.9593,  0.7285,  0.0326]],\n",
      "       requires_grad=True)\n",
      "Parameter containing:\n",
      "tensor([[-1.8014e-01,  1.1205e-01,  8.0747e-02,  1.2151e+00,  9.3750e-01,\n",
      "          1.2002e+00,  1.5628e-01,  5.8948e-01],\n",
      "        [ 9.6928e-01, -3.2941e-01,  5.3133e-02,  4.2771e-01,  4.2560e-01,\n",
      "          4.6407e-04,  3.3750e-01,  1.0463e+00]], requires_grad=True)\n",
      "Parameter containing:\n",
      "tensor([[ 0.1069,  0.8209,  0.5205,  0.6430,  0.7939,  0.9642,  0.5358,  0.2061],\n",
      "        [-0.0190,  0.6353,  0.0874,  0.0150,  0.2060,  0.4796,  0.6828,  1.1019]],\n",
      "       requires_grad=True)\n",
      "acc  0 1.116410732269287\n",
      "acc  1 0.970798671245575\n",
      "acc  2 0.5502247214317322\n",
      "acc  3 0.7347181439399719\n",
      "0.8430380672216415 30\n"
     ]
    },
    {
     "data": {
      "application/vnd.jupyter.widget-view+json": {
       "model_id": "b04a88c781d545a9abf96708801512bc",
       "version_major": 2,
       "version_minor": 0
      },
      "text/plain": [
       "  0%|          | 0/1000 [00:00<?, ?it/s]"
      ]
     },
     "metadata": {},
     "output_type": "display_data"
    },
    {
     "data": {
      "application/vnd.jupyter.widget-view+json": {
       "model_id": "4ccce6ecdd314d539bb9320f7eaecb07",
       "version_major": 2,
       "version_minor": 0
      },
      "text/plain": [
       "  0%|          | 0/1000 [00:00<?, ?it/s]"
      ]
     },
     "metadata": {},
     "output_type": "display_data"
    },
    {
     "name": "stdout",
     "output_type": "stream",
     "text": [
      "tensor([2, 7])\n",
      "tensor([5, 2])\n",
      "tensor([0, 3])\n",
      "tensor([7, 7])\n",
      "Parameter containing:\n",
      "tensor([[ 0.2100,  0.1836,  2.4215,  0.0933,  0.4535,  0.0198,  1.3696,  0.1021],\n",
      "        [-0.4381,  0.3132,  0.4946, -0.0894,  0.8845,  1.0346, -0.3348,  1.6642]],\n",
      "       requires_grad=True)\n",
      "Parameter containing:\n",
      "tensor([[ 0.7035,  0.2833,  0.4733,  1.0320,  0.8379,  1.2230, -0.2883,  0.7153],\n",
      "        [-0.6201, -0.0549,  3.5308,  0.2791,  0.2415,  0.1453, -0.2805, -0.0659]],\n",
      "       requires_grad=True)\n",
      "Parameter containing:\n",
      "tensor([[ 1.5346, -0.0355,  0.2916,  1.3915,  0.0954,  0.2126, -0.2197,  0.7068],\n",
      "        [ 0.0309,  0.2114,  0.8225,  1.3598,  0.4865, -0.2999,  0.7572,  0.1287]],\n",
      "       requires_grad=True)\n",
      "Parameter containing:\n",
      "tensor([[0.0661, 0.7491, 0.5592, 0.0015, 0.6021, 0.7511, 0.5659, 0.7770],\n",
      "        [0.7272, 0.6324, 0.7417, 0.8275, 0.5162, 0.0871, 0.2628, 1.0553]],\n",
      "       requires_grad=True)\n",
      "acc  0 1.3361589908599854\n",
      "acc  1 0.4064284861087799\n",
      "acc  2 0.9734498262405396\n",
      "acc  3 1.4142416715621948\n",
      "1.032569743692875 31\n"
     ]
    },
    {
     "data": {
      "application/vnd.jupyter.widget-view+json": {
       "model_id": "fc8945216cfd48e4a009433f308bfbe1",
       "version_major": 2,
       "version_minor": 0
      },
      "text/plain": [
       "  0%|          | 0/1000 [00:00<?, ?it/s]"
      ]
     },
     "metadata": {},
     "output_type": "display_data"
    },
    {
     "data": {
      "application/vnd.jupyter.widget-view+json": {
       "model_id": "15c1510b00654e629725122ba0788da1",
       "version_major": 2,
       "version_minor": 0
      },
      "text/plain": [
       "  0%|          | 0/1000 [00:00<?, ?it/s]"
      ]
     },
     "metadata": {},
     "output_type": "display_data"
    },
    {
     "name": "stdout",
     "output_type": "stream",
     "text": [
      "tensor([1, 4])\n",
      "tensor([6, 2])\n",
      "tensor([6, 1])\n",
      "tensor([1, 4])\n",
      "Parameter containing:\n",
      "tensor([[0.8580, 0.9206, 0.4897, 0.4962, 0.9017, 0.6963, 0.3344, 0.8269],\n",
      "        [0.0553, 0.6003, 0.7448, 0.1871, 1.0604, 0.9077, 0.9097, 0.2689]],\n",
      "       requires_grad=True)\n",
      "Parameter containing:\n",
      "tensor([[0.8391, 0.3177, 0.5758, 0.5446, 0.9349, 0.6177, 0.9828, 0.7695],\n",
      "        [0.5814, 0.3863, 1.0438, 0.8477, 0.8275, 0.0764, 0.3229, 0.0836]],\n",
      "       requires_grad=True)\n",
      "Parameter containing:\n",
      "tensor([[-0.2327, -0.4229,  0.8007, -0.4819,  0.8083,  0.3346,  1.6770,  0.8986],\n",
      "        [-0.5453,  1.2548,  0.2279,  0.8667, -0.0719,  0.7542,  0.6661,  0.3324]],\n",
      "       requires_grad=True)\n",
      "Parameter containing:\n",
      "tensor([[ 0.3993,  1.7997, -0.2388,  0.0928,  1.2875,  0.3739,  0.1521, -0.0199],\n",
      "        [-1.3384,  0.9728,  0.4933,  1.0636,  1.1402,  0.6117,  0.5337,  0.6096]],\n",
      "       requires_grad=True)\n",
      "acc  0 2.2466623783111572\n",
      "acc  1 1.77135169506073\n",
      "acc  2 1.1275832653045654\n",
      "acc  3 2.067800283432007\n",
      "1.8033494055271149 29\n"
     ]
    },
    {
     "data": {
      "application/vnd.jupyter.widget-view+json": {
       "model_id": "74355fbb5f664a7fae655807f65bfb8b",
       "version_major": 2,
       "version_minor": 0
      },
      "text/plain": [
       "  0%|          | 0/1000 [00:00<?, ?it/s]"
      ]
     },
     "metadata": {},
     "output_type": "display_data"
    },
    {
     "data": {
      "application/vnd.jupyter.widget-view+json": {
       "model_id": "1d0b959431224e4f94019f0ebadcf947",
       "version_major": 2,
       "version_minor": 0
      },
      "text/plain": [
       "  0%|          | 0/1000 [00:00<?, ?it/s]"
      ]
     },
     "metadata": {},
     "output_type": "display_data"
    },
    {
     "name": "stdout",
     "output_type": "stream",
     "text": [
      "tensor([1, 0])\n",
      "tensor([5, 7])\n",
      "tensor([1, 7])\n",
      "tensor([1, 5])\n",
      "Parameter containing:\n",
      "tensor([[ 0.8047,  1.0385,  0.6500,  0.4039,  0.0921,  0.6533,  0.1443,  0.5564],\n",
      "        [ 1.0633,  0.9068, -0.1667,  0.4499,  0.5962,  0.3654,  0.7051,  0.5932]],\n",
      "       requires_grad=True)\n",
      "Parameter containing:\n",
      "tensor([[0.5478, 0.2578, 0.0655, 0.2404, 0.3230, 0.7195, 0.6436, 0.3939],\n",
      "        [0.0977, 0.4684, 0.9973, 0.7939, 0.0539, 0.3606, 0.5751, 1.0167]],\n",
      "       requires_grad=True)\n",
      "Parameter containing:\n",
      "tensor([[ 0.3762,  1.2155,  0.9190,  0.8421,  0.5532,  0.1389, -0.1492,  0.2805],\n",
      "        [ 0.1811,  0.5262, -0.4002, -0.7612, -0.2783,  0.2537,  1.6193,  2.3942]],\n",
      "       requires_grad=True)\n",
      "Parameter containing:\n",
      "tensor([[ 0.2676,  1.4316,  0.9252,  0.5690,  1.0165, -0.2175,  0.2965,  0.7243],\n",
      "        [ 0.6273,  0.1068,  0.0224, -0.2073, -0.1216,  1.2029,  0.1660,  1.0592]],\n",
      "       requires_grad=True)\n",
      "acc  0 0.7885494232177734\n",
      "acc  1 1.0695421695709229\n",
      "acc  2 0.9305670857429504\n",
      "acc  3 0.23970864713191986\n",
      "0.7570918314158916 29\n"
     ]
    },
    {
     "data": {
      "application/vnd.jupyter.widget-view+json": {
       "model_id": "8647db0f34094af78ec9de41dc60bd65",
       "version_major": 2,
       "version_minor": 0
      },
      "text/plain": [
       "  0%|          | 0/1000 [00:00<?, ?it/s]"
      ]
     },
     "metadata": {},
     "output_type": "display_data"
    },
    {
     "data": {
      "application/vnd.jupyter.widget-view+json": {
       "model_id": "6e6961741fd14e13a53457edb5b95349",
       "version_major": 2,
       "version_minor": 0
      },
      "text/plain": [
       "  0%|          | 0/1000 [00:00<?, ?it/s]"
      ]
     },
     "metadata": {},
     "output_type": "display_data"
    },
    {
     "name": "stdout",
     "output_type": "stream",
     "text": [
      "tensor([2, 6])\n",
      "tensor([5, 7])\n",
      "tensor([1, 6])\n",
      "tensor([4, 2])\n",
      "Parameter containing:\n",
      "tensor([[0.4563, 0.5923, 1.3837, 0.5028, 0.2063, 0.8274, 0.6467, 0.5544],\n",
      "        [0.2023, 0.4727, 0.1195, 0.3257, 0.2501, 0.5462, 0.7141, 0.6572]],\n",
      "       requires_grad=True)\n",
      "Parameter containing:\n",
      "tensor([[ 0.9414,  0.4138,  0.6195, -0.0282,  0.1474,  1.0250,  0.6468,  0.9172],\n",
      "        [ 0.6382,  0.5315,  0.1305,  0.1893,  0.8979,  0.1849,  0.0097,  1.3200]],\n",
      "       requires_grad=True)\n",
      "Parameter containing:\n",
      "tensor([[0.2960, 0.8623, 0.6365, 0.5273, 0.4076, 0.1048, 0.2310, 0.2833],\n",
      "        [0.7641, 0.8134, 0.0289, 0.5114, 0.8094, 0.0055, 1.0998, 1.0192]],\n",
      "       requires_grad=True)\n",
      "Parameter containing:\n",
      "tensor([[ 0.4269,  0.5669,  0.2795,  1.0108,  1.2103,  0.3449,  0.3913,  0.1176],\n",
      "        [-0.2433,  0.9227,  1.0390,  0.7462,  0.9842,  0.3257,  0.1570, -0.1377]],\n",
      "       requires_grad=True)\n",
      "acc  0 0.3562493920326233\n",
      "acc  1 0.9273929595947266\n",
      "acc  2 0.4374839663505554\n",
      "acc  3 0.9296382665634155\n",
      "0.6626911461353302 31\n"
     ]
    },
    {
     "data": {
      "application/vnd.jupyter.widget-view+json": {
       "model_id": "958342c1dc97470bb35fd2649ab70472",
       "version_major": 2,
       "version_minor": 0
      },
      "text/plain": [
       "  0%|          | 0/1000 [00:00<?, ?it/s]"
      ]
     },
     "metadata": {},
     "output_type": "display_data"
    },
    {
     "data": {
      "application/vnd.jupyter.widget-view+json": {
       "model_id": "0fb7adfd99544932943967a8be5bd04f",
       "version_major": 2,
       "version_minor": 0
      },
      "text/plain": [
       "  0%|          | 0/1000 [00:00<?, ?it/s]"
      ]
     },
     "metadata": {},
     "output_type": "display_data"
    },
    {
     "name": "stdout",
     "output_type": "stream",
     "text": [
      "tensor([4, 0])\n",
      "tensor([5, 7])\n",
      "tensor([7, 3])\n",
      "tensor([1, 1])\n",
      "Parameter containing:\n",
      "tensor([[ 1.3556,  0.2114,  1.5177,  1.1082,  1.5559, -0.1840, -0.5336,  0.2582],\n",
      "        [ 1.4241,  0.2421, -0.2168, -0.7572,  1.3166,  0.4726,  0.6721,  1.1009]],\n",
      "       requires_grad=True)\n",
      "Parameter containing:\n",
      "tensor([[0.6027, 0.2450, 0.2504, 0.2127, 0.0436, 1.3184, 0.5701, 0.6521],\n",
      "        [0.1868, 0.2772, 0.2266, 0.2370, 0.4608, 0.5876, 0.1561, 0.7405]],\n",
      "       requires_grad=True)\n",
      "Parameter containing:\n",
      "tensor([[ 0.2321, -0.4328,  0.0103,  0.9342,  0.6629,  1.0450,  0.1768,  1.6037],\n",
      "        [ 0.5551, -0.4034, -0.1532,  2.9380,  0.7805, -0.4935, -0.0629,  0.4820]],\n",
      "       requires_grad=True)\n",
      "Parameter containing:\n",
      "tensor([[ 0.8273,  0.9721,  0.9495,  0.6411,  0.5523, -0.0315,  0.1231,  0.3316],\n",
      "        [ 0.6004,  1.0886,  0.4876,  0.0696,  0.2957,  0.1446,  0.3549,  1.0629]],\n",
      "       requires_grad=True)\n",
      "acc  0 0.8942652344703674\n",
      "acc  1 1.337422490119934\n",
      "acc  2 0.7198253870010376\n",
      "acc  3 0.5840367078781128\n",
      "0.883887454867363 40\n"
     ]
    },
    {
     "data": {
      "application/vnd.jupyter.widget-view+json": {
       "model_id": "4e5d19d84a964eeaa4b4f871a4249c86",
       "version_major": 2,
       "version_minor": 0
      },
      "text/plain": [
       "  0%|          | 0/1000 [00:00<?, ?it/s]"
      ]
     },
     "metadata": {},
     "output_type": "display_data"
    },
    {
     "data": {
      "application/vnd.jupyter.widget-view+json": {
       "model_id": "1b0ade2e67db40b2a787a75edcb56892",
       "version_major": 2,
       "version_minor": 0
      },
      "text/plain": [
       "  0%|          | 0/1000 [00:00<?, ?it/s]"
      ]
     },
     "metadata": {},
     "output_type": "display_data"
    },
    {
     "name": "stdout",
     "output_type": "stream",
     "text": [
      "tensor([0, 6])\n",
      "tensor([0, 2])\n",
      "tensor([2, 5])\n",
      "tensor([4, 6])\n",
      "Parameter containing:\n",
      "tensor([[ 2.2019,  0.1120, -0.0951,  1.0955, -0.0063,  0.3513,  0.3373,  0.7613],\n",
      "        [ 0.8981, -0.1264,  0.3366,  0.7984,  0.3376,  0.2634,  1.1949,  0.3123]],\n",
      "       requires_grad=True)\n",
      "Parameter containing:\n",
      "tensor([[ 1.0191,  0.2301,  0.0973,  0.7324,  0.3044,  0.0319, -0.2573,  0.6002],\n",
      "        [ 0.7933,  0.3564,  1.3646,  0.2083,  0.6300,  0.3217,  1.2450, -0.3646]],\n",
      "       requires_grad=True)\n",
      "Parameter containing:\n",
      "tensor([[ 0.6245,  0.0763,  1.1500,  0.5462,  1.0161,  0.2151,  0.1567,  0.7731],\n",
      "        [ 0.0888,  0.2718,  0.6740,  0.8580,  0.2830,  0.9388,  0.1378, -0.0647]],\n",
      "       requires_grad=True)\n",
      "Parameter containing:\n",
      "tensor([[ 0.4373,  1.1346,  0.8422, -1.1053,  2.8092,  0.8592,  0.2348, -0.4731],\n",
      "        [-0.1103,  0.4317,  1.5163, -0.0090, -0.2126, -0.0096,  3.3646, -0.3509]],\n",
      "       requires_grad=True)\n",
      "acc  0 0.9529158473014832\n",
      "acc  1 0.9145887494087219\n",
      "acc  2 1.255550503730774\n",
      "acc  3 1.213818907737732\n",
      "1.0842185020446777 30\n"
     ]
    },
    {
     "data": {
      "application/vnd.jupyter.widget-view+json": {
       "model_id": "ebe16a318f374e909e6e1ba335e417ea",
       "version_major": 2,
       "version_minor": 0
      },
      "text/plain": [
       "  0%|          | 0/1000 [00:00<?, ?it/s]"
      ]
     },
     "metadata": {},
     "output_type": "display_data"
    },
    {
     "data": {
      "application/vnd.jupyter.widget-view+json": {
       "model_id": "9392888b6e9a43ab94154646a30150cc",
       "version_major": 2,
       "version_minor": 0
      },
      "text/plain": [
       "  0%|          | 0/1000 [00:00<?, ?it/s]"
      ]
     },
     "metadata": {},
     "output_type": "display_data"
    },
    {
     "name": "stdout",
     "output_type": "stream",
     "text": [
      "tensor([1, 0])\n",
      "tensor([2, 0])\n",
      "tensor([2, 3])\n",
      "tensor([6, 7])\n",
      "Parameter containing:\n",
      "tensor([[-1.0295,  2.7196,  0.6525,  0.5899, -0.2552,  0.8208, -0.6152,  0.5913],\n",
      "        [ 6.5489, -1.6252, -0.0675, -0.2862, -0.3331, -0.1297, -1.4357,  1.8322]],\n",
      "       requires_grad=True)\n",
      "Parameter containing:\n",
      "tensor([[-0.6323, -0.4557,  5.2662, -0.3947, -1.4202,  0.0536,  0.0923,  0.2271],\n",
      "        [ 6.7822, -1.5628, -0.7380, -0.4081,  0.0580, -0.2927, -1.1746,  1.1337]],\n",
      "       requires_grad=True)\n",
      "Parameter containing:\n",
      "tensor([[0.6302, 0.6251, 0.7992, 0.5442, 0.4649, 0.1639, 0.1433, 0.2716],\n",
      "        [0.5804, 0.4097, 0.4175, 1.2014, 0.0288, 0.5231, 1.0943, 0.2684]],\n",
      "       requires_grad=True)\n",
      "Parameter containing:\n",
      "tensor([[ 2.0071,  0.3782,  0.6437,  0.2089,  1.0907, -0.7500,  2.3633, -0.6821],\n",
      "        [ 1.4746, -0.6506,  0.3131,  0.1674, -0.3885,  0.0666,  0.0105,  4.4008]],\n",
      "       requires_grad=True)\n",
      "acc  0 0.7552705407142639\n",
      "acc  1 0.4498365819454193\n",
      "acc  2 0.45829370617866516\n",
      "acc  3 0.8925036191940308\n",
      "0.6389761120080948 30\n"
     ]
    },
    {
     "data": {
      "application/vnd.jupyter.widget-view+json": {
       "model_id": "0e8cc7467d00400c921b26bea372e195",
       "version_major": 2,
       "version_minor": 0
      },
      "text/plain": [
       "  0%|          | 0/1000 [00:00<?, ?it/s]"
      ]
     },
     "metadata": {},
     "output_type": "display_data"
    },
    {
     "data": {
      "application/vnd.jupyter.widget-view+json": {
       "model_id": "de1d320a8d564905ae0f3c99755de8ea",
       "version_major": 2,
       "version_minor": 0
      },
      "text/plain": [
       "  0%|          | 0/1000 [00:00<?, ?it/s]"
      ]
     },
     "metadata": {},
     "output_type": "display_data"
    },
    {
     "name": "stdout",
     "output_type": "stream",
     "text": [
      "tensor([4, 6])\n",
      "tensor([3, 5])\n",
      "tensor([3, 5])\n",
      "tensor([4, 5])\n",
      "Parameter containing:\n",
      "tensor([[ 0.2343,  0.7919,  0.2796,  0.7131,  0.9496,  0.5044, -0.0714, -0.0739],\n",
      "        [ 1.2050, -0.2827,  0.2221,  0.2491,  0.2352,  0.6685,  1.7977,  0.3280]],\n",
      "       requires_grad=True)\n",
      "Parameter containing:\n",
      "tensor([[ 8.1178e-01, -2.4045e-03,  3.2757e-02,  3.0972e+00,  3.7754e-01,\n",
      "         -2.9604e-02, -1.4513e-01,  3.6326e-01],\n",
      "        [ 9.6665e-01, -7.6786e-01, -3.2100e-01, -9.1920e-01,  4.8779e-01,\n",
      "          3.8817e+00,  2.7660e-01,  3.6253e-01]], requires_grad=True)\n",
      "Parameter containing:\n",
      "tensor([[ 0.0950,  0.4959,  0.6872,  1.6575,  0.6587,  0.1526,  0.0915,  0.1936],\n",
      "        [ 0.1351,  0.7208, -0.0376,  0.1506, -0.1468,  1.0341,  0.5214,  0.2039]],\n",
      "       requires_grad=True)\n",
      "Parameter containing:\n",
      "tensor([[-0.0408,  1.7506, -0.1001, -1.8291,  3.4121, -0.6837,  1.6126,  0.1120],\n",
      "        [ 0.2178,  0.0777,  1.1277, -0.9984, -1.1056,  6.0505, -1.0531, -0.6698]],\n",
      "       requires_grad=True)\n",
      "acc  0 0.6892086863517761\n",
      "acc  1 0.7456539869308472\n",
      "acc  2 0.5609716176986694\n",
      "acc  3 0.34711524844169617\n",
      "0.5857373848557472 20\n"
     ]
    },
    {
     "data": {
      "application/vnd.jupyter.widget-view+json": {
       "model_id": "4f2c72331d9a4aa396fd0db3993f859f",
       "version_major": 2,
       "version_minor": 0
      },
      "text/plain": [
       "  0%|          | 0/1000 [00:00<?, ?it/s]"
      ]
     },
     "metadata": {},
     "output_type": "display_data"
    },
    {
     "data": {
      "application/vnd.jupyter.widget-view+json": {
       "model_id": "798e849d436048fc80140e0241310d7e",
       "version_major": 2,
       "version_minor": 0
      },
      "text/plain": [
       "  0%|          | 0/1000 [00:00<?, ?it/s]"
      ]
     },
     "metadata": {},
     "output_type": "display_data"
    },
    {
     "name": "stdout",
     "output_type": "stream",
     "text": [
      "tensor([4, 3])\n",
      "tensor([7, 7])\n",
      "tensor([3, 6])\n",
      "tensor([3, 1])\n",
      "Parameter containing:\n",
      "tensor([[0.4240, 0.8136, 0.2750, 0.1600, 1.2331, 0.7763, 0.5934, 0.8450],\n",
      "        [0.8461, 0.9785, 0.1377, 1.1523, 0.4747, 0.1008, 0.1886, 0.6523]],\n",
      "       requires_grad=True)\n",
      "Parameter containing:\n",
      "tensor([[ 0.6962,  0.7074, -0.0389,  0.3060,  0.4063,  0.3491,  0.0019,  1.2549],\n",
      "        [ 0.1424, -0.5705,  0.2477, -0.0716,  0.1825,  1.0102,  0.8230,  1.0891]],\n",
      "       requires_grad=True)\n",
      "Parameter containing:\n",
      "tensor([[ 0.1720,  0.4988,  0.1600,  0.8206,  0.7217,  0.3942,  0.3659,  0.2931],\n",
      "        [ 0.2831,  0.3543,  0.8266,  0.6400,  0.8702, -0.7421,  1.4889,  0.4802]],\n",
      "       requires_grad=True)\n",
      "Parameter containing:\n",
      "tensor([[-0.2116,  0.1916, -0.1123,  1.4819,  1.4389, -0.1534,  1.4348, -0.3661],\n",
      "        [ 1.3549,  1.6405, -0.6020, -0.2147, -0.6134,  0.6579, -0.1150,  0.6301]],\n",
      "       requires_grad=True)\n",
      "acc  0 1.2807435989379883\n",
      "acc  1 1.034312129020691\n",
      "acc  2 0.6385258436203003\n",
      "acc  3 0.6949825286865234\n",
      "0.9121410250663757 39\n"
     ]
    },
    {
     "data": {
      "application/vnd.jupyter.widget-view+json": {
       "model_id": "d2afaafb98434cfa94f5323a172dad62",
       "version_major": 2,
       "version_minor": 0
      },
      "text/plain": [
       "  0%|          | 0/1000 [00:00<?, ?it/s]"
      ]
     },
     "metadata": {},
     "output_type": "display_data"
    },
    {
     "data": {
      "application/vnd.jupyter.widget-view+json": {
       "model_id": "f032e8f68e8f4b15a96f906ba8ccb7fc",
       "version_major": 2,
       "version_minor": 0
      },
      "text/plain": [
       "  0%|          | 0/1000 [00:00<?, ?it/s]"
      ]
     },
     "metadata": {},
     "output_type": "display_data"
    },
    {
     "name": "stdout",
     "output_type": "stream",
     "text": [
      "tensor([4, 3])\n",
      "tensor([3, 0])\n",
      "tensor([7, 2])\n",
      "tensor([2, 5])\n",
      "Parameter containing:\n",
      "tensor([[ 0.1067,  0.2885,  0.7378,  0.2928,  1.0190,  0.5048,  0.6174,  0.7038],\n",
      "        [ 0.2220,  0.3623,  0.9824,  1.1735, -0.3524,  0.2470,  0.7927,  0.5522]],\n",
      "       requires_grad=True)\n",
      "Parameter containing:\n",
      "tensor([[0.8528, 0.0893, 0.1744, 1.0110, 0.2851, 0.6588, 0.8447, 0.6600],\n",
      "        [0.7796, 0.3680, 0.1076, 0.0693, 0.4302, 0.2653, 0.2448, 0.6005]],\n",
      "       requires_grad=True)\n",
      "Parameter containing:\n",
      "tensor([[ 0.0316,  0.6974,  0.2515,  0.2455, -0.8037,  1.6938, -0.3531,  2.4543],\n",
      "        [ 0.0691, -0.1780,  1.8285,  0.9487,  0.3434,  0.7392,  0.8259,  1.4141]],\n",
      "       requires_grad=True)\n",
      "Parameter containing:\n",
      "tensor([[-0.2518,  0.1528,  2.4803, -0.2280, -0.1724,  1.3135,  0.1731,  0.2050],\n",
      "        [-0.3929, -1.2180,  1.1780,  0.5724,  1.1811,  1.5087,  0.5006, -0.4990]],\n",
      "       requires_grad=True)\n",
      "acc  0 1.793028712272644\n",
      "acc  1 0.5049993991851807\n",
      "acc  2 1.1479054689407349\n",
      "acc  3 0.463774710893631\n",
      "0.9774270728230476 40\n"
     ]
    },
    {
     "data": {
      "application/vnd.jupyter.widget-view+json": {
       "model_id": "12682cd1b69f4f6aa8468677d4862037",
       "version_major": 2,
       "version_minor": 0
      },
      "text/plain": [
       "  0%|          | 0/1000 [00:00<?, ?it/s]"
      ]
     },
     "metadata": {},
     "output_type": "display_data"
    },
    {
     "data": {
      "application/vnd.jupyter.widget-view+json": {
       "model_id": "def247cca7944b7d9f586ffb2180dbd1",
       "version_major": 2,
       "version_minor": 0
      },
      "text/plain": [
       "  0%|          | 0/1000 [00:00<?, ?it/s]"
      ]
     },
     "metadata": {},
     "output_type": "display_data"
    },
    {
     "name": "stdout",
     "output_type": "stream",
     "text": [
      "tensor([6, 2])\n",
      "tensor([1, 7])\n",
      "tensor([2, 5])\n",
      "tensor([7, 6])\n",
      "Parameter containing:\n",
      "tensor([[0.1139, 0.8137, 0.4118, 0.6686, 0.5169, 0.8629, 0.9500, 0.7859],\n",
      "        [0.0606, 0.5180, 1.3921, 0.7091, 0.3683, 0.3627, 0.1658, 0.2416]],\n",
      "       requires_grad=True)\n",
      "Parameter containing:\n",
      "tensor([[ 0.5091,  2.0115,  0.0315,  0.7188, -0.0819,  0.3521,  0.6578,  0.0666],\n",
      "        [ 0.3096,  0.7953,  0.7739,  0.4762,  0.9086,  0.0178,  0.2515,  1.5301]],\n",
      "       requires_grad=True)\n",
      "Parameter containing:\n",
      "tensor([[ 0.9125,  0.6101,  1.1920,  0.0837,  0.0559,  0.7823,  0.1593,  1.0060],\n",
      "        [ 0.4031,  0.3755,  0.1208,  0.0274,  0.5836,  1.1496, -0.1402,  0.8077]],\n",
      "       requires_grad=True)\n",
      "Parameter containing:\n",
      "tensor([[0.4559, 0.4497, 0.4417, 0.2019, 0.2386, 0.1871, 0.1759, 0.7937],\n",
      "        [0.8111, 0.7355, 0.5442, 0.1494, 0.6445, 0.2975, 0.9739, 0.6189]],\n",
      "       requires_grad=True)\n",
      "acc  0 1.9382646083831787\n",
      "acc  1 0.7755471467971802\n",
      "acc  2 0.43928107619285583\n",
      "acc  3 0.900898277759552\n",
      "1.0134977772831917 40\n",
      "[Parameter containing:\n",
      "tensor([[0.1139, 0.8137, 0.4118, 0.6686, 0.5169, 0.8629, 0.9500, 0.7859],\n",
      "        [0.0606, 0.5180, 1.3921, 0.7091, 0.3683, 0.3627, 0.1658, 0.2416]],\n",
      "       requires_grad=True), Parameter containing:\n",
      "tensor([[ 0.5091,  2.0115,  0.0315,  0.7188, -0.0819,  0.3521,  0.6578,  0.0666],\n",
      "        [ 0.3096,  0.7953,  0.7739,  0.4762,  0.9086,  0.0178,  0.2515,  1.5301]],\n",
      "       requires_grad=True), Parameter containing:\n",
      "tensor([[ 0.9125,  0.6101,  1.1920,  0.0837,  0.0559,  0.7823,  0.1593,  1.0060],\n",
      "        [ 0.4031,  0.3755,  0.1208,  0.0274,  0.5836,  1.1496, -0.1402,  0.8077]],\n",
      "       requires_grad=True), Parameter containing:\n",
      "tensor([[0.4559, 0.4497, 0.4417, 0.2019, 0.2386, 0.1871, 0.1759, 0.7937],\n",
      "        [0.8111, 0.7355, 0.5442, 0.1494, 0.6445, 0.2975, 0.9739, 0.6189]],\n",
      "       requires_grad=True)]\n",
      "Parameter containing:\n",
      "tensor([-6.4119], requires_grad=True)\n",
      "Parameter containing:\n",
      "tensor([128.3727], requires_grad=True)\n",
      "Parameter containing:\n",
      "tensor([57.0221], requires_grad=True)\n",
      "Parameter containing:\n",
      "tensor([19.5466], requires_grad=True)\n",
      "Parameter containing:\n",
      "tensor([19.8118], requires_grad=True)\n",
      "Parameter containing:\n",
      "tensor([58.3094], requires_grad=True)\n",
      "Parameter containing:\n",
      "tensor([-57.2205], requires_grad=True)\n",
      "Parameter containing:\n",
      "tensor([46.0202], requires_grad=True)\n"
     ]
    }
   ],
   "source": [
    "# no reg\n",
    "for D in [2,3,4]:\n",
    "    for HEAD_NUM in [D, 8]:\n",
    "        dartslike('darts', 0.0, 0.0)\n"
   ]
  },
  {
   "cell_type": "code",
   "execution_count": 13,
   "id": "f7094286",
   "metadata": {},
   "outputs": [
    {
     "name": "stderr",
     "output_type": "stream",
     "text": [
      "<ipython-input-11-7736bc93d887>:35: TqdmDeprecationWarning: This function will be removed in tqdm==5.0.0\n",
      "Please use `tqdm.notebook.tqdm` instead of `tqdm.tqdm_notebook`\n",
      "  tq = tqdm.tqdm_notebook(range(EPOCH_NUM )) # taking half of epoch num for NAS\n"
     ]
    },
    {
     "data": {
      "application/vnd.jupyter.widget-view+json": {
       "model_id": "4de578d7d9d24c56b8581eb684915c47",
       "version_major": 2,
       "version_minor": 0
      },
      "text/plain": [
       "  0%|          | 0/1000 [00:00<?, ?it/s]"
      ]
     },
     "metadata": {},
     "output_type": "display_data"
    },
    {
     "name": "stderr",
     "output_type": "stream",
     "text": [
      "<ipython-input-11-7736bc93d887>:120: TqdmDeprecationWarning: This function will be removed in tqdm==5.0.0\n",
      "Please use `tqdm.notebook.tqdm` instead of `tqdm.tqdm_notebook`\n",
      "  tq = tqdm.tqdm_notebook(range(EPOCH_NUM))\n"
     ]
    },
    {
     "data": {
      "application/vnd.jupyter.widget-view+json": {
       "model_id": "b0bdb578dda6441f839bc2e6c21d70b3",
       "version_major": 2,
       "version_minor": 0
      },
      "text/plain": [
       "  0%|          | 0/1000 [00:00<?, ?it/s]"
      ]
     },
     "metadata": {},
     "output_type": "display_data"
    },
    {
     "name": "stdout",
     "output_type": "stream",
     "text": [
      "tensor([0, 0])\n",
      "tensor([0, 0])\n",
      "Parameter containing:\n",
      "tensor([[1.3774, 0.4199],\n",
      "        [0.6922, 0.6499]], requires_grad=True)\n",
      "Parameter containing:\n",
      "tensor([[0.9782, 0.0131],\n",
      "        [0.5450, 0.5052]], requires_grad=True)\n",
      "acc  0 0.807583212852478\n",
      "acc  1 1.200205683708191\n",
      "1.0038944482803345 10\n"
     ]
    },
    {
     "data": {
      "application/vnd.jupyter.widget-view+json": {
       "model_id": "765fb5171f8c4001b5409748e2fdf067",
       "version_major": 2,
       "version_minor": 0
      },
      "text/plain": [
       "  0%|          | 0/1000 [00:00<?, ?it/s]"
      ]
     },
     "metadata": {},
     "output_type": "display_data"
    },
    {
     "data": {
      "application/vnd.jupyter.widget-view+json": {
       "model_id": "98c15195e64849c2a944f177d41b9768",
       "version_major": 2,
       "version_minor": 0
      },
      "text/plain": [
       "  0%|          | 0/1000 [00:00<?, ?it/s]"
      ]
     },
     "metadata": {},
     "output_type": "display_data"
    },
    {
     "name": "stdout",
     "output_type": "stream",
     "text": [
      "tensor([0, 1])\n",
      "tensor([0, 1])\n",
      "Parameter containing:\n",
      "tensor([[0.4215, 0.2290],\n",
      "        [0.4389, 0.8283]], requires_grad=True)\n",
      "Parameter containing:\n",
      "tensor([[0.2019, 0.0320],\n",
      "        [0.1326, 0.5243]], requires_grad=True)\n",
      "acc  0 0.7397341132164001\n",
      "acc  1 1.358829140663147\n",
      "1.0492816269397736 10\n"
     ]
    },
    {
     "data": {
      "application/vnd.jupyter.widget-view+json": {
       "model_id": "9c3f9d53dad247868181c8677dd8a195",
       "version_major": 2,
       "version_minor": 0
      },
      "text/plain": [
       "  0%|          | 0/1000 [00:00<?, ?it/s]"
      ]
     },
     "metadata": {},
     "output_type": "display_data"
    },
    {
     "data": {
      "application/vnd.jupyter.widget-view+json": {
       "model_id": "1acfedaf3e0247bbab2fa2662cc52b7b",
       "version_major": 2,
       "version_minor": 0
      },
      "text/plain": [
       "  0%|          | 0/1000 [00:00<?, ?it/s]"
      ]
     },
     "metadata": {},
     "output_type": "display_data"
    },
    {
     "name": "stdout",
     "output_type": "stream",
     "text": [
      "tensor([0, 1])\n",
      "tensor([0, 1])\n",
      "Parameter containing:\n",
      "tensor([[ 0.8407,  0.6096],\n",
      "        [-0.3321,  1.2942]], requires_grad=True)\n",
      "Parameter containing:\n",
      "tensor([[ 0.8063,  0.5514],\n",
      "        [-0.5673,  1.0667]], requires_grad=True)\n",
      "acc  0 1.5781514644622803\n",
      "acc  1 1.1657382249832153\n",
      "1.3719448447227478 10\n"
     ]
    },
    {
     "data": {
      "application/vnd.jupyter.widget-view+json": {
       "model_id": "bb303130c24b42cea72a54f8f530341d",
       "version_major": 2,
       "version_minor": 0
      },
      "text/plain": [
       "  0%|          | 0/1000 [00:00<?, ?it/s]"
      ]
     },
     "metadata": {},
     "output_type": "display_data"
    },
    {
     "data": {
      "application/vnd.jupyter.widget-view+json": {
       "model_id": "096c9227e9344bffb8b15239b0bf0cdf",
       "version_major": 2,
       "version_minor": 0
      },
      "text/plain": [
       "  0%|          | 0/1000 [00:00<?, ?it/s]"
      ]
     },
     "metadata": {},
     "output_type": "display_data"
    },
    {
     "name": "stdout",
     "output_type": "stream",
     "text": [
      "tensor([1, 0])\n",
      "tensor([1, 0])\n",
      "Parameter containing:\n",
      "tensor([[0.4327, 0.7155],\n",
      "        [1.4897, 0.0925]], requires_grad=True)\n",
      "Parameter containing:\n",
      "tensor([[ 0.1674,  0.4385],\n",
      "        [ 1.1267, -0.2839]], requires_grad=True)\n",
      "acc  0 1.475835919380188\n",
      "acc  1 1.748286485671997\n",
      "1.6120612025260925 10\n"
     ]
    },
    {
     "data": {
      "application/vnd.jupyter.widget-view+json": {
       "model_id": "128e180d2f26420fae2051b8eb387412",
       "version_major": 2,
       "version_minor": 0
      },
      "text/plain": [
       "  0%|          | 0/1000 [00:00<?, ?it/s]"
      ]
     },
     "metadata": {},
     "output_type": "display_data"
    },
    {
     "data": {
      "application/vnd.jupyter.widget-view+json": {
       "model_id": "bc94c2ac8de84cf78b93b619cbd94685",
       "version_major": 2,
       "version_minor": 0
      },
      "text/plain": [
       "  0%|          | 0/1000 [00:00<?, ?it/s]"
      ]
     },
     "metadata": {},
     "output_type": "display_data"
    },
    {
     "name": "stdout",
     "output_type": "stream",
     "text": [
      "tensor([0, 0])\n",
      "tensor([0, 0])\n",
      "Parameter containing:\n",
      "tensor([[ 1.7824, -1.0613],\n",
      "        [ 0.9108, -0.2338]], requires_grad=True)\n",
      "Parameter containing:\n",
      "tensor([[ 2.2343, -0.6402],\n",
      "        [ 0.8422, -0.3116]], requires_grad=True)\n",
      "acc  0 1.7659430503845215\n",
      "acc  1 1.5661429166793823\n",
      "1.666042983531952 10\n"
     ]
    },
    {
     "data": {
      "application/vnd.jupyter.widget-view+json": {
       "model_id": "1c4b881c634b4a5f89758ae1bcf0b25c",
       "version_major": 2,
       "version_minor": 0
      },
      "text/plain": [
       "  0%|          | 0/1000 [00:00<?, ?it/s]"
      ]
     },
     "metadata": {},
     "output_type": "display_data"
    },
    {
     "data": {
      "application/vnd.jupyter.widget-view+json": {
       "model_id": "769130349121421ca024f40bb281d33b",
       "version_major": 2,
       "version_minor": 0
      },
      "text/plain": [
       "  0%|          | 0/1000 [00:00<?, ?it/s]"
      ]
     },
     "metadata": {},
     "output_type": "display_data"
    },
    {
     "name": "stdout",
     "output_type": "stream",
     "text": [
      "tensor([1, 0])\n",
      "tensor([1, 0])\n",
      "Parameter containing:\n",
      "tensor([[-1.4396,  1.5426],\n",
      "        [ 4.0504, -2.7070]], requires_grad=True)\n",
      "Parameter containing:\n",
      "tensor([[-0.8266,  2.1811],\n",
      "        [ 3.4725, -2.2485]], requires_grad=True)\n",
      "acc  0 1.0063658952713013\n",
      "acc  1 1.3777636289596558\n",
      "1.1920647621154785 10\n"
     ]
    },
    {
     "data": {
      "application/vnd.jupyter.widget-view+json": {
       "model_id": "7039792d19f24952b28ef218ff71c580",
       "version_major": 2,
       "version_minor": 0
      },
      "text/plain": [
       "  0%|          | 0/1000 [00:00<?, ?it/s]"
      ]
     },
     "metadata": {},
     "output_type": "display_data"
    },
    {
     "data": {
      "application/vnd.jupyter.widget-view+json": {
       "model_id": "f58f69bfe2a84f30a46d5c8557f7df3c",
       "version_major": 2,
       "version_minor": 0
      },
      "text/plain": [
       "  0%|          | 0/1000 [00:00<?, ?it/s]"
      ]
     },
     "metadata": {},
     "output_type": "display_data"
    },
    {
     "name": "stdout",
     "output_type": "stream",
     "text": [
      "tensor([1, 0])\n",
      "tensor([1, 0])\n",
      "Parameter containing:\n",
      "tensor([[ 0.1224,  0.5349],\n",
      "        [ 1.0581, -0.5987]], requires_grad=True)\n",
      "Parameter containing:\n",
      "tensor([[ 0.5599,  0.9714],\n",
      "        [ 1.4533, -0.2131]], requires_grad=True)\n",
      "acc  0 1.122082233428955\n",
      "acc  1 1.0767631530761719\n",
      "1.0994226932525635 10\n"
     ]
    },
    {
     "data": {
      "application/vnd.jupyter.widget-view+json": {
       "model_id": "2f3d812f94294df283c89c01d86cd2ea",
       "version_major": 2,
       "version_minor": 0
      },
      "text/plain": [
       "  0%|          | 0/1000 [00:00<?, ?it/s]"
      ]
     },
     "metadata": {},
     "output_type": "display_data"
    },
    {
     "data": {
      "application/vnd.jupyter.widget-view+json": {
       "model_id": "903c91f410ad47e0ab0dc774d127c2af",
       "version_major": 2,
       "version_minor": 0
      },
      "text/plain": [
       "  0%|          | 0/1000 [00:00<?, ?it/s]"
      ]
     },
     "metadata": {},
     "output_type": "display_data"
    },
    {
     "name": "stdout",
     "output_type": "stream",
     "text": [
      "tensor([1, 1])\n",
      "tensor([1, 1])\n",
      "Parameter containing:\n",
      "tensor([[-2.1652,  2.4888],\n",
      "        [-1.9415,  3.1160]], requires_grad=True)\n",
      "Parameter containing:\n",
      "tensor([[-1.9198,  2.7808],\n",
      "        [-2.3225,  2.8061]], requires_grad=True)\n",
      "acc  0 0.9870089888572693\n",
      "acc  1 1.110817313194275\n",
      "1.048913151025772 10\n"
     ]
    },
    {
     "data": {
      "application/vnd.jupyter.widget-view+json": {
       "model_id": "c32555c176564d49945963c0e48e4b0e",
       "version_major": 2,
       "version_minor": 0
      },
      "text/plain": [
       "  0%|          | 0/1000 [00:00<?, ?it/s]"
      ]
     },
     "metadata": {},
     "output_type": "display_data"
    },
    {
     "data": {
      "application/vnd.jupyter.widget-view+json": {
       "model_id": "55262ed04f844d959a383da6b904ff95",
       "version_major": 2,
       "version_minor": 0
      },
      "text/plain": [
       "  0%|          | 0/1000 [00:00<?, ?it/s]"
      ]
     },
     "metadata": {},
     "output_type": "display_data"
    },
    {
     "name": "stdout",
     "output_type": "stream",
     "text": [
      "tensor([1, 0])\n",
      "tensor([1, 0])\n",
      "Parameter containing:\n",
      "tensor([[ 0.0509,  0.6358],\n",
      "        [ 0.6614, -0.2317]], requires_grad=True)\n",
      "Parameter containing:\n",
      "tensor([[-0.0218,  0.5673],\n",
      "        [ 0.9191,  0.0290]], requires_grad=True)\n",
      "acc  0 1.2983996868133545\n",
      "acc  1 0.8057369589805603\n",
      "1.0520683228969574 10\n"
     ]
    },
    {
     "data": {
      "application/vnd.jupyter.widget-view+json": {
       "model_id": "d8cea8ed93f147d68b3b8fb64b565c8a",
       "version_major": 2,
       "version_minor": 0
      },
      "text/plain": [
       "  0%|          | 0/1000 [00:00<?, ?it/s]"
      ]
     },
     "metadata": {},
     "output_type": "display_data"
    },
    {
     "data": {
      "application/vnd.jupyter.widget-view+json": {
       "model_id": "cc7f0c2994a54e48a24c75202632a9df",
       "version_major": 2,
       "version_minor": 0
      },
      "text/plain": [
       "  0%|          | 0/1000 [00:00<?, ?it/s]"
      ]
     },
     "metadata": {},
     "output_type": "display_data"
    },
    {
     "name": "stdout",
     "output_type": "stream",
     "text": [
      "tensor([1, 0])\n",
      "tensor([1, 0])\n",
      "Parameter containing:\n",
      "tensor([[-0.3551,  2.0827],\n",
      "        [ 1.6476, -0.8457]], requires_grad=True)\n",
      "Parameter containing:\n",
      "tensor([[-0.6098,  1.8326],\n",
      "        [ 1.7968, -0.6956]], requires_grad=True)\n",
      "acc  0 1.2171478271484375\n",
      "acc  1 0.9829883575439453\n",
      "1.1000680923461914 10\n"
     ]
    },
    {
     "data": {
      "application/vnd.jupyter.widget-view+json": {
       "model_id": "c5187e0eb03740c0a7207cb5b56e32be",
       "version_major": 2,
       "version_minor": 0
      },
      "text/plain": [
       "  0%|          | 0/1000 [00:00<?, ?it/s]"
      ]
     },
     "metadata": {},
     "output_type": "display_data"
    },
    {
     "data": {
      "application/vnd.jupyter.widget-view+json": {
       "model_id": "a53c66734b3d472c84a01b80255b072d",
       "version_major": 2,
       "version_minor": 0
      },
      "text/plain": [
       "  0%|          | 0/1000 [00:00<?, ?it/s]"
      ]
     },
     "metadata": {},
     "output_type": "display_data"
    },
    {
     "name": "stdout",
     "output_type": "stream",
     "text": [
      "tensor([0, 0])\n",
      "tensor([0, 0])\n",
      "Parameter containing:\n",
      "tensor([[ 0.9583,  0.5417],\n",
      "        [ 1.3484, -0.2213]], requires_grad=True)\n",
      "Parameter containing:\n",
      "tensor([[ 1.0351,  0.6174],\n",
      "        [ 1.4211, -0.1769]], requires_grad=True)\n",
      "acc  0 1.0529048442840576\n",
      "acc  1 0.9384473562240601\n",
      "0.9956761002540588 10\n"
     ]
    },
    {
     "data": {
      "application/vnd.jupyter.widget-view+json": {
       "model_id": "ac1273eae54e4a899cd19c4230447f41",
       "version_major": 2,
       "version_minor": 0
      },
      "text/plain": [
       "  0%|          | 0/1000 [00:00<?, ?it/s]"
      ]
     },
     "metadata": {},
     "output_type": "display_data"
    },
    {
     "data": {
      "application/vnd.jupyter.widget-view+json": {
       "model_id": "cc28045affe14f26b89ec7c25a3eb532",
       "version_major": 2,
       "version_minor": 0
      },
      "text/plain": [
       "  0%|          | 0/1000 [00:00<?, ?it/s]"
      ]
     },
     "metadata": {},
     "output_type": "display_data"
    },
    {
     "name": "stdout",
     "output_type": "stream",
     "text": [
      "tensor([0, 1])\n",
      "tensor([0, 1])\n",
      "Parameter containing:\n",
      "tensor([[ 0.8907,  0.6161],\n",
      "        [-0.4333,  1.7356]], requires_grad=True)\n",
      "Parameter containing:\n",
      "tensor([[ 0.7235,  0.4250],\n",
      "        [-0.8893,  1.2748]], requires_grad=True)\n",
      "acc  0 0.7813819646835327\n",
      "acc  1 1.0783748626708984\n",
      "0.9298784136772156 10\n"
     ]
    },
    {
     "data": {
      "application/vnd.jupyter.widget-view+json": {
       "model_id": "a8ab8ae886174e6f9689e5715c8bedea",
       "version_major": 2,
       "version_minor": 0
      },
      "text/plain": [
       "  0%|          | 0/1000 [00:00<?, ?it/s]"
      ]
     },
     "metadata": {},
     "output_type": "display_data"
    },
    {
     "data": {
      "application/vnd.jupyter.widget-view+json": {
       "model_id": "aded6bca78704a1cba7e04c5e619c892",
       "version_major": 2,
       "version_minor": 0
      },
      "text/plain": [
       "  0%|          | 0/1000 [00:00<?, ?it/s]"
      ]
     },
     "metadata": {},
     "output_type": "display_data"
    },
    {
     "name": "stdout",
     "output_type": "stream",
     "text": [
      "tensor([1, 1])\n",
      "tensor([1, 1])\n",
      "Parameter containing:\n",
      "tensor([[0.4619, 0.7518],\n",
      "        [0.8121, 0.8215]], requires_grad=True)\n",
      "Parameter containing:\n",
      "tensor([[0.4322, 0.7221],\n",
      "        [0.5815, 0.5867]], requires_grad=True)\n",
      "acc  0 1.8813661336898804\n",
      "acc  1 1.593772053718567\n",
      "1.7375690937042236 10\n"
     ]
    },
    {
     "data": {
      "application/vnd.jupyter.widget-view+json": {
       "model_id": "fbb74dfb94824cc89d9bfa0e22bfe0f7",
       "version_major": 2,
       "version_minor": 0
      },
      "text/plain": [
       "  0%|          | 0/1000 [00:00<?, ?it/s]"
      ]
     },
     "metadata": {},
     "output_type": "display_data"
    },
    {
     "data": {
      "application/vnd.jupyter.widget-view+json": {
       "model_id": "bfcc9693aa0a4f12846b138058144126",
       "version_major": 2,
       "version_minor": 0
      },
      "text/plain": [
       "  0%|          | 0/1000 [00:00<?, ?it/s]"
      ]
     },
     "metadata": {},
     "output_type": "display_data"
    },
    {
     "name": "stdout",
     "output_type": "stream",
     "text": [
      "tensor([0, 1])\n",
      "tensor([0, 1])\n",
      "Parameter containing:\n",
      "tensor([[ 1.1183,  0.6552],\n",
      "        [-0.7059,  2.0172]], requires_grad=True)\n",
      "Parameter containing:\n",
      "tensor([[ 0.9723,  0.3723],\n",
      "        [-0.9342,  1.7941]], requires_grad=True)\n",
      "acc  0 2.058253526687622\n",
      "acc  1 1.672442078590393\n",
      "1.8653478026390076 10\n"
     ]
    },
    {
     "data": {
      "application/vnd.jupyter.widget-view+json": {
       "model_id": "c0074b7e2af64428b13e4d3ecc5dd75c",
       "version_major": 2,
       "version_minor": 0
      },
      "text/plain": [
       "  0%|          | 0/1000 [00:00<?, ?it/s]"
      ]
     },
     "metadata": {},
     "output_type": "display_data"
    },
    {
     "data": {
      "application/vnd.jupyter.widget-view+json": {
       "model_id": "b362c7a9c06647198fb374e675fe9b92",
       "version_major": 2,
       "version_minor": 0
      },
      "text/plain": [
       "  0%|          | 0/1000 [00:00<?, ?it/s]"
      ]
     },
     "metadata": {},
     "output_type": "display_data"
    },
    {
     "name": "stdout",
     "output_type": "stream",
     "text": [
      "tensor([1, 1])\n",
      "tensor([1, 1])\n",
      "Parameter containing:\n",
      "tensor([[0.7150, 0.7988],\n",
      "        [0.4911, 0.8079]], requires_grad=True)\n",
      "Parameter containing:\n",
      "tensor([[0.5544, 0.6413],\n",
      "        [0.2170, 0.5324]], requires_grad=True)\n",
      "acc  0 1.381619930267334\n",
      "acc  1 2.25333571434021\n",
      "1.817477822303772 10\n"
     ]
    },
    {
     "data": {
      "application/vnd.jupyter.widget-view+json": {
       "model_id": "3bdf5a65503142fd87970890cad1cc30",
       "version_major": 2,
       "version_minor": 0
      },
      "text/plain": [
       "  0%|          | 0/1000 [00:00<?, ?it/s]"
      ]
     },
     "metadata": {},
     "output_type": "display_data"
    },
    {
     "data": {
      "application/vnd.jupyter.widget-view+json": {
       "model_id": "ace5b6d639a744b08bd6f25bb3ec5a00",
       "version_major": 2,
       "version_minor": 0
      },
      "text/plain": [
       "  0%|          | 0/1000 [00:00<?, ?it/s]"
      ]
     },
     "metadata": {},
     "output_type": "display_data"
    },
    {
     "name": "stdout",
     "output_type": "stream",
     "text": [
      "tensor([1, 0])\n",
      "tensor([1, 0])\n",
      "Parameter containing:\n",
      "tensor([[-2.0615,  3.0800],\n",
      "        [ 3.0005, -2.5855]], requires_grad=True)\n",
      "Parameter containing:\n",
      "tensor([[-2.0804,  2.7351],\n",
      "        [ 3.4481, -2.0621]], requires_grad=True)\n",
      "acc  0 0.966356635093689\n",
      "acc  1 1.0062401294708252\n",
      "0.9862983822822571 10\n"
     ]
    },
    {
     "data": {
      "application/vnd.jupyter.widget-view+json": {
       "model_id": "c255b0ccd8434040ac0940d34989301c",
       "version_major": 2,
       "version_minor": 0
      },
      "text/plain": [
       "  0%|          | 0/1000 [00:00<?, ?it/s]"
      ]
     },
     "metadata": {},
     "output_type": "display_data"
    },
    {
     "data": {
      "application/vnd.jupyter.widget-view+json": {
       "model_id": "97df73bccafc46b484696f11e2741fb9",
       "version_major": 2,
       "version_minor": 0
      },
      "text/plain": [
       "  0%|          | 0/1000 [00:00<?, ?it/s]"
      ]
     },
     "metadata": {},
     "output_type": "display_data"
    },
    {
     "name": "stdout",
     "output_type": "stream",
     "text": [
      "tensor([0, 1])\n",
      "tensor([0, 1])\n",
      "Parameter containing:\n",
      "tensor([[ 0.6169,  0.2060],\n",
      "        [-0.2461,  0.9438]], requires_grad=True)\n",
      "Parameter containing:\n",
      "tensor([[ 0.9092,  0.4824],\n",
      "        [-0.3836,  0.7992]], requires_grad=True)\n",
      "acc  0 1.0487393140792847\n",
      "acc  1 0.9780340790748596\n",
      "1.0133866965770721 10\n"
     ]
    },
    {
     "data": {
      "application/vnd.jupyter.widget-view+json": {
       "model_id": "ba0a3e10982e45dcbc73044c119aa8f4",
       "version_major": 2,
       "version_minor": 0
      },
      "text/plain": [
       "  0%|          | 0/1000 [00:00<?, ?it/s]"
      ]
     },
     "metadata": {},
     "output_type": "display_data"
    },
    {
     "data": {
      "application/vnd.jupyter.widget-view+json": {
       "model_id": "f165eb3929594d38ba9d68b2f85b5fa4",
       "version_major": 2,
       "version_minor": 0
      },
      "text/plain": [
       "  0%|          | 0/1000 [00:00<?, ?it/s]"
      ]
     },
     "metadata": {},
     "output_type": "display_data"
    },
    {
     "name": "stdout",
     "output_type": "stream",
     "text": [
      "tensor([1, 1])\n",
      "tensor([1, 1])\n",
      "Parameter containing:\n",
      "tensor([[-0.1141,  1.6490],\n",
      "        [-0.0267,  0.6213]], requires_grad=True)\n",
      "Parameter containing:\n",
      "tensor([[-0.0884,  1.6841],\n",
      "        [ 0.3773,  1.0179]], requires_grad=True)\n",
      "acc  0 1.6995909214019775\n",
      "acc  1 1.7360061407089233\n",
      "1.7177985310554504 10\n"
     ]
    },
    {
     "data": {
      "application/vnd.jupyter.widget-view+json": {
       "model_id": "5693d717e7774f65942e6f87a794e564",
       "version_major": 2,
       "version_minor": 0
      },
      "text/plain": [
       "  0%|          | 0/1000 [00:00<?, ?it/s]"
      ]
     },
     "metadata": {},
     "output_type": "display_data"
    },
    {
     "data": {
      "application/vnd.jupyter.widget-view+json": {
       "model_id": "992c25c011104f9781a5e3da93ee4ac5",
       "version_major": 2,
       "version_minor": 0
      },
      "text/plain": [
       "  0%|          | 0/1000 [00:00<?, ?it/s]"
      ]
     },
     "metadata": {},
     "output_type": "display_data"
    },
    {
     "name": "stdout",
     "output_type": "stream",
     "text": [
      "tensor([1, 1])\n",
      "tensor([1, 1])\n",
      "Parameter containing:\n",
      "tensor([[-0.9938,  1.3281],\n",
      "        [-2.1053,  3.4625]], requires_grad=True)\n",
      "Parameter containing:\n",
      "tensor([[-0.4435,  1.8761],\n",
      "        [-2.2959,  3.4425]], requires_grad=True)\n",
      "acc  0 1.3988178968429565\n",
      "acc  1 1.7674188613891602\n",
      "1.5831183791160583 10\n"
     ]
    },
    {
     "data": {
      "application/vnd.jupyter.widget-view+json": {
       "model_id": "df7ca13822634714ad1dd97c31c8d278",
       "version_major": 2,
       "version_minor": 0
      },
      "text/plain": [
       "  0%|          | 0/1000 [00:00<?, ?it/s]"
      ]
     },
     "metadata": {},
     "output_type": "display_data"
    },
    {
     "data": {
      "application/vnd.jupyter.widget-view+json": {
       "model_id": "b183949c2d2b48559d6db7d6719816b0",
       "version_major": 2,
       "version_minor": 0
      },
      "text/plain": [
       "  0%|          | 0/1000 [00:00<?, ?it/s]"
      ]
     },
     "metadata": {},
     "output_type": "display_data"
    },
    {
     "name": "stdout",
     "output_type": "stream",
     "text": [
      "tensor([1, 1])\n",
      "tensor([1, 1])\n",
      "Parameter containing:\n",
      "tensor([[0.1211, 0.7255],\n",
      "        [0.3943, 0.7418]], requires_grad=True)\n",
      "Parameter containing:\n",
      "tensor([[0.4137, 1.0193],\n",
      "        [0.6800, 1.0281]], requires_grad=True)\n",
      "acc  0 1.4929018020629883\n",
      "acc  1 0.8642711639404297\n",
      "1.178586483001709 10\n",
      "[Parameter containing:\n",
      "tensor([[0.1211, 0.7255],\n",
      "        [0.3943, 0.7418]], requires_grad=True), Parameter containing:\n",
      "tensor([[0.4137, 1.0193],\n",
      "        [0.6800, 1.0281]], requires_grad=True)]\n",
      "Parameter containing:\n",
      "tensor([34.1526], requires_grad=True)\n",
      "Parameter containing:\n",
      "tensor([60.4791], requires_grad=True)\n"
     ]
    },
    {
     "data": {
      "application/vnd.jupyter.widget-view+json": {
       "model_id": "988862f74be347ddbb7e9e0ce6cfa092",
       "version_major": 2,
       "version_minor": 0
      },
      "text/plain": [
       "  0%|          | 0/1000 [00:00<?, ?it/s]"
      ]
     },
     "metadata": {},
     "output_type": "display_data"
    },
    {
     "data": {
      "application/vnd.jupyter.widget-view+json": {
       "model_id": "31972e56b95242bc9818d4077dfc0e9d",
       "version_major": 2,
       "version_minor": 0
      },
      "text/plain": [
       "  0%|          | 0/1000 [00:00<?, ?it/s]"
      ]
     },
     "metadata": {},
     "output_type": "display_data"
    },
    {
     "name": "stdout",
     "output_type": "stream",
     "text": [
      "tensor([3, 0])\n",
      "tensor([3, 0])\n",
      "Parameter containing:\n",
      "tensor([[ 0.9248,  0.5697,  0.5280,  1.1534,  0.2614,  0.5806,  0.6059,  0.5572],\n",
      "        [ 1.8106,  0.9458, -0.0264,  1.0699,  1.5313,  0.3057, -0.0808, -0.3463]],\n",
      "       requires_grad=True)\n",
      "Parameter containing:\n",
      "tensor([[ 0.7995,  0.4462,  0.4053,  1.0338,  0.1292,  0.4568,  0.4953,  0.4270],\n",
      "        [ 1.5175,  0.6142, -0.3777,  0.7451,  1.2139, -0.0570, -0.4054, -0.7374]],\n",
      "       requires_grad=True)\n",
      "acc  0 1.4078452587127686\n",
      "acc  1 1.146497368812561\n",
      "1.2771713137626648 10\n"
     ]
    },
    {
     "data": {
      "application/vnd.jupyter.widget-view+json": {
       "model_id": "00071ca8939c4426a6aed62b7c53721f",
       "version_major": 2,
       "version_minor": 0
      },
      "text/plain": [
       "  0%|          | 0/1000 [00:00<?, ?it/s]"
      ]
     },
     "metadata": {},
     "output_type": "display_data"
    },
    {
     "data": {
      "application/vnd.jupyter.widget-view+json": {
       "model_id": "989ea2c7266144c1aaeae59fb8d9c517",
       "version_major": 2,
       "version_minor": 0
      },
      "text/plain": [
       "  0%|          | 0/1000 [00:00<?, ?it/s]"
      ]
     },
     "metadata": {},
     "output_type": "display_data"
    },
    {
     "name": "stdout",
     "output_type": "stream",
     "text": [
      "tensor([2, 4])\n",
      "tensor([2, 4])\n",
      "Parameter containing:\n",
      "tensor([[ 0.2566,  0.3154,  0.9644,  0.2434, -0.0894,  0.2076,  0.3696,  0.5409],\n",
      "        [ 0.5540,  0.8813,  0.8511,  0.2783,  0.8820,  0.5438,  0.6475,  0.1038]],\n",
      "       requires_grad=True)\n",
      "Parameter containing:\n",
      "tensor([[0.3680, 0.4305, 1.0919, 0.3398, 0.0218, 0.3426, 0.4909, 0.6606],\n",
      "        [0.4698, 0.7797, 0.7726, 0.1767, 0.7814, 0.4524, 0.5254, 0.0413]],\n",
      "       requires_grad=True)\n",
      "acc  0 0.9254566431045532\n",
      "acc  1 1.4205979108810425\n",
      "1.1730272769927979 10\n"
     ]
    },
    {
     "data": {
      "application/vnd.jupyter.widget-view+json": {
       "model_id": "375b9d0d4bc149798162e8fb977f679b",
       "version_major": 2,
       "version_minor": 0
      },
      "text/plain": [
       "  0%|          | 0/1000 [00:00<?, ?it/s]"
      ]
     },
     "metadata": {},
     "output_type": "display_data"
    },
    {
     "data": {
      "application/vnd.jupyter.widget-view+json": {
       "model_id": "876c093752e442f39da0e036d06f8765",
       "version_major": 2,
       "version_minor": 0
      },
      "text/plain": [
       "  0%|          | 0/1000 [00:00<?, ?it/s]"
      ]
     },
     "metadata": {},
     "output_type": "display_data"
    },
    {
     "name": "stdout",
     "output_type": "stream",
     "text": [
      "tensor([4, 2])\n",
      "tensor([4, 2])\n",
      "Parameter containing:\n",
      "tensor([[ 0.4290, -0.0817,  1.0708,  0.0759,  1.3562,  0.6699,  0.4490,  0.3004],\n",
      "        [ 0.5688,  1.0452,  1.2762,  1.0228,  1.0930,  0.3861, -0.0642,  0.2030]],\n",
      "       requires_grad=True)\n",
      "Parameter containing:\n",
      "tensor([[ 0.5460,  0.0332,  1.1878,  0.1846,  1.4577,  0.7880,  0.6158,  0.4168],\n",
      "        [ 0.3381,  0.8292,  0.9544,  0.7780,  0.8682,  0.1653, -0.2566,  0.1161]],\n",
      "       requires_grad=True)\n",
      "acc  0 1.4694401025772095\n",
      "acc  1 1.3532847166061401\n",
      "1.4113624095916748 10\n"
     ]
    },
    {
     "data": {
      "application/vnd.jupyter.widget-view+json": {
       "model_id": "9d67956deeab4c56bb2cb3c88f21ecfe",
       "version_major": 2,
       "version_minor": 0
      },
      "text/plain": [
       "  0%|          | 0/1000 [00:00<?, ?it/s]"
      ]
     },
     "metadata": {},
     "output_type": "display_data"
    },
    {
     "data": {
      "application/vnd.jupyter.widget-view+json": {
       "model_id": "db66be16c799448bbc1b494f9cb29bea",
       "version_major": 2,
       "version_minor": 0
      },
      "text/plain": [
       "  0%|          | 0/1000 [00:00<?, ?it/s]"
      ]
     },
     "metadata": {},
     "output_type": "display_data"
    },
    {
     "name": "stdout",
     "output_type": "stream",
     "text": [
      "tensor([1, 7])\n",
      "tensor([1, 7])\n",
      "Parameter containing:\n",
      "tensor([[ 0.4561,  1.1417,  0.4568,  0.8746,  0.1765,  0.4735,  0.3291,  0.2709],\n",
      "        [ 0.3412,  0.6496, -0.0607,  0.5559,  0.4461, -0.0730,  0.0170,  1.2028]],\n",
      "       requires_grad=True)\n",
      "Parameter containing:\n",
      "tensor([[0.5091, 1.2002, 0.5122, 0.9217, 0.2630, 0.5307, 0.3856, 0.3138],\n",
      "        [0.4840, 0.7949, 0.0717, 0.6981, 0.5933, 0.0384, 0.1598, 1.3462]],\n",
      "       requires_grad=True)\n",
      "acc  0 1.3871103525161743\n",
      "acc  1 0.9920561909675598\n",
      "1.189583271741867 10\n"
     ]
    },
    {
     "data": {
      "application/vnd.jupyter.widget-view+json": {
       "model_id": "1e61b4973d6b422ba8605c48788bc290",
       "version_major": 2,
       "version_minor": 0
      },
      "text/plain": [
       "  0%|          | 0/1000 [00:00<?, ?it/s]"
      ]
     },
     "metadata": {},
     "output_type": "display_data"
    },
    {
     "data": {
      "application/vnd.jupyter.widget-view+json": {
       "model_id": "9ce71757be184bfcaaa9fc8e6ed05379",
       "version_major": 2,
       "version_minor": 0
      },
      "text/plain": [
       "  0%|          | 0/1000 [00:00<?, ?it/s]"
      ]
     },
     "metadata": {},
     "output_type": "display_data"
    },
    {
     "name": "stdout",
     "output_type": "stream",
     "text": [
      "tensor([1, 6])\n",
      "tensor([1, 6])\n",
      "Parameter containing:\n",
      "tensor([[ 1.1666,  1.3912, -0.0313, -0.4284, -0.0796,  0.6847,  0.3371,  0.4823],\n",
      "        [ 0.8852,  0.5709, -0.3417,  0.4563, -0.2668, -0.0968,  4.0555, -0.6790]],\n",
      "       requires_grad=True)\n",
      "Parameter containing:\n",
      "tensor([[ 1.2477,  1.4681,  0.0249, -0.2992,  0.0233,  0.7893,  0.4406,  0.5775],\n",
      "        [ 1.1188,  0.7640, -0.2118,  0.6357, -0.0919, -0.0130,  4.2368, -0.7165]],\n",
      "       requires_grad=True)\n",
      "acc  0 1.047339916229248\n",
      "acc  1 1.3839788436889648\n",
      "1.2156593799591064 10\n"
     ]
    },
    {
     "data": {
      "application/vnd.jupyter.widget-view+json": {
       "model_id": "0043084e6bd546ce86a662078899a42c",
       "version_major": 2,
       "version_minor": 0
      },
      "text/plain": [
       "  0%|          | 0/1000 [00:00<?, ?it/s]"
      ]
     },
     "metadata": {},
     "output_type": "display_data"
    },
    {
     "data": {
      "application/vnd.jupyter.widget-view+json": {
       "model_id": "809f5652707b43e5b1eafa7a08deffa1",
       "version_major": 2,
       "version_minor": 0
      },
      "text/plain": [
       "  0%|          | 0/1000 [00:00<?, ?it/s]"
      ]
     },
     "metadata": {},
     "output_type": "display_data"
    },
    {
     "name": "stdout",
     "output_type": "stream",
     "text": [
      "tensor([6, 6])\n",
      "tensor([6, 6])\n",
      "Parameter containing:\n",
      "tensor([[ 0.4905, -0.7667,  0.0094, -1.5052,  0.1524, -0.1258,  2.9455,  2.8246],\n",
      "        [ 2.1357,  1.8134, -0.6236, -1.4198,  0.4560, -0.8631,  2.8641, -1.0661]],\n",
      "       requires_grad=True)\n",
      "Parameter containing:\n",
      "tensor([[ 0.1813, -0.9957, -0.1994, -0.7493, -0.1568, -0.4492,  2.6864,  2.5728],\n",
      "        [ 2.1478,  1.8091, -0.6834, -1.4920,  0.4448, -0.8032,  2.8713, -0.6290]],\n",
      "       requires_grad=True)\n",
      "acc  0 1.02996826171875\n",
      "acc  1 0.8994452953338623\n",
      "0.9647067785263062 10\n"
     ]
    },
    {
     "data": {
      "application/vnd.jupyter.widget-view+json": {
       "model_id": "0c605eeda22044d496e6e89b5b228da4",
       "version_major": 2,
       "version_minor": 0
      },
      "text/plain": [
       "  0%|          | 0/1000 [00:00<?, ?it/s]"
      ]
     },
     "metadata": {},
     "output_type": "display_data"
    },
    {
     "data": {
      "application/vnd.jupyter.widget-view+json": {
       "model_id": "fb068e502ef2476c850add76eb1bf854",
       "version_major": 2,
       "version_minor": 0
      },
      "text/plain": [
       "  0%|          | 0/1000 [00:00<?, ?it/s]"
      ]
     },
     "metadata": {},
     "output_type": "display_data"
    },
    {
     "name": "stdout",
     "output_type": "stream",
     "text": [
      "tensor([4, 5])\n",
      "tensor([4, 5])\n",
      "Parameter containing:\n",
      "tensor([[0.5759, 0.4628, 0.3309, 0.4848, 0.7300, 0.2861, 0.4206, 0.5971],\n",
      "        [0.6327, 0.3654, 0.2818, 0.6774, 0.5064, 0.8610, 0.3328, 0.1834]],\n",
      "       requires_grad=True)\n",
      "Parameter containing:\n",
      "tensor([[0.6131, 0.4980, 0.3523, 0.5107, 0.7599, 0.3127, 0.4508, 0.6250],\n",
      "        [0.7989, 0.5389, 0.4520, 0.8590, 0.6805, 1.0311, 0.4933, 0.3487]],\n",
      "       requires_grad=True)\n",
      "acc  0 1.5913254022598267\n",
      "acc  1 1.392852544784546\n",
      "1.4920889735221863 10\n"
     ]
    },
    {
     "data": {
      "application/vnd.jupyter.widget-view+json": {
       "model_id": "841b741c2ada42189b5b159fd877b38b",
       "version_major": 2,
       "version_minor": 0
      },
      "text/plain": [
       "  0%|          | 0/1000 [00:00<?, ?it/s]"
      ]
     },
     "metadata": {},
     "output_type": "display_data"
    },
    {
     "data": {
      "application/vnd.jupyter.widget-view+json": {
       "model_id": "483f4a74a5284f548c0067a0307c42f7",
       "version_major": 2,
       "version_minor": 0
      },
      "text/plain": [
       "  0%|          | 0/1000 [00:00<?, ?it/s]"
      ]
     },
     "metadata": {},
     "output_type": "display_data"
    },
    {
     "name": "stdout",
     "output_type": "stream",
     "text": [
      "tensor([6, 6])\n",
      "tensor([6, 6])\n",
      "Parameter containing:\n",
      "tensor([[-0.5015,  0.3668,  0.6504, -1.6107,  0.1709,  0.9177,  3.6300, -0.7807],\n",
      "        [ 0.1849, -1.0331, -1.6077,  2.4962, -1.3640,  2.8157,  3.1786, -0.5511]],\n",
      "       requires_grad=True)\n",
      "Parameter containing:\n",
      "tensor([[-0.8661,  0.2662,  0.9892, -1.3422,  0.4073,  1.4054,  4.1798, -0.5568],\n",
      "        [ 0.2166, -1.0280, -1.9080,  2.4787, -1.4320,  2.8263,  3.1938, -0.6425]],\n",
      "       requires_grad=True)\n",
      "acc  0 0.893079400062561\n",
      "acc  1 0.9940889477729797\n",
      "0.9435841739177704 10\n"
     ]
    },
    {
     "data": {
      "application/vnd.jupyter.widget-view+json": {
       "model_id": "db4e2f776f31406da123fd16691f5438",
       "version_major": 2,
       "version_minor": 0
      },
      "text/plain": [
       "  0%|          | 0/1000 [00:00<?, ?it/s]"
      ]
     },
     "metadata": {},
     "output_type": "display_data"
    },
    {
     "data": {
      "application/vnd.jupyter.widget-view+json": {
       "model_id": "61e005959b1948fdaa1be444db05fd95",
       "version_major": 2,
       "version_minor": 0
      },
      "text/plain": [
       "  0%|          | 0/1000 [00:00<?, ?it/s]"
      ]
     },
     "metadata": {},
     "output_type": "display_data"
    },
    {
     "name": "stdout",
     "output_type": "stream",
     "text": [
      "tensor([5, 5])\n",
      "tensor([5, 5])\n",
      "Parameter containing:\n",
      "tensor([[ 0.3574, -0.1503,  0.7243,  0.1150,  0.3505,  0.7335,  0.3833,  0.0964],\n",
      "        [ 0.2015,  1.2259,  0.2599,  0.8444, -0.3724,  1.4498,  0.8994,  0.2001]],\n",
      "       requires_grad=True)\n",
      "Parameter containing:\n",
      "tensor([[ 0.4426, -0.0844,  0.8109,  0.2057,  0.4221,  0.8277,  0.4737,  0.1955],\n",
      "        [-0.0925,  1.0251,  0.0515,  0.6283, -0.6229,  1.2531,  0.6818, -0.0318]],\n",
      "       requires_grad=True)\n",
      "acc  0 1.5209529399871826\n",
      "acc  1 0.8262919783592224\n",
      "1.1736224591732025 10\n"
     ]
    },
    {
     "data": {
      "application/vnd.jupyter.widget-view+json": {
       "model_id": "9ad173c0b99c4063a420505184ef5ea0",
       "version_major": 2,
       "version_minor": 0
      },
      "text/plain": [
       "  0%|          | 0/1000 [00:00<?, ?it/s]"
      ]
     },
     "metadata": {},
     "output_type": "display_data"
    },
    {
     "data": {
      "application/vnd.jupyter.widget-view+json": {
       "model_id": "a45925e78fc44386a6e5843655d90949",
       "version_major": 2,
       "version_minor": 0
      },
      "text/plain": [
       "  0%|          | 0/1000 [00:00<?, ?it/s]"
      ]
     },
     "metadata": {},
     "output_type": "display_data"
    },
    {
     "name": "stdout",
     "output_type": "stream",
     "text": [
      "tensor([3, 0])\n",
      "tensor([3, 0])\n",
      "Parameter containing:\n",
      "tensor([[ 0.3582,  0.3567,  0.9845,  1.1340,  0.5590,  0.6358,  0.6070,  0.2183],\n",
      "        [ 1.9741,  0.9054, -0.6899, -0.4921,  0.0711,  0.9052,  0.1751,  0.6800]],\n",
      "       requires_grad=True)\n",
      "Parameter containing:\n",
      "tensor([[ 0.3735,  0.3696,  0.9931,  1.1495,  0.5773,  0.6457,  0.6326,  0.2387],\n",
      "        [ 1.9085,  0.8435, -0.6108, -0.5488,  0.0052,  0.8504,  0.1143,  0.6129]],\n",
      "       requires_grad=True)\n",
      "acc  0 2.680891275405884\n",
      "acc  1 2.256077527999878\n",
      "2.468484401702881 10\n"
     ]
    },
    {
     "data": {
      "application/vnd.jupyter.widget-view+json": {
       "model_id": "b4285722e88d4d2e83e1f7af64bb61a3",
       "version_major": 2,
       "version_minor": 0
      },
      "text/plain": [
       "  0%|          | 0/1000 [00:00<?, ?it/s]"
      ]
     },
     "metadata": {},
     "output_type": "display_data"
    },
    {
     "data": {
      "application/vnd.jupyter.widget-view+json": {
       "model_id": "d063f4fc2c1749f1936e427e5c8ffa78",
       "version_major": 2,
       "version_minor": 0
      },
      "text/plain": [
       "  0%|          | 0/1000 [00:00<?, ?it/s]"
      ]
     },
     "metadata": {},
     "output_type": "display_data"
    },
    {
     "name": "stdout",
     "output_type": "stream",
     "text": [
      "tensor([5, 2])\n",
      "tensor([5, 2])\n",
      "Parameter containing:\n",
      "tensor([[ 0.3575,  0.7658,  0.1276,  0.3204,  1.0927,  1.9902, -0.1656,  1.0352],\n",
      "        [ 0.7542,  0.1398,  1.2630, -0.0464,  0.5234,  0.9233,  0.8478,  0.3290]],\n",
      "       requires_grad=True)\n",
      "Parameter containing:\n",
      "tensor([[ 0.3551,  0.7731,  0.1357,  0.3258,  1.1062,  1.9930, -0.1592,  1.0523],\n",
      "        [ 0.7034,  0.0561,  1.1760, -0.1310,  0.4530,  0.8711,  0.7892,  0.2519]],\n",
      "       requires_grad=True)\n",
      "acc  0 1.2448151111602783\n",
      "acc  1 1.3884217739105225\n",
      "1.3166184425354004 10\n"
     ]
    },
    {
     "data": {
      "application/vnd.jupyter.widget-view+json": {
       "model_id": "61350d9c89f24a6f80ab39e9bd3b1ae1",
       "version_major": 2,
       "version_minor": 0
      },
      "text/plain": [
       "  0%|          | 0/1000 [00:00<?, ?it/s]"
      ]
     },
     "metadata": {},
     "output_type": "display_data"
    },
    {
     "data": {
      "application/vnd.jupyter.widget-view+json": {
       "model_id": "43790552fb084a3193bafca6e5233f9a",
       "version_major": 2,
       "version_minor": 0
      },
      "text/plain": [
       "  0%|          | 0/1000 [00:00<?, ?it/s]"
      ]
     },
     "metadata": {},
     "output_type": "display_data"
    },
    {
     "name": "stdout",
     "output_type": "stream",
     "text": [
      "tensor([5, 2])\n",
      "tensor([5, 2])\n",
      "Parameter containing:\n",
      "tensor([[0.7299, 0.4846, 0.4300, 0.5794, 0.5955, 0.7987, 0.2602, 0.4650],\n",
      "        [0.0648, 0.2480, 1.1431, 0.6609, 0.4408, 0.2281, 0.6458, 1.0819]],\n",
      "       requires_grad=True)\n",
      "Parameter containing:\n",
      "tensor([[0.5937, 0.3167, 0.2829, 0.4365, 0.4523, 0.6770, 0.1051, 0.3275],\n",
      "        [0.0439, 0.2715, 1.1339, 0.6110, 0.4179, 0.2046, 0.6275, 1.0534]],\n",
      "       requires_grad=True)\n",
      "acc  0 0.8013477921485901\n",
      "acc  1 1.1626965999603271\n",
      "0.9820221960544586 10\n"
     ]
    },
    {
     "data": {
      "application/vnd.jupyter.widget-view+json": {
       "model_id": "c2bc184a22444b07b2c68b62ca0b86f5",
       "version_major": 2,
       "version_minor": 0
      },
      "text/plain": [
       "  0%|          | 0/1000 [00:00<?, ?it/s]"
      ]
     },
     "metadata": {},
     "output_type": "display_data"
    },
    {
     "data": {
      "application/vnd.jupyter.widget-view+json": {
       "model_id": "862118097f8f40e5903b4c5f7dbfd8ea",
       "version_major": 2,
       "version_minor": 0
      },
      "text/plain": [
       "  0%|          | 0/1000 [00:00<?, ?it/s]"
      ]
     },
     "metadata": {},
     "output_type": "display_data"
    },
    {
     "name": "stdout",
     "output_type": "stream",
     "text": [
      "tensor([2, 1])\n",
      "tensor([2, 1])\n",
      "Parameter containing:\n",
      "tensor([[ 0.7314,  0.5430,  0.9638,  0.3163,  0.2448,  0.8576,  0.6576,  0.8555],\n",
      "        [ 0.0052,  0.7566,  0.3641, -0.0382,  0.4772,  0.7482,  0.2582,  0.7164]],\n",
      "       requires_grad=True)\n",
      "Parameter containing:\n",
      "tensor([[0.6774, 0.4768, 0.9013, 0.2517, 0.1898, 0.7980, 0.5940, 0.7939],\n",
      "        [0.0781, 0.8309, 0.4448, 0.0380, 0.5517, 0.8258, 0.3366, 0.7962]],\n",
      "       requires_grad=True)\n",
      "acc  0 1.2320919036865234\n",
      "acc  1 0.9097179770469666\n",
      "1.070904940366745 10\n"
     ]
    },
    {
     "data": {
      "application/vnd.jupyter.widget-view+json": {
       "model_id": "0bef097c1fbb4dfb89fb4b5f753efa2f",
       "version_major": 2,
       "version_minor": 0
      },
      "text/plain": [
       "  0%|          | 0/1000 [00:00<?, ?it/s]"
      ]
     },
     "metadata": {},
     "output_type": "display_data"
    },
    {
     "data": {
      "application/vnd.jupyter.widget-view+json": {
       "model_id": "f797311fcacf469d900c0606fc31a8ba",
       "version_major": 2,
       "version_minor": 0
      },
      "text/plain": [
       "  0%|          | 0/1000 [00:00<?, ?it/s]"
      ]
     },
     "metadata": {},
     "output_type": "display_data"
    },
    {
     "name": "stdout",
     "output_type": "stream",
     "text": [
      "tensor([7, 7])\n",
      "tensor([4, 7])\n",
      "Parameter containing:\n",
      "tensor([[ 0.8205,  0.0540,  0.8302,  0.3501,  1.0147,  0.6188,  0.5581,  1.0431],\n",
      "        [ 1.4443,  0.2170, -0.0178,  0.0916,  0.3111, -0.8047,  1.0137,  1.9991]],\n",
      "       requires_grad=True)\n",
      "Parameter containing:\n",
      "tensor([[ 0.6366, -0.1396,  0.6408,  0.1605,  0.8855,  0.4982,  0.3600,  0.8531],\n",
      "        [ 1.2592,  0.0609, -0.1408, -0.0616,  0.1419, -1.1028,  0.8644,  1.8514]],\n",
      "       requires_grad=True)\n",
      "acc  0 0.19238586723804474\n",
      "acc  1 0.16694702208042145\n",
      "0.1796664446592331 11\n"
     ]
    },
    {
     "data": {
      "application/vnd.jupyter.widget-view+json": {
       "model_id": "155e09fa686543dc8033e2a672bb988e",
       "version_major": 2,
       "version_minor": 0
      },
      "text/plain": [
       "  0%|          | 0/1000 [00:00<?, ?it/s]"
      ]
     },
     "metadata": {},
     "output_type": "display_data"
    },
    {
     "data": {
      "application/vnd.jupyter.widget-view+json": {
       "model_id": "b060268673554eccbd64f863d070d1a4",
       "version_major": 2,
       "version_minor": 0
      },
      "text/plain": [
       "  0%|          | 0/1000 [00:00<?, ?it/s]"
      ]
     },
     "metadata": {},
     "output_type": "display_data"
    },
    {
     "name": "stdout",
     "output_type": "stream",
     "text": [
      "tensor([3, 2])\n",
      "tensor([3, 2])\n",
      "Parameter containing:\n",
      "tensor([[ 1.0420,  0.6545,  0.3110,  1.1300,  0.4811,  0.5687,  0.2823,  0.2883],\n",
      "        [-0.1957,  0.2281,  1.0349,  0.3944,  0.9689,  0.3832,  0.7668,  0.4343]],\n",
      "       requires_grad=True)\n",
      "Parameter containing:\n",
      "tensor([[ 0.7927,  0.4041,  0.0498,  0.8846,  0.2327,  0.3167,  0.0427,  0.0347],\n",
      "        [-0.1391,  0.2940,  1.0956,  0.4631,  1.0357,  0.4589,  0.8563,  0.4903]],\n",
      "       requires_grad=True)\n",
      "acc  0 1.4398164749145508\n",
      "acc  1 2.117105722427368\n",
      "1.7784610986709595 10\n"
     ]
    },
    {
     "data": {
      "application/vnd.jupyter.widget-view+json": {
       "model_id": "c34f7d06eadf4d77aee8760d7a43d17a",
       "version_major": 2,
       "version_minor": 0
      },
      "text/plain": [
       "  0%|          | 0/1000 [00:00<?, ?it/s]"
      ]
     },
     "metadata": {},
     "output_type": "display_data"
    },
    {
     "data": {
      "application/vnd.jupyter.widget-view+json": {
       "model_id": "38576dcf6165480abe5d2e5eea1062bf",
       "version_major": 2,
       "version_minor": 0
      },
      "text/plain": [
       "  0%|          | 0/1000 [00:00<?, ?it/s]"
      ]
     },
     "metadata": {},
     "output_type": "display_data"
    },
    {
     "name": "stdout",
     "output_type": "stream",
     "text": [
      "tensor([0, 1])\n",
      "tensor([0, 1])\n",
      "Parameter containing:\n",
      "tensor([[ 3.4986, -0.6542,  2.3373, -1.0131, -0.7636,  0.4416,  0.3972, -0.7697],\n",
      "        [ 0.6052,  5.7187, -0.3180, -0.3466,  1.4591,  0.0503, -2.2914, -0.3734]],\n",
      "       requires_grad=True)\n",
      "Parameter containing:\n",
      "tensor([[ 3.3482, -0.7104,  2.2383, -1.1012, -0.8423,  0.3329,  0.3240, -0.8533],\n",
      "        [ 0.3180,  5.4611, -0.5539, -0.5893,  1.1335, -0.1480, -1.6399, -0.1838]],\n",
      "       requires_grad=True)\n",
      "acc  0 0.9764965176582336\n",
      "acc  1 1.234257459640503\n",
      "1.1053769886493683 10\n"
     ]
    },
    {
     "data": {
      "application/vnd.jupyter.widget-view+json": {
       "model_id": "b5c2605f1fab49008941a09a282e1bce",
       "version_major": 2,
       "version_minor": 0
      },
      "text/plain": [
       "  0%|          | 0/1000 [00:00<?, ?it/s]"
      ]
     },
     "metadata": {},
     "output_type": "display_data"
    },
    {
     "data": {
      "application/vnd.jupyter.widget-view+json": {
       "model_id": "806f8dd7b4374ba894444c7412145494",
       "version_major": 2,
       "version_minor": 0
      },
      "text/plain": [
       "  0%|          | 0/1000 [00:00<?, ?it/s]"
      ]
     },
     "metadata": {},
     "output_type": "display_data"
    },
    {
     "name": "stdout",
     "output_type": "stream",
     "text": [
      "tensor([0, 5])\n",
      "tensor([0, 5])\n",
      "Parameter containing:\n",
      "tensor([[ 1.2598,  0.3695,  0.2489, -0.1905,  0.9924,  0.0596,  0.6537, -0.0656],\n",
      "        [ 1.0584,  0.6259,  0.8372, -0.3983,  0.0219,  1.7859,  0.1651,  0.3269]],\n",
      "       requires_grad=True)\n",
      "Parameter containing:\n",
      "tensor([[ 1.4089,  0.5227,  0.3960, -0.0317,  1.1384,  0.2278,  0.7898,  0.0536],\n",
      "        [ 1.0027,  0.5660,  0.7771, -0.4737, -0.0307,  1.7581,  0.1009,  0.2668]],\n",
      "       requires_grad=True)\n",
      "acc  0 1.0969772338867188\n",
      "acc  1 1.0449726581573486\n",
      "1.0709749460220337 10\n"
     ]
    },
    {
     "data": {
      "application/vnd.jupyter.widget-view+json": {
       "model_id": "e6abd54469b043b3add2930393c3d00a",
       "version_major": 2,
       "version_minor": 0
      },
      "text/plain": [
       "  0%|          | 0/1000 [00:00<?, ?it/s]"
      ]
     },
     "metadata": {},
     "output_type": "display_data"
    },
    {
     "data": {
      "application/vnd.jupyter.widget-view+json": {
       "model_id": "bc60396734614e6caa683aadbb4dd58b",
       "version_major": 2,
       "version_minor": 0
      },
      "text/plain": [
       "  0%|          | 0/1000 [00:00<?, ?it/s]"
      ]
     },
     "metadata": {},
     "output_type": "display_data"
    },
    {
     "name": "stdout",
     "output_type": "stream",
     "text": [
      "tensor([6, 5])\n",
      "tensor([6, 5])\n",
      "Parameter containing:\n",
      "tensor([[ 0.9991,  0.7512, -0.0408,  0.5719,  0.7227,  0.8300,  1.2338,  0.0525],\n",
      "        [ 0.8577, -0.1774,  0.6572,  0.5221,  0.4672,  1.0426,  0.7208,  0.4408]],\n",
      "       requires_grad=True)\n",
      "Parameter containing:\n",
      "tensor([[ 0.8264,  0.5845, -0.2190,  0.4029,  0.4977,  0.6570,  1.0699, -0.1366],\n",
      "        [ 0.6474, -0.3645,  0.4588,  0.2939,  0.2774,  0.8357,  0.4736,  0.2303]],\n",
      "       requires_grad=True)\n",
      "acc  0 1.586712121963501\n",
      "acc  1 1.419938564300537\n",
      "1.503325343132019 10\n"
     ]
    },
    {
     "data": {
      "application/vnd.jupyter.widget-view+json": {
       "model_id": "365515a7360c4fcc88d3858e569dc24f",
       "version_major": 2,
       "version_minor": 0
      },
      "text/plain": [
       "  0%|          | 0/1000 [00:00<?, ?it/s]"
      ]
     },
     "metadata": {},
     "output_type": "display_data"
    },
    {
     "data": {
      "application/vnd.jupyter.widget-view+json": {
       "model_id": "e835549469f843d193035040faaf23e4",
       "version_major": 2,
       "version_minor": 0
      },
      "text/plain": [
       "  0%|          | 0/1000 [00:00<?, ?it/s]"
      ]
     },
     "metadata": {},
     "output_type": "display_data"
    },
    {
     "name": "stdout",
     "output_type": "stream",
     "text": [
      "tensor([3, 6])\n",
      "tensor([3, 6])\n",
      "Parameter containing:\n",
      "tensor([[-0.2823, -0.2150,  1.1510,  1.9780,  0.0042,  0.5525,  0.2211,  0.8613],\n",
      "        [-0.1736, -0.5423, -1.0941,  0.9935, -0.4783,  0.1674,  3.4146,  1.6926]],\n",
      "       requires_grad=True)\n",
      "Parameter containing:\n",
      "tensor([[-0.2304, -0.2059,  1.1911,  1.9924,  0.0047,  0.6041,  0.2509,  0.9693],\n",
      "        [-0.2823, -0.6808, -1.2640,  0.8554, -0.6058,  0.0097,  3.2371,  1.5961]],\n",
      "       requires_grad=True)\n",
      "acc  0 1.0481905937194824\n",
      "acc  1 1.017356038093567\n",
      "1.0327733159065247 10\n"
     ]
    },
    {
     "data": {
      "application/vnd.jupyter.widget-view+json": {
       "model_id": "497de1ebff994a3dae2009739fe48d60",
       "version_major": 2,
       "version_minor": 0
      },
      "text/plain": [
       "  0%|          | 0/1000 [00:00<?, ?it/s]"
      ]
     },
     "metadata": {},
     "output_type": "display_data"
    },
    {
     "data": {
      "application/vnd.jupyter.widget-view+json": {
       "model_id": "6e5479323d35404e8c057b67b4ce8546",
       "version_major": 2,
       "version_minor": 0
      },
      "text/plain": [
       "  0%|          | 0/1000 [00:00<?, ?it/s]"
      ]
     },
     "metadata": {},
     "output_type": "display_data"
    },
    {
     "name": "stdout",
     "output_type": "stream",
     "text": [
      "tensor([5, 2])\n",
      "tensor([5, 2])\n",
      "Parameter containing:\n",
      "tensor([[ 0.3256,  1.0624,  0.1518,  1.0675,  0.1726,  1.2567,  0.2995,  0.7877],\n",
      "        [ 0.6875,  0.7552,  1.7875,  0.0223,  0.3856, -0.2189,  0.2688,  0.1303]],\n",
      "       requires_grad=True)\n",
      "Parameter containing:\n",
      "tensor([[ 0.2333,  0.9456,  0.0644,  0.9416,  0.0627,  1.1628,  0.1679,  0.6874],\n",
      "        [ 0.8440,  0.9139,  1.9564,  0.1680,  0.5427, -0.0490,  0.4130,  0.2740]],\n",
      "       requires_grad=True)\n",
      "acc  0 1.6261450052261353\n",
      "acc  1 1.0853201150894165\n",
      "1.3557325601577759 10\n",
      "[Parameter containing:\n",
      "tensor([[ 0.3256,  1.0624,  0.1518,  1.0675,  0.1726,  1.2567,  0.2995,  0.7877],\n",
      "        [ 0.6875,  0.7552,  1.7875,  0.0223,  0.3856, -0.2189,  0.2688,  0.1303]],\n",
      "       requires_grad=True), Parameter containing:\n",
      "tensor([[ 0.2333,  0.9456,  0.0644,  0.9416,  0.0627,  1.1628,  0.1679,  0.6874],\n",
      "        [ 0.8440,  0.9139,  1.9564,  0.1680,  0.5427, -0.0490,  0.4130,  0.2740]],\n",
      "       requires_grad=True)]\n",
      "Parameter containing:\n",
      "tensor([116.6781], requires_grad=True)\n",
      "Parameter containing:\n",
      "tensor([-25.5114], requires_grad=True)\n",
      "Parameter containing:\n",
      "tensor([125.8968], requires_grad=True)\n",
      "Parameter containing:\n",
      "tensor([-14.0163], requires_grad=True)\n",
      "Parameter containing:\n",
      "tensor([49.8305], requires_grad=True)\n",
      "Parameter containing:\n",
      "tensor([-122.9990], requires_grad=True)\n",
      "Parameter containing:\n",
      "tensor([-71.2847], requires_grad=True)\n",
      "Parameter containing:\n",
      "tensor([62.3032], requires_grad=True)\n"
     ]
    },
    {
     "data": {
      "application/vnd.jupyter.widget-view+json": {
       "model_id": "67dcba3b1b7e44c58ff14faf2e7c04e5",
       "version_major": 2,
       "version_minor": 0
      },
      "text/plain": [
       "  0%|          | 0/1000 [00:00<?, ?it/s]"
      ]
     },
     "metadata": {},
     "output_type": "display_data"
    },
    {
     "data": {
      "application/vnd.jupyter.widget-view+json": {
       "model_id": "94c8bf0d118b47a19f9659f70f8e49ba",
       "version_major": 2,
       "version_minor": 0
      },
      "text/plain": [
       "  0%|          | 0/1000 [00:00<?, ?it/s]"
      ]
     },
     "metadata": {},
     "output_type": "display_data"
    },
    {
     "name": "stdout",
     "output_type": "stream",
     "text": [
      "tensor([2, 1])\n",
      "tensor([2, 1])\n",
      "tensor([2, 1])\n",
      "Parameter containing:\n",
      "tensor([[0.5979, 0.7046, 0.8777],\n",
      "        [0.4090, 0.9906, 0.5510]], requires_grad=True)\n",
      "Parameter containing:\n",
      "tensor([[0.5335, 0.6443, 0.8132],\n",
      "        [0.3130, 0.8934, 0.4550]], requires_grad=True)\n",
      "Parameter containing:\n",
      "tensor([[0.5950, 0.7106, 0.8725],\n",
      "        [0.3907, 0.9664, 0.5317]], requires_grad=True)\n",
      "acc  0 1.3849458694458008\n",
      "acc  1 1.4592771530151367\n",
      "acc  2 1.207685947418213\n",
      "1.35063632329305 10\n"
     ]
    },
    {
     "data": {
      "application/vnd.jupyter.widget-view+json": {
       "model_id": "84651aee468d43059ee5fd7799f76796",
       "version_major": 2,
       "version_minor": 0
      },
      "text/plain": [
       "  0%|          | 0/1000 [00:00<?, ?it/s]"
      ]
     },
     "metadata": {},
     "output_type": "display_data"
    },
    {
     "data": {
      "application/vnd.jupyter.widget-view+json": {
       "model_id": "94e5cdb872524353a17b83f02c8f7f05",
       "version_major": 2,
       "version_minor": 0
      },
      "text/plain": [
       "  0%|          | 0/1000 [00:00<?, ?it/s]"
      ]
     },
     "metadata": {},
     "output_type": "display_data"
    },
    {
     "name": "stdout",
     "output_type": "stream",
     "text": [
      "tensor([1, 2])\n",
      "tensor([1, 2])\n",
      "tensor([1, 2])\n",
      "Parameter containing:\n",
      "tensor([[-0.6305,  2.0457,  0.1563],\n",
      "        [ 0.5244, -1.5001,  1.5558]], requires_grad=True)\n",
      "Parameter containing:\n",
      "tensor([[-0.6264,  2.0619, -0.0310],\n",
      "        [ 1.0340, -1.1612,  1.8255]], requires_grad=True)\n",
      "Parameter containing:\n",
      "tensor([[-0.6374,  2.0619,  0.1656],\n",
      "        [ 0.7954, -1.2186,  1.8327]], requires_grad=True)\n",
      "acc  0 1.2031519412994385\n",
      "acc  1 1.5571820735931396\n",
      "acc  2 1.5462380647659302\n",
      "1.4355240265528362 10\n"
     ]
    },
    {
     "data": {
      "application/vnd.jupyter.widget-view+json": {
       "model_id": "13e984a95b584c819da168d0d7f923d2",
       "version_major": 2,
       "version_minor": 0
      },
      "text/plain": [
       "  0%|          | 0/1000 [00:00<?, ?it/s]"
      ]
     },
     "metadata": {},
     "output_type": "display_data"
    },
    {
     "data": {
      "application/vnd.jupyter.widget-view+json": {
       "model_id": "d93600b6281d49eba8cac4f3a1680a90",
       "version_major": 2,
       "version_minor": 0
      },
      "text/plain": [
       "  0%|          | 0/1000 [00:00<?, ?it/s]"
      ]
     },
     "metadata": {},
     "output_type": "display_data"
    },
    {
     "name": "stdout",
     "output_type": "stream",
     "text": [
      "tensor([0, 2])\n",
      "tensor([0, 2])\n",
      "tensor([0, 2])\n",
      "Parameter containing:\n",
      "tensor([[ 1.0978,  0.8316,  0.3486],\n",
      "        [ 0.4197, -0.4846,  1.5569]], requires_grad=True)\n",
      "Parameter containing:\n",
      "tensor([[ 0.8322,  0.5642,  0.0865],\n",
      "        [ 0.7979, -0.1134,  1.9364]], requires_grad=True)\n",
      "Parameter containing:\n",
      "tensor([[ 0.8699,  0.5951,  0.1259],\n",
      "        [ 0.4522, -0.4561,  1.5860]], requires_grad=True)\n",
      "acc  0 1.6055883169174194\n",
      "acc  1 2.1524815559387207\n",
      "acc  2 2.0920934677124023\n",
      "1.950054446856181 10\n"
     ]
    },
    {
     "data": {
      "application/vnd.jupyter.widget-view+json": {
       "model_id": "7092fe4b826d497bb7a275f0a075b863",
       "version_major": 2,
       "version_minor": 0
      },
      "text/plain": [
       "  0%|          | 0/1000 [00:00<?, ?it/s]"
      ]
     },
     "metadata": {},
     "output_type": "display_data"
    },
    {
     "data": {
      "application/vnd.jupyter.widget-view+json": {
       "model_id": "a2751ba7ffc5476c860ba07b5e5b107f",
       "version_major": 2,
       "version_minor": 0
      },
      "text/plain": [
       "  0%|          | 0/1000 [00:00<?, ?it/s]"
      ]
     },
     "metadata": {},
     "output_type": "display_data"
    },
    {
     "name": "stdout",
     "output_type": "stream",
     "text": [
      "tensor([2, 0])\n",
      "tensor([2, 0])\n",
      "tensor([2, 0])\n",
      "Parameter containing:\n",
      "tensor([[ 0.5142,  0.0128,  1.3047],\n",
      "        [ 1.2570, -0.3779,  0.6257]], requires_grad=True)\n",
      "Parameter containing:\n",
      "tensor([[ 0.4521, -0.0670,  1.2418],\n",
      "        [ 0.8533, -0.7831,  0.2203]], requires_grad=True)\n",
      "Parameter containing:\n",
      "tensor([[ 0.3715, -0.0838,  1.1823],\n",
      "        [ 1.3882, -0.2556,  0.7376]], requires_grad=True)\n",
      "acc  0 1.3661874532699585\n",
      "acc  1 0.8902943134307861\n",
      "acc  2 1.003743052482605\n",
      "1.08674160639445 10\n"
     ]
    },
    {
     "data": {
      "application/vnd.jupyter.widget-view+json": {
       "model_id": "5fa7687923b641379877929b1fbad962",
       "version_major": 2,
       "version_minor": 0
      },
      "text/plain": [
       "  0%|          | 0/1000 [00:00<?, ?it/s]"
      ]
     },
     "metadata": {},
     "output_type": "display_data"
    },
    {
     "data": {
      "application/vnd.jupyter.widget-view+json": {
       "model_id": "3d3ced679a3f4da996860b38f73c5bbd",
       "version_major": 2,
       "version_minor": 0
      },
      "text/plain": [
       "  0%|          | 0/1000 [00:00<?, ?it/s]"
      ]
     },
     "metadata": {},
     "output_type": "display_data"
    },
    {
     "name": "stdout",
     "output_type": "stream",
     "text": [
      "tensor([1, 1])\n",
      "tensor([1, 1])\n",
      "tensor([1, 1])\n",
      "Parameter containing:\n",
      "tensor([[ 0.3780,  0.6017,  0.2588],\n",
      "        [-0.2226,  1.3333,  0.6430]], requires_grad=True)\n",
      "Parameter containing:\n",
      "tensor([[ 0.1974,  0.4062,  0.0747],\n",
      "        [-0.3788,  1.1880,  0.5003]], requires_grad=True)\n",
      "Parameter containing:\n",
      "tensor([[ 0.7112,  0.9449,  0.5903],\n",
      "        [-0.0392,  1.5475,  0.8438]], requires_grad=True)\n",
      "acc  0 1.7028684616088867\n",
      "acc  1 1.6759334802627563\n",
      "acc  2 1.847232460975647\n",
      "1.7420114676157634 10\n"
     ]
    },
    {
     "data": {
      "application/vnd.jupyter.widget-view+json": {
       "model_id": "3fc28c0874cb40c3b4894bc51a15bc37",
       "version_major": 2,
       "version_minor": 0
      },
      "text/plain": [
       "  0%|          | 0/1000 [00:00<?, ?it/s]"
      ]
     },
     "metadata": {},
     "output_type": "display_data"
    },
    {
     "data": {
      "application/vnd.jupyter.widget-view+json": {
       "model_id": "bba4f89c60b3437499f3cee11c8c1ee2",
       "version_major": 2,
       "version_minor": 0
      },
      "text/plain": [
       "  0%|          | 0/1000 [00:00<?, ?it/s]"
      ]
     },
     "metadata": {},
     "output_type": "display_data"
    },
    {
     "name": "stdout",
     "output_type": "stream",
     "text": [
      "tensor([1, 2])\n",
      "tensor([1, 2])\n",
      "tensor([1, 2])\n",
      "Parameter containing:\n",
      "tensor([[-1.1285,  2.2783, -0.5792],\n",
      "        [-1.0397, -0.7068,  3.9766]], requires_grad=True)\n",
      "Parameter containing:\n",
      "tensor([[-0.8528,  2.5088, -0.2850],\n",
      "        [-1.2763, -0.7248,  4.0227]], requires_grad=True)\n",
      "Parameter containing:\n",
      "tensor([[-1.0830,  2.2762, -0.5261],\n",
      "        [-1.5173, -0.9860,  3.7433]], requires_grad=True)\n",
      "acc  0 1.0558340549468994\n",
      "acc  1 1.133865237236023\n",
      "acc  2 0.6908763647079468\n",
      "0.9601918856302897 10\n"
     ]
    },
    {
     "data": {
      "application/vnd.jupyter.widget-view+json": {
       "model_id": "0420e1cbf60e4936b2e61196af0db16e",
       "version_major": 2,
       "version_minor": 0
      },
      "text/plain": [
       "  0%|          | 0/1000 [00:00<?, ?it/s]"
      ]
     },
     "metadata": {},
     "output_type": "display_data"
    },
    {
     "data": {
      "application/vnd.jupyter.widget-view+json": {
       "model_id": "fb35bafda2484fcf9c5d679feaf793ec",
       "version_major": 2,
       "version_minor": 0
      },
      "text/plain": [
       "  0%|          | 0/1000 [00:00<?, ?it/s]"
      ]
     },
     "metadata": {},
     "output_type": "display_data"
    },
    {
     "name": "stdout",
     "output_type": "stream",
     "text": [
      "tensor([2, 0])\n",
      "tensor([2, 0])\n",
      "tensor([2, 0])\n",
      "Parameter containing:\n",
      "tensor([[0.2057, 0.2958, 0.3986],\n",
      "        [0.6260, 0.5591, 0.5628]], requires_grad=True)\n",
      "Parameter containing:\n",
      "tensor([[0.5713, 0.6620, 0.7676],\n",
      "        [0.4231, 0.3560, 0.3589]], requires_grad=True)\n",
      "Parameter containing:\n",
      "tensor([[0.4720, 0.5614, 0.6651],\n",
      "        [0.4738, 0.4088, 0.4104]], requires_grad=True)\n",
      "acc  0 1.0142258405685425\n",
      "acc  1 1.0013022422790527\n",
      "acc  2 1.1779961585998535\n",
      "1.064508080482483 10\n"
     ]
    },
    {
     "data": {
      "application/vnd.jupyter.widget-view+json": {
       "model_id": "b8b5646eaa5040cfa1c56119e44d015f",
       "version_major": 2,
       "version_minor": 0
      },
      "text/plain": [
       "  0%|          | 0/1000 [00:00<?, ?it/s]"
      ]
     },
     "metadata": {},
     "output_type": "display_data"
    },
    {
     "data": {
      "application/vnd.jupyter.widget-view+json": {
       "model_id": "f9a7433e7dad4d478c7467af49ca7110",
       "version_major": 2,
       "version_minor": 0
      },
      "text/plain": [
       "  0%|          | 0/1000 [00:00<?, ?it/s]"
      ]
     },
     "metadata": {},
     "output_type": "display_data"
    },
    {
     "name": "stdout",
     "output_type": "stream",
     "text": [
      "tensor([2, 0])\n",
      "tensor([2, 0])\n",
      "tensor([2, 0])\n",
      "Parameter containing:\n",
      "tensor([[-0.0214,  0.0956,  0.4972],\n",
      "        [ 0.9322,  0.3063,  0.5493]], requires_grad=True)\n",
      "Parameter containing:\n",
      "tensor([[0.2549, 0.3735, 0.7741],\n",
      "        [0.6860, 0.0529, 0.3004]], requires_grad=True)\n",
      "Parameter containing:\n",
      "tensor([[0.2099, 0.3293, 0.7259],\n",
      "        [0.8066, 0.1759, 0.4214]], requires_grad=True)\n",
      "acc  0 0.6552903056144714\n",
      "acc  1 1.062591791152954\n",
      "acc  2 1.2120329141616821\n",
      "0.9766383369763693 10\n"
     ]
    },
    {
     "data": {
      "application/vnd.jupyter.widget-view+json": {
       "model_id": "c73b94f879dc45f3b82c2a05afea55df",
       "version_major": 2,
       "version_minor": 0
      },
      "text/plain": [
       "  0%|          | 0/1000 [00:00<?, ?it/s]"
      ]
     },
     "metadata": {},
     "output_type": "display_data"
    },
    {
     "data": {
      "application/vnd.jupyter.widget-view+json": {
       "model_id": "67e6d76a040647b785551dfb0b2074d0",
       "version_major": 2,
       "version_minor": 0
      },
      "text/plain": [
       "  0%|          | 0/1000 [00:00<?, ?it/s]"
      ]
     },
     "metadata": {},
     "output_type": "display_data"
    },
    {
     "name": "stdout",
     "output_type": "stream",
     "text": [
      "tensor([1, 0])\n",
      "tensor([1, 0])\n",
      "tensor([1, 0])\n",
      "Parameter containing:\n",
      "tensor([[0.1649, 0.6002, 0.3109],\n",
      "        [0.3554, 0.0812, 0.1494]], requires_grad=True)\n",
      "Parameter containing:\n",
      "tensor([[0.2854, 0.7558, 0.4996],\n",
      "        [0.6547, 0.3893, 0.4471]], requires_grad=True)\n",
      "Parameter containing:\n",
      "tensor([[0.5087, 0.9398, 0.6537],\n",
      "        [0.6525, 0.3755, 0.4428]], requires_grad=True)\n",
      "acc  0 1.1592671871185303\n",
      "acc  1 1.1455594301223755\n",
      "acc  2 1.0612517595291138\n",
      "1.1220261255900066 10\n"
     ]
    },
    {
     "data": {
      "application/vnd.jupyter.widget-view+json": {
       "model_id": "44163802b7954ebcb6b1d15fc9e8c117",
       "version_major": 2,
       "version_minor": 0
      },
      "text/plain": [
       "  0%|          | 0/1000 [00:00<?, ?it/s]"
      ]
     },
     "metadata": {},
     "output_type": "display_data"
    },
    {
     "data": {
      "application/vnd.jupyter.widget-view+json": {
       "model_id": "2a9ba9dc42a24919979c589d1a31d194",
       "version_major": 2,
       "version_minor": 0
      },
      "text/plain": [
       "  0%|          | 0/1000 [00:00<?, ?it/s]"
      ]
     },
     "metadata": {},
     "output_type": "display_data"
    },
    {
     "name": "stdout",
     "output_type": "stream",
     "text": [
      "tensor([1, 2])\n",
      "tensor([1, 2])\n",
      "tensor([1, 2])\n",
      "Parameter containing:\n",
      "tensor([[ 0.3680,  1.2975,  0.5085],\n",
      "        [-0.5181, -0.0056,  2.1020]], requires_grad=True)\n",
      "Parameter containing:\n",
      "tensor([[ 0.2631,  1.2019,  0.3947],\n",
      "        [-0.7479, -0.2424,  1.8670]], requires_grad=True)\n",
      "Parameter containing:\n",
      "tensor([[-0.0296,  1.0466,  0.1725],\n",
      "        [-0.6738, -0.1633,  1.9426]], requires_grad=True)\n",
      "acc  0 1.2969533205032349\n",
      "acc  1 1.1298152208328247\n",
      "acc  2 0.7620863318443298\n",
      "1.0629516243934631 10\n"
     ]
    },
    {
     "data": {
      "application/vnd.jupyter.widget-view+json": {
       "model_id": "76c611ddcf6f401e86ef984fb824c036",
       "version_major": 2,
       "version_minor": 0
      },
      "text/plain": [
       "  0%|          | 0/1000 [00:00<?, ?it/s]"
      ]
     },
     "metadata": {},
     "output_type": "display_data"
    },
    {
     "data": {
      "application/vnd.jupyter.widget-view+json": {
       "model_id": "748ac48580e8414ca99117929f44395b",
       "version_major": 2,
       "version_minor": 0
      },
      "text/plain": [
       "  0%|          | 0/1000 [00:00<?, ?it/s]"
      ]
     },
     "metadata": {},
     "output_type": "display_data"
    },
    {
     "name": "stdout",
     "output_type": "stream",
     "text": [
      "tensor([1, 0])\n",
      "tensor([1, 0])\n",
      "tensor([1, 0])\n",
      "Parameter containing:\n",
      "tensor([[ 0.1354,  1.7220,  0.3289],\n",
      "        [ 1.2974, -0.1557,  0.9517]], requires_grad=True)\n",
      "Parameter containing:\n",
      "tensor([[-0.1263,  1.4814,  0.0500],\n",
      "        [ 1.1172, -0.3341,  0.7592]], requires_grad=True)\n",
      "Parameter containing:\n",
      "tensor([[ 0.3013,  1.9087,  0.5099],\n",
      "        [ 1.1422, -0.3049,  0.7957]], requires_grad=True)\n",
      "acc  0 1.3070069551467896\n",
      "acc  1 1.3433541059494019\n",
      "acc  2 1.073365569114685\n",
      "1.2412422100702922 10\n"
     ]
    },
    {
     "data": {
      "application/vnd.jupyter.widget-view+json": {
       "model_id": "6dafc3e39cce4931a6a176900b28fe87",
       "version_major": 2,
       "version_minor": 0
      },
      "text/plain": [
       "  0%|          | 0/1000 [00:00<?, ?it/s]"
      ]
     },
     "metadata": {},
     "output_type": "display_data"
    },
    {
     "data": {
      "application/vnd.jupyter.widget-view+json": {
       "model_id": "6a9a3770d02c4850bbdd650c821bb4d0",
       "version_major": 2,
       "version_minor": 0
      },
      "text/plain": [
       "  0%|          | 0/1000 [00:00<?, ?it/s]"
      ]
     },
     "metadata": {},
     "output_type": "display_data"
    },
    {
     "name": "stdout",
     "output_type": "stream",
     "text": [
      "tensor([1, 1])\n",
      "tensor([1, 1])\n",
      "tensor([1, 1])\n",
      "Parameter containing:\n",
      "tensor([[ 1.2326,  1.5711, -0.6385],\n",
      "        [ 0.2662,  1.6870, -0.1608]], requires_grad=True)\n",
      "Parameter containing:\n",
      "tensor([[ 0.9455,  1.2787, -0.8607],\n",
      "        [ 0.1517,  1.6059, -0.2562]], requires_grad=True)\n",
      "Parameter containing:\n",
      "tensor([[ 1.0509,  1.3945, -0.7961],\n",
      "        [ 0.0689,  1.4799, -0.3714]], requires_grad=True)\n",
      "acc  0 1.1026768684387207\n",
      "acc  1 0.6990684270858765\n",
      "acc  2 1.2841286659240723\n",
      "1.0286246538162231 10\n"
     ]
    },
    {
     "data": {
      "application/vnd.jupyter.widget-view+json": {
       "model_id": "a79d847e9a8f4f7ba26263e7b5a8a0c2",
       "version_major": 2,
       "version_minor": 0
      },
      "text/plain": [
       "  0%|          | 0/1000 [00:00<?, ?it/s]"
      ]
     },
     "metadata": {},
     "output_type": "display_data"
    },
    {
     "data": {
      "application/vnd.jupyter.widget-view+json": {
       "model_id": "1280dd7e641b4de1a686bef3dbd572aa",
       "version_major": 2,
       "version_minor": 0
      },
      "text/plain": [
       "  0%|          | 0/1000 [00:00<?, ?it/s]"
      ]
     },
     "metadata": {},
     "output_type": "display_data"
    },
    {
     "name": "stdout",
     "output_type": "stream",
     "text": [
      "tensor([2, 1])\n",
      "tensor([2, 1])\n",
      "tensor([2, 1])\n",
      "Parameter containing:\n",
      "tensor([[0.7163, 0.5752, 0.9115],\n",
      "        [0.4454, 0.8751, 0.4781]], requires_grad=True)\n",
      "Parameter containing:\n",
      "tensor([[0.4396, 0.2965, 0.6350],\n",
      "        [0.1033, 0.5357, 0.1323]], requires_grad=True)\n",
      "Parameter containing:\n",
      "tensor([[0.5727, 0.4317, 0.7659],\n",
      "        [0.4931, 0.9283, 0.5259]], requires_grad=True)\n",
      "acc  0 1.485708236694336\n",
      "acc  1 0.7999261617660522\n",
      "acc  2 1.2035191059112549\n",
      "1.163051168123881 10\n"
     ]
    },
    {
     "data": {
      "application/vnd.jupyter.widget-view+json": {
       "model_id": "7d2cb17a66374bd98767a0f2651f249a",
       "version_major": 2,
       "version_minor": 0
      },
      "text/plain": [
       "  0%|          | 0/1000 [00:00<?, ?it/s]"
      ]
     },
     "metadata": {},
     "output_type": "display_data"
    },
    {
     "data": {
      "application/vnd.jupyter.widget-view+json": {
       "model_id": "328660c60e414549adb17f9b0aeeb487",
       "version_major": 2,
       "version_minor": 0
      },
      "text/plain": [
       "  0%|          | 0/1000 [00:00<?, ?it/s]"
      ]
     },
     "metadata": {},
     "output_type": "display_data"
    },
    {
     "name": "stdout",
     "output_type": "stream",
     "text": [
      "tensor([0, 2])\n",
      "tensor([0, 2])\n",
      "tensor([0, 2])\n",
      "Parameter containing:\n",
      "tensor([[ 1.4735,  1.1083, -0.0644],\n",
      "        [ 0.3986,  0.6567,  0.8568]], requires_grad=True)\n",
      "Parameter containing:\n",
      "tensor([[ 1.2320,  0.8769, -0.2814],\n",
      "        [-0.1245,  0.1400,  0.3323]], requires_grad=True)\n",
      "Parameter containing:\n",
      "tensor([[ 1.3574,  1.0015, -0.2204],\n",
      "        [ 0.3733,  0.6418,  0.8346]], requires_grad=True)\n",
      "acc  0 0.8996307849884033\n",
      "acc  1 1.444575309753418\n",
      "acc  2 1.226897120475769\n",
      "1.1903677384058635 10\n"
     ]
    },
    {
     "data": {
      "application/vnd.jupyter.widget-view+json": {
       "model_id": "dc9fb2f4db2b40549519ad7d5e889f0a",
       "version_major": 2,
       "version_minor": 0
      },
      "text/plain": [
       "  0%|          | 0/1000 [00:00<?, ?it/s]"
      ]
     },
     "metadata": {},
     "output_type": "display_data"
    },
    {
     "data": {
      "application/vnd.jupyter.widget-view+json": {
       "model_id": "eb3c4dd14d6b41c5bf496dbad5283c11",
       "version_major": 2,
       "version_minor": 0
      },
      "text/plain": [
       "  0%|          | 0/1000 [00:00<?, ?it/s]"
      ]
     },
     "metadata": {},
     "output_type": "display_data"
    },
    {
     "name": "stdout",
     "output_type": "stream",
     "text": [
      "tensor([2, 1])\n",
      "tensor([2, 1])\n",
      "tensor([2, 1])\n",
      "Parameter containing:\n",
      "tensor([[0.4417, 0.5570, 0.8687],\n",
      "        [0.1639, 1.3153, 0.6620]], requires_grad=True)\n",
      "Parameter containing:\n",
      "tensor([[ 0.3139,  0.4302,  0.7436],\n",
      "        [-0.0424,  1.1133,  0.4535]], requires_grad=True)\n",
      "Parameter containing:\n",
      "tensor([[ 0.1819,  0.3120,  0.6326],\n",
      "        [-0.0036,  1.2037,  0.5292]], requires_grad=True)\n",
      "acc  0 0.9929911494255066\n",
      "acc  1 1.1549625396728516\n",
      "acc  2 1.159103274345398\n",
      "1.1023523211479187 10\n"
     ]
    },
    {
     "data": {
      "application/vnd.jupyter.widget-view+json": {
       "model_id": "15eebfea51b643f78b3676ad4271337d",
       "version_major": 2,
       "version_minor": 0
      },
      "text/plain": [
       "  0%|          | 0/1000 [00:00<?, ?it/s]"
      ]
     },
     "metadata": {},
     "output_type": "display_data"
    },
    {
     "data": {
      "application/vnd.jupyter.widget-view+json": {
       "model_id": "5e401531d20e4d528815871ed24b90bc",
       "version_major": 2,
       "version_minor": 0
      },
      "text/plain": [
       "  0%|          | 0/1000 [00:00<?, ?it/s]"
      ]
     },
     "metadata": {},
     "output_type": "display_data"
    },
    {
     "name": "stdout",
     "output_type": "stream",
     "text": [
      "tensor([2, 1])\n",
      "tensor([2, 1])\n",
      "tensor([2, 1])\n",
      "Parameter containing:\n",
      "tensor([[ 0.0121, -0.9329,  1.9414],\n",
      "        [ 0.2959,  3.1021, -2.3304]], requires_grad=True)\n",
      "Parameter containing:\n",
      "tensor([[ 0.4141, -0.3901,  2.2467],\n",
      "        [ 0.5285,  3.1222, -1.8145]], requires_grad=True)\n",
      "Parameter containing:\n",
      "tensor([[ 0.0822, -0.7221,  1.9154],\n",
      "        [ 0.3233,  2.9204, -2.0202]], requires_grad=True)\n",
      "acc  0 0.8079759478569031\n",
      "acc  1 1.1399898529052734\n",
      "acc  2 1.1030648946762085\n",
      "1.017010231812795 10\n"
     ]
    },
    {
     "data": {
      "application/vnd.jupyter.widget-view+json": {
       "model_id": "5d8db51c7f664324aa4a89de3c3dd38c",
       "version_major": 2,
       "version_minor": 0
      },
      "text/plain": [
       "  0%|          | 0/1000 [00:00<?, ?it/s]"
      ]
     },
     "metadata": {},
     "output_type": "display_data"
    },
    {
     "data": {
      "application/vnd.jupyter.widget-view+json": {
       "model_id": "3c29b6a57dab485f8526718027fe0f0c",
       "version_major": 2,
       "version_minor": 0
      },
      "text/plain": [
       "  0%|          | 0/1000 [00:00<?, ?it/s]"
      ]
     },
     "metadata": {},
     "output_type": "display_data"
    },
    {
     "name": "stdout",
     "output_type": "stream",
     "text": [
      "tensor([2, 2])\n",
      "tensor([2, 2])\n",
      "tensor([2, 2])\n",
      "Parameter containing:\n",
      "tensor([[ 0.1030,  0.3292,  0.8994],\n",
      "        [ 0.6481, -0.8456,  1.7779]], requires_grad=True)\n",
      "Parameter containing:\n",
      "tensor([[-0.0972,  0.1474,  0.7363],\n",
      "        [ 0.7390, -0.9166,  1.8472]], requires_grad=True)\n",
      "Parameter containing:\n",
      "tensor([[ 0.2981,  0.4821,  1.0841],\n",
      "        [ 0.6396, -0.8723,  1.8464]], requires_grad=True)\n",
      "acc  0 0.7801899909973145\n",
      "acc  1 0.7738405466079712\n",
      "acc  2 0.901419997215271\n",
      "0.8184835116068522 10\n"
     ]
    },
    {
     "data": {
      "application/vnd.jupyter.widget-view+json": {
       "model_id": "18c20a294bca4f648a3c9d7f223b5371",
       "version_major": 2,
       "version_minor": 0
      },
      "text/plain": [
       "  0%|          | 0/1000 [00:00<?, ?it/s]"
      ]
     },
     "metadata": {},
     "output_type": "display_data"
    },
    {
     "data": {
      "application/vnd.jupyter.widget-view+json": {
       "model_id": "24ca3a2157bb46b282300beea209ef85",
       "version_major": 2,
       "version_minor": 0
      },
      "text/plain": [
       "  0%|          | 0/1000 [00:00<?, ?it/s]"
      ]
     },
     "metadata": {},
     "output_type": "display_data"
    },
    {
     "name": "stdout",
     "output_type": "stream",
     "text": [
      "tensor([1, 2])\n",
      "tensor([1, 2])\n",
      "tensor([1, 2])\n",
      "Parameter containing:\n",
      "tensor([[ 0.4792,  1.0143,  0.4562],\n",
      "        [-0.0119,  0.6596,  1.1277]], requires_grad=True)\n",
      "Parameter containing:\n",
      "tensor([[0.5664, 1.1162, 0.5474],\n",
      "        [0.0621, 0.7282, 1.1978]], requires_grad=True)\n",
      "Parameter containing:\n",
      "tensor([[ 0.2141,  0.7332,  0.1964],\n",
      "        [-0.0987,  0.5671,  1.0374]], requires_grad=True)\n",
      "acc  0 1.2197290658950806\n",
      "acc  1 0.8155718445777893\n",
      "acc  2 1.1673511266708374\n",
      "1.0675506790479024 10\n"
     ]
    },
    {
     "data": {
      "application/vnd.jupyter.widget-view+json": {
       "model_id": "e51752ea09db43aebb5676aae1823f2b",
       "version_major": 2,
       "version_minor": 0
      },
      "text/plain": [
       "  0%|          | 0/1000 [00:00<?, ?it/s]"
      ]
     },
     "metadata": {},
     "output_type": "display_data"
    },
    {
     "data": {
      "application/vnd.jupyter.widget-view+json": {
       "model_id": "2548b1591405412d93750f4efa60d6a9",
       "version_major": 2,
       "version_minor": 0
      },
      "text/plain": [
       "  0%|          | 0/1000 [00:00<?, ?it/s]"
      ]
     },
     "metadata": {},
     "output_type": "display_data"
    },
    {
     "name": "stdout",
     "output_type": "stream",
     "text": [
      "tensor([2, 2])\n",
      "tensor([2, 2])\n",
      "tensor([2, 2])\n",
      "Parameter containing:\n",
      "tensor([[-0.1086, -0.2641,  1.5651],\n",
      "        [ 0.7701, -0.2994,  1.4610]], requires_grad=True)\n",
      "Parameter containing:\n",
      "tensor([[-0.0766, -0.2389,  1.6066],\n",
      "        [ 0.8996, -0.1645,  1.5972]], requires_grad=True)\n",
      "Parameter containing:\n",
      "tensor([[-0.1253, -0.2652,  1.5716],\n",
      "        [ 0.4608, -0.6586,  1.1842]], requires_grad=True)\n",
      "acc  0 1.3006887435913086\n",
      "acc  1 1.0396902561187744\n",
      "acc  2 0.7281156182289124\n",
      "1.0228315393129985 10\n"
     ]
    },
    {
     "data": {
      "application/vnd.jupyter.widget-view+json": {
       "model_id": "ba8e13ac7ee345c88d6c07e84a37c75b",
       "version_major": 2,
       "version_minor": 0
      },
      "text/plain": [
       "  0%|          | 0/1000 [00:00<?, ?it/s]"
      ]
     },
     "metadata": {},
     "output_type": "display_data"
    },
    {
     "data": {
      "application/vnd.jupyter.widget-view+json": {
       "model_id": "3c950d0cb2c2406f84317662480256dc",
       "version_major": 2,
       "version_minor": 0
      },
      "text/plain": [
       "  0%|          | 0/1000 [00:00<?, ?it/s]"
      ]
     },
     "metadata": {},
     "output_type": "display_data"
    },
    {
     "name": "stdout",
     "output_type": "stream",
     "text": [
      "tensor([2, 2])\n",
      "tensor([2, 2])\n",
      "tensor([2, 2])\n",
      "Parameter containing:\n",
      "tensor([[-0.1078, -0.4433,  1.8232],\n",
      "        [-1.1069, -0.9509,  4.2013]], requires_grad=True)\n",
      "Parameter containing:\n",
      "tensor([[ 0.0667, -0.2907,  1.9531],\n",
      "        [-0.8982, -1.2534,  4.7117]], requires_grad=True)\n",
      "Parameter containing:\n",
      "tensor([[-0.1750, -0.4550,  1.7978],\n",
      "        [-1.2370, -1.0698,  4.0759]], requires_grad=True)\n",
      "acc  0 1.5060064792633057\n",
      "acc  1 1.282974123954773\n",
      "acc  2 1.0644400119781494\n",
      "1.2844735383987427 10\n",
      "[Parameter containing:\n",
      "tensor([[-0.1078, -0.4433,  1.8232],\n",
      "        [-1.1069, -0.9509,  4.2013]], requires_grad=True), Parameter containing:\n",
      "tensor([[ 0.0667, -0.2907,  1.9531],\n",
      "        [-0.8982, -1.2534,  4.7117]], requires_grad=True), Parameter containing:\n",
      "tensor([[-0.1750, -0.4550,  1.7978],\n",
      "        [-1.2370, -1.0698,  4.0759]], requires_grad=True)]\n",
      "Parameter containing:\n",
      "tensor([14.1254], requires_grad=True)\n",
      "Parameter containing:\n",
      "tensor([62.6617], requires_grad=True)\n",
      "Parameter containing:\n",
      "tensor([-64.3158], requires_grad=True)\n"
     ]
    },
    {
     "data": {
      "application/vnd.jupyter.widget-view+json": {
       "model_id": "c67e891da62645b4b619d7c909853ce2",
       "version_major": 2,
       "version_minor": 0
      },
      "text/plain": [
       "  0%|          | 0/1000 [00:00<?, ?it/s]"
      ]
     },
     "metadata": {},
     "output_type": "display_data"
    },
    {
     "data": {
      "application/vnd.jupyter.widget-view+json": {
       "model_id": "47d35b3bf3e74b95b013e02cd49e4cb8",
       "version_major": 2,
       "version_minor": 0
      },
      "text/plain": [
       "  0%|          | 0/1000 [00:00<?, ?it/s]"
      ]
     },
     "metadata": {},
     "output_type": "display_data"
    },
    {
     "name": "stdout",
     "output_type": "stream",
     "text": [
      "tensor([7, 2])\n",
      "tensor([7, 2])\n",
      "tensor([7, 2])\n",
      "Parameter containing:\n",
      "tensor([[0.8242, 0.5862, 0.4503, 0.9129, 0.3470, 0.7780, 0.3061, 0.9763],\n",
      "        [0.9763, 0.3451, 1.0092, 0.5952, 0.6171, 0.3302, 0.7636, 0.5731]],\n",
      "       requires_grad=True)\n",
      "Parameter containing:\n",
      "tensor([[ 0.7010,  0.4627,  0.3299,  0.7856,  0.2232,  0.6565,  0.1830,  0.8510],\n",
      "        [ 0.6413,  0.0126,  0.6734,  0.2516,  0.2779, -0.0092,  0.4354,  0.2300]],\n",
      "       requires_grad=True)\n",
      "Parameter containing:\n",
      "tensor([[0.8011, 0.5616, 0.4273, 0.8871, 0.3242, 0.7567, 0.2838, 0.9530],\n",
      "        [0.9654, 0.3323, 1.0023, 0.5766, 0.6013, 0.3117, 0.7536, 0.5610]],\n",
      "       requires_grad=True)\n",
      "acc  0 0.9468544721603394\n",
      "acc  1 1.0394651889801025\n",
      "acc  2 0.8458674550056458\n",
      "0.9440623720486959 10\n"
     ]
    },
    {
     "data": {
      "application/vnd.jupyter.widget-view+json": {
       "model_id": "57239f37fdfa4c10964c6085946ec7b7",
       "version_major": 2,
       "version_minor": 0
      },
      "text/plain": [
       "  0%|          | 0/1000 [00:00<?, ?it/s]"
      ]
     },
     "metadata": {},
     "output_type": "display_data"
    },
    {
     "data": {
      "application/vnd.jupyter.widget-view+json": {
       "model_id": "b5b14b0fa85f4ef7a1a0b4f0d957d286",
       "version_major": 2,
       "version_minor": 0
      },
      "text/plain": [
       "  0%|          | 0/1000 [00:00<?, ?it/s]"
      ]
     },
     "metadata": {},
     "output_type": "display_data"
    },
    {
     "name": "stdout",
     "output_type": "stream",
     "text": [
      "tensor([6, 4])\n",
      "tensor([6, 4])\n",
      "tensor([6, 4])\n",
      "Parameter containing:\n",
      "tensor([[ 0.0757, -0.9792,  0.5446,  0.1044, -0.0211, -0.4844,  3.2844,  0.2841],\n",
      "        [-0.0252, -0.1357, -0.1781,  0.2205,  3.8302, -0.0875,  0.4272,  0.6904]],\n",
      "       requires_grad=True)\n",
      "Parameter containing:\n",
      "tensor([[ 0.1440, -1.0105,  0.6894,  0.2598,  0.0848, -0.3166,  3.4530,  0.4422],\n",
      "        [-0.1659, -0.2131, -0.3286,  0.1623,  3.7589, -0.1930,  0.3461,  0.6323]],\n",
      "       requires_grad=True)\n",
      "Parameter containing:\n",
      "tensor([[ 0.3152, -0.7837,  0.7867,  0.2995,  0.2076, -0.2379,  3.5451,  0.5269],\n",
      "        [-0.0959, -0.2173, -0.2427,  0.1434,  3.7385, -0.2023,  0.3467,  0.5706]],\n",
      "       requires_grad=True)\n",
      "acc  0 1.293015956878662\n",
      "acc  1 1.3974380493164062\n",
      "acc  2 1.3685274124145508\n",
      "1.3529938062032063 10\n"
     ]
    },
    {
     "data": {
      "application/vnd.jupyter.widget-view+json": {
       "model_id": "7a65b386357344b8a3346616126be0b2",
       "version_major": 2,
       "version_minor": 0
      },
      "text/plain": [
       "  0%|          | 0/1000 [00:00<?, ?it/s]"
      ]
     },
     "metadata": {},
     "output_type": "display_data"
    },
    {
     "data": {
      "application/vnd.jupyter.widget-view+json": {
       "model_id": "122a72fc2876456f986584da3735d4d8",
       "version_major": 2,
       "version_minor": 0
      },
      "text/plain": [
       "  0%|          | 0/1000 [00:00<?, ?it/s]"
      ]
     },
     "metadata": {},
     "output_type": "display_data"
    },
    {
     "name": "stdout",
     "output_type": "stream",
     "text": [
      "tensor([4, 0])\n",
      "tensor([4, 0])\n",
      "tensor([4, 0])\n",
      "Parameter containing:\n",
      "tensor([[ 0.8131,  1.1189, -0.3943,  0.1461,  1.5958,  0.7496,  0.1204,  0.1199],\n",
      "        [ 1.4510, -0.2001,  0.7378,  0.1020,  1.2645, -0.0426,  0.8679,  1.3504]],\n",
      "       requires_grad=True)\n",
      "Parameter containing:\n",
      "tensor([[ 0.9397,  1.2434, -0.2916,  0.3125,  1.7208,  0.8778,  0.2131,  0.2142],\n",
      "        [ 1.2274, -0.4150,  0.5186, -0.1239,  1.0443, -0.2438,  0.6536,  1.1314]],\n",
      "       requires_grad=True)\n",
      "Parameter containing:\n",
      "tensor([[ 0.7526,  1.0966, -0.4921,  0.2139,  1.6011,  0.7300, -0.0328, -0.0711],\n",
      "        [ 1.1977, -0.5045,  0.4556, -0.2743,  0.9501, -0.5186,  0.6338,  1.1338]],\n",
      "       requires_grad=True)\n",
      "acc  0 1.5314480066299438\n",
      "acc  1 1.633302927017212\n",
      "acc  2 1.352307677268982\n",
      "1.5056862036387126 10\n"
     ]
    },
    {
     "data": {
      "application/vnd.jupyter.widget-view+json": {
       "model_id": "119d2283835d45f39ffe9b7444ac400f",
       "version_major": 2,
       "version_minor": 0
      },
      "text/plain": [
       "  0%|          | 0/1000 [00:00<?, ?it/s]"
      ]
     },
     "metadata": {},
     "output_type": "display_data"
    },
    {
     "data": {
      "application/vnd.jupyter.widget-view+json": {
       "model_id": "dd8d74f61bfc461a98d60e6057a38eed",
       "version_major": 2,
       "version_minor": 0
      },
      "text/plain": [
       "  0%|          | 0/1000 [00:00<?, ?it/s]"
      ]
     },
     "metadata": {},
     "output_type": "display_data"
    },
    {
     "name": "stdout",
     "output_type": "stream",
     "text": [
      "tensor([1, 7])\n",
      "tensor([1, 7])\n",
      "tensor([1, 7])\n",
      "Parameter containing:\n",
      "tensor([[0.7135, 0.7318, 0.4068, 0.6956, 0.3772, 0.3041, 0.3666, 0.5836],\n",
      "        [0.1042, 0.5148, 0.2789, 0.3454, 0.1181, 0.5935, 0.3185, 0.8053]],\n",
      "       requires_grad=True)\n",
      "Parameter containing:\n",
      "tensor([[0.7706, 0.8199, 0.4565, 0.7508, 0.4368, 0.3583, 0.3995, 0.6439],\n",
      "        [0.2384, 0.6541, 0.4163, 0.4837, 0.2612, 0.7347, 0.4567, 0.9413]],\n",
      "       requires_grad=True)\n",
      "Parameter containing:\n",
      "tensor([[0.6709, 0.6839, 0.3610, 0.6620, 0.3256, 0.2610, 0.3198, 0.5424],\n",
      "        [0.0801, 0.4981, 0.2603, 0.3269, 0.1017, 0.5724, 0.2961, 0.7854]],\n",
      "       requires_grad=True)\n",
      "acc  0 1.2923012971878052\n",
      "acc  1 0.7545924782752991\n",
      "acc  2 0.8959580659866333\n",
      "0.9809506138165792 10\n"
     ]
    },
    {
     "data": {
      "application/vnd.jupyter.widget-view+json": {
       "model_id": "179cb96b7555493aa4ef8b9e4219d7e2",
       "version_major": 2,
       "version_minor": 0
      },
      "text/plain": [
       "  0%|          | 0/1000 [00:00<?, ?it/s]"
      ]
     },
     "metadata": {},
     "output_type": "display_data"
    },
    {
     "data": {
      "application/vnd.jupyter.widget-view+json": {
       "model_id": "85a040031c0841008a1c69bc34e1876f",
       "version_major": 2,
       "version_minor": 0
      },
      "text/plain": [
       "  0%|          | 0/1000 [00:00<?, ?it/s]"
      ]
     },
     "metadata": {},
     "output_type": "display_data"
    },
    {
     "name": "stdout",
     "output_type": "stream",
     "text": [
      "tensor([3, 2])\n",
      "tensor([3, 4])\n",
      "tensor([3, 4])\n",
      "Parameter containing:\n",
      "tensor([[0.6668, 0.4394, 0.1538, 0.7779, 0.3813, 0.5721, 0.4708, 0.0607],\n",
      "        [0.1519, 0.1994, 1.1318, 0.6389, 1.1193, 0.3503, 0.2890, 0.7028]],\n",
      "       requires_grad=True)\n",
      "Parameter containing:\n",
      "tensor([[0.7589, 0.5428, 0.2485, 0.8599, 0.4699, 0.6672, 0.5700, 0.1551],\n",
      "        [0.2970, 0.3301, 1.2715, 0.7857, 1.2769, 0.4863, 0.4282, 0.8463]],\n",
      "       requires_grad=True)\n",
      "Parameter containing:\n",
      "tensor([[ 0.6877,  0.4786,  0.1714,  0.8097,  0.3824,  0.5916,  0.5066,  0.0467],\n",
      "        [-0.0285,  0.0017,  0.9450,  0.4690,  0.9543,  0.1629,  0.1038,  0.5242]],\n",
      "       requires_grad=True)\n",
      "acc  0 1.3239158391952515\n",
      "acc  1 1.1566804647445679\n",
      "acc  2 1.5060590505599976\n",
      "1.3288851181666057 19\n"
     ]
    },
    {
     "data": {
      "application/vnd.jupyter.widget-view+json": {
       "model_id": "7501341cd68a4bf6be637bde2e58889b",
       "version_major": 2,
       "version_minor": 0
      },
      "text/plain": [
       "  0%|          | 0/1000 [00:00<?, ?it/s]"
      ]
     },
     "metadata": {},
     "output_type": "display_data"
    },
    {
     "data": {
      "application/vnd.jupyter.widget-view+json": {
       "model_id": "fe20fd6c52dc444ebad262f0aa8b3e9a",
       "version_major": 2,
       "version_minor": 0
      },
      "text/plain": [
       "  0%|          | 0/1000 [00:00<?, ?it/s]"
      ]
     },
     "metadata": {},
     "output_type": "display_data"
    },
    {
     "name": "stdout",
     "output_type": "stream",
     "text": [
      "tensor([4, 7])\n",
      "tensor([4, 7])\n",
      "tensor([4, 7])\n",
      "Parameter containing:\n",
      "tensor([[ 1.0234e-03,  4.2302e-01,  7.8797e-01,  4.1827e-01,  2.4946e+00,\n",
      "         -4.6211e-01,  1.5486e-01,  2.0717e-01],\n",
      "        [ 1.1631e+00,  1.4219e+00, -1.2406e+00, -5.6713e-01, -5.9879e-01,\n",
      "          1.3515e-01,  1.2435e+00,  1.7395e+00]], requires_grad=True)\n",
      "Parameter containing:\n",
      "tensor([[-0.1467,  0.2951,  0.6300,  0.2473,  2.3519, -0.5573, -0.0035,  0.0731],\n",
      "        [ 1.1840,  1.4755, -1.0931, -0.4896, -0.5678,  0.1492,  1.2712,  1.7359]],\n",
      "       requires_grad=True)\n",
      "Parameter containing:\n",
      "tensor([[-0.0878,  0.3230,  0.6970,  0.3163,  2.3765, -0.4919,  0.0727,  0.1103],\n",
      "        [ 1.0878,  1.3199, -1.1754, -0.5484, -0.6078,  0.1013,  1.2054,  1.6494]],\n",
      "       requires_grad=True)\n",
      "acc  0 0.88565593957901\n",
      "acc  1 1.0526036024093628\n",
      "acc  2 1.0396920442581177\n",
      "0.9926505287488302 10\n"
     ]
    },
    {
     "data": {
      "application/vnd.jupyter.widget-view+json": {
       "model_id": "da8990409d2c427cbd2b45e07c05fc8a",
       "version_major": 2,
       "version_minor": 0
      },
      "text/plain": [
       "  0%|          | 0/1000 [00:00<?, ?it/s]"
      ]
     },
     "metadata": {},
     "output_type": "display_data"
    },
    {
     "data": {
      "application/vnd.jupyter.widget-view+json": {
       "model_id": "0358f5f831ec4382a6323477917127fc",
       "version_major": 2,
       "version_minor": 0
      },
      "text/plain": [
       "  0%|          | 0/1000 [00:00<?, ?it/s]"
      ]
     },
     "metadata": {},
     "output_type": "display_data"
    },
    {
     "name": "stdout",
     "output_type": "stream",
     "text": [
      "tensor([4, 0])\n",
      "tensor([4, 0])\n",
      "tensor([4, 0])\n",
      "Parameter containing:\n",
      "tensor([[0.2431, 0.2474, 0.4870, 0.4537, 0.7766, 0.6448, 0.3625, 0.6731],\n",
      "        [0.9500, 0.2889, 0.0520, 0.5451, 0.3100, 0.8655, 0.7180, 0.1115]],\n",
      "       requires_grad=True)\n",
      "Parameter containing:\n",
      "tensor([[0.2724, 0.2762, 0.4988, 0.4884, 0.8115, 0.6825, 0.3928, 0.7001],\n",
      "        [1.1163, 0.4585, 0.2229, 0.7161, 0.4795, 1.0297, 0.8803, 0.2991]],\n",
      "       requires_grad=True)\n",
      "Parameter containing:\n",
      "tensor([[0.3415, 0.3467, 0.5956, 0.5510, 0.8773, 0.7480, 0.4636, 0.7755],\n",
      "        [1.1377, 0.4755, 0.2424, 0.7342, 0.5116, 1.0486, 0.9054, 0.3137]],\n",
      "       requires_grad=True)\n",
      "acc  0 1.2815098762512207\n",
      "acc  1 1.2071973085403442\n",
      "acc  2 1.3612674474716187\n",
      "1.2833248774210613 10\n"
     ]
    },
    {
     "data": {
      "application/vnd.jupyter.widget-view+json": {
       "model_id": "8c5cedc982ce4093bf6b3abd68daf65d",
       "version_major": 2,
       "version_minor": 0
      },
      "text/plain": [
       "  0%|          | 0/1000 [00:00<?, ?it/s]"
      ]
     },
     "metadata": {},
     "output_type": "display_data"
    },
    {
     "data": {
      "application/vnd.jupyter.widget-view+json": {
       "model_id": "17147ad6f4f14438832fd54c64fce6d9",
       "version_major": 2,
       "version_minor": 0
      },
      "text/plain": [
       "  0%|          | 0/1000 [00:00<?, ?it/s]"
      ]
     },
     "metadata": {},
     "output_type": "display_data"
    },
    {
     "name": "stdout",
     "output_type": "stream",
     "text": [
      "tensor([3, 7])\n",
      "tensor([3, 7])\n",
      "tensor([3, 7])\n",
      "Parameter containing:\n",
      "tensor([[-0.0477,  0.5561,  0.0016,  0.6356,  0.3017,  0.3652,  0.4495,  0.5808],\n",
      "        [ 0.7092,  0.3425,  0.2753,  0.5515,  0.3180,  0.4294,  0.6041,  0.8895]],\n",
      "       requires_grad=True)\n",
      "Parameter containing:\n",
      "tensor([[0.1603, 0.7610, 0.2121, 0.8338, 0.5065, 0.5749, 0.6572, 0.7771],\n",
      "        [0.6551, 0.2902, 0.2211, 0.4969, 0.2684, 0.3746, 0.5574, 0.8411]],\n",
      "       requires_grad=True)\n",
      "Parameter containing:\n",
      "tensor([[0.0806, 0.6877, 0.1270, 0.7665, 0.4299, 0.4939, 0.5788, 0.7106],\n",
      "        [0.6195, 0.2509, 0.1862, 0.4619, 0.2173, 0.3493, 0.5148, 0.8028]],\n",
      "       requires_grad=True)\n",
      "acc  0 2.0302228927612305\n",
      "acc  1 1.7713088989257812\n",
      "acc  2 2.1321146488189697\n",
      "1.9778821468353271 10\n"
     ]
    },
    {
     "data": {
      "application/vnd.jupyter.widget-view+json": {
       "model_id": "e6e62047de7e440ab838fe8ce36d8778",
       "version_major": 2,
       "version_minor": 0
      },
      "text/plain": [
       "  0%|          | 0/1000 [00:00<?, ?it/s]"
      ]
     },
     "metadata": {},
     "output_type": "display_data"
    },
    {
     "data": {
      "application/vnd.jupyter.widget-view+json": {
       "model_id": "f84ac1baa0434ce9a8cd22338edfb769",
       "version_major": 2,
       "version_minor": 0
      },
      "text/plain": [
       "  0%|          | 0/1000 [00:00<?, ?it/s]"
      ]
     },
     "metadata": {},
     "output_type": "display_data"
    },
    {
     "name": "stdout",
     "output_type": "stream",
     "text": [
      "tensor([3, 0])\n",
      "tensor([3, 0])\n",
      "tensor([3, 0])\n",
      "Parameter containing:\n",
      "tensor([[ 0.2968,  0.0996,  0.1412,  0.8237,  0.4161,  0.4095,  0.2091,  0.2140],\n",
      "        [ 1.1148,  0.5856,  0.5720,  0.9738,  0.0960,  0.7144,  0.6729, -0.0207]],\n",
      "       requires_grad=True)\n",
      "Parameter containing:\n",
      "tensor([[ 0.3773,  0.1863,  0.2255,  0.9171,  0.5059,  0.4887,  0.2937,  0.2992],\n",
      "        [ 0.8855,  0.3491,  0.3476,  0.7524, -0.1149,  0.4828,  0.4430, -0.2529]],\n",
      "       requires_grad=True)\n",
      "Parameter containing:\n",
      "tensor([[ 0.4867,  0.2808,  0.3382,  1.0095,  0.6024,  0.5963,  0.3953,  0.4020],\n",
      "        [ 0.8913,  0.3583,  0.3418,  0.7499, -0.1074,  0.4875,  0.4526, -0.2435]],\n",
      "       requires_grad=True)\n",
      "acc  0 1.2521907091140747\n",
      "acc  1 1.1936591863632202\n",
      "acc  2 1.1427068710327148\n",
      "1.19618558883667 10\n"
     ]
    },
    {
     "data": {
      "application/vnd.jupyter.widget-view+json": {
       "model_id": "93b80030f6da453191ae1122ae6c7e4d",
       "version_major": 2,
       "version_minor": 0
      },
      "text/plain": [
       "  0%|          | 0/1000 [00:00<?, ?it/s]"
      ]
     },
     "metadata": {},
     "output_type": "display_data"
    },
    {
     "data": {
      "application/vnd.jupyter.widget-view+json": {
       "model_id": "0f50737389ba4cdf97cb30a57d6b4a32",
       "version_major": 2,
       "version_minor": 0
      },
      "text/plain": [
       "  0%|          | 0/1000 [00:00<?, ?it/s]"
      ]
     },
     "metadata": {},
     "output_type": "display_data"
    },
    {
     "name": "stdout",
     "output_type": "stream",
     "text": [
      "tensor([1, 1])\n",
      "tensor([1, 1])\n",
      "tensor([1, 1])\n",
      "Parameter containing:\n",
      "tensor([[ 0.3633,  1.6595,  0.8635, -0.5432,  0.9682,  0.0675, -0.0151,  1.4897],\n",
      "        [-0.4534,  2.5932,  0.7541, -0.8770, -0.6832,  1.0324,  0.6358,  0.5270]],\n",
      "       requires_grad=True)\n",
      "Parameter containing:\n",
      "tensor([[ 0.3974,  1.6808,  0.8630, -0.4986,  0.9702,  0.0774, -0.0038,  1.4933],\n",
      "        [-0.4935,  2.5409,  0.7034, -0.9380, -0.7118,  0.9807,  0.6124,  0.4813]],\n",
      "       requires_grad=True)\n",
      "Parameter containing:\n",
      "tensor([[ 0.2716,  1.5617,  0.7184, -0.6183,  0.8241, -0.0433, -0.1214,  1.3847],\n",
      "        [-1.2709,  2.7175,  0.8953, -1.1038, -0.5737,  1.1750,  0.9880,  0.6698]],\n",
      "       requires_grad=True)\n",
      "acc  0 1.320845365524292\n",
      "acc  1 1.1326897144317627\n",
      "acc  2 0.6674624085426331\n",
      "1.0403324961662292 10\n"
     ]
    },
    {
     "data": {
      "application/vnd.jupyter.widget-view+json": {
       "model_id": "8ec2d2064e7e423981217877dc1b5e63",
       "version_major": 2,
       "version_minor": 0
      },
      "text/plain": [
       "  0%|          | 0/1000 [00:00<?, ?it/s]"
      ]
     },
     "metadata": {},
     "output_type": "display_data"
    },
    {
     "data": {
      "application/vnd.jupyter.widget-view+json": {
       "model_id": "13eab7d962e44ce485852cccb9d5fc14",
       "version_major": 2,
       "version_minor": 0
      },
      "text/plain": [
       "  0%|          | 0/1000 [00:00<?, ?it/s]"
      ]
     },
     "metadata": {},
     "output_type": "display_data"
    },
    {
     "name": "stdout",
     "output_type": "stream",
     "text": [
      "tensor([4, 3])\n",
      "tensor([4, 3])\n",
      "tensor([4, 3])\n",
      "Parameter containing:\n",
      "tensor([[ 0.7735,  0.9602,  0.6840,  0.8329,  1.0727,  0.4709,  0.1479,  0.5817],\n",
      "        [-0.7109, -0.3569, -0.3232,  2.0724,  1.3613,  0.9960,  1.4177,  0.2777]],\n",
      "       requires_grad=True)\n",
      "Parameter containing:\n",
      "tensor([[ 0.7668,  0.9752,  0.6697,  0.8659,  1.1012,  0.4800,  0.1357,  0.5874],\n",
      "        [-0.8805, -0.4493, -0.4427,  2.0247,  1.3232,  0.9647,  1.3807,  0.2488]],\n",
      "       requires_grad=True)\n",
      "Parameter containing:\n",
      "tensor([[ 0.4979,  0.7139,  0.4027,  0.5850,  0.8119,  0.2016, -0.1228,  0.2916],\n",
      "        [-0.8538, -0.4966, -0.4767,  1.9026,  1.1970,  0.8351,  1.2635,  0.1137]],\n",
      "       requires_grad=True)\n",
      "acc  0 1.2552595138549805\n",
      "acc  1 1.2956440448760986\n",
      "acc  2 0.9477642774581909\n",
      "1.16622261206309 10\n"
     ]
    },
    {
     "data": {
      "application/vnd.jupyter.widget-view+json": {
       "model_id": "34dce579de044a059aabdef7b5e44bc4",
       "version_major": 2,
       "version_minor": 0
      },
      "text/plain": [
       "  0%|          | 0/1000 [00:00<?, ?it/s]"
      ]
     },
     "metadata": {},
     "output_type": "display_data"
    },
    {
     "data": {
      "application/vnd.jupyter.widget-view+json": {
       "model_id": "b863f3d3b5a54700b2e8a1a54ccf1e62",
       "version_major": 2,
       "version_minor": 0
      },
      "text/plain": [
       "  0%|          | 0/1000 [00:00<?, ?it/s]"
      ]
     },
     "metadata": {},
     "output_type": "display_data"
    },
    {
     "name": "stdout",
     "output_type": "stream",
     "text": [
      "tensor([0, 6])\n",
      "tensor([0, 6])\n",
      "tensor([0, 6])\n",
      "Parameter containing:\n",
      "tensor([[0.6858, 0.6818, 0.5141, 0.4244, 0.5135, 0.5277, 0.4329, 0.5630],\n",
      "        [0.6935, 0.2945, 0.5107, 0.8102, 0.2899, 0.3113, 0.9620, 0.6411]],\n",
      "       requires_grad=True)\n",
      "Parameter containing:\n",
      "tensor([[0.5495, 0.5398, 0.3714, 0.2764, 0.3776, 0.3761, 0.2843, 0.4165],\n",
      "        [0.7057, 0.2840, 0.5000, 0.7950, 0.2149, 0.3006, 0.9310, 0.6324]],\n",
      "       requires_grad=True)\n",
      "Parameter containing:\n",
      "tensor([[0.6673, 0.6562, 0.4961, 0.4018, 0.5064, 0.5059, 0.4048, 0.5379],\n",
      "        [0.5661, 0.1834, 0.3932, 0.6887, 0.1570, 0.1949, 0.8270, 0.5245]],\n",
      "       requires_grad=True)\n",
      "acc  0 0.9695658087730408\n",
      "acc  1 0.8407106995582581\n",
      "acc  2 1.4314461946487427\n",
      "1.0805742343266804 10\n"
     ]
    },
    {
     "data": {
      "application/vnd.jupyter.widget-view+json": {
       "model_id": "a598dcd478e74191ad0a8a237f59fd1a",
       "version_major": 2,
       "version_minor": 0
      },
      "text/plain": [
       "  0%|          | 0/1000 [00:00<?, ?it/s]"
      ]
     },
     "metadata": {},
     "output_type": "display_data"
    },
    {
     "data": {
      "application/vnd.jupyter.widget-view+json": {
       "model_id": "93195e2191d3461c9355eaaf13b5d6cd",
       "version_major": 2,
       "version_minor": 0
      },
      "text/plain": [
       "  0%|          | 0/1000 [00:00<?, ?it/s]"
      ]
     },
     "metadata": {},
     "output_type": "display_data"
    },
    {
     "name": "stdout",
     "output_type": "stream",
     "text": [
      "tensor([2, 7])\n",
      "tensor([2, 7])\n",
      "tensor([2, 7])\n",
      "Parameter containing:\n",
      "tensor([[ 0.5265,  0.8060,  0.9123,  0.4735,  0.4316,  0.6968,  0.7772,  0.5459],\n",
      "        [ 0.3538,  0.7930, -0.0166,  0.1690,  0.5014,  0.3164,  0.3627,  0.8080]],\n",
      "       requires_grad=True)\n",
      "Parameter containing:\n",
      "tensor([[0.4520, 0.7445, 0.8503, 0.4107, 0.3716, 0.6379, 0.7128, 0.5032],\n",
      "        [0.4279, 0.8723, 0.0654, 0.2466, 0.5758, 0.3896, 0.4393, 0.8852]],\n",
      "       requires_grad=True)\n",
      "Parameter containing:\n",
      "tensor([[0.2764, 0.5775, 0.6875, 0.2447, 0.2156, 0.4709, 0.5442, 0.3321],\n",
      "        [0.5724, 1.0164, 0.2112, 0.3919, 0.7298, 0.5315, 0.5780, 1.0205]],\n",
      "       requires_grad=True)\n",
      "acc  0 2.343937635421753\n",
      "acc  1 1.6017051935195923\n",
      "acc  2 2.287123918533325\n",
      "2.07758891582489 10\n"
     ]
    },
    {
     "data": {
      "application/vnd.jupyter.widget-view+json": {
       "model_id": "7adcfd941b31462aae95d729842d2033",
       "version_major": 2,
       "version_minor": 0
      },
      "text/plain": [
       "  0%|          | 0/1000 [00:00<?, ?it/s]"
      ]
     },
     "metadata": {},
     "output_type": "display_data"
    },
    {
     "data": {
      "application/vnd.jupyter.widget-view+json": {
       "model_id": "d64af9ca13124a40bee1d3909ba3ef87",
       "version_major": 2,
       "version_minor": 0
      },
      "text/plain": [
       "  0%|          | 0/1000 [00:00<?, ?it/s]"
      ]
     },
     "metadata": {},
     "output_type": "display_data"
    },
    {
     "name": "stdout",
     "output_type": "stream",
     "text": [
      "tensor([5, 7])\n",
      "tensor([5, 7])\n",
      "tensor([5, 7])\n",
      "Parameter containing:\n",
      "tensor([[ 0.2350,  0.3592,  0.7046,  0.7069,  0.8619,  1.3804,  0.3071,  0.7344],\n",
      "        [ 0.7998, -0.0738, -0.0992, -0.0499,  0.4109,  0.8024,  0.7216,  1.7426]],\n",
      "       requires_grad=True)\n",
      "Parameter containing:\n",
      "tensor([[ 0.0551,  0.2112,  0.5722,  0.5501,  0.6901,  1.1518,  0.1259,  0.5385],\n",
      "        [ 0.6120, -0.2425, -0.2361, -0.2331,  0.2233,  0.6177,  0.5539,  1.5776]],\n",
      "       requires_grad=True)\n",
      "Parameter containing:\n",
      "tensor([[ 1.7089e-04,  2.5026e-01,  7.0400e-01,  6.0596e-01,  7.4795e-01,\n",
      "          1.1489e+00,  1.8191e-01,  5.9302e-01],\n",
      "        [ 6.9391e-01, -1.5665e-01, -1.3225e-01, -1.3747e-01,  3.3332e-01,\n",
      "          7.2052e-01,  6.5959e-01,  1.6615e+00]], requires_grad=True)\n",
      "acc  0 1.0215680599212646\n",
      "acc  1 1.5393320322036743\n",
      "acc  2 1.1535624265670776\n",
      "1.2381541728973389 10\n"
     ]
    },
    {
     "data": {
      "application/vnd.jupyter.widget-view+json": {
       "model_id": "ce979178297b41ae87d496861cfb7680",
       "version_major": 2,
       "version_minor": 0
      },
      "text/plain": [
       "  0%|          | 0/1000 [00:00<?, ?it/s]"
      ]
     },
     "metadata": {},
     "output_type": "display_data"
    },
    {
     "data": {
      "application/vnd.jupyter.widget-view+json": {
       "model_id": "38ec482d66014256be36b15abef7a9c0",
       "version_major": 2,
       "version_minor": 0
      },
      "text/plain": [
       "  0%|          | 0/1000 [00:00<?, ?it/s]"
      ]
     },
     "metadata": {},
     "output_type": "display_data"
    },
    {
     "name": "stdout",
     "output_type": "stream",
     "text": [
      "tensor([0, 1])\n",
      "tensor([0, 1])\n",
      "tensor([0, 1])\n",
      "Parameter containing:\n",
      "tensor([[ 1.1040,  0.3528,  0.7322,  0.5134,  0.3591,  0.8371,  0.0077,  0.8517],\n",
      "        [ 0.7213,  0.8381,  0.4279,  0.6878,  0.4484, -0.3889,  0.6195,  0.6609]],\n",
      "       requires_grad=True)\n",
      "Parameter containing:\n",
      "tensor([[ 0.8635,  0.1059,  0.4852,  0.2516,  0.0914,  0.6041, -0.2441,  0.6005],\n",
      "        [ 0.7932,  0.9114,  0.5367,  0.7500,  0.5256, -0.3626,  0.6677,  0.7328]],\n",
      "       requires_grad=True)\n",
      "Parameter containing:\n",
      "tensor([[ 1.0726,  0.3300,  0.6994,  0.4938,  0.3368,  0.8149, -0.0268,  0.8372],\n",
      "        [ 0.6224,  0.7488,  0.3198,  0.5833,  0.3416, -0.4925,  0.5098,  0.5543]],\n",
      "       requires_grad=True)\n",
      "acc  0 0.9860100746154785\n",
      "acc  1 1.0850918292999268\n",
      "acc  2 1.1982344388961792\n",
      "1.0897787809371948 10\n"
     ]
    },
    {
     "data": {
      "application/vnd.jupyter.widget-view+json": {
       "model_id": "20e41a66029a47aeb0eca7194330565c",
       "version_major": 2,
       "version_minor": 0
      },
      "text/plain": [
       "  0%|          | 0/1000 [00:00<?, ?it/s]"
      ]
     },
     "metadata": {},
     "output_type": "display_data"
    },
    {
     "data": {
      "application/vnd.jupyter.widget-view+json": {
       "model_id": "b3e1237cd0514bd7b372ffc3dbe74c9a",
       "version_major": 2,
       "version_minor": 0
      },
      "text/plain": [
       "  0%|          | 0/1000 [00:00<?, ?it/s]"
      ]
     },
     "metadata": {},
     "output_type": "display_data"
    },
    {
     "name": "stdout",
     "output_type": "stream",
     "text": [
      "tensor([7, 2])\n",
      "tensor([7, 2])\n",
      "tensor([7, 2])\n",
      "Parameter containing:\n",
      "tensor([[-0.1800,  0.5129, -1.0032,  0.3196,  0.0514, -0.5954,  0.0855,  4.2833],\n",
      "        [ 0.5888, -1.0912,  3.9582, -0.0523, -1.0889, -0.3947, -0.2580,  2.8419]],\n",
      "       requires_grad=True)\n",
      "Parameter containing:\n",
      "tensor([[-0.3280,  0.4627, -1.0337,  0.4119, -0.0867, -0.6552, -0.0402,  4.0055],\n",
      "        [ 0.4029, -1.2030,  3.7964, -0.2006, -0.8771, -0.4476, -0.3315,  2.6583]],\n",
      "       requires_grad=True)\n",
      "Parameter containing:\n",
      "tensor([[-0.2142,  0.5780, -0.9209,  0.5226,  0.0307, -0.5437,  0.0750,  4.1148],\n",
      "        [ 0.4998, -1.1193,  3.8874, -0.1092, -0.7901, -0.3519, -0.2455,  2.7524]],\n",
      "       requires_grad=True)\n",
      "acc  0 0.7494773864746094\n",
      "acc  1 0.9880102276802063\n",
      "acc  2 0.9205212593078613\n",
      "0.8860029578208923 10\n"
     ]
    },
    {
     "data": {
      "application/vnd.jupyter.widget-view+json": {
       "model_id": "e5e8a0afe2374b5c96064e954b97dcdf",
       "version_major": 2,
       "version_minor": 0
      },
      "text/plain": [
       "  0%|          | 0/1000 [00:00<?, ?it/s]"
      ]
     },
     "metadata": {},
     "output_type": "display_data"
    },
    {
     "data": {
      "application/vnd.jupyter.widget-view+json": {
       "model_id": "bdcb23de0fa34acda279ab5e58e4901d",
       "version_major": 2,
       "version_minor": 0
      },
      "text/plain": [
       "  0%|          | 0/1000 [00:00<?, ?it/s]"
      ]
     },
     "metadata": {},
     "output_type": "display_data"
    },
    {
     "name": "stdout",
     "output_type": "stream",
     "text": [
      "tensor([1, 4])\n",
      "tensor([1, 4])\n",
      "tensor([1, 4])\n",
      "Parameter containing:\n",
      "tensor([[ 1.1638,  2.9612,  0.3002,  1.0268, -0.4601, -1.2295, -0.2754, -0.1593],\n",
      "        [-0.5226, -0.1622,  1.0734, -0.6978,  5.7123, -0.9892,  0.3868, -0.3777]],\n",
      "       requires_grad=True)\n",
      "Parameter containing:\n",
      "tensor([[ 1.2954e+00,  3.1432e+00,  4.3045e-01,  1.1759e+00, -3.1820e-01,\n",
      "         -1.1089e+00, -1.1387e-01,  1.3619e-03],\n",
      "        [-5.0574e-01, -2.6818e-01,  1.2723e+00, -1.9441e+00,  5.8857e+00,\n",
      "         -7.9839e-01,  4.3198e-01, -1.0636e-01]], requires_grad=True)\n",
      "Parameter containing:\n",
      "tensor([[ 1.2566,  3.0585,  0.4070,  1.1122, -0.3642, -1.1472, -0.2146, -0.0762],\n",
      "        [-0.5977, -0.6234,  0.9630, -1.0134,  5.7826, -1.7748,  0.4028, -0.5578]],\n",
      "       requires_grad=True)\n",
      "acc  0 0.790428876876831\n",
      "acc  1 0.8824794888496399\n",
      "acc  2 0.8306794166564941\n",
      "0.8345292607943217 10\n"
     ]
    },
    {
     "data": {
      "application/vnd.jupyter.widget-view+json": {
       "model_id": "eeaa809073cc4310a7c2db25d1a8c62f",
       "version_major": 2,
       "version_minor": 0
      },
      "text/plain": [
       "  0%|          | 0/1000 [00:00<?, ?it/s]"
      ]
     },
     "metadata": {},
     "output_type": "display_data"
    },
    {
     "data": {
      "application/vnd.jupyter.widget-view+json": {
       "model_id": "2dcb15fb44a94d03a9d4351ea102116a",
       "version_major": 2,
       "version_minor": 0
      },
      "text/plain": [
       "  0%|          | 0/1000 [00:00<?, ?it/s]"
      ]
     },
     "metadata": {},
     "output_type": "display_data"
    },
    {
     "name": "stdout",
     "output_type": "stream",
     "text": [
      "tensor([7, 3])\n",
      "tensor([7, 3])\n",
      "tensor([7, 3])\n",
      "Parameter containing:\n",
      "tensor([[0.8240, 0.9963, 0.4517, 0.4505, 0.4386, 0.1903, 0.5942, 1.1747],\n",
      "        [0.2062, 0.5924, 0.5659, 1.0663, 0.9862, 0.2994, 0.7158, 0.0989]],\n",
      "       requires_grad=True)\n",
      "Parameter containing:\n",
      "tensor([[ 0.6550,  0.8166,  0.2723,  0.2571,  0.2644,  0.0154,  0.4117,  0.9904],\n",
      "        [-0.0028,  0.3813,  0.3526,  0.8576,  0.7809,  0.0866,  0.5071, -0.1106]],\n",
      "       requires_grad=True)\n",
      "Parameter containing:\n",
      "tensor([[0.6248, 0.7803, 0.2612, 0.2015, 0.2279, 0.0062, 0.3809, 0.9436],\n",
      "        [0.1215, 0.5551, 0.5395, 1.0178, 0.9532, 0.2798, 0.6494, 0.0851]],\n",
      "       requires_grad=True)\n",
      "acc  0 0.9024575352668762\n",
      "acc  1 0.7893396019935608\n",
      "acc  2 0.8772285580635071\n",
      "0.8563418984413147 10\n"
     ]
    },
    {
     "data": {
      "application/vnd.jupyter.widget-view+json": {
       "model_id": "1d16a0b7a8d746ed8fb878e0a3bd5069",
       "version_major": 2,
       "version_minor": 0
      },
      "text/plain": [
       "  0%|          | 0/1000 [00:00<?, ?it/s]"
      ]
     },
     "metadata": {},
     "output_type": "display_data"
    },
    {
     "data": {
      "application/vnd.jupyter.widget-view+json": {
       "model_id": "eb6c466f050843bd8915a3ec663847b6",
       "version_major": 2,
       "version_minor": 0
      },
      "text/plain": [
       "  0%|          | 0/1000 [00:00<?, ?it/s]"
      ]
     },
     "metadata": {},
     "output_type": "display_data"
    },
    {
     "name": "stdout",
     "output_type": "stream",
     "text": [
      "tensor([7, 4])\n",
      "tensor([7, 4])\n",
      "tensor([7, 4])\n",
      "Parameter containing:\n",
      "tensor([[ 0.3641,  0.2062,  0.7148,  0.1205, -0.6001,  0.9145,  1.0542,  1.4966],\n",
      "        [-0.3702,  0.8257,  0.6663,  0.8872,  1.6785, -0.9537,  0.0463,  1.1996]],\n",
      "       requires_grad=True)\n",
      "Parameter containing:\n",
      "tensor([[ 0.4240,  0.3414,  0.8119,  0.2113, -0.8569,  0.9616,  1.1414,  1.5412],\n",
      "        [-0.5024,  0.8075,  0.3462,  0.4886,  1.5675, -1.0724, -0.0857,  1.3160]],\n",
      "       requires_grad=True)\n",
      "Parameter containing:\n",
      "tensor([[ 0.3369,  0.2014,  0.7308,  0.1264, -0.6037,  0.8976,  1.0405,  1.4876],\n",
      "        [-0.1351,  1.1360,  0.9005,  1.1177,  1.9490, -0.7150,  0.3013,  1.4366]],\n",
      "       requires_grad=True)\n",
      "acc  0 1.198880672454834\n",
      "acc  1 1.0931272506713867\n",
      "acc  2 0.7807074189186096\n",
      "1.0242384473482768 10\n"
     ]
    },
    {
     "data": {
      "application/vnd.jupyter.widget-view+json": {
       "model_id": "17fd20c54da6499283433dbf84e05fde",
       "version_major": 2,
       "version_minor": 0
      },
      "text/plain": [
       "  0%|          | 0/1000 [00:00<?, ?it/s]"
      ]
     },
     "metadata": {},
     "output_type": "display_data"
    },
    {
     "data": {
      "application/vnd.jupyter.widget-view+json": {
       "model_id": "8c082b9c67ad4328b110cbfa0f90cfa9",
       "version_major": 2,
       "version_minor": 0
      },
      "text/plain": [
       "  0%|          | 0/1000 [00:00<?, ?it/s]"
      ]
     },
     "metadata": {},
     "output_type": "display_data"
    },
    {
     "name": "stdout",
     "output_type": "stream",
     "text": [
      "tensor([5, 3])\n",
      "tensor([5, 3])\n",
      "tensor([5, 3])\n",
      "Parameter containing:\n",
      "tensor([[ 1.5433, -0.0578, -0.2508,  0.7573,  1.2030,  1.7682,  0.5166, -0.3561],\n",
      "        [ 0.8276, -0.3706,  1.7141,  2.2412,  1.1417, -0.6572, -0.7030, -0.3757]],\n",
      "       requires_grad=True)\n",
      "Parameter containing:\n",
      "tensor([[ 1.4546, -0.1763, -0.3762,  0.6634,  1.1019,  1.6677,  0.3784, -0.4479],\n",
      "        [ 1.0171, -0.2693,  1.9399,  2.4217,  1.3607, -0.4737, -0.6033, -0.3300]],\n",
      "       requires_grad=True)\n",
      "Parameter containing:\n",
      "tensor([[ 1.4941, -0.0948, -0.2990,  0.6988,  1.1633,  1.7319,  0.4788, -0.3714],\n",
      "        [ 0.7594, -0.4507,  1.6547,  2.1606,  1.0675, -0.6774, -0.7747, -0.4120]],\n",
      "       requires_grad=True)\n",
      "acc  0 1.0164722204208374\n",
      "acc  1 1.0288403034210205\n",
      "acc  2 1.005828857421875\n",
      "1.017047127087911 10\n",
      "[Parameter containing:\n",
      "tensor([[ 1.5433, -0.0578, -0.2508,  0.7573,  1.2030,  1.7682,  0.5166, -0.3561],\n",
      "        [ 0.8276, -0.3706,  1.7141,  2.2412,  1.1417, -0.6572, -0.7030, -0.3757]],\n",
      "       requires_grad=True), Parameter containing:\n",
      "tensor([[ 1.4546, -0.1763, -0.3762,  0.6634,  1.1019,  1.6677,  0.3784, -0.4479],\n",
      "        [ 1.0171, -0.2693,  1.9399,  2.4217,  1.3607, -0.4737, -0.6033, -0.3300]],\n",
      "       requires_grad=True), Parameter containing:\n",
      "tensor([[ 1.4941, -0.0948, -0.2990,  0.6988,  1.1633,  1.7319,  0.4788, -0.3714],\n",
      "        [ 0.7594, -0.4507,  1.6547,  2.1606,  1.0675, -0.6774, -0.7747, -0.4120]],\n",
      "       requires_grad=True)]\n",
      "Parameter containing:\n",
      "tensor([13.5378], requires_grad=True)\n",
      "Parameter containing:\n",
      "tensor([51.0278], requires_grad=True)\n",
      "Parameter containing:\n",
      "tensor([58.6487], requires_grad=True)\n",
      "Parameter containing:\n",
      "tensor([148.4131], requires_grad=True)\n",
      "Parameter containing:\n",
      "tensor([96.0849], requires_grad=True)\n",
      "Parameter containing:\n",
      "tensor([-95.4390], requires_grad=True)\n",
      "Parameter containing:\n",
      "tensor([27.9297], requires_grad=True)\n",
      "Parameter containing:\n",
      "tensor([-38.4778], requires_grad=True)\n"
     ]
    },
    {
     "data": {
      "application/vnd.jupyter.widget-view+json": {
       "model_id": "807f8965410247219f48b84b2acc3ab1",
       "version_major": 2,
       "version_minor": 0
      },
      "text/plain": [
       "  0%|          | 0/1000 [00:00<?, ?it/s]"
      ]
     },
     "metadata": {},
     "output_type": "display_data"
    },
    {
     "data": {
      "application/vnd.jupyter.widget-view+json": {
       "model_id": "be028e5cd1244bf68cbe9754ac05e8ef",
       "version_major": 2,
       "version_minor": 0
      },
      "text/plain": [
       "  0%|          | 0/1000 [00:00<?, ?it/s]"
      ]
     },
     "metadata": {},
     "output_type": "display_data"
    },
    {
     "name": "stdout",
     "output_type": "stream",
     "text": [
      "tensor([1, 1])\n",
      "tensor([1, 1])\n",
      "tensor([1, 1])\n",
      "tensor([1, 1])\n",
      "Parameter containing:\n",
      "tensor([[ 1.1700,  1.3647,  0.3021,  0.3026],\n",
      "        [ 0.7164,  2.7826,  0.1501, -1.6075]], requires_grad=True)\n",
      "Parameter containing:\n",
      "tensor([[ 1.0388,  1.2385,  0.1650,  0.1598],\n",
      "        [ 0.8687,  2.9326,  0.3078, -1.5014]], requires_grad=True)\n",
      "Parameter containing:\n",
      "tensor([[ 0.9813,  1.1704,  0.1050,  0.0967],\n",
      "        [ 0.6785,  2.7696,  0.1134, -1.7219]], requires_grad=True)\n",
      "Parameter containing:\n",
      "tensor([[ 0.6461,  0.8507, -0.2876, -0.2762],\n",
      "        [ 0.6046,  2.6696,  0.0284, -1.7223]], requires_grad=True)\n",
      "acc  0 1.0474865436553955\n",
      "acc  1 1.0395358800888062\n",
      "acc  2 1.1622310876846313\n",
      "acc  3 0.998468279838562\n",
      "1.0619304478168488 10\n"
     ]
    },
    {
     "data": {
      "application/vnd.jupyter.widget-view+json": {
       "model_id": "9112456166c04806b6a887a75a1b5344",
       "version_major": 2,
       "version_minor": 0
      },
      "text/plain": [
       "  0%|          | 0/1000 [00:00<?, ?it/s]"
      ]
     },
     "metadata": {},
     "output_type": "display_data"
    },
    {
     "data": {
      "application/vnd.jupyter.widget-view+json": {
       "model_id": "7d545fa3b54c4ff49cf01c462240155e",
       "version_major": 2,
       "version_minor": 0
      },
      "text/plain": [
       "  0%|          | 0/1000 [00:00<?, ?it/s]"
      ]
     },
     "metadata": {},
     "output_type": "display_data"
    },
    {
     "name": "stdout",
     "output_type": "stream",
     "text": [
      "tensor([0, 0])\n",
      "tensor([0, 0])\n",
      "tensor([0, 0])\n",
      "tensor([0, 0])\n",
      "Parameter containing:\n",
      "tensor([[ 0.9449,  0.0418,  0.8317,  0.0993],\n",
      "        [ 0.6681,  0.1401,  0.1022, -0.0196]], requires_grad=True)\n",
      "Parameter containing:\n",
      "tensor([[1.0936, 0.1559, 0.9600, 0.2365],\n",
      "        [1.0190, 0.4897, 0.4602, 0.3271]], requires_grad=True)\n",
      "Parameter containing:\n",
      "tensor([[ 0.8904, -0.0075,  0.7755,  0.0410],\n",
      "        [ 0.9566,  0.4303,  0.3948,  0.2650]], requires_grad=True)\n",
      "Parameter containing:\n",
      "tensor([[0.9477, 0.0575, 0.8364, 0.1040],\n",
      "        [0.9585, 0.4266, 0.3981, 0.2703]], requires_grad=True)\n",
      "acc  0 0.873377799987793\n",
      "acc  1 1.043276071548462\n",
      "acc  2 1.3920038938522339\n",
      "acc  3 1.1825357675552368\n",
      "1.1227983832359314 10\n"
     ]
    },
    {
     "data": {
      "application/vnd.jupyter.widget-view+json": {
       "model_id": "f3437debadbe41eaa37bab764c19e3f0",
       "version_major": 2,
       "version_minor": 0
      },
      "text/plain": [
       "  0%|          | 0/1000 [00:00<?, ?it/s]"
      ]
     },
     "metadata": {},
     "output_type": "display_data"
    },
    {
     "data": {
      "application/vnd.jupyter.widget-view+json": {
       "model_id": "7819edc5b92a444199981d5765a215e5",
       "version_major": 2,
       "version_minor": 0
      },
      "text/plain": [
       "  0%|          | 0/1000 [00:00<?, ?it/s]"
      ]
     },
     "metadata": {},
     "output_type": "display_data"
    },
    {
     "name": "stdout",
     "output_type": "stream",
     "text": [
      "tensor([2, 0])\n",
      "tensor([2, 0])\n",
      "tensor([2, 0])\n",
      "tensor([2, 0])\n",
      "Parameter containing:\n",
      "tensor([[0.6005, 0.6458, 0.6657, 0.5004],\n",
      "        [0.7512, 0.2020, 0.4324, 0.4714]], requires_grad=True)\n",
      "Parameter containing:\n",
      "tensor([[0.9000, 0.9410, 0.9671, 0.7964],\n",
      "        [0.7688, 0.2173, 0.4507, 0.4896]], requires_grad=True)\n",
      "Parameter containing:\n",
      "tensor([[0.5820, 0.6214, 0.6477, 0.4718],\n",
      "        [1.0162, 0.4621, 0.6939, 0.7349]], requires_grad=True)\n",
      "Parameter containing:\n",
      "tensor([[0.4077, 0.4491, 0.4696, 0.3004],\n",
      "        [0.8340, 0.2756, 0.5084, 0.5477]], requires_grad=True)\n",
      "acc  0 0.739852786064148\n",
      "acc  1 1.006553053855896\n",
      "acc  2 1.2229981422424316\n",
      "acc  3 0.8764556050300598\n",
      "0.9614648967981339 10\n"
     ]
    },
    {
     "data": {
      "application/vnd.jupyter.widget-view+json": {
       "model_id": "b4d707544b9f41ab93cc2c96169def83",
       "version_major": 2,
       "version_minor": 0
      },
      "text/plain": [
       "  0%|          | 0/1000 [00:00<?, ?it/s]"
      ]
     },
     "metadata": {},
     "output_type": "display_data"
    },
    {
     "data": {
      "application/vnd.jupyter.widget-view+json": {
       "model_id": "a8506c3b7aca4344b64e203272ddeaac",
       "version_major": 2,
       "version_minor": 0
      },
      "text/plain": [
       "  0%|          | 0/1000 [00:00<?, ?it/s]"
      ]
     },
     "metadata": {},
     "output_type": "display_data"
    },
    {
     "name": "stdout",
     "output_type": "stream",
     "text": [
      "tensor([2, 2])\n",
      "tensor([2, 2])\n",
      "tensor([2, 3])\n",
      "tensor([2, 2])\n",
      "Parameter containing:\n",
      "tensor([[0.6359, 0.7294, 0.7327, 0.6325],\n",
      "        [0.0245, 0.4149, 0.5091, 0.5001]], requires_grad=True)\n",
      "Parameter containing:\n",
      "tensor([[0.2225, 0.3135, 0.3184, 0.2203],\n",
      "        [0.1661, 0.5544, 0.6471, 0.6364]], requires_grad=True)\n",
      "Parameter containing:\n",
      "tensor([[0.6910, 0.7746, 0.7827, 0.6836],\n",
      "        [0.0816, 0.4882, 0.5664, 0.5683]], requires_grad=True)\n",
      "Parameter containing:\n",
      "tensor([[0.4943, 0.5881, 0.5922, 0.4892],\n",
      "        [0.1675, 0.5590, 0.6511, 0.6450]], requires_grad=True)\n",
      "acc  0 1.5188595056533813\n",
      "acc  1 1.4469654560089111\n",
      "acc  2 1.6398018598556519\n",
      "acc  3 1.1725265979766846\n",
      "1.4445383548736572 19\n"
     ]
    },
    {
     "data": {
      "application/vnd.jupyter.widget-view+json": {
       "model_id": "e7f15884178f462d978bdd2986ff5f69",
       "version_major": 2,
       "version_minor": 0
      },
      "text/plain": [
       "  0%|          | 0/1000 [00:00<?, ?it/s]"
      ]
     },
     "metadata": {},
     "output_type": "display_data"
    },
    {
     "data": {
      "application/vnd.jupyter.widget-view+json": {
       "model_id": "cc9fbbce658e4e629d6949eedfe15622",
       "version_major": 2,
       "version_minor": 0
      },
      "text/plain": [
       "  0%|          | 0/1000 [00:00<?, ?it/s]"
      ]
     },
     "metadata": {},
     "output_type": "display_data"
    },
    {
     "name": "stdout",
     "output_type": "stream",
     "text": [
      "tensor([1, 1])\n",
      "tensor([1, 1])\n",
      "tensor([1, 1])\n",
      "tensor([1, 1])\n",
      "Parameter containing:\n",
      "tensor([[ 0.0667,  1.0150, -0.1123,  0.4287],\n",
      "        [-0.9098,  4.0678, -0.6110, -0.4224]], requires_grad=True)\n",
      "Parameter containing:\n",
      "tensor([[ 0.0852,  1.0432, -0.0998,  0.4286],\n",
      "        [-0.8046,  4.3843, -0.4290, -0.0244]], requires_grad=True)\n",
      "Parameter containing:\n",
      "tensor([[ 0.4047,  1.3288,  0.2136,  0.7448],\n",
      "        [-1.0455,  4.0203, -0.8562, -0.5382]], requires_grad=True)\n",
      "Parameter containing:\n",
      "tensor([[ 0.2197,  1.1641,  0.0249,  0.5656],\n",
      "        [-0.4615,  4.4954, -0.1484, -0.1378]], requires_grad=True)\n",
      "acc  0 1.3364744186401367\n",
      "acc  1 1.0579181909561157\n",
      "acc  2 0.9461362361907959\n",
      "acc  3 1.1324501037597656\n",
      "1.1182447373867035 10\n"
     ]
    },
    {
     "data": {
      "application/vnd.jupyter.widget-view+json": {
       "model_id": "28504ff78fc24115b7585a37f4101f81",
       "version_major": 2,
       "version_minor": 0
      },
      "text/plain": [
       "  0%|          | 0/1000 [00:00<?, ?it/s]"
      ]
     },
     "metadata": {},
     "output_type": "display_data"
    },
    {
     "data": {
      "application/vnd.jupyter.widget-view+json": {
       "model_id": "11e004f0d52443dd9af6e7fc34901b5e",
       "version_major": 2,
       "version_minor": 0
      },
      "text/plain": [
       "  0%|          | 0/1000 [00:00<?, ?it/s]"
      ]
     },
     "metadata": {},
     "output_type": "display_data"
    },
    {
     "name": "stdout",
     "output_type": "stream",
     "text": [
      "tensor([0, 1])\n",
      "tensor([0, 2])\n",
      "tensor([0, 2])\n",
      "tensor([0, 2])\n",
      "Parameter containing:\n",
      "tensor([[ 1.3859,  0.4127, -0.3809,  0.0286],\n",
      "        [-0.4727,  1.6747,  1.5969, -0.2204]], requires_grad=True)\n",
      "Parameter containing:\n",
      "tensor([[ 1.5099,  0.4861, -0.1855,  0.3580],\n",
      "        [-0.6947,  1.1680,  1.2256, -0.5707]], requires_grad=True)\n",
      "Parameter containing:\n",
      "tensor([[ 1.2913,  0.3312, -0.3907,  0.0951],\n",
      "        [-0.5803,  1.2557,  1.3128, -0.4250]], requires_grad=True)\n",
      "Parameter containing:\n",
      "tensor([[ 1.4622,  0.5416, -0.1978,  0.3441],\n",
      "        [-0.5882,  1.2437,  1.3067, -0.4469]], requires_grad=True)\n",
      "acc  0 0.6863530278205872\n",
      "acc  1 1.3414337635040283\n",
      "acc  2 1.07477605342865\n",
      "acc  3 1.033643364906311\n",
      "1.034051552414894 19\n"
     ]
    },
    {
     "data": {
      "application/vnd.jupyter.widget-view+json": {
       "model_id": "95d763de687d454eb5e1736fdb22b4e3",
       "version_major": 2,
       "version_minor": 0
      },
      "text/plain": [
       "  0%|          | 0/1000 [00:00<?, ?it/s]"
      ]
     },
     "metadata": {},
     "output_type": "display_data"
    },
    {
     "data": {
      "application/vnd.jupyter.widget-view+json": {
       "model_id": "1348ce57c69c40909149ea0f23456ab2",
       "version_major": 2,
       "version_minor": 0
      },
      "text/plain": [
       "  0%|          | 0/1000 [00:00<?, ?it/s]"
      ]
     },
     "metadata": {},
     "output_type": "display_data"
    },
    {
     "name": "stdout",
     "output_type": "stream",
     "text": [
      "tensor([3, 1])\n",
      "tensor([3, 1])\n",
      "tensor([3, 1])\n",
      "tensor([3, 1])\n",
      "Parameter containing:\n",
      "tensor([[0.3646, 0.2339, 0.0632, 0.4550],\n",
      "        [0.7365, 0.8719, 0.4148, 0.7483]], requires_grad=True)\n",
      "Parameter containing:\n",
      "tensor([[0.5632, 0.4358, 0.2533, 0.6464],\n",
      "        [0.5290, 0.6636, 0.2076, 0.5420]], requires_grad=True)\n",
      "Parameter containing:\n",
      "tensor([[0.6417, 0.5211, 0.3322, 0.7254],\n",
      "        [0.5142, 0.6536, 0.2053, 0.5291]], requires_grad=True)\n",
      "Parameter containing:\n",
      "tensor([[0.7282, 0.5974, 0.4198, 0.8206],\n",
      "        [0.7018, 0.8384, 0.3794, 0.7168]], requires_grad=True)\n",
      "acc  0 1.0114212036132812\n",
      "acc  1 0.8525888919830322\n",
      "acc  2 1.0628743171691895\n",
      "acc  3 1.154809832572937\n",
      "1.02042356133461 10\n"
     ]
    },
    {
     "data": {
      "application/vnd.jupyter.widget-view+json": {
       "model_id": "06b6278005c04bbcbb2f34b8dee29c4a",
       "version_major": 2,
       "version_minor": 0
      },
      "text/plain": [
       "  0%|          | 0/1000 [00:00<?, ?it/s]"
      ]
     },
     "metadata": {},
     "output_type": "display_data"
    },
    {
     "data": {
      "application/vnd.jupyter.widget-view+json": {
       "model_id": "0e238949fa66405fb6e31f0f6c732548",
       "version_major": 2,
       "version_minor": 0
      },
      "text/plain": [
       "  0%|          | 0/1000 [00:00<?, ?it/s]"
      ]
     },
     "metadata": {},
     "output_type": "display_data"
    },
    {
     "name": "stdout",
     "output_type": "stream",
     "text": [
      "tensor([0, 1])\n",
      "tensor([0, 1])\n",
      "tensor([0, 1])\n",
      "tensor([0, 1])\n",
      "Parameter containing:\n",
      "tensor([[ 1.1317,  0.5264,  0.1814, -0.3413],\n",
      "        [ 0.0173,  2.2170,  0.3581, -1.2477]], requires_grad=True)\n",
      "Parameter containing:\n",
      "tensor([[ 1.2505,  0.6430,  0.2931, -0.2285],\n",
      "        [ 0.2221,  2.4249,  0.5578, -1.0434]], requires_grad=True)\n",
      "Parameter containing:\n",
      "tensor([[ 1.0644,  0.5061,  0.1377, -0.3578],\n",
      "        [ 0.5644,  2.8757,  0.7738, -1.0816]], requires_grad=True)\n",
      "Parameter containing:\n",
      "tensor([[ 1.1868,  0.5814,  0.2327, -0.2863],\n",
      "        [ 0.1806,  2.3794,  0.5254, -1.0951]], requires_grad=True)\n",
      "acc  0 0.9416921734809875\n",
      "acc  1 0.9682577848434448\n",
      "acc  2 0.8785647749900818\n",
      "acc  3 0.795127272605896\n",
      "0.8959105014801025 10\n"
     ]
    },
    {
     "data": {
      "application/vnd.jupyter.widget-view+json": {
       "model_id": "d9f3d8605b364ec6ae71debc82a77bf8",
       "version_major": 2,
       "version_minor": 0
      },
      "text/plain": [
       "  0%|          | 0/1000 [00:00<?, ?it/s]"
      ]
     },
     "metadata": {},
     "output_type": "display_data"
    },
    {
     "data": {
      "application/vnd.jupyter.widget-view+json": {
       "model_id": "2525f34dd88d4875a5c51317d9e519f0",
       "version_major": 2,
       "version_minor": 0
      },
      "text/plain": [
       "  0%|          | 0/1000 [00:00<?, ?it/s]"
      ]
     },
     "metadata": {},
     "output_type": "display_data"
    },
    {
     "name": "stdout",
     "output_type": "stream",
     "text": [
      "tensor([2, 3])\n",
      "tensor([2, 3])\n",
      "tensor([2, 3])\n",
      "tensor([2, 3])\n",
      "Parameter containing:\n",
      "tensor([[ 0.2216,  0.3141,  0.6677, -0.0869],\n",
      "        [ 0.2312, -0.2162,  0.4639,  1.0147]], requires_grad=True)\n",
      "Parameter containing:\n",
      "tensor([[0.4494, 0.5766, 0.8983, 0.1596],\n",
      "        [0.4951, 0.0640, 0.7444, 1.3214]], requires_grad=True)\n",
      "Parameter containing:\n",
      "tensor([[ 0.3865,  0.4896,  0.8232,  0.0731],\n",
      "        [ 0.2400, -0.2127,  0.4689,  1.0251]], requires_grad=True)\n",
      "Parameter containing:\n",
      "tensor([[ 0.2803,  0.3739,  0.7207, -0.0251],\n",
      "        [ 0.2470, -0.2106,  0.4744,  1.0320]], requires_grad=True)\n",
      "acc  0 1.2247847318649292\n",
      "acc  1 0.947857141494751\n",
      "acc  2 0.7873382568359375\n",
      "acc  3 1.196722149848938\n",
      "1.039175570011139 10\n"
     ]
    },
    {
     "data": {
      "application/vnd.jupyter.widget-view+json": {
       "model_id": "450b38914c0b441dbfdb4e128ccef9a3",
       "version_major": 2,
       "version_minor": 0
      },
      "text/plain": [
       "  0%|          | 0/1000 [00:00<?, ?it/s]"
      ]
     },
     "metadata": {},
     "output_type": "display_data"
    },
    {
     "data": {
      "application/vnd.jupyter.widget-view+json": {
       "model_id": "843706ae36124c59a3da3e0e0cdd20e7",
       "version_major": 2,
       "version_minor": 0
      },
      "text/plain": [
       "  0%|          | 0/1000 [00:00<?, ?it/s]"
      ]
     },
     "metadata": {},
     "output_type": "display_data"
    },
    {
     "name": "stdout",
     "output_type": "stream",
     "text": [
      "tensor([1, 3])\n",
      "tensor([1, 3])\n",
      "tensor([1, 3])\n",
      "tensor([1, 3])\n",
      "Parameter containing:\n",
      "tensor([[0.6599, 0.7320, 0.6119, 0.5256],\n",
      "        [0.2663, 0.4794, 0.7555, 0.8228]], requires_grad=True)\n",
      "Parameter containing:\n",
      "tensor([[0.4418, 0.5135, 0.3808, 0.2992],\n",
      "        [0.1617, 0.3662, 0.6336, 0.7321]], requires_grad=True)\n",
      "Parameter containing:\n",
      "tensor([[0.4751, 0.5523, 0.4296, 0.3410],\n",
      "        [0.4836, 0.6905, 0.9605, 1.0474]], requires_grad=True)\n",
      "Parameter containing:\n",
      "tensor([[ 0.6097,  0.6833,  0.5570,  0.4686],\n",
      "        [-0.0974,  0.1095,  0.3799,  0.4647]], requires_grad=True)\n",
      "acc  0 1.0043009519577026\n",
      "acc  1 0.9495274424552917\n",
      "acc  2 0.7484109401702881\n",
      "acc  3 0.8485256433486938\n",
      "0.8876912444829941 10\n"
     ]
    },
    {
     "data": {
      "application/vnd.jupyter.widget-view+json": {
       "model_id": "aa3d1b57da3b4c5b8b1422e77d53ec6b",
       "version_major": 2,
       "version_minor": 0
      },
      "text/plain": [
       "  0%|          | 0/1000 [00:00<?, ?it/s]"
      ]
     },
     "metadata": {},
     "output_type": "display_data"
    },
    {
     "data": {
      "application/vnd.jupyter.widget-view+json": {
       "model_id": "a9a9a9ea0bd04012a8eece3ab6bf3195",
       "version_major": 2,
       "version_minor": 0
      },
      "text/plain": [
       "  0%|          | 0/1000 [00:00<?, ?it/s]"
      ]
     },
     "metadata": {},
     "output_type": "display_data"
    },
    {
     "name": "stdout",
     "output_type": "stream",
     "text": [
      "tensor([1, 0])\n",
      "tensor([1, 0])\n",
      "tensor([1, 0])\n",
      "tensor([1, 0])\n",
      "Parameter containing:\n",
      "tensor([[0.3820, 1.4295, 0.3827, 0.4329],\n",
      "        [1.1540, 0.0780, 0.8226, 0.8421]], requires_grad=True)\n",
      "Parameter containing:\n",
      "tensor([[0.1525, 1.1997, 0.1518, 0.1990],\n",
      "        [1.1915, 0.1197, 0.8540, 0.8658]], requires_grad=True)\n",
      "Parameter containing:\n",
      "tensor([[0.3185, 1.3713, 0.3232, 0.3673],\n",
      "        [1.2421, 0.1395, 0.9007, 0.9193]], requires_grad=True)\n",
      "Parameter containing:\n",
      "tensor([[ 0.4278,  1.4224,  0.4159,  0.4988],\n",
      "        [ 0.7863, -0.2860,  0.4431,  0.4614]], requires_grad=True)\n",
      "acc  0 1.1553704738616943\n",
      "acc  1 1.231768012046814\n",
      "acc  2 0.8300163745880127\n",
      "acc  3 0.765038251876831\n",
      "0.995548278093338 10\n"
     ]
    },
    {
     "data": {
      "application/vnd.jupyter.widget-view+json": {
       "model_id": "42c0f45f3e7448229a745d950685cb72",
       "version_major": 2,
       "version_minor": 0
      },
      "text/plain": [
       "  0%|          | 0/1000 [00:00<?, ?it/s]"
      ]
     },
     "metadata": {},
     "output_type": "display_data"
    },
    {
     "data": {
      "application/vnd.jupyter.widget-view+json": {
       "model_id": "5cbaa05783a84f37b6eb01f4fa8eb2a7",
       "version_major": 2,
       "version_minor": 0
      },
      "text/plain": [
       "  0%|          | 0/1000 [00:00<?, ?it/s]"
      ]
     },
     "metadata": {},
     "output_type": "display_data"
    },
    {
     "name": "stdout",
     "output_type": "stream",
     "text": [
      "tensor([0, 2])\n",
      "tensor([0, 2])\n",
      "tensor([0, 2])\n",
      "tensor([0, 2])\n",
      "Parameter containing:\n",
      "tensor([[0.9474, 0.5431, 0.5933, 0.7254],\n",
      "        [0.4680, 0.2321, 0.4825, 0.3514]], requires_grad=True)\n",
      "Parameter containing:\n",
      "tensor([[0.8642, 0.4596, 0.5099, 0.6456],\n",
      "        [0.5955, 0.3602, 0.6004, 0.4778]], requires_grad=True)\n",
      "Parameter containing:\n",
      "tensor([[0.5206, 0.1192, 0.1690, 0.3048],\n",
      "        [0.6031, 0.3649, 0.6214, 0.4885]], requires_grad=True)\n",
      "Parameter containing:\n",
      "tensor([[0.8182, 0.4131, 0.4720, 0.5965],\n",
      "        [0.6002, 0.3665, 0.6202, 0.4769]], requires_grad=True)\n",
      "acc  0 1.03626549243927\n",
      "acc  1 0.9637779593467712\n",
      "acc  2 1.1049296855926514\n",
      "acc  3 1.1697195768356323\n",
      "1.0686731785535812 10\n"
     ]
    },
    {
     "data": {
      "application/vnd.jupyter.widget-view+json": {
       "model_id": "d2e31d5bbc1e4bc3b69098e5ba76956c",
       "version_major": 2,
       "version_minor": 0
      },
      "text/plain": [
       "  0%|          | 0/1000 [00:00<?, ?it/s]"
      ]
     },
     "metadata": {},
     "output_type": "display_data"
    },
    {
     "data": {
      "application/vnd.jupyter.widget-view+json": {
       "model_id": "cebf2b6b551247f2a89d93f661e07336",
       "version_major": 2,
       "version_minor": 0
      },
      "text/plain": [
       "  0%|          | 0/1000 [00:00<?, ?it/s]"
      ]
     },
     "metadata": {},
     "output_type": "display_data"
    },
    {
     "name": "stdout",
     "output_type": "stream",
     "text": [
      "tensor([1, 1])\n",
      "tensor([1, 1])\n",
      "tensor([1, 1])\n",
      "tensor([1, 1])\n",
      "Parameter containing:\n",
      "tensor([[0.7432, 0.8688, 0.7956, 0.4398],\n",
      "        [0.3114, 0.7917, 0.5874, 0.6320]], requires_grad=True)\n",
      "Parameter containing:\n",
      "tensor([[ 0.2730,  0.4014,  0.3280, -0.0281],\n",
      "        [ 0.3095,  0.7894,  0.5848,  0.6297]], requires_grad=True)\n",
      "Parameter containing:\n",
      "tensor([[0.5291, 0.6572, 0.5851, 0.2268],\n",
      "        [0.4001, 0.8837, 0.6780, 0.7229]], requires_grad=True)\n",
      "Parameter containing:\n",
      "tensor([[0.4527, 0.5628, 0.5083, 0.1468],\n",
      "        [0.2881, 0.7679, 0.5668, 0.6088]], requires_grad=True)\n",
      "acc  0 1.4125264883041382\n",
      "acc  1 1.242576003074646\n",
      "acc  2 1.2005776166915894\n",
      "acc  3 1.0709662437438965\n",
      "1.2316615879535675 10\n"
     ]
    },
    {
     "data": {
      "application/vnd.jupyter.widget-view+json": {
       "model_id": "8339c2d9aafc4bc2b11293d8a2caf12b",
       "version_major": 2,
       "version_minor": 0
      },
      "text/plain": [
       "  0%|          | 0/1000 [00:00<?, ?it/s]"
      ]
     },
     "metadata": {},
     "output_type": "display_data"
    },
    {
     "data": {
      "application/vnd.jupyter.widget-view+json": {
       "model_id": "a5c9962dbbdb4131bd6e28dd8a03eb56",
       "version_major": 2,
       "version_minor": 0
      },
      "text/plain": [
       "  0%|          | 0/1000 [00:00<?, ?it/s]"
      ]
     },
     "metadata": {},
     "output_type": "display_data"
    },
    {
     "name": "stdout",
     "output_type": "stream",
     "text": [
      "tensor([0, 3])\n",
      "tensor([0, 3])\n",
      "tensor([2, 3])\n",
      "tensor([0, 3])\n",
      "Parameter containing:\n",
      "tensor([[ 1.2652,  0.1611,  1.1216,  0.5369],\n",
      "        [ 0.5815,  0.8251, -0.1796,  0.9775]], requires_grad=True)\n",
      "Parameter containing:\n",
      "tensor([[ 0.8204, -0.2747,  0.6802,  0.0896],\n",
      "        [ 0.7598,  1.0067,  0.0128,  1.1594]], requires_grad=True)\n",
      "Parameter containing:\n",
      "tensor([[ 0.9819, -0.3836,  0.9837,  0.1735],\n",
      "        [ 0.5625,  0.8112, -0.1942,  0.9601]], requires_grad=True)\n",
      "Parameter containing:\n",
      "tensor([[ 0.7546, -0.3424,  0.6100,  0.0244],\n",
      "        [ 0.4854,  0.7293, -0.2697,  0.8808]], requires_grad=True)\n",
      "acc  0 0.9249156713485718\n",
      "acc  1 0.6123517751693726\n",
      "acc  2 0.7485234141349792\n",
      "acc  3 1.3463828563690186\n",
      "0.9080434292554855 11\n"
     ]
    },
    {
     "data": {
      "application/vnd.jupyter.widget-view+json": {
       "model_id": "086fa6d906354eaca649bbf13b07a761",
       "version_major": 2,
       "version_minor": 0
      },
      "text/plain": [
       "  0%|          | 0/1000 [00:00<?, ?it/s]"
      ]
     },
     "metadata": {},
     "output_type": "display_data"
    },
    {
     "data": {
      "application/vnd.jupyter.widget-view+json": {
       "model_id": "6d9ef95dc6494419a212abba8e29ee1a",
       "version_major": 2,
       "version_minor": 0
      },
      "text/plain": [
       "  0%|          | 0/1000 [00:00<?, ?it/s]"
      ]
     },
     "metadata": {},
     "output_type": "display_data"
    },
    {
     "name": "stdout",
     "output_type": "stream",
     "text": [
      "tensor([3, 1])\n",
      "tensor([3, 1])\n",
      "tensor([3, 1])\n",
      "tensor([3, 1])\n",
      "Parameter containing:\n",
      "tensor([[ 0.7848,  0.7784,  0.0824,  1.1672],\n",
      "        [ 0.5012,  1.1512,  0.5215, -0.2287]], requires_grad=True)\n",
      "Parameter containing:\n",
      "tensor([[ 0.6495,  0.6370, -0.0552,  1.0314],\n",
      "        [ 0.4532,  1.1007,  0.4670, -0.2686]], requires_grad=True)\n",
      "Parameter containing:\n",
      "tensor([[ 0.5066,  0.4986, -0.2003,  0.8889],\n",
      "        [ 0.2808,  0.9284,  0.2994, -0.4444]], requires_grad=True)\n",
      "Parameter containing:\n",
      "tensor([[ 0.6593,  0.6511, -0.0561,  1.0338],\n",
      "        [ 0.5848,  1.2339,  0.6026, -0.1546]], requires_grad=True)\n",
      "acc  0 1.0141016244888306\n",
      "acc  1 0.983288049697876\n",
      "acc  2 0.8903053402900696\n",
      "acc  3 0.999933123588562\n",
      "0.9719070345163345 10\n"
     ]
    },
    {
     "data": {
      "application/vnd.jupyter.widget-view+json": {
       "model_id": "7296631f4b6f4c8288907d316b4af4f7",
       "version_major": 2,
       "version_minor": 0
      },
      "text/plain": [
       "  0%|          | 0/1000 [00:00<?, ?it/s]"
      ]
     },
     "metadata": {},
     "output_type": "display_data"
    },
    {
     "data": {
      "application/vnd.jupyter.widget-view+json": {
       "model_id": "f9d75482ee26411e9d1363e3a62ef8c1",
       "version_major": 2,
       "version_minor": 0
      },
      "text/plain": [
       "  0%|          | 0/1000 [00:00<?, ?it/s]"
      ]
     },
     "metadata": {},
     "output_type": "display_data"
    },
    {
     "name": "stdout",
     "output_type": "stream",
     "text": [
      "tensor([0, 0])\n",
      "tensor([0, 0])\n",
      "tensor([0, 0])\n",
      "tensor([0, 0])\n",
      "Parameter containing:\n",
      "tensor([[ 2.2161, -1.1833,  2.1457, -1.7451],\n",
      "        [ 4.0821,  0.2271, -1.7639, -0.5047]], requires_grad=True)\n",
      "Parameter containing:\n",
      "tensor([[ 2.5113, -0.8230,  2.4668, -1.4343],\n",
      "        [ 4.0519,  0.1529, -1.8240, -0.5980]], requires_grad=True)\n",
      "Parameter containing:\n",
      "tensor([[ 2.3360, -1.0162,  2.2564, -1.6162],\n",
      "        [ 3.7404, -0.0774, -2.0044, -0.8823]], requires_grad=True)\n",
      "Parameter containing:\n",
      "tensor([[ 2.1607, -1.1548,  2.1412, -1.7647],\n",
      "        [ 4.1605,  0.3175, -1.5861, -0.4766]], requires_grad=True)\n",
      "acc  0 0.8354969024658203\n",
      "acc  1 0.8043392300605774\n",
      "acc  2 0.9268838167190552\n",
      "acc  3 0.9692284464836121\n",
      "0.8839870989322662 10\n"
     ]
    },
    {
     "data": {
      "application/vnd.jupyter.widget-view+json": {
       "model_id": "b369b6b481c84dc79aa85e2d4ce30231",
       "version_major": 2,
       "version_minor": 0
      },
      "text/plain": [
       "  0%|          | 0/1000 [00:00<?, ?it/s]"
      ]
     },
     "metadata": {},
     "output_type": "display_data"
    },
    {
     "data": {
      "application/vnd.jupyter.widget-view+json": {
       "model_id": "8d35e9449c4e48d2a978a6bec81e61c8",
       "version_major": 2,
       "version_minor": 0
      },
      "text/plain": [
       "  0%|          | 0/1000 [00:00<?, ?it/s]"
      ]
     },
     "metadata": {},
     "output_type": "display_data"
    },
    {
     "name": "stdout",
     "output_type": "stream",
     "text": [
      "tensor([0, 2])\n",
      "tensor([0, 2])\n",
      "tensor([0, 2])\n",
      "tensor([0, 2])\n",
      "Parameter containing:\n",
      "tensor([[ 2.5228, -0.7443, -0.5193,  0.2613],\n",
      "        [ 2.0728, -2.0937,  3.2841, -1.4561]], requires_grad=True)\n",
      "Parameter containing:\n",
      "tensor([[ 2.6656, -0.6196, -0.3921,  0.3866],\n",
      "        [ 2.2884, -2.1249,  3.4728, -1.2538]], requires_grad=True)\n",
      "Parameter containing:\n",
      "tensor([[ 2.5675, -0.6877, -0.4696,  0.3318],\n",
      "        [ 2.3218, -1.8699,  3.5308, -1.2193]], requires_grad=True)\n",
      "Parameter containing:\n",
      "tensor([[ 2.5623, -0.6411, -0.5296,  0.3136],\n",
      "        [ 2.2300, -2.3169,  3.5712, -1.2223]], requires_grad=True)\n",
      "acc  0 1.1183773279190063\n",
      "acc  1 1.2191166877746582\n",
      "acc  2 0.9135628342628479\n",
      "acc  3 0.8041596412658691\n",
      "1.0138041228055954 10\n"
     ]
    },
    {
     "data": {
      "application/vnd.jupyter.widget-view+json": {
       "model_id": "06cc73f59ea0460bb9a022c8106f0323",
       "version_major": 2,
       "version_minor": 0
      },
      "text/plain": [
       "  0%|          | 0/1000 [00:00<?, ?it/s]"
      ]
     },
     "metadata": {},
     "output_type": "display_data"
    },
    {
     "data": {
      "application/vnd.jupyter.widget-view+json": {
       "model_id": "39edfb017c7a4dd983c7065293feab1e",
       "version_major": 2,
       "version_minor": 0
      },
      "text/plain": [
       "  0%|          | 0/1000 [00:00<?, ?it/s]"
      ]
     },
     "metadata": {},
     "output_type": "display_data"
    },
    {
     "name": "stdout",
     "output_type": "stream",
     "text": [
      "tensor([0, 3])\n",
      "tensor([0, 3])\n",
      "tensor([0, 3])\n",
      "tensor([0, 3])\n",
      "Parameter containing:\n",
      "tensor([[ 0.9450,  0.6997, -0.0172,  0.5020],\n",
      "        [ 0.7826,  0.0332,  0.8289,  1.3461]], requires_grad=True)\n",
      "Parameter containing:\n",
      "tensor([[ 1.1085,  0.8798,  0.1538,  0.6807],\n",
      "        [ 0.4608, -0.2938,  0.5177,  1.0236]], requires_grad=True)\n",
      "Parameter containing:\n",
      "tensor([[ 0.8302,  0.6031, -0.1337,  0.3898],\n",
      "        [ 0.5335, -0.2347,  0.5957,  1.0990]], requires_grad=True)\n",
      "Parameter containing:\n",
      "tensor([[ 0.5416,  0.3169, -0.4004,  0.1128],\n",
      "        [ 0.6023, -0.1482,  0.6555,  1.1723]], requires_grad=True)\n",
      "acc  0 1.3636822700500488\n",
      "acc  1 1.7388947010040283\n",
      "acc  2 1.47151780128479\n",
      "acc  3 1.3593387603759766\n",
      "1.483358383178711 10\n"
     ]
    },
    {
     "data": {
      "application/vnd.jupyter.widget-view+json": {
       "model_id": "72c1278b84d2429e994560a60220f971",
       "version_major": 2,
       "version_minor": 0
      },
      "text/plain": [
       "  0%|          | 0/1000 [00:00<?, ?it/s]"
      ]
     },
     "metadata": {},
     "output_type": "display_data"
    },
    {
     "data": {
      "application/vnd.jupyter.widget-view+json": {
       "model_id": "5245ea760c25404a9a566a3735cdc108",
       "version_major": 2,
       "version_minor": 0
      },
      "text/plain": [
       "  0%|          | 0/1000 [00:00<?, ?it/s]"
      ]
     },
     "metadata": {},
     "output_type": "display_data"
    },
    {
     "name": "stdout",
     "output_type": "stream",
     "text": [
      "tensor([3, 2])\n",
      "tensor([3, 2])\n",
      "tensor([3, 2])\n",
      "tensor([3, 2])\n",
      "Parameter containing:\n",
      "tensor([[ 0.3835, -0.1605,  0.0768,  1.3917],\n",
      "        [ 0.4896, -0.3358,  2.2852,  0.1402]], requires_grad=True)\n",
      "Parameter containing:\n",
      "tensor([[ 0.5761,  0.0394,  0.2701,  1.5914],\n",
      "        [ 0.2233, -0.6147,  2.0155, -0.1213]], requires_grad=True)\n",
      "Parameter containing:\n",
      "tensor([[ 0.4878, -0.0303,  0.2005,  1.5094],\n",
      "        [ 0.4519, -0.3840,  2.2386,  0.1023]], requires_grad=True)\n",
      "Parameter containing:\n",
      "tensor([[ 0.2761, -0.2633, -0.0550,  1.2993],\n",
      "        [ 0.2206, -0.5758,  2.0562, -0.0928]], requires_grad=True)\n",
      "acc  0 0.9576551914215088\n",
      "acc  1 1.0009208917617798\n",
      "acc  2 0.7426429390907288\n",
      "acc  3 0.8096965551376343\n",
      "0.8777288943529129 10\n"
     ]
    },
    {
     "data": {
      "application/vnd.jupyter.widget-view+json": {
       "model_id": "17c979ce1c2846ddb93820a88e36485c",
       "version_major": 2,
       "version_minor": 0
      },
      "text/plain": [
       "  0%|          | 0/1000 [00:00<?, ?it/s]"
      ]
     },
     "metadata": {},
     "output_type": "display_data"
    },
    {
     "data": {
      "application/vnd.jupyter.widget-view+json": {
       "model_id": "1e291c030bcf48b593903c1288416d88",
       "version_major": 2,
       "version_minor": 0
      },
      "text/plain": [
       "  0%|          | 0/1000 [00:00<?, ?it/s]"
      ]
     },
     "metadata": {},
     "output_type": "display_data"
    },
    {
     "name": "stdout",
     "output_type": "stream",
     "text": [
      "tensor([2, 3])\n",
      "tensor([2, 3])\n",
      "tensor([2, 3])\n",
      "tensor([2, 3])\n",
      "Parameter containing:\n",
      "tensor([[0.5164, 0.2632, 0.8780, 0.3251],\n",
      "        [0.2361, 1.0737, 0.7273, 1.1040]], requires_grad=True)\n",
      "Parameter containing:\n",
      "tensor([[ 0.6644,  0.3930,  1.0365,  0.4874],\n",
      "        [-0.2304,  0.5921,  0.2495,  0.6256]], requires_grad=True)\n",
      "Parameter containing:\n",
      "tensor([[ 0.7350,  0.4877,  1.0992,  0.5534],\n",
      "        [-0.1951,  0.6344,  0.2794,  0.6716]], requires_grad=True)\n",
      "Parameter containing:\n",
      "tensor([[0.6945, 0.4440, 1.0593, 0.5137],\n",
      "        [0.0432, 0.8738, 0.5244, 0.9102]], requires_grad=True)\n",
      "acc  0 1.4239662885665894\n",
      "acc  1 1.1132982969284058\n",
      "acc  2 1.107771396636963\n",
      "acc  3 1.3078858852386475\n",
      "1.2382304668426514 10\n",
      "[Parameter containing:\n",
      "tensor([[0.5164, 0.2632, 0.8780, 0.3251],\n",
      "        [0.2361, 1.0737, 0.7273, 1.1040]], requires_grad=True), Parameter containing:\n",
      "tensor([[ 0.6644,  0.3930,  1.0365,  0.4874],\n",
      "        [-0.2304,  0.5921,  0.2495,  0.6256]], requires_grad=True), Parameter containing:\n",
      "tensor([[ 0.7350,  0.4877,  1.0992,  0.5534],\n",
      "        [-0.1951,  0.6344,  0.2794,  0.6716]], requires_grad=True), Parameter containing:\n",
      "tensor([[0.6945, 0.4440, 1.0593, 0.5137],\n",
      "        [0.0432, 0.8738, 0.5244, 0.9102]], requires_grad=True)]\n",
      "Parameter containing:\n",
      "tensor([116.7123], requires_grad=True)\n",
      "Parameter containing:\n",
      "tensor([-25.5832], requires_grad=True)\n",
      "Parameter containing:\n",
      "tensor([125.7895], requires_grad=True)\n",
      "Parameter containing:\n",
      "tensor([-14.1372], requires_grad=True)\n"
     ]
    },
    {
     "data": {
      "application/vnd.jupyter.widget-view+json": {
       "model_id": "2c753e2affbb4219bbf93f0542e882c8",
       "version_major": 2,
       "version_minor": 0
      },
      "text/plain": [
       "  0%|          | 0/1000 [00:00<?, ?it/s]"
      ]
     },
     "metadata": {},
     "output_type": "display_data"
    },
    {
     "data": {
      "application/vnd.jupyter.widget-view+json": {
       "model_id": "7f8da94d660443e1b530b7be96bca06d",
       "version_major": 2,
       "version_minor": 0
      },
      "text/plain": [
       "  0%|          | 0/1000 [00:00<?, ?it/s]"
      ]
     },
     "metadata": {},
     "output_type": "display_data"
    },
    {
     "name": "stdout",
     "output_type": "stream",
     "text": [
      "tensor([5, 7])\n",
      "tensor([5, 7])\n",
      "tensor([5, 7])\n",
      "tensor([5, 7])\n",
      "Parameter containing:\n",
      "tensor([[ 0.6023,  0.5525,  0.7372,  0.1852,  0.2934,  1.7781,  0.7992,  0.2331],\n",
      "        [ 0.6625,  0.9877,  0.7206, -0.4070,  0.6601,  0.0659,  1.0881,  1.4318]],\n",
      "       requires_grad=True)\n",
      "Parameter containing:\n",
      "tensor([[ 0.4822,  0.4177,  0.6169,  0.0603,  0.1765,  1.6524,  0.6747,  0.1123],\n",
      "        [ 0.3255,  0.6415,  0.3875, -0.7425,  0.3196, -0.2787,  0.7587,  1.1015]],\n",
      "       requires_grad=True)\n",
      "Parameter containing:\n",
      "tensor([[ 0.5855,  0.5745,  0.6761,  0.1440,  0.2863,  1.7743,  0.7719,  0.1821],\n",
      "        [ 0.6390,  1.0053,  0.8411, -0.3754,  0.6758, -0.1363,  1.0649,  1.3898]],\n",
      "       requires_grad=True)\n",
      "Parameter containing:\n",
      "tensor([[ 0.3527,  0.3651,  0.5650, -0.0678,  0.1631,  1.6480,  0.5933,  0.0195],\n",
      "        [ 0.5147,  0.8297,  0.5604, -0.6059,  0.5126, -0.1535,  0.9295,  1.2701]],\n",
      "       requires_grad=True)\n",
      "acc  0 1.0655183792114258\n",
      "acc  1 1.0416829586029053\n",
      "acc  2 1.3087656497955322\n",
      "acc  3 1.0707426071166992\n",
      "1.1216773986816406 10\n"
     ]
    },
    {
     "data": {
      "application/vnd.jupyter.widget-view+json": {
       "model_id": "5d5d9b38870b4b898d22f908dddb77f2",
       "version_major": 2,
       "version_minor": 0
      },
      "text/plain": [
       "  0%|          | 0/1000 [00:00<?, ?it/s]"
      ]
     },
     "metadata": {},
     "output_type": "display_data"
    },
    {
     "data": {
      "application/vnd.jupyter.widget-view+json": {
       "model_id": "832db1e293854dab8ed4c6d2f514dff4",
       "version_major": 2,
       "version_minor": 0
      },
      "text/plain": [
       "  0%|          | 0/1000 [00:00<?, ?it/s]"
      ]
     },
     "metadata": {},
     "output_type": "display_data"
    },
    {
     "name": "stdout",
     "output_type": "stream",
     "text": [
      "tensor([5, 2])\n",
      "tensor([5, 2])\n",
      "tensor([5, 2])\n",
      "tensor([5, 2])\n",
      "Parameter containing:\n",
      "tensor([[ 0.5185,  0.2133,  0.5646,  0.4897,  0.1079,  0.7689,  0.1742, -0.0286],\n",
      "        [ 0.4512,  0.0806,  1.5714,  0.4507,  0.6789,  0.6974,  0.6341,  0.1775]],\n",
      "       requires_grad=True)\n",
      "Parameter containing:\n",
      "tensor([[ 0.6550,  0.3303,  0.6563,  0.6035,  0.2247,  0.8832,  0.3045,  0.0888],\n",
      "        [ 0.3679, -0.1011,  1.5050,  0.3494,  0.5903,  0.6186,  0.5726,  0.0965]],\n",
      "       requires_grad=True)\n",
      "Parameter containing:\n",
      "tensor([[ 0.7531,  0.4352,  0.7870,  0.7280,  0.3354,  1.0065,  0.4151,  0.1989],\n",
      "        [ 0.3670, -0.0173,  1.4848,  0.3583,  0.5944,  0.6227,  0.5587,  0.0725]],\n",
      "       requires_grad=True)\n",
      "Parameter containing:\n",
      "tensor([[ 0.6999,  0.3945,  0.7586,  0.6834,  0.2925,  0.9544,  0.3744,  0.1568],\n",
      "        [ 0.2346, -0.1467,  1.3466,  0.2282,  0.4578,  0.4838,  0.4233, -0.0506]],\n",
      "       requires_grad=True)\n",
      "acc  0 0.9992592930793762\n",
      "acc  1 1.3077486753463745\n",
      "acc  2 1.7362735271453857\n",
      "acc  3 1.394951343536377\n",
      "1.3595582097768784 10\n"
     ]
    },
    {
     "data": {
      "application/vnd.jupyter.widget-view+json": {
       "model_id": "925eed995d754b8abb384d02d32e440e",
       "version_major": 2,
       "version_minor": 0
      },
      "text/plain": [
       "  0%|          | 0/1000 [00:00<?, ?it/s]"
      ]
     },
     "metadata": {},
     "output_type": "display_data"
    },
    {
     "data": {
      "application/vnd.jupyter.widget-view+json": {
       "model_id": "b56c0b21eb6f4356b6abaa96a9e734ec",
       "version_major": 2,
       "version_minor": 0
      },
      "text/plain": [
       "  0%|          | 0/1000 [00:00<?, ?it/s]"
      ]
     },
     "metadata": {},
     "output_type": "display_data"
    },
    {
     "name": "stdout",
     "output_type": "stream",
     "text": [
      "tensor([1, 1])\n",
      "tensor([1, 1])\n",
      "tensor([1, 1])\n",
      "tensor([1, 1])\n",
      "Parameter containing:\n",
      "tensor([[0.4582, 0.6373, 0.5713, 0.3484, 0.5977, 0.5903, 0.4988, 0.5675],\n",
      "        [0.4601, 0.9486, 0.7078, 0.7731, 0.7018, 0.5303, 0.6430, 0.7662]],\n",
      "       requires_grad=True)\n",
      "Parameter containing:\n",
      "tensor([[0.5901, 0.7595, 0.6933, 0.4460, 0.7252, 0.7092, 0.6206, 0.6861],\n",
      "        [0.2399, 0.7346, 0.4913, 0.5505, 0.4811, 0.3177, 0.4281, 0.5494]],\n",
      "       requires_grad=True)\n",
      "Parameter containing:\n",
      "tensor([[0.4096, 0.5800, 0.5123, 0.2809, 0.5283, 0.5365, 0.4410, 0.5096],\n",
      "        [0.1409, 0.6417, 0.4021, 0.4638, 0.3944, 0.2233, 0.3444, 0.4629]],\n",
      "       requires_grad=True)\n",
      "Parameter containing:\n",
      "tensor([[0.3753, 0.5457, 0.4940, 0.2699, 0.5134, 0.5281, 0.4189, 0.4910],\n",
      "        [0.3123, 0.7974, 0.5472, 0.6166, 0.5410, 0.3713, 0.4877, 0.6164]],\n",
      "       requires_grad=True)\n",
      "acc  0 0.8645411729812622\n",
      "acc  1 1.0436604022979736\n",
      "acc  2 1.0680620670318604\n",
      "acc  3 0.8577417135238647\n",
      "0.9585013389587402 10\n"
     ]
    },
    {
     "data": {
      "application/vnd.jupyter.widget-view+json": {
       "model_id": "de1e12ecad9247dea2ca568c2c83ba07",
       "version_major": 2,
       "version_minor": 0
      },
      "text/plain": [
       "  0%|          | 0/1000 [00:00<?, ?it/s]"
      ]
     },
     "metadata": {},
     "output_type": "display_data"
    },
    {
     "data": {
      "application/vnd.jupyter.widget-view+json": {
       "model_id": "47b851d8f19e4dc9846d00f5199ec79b",
       "version_major": 2,
       "version_minor": 0
      },
      "text/plain": [
       "  0%|          | 0/1000 [00:00<?, ?it/s]"
      ]
     },
     "metadata": {},
     "output_type": "display_data"
    },
    {
     "name": "stdout",
     "output_type": "stream",
     "text": [
      "tensor([1, 0])\n",
      "tensor([1, 0])\n",
      "tensor([1, 0])\n",
      "tensor([1, 0])\n",
      "Parameter containing:\n",
      "tensor([[0.4964, 0.7086, 0.4220, 0.4529, 0.5498, 0.4627, 0.6524, 0.4344],\n",
      "        [0.6753, 0.3696, 0.3864, 0.1622, 0.4075, 0.4670, 0.3874, 0.2234]],\n",
      "       requires_grad=True)\n",
      "Parameter containing:\n",
      "tensor([[0.5532, 0.7649, 0.4826, 0.5061, 0.6142, 0.5180, 0.7075, 0.4898],\n",
      "        [0.8141, 0.5073, 0.5269, 0.3027, 0.5451, 0.5993, 0.5276, 0.3635]],\n",
      "       requires_grad=True)\n",
      "Parameter containing:\n",
      "tensor([[0.4583, 0.6622, 0.3827, 0.4044, 0.4902, 0.4223, 0.6116, 0.3950],\n",
      "        [0.6533, 0.3505, 0.3651, 0.1433, 0.3807, 0.4534, 0.3665, 0.2082]],\n",
      "       requires_grad=True)\n",
      "Parameter containing:\n",
      "tensor([[0.4423, 0.6535, 0.3651, 0.3971, 0.4974, 0.4059, 0.5959, 0.3791],\n",
      "        [0.8392, 0.5272, 0.5488, 0.3281, 0.5677, 0.6314, 0.5523, 0.3930]],\n",
      "       requires_grad=True)\n",
      "acc  0 1.2656891345977783\n",
      "acc  1 1.0238151550292969\n",
      "acc  2 0.7818084359169006\n",
      "acc  3 0.9780818223953247\n",
      "1.0123486369848251 10\n"
     ]
    },
    {
     "data": {
      "application/vnd.jupyter.widget-view+json": {
       "model_id": "b86a61aa5a414e7889d4a6fe8ad34da3",
       "version_major": 2,
       "version_minor": 0
      },
      "text/plain": [
       "  0%|          | 0/1000 [00:00<?, ?it/s]"
      ]
     },
     "metadata": {},
     "output_type": "display_data"
    },
    {
     "data": {
      "application/vnd.jupyter.widget-view+json": {
       "model_id": "8457efb08e8a4fb9b1ed2aa238c71078",
       "version_major": 2,
       "version_minor": 0
      },
      "text/plain": [
       "  0%|          | 0/1000 [00:00<?, ?it/s]"
      ]
     },
     "metadata": {},
     "output_type": "display_data"
    },
    {
     "name": "stdout",
     "output_type": "stream",
     "text": [
      "tensor([3, 7])\n",
      "tensor([3, 7])\n",
      "tensor([3, 7])\n",
      "tensor([3, 7])\n",
      "Parameter containing:\n",
      "tensor([[ 0.1809, -0.1240,  0.6652,  1.8786, -0.0177, -0.1749,  0.6475,  0.4671],\n",
      "        [ 0.3585,  0.2505,  2.0458, -1.1857, -0.5015,  0.6736, -0.6018,  3.5441]],\n",
      "       requires_grad=True)\n",
      "Parameter containing:\n",
      "tensor([[ 2.8051e-01, -1.9141e-03,  7.6657e-01,  1.9823e+00,  5.7039e-02,\n",
      "         -5.9253e-02,  7.0611e-01,  5.4098e-01],\n",
      "        [ 4.1102e-01,  5.4990e-01,  2.3126e+00, -1.1912e+00, -6.2156e-01,\n",
      "          7.8930e-01, -3.2545e-01,  3.7974e+00]], requires_grad=True)\n",
      "Parameter containing:\n",
      "tensor([[ 2.2016e-01, -8.4269e-02,  6.4840e-01,  1.9307e+00,  2.4713e-03,\n",
      "         -1.3661e-01,  6.6509e-01,  4.2879e-01],\n",
      "        [ 1.7785e-01,  6.2617e-02,  1.8776e+00, -1.4639e+00, -6.0786e-01,\n",
      "          4.8575e-01, -7.6982e-01,  3.3701e+00]], requires_grad=True)\n",
      "Parameter containing:\n",
      "tensor([[ 0.1825, -0.1286,  0.6829,  1.8966,  0.0136, -0.1802,  0.6713,  0.4948],\n",
      "        [ 0.3765,  0.2265,  2.0467, -1.1909, -0.4595,  0.6997, -0.5998,  3.5547]],\n",
      "       requires_grad=True)\n",
      "acc  0 1.3291330337524414\n",
      "acc  1 1.0569061040878296\n",
      "acc  2 0.929938554763794\n",
      "acc  3 1.1196702718734741\n",
      "1.1089119911193848 10\n"
     ]
    },
    {
     "data": {
      "application/vnd.jupyter.widget-view+json": {
       "model_id": "93d64eb0d0b2498c8e0912f1b11c0bf6",
       "version_major": 2,
       "version_minor": 0
      },
      "text/plain": [
       "  0%|          | 0/1000 [00:00<?, ?it/s]"
      ]
     },
     "metadata": {},
     "output_type": "display_data"
    },
    {
     "data": {
      "application/vnd.jupyter.widget-view+json": {
       "model_id": "2d7009801f7543ddb6486a00669bace4",
       "version_major": 2,
       "version_minor": 0
      },
      "text/plain": [
       "  0%|          | 0/1000 [00:00<?, ?it/s]"
      ]
     },
     "metadata": {},
     "output_type": "display_data"
    },
    {
     "name": "stdout",
     "output_type": "stream",
     "text": [
      "tensor([0, 6])\n",
      "tensor([0, 6])\n",
      "tensor([0, 6])\n",
      "tensor([0, 6])\n",
      "Parameter containing:\n",
      "tensor([[ 1.0292,  0.6372,  0.5804,  0.8861,  0.1630,  0.2568,  0.4161,  0.0560],\n",
      "        [-0.3020, -1.1238, -0.3087,  1.9454, -0.6646,  0.1172,  3.4048,  0.2285]],\n",
      "       requires_grad=True)\n",
      "Parameter containing:\n",
      "tensor([[ 0.9610,  0.4892,  0.1636,  0.9106,  0.1056,  0.0413,  0.2740, -0.0554],\n",
      "        [-0.2168, -1.1952, -0.2135,  2.1111, -0.3423, -0.4607,  3.6668,  0.3161]],\n",
      "       requires_grad=True)\n",
      "Parameter containing:\n",
      "tensor([[ 0.9884,  0.5026,  0.4229,  0.8279,  0.1384,  0.1596,  0.2925, -0.0161],\n",
      "        [-0.2933, -1.1661, -0.3274,  1.8310, -0.4488,  0.0045,  3.3102,  0.1220]],\n",
      "       requires_grad=True)\n",
      "Parameter containing:\n",
      "tensor([[ 0.9270,  0.4685,  0.3614,  0.7907,  0.0774,  0.1075,  0.2444, -0.0607],\n",
      "        [-0.2774, -1.0996, -0.2484,  1.9011, -0.3642,  0.0352,  3.3882,  0.1868]],\n",
      "       requires_grad=True)\n",
      "acc  0 0.7483898401260376\n",
      "acc  1 0.9507056474685669\n",
      "acc  2 1.053282618522644\n",
      "acc  3 0.9065038561820984\n",
      "0.9147204905748367 10\n"
     ]
    },
    {
     "data": {
      "application/vnd.jupyter.widget-view+json": {
       "model_id": "68324529f86d418288e97e6aac89d1e3",
       "version_major": 2,
       "version_minor": 0
      },
      "text/plain": [
       "  0%|          | 0/1000 [00:00<?, ?it/s]"
      ]
     },
     "metadata": {},
     "output_type": "display_data"
    },
    {
     "data": {
      "application/vnd.jupyter.widget-view+json": {
       "model_id": "4fc6c0e4d929473cbdd848cbfa6bb6c0",
       "version_major": 2,
       "version_minor": 0
      },
      "text/plain": [
       "  0%|          | 0/1000 [00:00<?, ?it/s]"
      ]
     },
     "metadata": {},
     "output_type": "display_data"
    },
    {
     "name": "stdout",
     "output_type": "stream",
     "text": [
      "tensor([7, 0])\n",
      "tensor([7, 0])\n",
      "tensor([7, 0])\n",
      "tensor([7, 0])\n",
      "Parameter containing:\n",
      "tensor([[0.3980, 0.3613, 0.3884, 0.4808, 0.5880, 0.5668, 0.3983, 0.7067],\n",
      "        [1.0404, 0.2176, 0.0175, 0.7575, 0.5662, 0.7904, 0.3447, 0.1067]],\n",
      "       requires_grad=True)\n",
      "Parameter containing:\n",
      "tensor([[0.4259, 0.3879, 0.4157, 0.5093, 0.6229, 0.5966, 0.4264, 0.7379],\n",
      "        [1.2104, 0.3866, 0.1922, 0.9263, 0.7401, 0.9593, 0.5178, 0.2699]],\n",
      "       requires_grad=True)\n",
      "Parameter containing:\n",
      "tensor([[0.4967, 0.4683, 0.4864, 0.5817, 0.6926, 0.6718, 0.4949, 0.8068],\n",
      "        [1.2289, 0.4026, 0.2176, 0.9515, 0.7607, 0.9758, 0.5397, 0.2922]],\n",
      "       requires_grad=True)\n",
      "Parameter containing:\n",
      "tensor([[0.5079, 0.4754, 0.4967, 0.5849, 0.6918, 0.6875, 0.4973, 0.8170],\n",
      "        [1.1304, 0.3046, 0.1147, 0.8445, 0.6568, 0.8799, 0.4401, 0.1922]],\n",
      "       requires_grad=True)\n",
      "acc  0 1.020025372505188\n",
      "acc  1 0.8260501623153687\n",
      "acc  2 1.051666259765625\n",
      "acc  3 1.1722925901412964\n",
      "1.0175085961818695 10\n"
     ]
    },
    {
     "data": {
      "application/vnd.jupyter.widget-view+json": {
       "model_id": "c954c61341b14383bdf6083b41a56d65",
       "version_major": 2,
       "version_minor": 0
      },
      "text/plain": [
       "  0%|          | 0/1000 [00:00<?, ?it/s]"
      ]
     },
     "metadata": {},
     "output_type": "display_data"
    },
    {
     "data": {
      "application/vnd.jupyter.widget-view+json": {
       "model_id": "d3b1a2a1b2664a8084c7f202a8c78318",
       "version_major": 2,
       "version_minor": 0
      },
      "text/plain": [
       "  0%|          | 0/1000 [00:00<?, ?it/s]"
      ]
     },
     "metadata": {},
     "output_type": "display_data"
    },
    {
     "name": "stdout",
     "output_type": "stream",
     "text": [
      "tensor([5, 5])\n",
      "tensor([5, 5])\n",
      "tensor([5, 5])\n",
      "tensor([5, 5])\n",
      "Parameter containing:\n",
      "tensor([[-0.2524,  0.1486,  0.3973, -0.3461,  0.4901,  2.0243,  1.2288, -0.8477],\n",
      "        [ 1.5733, -0.7641,  0.1219, -0.7950, -0.1227,  4.7241, -0.0058, -0.6123]],\n",
      "       requires_grad=True)\n",
      "Parameter containing:\n",
      "tensor([[-0.0537,  0.3529,  0.6030, -0.1394,  0.6966,  2.2308,  1.4342, -0.6417],\n",
      "        [ 1.5676, -0.9158,  0.0739, -0.8596, -0.1721,  4.7010, -0.0372, -0.6530]],\n",
      "       requires_grad=True)\n",
      "Parameter containing:\n",
      "tensor([[-0.3898,  0.2981,  0.5634, -0.2805,  0.6745,  2.2512,  1.4680, -0.7098],\n",
      "        [ 1.9328, -0.5671,  0.3789, -2.1363,  0.2665,  5.0570, -0.4500, -1.0792]],\n",
      "       requires_grad=True)\n",
      "Parameter containing:\n",
      "tensor([[-0.1794,  0.2303,  0.4762, -0.2670,  0.5757,  2.0960,  1.3222, -0.7641],\n",
      "        [ 1.4619, -0.8772,  0.0125, -0.9217, -0.2268,  4.6151, -0.1164, -0.7280]],\n",
      "       requires_grad=True)\n",
      "acc  0 0.8880710601806641\n",
      "acc  1 0.9163710474967957\n",
      "acc  2 0.8292844891548157\n",
      "acc  3 0.7549481391906738\n",
      "0.8471686840057373 10\n"
     ]
    },
    {
     "data": {
      "application/vnd.jupyter.widget-view+json": {
       "model_id": "47588c5a01eb4dc3b17983d9d1df0358",
       "version_major": 2,
       "version_minor": 0
      },
      "text/plain": [
       "  0%|          | 0/1000 [00:00<?, ?it/s]"
      ]
     },
     "metadata": {},
     "output_type": "display_data"
    },
    {
     "data": {
      "application/vnd.jupyter.widget-view+json": {
       "model_id": "c89e5bf0f9a445f1a3d350a14e69061b",
       "version_major": 2,
       "version_minor": 0
      },
      "text/plain": [
       "  0%|          | 0/1000 [00:00<?, ?it/s]"
      ]
     },
     "metadata": {},
     "output_type": "display_data"
    },
    {
     "name": "stdout",
     "output_type": "stream",
     "text": [
      "tensor([0, 5])\n",
      "tensor([0, 5])\n",
      "tensor([0, 5])\n",
      "tensor([0, 5])\n",
      "Parameter containing:\n",
      "tensor([[ 0.7897, -0.0425,  0.1366,  0.4025,  0.4923,  0.4472, -0.1821,  0.5664],\n",
      "        [ 0.1580,  0.7428, -0.2846,  0.9807,  0.7440,  0.9931,  0.9671,  0.4076]],\n",
      "       requires_grad=True)\n",
      "Parameter containing:\n",
      "tensor([[ 0.8630,  0.0462,  0.2452,  0.5068,  0.5656,  0.4558, -0.0973,  0.7084],\n",
      "        [-0.1156,  0.5149, -0.5209,  0.7606,  0.5309,  0.7727,  0.7423,  0.2078]],\n",
      "       requires_grad=True)\n",
      "Parameter containing:\n",
      "tensor([[ 0.9706,  0.1451,  0.3214,  0.6035,  0.6792,  0.6354,  0.0076,  0.7483],\n",
      "        [-0.0688,  0.5135, -0.5099,  0.7639,  0.5210,  0.7716,  0.7476,  0.1918]],\n",
      "       requires_grad=True)\n",
      "Parameter containing:\n",
      "tensor([[ 1.0351,  0.2087,  0.3844,  0.6501,  0.7397,  0.6950,  0.0672,  0.8111],\n",
      "        [-0.0359,  0.5518, -0.4748,  0.7889,  0.5542,  0.8053,  0.7781,  0.2214]],\n",
      "       requires_grad=True)\n",
      "acc  0 1.2502727508544922\n",
      "acc  1 0.986155092716217\n",
      "acc  2 0.8206369280815125\n",
      "acc  3 1.2314188480377197\n",
      "1.0721209049224854 10\n"
     ]
    },
    {
     "data": {
      "application/vnd.jupyter.widget-view+json": {
       "model_id": "aa438961e9fe457e8a5f4e1cc8461179",
       "version_major": 2,
       "version_minor": 0
      },
      "text/plain": [
       "  0%|          | 0/1000 [00:00<?, ?it/s]"
      ]
     },
     "metadata": {},
     "output_type": "display_data"
    },
    {
     "data": {
      "application/vnd.jupyter.widget-view+json": {
       "model_id": "0878f75dfda04ee283c99a542c9ba3be",
       "version_major": 2,
       "version_minor": 0
      },
      "text/plain": [
       "  0%|          | 0/1000 [00:00<?, ?it/s]"
      ]
     },
     "metadata": {},
     "output_type": "display_data"
    },
    {
     "name": "stdout",
     "output_type": "stream",
     "text": [
      "tensor([2, 2])\n",
      "tensor([2, 2])\n",
      "tensor([2, 2])\n",
      "tensor([2, 2])\n",
      "Parameter containing:\n",
      "tensor([[ 0.5187,  0.4434,  1.0625,  0.4354,  0.6627,  0.6184,  0.4848,  0.6275],\n",
      "        [-0.2902,  0.1373,  1.4003,  0.8750,  0.5971,  0.1489, -0.0564,  0.7170]],\n",
      "       requires_grad=True)\n",
      "Parameter containing:\n",
      "tensor([[ 0.5399,  0.4693,  1.0551,  0.4489,  0.7045,  0.6350,  0.4872,  0.6400],\n",
      "        [-0.3557,  0.0913,  1.3652,  0.8343,  0.5644,  0.0913, -0.0838,  0.6683]],\n",
      "       requires_grad=True)\n",
      "Parameter containing:\n",
      "tensor([[ 0.4279,  0.3262,  0.9410,  0.3240,  0.5606,  0.5080,  0.3661,  0.5236],\n",
      "        [-0.2789,  0.1274,  1.3996,  0.8686,  0.5943,  0.1387, -0.0560,  0.7035]],\n",
      "       requires_grad=True)\n",
      "Parameter containing:\n",
      "tensor([[ 0.4325,  0.3443,  0.9555,  0.3334,  0.5695,  0.5188,  0.3849,  0.5331],\n",
      "        [-0.1098,  0.2984,  1.5599,  1.0354,  0.7632,  0.3048,  0.1238,  0.8745]],\n",
      "       requires_grad=True)\n",
      "acc  0 0.962773859500885\n",
      "acc  1 0.9194109439849854\n",
      "acc  2 0.7240646481513977\n",
      "acc  3 0.7972298264503479\n",
      "0.850869819521904 10\n"
     ]
    },
    {
     "data": {
      "application/vnd.jupyter.widget-view+json": {
       "model_id": "74670257b46b44afab8401bcdd022440",
       "version_major": 2,
       "version_minor": 0
      },
      "text/plain": [
       "  0%|          | 0/1000 [00:00<?, ?it/s]"
      ]
     },
     "metadata": {},
     "output_type": "display_data"
    },
    {
     "data": {
      "application/vnd.jupyter.widget-view+json": {
       "model_id": "ca524874eaba45899c6ae631311ee4b4",
       "version_major": 2,
       "version_minor": 0
      },
      "text/plain": [
       "  0%|          | 0/1000 [00:00<?, ?it/s]"
      ]
     },
     "metadata": {},
     "output_type": "display_data"
    },
    {
     "name": "stdout",
     "output_type": "stream",
     "text": [
      "tensor([4, 1])\n",
      "tensor([4, 1])\n",
      "tensor([4, 1])\n",
      "tensor([4, 1])\n",
      "Parameter containing:\n",
      "tensor([[ 0.8947,  0.9563,  0.0727,  0.4632,  1.4349,  0.8270,  0.6282,  0.2469],\n",
      "        [-0.7370,  1.0772,  0.9295,  0.9938,  0.7599,  0.5550,  0.7495,  0.4063]],\n",
      "       requires_grad=True)\n",
      "Parameter containing:\n",
      "tensor([[ 0.8894,  0.9571,  0.0782,  0.4730,  1.4470,  0.8453,  0.6264,  0.2657],\n",
      "        [-0.8072,  1.0077,  0.8659,  0.9182,  0.6857,  0.4728,  0.6658,  0.3608]],\n",
      "       requires_grad=True)\n",
      "Parameter containing:\n",
      "tensor([[ 0.6252,  0.6972, -0.1976,  0.1890,  1.1722,  0.5617,  0.3492, -0.0151],\n",
      "        [-0.8729,  0.9477,  0.7906,  0.8391,  0.5710,  0.3654,  0.5672,  0.2767]],\n",
      "       requires_grad=True)\n",
      "Parameter containing:\n",
      "tensor([[ 0.6908,  0.7439, -0.1134,  0.2609,  1.2232,  0.6632,  0.3542,  0.0238],\n",
      "        [-0.8055,  0.9960,  0.8574,  0.9070,  0.6710,  0.4602,  0.6547,  0.3458]],\n",
      "       requires_grad=True)\n",
      "acc  0 0.9770259857177734\n",
      "acc  1 1.0732537508010864\n",
      "acc  2 0.9063047766685486\n",
      "acc  3 0.7375238537788391\n",
      "0.9235270917415619 10\n"
     ]
    },
    {
     "data": {
      "application/vnd.jupyter.widget-view+json": {
       "model_id": "2a6b178408d44177a38a21d71efcbf72",
       "version_major": 2,
       "version_minor": 0
      },
      "text/plain": [
       "  0%|          | 0/1000 [00:00<?, ?it/s]"
      ]
     },
     "metadata": {},
     "output_type": "display_data"
    },
    {
     "data": {
      "application/vnd.jupyter.widget-view+json": {
       "model_id": "65a1775dd6c04f18852b979c4e604a8f",
       "version_major": 2,
       "version_minor": 0
      },
      "text/plain": [
       "  0%|          | 0/1000 [00:00<?, ?it/s]"
      ]
     },
     "metadata": {},
     "output_type": "display_data"
    },
    {
     "name": "stdout",
     "output_type": "stream",
     "text": [
      "tensor([1, 7])\n",
      "tensor([1, 7])\n",
      "tensor([1, 7])\n",
      "tensor([1, 7])\n",
      "Parameter containing:\n",
      "tensor([[0.3590, 1.2133, 0.9111, 0.4199, 0.5085, 0.2000, 0.0872, 0.6442],\n",
      "        [0.8424, 0.5097, 0.1059, 0.2380, 0.0758, 0.5355, 0.8752, 1.3308]],\n",
      "       requires_grad=True)\n",
      "Parameter containing:\n",
      "tensor([[ 0.2173,  1.0656,  0.7601,  0.2787,  0.3654,  0.0564, -0.0541,  0.5022],\n",
      "        [ 0.8270,  0.4886,  0.0886,  0.2175,  0.0579,  0.5141,  0.8581,  1.3119]],\n",
      "       requires_grad=True)\n",
      "Parameter containing:\n",
      "tensor([[ 4.2650e-01,  1.2641e+00,  8.8839e-01,  4.0853e-01,  4.9445e-01,\n",
      "          7.4845e-02,  9.9234e-02,  5.2014e-01],\n",
      "        [ 7.2259e-01,  3.8794e-01, -1.2302e-03,  1.0598e-01, -4.4660e-02,\n",
      "          3.9146e-01,  7.5736e-01,  1.2154e+00]], requires_grad=True)\n",
      "Parameter containing:\n",
      "tensor([[ 4.3812e-01,  1.2898e+00,  9.9097e-01,  5.2048e-01,  6.0923e-01,\n",
      "          2.8247e-01,  1.9428e-01,  6.8772e-01],\n",
      "        [ 6.3506e-01,  3.0456e-01, -1.0535e-01,  6.0464e-04, -1.3480e-01,\n",
      "          3.5404e-01,  6.7301e-01,  1.1284e+00]], requires_grad=True)\n",
      "acc  0 0.8905306458473206\n",
      "acc  1 0.9125789403915405\n",
      "acc  2 1.0231456756591797\n",
      "acc  3 1.049248218536377\n",
      "0.9688758701086044 10\n"
     ]
    },
    {
     "data": {
      "application/vnd.jupyter.widget-view+json": {
       "model_id": "93fbc071e3df4e449cc3f1319920b906",
       "version_major": 2,
       "version_minor": 0
      },
      "text/plain": [
       "  0%|          | 0/1000 [00:00<?, ?it/s]"
      ]
     },
     "metadata": {},
     "output_type": "display_data"
    },
    {
     "data": {
      "application/vnd.jupyter.widget-view+json": {
       "model_id": "467938ea95d94bd2817f9b1f20cc1e76",
       "version_major": 2,
       "version_minor": 0
      },
      "text/plain": [
       "  0%|          | 0/1000 [00:00<?, ?it/s]"
      ]
     },
     "metadata": {},
     "output_type": "display_data"
    },
    {
     "name": "stdout",
     "output_type": "stream",
     "text": [
      "tensor([2, 7])\n",
      "tensor([2, 7])\n",
      "tensor([2, 7])\n",
      "tensor([2, 7])\n",
      "Parameter containing:\n",
      "tensor([[0.6167, 0.7305, 0.9341, 0.5334, 0.5372, 0.6558, 0.6110, 0.5511],\n",
      "        [0.2711, 0.5952, 0.2182, 0.3602, 0.6124, 0.1664, 0.4228, 0.6416]],\n",
      "       requires_grad=True)\n",
      "Parameter containing:\n",
      "tensor([[0.5562, 0.6665, 0.8749, 0.4712, 0.4744, 0.5940, 0.5522, 0.4934],\n",
      "        [0.3472, 0.6720, 0.2902, 0.4396, 0.6909, 0.2699, 0.4916, 0.7006]],\n",
      "       requires_grad=True)\n",
      "Parameter containing:\n",
      "tensor([[0.3918, 0.5026, 0.7024, 0.3088, 0.3091, 0.4238, 0.3861, 0.3243],\n",
      "        [0.4919, 0.8188, 0.4367, 0.5804, 0.8326, 0.4069, 0.6365, 0.8481]],\n",
      "       requires_grad=True)\n",
      "Parameter containing:\n",
      "tensor([[0.5117, 0.6273, 0.8339, 0.4361, 0.4337, 0.5487, 0.5096, 0.4473],\n",
      "        [0.3328, 0.6609, 0.2785, 0.4231, 0.6793, 0.2545, 0.4754, 0.6893]],\n",
      "       requires_grad=True)\n",
      "acc  0 0.8897070288658142\n",
      "acc  1 0.8439292311668396\n",
      "acc  2 0.9598750472068787\n",
      "acc  3 1.020612120628357\n",
      "0.9285308569669724 10\n"
     ]
    },
    {
     "data": {
      "application/vnd.jupyter.widget-view+json": {
       "model_id": "7f48fd1eb481421486de74b126166ea8",
       "version_major": 2,
       "version_minor": 0
      },
      "text/plain": [
       "  0%|          | 0/1000 [00:00<?, ?it/s]"
      ]
     },
     "metadata": {},
     "output_type": "display_data"
    },
    {
     "data": {
      "application/vnd.jupyter.widget-view+json": {
       "model_id": "8947a06c22264a5e99f9e0069ddeefff",
       "version_major": 2,
       "version_minor": 0
      },
      "text/plain": [
       "  0%|          | 0/1000 [00:00<?, ?it/s]"
      ]
     },
     "metadata": {},
     "output_type": "display_data"
    },
    {
     "name": "stdout",
     "output_type": "stream",
     "text": [
      "tensor([7, 4])\n",
      "tensor([7, 4])\n",
      "tensor([7, 4])\n",
      "tensor([7, 4])\n",
      "Parameter containing:\n",
      "tensor([[ 0.3579,  0.3141,  0.4016,  0.8207,  0.8488,  0.9839,  0.4999,  1.0624],\n",
      "        [ 0.6006,  0.3792,  0.4342,  0.2305,  1.3822, -0.0036,  0.3698,  0.8615]],\n",
      "       requires_grad=True)\n",
      "Parameter containing:\n",
      "tensor([[ 0.1751,  0.1536,  0.2203,  0.6430,  0.6705,  0.8204,  0.3221,  0.8900],\n",
      "        [ 0.4369,  0.1985,  0.2659,  0.0560,  1.2051, -0.1747,  0.1989,  0.6860]],\n",
      "       requires_grad=True)\n",
      "Parameter containing:\n",
      "tensor([[ 0.1772,  0.2128,  0.2524,  0.6765,  0.7218,  0.8756,  0.3811,  0.9348],\n",
      "        [ 0.5198,  0.3017,  0.3931,  0.1599,  1.3146, -0.1313,  0.2907,  0.7939]],\n",
      "       requires_grad=True)\n",
      "Parameter containing:\n",
      "tensor([[ 0.2360,  0.2143,  0.2810,  0.7021,  0.7321,  0.8737,  0.3837,  0.9424],\n",
      "        [ 0.5885,  0.3539,  0.4219,  0.2139,  1.3587, -0.0239,  0.3499,  0.8414]],\n",
      "       requires_grad=True)\n",
      "acc  0 0.8368511199951172\n",
      "acc  1 1.0707651376724243\n",
      "acc  2 1.0352365970611572\n",
      "acc  3 0.6690989136695862\n",
      "0.9029879420995712 10\n"
     ]
    },
    {
     "data": {
      "application/vnd.jupyter.widget-view+json": {
       "model_id": "6aa99149230246f9ad39291a0ebdd624",
       "version_major": 2,
       "version_minor": 0
      },
      "text/plain": [
       "  0%|          | 0/1000 [00:00<?, ?it/s]"
      ]
     },
     "metadata": {},
     "output_type": "display_data"
    },
    {
     "data": {
      "application/vnd.jupyter.widget-view+json": {
       "model_id": "7a37adc0e030410b8752a72cf720eb06",
       "version_major": 2,
       "version_minor": 0
      },
      "text/plain": [
       "  0%|          | 0/1000 [00:00<?, ?it/s]"
      ]
     },
     "metadata": {},
     "output_type": "display_data"
    },
    {
     "name": "stdout",
     "output_type": "stream",
     "text": [
      "tensor([0, 2])\n",
      "tensor([0, 2])\n",
      "tensor([0, 2])\n",
      "tensor([4, 2])\n",
      "Parameter containing:\n",
      "tensor([[ 1.1560,  0.6572,  0.8625, -0.2279,  1.1242,  0.6120,  0.2982,  0.2757],\n",
      "        [-0.0661,  0.5679,  1.6214,  0.5108, -0.0072,  0.0609,  1.4651, -0.1378]],\n",
      "       requires_grad=True)\n",
      "Parameter containing:\n",
      "tensor([[ 8.9792e-01,  4.1009e-01,  6.1717e-01, -4.6179e-01,  8.9040e-01,\n",
      "          3.6734e-01,  4.0840e-02, -3.9564e-03],\n",
      "        [-7.4208e-04,  6.2680e-01,  1.6555e+00,  5.7769e-01,  6.7301e-02,\n",
      "          1.9819e-01,  1.5233e+00, -9.3291e-02]], requires_grad=True)\n",
      "Parameter containing:\n",
      "tensor([[ 1.1203,  0.6375,  0.8408, -0.2374,  1.1154,  0.5858,  0.2667,  0.2290],\n",
      "        [-0.1755,  0.4515,  1.4757,  0.4061, -0.1044,  0.0305,  1.3471, -0.2434]],\n",
      "       requires_grad=True)\n",
      "Parameter containing:\n",
      "tensor([[ 1.1489e+00,  6.8060e-01,  8.7957e-01, -2.3146e-01,  1.1506e+00,\n",
      "          6.1082e-01,  2.4591e-01,  2.5386e-01],\n",
      "        [-4.0781e-04,  6.3686e-01,  1.6717e+00,  5.8997e-01,  9.7464e-02,\n",
      "          1.4234e-01,  1.5424e+00, -6.0265e-02]], requires_grad=True)\n",
      "acc  0 1.0400665998458862\n",
      "acc  1 0.6727020144462585\n",
      "acc  2 0.7789087891578674\n",
      "acc  3 0.7194430828094482\n",
      "0.8027801215648651 11\n"
     ]
    },
    {
     "data": {
      "application/vnd.jupyter.widget-view+json": {
       "model_id": "48732fc2c43a474b81ce84e2267afb0a",
       "version_major": 2,
       "version_minor": 0
      },
      "text/plain": [
       "  0%|          | 0/1000 [00:00<?, ?it/s]"
      ]
     },
     "metadata": {},
     "output_type": "display_data"
    },
    {
     "data": {
      "application/vnd.jupyter.widget-view+json": {
       "model_id": "4a8355ab5b6f4494963380289fa80199",
       "version_major": 2,
       "version_minor": 0
      },
      "text/plain": [
       "  0%|          | 0/1000 [00:00<?, ?it/s]"
      ]
     },
     "metadata": {},
     "output_type": "display_data"
    },
    {
     "name": "stdout",
     "output_type": "stream",
     "text": [
      "tensor([5, 0])\n",
      "tensor([5, 0])\n",
      "tensor([5, 0])\n",
      "tensor([5, 0])\n",
      "Parameter containing:\n",
      "tensor([[ 0.0816, -0.1388,  1.5774,  0.3042, -1.6177,  1.7850, -0.1992,  1.6816],\n",
      "        [ 6.3520, -1.3646,  0.2433, -0.7744, -0.3350, -0.1854, -0.9929,  1.5608]],\n",
      "       requires_grad=True)\n",
      "Parameter containing:\n",
      "tensor([[ 0.1221, -0.2372,  1.6150,  0.0543, -1.7821,  1.7633, -0.4704,  1.6712],\n",
      "        [ 6.6055, -1.5620, -0.0544, -2.1368, -0.2428,  0.2152, -0.9568,  1.9298]],\n",
      "       requires_grad=True)\n",
      "Parameter containing:\n",
      "tensor([[ 0.0826, -0.1804,  1.5986,  0.2196, -1.1862,  1.7092, -0.2354,  1.6344],\n",
      "        [ 6.1105, -1.3800,  0.1175, -0.2391, -0.4120, -0.0465, -0.9294,  1.3024]],\n",
      "       requires_grad=True)\n",
      "Parameter containing:\n",
      "tensor([[ 0.2851,  0.0268,  1.7638,  0.4270, -0.9948,  1.9238, -0.0160,  1.8439],\n",
      "        [ 6.2213, -1.2872,  0.1941, -0.1297, -0.2583,  0.0889, -0.8178,  1.3825]],\n",
      "       requires_grad=True)\n",
      "acc  0 0.8275737762451172\n",
      "acc  1 0.8625928163528442\n",
      "acc  2 0.9032430052757263\n",
      "acc  3 0.8899136781692505\n",
      "0.8708308190107346 10\n"
     ]
    },
    {
     "data": {
      "application/vnd.jupyter.widget-view+json": {
       "model_id": "595cad3d4dbe40bf91cd0dbb406e55df",
       "version_major": 2,
       "version_minor": 0
      },
      "text/plain": [
       "  0%|          | 0/1000 [00:00<?, ?it/s]"
      ]
     },
     "metadata": {},
     "output_type": "display_data"
    },
    {
     "data": {
      "application/vnd.jupyter.widget-view+json": {
       "model_id": "a22b5e809f25417a834f2ea6c0f1d2d3",
       "version_major": 2,
       "version_minor": 0
      },
      "text/plain": [
       "  0%|          | 0/1000 [00:00<?, ?it/s]"
      ]
     },
     "metadata": {},
     "output_type": "display_data"
    },
    {
     "name": "stdout",
     "output_type": "stream",
     "text": [
      "tensor([6, 5])\n",
      "tensor([6, 5])\n",
      "tensor([6, 5])\n",
      "tensor([6, 5])\n",
      "Parameter containing:\n",
      "tensor([[ 0.2251,  0.4617,  0.1441, -0.5605,  0.9710, -0.0880,  1.3230,  0.8513],\n",
      "        [ 1.7145, -0.2633, -0.2490, -0.9118, -0.5391,  4.5174,  0.3800, -0.2257]],\n",
      "       requires_grad=True)\n",
      "Parameter containing:\n",
      "tensor([[ 0.3013,  0.6041,  0.2627, -0.3703,  1.1276,  0.0575,  1.5096,  1.0130],\n",
      "        [ 1.8509, -0.2255, -0.1386, -1.7434, -1.0241,  5.1872,  0.2731, -0.2124]],\n",
      "       requires_grad=True)\n",
      "Parameter containing:\n",
      "tensor([[ 0.2844,  0.5307,  0.2587, -0.5124,  1.0613,  0.0096,  1.4505,  0.9493],\n",
      "        [ 1.4929, -0.4883, -0.4880, -1.1325, -0.7792,  4.3041,  0.1263, -0.4537]],\n",
      "       requires_grad=True)\n",
      "Parameter containing:\n",
      "tensor([[ 0.4214,  0.4997,  0.3844, -0.6174,  1.0390, -0.0086,  1.5150,  1.0000],\n",
      "        [ 1.7293, -0.3458, -0.4475, -0.8192, -1.0320,  4.4959,  0.3103, -0.2441]],\n",
      "       requires_grad=True)\n",
      "acc  0 0.8888953924179077\n",
      "acc  1 1.0243977308273315\n",
      "acc  2 0.9320665597915649\n",
      "acc  3 0.8324813842773438\n",
      "0.919460266828537 10\n"
     ]
    },
    {
     "data": {
      "application/vnd.jupyter.widget-view+json": {
       "model_id": "5e55619a22f94cd2929305bf3e095eb8",
       "version_major": 2,
       "version_minor": 0
      },
      "text/plain": [
       "  0%|          | 0/1000 [00:00<?, ?it/s]"
      ]
     },
     "metadata": {},
     "output_type": "display_data"
    },
    {
     "data": {
      "application/vnd.jupyter.widget-view+json": {
       "model_id": "a82821ad63a642e0804d1d03eccf31d9",
       "version_major": 2,
       "version_minor": 0
      },
      "text/plain": [
       "  0%|          | 0/1000 [00:00<?, ?it/s]"
      ]
     },
     "metadata": {},
     "output_type": "display_data"
    },
    {
     "name": "stdout",
     "output_type": "stream",
     "text": [
      "tensor([4, 0])\n",
      "tensor([4, 1])\n",
      "tensor([4, 0])\n",
      "tensor([4, 0])\n",
      "Parameter containing:\n",
      "tensor([[0.2231, 0.6451, 0.1599, 1.0632, 1.1975, 0.3941, 0.8016, 0.6358],\n",
      "        [1.0265, 0.9760, 0.1466, 0.5220, 0.0758, 0.2187, 0.7111, 0.8543]],\n",
      "       requires_grad=True)\n",
      "Parameter containing:\n",
      "tensor([[ 0.0510,  0.4626, -0.0129,  0.8786,  1.0162,  0.2058,  0.6236,  0.4581],\n",
      "        [ 0.8176,  0.8398, -0.0425,  0.3166, -0.1394, -0.0124,  0.4264,  0.6467]],\n",
      "       requires_grad=True)\n",
      "Parameter containing:\n",
      "tensor([[ 0.0114,  0.4291, -0.0523,  0.8438,  0.9863,  0.1795,  0.5952,  0.4332],\n",
      "        [ 0.9893,  0.9448,  0.1029,  0.5034,  0.0310,  0.1422,  0.6745,  0.8132]],\n",
      "       requires_grad=True)\n",
      "Parameter containing:\n",
      "tensor([[ 0.0357,  0.4715, -0.0308,  0.9107,  1.0049,  0.2176,  0.6301,  0.4642],\n",
      "        [ 0.8134,  0.7670, -0.0762,  0.2867, -0.1552, -0.0052,  0.4839,  0.6240]],\n",
      "       requires_grad=True)\n",
      "acc  0 1.0604045391082764\n",
      "acc  1 1.7589465379714966\n",
      "acc  2 1.002719521522522\n",
      "acc  3 0.657469630241394\n",
      "1.1198850572109222 19\n"
     ]
    },
    {
     "data": {
      "application/vnd.jupyter.widget-view+json": {
       "model_id": "296f09eb0e5d4b6aa27740610d240cc3",
       "version_major": 2,
       "version_minor": 0
      },
      "text/plain": [
       "  0%|          | 0/1000 [00:00<?, ?it/s]"
      ]
     },
     "metadata": {},
     "output_type": "display_data"
    },
    {
     "data": {
      "application/vnd.jupyter.widget-view+json": {
       "model_id": "4e18091e0d984e49951abfc53cb0b43b",
       "version_major": 2,
       "version_minor": 0
      },
      "text/plain": [
       "  0%|          | 0/1000 [00:00<?, ?it/s]"
      ]
     },
     "metadata": {},
     "output_type": "display_data"
    },
    {
     "name": "stdout",
     "output_type": "stream",
     "text": [
      "tensor([7, 2])\n",
      "tensor([7, 2])\n",
      "tensor([7, 2])\n",
      "tensor([7, 2])\n",
      "Parameter containing:\n",
      "tensor([[ 0.2782,  0.3852,  0.8200,  0.1958, -0.4220,  1.4225,  0.1219,  1.4692],\n",
      "        [-0.0226, -0.3431,  1.4425,  0.8254,  0.2202, -0.0180,  0.7402,  1.1352]],\n",
      "       requires_grad=True)\n",
      "Parameter containing:\n",
      "tensor([[ 0.2991,  0.4241,  0.8683,  0.2361, -0.3929,  1.4609,  0.1759,  1.5045],\n",
      "        [-0.1607, -0.4800,  1.2842,  0.6778,  0.0602, -0.0934,  0.5862,  0.9910]],\n",
      "       requires_grad=True)\n",
      "Parameter containing:\n",
      "tensor([[ 0.2654,  0.4235,  0.8018,  0.1933, -0.4999,  1.4192,  0.1326,  1.4814],\n",
      "        [ 0.2231, -0.0742,  1.6636,  1.0642,  0.4414,  0.3033,  0.9806,  1.3889]],\n",
      "       requires_grad=True)\n",
      "Parameter containing:\n",
      "tensor([[ 0.2057,  0.3114,  0.7319,  0.1224, -0.5010,  1.3564,  0.0676,  1.3781],\n",
      "        [-0.1764, -0.4722,  1.2863,  0.6731,  0.0621, -0.1031,  0.5805,  0.9806]],\n",
      "       requires_grad=True)\n",
      "acc  0 0.9519301056861877\n",
      "acc  1 0.9958717226982117\n",
      "acc  2 0.738353431224823\n",
      "acc  3 0.805489718914032\n",
      "0.8729112446308136 10\n"
     ]
    },
    {
     "data": {
      "application/vnd.jupyter.widget-view+json": {
       "model_id": "6588ed546069438b8602eda8d6a3962a",
       "version_major": 2,
       "version_minor": 0
      },
      "text/plain": [
       "  0%|          | 0/1000 [00:00<?, ?it/s]"
      ]
     },
     "metadata": {},
     "output_type": "display_data"
    },
    {
     "data": {
      "application/vnd.jupyter.widget-view+json": {
       "model_id": "b5563ea35dbc4de7bb255210e5174c0d",
       "version_major": 2,
       "version_minor": 0
      },
      "text/plain": [
       "  0%|          | 0/1000 [00:00<?, ?it/s]"
      ]
     },
     "metadata": {},
     "output_type": "display_data"
    },
    {
     "name": "stdout",
     "output_type": "stream",
     "text": [
      "tensor([1, 2])\n",
      "tensor([1, 2])\n",
      "tensor([1, 2])\n",
      "tensor([1, 2])\n",
      "Parameter containing:\n",
      "tensor([[0.7095, 0.9778, 0.6214, 0.5213, 0.3035, 0.6579, 0.6041, 0.7281],\n",
      "        [0.2695, 0.6042, 0.7235, 0.3472, 0.6565, 0.2977, 0.2261, 0.6934]],\n",
      "       requires_grad=True)\n",
      "Parameter containing:\n",
      "tensor([[0.5924, 0.8639, 0.5130, 0.4060, 0.1992, 0.5542, 0.5058, 0.6312],\n",
      "        [0.4211, 0.7662, 0.8747, 0.5061, 0.8222, 0.4535, 0.3712, 0.8480]],\n",
      "       requires_grad=True)\n",
      "Parameter containing:\n",
      "tensor([[0.6672, 0.9300, 0.5794, 0.4891, 0.2677, 0.6215, 0.5584, 0.6885],\n",
      "        [0.2092, 0.5429, 0.6611, 0.2875, 0.5985, 0.2371, 0.1603, 0.6308]],\n",
      "       requires_grad=True)\n",
      "Parameter containing:\n",
      "tensor([[0.4348, 0.6940, 0.3483, 0.2509, 0.0381, 0.3845, 0.3332, 0.4607],\n",
      "        [0.3902, 0.7257, 0.8454, 0.4689, 0.7781, 0.4183, 0.3343, 0.8143]],\n",
      "       requires_grad=True)\n",
      "acc  0 1.2431328296661377\n",
      "acc  1 0.8567472100257874\n",
      "acc  2 0.6469011306762695\n",
      "acc  3 1.1760374307632446\n",
      "0.9807046502828598 10\n",
      "[Parameter containing:\n",
      "tensor([[0.7095, 0.9778, 0.6214, 0.5213, 0.3035, 0.6579, 0.6041, 0.7281],\n",
      "        [0.2695, 0.6042, 0.7235, 0.3472, 0.6565, 0.2977, 0.2261, 0.6934]],\n",
      "       requires_grad=True), Parameter containing:\n",
      "tensor([[0.5924, 0.8639, 0.5130, 0.4060, 0.1992, 0.5542, 0.5058, 0.6312],\n",
      "        [0.4211, 0.7662, 0.8747, 0.5061, 0.8222, 0.4535, 0.3712, 0.8480]],\n",
      "       requires_grad=True), Parameter containing:\n",
      "tensor([[0.6672, 0.9300, 0.5794, 0.4891, 0.2677, 0.6215, 0.5584, 0.6885],\n",
      "        [0.2092, 0.5429, 0.6611, 0.2875, 0.5985, 0.2371, 0.1603, 0.6308]],\n",
      "       requires_grad=True), Parameter containing:\n",
      "tensor([[0.4348, 0.6940, 0.3483, 0.2509, 0.0381, 0.3845, 0.3332, 0.4607],\n",
      "        [0.3902, 0.7257, 0.8454, 0.4689, 0.7781, 0.4183, 0.3343, 0.8143]],\n",
      "       requires_grad=True)]\n",
      "Parameter containing:\n",
      "tensor([-6.4343], requires_grad=True)\n",
      "Parameter containing:\n",
      "tensor([128.1047], requires_grad=True)\n",
      "Parameter containing:\n",
      "tensor([56.8318], requires_grad=True)\n",
      "Parameter containing:\n",
      "tensor([19.5643], requires_grad=True)\n",
      "Parameter containing:\n",
      "tensor([19.7804], requires_grad=True)\n",
      "Parameter containing:\n",
      "tensor([58.2974], requires_grad=True)\n",
      "Parameter containing:\n",
      "tensor([-57.1527], requires_grad=True)\n",
      "Parameter containing:\n",
      "tensor([45.8131], requires_grad=True)\n"
     ]
    }
   ],
   "source": [
    "for D in [2,3,4]:\n",
    "    for HEAD_NUM in [D, 8]:\n",
    "        dartslike('js', js_coef=100.0)"
   ]
  },
  {
   "cell_type": "code",
   "execution_count": 14,
   "id": "fdab8f8b",
   "metadata": {},
   "outputs": [],
   "source": [
    "def rl(fname, lr=1e-3, lr0=0.1, lr2=.01):\n",
    "    h = []\n",
    "    accs = []\n",
    "    param_num = []\n",
    "\n",
    "    \n",
    "    for k in range(RUN_NUM):\n",
    "        torch.manual_seed(42+k)\n",
    "        x_train, y_train, x_val, y_val, x_test, y_test = [],[],[],[],[],[]\n",
    "        for angle in make_angles():\n",
    "            (_x_train, _y_train), (_x_val, _y_val), (_x_test, _y_test) = gen(TRAIN_NUM, TEST_NUM, seed=42+k+int(angle),\n",
    "                                                                             angle=angle)\n",
    "            x_train.append(_x_train)\n",
    "            y_train.append(_y_train)\n",
    "            x_val.append(_x_val)\n",
    "            y_val.append(_y_val)\n",
    "            x_test.append(_x_test)\n",
    "            y_test.append(_y_test)\n",
    "        model = ArchModel()\n",
    "        \n",
    "    \n",
    "        rs = np.random.RandomState(42+k)\n",
    "        \n",
    "        opt = torch.optim.SGD([{'params': model.rots.parameters(), 'lr': lr0},\n",
    "                              {'params': model.models.parameters(), 'lr': lr}],\n",
    "                              lr=lr)\n",
    "                              \n",
    "                              \n",
    "        opt2 = torch.optim.SGD(model.gammas, lr=lr2)\n",
    "\n",
    "        crit = torch.nn.MSELoss()\n",
    "        tq = tqdm.tqdm_notebook(range(EPOCH_NUM )) # taking half of epoch num for NAS\n",
    "        losses = []\n",
    "        losses2 = []\n",
    "        for e in tq:\n",
    "            \n",
    "            \n",
    "            for d in range(D):\n",
    "                opt2.zero_grad()\n",
    "                gammas = torch.nn.functional.softmax(model.gammas[d])\n",
    "                m = torch.distributions.Categorical(gammas)\n",
    "                \n",
    "            \n",
    "                x = torch.tensor(x_val[d]).float()\n",
    "                y = torch.tensor(y_val[d]).float()\n",
    "                gamma_id = m.sample((x.shape[0],))\n",
    "                log_prob = m.log_prob(gamma_id)\n",
    "                onehot = torch.nn.functional.one_hot(gamma_id, HEAD_NUM)\n",
    "            \n",
    "            \n",
    "                \n",
    "                out = model(x, d, gammas = onehot, use_softmax = False)[:,0]\n",
    "                loss2 = crit(out, y) \n",
    "                \n",
    "                opt2.zero_grad()\n",
    "                reward = -loss2 # more -> better\n",
    "                loss_to_min = - (reward * log_prob) \n",
    "                loss_to_min.sum().backward()\n",
    "                torch.nn.utils.clip_grad_value_(model.gammas, GRAD_CLIP)\n",
    "                opt2.step()\n",
    "\n",
    "                            \n",
    "                opt.zero_grad()\n",
    "                x = torch.tensor(x_train[d]).float()\n",
    "                y = torch.tensor(y_train[d]).float()\n",
    "                gamma_id = m.sample((x.shape[0],))\n",
    "                log_prob = m.log_prob(gamma_id)\n",
    "                onehot = torch.nn.functional.one_hot(gamma_id, HEAD_NUM)\n",
    "            \n",
    "                \n",
    "                out = model(x, d, gammas = onehot, use_softmax = False)[:,0]\n",
    "                loss = crit(out, y)\n",
    "                \n",
    "                loss.backward()\n",
    "                torch.nn.utils.clip_grad_value_(model.parameters(), GRAD_CLIP)\n",
    "                opt.step()\n",
    "                losses.append(loss.item())\n",
    "                losses2.append(loss2.item())\n",
    "            \n",
    "            tq.set_description(str(np.mean(losses))+';'+str(np.mean(losses2)))\n",
    "\n",
    "        tq = tqdm.tqdm_notebook(range(EPOCH_NUM))\n",
    "        \n",
    "        # search step. Now we concatenate train and validation\n",
    "        x_train = np.concatenate([x_train, x_val], axis=1)\n",
    "        y_train =  np.concatenate([y_train, y_val], axis=1)\n",
    "        \n",
    "        \n",
    "        for g in model.gammas:\n",
    "            print (g.argmax(1))\n",
    "        \n",
    "        for g in model.gammas:\n",
    "            print (g)\n",
    "        \n",
    "        opt = torch.optim.SGD([{'params': model.rots.parameters(), 'lr': lr0},\n",
    "                              {'params': model.models.parameters(), 'lr': lr}],\n",
    "                              lr=lr)\n",
    "        \n",
    "        for e in tq:\n",
    "\n",
    "            for d in range(D):\n",
    "                loss = 0.0\n",
    "                opt.zero_grad()\n",
    "\n",
    "                d2 = rs.choice([i for i in range(D) if i != d])\n",
    "\n",
    "                x = torch.tensor(x_train[d]).float()\n",
    "                y = torch.tensor(y_train[d]).float()\n",
    "                out = model(x, d, use_softmax=False)[:,0]\n",
    "\n",
    "               \n",
    "                loss = crit(out, y) \n",
    "                \n",
    "                \n",
    "                loss.backward()\n",
    "                torch.nn.utils.clip_grad_value_(model.parameters(), GRAD_CLIP)\n",
    "                opt.step()\n",
    "            angles= [str(r.angle.item()) for r in model.rots]\n",
    "            #print (angles)\n",
    "            tq.set_description(' '.join(angles))\n",
    "        total = 0\n",
    "        for d in range(D):\n",
    "\n",
    "            out = model(torch.tensor(x_test[d]).float(), d, use_softmax=False)\n",
    "            total += crit2(out[:,0], torch.tensor(y_test[d]).float()).item()\n",
    "        \n",
    "        acc = total/D\n",
    "        accs.append(acc)\n",
    "        param_num.append(calc_params(model.gammas))\n",
    "        print (acc, param_num[-1])\n",
    "        \n",
    "    with open(fname+'.txt', 'a') as out:\n",
    "        out.write(f'D={D}, HEAD_NUM={HEAD_NUM}, RUN_NUM={RUN_NUM}, CRIT={np.mean(accs)}+-{np.std(accs)}.  MIN={np.min(accs)}, MAX={np.max(accs)}')\n",
    "        out.write(f' PARAMS={np.mean(param_num)}+-{np.std(param_num)}. MIN={np.min(param_num)}, MAX={np.max(param_num)}\\n')\n",
    "    \n",
    "    with open(fname+'.jsonl', 'a') as out:\n",
    "        out.write(json.dumps({'D': D, 'HEAD_NUM': HEAD_NUM, 'RUN_NUM': RUN_NUM, 'accs': accs, 'params': param_num})+'\\n')\n",
    "    print (model.gammas)\n",
    "    for r in model.rots:\n",
    "        print (r.angle)\n",
    "    return (np.mean(accs), np.mean(param_num))\n"
   ]
  },
  {
   "cell_type": "code",
   "execution_count": 15,
   "id": "b79563c7",
   "metadata": {},
   "outputs": [
    {
     "name": "stderr",
     "output_type": "stream",
     "text": [
      "<ipython-input-14-77ef0e35c913>:32: TqdmDeprecationWarning: This function will be removed in tqdm==5.0.0\n",
      "Please use `tqdm.notebook.tqdm` instead of `tqdm.tqdm_notebook`\n",
      "  tq = tqdm.tqdm_notebook(range(EPOCH_NUM )) # taking half of epoch num for NAS\n"
     ]
    },
    {
     "data": {
      "application/vnd.jupyter.widget-view+json": {
       "model_id": "c8fd06b855f442729d1f7f904660b565",
       "version_major": 2,
       "version_minor": 0
      },
      "text/plain": [
       "  0%|          | 0/1000 [00:00<?, ?it/s]"
      ]
     },
     "metadata": {},
     "output_type": "display_data"
    },
    {
     "name": "stderr",
     "output_type": "stream",
     "text": [
      "<ipython-input-14-77ef0e35c913>:40: UserWarning: Implicit dimension choice for softmax has been deprecated. Change the call to include dim=X as an argument.\n",
      "  gammas = torch.nn.functional.softmax(model.gammas[d])\n",
      "<ipython-input-14-77ef0e35c913>:82: TqdmDeprecationWarning: This function will be removed in tqdm==5.0.0\n",
      "Please use `tqdm.notebook.tqdm` instead of `tqdm.tqdm_notebook`\n",
      "  tq = tqdm.tqdm_notebook(range(EPOCH_NUM))\n"
     ]
    },
    {
     "data": {
      "application/vnd.jupyter.widget-view+json": {
       "model_id": "f4b7d8118dcd401da7df2ef4db033f53",
       "version_major": 2,
       "version_minor": 0
      },
      "text/plain": [
       "  0%|          | 0/1000 [00:00<?, ?it/s]"
      ]
     },
     "metadata": {},
     "output_type": "display_data"
    },
    {
     "name": "stdout",
     "output_type": "stream",
     "text": [
      "tensor([0, 1])\n",
      "tensor([1, 1])\n",
      "Parameter containing:\n",
      "tensor([[1.0206, 0.7767],\n",
      "        [0.0293, 1.3129]], requires_grad=True)\n",
      "Parameter containing:\n",
      "tensor([[ 0.4217,  0.5696],\n",
      "        [-0.2292,  1.2794]], requires_grad=True)\n",
      "1.55710107088089 11\n"
     ]
    },
    {
     "data": {
      "application/vnd.jupyter.widget-view+json": {
       "model_id": "42a2fc977cce42ed9de4cc8c76a22fe9",
       "version_major": 2,
       "version_minor": 0
      },
      "text/plain": [
       "  0%|          | 0/1000 [00:00<?, ?it/s]"
      ]
     },
     "metadata": {},
     "output_type": "display_data"
    },
    {
     "data": {
      "application/vnd.jupyter.widget-view+json": {
       "model_id": "aec0e6e6646b4fafa39ea21347cf596a",
       "version_major": 2,
       "version_minor": 0
      },
      "text/plain": [
       "  0%|          | 0/1000 [00:00<?, ?it/s]"
      ]
     },
     "metadata": {},
     "output_type": "display_data"
    },
    {
     "name": "stdout",
     "output_type": "stream",
     "text": [
      "tensor([0, 0])\n",
      "tensor([1, 0])\n",
      "Parameter containing:\n",
      "tensor([[0.4622, 0.1883],\n",
      "        [0.8286, 0.4386]], requires_grad=True)\n",
      "Parameter containing:\n",
      "tensor([[-0.4587,  0.6926],\n",
      "        [ 0.4955,  0.1614]], requires_grad=True)\n",
      "1.815471112728119 11\n"
     ]
    },
    {
     "data": {
      "application/vnd.jupyter.widget-view+json": {
       "model_id": "b7f65fadf93141e68058fd8a73d29084",
       "version_major": 2,
       "version_minor": 0
      },
      "text/plain": [
       "  0%|          | 0/1000 [00:00<?, ?it/s]"
      ]
     },
     "metadata": {},
     "output_type": "display_data"
    },
    {
     "data": {
      "application/vnd.jupyter.widget-view+json": {
       "model_id": "3039682abb644824bc2340df3bd5fd49",
       "version_major": 2,
       "version_minor": 0
      },
      "text/plain": [
       "  0%|          | 0/1000 [00:00<?, ?it/s]"
      ]
     },
     "metadata": {},
     "output_type": "display_data"
    },
    {
     "name": "stdout",
     "output_type": "stream",
     "text": [
      "tensor([1, 0])\n",
      "tensor([1, 1])\n",
      "Parameter containing:\n",
      "tensor([[ 0.5188,  0.9315],\n",
      "        [ 1.0206, -0.0584]], requires_grad=True)\n",
      "Parameter containing:\n",
      "tensor([[-0.1822,  1.5399],\n",
      "        [ 0.0456,  0.4538]], requires_grad=True)\n",
      "0.5248137563467026 19\n"
     ]
    },
    {
     "data": {
      "application/vnd.jupyter.widget-view+json": {
       "model_id": "30c14b9f6df840039e7407c3f5664629",
       "version_major": 2,
       "version_minor": 0
      },
      "text/plain": [
       "  0%|          | 0/1000 [00:00<?, ?it/s]"
      ]
     },
     "metadata": {},
     "output_type": "display_data"
    },
    {
     "data": {
      "application/vnd.jupyter.widget-view+json": {
       "model_id": "d9760bb5c3314e20b2a7704f73999c2c",
       "version_major": 2,
       "version_minor": 0
      },
      "text/plain": [
       "  0%|          | 0/1000 [00:00<?, ?it/s]"
      ]
     },
     "metadata": {},
     "output_type": "display_data"
    },
    {
     "name": "stdout",
     "output_type": "stream",
     "text": [
      "tensor([1, 1])\n",
      "tensor([1, 0])\n",
      "Parameter containing:\n",
      "tensor([[0.1558, 0.9925],\n",
      "        [0.4280, 1.1543]], requires_grad=True)\n",
      "Parameter containing:\n",
      "tensor([[0.0344, 0.5716],\n",
      "        [0.7937, 0.0491]], requires_grad=True)\n",
      "0.5438301414251328 19\n"
     ]
    },
    {
     "data": {
      "application/vnd.jupyter.widget-view+json": {
       "model_id": "f46283e8ed544e75aae61ef91c770b9e",
       "version_major": 2,
       "version_minor": 0
      },
      "text/plain": [
       "  0%|          | 0/1000 [00:00<?, ?it/s]"
      ]
     },
     "metadata": {},
     "output_type": "display_data"
    },
    {
     "data": {
      "application/vnd.jupyter.widget-view+json": {
       "model_id": "6ede0ec8d8af4e0a91786cc94a9594fc",
       "version_major": 2,
       "version_minor": 0
      },
      "text/plain": [
       "  0%|          | 0/1000 [00:00<?, ?it/s]"
      ]
     },
     "metadata": {},
     "output_type": "display_data"
    },
    {
     "name": "stdout",
     "output_type": "stream",
     "text": [
      "tensor([1, 0])\n",
      "tensor([0, 1])\n",
      "Parameter containing:\n",
      "tensor([[0.3465, 0.3746],\n",
      "        [0.6338, 0.0433]], requires_grad=True)\n",
      "Parameter containing:\n",
      "tensor([[ 1.5087,  0.0853],\n",
      "        [-0.9572,  1.4878]], requires_grad=True)\n",
      "1.3527682423591614 20\n"
     ]
    },
    {
     "data": {
      "application/vnd.jupyter.widget-view+json": {
       "model_id": "f5db28bee07049a48d705a2b7765c7ab",
       "version_major": 2,
       "version_minor": 0
      },
      "text/plain": [
       "  0%|          | 0/1000 [00:00<?, ?it/s]"
      ]
     },
     "metadata": {},
     "output_type": "display_data"
    },
    {
     "data": {
      "application/vnd.jupyter.widget-view+json": {
       "model_id": "6d937fd42780458eb3c3ec69df7187ee",
       "version_major": 2,
       "version_minor": 0
      },
      "text/plain": [
       "  0%|          | 0/1000 [00:00<?, ?it/s]"
      ]
     },
     "metadata": {},
     "output_type": "display_data"
    },
    {
     "name": "stdout",
     "output_type": "stream",
     "text": [
      "tensor([0, 0])\n",
      "tensor([1, 0])\n",
      "Parameter containing:\n",
      "tensor([[ 3.0836, -2.9806],\n",
      "        [ 4.4168, -3.0735]], requires_grad=True)\n",
      "Parameter containing:\n",
      "tensor([[0.1445, 1.2100],\n",
      "        [1.2131, 0.0109]], requires_grad=True)\n",
      "1.1170843243598938 11\n"
     ]
    },
    {
     "data": {
      "application/vnd.jupyter.widget-view+json": {
       "model_id": "1e4db0afd08845afb20bf0d1d5ff05c2",
       "version_major": 2,
       "version_minor": 0
      },
      "text/plain": [
       "  0%|          | 0/1000 [00:00<?, ?it/s]"
      ]
     },
     "metadata": {},
     "output_type": "display_data"
    },
    {
     "data": {
      "application/vnd.jupyter.widget-view+json": {
       "model_id": "13f4e088e7644d8b9b117e6a776b76a1",
       "version_major": 2,
       "version_minor": 0
      },
      "text/plain": [
       "  0%|          | 0/1000 [00:00<?, ?it/s]"
      ]
     },
     "metadata": {},
     "output_type": "display_data"
    },
    {
     "name": "stdout",
     "output_type": "stream",
     "text": [
      "tensor([0, 0])\n",
      "tensor([1, 1])\n",
      "Parameter containing:\n",
      "tensor([[ 3.5174, -2.8601],\n",
      "        [ 2.3799, -1.9205]], requires_grad=True)\n",
      "Parameter containing:\n",
      "tensor([[0.5224, 1.0089],\n",
      "        [0.2005, 1.0396]], requires_grad=True)\n",
      "0.7202798128128052 20\n"
     ]
    },
    {
     "data": {
      "application/vnd.jupyter.widget-view+json": {
       "model_id": "44c3f232b23c47f3b1883d59fcc57aeb",
       "version_major": 2,
       "version_minor": 0
      },
      "text/plain": [
       "  0%|          | 0/1000 [00:00<?, ?it/s]"
      ]
     },
     "metadata": {},
     "output_type": "display_data"
    },
    {
     "data": {
      "application/vnd.jupyter.widget-view+json": {
       "model_id": "8d7022a5acd249d096f4ffd50bda3b7b",
       "version_major": 2,
       "version_minor": 0
      },
      "text/plain": [
       "  0%|          | 0/1000 [00:00<?, ?it/s]"
      ]
     },
     "metadata": {},
     "output_type": "display_data"
    },
    {
     "name": "stdout",
     "output_type": "stream",
     "text": [
      "tensor([0, 0])\n",
      "tensor([1, 1])\n",
      "Parameter containing:\n",
      "tensor([[0.2468, 0.0768],\n",
      "        [0.6305, 0.5440]], requires_grad=True)\n",
      "Parameter containing:\n",
      "tensor([[-2.0885,  2.9495],\n",
      "        [ 0.0977,  0.3860]], requires_grad=True)\n",
      "0.5993018597364426 20\n"
     ]
    },
    {
     "data": {
      "application/vnd.jupyter.widget-view+json": {
       "model_id": "2e2e076296bf4cf2bcd41c5f89d7a3cc",
       "version_major": 2,
       "version_minor": 0
      },
      "text/plain": [
       "  0%|          | 0/1000 [00:00<?, ?it/s]"
      ]
     },
     "metadata": {},
     "output_type": "display_data"
    },
    {
     "data": {
      "application/vnd.jupyter.widget-view+json": {
       "model_id": "a32e794aebe04d7caef9454e5759c363",
       "version_major": 2,
       "version_minor": 0
      },
      "text/plain": [
       "  0%|          | 0/1000 [00:00<?, ?it/s]"
      ]
     },
     "metadata": {},
     "output_type": "display_data"
    },
    {
     "name": "stdout",
     "output_type": "stream",
     "text": [
      "tensor([1, 1])\n",
      "tensor([0, 1])\n",
      "Parameter containing:\n",
      "tensor([[-0.1162,  0.8030],\n",
      "        [ 0.1511,  0.2786]], requires_grad=True)\n",
      "Parameter containing:\n",
      "tensor([[ 2.0536, -1.5081],\n",
      "        [-0.9280,  1.8762]], requires_grad=True)\n",
      "0.5912598073482513 11\n"
     ]
    },
    {
     "data": {
      "application/vnd.jupyter.widget-view+json": {
       "model_id": "efc20f8acdd34566bcc7948c0e626ede",
       "version_major": 2,
       "version_minor": 0
      },
      "text/plain": [
       "  0%|          | 0/1000 [00:00<?, ?it/s]"
      ]
     },
     "metadata": {},
     "output_type": "display_data"
    },
    {
     "data": {
      "application/vnd.jupyter.widget-view+json": {
       "model_id": "890ec8aef5e249ee9ab79727c5db54ed",
       "version_major": 2,
       "version_minor": 0
      },
      "text/plain": [
       "  0%|          | 0/1000 [00:00<?, ?it/s]"
      ]
     },
     "metadata": {},
     "output_type": "display_data"
    },
    {
     "name": "stdout",
     "output_type": "stream",
     "text": [
      "tensor([0, 0])\n",
      "tensor([1, 0])\n",
      "Parameter containing:\n",
      "tensor([[ 1.3694,  0.3582],\n",
      "        [ 2.3718, -1.5699]], requires_grad=True)\n",
      "Parameter containing:\n",
      "tensor([[0.5768, 0.6459],\n",
      "        [0.7195, 0.3817]], requires_grad=True)\n",
      "1.338460624217987 11\n"
     ]
    },
    {
     "data": {
      "application/vnd.jupyter.widget-view+json": {
       "model_id": "3db1523fcec54ea482eece4d76f1cd8e",
       "version_major": 2,
       "version_minor": 0
      },
      "text/plain": [
       "  0%|          | 0/1000 [00:00<?, ?it/s]"
      ]
     },
     "metadata": {},
     "output_type": "display_data"
    },
    {
     "data": {
      "application/vnd.jupyter.widget-view+json": {
       "model_id": "c9e1fe3bfb3245c695935b1877172eee",
       "version_major": 2,
       "version_minor": 0
      },
      "text/plain": [
       "  0%|          | 0/1000 [00:00<?, ?it/s]"
      ]
     },
     "metadata": {},
     "output_type": "display_data"
    },
    {
     "name": "stdout",
     "output_type": "stream",
     "text": [
      "tensor([1, 0])\n",
      "tensor([0, 1])\n",
      "Parameter containing:\n",
      "tensor([[0.5734, 0.9266],\n",
      "        [0.5997, 0.5274]], requires_grad=True)\n",
      "Parameter containing:\n",
      "tensor([[ 1.4065,  0.2460],\n",
      "        [-0.1448,  1.3891]], requires_grad=True)\n",
      "0.4611408859491348 20\n"
     ]
    },
    {
     "data": {
      "application/vnd.jupyter.widget-view+json": {
       "model_id": "8d39f8fdc92d4badbbcedc4f8232ffbe",
       "version_major": 2,
       "version_minor": 0
      },
      "text/plain": [
       "  0%|          | 0/1000 [00:00<?, ?it/s]"
      ]
     },
     "metadata": {},
     "output_type": "display_data"
    },
    {
     "data": {
      "application/vnd.jupyter.widget-view+json": {
       "model_id": "e62538615c6e4cc3b830f3a37dcabf1a",
       "version_major": 2,
       "version_minor": 0
      },
      "text/plain": [
       "  0%|          | 0/1000 [00:00<?, ?it/s]"
      ]
     },
     "metadata": {},
     "output_type": "display_data"
    },
    {
     "name": "stdout",
     "output_type": "stream",
     "text": [
      "tensor([1, 0])\n",
      "tensor([1, 1])\n",
      "Parameter containing:\n",
      "tensor([[0.5233, 0.9836],\n",
      "        [0.7517, 0.5506]], requires_grad=True)\n",
      "Parameter containing:\n",
      "tensor([[-0.0138,  1.1622],\n",
      "        [-0.2322,  0.6178]], requires_grad=True)\n",
      "0.7332600951194763 19\n"
     ]
    },
    {
     "data": {
      "application/vnd.jupyter.widget-view+json": {
       "model_id": "58c612cc09ed4674a9f31eb11741b786",
       "version_major": 2,
       "version_minor": 0
      },
      "text/plain": [
       "  0%|          | 0/1000 [00:00<?, ?it/s]"
      ]
     },
     "metadata": {},
     "output_type": "display_data"
    },
    {
     "data": {
      "application/vnd.jupyter.widget-view+json": {
       "model_id": "f84ae165a166460aaabc9730b06fc4c5",
       "version_major": 2,
       "version_minor": 0
      },
      "text/plain": [
       "  0%|          | 0/1000 [00:00<?, ?it/s]"
      ]
     },
     "metadata": {},
     "output_type": "display_data"
    },
    {
     "name": "stdout",
     "output_type": "stream",
     "text": [
      "tensor([1, 0])\n",
      "tensor([1, 0])\n",
      "Parameter containing:\n",
      "tensor([[0.4811, 0.7327],\n",
      "        [1.0558, 0.5778]], requires_grad=True)\n",
      "Parameter containing:\n",
      "tensor([[0.3566, 0.7978],\n",
      "        [0.7246, 0.4435]], requires_grad=True)\n",
      "1.5007022023200989 10\n"
     ]
    },
    {
     "data": {
      "application/vnd.jupyter.widget-view+json": {
       "model_id": "37afb16c8ee04c27a2c990aef3e37052",
       "version_major": 2,
       "version_minor": 0
      },
      "text/plain": [
       "  0%|          | 0/1000 [00:00<?, ?it/s]"
      ]
     },
     "metadata": {},
     "output_type": "display_data"
    },
    {
     "data": {
      "application/vnd.jupyter.widget-view+json": {
       "model_id": "65626d5eda614112a5eac331bedfd0c0",
       "version_major": 2,
       "version_minor": 0
      },
      "text/plain": [
       "  0%|          | 0/1000 [00:00<?, ?it/s]"
      ]
     },
     "metadata": {},
     "output_type": "display_data"
    },
    {
     "name": "stdout",
     "output_type": "stream",
     "text": [
      "tensor([1, 1])\n",
      "tensor([1, 0])\n",
      "Parameter containing:\n",
      "tensor([[-0.1267,  1.9002],\n",
      "        [-0.6546,  1.9660]], requires_grad=True)\n",
      "Parameter containing:\n",
      "tensor([[0.2436, 1.1011],\n",
      "        [0.7029, 0.1570]], requires_grad=True)\n",
      "0.8329067230224609 19\n"
     ]
    },
    {
     "data": {
      "application/vnd.jupyter.widget-view+json": {
       "model_id": "baf4caaf7f504864bc58eba45ac76ee9",
       "version_major": 2,
       "version_minor": 0
      },
      "text/plain": [
       "  0%|          | 0/1000 [00:00<?, ?it/s]"
      ]
     },
     "metadata": {},
     "output_type": "display_data"
    },
    {
     "data": {
      "application/vnd.jupyter.widget-view+json": {
       "model_id": "99bf856da41741a6afdfb47118b8d1b6",
       "version_major": 2,
       "version_minor": 0
      },
      "text/plain": [
       "  0%|          | 0/1000 [00:00<?, ?it/s]"
      ]
     },
     "metadata": {},
     "output_type": "display_data"
    },
    {
     "name": "stdout",
     "output_type": "stream",
     "text": [
      "tensor([1, 1])\n",
      "tensor([1, 0])\n",
      "Parameter containing:\n",
      "tensor([[0.7238, 0.7900],\n",
      "        [0.2151, 1.0839]], requires_grad=True)\n",
      "Parameter containing:\n",
      "tensor([[0.2781, 0.9177],\n",
      "        [0.3783, 0.3711]], requires_grad=True)\n",
      "0.8191429376602173 19\n"
     ]
    },
    {
     "data": {
      "application/vnd.jupyter.widget-view+json": {
       "model_id": "018461fe166c40aa83103ff13da7862c",
       "version_major": 2,
       "version_minor": 0
      },
      "text/plain": [
       "  0%|          | 0/1000 [00:00<?, ?it/s]"
      ]
     },
     "metadata": {},
     "output_type": "display_data"
    },
    {
     "data": {
      "application/vnd.jupyter.widget-view+json": {
       "model_id": "c6f7456649e240aab22c3383ac65cd36",
       "version_major": 2,
       "version_minor": 0
      },
      "text/plain": [
       "  0%|          | 0/1000 [00:00<?, ?it/s]"
      ]
     },
     "metadata": {},
     "output_type": "display_data"
    },
    {
     "name": "stdout",
     "output_type": "stream",
     "text": [
      "tensor([1, 1])\n",
      "tensor([1, 1])\n",
      "Parameter containing:\n",
      "tensor([[-3.4501,  4.4686],\n",
      "        [-3.6795,  4.0945]], requires_grad=True)\n",
      "Parameter containing:\n",
      "tensor([[-0.0615,  0.7162],\n",
      "        [-0.0704,  1.4564]], requires_grad=True)\n",
      "1.005465567111969 10\n"
     ]
    },
    {
     "data": {
      "application/vnd.jupyter.widget-view+json": {
       "model_id": "fc6d2f49b91d4f98b0e94547b31bb2f5",
       "version_major": 2,
       "version_minor": 0
      },
      "text/plain": [
       "  0%|          | 0/1000 [00:00<?, ?it/s]"
      ]
     },
     "metadata": {},
     "output_type": "display_data"
    },
    {
     "data": {
      "application/vnd.jupyter.widget-view+json": {
       "model_id": "df749e584f314a8fb9251058d630e3bf",
       "version_major": 2,
       "version_minor": 0
      },
      "text/plain": [
       "  0%|          | 0/1000 [00:00<?, ?it/s]"
      ]
     },
     "metadata": {},
     "output_type": "display_data"
    },
    {
     "name": "stdout",
     "output_type": "stream",
     "text": [
      "tensor([0, 0])\n",
      "tensor([0, 1])\n",
      "Parameter containing:\n",
      "tensor([[0.4223, 0.4005],\n",
      "        [0.4655, 0.2321]], requires_grad=True)\n",
      "Parameter containing:\n",
      "tensor([[1.0867, 0.3049],\n",
      "        [0.0946, 0.3210]], requires_grad=True)\n",
      "0.9471522569656372 19\n"
     ]
    },
    {
     "data": {
      "application/vnd.jupyter.widget-view+json": {
       "model_id": "cb71fd473bc641dab7309c8c5cfb2c64",
       "version_major": 2,
       "version_minor": 0
      },
      "text/plain": [
       "  0%|          | 0/1000 [00:00<?, ?it/s]"
      ]
     },
     "metadata": {},
     "output_type": "display_data"
    },
    {
     "data": {
      "application/vnd.jupyter.widget-view+json": {
       "model_id": "61e49a40439946bbaa2b95c4b56a1c6a",
       "version_major": 2,
       "version_minor": 0
      },
      "text/plain": [
       "  0%|          | 0/1000 [00:00<?, ?it/s]"
      ]
     },
     "metadata": {},
     "output_type": "display_data"
    },
    {
     "name": "stdout",
     "output_type": "stream",
     "text": [
      "tensor([1, 1])\n",
      "tensor([0, 1])\n",
      "Parameter containing:\n",
      "tensor([[0.4198, 1.1151],\n",
      "        [0.2770, 0.3176]], requires_grad=True)\n",
      "Parameter containing:\n",
      "tensor([[1.3545, 0.2411],\n",
      "        [0.6857, 0.7094]], requires_grad=True)\n",
      "1.2822698950767517 11\n"
     ]
    },
    {
     "data": {
      "application/vnd.jupyter.widget-view+json": {
       "model_id": "bb4b8f849f4c43c0850d1ec1f8753564",
       "version_major": 2,
       "version_minor": 0
      },
      "text/plain": [
       "  0%|          | 0/1000 [00:00<?, ?it/s]"
      ]
     },
     "metadata": {},
     "output_type": "display_data"
    },
    {
     "data": {
      "application/vnd.jupyter.widget-view+json": {
       "model_id": "4e931d2bbf3b42dc863d0367423c1e86",
       "version_major": 2,
       "version_minor": 0
      },
      "text/plain": [
       "  0%|          | 0/1000 [00:00<?, ?it/s]"
      ]
     },
     "metadata": {},
     "output_type": "display_data"
    },
    {
     "name": "stdout",
     "output_type": "stream",
     "text": [
      "tensor([0, 1])\n",
      "tensor([0, 1])\n",
      "Parameter containing:\n",
      "tensor([[ 0.8512, -0.5168],\n",
      "        [ 0.3904,  0.9668]], requires_grad=True)\n",
      "Parameter containing:\n",
      "tensor([[ 0.9652,  0.4674],\n",
      "        [-0.2460,  1.3926]], requires_grad=True)\n",
      "0.8888999223709106 10\n"
     ]
    },
    {
     "data": {
      "application/vnd.jupyter.widget-view+json": {
       "model_id": "d2bddcc239c64a88a0dd872db0a799a7",
       "version_major": 2,
       "version_minor": 0
      },
      "text/plain": [
       "  0%|          | 0/1000 [00:00<?, ?it/s]"
      ]
     },
     "metadata": {},
     "output_type": "display_data"
    },
    {
     "data": {
      "application/vnd.jupyter.widget-view+json": {
       "model_id": "15ddf36ef0e44bb187e7fdb3105c7393",
       "version_major": 2,
       "version_minor": 0
      },
      "text/plain": [
       "  0%|          | 0/1000 [00:00<?, ?it/s]"
      ]
     },
     "metadata": {},
     "output_type": "display_data"
    },
    {
     "name": "stdout",
     "output_type": "stream",
     "text": [
      "tensor([1, 1])\n",
      "tensor([1, 0])\n",
      "Parameter containing:\n",
      "tensor([[0.0709, 0.7757],\n",
      "        [0.2753, 0.8608]], requires_grad=True)\n",
      "Parameter containing:\n",
      "tensor([[0.5369, 0.8961],\n",
      "        [1.1684, 0.5396]], requires_grad=True)\n",
      "1.404140830039978 19\n",
      "[Parameter containing:\n",
      "tensor([[0.0709, 0.7757],\n",
      "        [0.2753, 0.8608]], requires_grad=True), Parameter containing:\n",
      "tensor([[0.5369, 0.8961],\n",
      "        [1.1684, 0.5396]], requires_grad=True)]\n",
      "Parameter containing:\n",
      "tensor([34.0012], requires_grad=True)\n",
      "Parameter containing:\n",
      "tensor([61.0099], requires_grad=True)\n"
     ]
    },
    {
     "data": {
      "application/vnd.jupyter.widget-view+json": {
       "model_id": "a7733cc3a87e488087e0d7cd0f2b63aa",
       "version_major": 2,
       "version_minor": 0
      },
      "text/plain": [
       "  0%|          | 0/1000 [00:00<?, ?it/s]"
      ]
     },
     "metadata": {},
     "output_type": "display_data"
    },
    {
     "data": {
      "application/vnd.jupyter.widget-view+json": {
       "model_id": "52f26e5668b846348b728ebfb9476d83",
       "version_major": 2,
       "version_minor": 0
      },
      "text/plain": [
       "  0%|          | 0/1000 [00:00<?, ?it/s]"
      ]
     },
     "metadata": {},
     "output_type": "display_data"
    },
    {
     "name": "stdout",
     "output_type": "stream",
     "text": [
      "tensor([1, 0])\n",
      "tensor([7, 2])\n",
      "Parameter containing:\n",
      "tensor([[0.6367, 1.2203, 0.3916, 0.5671, 0.3591, 0.7745, 0.3043, 0.9274],\n",
      "        [1.3569, 0.1402, 0.8245, 0.4976, 0.6791, 0.6207, 0.7826, 0.3081]],\n",
      "       requires_grad=True)\n",
      "Parameter containing:\n",
      "tensor([[ 0.6264,  0.6552,  0.4692,  0.5364, -0.0694,  0.8497,  0.2615,  0.8640],\n",
      "        [ 0.8414,  0.7306,  1.0623, -0.7283, -0.1178, -0.1557,  0.9252, -0.0446]],\n",
      "       requires_grad=True)\n",
      "1.8551229238510132 20\n"
     ]
    },
    {
     "data": {
      "application/vnd.jupyter.widget-view+json": {
       "model_id": "68e33779c442479a95c0fe61e5516f19",
       "version_major": 2,
       "version_minor": 0
      },
      "text/plain": [
       "  0%|          | 0/1000 [00:00<?, ?it/s]"
      ]
     },
     "metadata": {},
     "output_type": "display_data"
    },
    {
     "data": {
      "application/vnd.jupyter.widget-view+json": {
       "model_id": "3bc6726981cb45478e1148a5dd2f5ce6",
       "version_major": 2,
       "version_minor": 0
      },
      "text/plain": [
       "  0%|          | 0/1000 [00:00<?, ?it/s]"
      ]
     },
     "metadata": {},
     "output_type": "display_data"
    },
    {
     "name": "stdout",
     "output_type": "stream",
     "text": [
      "tensor([2, 2])\n",
      "tensor([5, 6])\n",
      "Parameter containing:\n",
      "tensor([[0.3549, 0.2759, 0.9013, 0.4210, 0.0391, 0.1246, 0.6450, 0.0467],\n",
      "        [0.6288, 0.5544, 0.9097, 0.1287, 0.6896, 0.5867, 0.5100, 0.7341]],\n",
      "       requires_grad=True)\n",
      "Parameter containing:\n",
      "tensor([[0.4852, 0.2983, 0.6146, 0.2293, 0.2331, 0.8041, 0.3078, 0.7739],\n",
      "        [0.0136, 0.6246, 0.5479, 0.2226, 0.7865, 0.5419, 0.9068, 0.3553]],\n",
      "       requires_grad=True)\n",
      "1.401248723268509 20\n"
     ]
    },
    {
     "data": {
      "application/vnd.jupyter.widget-view+json": {
       "model_id": "0c0150591e43492b8ef38e7b84fe5efd",
       "version_major": 2,
       "version_minor": 0
      },
      "text/plain": [
       "  0%|          | 0/1000 [00:00<?, ?it/s]"
      ]
     },
     "metadata": {},
     "output_type": "display_data"
    },
    {
     "data": {
      "application/vnd.jupyter.widget-view+json": {
       "model_id": "3145cce1bfdf4ff08295625b2fd2cf42",
       "version_major": 2,
       "version_minor": 0
      },
      "text/plain": [
       "  0%|          | 0/1000 [00:00<?, ?it/s]"
      ]
     },
     "metadata": {},
     "output_type": "display_data"
    },
    {
     "name": "stdout",
     "output_type": "stream",
     "text": [
      "tensor([0, 2])\n",
      "tensor([6, 7])\n",
      "Parameter containing:\n",
      "tensor([[ 1.3190,  0.7653,  0.0778,  0.1456,  0.1413,  1.0238,  0.3042,  0.4925],\n",
      "        [ 0.9527,  0.9574,  1.3623,  0.7753,  0.6325, -0.1828,  0.6073,  0.4263]],\n",
      "       requires_grad=True)\n",
      "Parameter containing:\n",
      "tensor([[0.4231, 0.4242, 0.9246, 0.4530, 1.0659, 0.6583, 1.1401, 0.1410],\n",
      "        [0.3814, 0.4531, 0.0435, 0.7119, 0.4977, 0.3931, 0.1092, 1.2028]],\n",
      "       requires_grad=True)\n",
      "0.7201334834098816 20\n"
     ]
    },
    {
     "data": {
      "application/vnd.jupyter.widget-view+json": {
       "model_id": "3b11e78f2bd942f9a19dd8a3c3bca5c2",
       "version_major": 2,
       "version_minor": 0
      },
      "text/plain": [
       "  0%|          | 0/1000 [00:00<?, ?it/s]"
      ]
     },
     "metadata": {},
     "output_type": "display_data"
    },
    {
     "data": {
      "application/vnd.jupyter.widget-view+json": {
       "model_id": "15736bdcb24c41838dc97a6fe2486a76",
       "version_major": 2,
       "version_minor": 0
      },
      "text/plain": [
       "  0%|          | 0/1000 [00:00<?, ?it/s]"
      ]
     },
     "metadata": {},
     "output_type": "display_data"
    },
    {
     "name": "stdout",
     "output_type": "stream",
     "text": [
      "tensor([3, 6])\n",
      "tensor([3, 7])\n",
      "Parameter containing:\n",
      "tensor([[0.1761, 0.8130, 0.8601, 0.9404, 0.0978, 0.5588, 0.6678, 0.0651],\n",
      "        [0.4849, 0.1823, 0.1653, 0.1606, 0.4170, 0.3199, 0.9970, 0.3519]],\n",
      "       requires_grad=True)\n",
      "Parameter containing:\n",
      "tensor([[ 0.5867,  0.8885,  0.7480,  2.0405,  0.0481, -0.1657, -0.0429,  0.5330],\n",
      "        [ 0.3528,  1.0487,  0.2912,  0.3256,  0.2804,  0.6450,  0.1300,  1.1127]],\n",
      "       requires_grad=True)\n",
      "0.9628806412220001 19\n"
     ]
    },
    {
     "data": {
      "application/vnd.jupyter.widget-view+json": {
       "model_id": "2174ddeeb9be4e45a74f0f60503bfc94",
       "version_major": 2,
       "version_minor": 0
      },
      "text/plain": [
       "  0%|          | 0/1000 [00:00<?, ?it/s]"
      ]
     },
     "metadata": {},
     "output_type": "display_data"
    },
    {
     "data": {
      "application/vnd.jupyter.widget-view+json": {
       "model_id": "bc5d41fe245a4becb105527f151fb380",
       "version_major": 2,
       "version_minor": 0
      },
      "text/plain": [
       "  0%|          | 0/1000 [00:00<?, ?it/s]"
      ]
     },
     "metadata": {},
     "output_type": "display_data"
    },
    {
     "name": "stdout",
     "output_type": "stream",
     "text": [
      "tensor([5, 4])\n",
      "tensor([6, 4])\n",
      "Parameter containing:\n",
      "tensor([[0.6648, 0.0351, 0.5207, 0.1261, 0.7798, 0.8657, 0.1169, 0.4136],\n",
      "        [0.1729, 0.2935, 0.9030, 0.0680, 1.0077, 0.4482, 0.8602, 0.8300]],\n",
      "       requires_grad=True)\n",
      "Parameter containing:\n",
      "tensor([[ 0.7350,  1.5536,  0.5035, -0.1254,  0.0069, -0.2892,  2.4281, -0.5403],\n",
      "        [-0.6901,  0.5481, -0.0459,  0.0098,  4.4134,  0.3784, -0.1085,  1.2169]],\n",
      "       requires_grad=True)\n",
      "1.1898483633995056 11\n"
     ]
    },
    {
     "data": {
      "application/vnd.jupyter.widget-view+json": {
       "model_id": "ee69bbcb2062411fbe728552eaa072a2",
       "version_major": 2,
       "version_minor": 0
      },
      "text/plain": [
       "  0%|          | 0/1000 [00:00<?, ?it/s]"
      ]
     },
     "metadata": {},
     "output_type": "display_data"
    },
    {
     "data": {
      "application/vnd.jupyter.widget-view+json": {
       "model_id": "b062a7cbd8694cbfa5b6c55174976f30",
       "version_major": 2,
       "version_minor": 0
      },
      "text/plain": [
       "  0%|          | 0/1000 [00:00<?, ?it/s]"
      ]
     },
     "metadata": {},
     "output_type": "display_data"
    },
    {
     "name": "stdout",
     "output_type": "stream",
     "text": [
      "tensor([4, 7])\n",
      "tensor([0, 7])\n",
      "Parameter containing:\n",
      "tensor([[-2.4461, -0.4147,  0.6283,  2.1554,  8.6273, -4.1542,  2.5282, -2.8994],\n",
      "        [-2.0229, -1.7344, -2.1338,  0.6412,  1.9666, -1.3203,  0.8093,  7.0909]],\n",
      "       requires_grad=True)\n",
      "Parameter containing:\n",
      "tensor([[ 0.8545,  0.0206,  0.2032,  0.4474,  0.6760,  0.4025, -0.0059,  0.2917],\n",
      "        [ 0.2959,  0.6417,  0.6942,  0.0326,  0.0911,  0.3259,  0.5026,  1.0813]],\n",
      "       requires_grad=True)\n",
      "0.7696866989135742 11\n"
     ]
    },
    {
     "data": {
      "application/vnd.jupyter.widget-view+json": {
       "model_id": "707f5ba4d3cd4895851c01c6468ae2ba",
       "version_major": 2,
       "version_minor": 0
      },
      "text/plain": [
       "  0%|          | 0/1000 [00:00<?, ?it/s]"
      ]
     },
     "metadata": {},
     "output_type": "display_data"
    },
    {
     "data": {
      "application/vnd.jupyter.widget-view+json": {
       "model_id": "54a0f1156e2649a3bfed0efaad1999e3",
       "version_major": 2,
       "version_minor": 0
      },
      "text/plain": [
       "  0%|          | 0/1000 [00:00<?, ?it/s]"
      ]
     },
     "metadata": {},
     "output_type": "display_data"
    },
    {
     "name": "stdout",
     "output_type": "stream",
     "text": [
      "tensor([4, 1])\n",
      "tensor([7, 3])\n",
      "Parameter containing:\n",
      "tensor([[ 0.0645, -2.1680, -1.0176,  0.6047,  5.6034,  0.6173, -0.2325,  0.4164],\n",
      "        [ 1.1758,  2.4108,  0.0223,  0.6466, -0.2780, -0.5075,  1.7163, -1.3454]],\n",
      "       requires_grad=True)\n",
      "Parameter containing:\n",
      "tensor([[0.4390, 0.4809, 0.5669, 0.8615, 0.2604, 0.0585, 0.4372, 1.0183],\n",
      "        [0.8345, 0.3962, 0.5193, 1.0395, 0.5854, 0.3887, 0.8926, 0.5463]],\n",
      "       requires_grad=True)\n",
      "0.8885329365730286 20\n"
     ]
    },
    {
     "data": {
      "application/vnd.jupyter.widget-view+json": {
       "model_id": "140aa5921ae14934a3eedc1f243d1e40",
       "version_major": 2,
       "version_minor": 0
      },
      "text/plain": [
       "  0%|          | 0/1000 [00:00<?, ?it/s]"
      ]
     },
     "metadata": {},
     "output_type": "display_data"
    },
    {
     "data": {
      "application/vnd.jupyter.widget-view+json": {
       "model_id": "0f790ee85d7347e7ba65f3be00119262",
       "version_major": 2,
       "version_minor": 0
      },
      "text/plain": [
       "  0%|          | 0/1000 [00:00<?, ?it/s]"
      ]
     },
     "metadata": {},
     "output_type": "display_data"
    },
    {
     "name": "stdout",
     "output_type": "stream",
     "text": [
      "tensor([3, 0])\n",
      "tensor([7, 3])\n",
      "Parameter containing:\n",
      "tensor([[0.0332, 0.3155, 0.2427, 0.9018, 0.1340, 0.6894, 0.2920, 0.2342],\n",
      "        [0.8874, 0.6735, 0.1666, 0.2202, 0.0643, 0.4053, 0.8283, 0.8739]],\n",
      "       requires_grad=True)\n",
      "Parameter containing:\n",
      "tensor([[-0.0473,  1.1912, -1.6606, -0.8397,  0.8942, -0.8310,  1.5519,  4.2241],\n",
      "        [ 0.9633, -1.9880,  0.9933,  3.8401,  0.0645, -1.1188,  0.3219,  0.6285]],\n",
      "       requires_grad=True)\n",
      "0.6589390337467194 20\n"
     ]
    },
    {
     "data": {
      "application/vnd.jupyter.widget-view+json": {
       "model_id": "c94748d2354a4b2995e72c623452304c",
       "version_major": 2,
       "version_minor": 0
      },
      "text/plain": [
       "  0%|          | 0/1000 [00:00<?, ?it/s]"
      ]
     },
     "metadata": {},
     "output_type": "display_data"
    },
    {
     "data": {
      "application/vnd.jupyter.widget-view+json": {
       "model_id": "2cf20a850e27429f9b28688a5599d0c0",
       "version_major": 2,
       "version_minor": 0
      },
      "text/plain": [
       "  0%|          | 0/1000 [00:00<?, ?it/s]"
      ]
     },
     "metadata": {},
     "output_type": "display_data"
    },
    {
     "name": "stdout",
     "output_type": "stream",
     "text": [
      "tensor([6, 1])\n",
      "tensor([3, 7])\n",
      "Parameter containing:\n",
      "tensor([[ 0.4552,  0.2762,  0.4357,  0.0513,  0.3794,  0.1846,  0.5471,  0.2806],\n",
      "        [ 0.7089,  1.1150, -0.0427,  0.4645,  0.5812,  0.8189,  0.6025,  0.4605]],\n",
      "       requires_grad=True)\n",
      "Parameter containing:\n",
      "tensor([[ 2.9750e-03, -9.0995e-02, -1.4791e+00,  3.0753e+00,  1.0791e+00,\n",
      "          1.0400e+00, -3.1600e-01, -1.7466e-02],\n",
      "        [ 2.5606e-01, -1.1460e+00, -1.3262e+00,  7.4393e-01,  9.2513e-01,\n",
      "          6.4647e-02,  3.1383e-01,  3.0612e+00]], requires_grad=True)\n",
      "1.106770247220993 20\n"
     ]
    },
    {
     "data": {
      "application/vnd.jupyter.widget-view+json": {
       "model_id": "5136765209dc4394a980524aa9eb9e86",
       "version_major": 2,
       "version_minor": 0
      },
      "text/plain": [
       "  0%|          | 0/1000 [00:00<?, ?it/s]"
      ]
     },
     "metadata": {},
     "output_type": "display_data"
    },
    {
     "data": {
      "application/vnd.jupyter.widget-view+json": {
       "model_id": "e616d2de685c4225826dea066ec151ab",
       "version_major": 2,
       "version_minor": 0
      },
      "text/plain": [
       "  0%|          | 0/1000 [00:00<?, ?it/s]"
      ]
     },
     "metadata": {},
     "output_type": "display_data"
    },
    {
     "name": "stdout",
     "output_type": "stream",
     "text": [
      "tensor([0, 7])\n",
      "tensor([2, 2])\n",
      "Parameter containing:\n",
      "tensor([[ 1.2272,  1.1114,  0.5019,  0.1114,  0.6522,  0.1347,  0.7568,  0.3579],\n",
      "        [ 0.4676,  0.1589, -0.2095,  0.3195,  0.4523,  0.8523,  0.4052,  1.0825]],\n",
      "       requires_grad=True)\n",
      "Parameter containing:\n",
      "tensor([[ 0.0660,  0.3988,  1.0953,  0.2348,  0.6562,  1.0553,  1.0015,  0.4720],\n",
      "        [ 0.3213,  0.5626,  1.0419,  0.3837, -0.0898,  0.6270,  0.2117,  0.1169]],\n",
      "       requires_grad=True)\n",
      "0.768829345703125 20\n"
     ]
    },
    {
     "data": {
      "application/vnd.jupyter.widget-view+json": {
       "model_id": "e6934bc2c5684d91a6298c8d5bc50fdd",
       "version_major": 2,
       "version_minor": 0
      },
      "text/plain": [
       "  0%|          | 0/1000 [00:00<?, ?it/s]"
      ]
     },
     "metadata": {},
     "output_type": "display_data"
    },
    {
     "data": {
      "application/vnd.jupyter.widget-view+json": {
       "model_id": "925e85e00996487ab54ffb750fdff5f3",
       "version_major": 2,
       "version_minor": 0
      },
      "text/plain": [
       "  0%|          | 0/1000 [00:00<?, ?it/s]"
      ]
     },
     "metadata": {},
     "output_type": "display_data"
    },
    {
     "name": "stdout",
     "output_type": "stream",
     "text": [
      "tensor([0, 2])\n",
      "tensor([5, 2])\n",
      "Parameter containing:\n",
      "tensor([[1.2022, 0.9110, 0.4463, 0.5028, 0.8785, 0.2341, 0.5833, 0.7656],\n",
      "        [0.3087, 0.5656, 1.0031, 0.2764, 0.7812, 0.9010, 0.7683, 0.1299]],\n",
      "       requires_grad=True)\n",
      "Parameter containing:\n",
      "tensor([[ 0.9683,  0.3023,  0.5912,  0.4603,  0.8470,  1.3756,  0.6997,  0.3377],\n",
      "        [ 0.7807,  0.0400,  1.2736,  1.0803,  0.8309,  0.2547, -0.2382,  0.1476]],\n",
      "       requires_grad=True)\n",
      "0.7419363856315613 11\n"
     ]
    },
    {
     "data": {
      "application/vnd.jupyter.widget-view+json": {
       "model_id": "a3623b23d5ed4f1397b1da058de4735e",
       "version_major": 2,
       "version_minor": 0
      },
      "text/plain": [
       "  0%|          | 0/1000 [00:00<?, ?it/s]"
      ]
     },
     "metadata": {},
     "output_type": "display_data"
    },
    {
     "data": {
      "application/vnd.jupyter.widget-view+json": {
       "model_id": "8b2cd404658a4d368beaaae7fd927175",
       "version_major": 2,
       "version_minor": 0
      },
      "text/plain": [
       "  0%|          | 0/1000 [00:00<?, ?it/s]"
      ]
     },
     "metadata": {},
     "output_type": "display_data"
    },
    {
     "name": "stdout",
     "output_type": "stream",
     "text": [
      "tensor([5, 0])\n",
      "tensor([4, 7])\n",
      "Parameter containing:\n",
      "tensor([[-1.5746, -0.0358,  0.2165,  0.4156, -0.6817,  4.7822,  0.3070,  0.9140],\n",
      "        [ 4.3661, -0.6891,  0.9735,  2.2065, -0.0416, -0.8659, -0.6722, -0.7641]],\n",
      "       requires_grad=True)\n",
      "Parameter containing:\n",
      "tensor([[ 0.0113,  0.1800, -0.3210,  0.8246,  0.9619,  0.7324,  0.1812,  0.6210],\n",
      "        [ 0.2271,  0.1733,  0.6492,  0.7339,  0.5051,  0.6050,  0.6283,  0.8418]],\n",
      "       requires_grad=True)\n",
      "0.8581418991088867 20\n"
     ]
    },
    {
     "data": {
      "application/vnd.jupyter.widget-view+json": {
       "model_id": "37f97e40ec504391bc6ec60cb8684d35",
       "version_major": 2,
       "version_minor": 0
      },
      "text/plain": [
       "  0%|          | 0/1000 [00:00<?, ?it/s]"
      ]
     },
     "metadata": {},
     "output_type": "display_data"
    },
    {
     "data": {
      "application/vnd.jupyter.widget-view+json": {
       "model_id": "2b8bf736beac47119ac676d23b53551f",
       "version_major": 2,
       "version_minor": 0
      },
      "text/plain": [
       "  0%|          | 0/1000 [00:00<?, ?it/s]"
      ]
     },
     "metadata": {},
     "output_type": "display_data"
    },
    {
     "name": "stdout",
     "output_type": "stream",
     "text": [
      "tensor([2, 5])\n",
      "tensor([0, 7])\n",
      "Parameter containing:\n",
      "tensor([[ 0.5474,  0.4785,  1.2351,  0.6580,  0.3059,  0.9562,  0.5060,  0.4827],\n",
      "        [ 0.8249,  0.4975,  0.1208, -0.3168, -0.0251,  1.1001,  0.9403,  0.1461]],\n",
      "       requires_grad=True)\n",
      "Parameter containing:\n",
      "tensor([[ 0.9442,  0.5401,  0.6646, -0.0233,  0.1905,  0.8245,  0.6308,  0.9115],\n",
      "        [ 0.5254,  0.8070,  0.3620, -0.0273,  0.8472,  0.3775,  0.1526,  0.8578]],\n",
      "       requires_grad=True)\n",
      "0.5596269071102142 20\n"
     ]
    },
    {
     "data": {
      "application/vnd.jupyter.widget-view+json": {
       "model_id": "d62ae050f65d42e68718402d2865f57c",
       "version_major": 2,
       "version_minor": 0
      },
      "text/plain": [
       "  0%|          | 0/1000 [00:00<?, ?it/s]"
      ]
     },
     "metadata": {},
     "output_type": "display_data"
    },
    {
     "data": {
      "application/vnd.jupyter.widget-view+json": {
       "model_id": "d73ea617f39845939b33c431f330a9c0",
       "version_major": 2,
       "version_minor": 0
      },
      "text/plain": [
       "  0%|          | 0/1000 [00:00<?, ?it/s]"
      ]
     },
     "metadata": {},
     "output_type": "display_data"
    },
    {
     "name": "stdout",
     "output_type": "stream",
     "text": [
      "tensor([1, 0])\n",
      "tensor([1, 7])\n",
      "Parameter containing:\n",
      "tensor([[0.8097, 1.0148, 0.7244, 0.6245, 0.7910, 0.4477, 0.1099, 0.7673],\n",
      "        [1.0315, 0.2483, 0.0383, 0.0066, 0.8736, 0.7918, 0.4359, 0.8284]],\n",
      "       requires_grad=True)\n",
      "Parameter containing:\n",
      "tensor([[-0.0288,  3.1499, -0.0741, -0.8888,  0.0355, -0.5732,  0.8182,  1.4564],\n",
      "        [ 0.9301, -0.6105, -0.2772, -0.3758, -0.5707, -0.3330,  0.3573,  3.7524]],\n",
      "       requires_grad=True)\n",
      "0.5953093618154526 19\n"
     ]
    },
    {
     "data": {
      "application/vnd.jupyter.widget-view+json": {
       "model_id": "e7d6f772b286419b9483da5c22eda0df",
       "version_major": 2,
       "version_minor": 0
      },
      "text/plain": [
       "  0%|          | 0/1000 [00:00<?, ?it/s]"
      ]
     },
     "metadata": {},
     "output_type": "display_data"
    },
    {
     "data": {
      "application/vnd.jupyter.widget-view+json": {
       "model_id": "f9d72081526c4bc18ca22c625b15a41f",
       "version_major": 2,
       "version_minor": 0
      },
      "text/plain": [
       "  0%|          | 0/1000 [00:00<?, ?it/s]"
      ]
     },
     "metadata": {},
     "output_type": "display_data"
    },
    {
     "name": "stdout",
     "output_type": "stream",
     "text": [
      "tensor([5, 0])\n",
      "tensor([1, 3])\n",
      "Parameter containing:\n",
      "tensor([[0.9452, 0.4135, 0.2159, 0.8585, 0.4693, 1.0025, 0.3677, 0.4852],\n",
      "        [1.0716, 0.2902, 0.2300, 0.8462, 0.3626, 0.0681, 0.3715, 0.7746]],\n",
      "       requires_grad=True)\n",
      "Parameter containing:\n",
      "tensor([[ 0.0976,  0.8193,  0.5962, -0.0588,  0.5235,  0.4805,  0.2005,  0.0993],\n",
      "        [ 0.6635,  0.3537,  0.6242,  1.2462,  0.4388,  0.2658,  0.4669,  0.4957]],\n",
      "       requires_grad=True)\n",
      "0.7458398342132568 20\n"
     ]
    },
    {
     "data": {
      "application/vnd.jupyter.widget-view+json": {
       "model_id": "20a3d6163d754a9ba84030ecef6ba248",
       "version_major": 2,
       "version_minor": 0
      },
      "text/plain": [
       "  0%|          | 0/1000 [00:00<?, ?it/s]"
      ]
     },
     "metadata": {},
     "output_type": "display_data"
    },
    {
     "data": {
      "application/vnd.jupyter.widget-view+json": {
       "model_id": "5accd8d0c18349ce8706183453ac15bd",
       "version_major": 2,
       "version_minor": 0
      },
      "text/plain": [
       "  0%|          | 0/1000 [00:00<?, ?it/s]"
      ]
     },
     "metadata": {},
     "output_type": "display_data"
    },
    {
     "name": "stdout",
     "output_type": "stream",
     "text": [
      "tensor([6, 4])\n",
      "tensor([2, 4])\n",
      "Parameter containing:\n",
      "tensor([[-0.4998, -0.0619,  2.8762, -3.8081, -0.8239,  0.0557,  7.4612, -1.7253],\n",
      "        [ 2.0372, -0.3727,  0.5707, -1.5434,  7.3680,  0.5102, -5.7050,  1.6389]],\n",
      "       requires_grad=True)\n",
      "Parameter containing:\n",
      "tensor([[ 0.5523,  0.1847,  0.8491,  0.4769,  0.4414, -0.0042,  0.0015,  0.2345],\n",
      "        [ 0.5122,  0.5135, -0.0936,  0.2344,  0.9408,  0.3776,  0.6480,  0.6648]],\n",
      "       requires_grad=True)\n",
      "0.7373203635215759 11\n"
     ]
    },
    {
     "data": {
      "application/vnd.jupyter.widget-view+json": {
       "model_id": "332f95d92788414086eb999bb220ab5a",
       "version_major": 2,
       "version_minor": 0
      },
      "text/plain": [
       "  0%|          | 0/1000 [00:00<?, ?it/s]"
      ]
     },
     "metadata": {},
     "output_type": "display_data"
    },
    {
     "data": {
      "application/vnd.jupyter.widget-view+json": {
       "model_id": "ab40b2e777bd43be8fe274e0c928b532",
       "version_major": 2,
       "version_minor": 0
      },
      "text/plain": [
       "  0%|          | 0/1000 [00:00<?, ?it/s]"
      ]
     },
     "metadata": {},
     "output_type": "display_data"
    },
    {
     "name": "stdout",
     "output_type": "stream",
     "text": [
      "tensor([4, 6])\n",
      "tensor([6, 6])\n",
      "Parameter containing:\n",
      "tensor([[ 0.1573,  0.5859,  0.3297,  0.2230,  0.6191,  0.4508,  0.6027,  0.3591],\n",
      "        [ 0.4830,  0.7652,  0.0126,  0.7975, -0.0129,  0.6046,  1.2605,  0.5127]],\n",
      "       requires_grad=True)\n",
      "Parameter containing:\n",
      "tensor([[ 0.5935,  0.2930, -0.0344,  0.1544,  0.8301,  1.2160,  1.2238,  0.2289],\n",
      "        [ 0.3485,  0.2994,  0.0180,  0.4771,  0.8773,  0.3858,  1.2622,  0.2989]],\n",
      "       requires_grad=True)\n",
      "1.3891696333885193 11\n"
     ]
    },
    {
     "data": {
      "application/vnd.jupyter.widget-view+json": {
       "model_id": "a5ecbfaf1dab49a09141e35402bcf13b",
       "version_major": 2,
       "version_minor": 0
      },
      "text/plain": [
       "  0%|          | 0/1000 [00:00<?, ?it/s]"
      ]
     },
     "metadata": {},
     "output_type": "display_data"
    },
    {
     "data": {
      "application/vnd.jupyter.widget-view+json": {
       "model_id": "645b14db60bb4b6bb55f6d97d7d848b4",
       "version_major": 2,
       "version_minor": 0
      },
      "text/plain": [
       "  0%|          | 0/1000 [00:00<?, ?it/s]"
      ]
     },
     "metadata": {},
     "output_type": "display_data"
    },
    {
     "name": "stdout",
     "output_type": "stream",
     "text": [
      "tensor([1, 3])\n",
      "tensor([1, 4])\n",
      "Parameter containing:\n",
      "tensor([[0.4815, 1.0550, 0.4460, 0.1004, 0.9761, 0.5569, 0.5176, 0.9869],\n",
      "        [0.7289, 0.9110, 0.1249, 0.9173, 0.5844, 0.1613, 0.5668, 0.5365]],\n",
      "       requires_grad=True)\n",
      "Parameter containing:\n",
      "tensor([[ 0.9524,  1.2928,  0.2392,  0.0442,  0.4881, -0.1281,  0.0958,  0.6983],\n",
      "        [-0.3323,  0.5943,  0.1019, -0.1057,  1.9129,  0.2289,  0.6121, -0.1594]],\n",
      "       requires_grad=True)\n",
      "1.0205858647823334 19\n"
     ]
    },
    {
     "data": {
      "application/vnd.jupyter.widget-view+json": {
       "model_id": "67a0fb0b08b14eb6964880e4a0566bc0",
       "version_major": 2,
       "version_minor": 0
      },
      "text/plain": [
       "  0%|          | 0/1000 [00:00<?, ?it/s]"
      ]
     },
     "metadata": {},
     "output_type": "display_data"
    },
    {
     "data": {
      "application/vnd.jupyter.widget-view+json": {
       "model_id": "911428a7b93a49fcabbfd283c949b310",
       "version_major": 2,
       "version_minor": 0
      },
      "text/plain": [
       "  0%|          | 0/1000 [00:00<?, ?it/s]"
      ]
     },
     "metadata": {},
     "output_type": "display_data"
    },
    {
     "name": "stdout",
     "output_type": "stream",
     "text": [
      "tensor([4, 2])\n",
      "tensor([5, 0])\n",
      "Parameter containing:\n",
      "tensor([[0.0307, 0.3884, 0.6967, 0.4663, 0.9542, 0.5740, 0.5623, 0.5982],\n",
      "        [0.1102, 0.3740, 1.0336, 0.9127, 0.0254, 0.3664, 0.7810, 0.3765]],\n",
      "       requires_grad=True)\n",
      "Parameter containing:\n",
      "tensor([[ 0.3138,  0.1040,  0.2107,  0.7352,  0.3427,  1.4685,  0.8404,  0.5606],\n",
      "        [ 0.8982,  0.2633,  0.3497, -0.3091,  0.3731, -0.0120,  0.4356,  0.8665]],\n",
      "       requires_grad=True)\n",
      "1.530773937702179 20\n"
     ]
    },
    {
     "data": {
      "application/vnd.jupyter.widget-view+json": {
       "model_id": "382c0c4907494dd0ab8281a96e5f4d6b",
       "version_major": 2,
       "version_minor": 0
      },
      "text/plain": [
       "  0%|          | 0/1000 [00:00<?, ?it/s]"
      ]
     },
     "metadata": {},
     "output_type": "display_data"
    },
    {
     "data": {
      "application/vnd.jupyter.widget-view+json": {
       "model_id": "02d3189fdb904bd6be9b527b26678281",
       "version_major": 2,
       "version_minor": 0
      },
      "text/plain": [
       "  0%|          | 0/1000 [00:00<?, ?it/s]"
      ]
     },
     "metadata": {},
     "output_type": "display_data"
    },
    {
     "name": "stdout",
     "output_type": "stream",
     "text": [
      "tensor([1, 2])\n",
      "tensor([3, 2])\n",
      "Parameter containing:\n",
      "tensor([[-0.0743,  1.1157,  0.6476,  0.5723,  0.3935,  0.9053,  0.8261,  0.7376],\n",
      "        [-0.0470,  0.6342,  0.8024,  0.6238,  0.6763,  0.5326,  0.3028,  0.2932]],\n",
      "       requires_grad=True)\n",
      "Parameter containing:\n",
      "tensor([[ 0.9169,  0.7709,  0.2875,  0.9786, -0.0350,  0.6118,  0.6356,  0.0994],\n",
      "        [ 0.5516,  0.5079,  0.9967,  0.5922,  0.6895,  0.1394,  0.8966,  0.6893]],\n",
      "       requires_grad=True)\n",
      "0.9665644764900208 11\n",
      "[Parameter containing:\n",
      "tensor([[-0.0743,  1.1157,  0.6476,  0.5723,  0.3935,  0.9053,  0.8261,  0.7376],\n",
      "        [-0.0470,  0.6342,  0.8024,  0.6238,  0.6763,  0.5326,  0.3028,  0.2932]],\n",
      "       requires_grad=True), Parameter containing:\n",
      "tensor([[ 0.9169,  0.7709,  0.2875,  0.9786, -0.0350,  0.6118,  0.6356,  0.0994],\n",
      "        [ 0.5516,  0.5079,  0.9967,  0.5922,  0.6895,  0.1394,  0.8966,  0.6893]],\n",
      "       requires_grad=True)]\n",
      "Parameter containing:\n",
      "tensor([116.6689], requires_grad=True)\n",
      "Parameter containing:\n",
      "tensor([-25.2319], requires_grad=True)\n",
      "Parameter containing:\n",
      "tensor([125.8834], requires_grad=True)\n",
      "Parameter containing:\n",
      "tensor([-14.4510], requires_grad=True)\n",
      "Parameter containing:\n",
      "tensor([49.8025], requires_grad=True)\n",
      "Parameter containing:\n",
      "tensor([-122.5098], requires_grad=True)\n",
      "Parameter containing:\n",
      "tensor([-71.2617], requires_grad=True)\n",
      "Parameter containing:\n",
      "tensor([62.2768], requires_grad=True)\n"
     ]
    },
    {
     "data": {
      "application/vnd.jupyter.widget-view+json": {
       "model_id": "9cf96774bead4da9bb29333040f396df",
       "version_major": 2,
       "version_minor": 0
      },
      "text/plain": [
       "  0%|          | 0/1000 [00:00<?, ?it/s]"
      ]
     },
     "metadata": {},
     "output_type": "display_data"
    },
    {
     "data": {
      "application/vnd.jupyter.widget-view+json": {
       "model_id": "6ded1dfe1eab46be80578ce73e1a5b01",
       "version_major": 2,
       "version_minor": 0
      },
      "text/plain": [
       "  0%|          | 0/1000 [00:00<?, ?it/s]"
      ]
     },
     "metadata": {},
     "output_type": "display_data"
    },
    {
     "name": "stdout",
     "output_type": "stream",
     "text": [
      "tensor([2, 0])\n",
      "tensor([1, 1])\n",
      "tensor([2, 1])\n",
      "Parameter containing:\n",
      "tensor([[0.5882, 0.5463, 1.0456],\n",
      "        [1.2609, 0.0505, 0.6393]], requires_grad=True)\n",
      "Parameter containing:\n",
      "tensor([[0.6140, 0.8023, 0.5746],\n",
      "        [0.3344, 1.1265, 0.2004]], requires_grad=True)\n",
      "Parameter containing:\n",
      "tensor([[0.8535, 0.2531, 1.0717],\n",
      "        [0.6771, 0.9315, 0.2802]], requires_grad=True)\n",
      "1.3444910844167073 20\n"
     ]
    },
    {
     "data": {
      "application/vnd.jupyter.widget-view+json": {
       "model_id": "34586f953b604910ae61e704e17c6b73",
       "version_major": 2,
       "version_minor": 0
      },
      "text/plain": [
       "  0%|          | 0/1000 [00:00<?, ?it/s]"
      ]
     },
     "metadata": {},
     "output_type": "display_data"
    },
    {
     "data": {
      "application/vnd.jupyter.widget-view+json": {
       "model_id": "40cd8823081347bbaae216f03f76516c",
       "version_major": 2,
       "version_minor": 0
      },
      "text/plain": [
       "  0%|          | 0/1000 [00:00<?, ?it/s]"
      ]
     },
     "metadata": {},
     "output_type": "display_data"
    },
    {
     "name": "stdout",
     "output_type": "stream",
     "text": [
      "tensor([2, 0])\n",
      "tensor([2, 0])\n",
      "tensor([1, 1])\n",
      "Parameter containing:\n",
      "tensor([[0.6235, 0.0506, 0.8974],\n",
      "        [0.4720, 0.0528, 0.0552]], requires_grad=True)\n",
      "Parameter containing:\n",
      "tensor([[-0.6622, -1.6378,  3.7045],\n",
      "        [ 4.3239, -1.4180, -1.2076]], requires_grad=True)\n",
      "Parameter containing:\n",
      "tensor([[0.4423, 0.6719, 0.4760],\n",
      "        [0.3001, 0.8517, 0.2577]], requires_grad=True)\n",
      "1.1264281868934631 20\n"
     ]
    },
    {
     "data": {
      "application/vnd.jupyter.widget-view+json": {
       "model_id": "c8e52df6dea7441d93cba871fafc7e51",
       "version_major": 2,
       "version_minor": 0
      },
      "text/plain": [
       "  0%|          | 0/1000 [00:00<?, ?it/s]"
      ]
     },
     "metadata": {},
     "output_type": "display_data"
    },
    {
     "data": {
      "application/vnd.jupyter.widget-view+json": {
       "model_id": "1e15ba7662954ea5b6070943c8a00a22",
       "version_major": 2,
       "version_minor": 0
      },
      "text/plain": [
       "  0%|          | 0/1000 [00:00<?, ?it/s]"
      ]
     },
     "metadata": {},
     "output_type": "display_data"
    },
    {
     "name": "stdout",
     "output_type": "stream",
     "text": [
      "tensor([2, 0])\n",
      "tensor([2, 1])\n",
      "tensor([0, 2])\n",
      "Parameter containing:\n",
      "tensor([[0.6651, 0.7889, 0.8241],\n",
      "        [0.7335, 0.6995, 0.0591]], requires_grad=True)\n",
      "Parameter containing:\n",
      "tensor([[0.2366, 0.2056, 1.0408],\n",
      "        [0.7754, 0.9590, 0.8866]], requires_grad=True)\n",
      "Parameter containing:\n",
      "tensor([[0.6766, 0.3596, 0.5547],\n",
      "        [0.0314, 0.5250, 1.0257]], requires_grad=True)\n",
      "0.7440009315808614 29\n"
     ]
    },
    {
     "data": {
      "application/vnd.jupyter.widget-view+json": {
       "model_id": "46ace4791017474f9f4b64a5c86ce490",
       "version_major": 2,
       "version_minor": 0
      },
      "text/plain": [
       "  0%|          | 0/1000 [00:00<?, ?it/s]"
      ]
     },
     "metadata": {},
     "output_type": "display_data"
    },
    {
     "data": {
      "application/vnd.jupyter.widget-view+json": {
       "model_id": "2305545556c14d6097da8b4a93f03599",
       "version_major": 2,
       "version_minor": 0
      },
      "text/plain": [
       "  0%|          | 0/1000 [00:00<?, ?it/s]"
      ]
     },
     "metadata": {},
     "output_type": "display_data"
    },
    {
     "name": "stdout",
     "output_type": "stream",
     "text": [
      "tensor([1, 0])\n",
      "tensor([0, 1])\n",
      "tensor([0, 1])\n",
      "Parameter containing:\n",
      "tensor([[-0.1385,  1.8939,  0.0763],\n",
      "        [ 1.2557,  0.1385,  0.1106]], requires_grad=True)\n",
      "Parameter containing:\n",
      "tensor([[ 0.7102,  0.3085,  0.6082],\n",
      "        [-0.4482,  0.7798, -0.0410]], requires_grad=True)\n",
      "Parameter containing:\n",
      "tensor([[ 1.1166,  0.2768,  0.0766],\n",
      "        [-0.6090,  1.6705,  0.8087]], requires_grad=True)\n",
      "0.9262683987617493 20\n"
     ]
    },
    {
     "data": {
      "application/vnd.jupyter.widget-view+json": {
       "model_id": "509e7119632c413aaad398f1998f11f6",
       "version_major": 2,
       "version_minor": 0
      },
      "text/plain": [
       "  0%|          | 0/1000 [00:00<?, ?it/s]"
      ]
     },
     "metadata": {},
     "output_type": "display_data"
    },
    {
     "data": {
      "application/vnd.jupyter.widget-view+json": {
       "model_id": "faa9fabe589a4ecfb350b634b336a4d7",
       "version_major": 2,
       "version_minor": 0
      },
      "text/plain": [
       "  0%|          | 0/1000 [00:00<?, ?it/s]"
      ]
     },
     "metadata": {},
     "output_type": "display_data"
    },
    {
     "name": "stdout",
     "output_type": "stream",
     "text": [
      "tensor([0, 2])\n",
      "tensor([0, 1])\n",
      "tensor([0, 2])\n",
      "Parameter containing:\n",
      "tensor([[0.7143, 0.0686, 0.4556],\n",
      "        [0.3133, 0.6738, 0.7666]], requires_grad=True)\n",
      "Parameter containing:\n",
      "tensor([[0.3664, 0.2082, 0.1037],\n",
      "        [0.1018, 0.8134, 0.3943]], requires_grad=True)\n",
      "Parameter containing:\n",
      "tensor([[ 1.4691, -0.1830,  0.9603],\n",
      "        [ 0.4833,  0.4028,  1.4660]], requires_grad=True)\n",
      "1.2255741953849792 19\n"
     ]
    },
    {
     "data": {
      "application/vnd.jupyter.widget-view+json": {
       "model_id": "65d6bd2ac5f94ab58a32bdd57b42106f",
       "version_major": 2,
       "version_minor": 0
      },
      "text/plain": [
       "  0%|          | 0/1000 [00:00<?, ?it/s]"
      ]
     },
     "metadata": {},
     "output_type": "display_data"
    },
    {
     "data": {
      "application/vnd.jupyter.widget-view+json": {
       "model_id": "928e5e4b97bf4d9ebaf56543d98e7b9f",
       "version_major": 2,
       "version_minor": 0
      },
      "text/plain": [
       "  0%|          | 0/1000 [00:00<?, ?it/s]"
      ]
     },
     "metadata": {},
     "output_type": "display_data"
    },
    {
     "name": "stdout",
     "output_type": "stream",
     "text": [
      "tensor([0, 2])\n",
      "tensor([0, 0])\n",
      "tensor([1, 1])\n",
      "Parameter containing:\n",
      "tensor([[ 2.4910, -0.9741, -0.9463],\n",
      "        [ 0.3242, -0.9854,  2.8913]], requires_grad=True)\n",
      "Parameter containing:\n",
      "tensor([[ 1.6240,  0.4461, -0.6992],\n",
      "        [ 0.8129,  0.4426,  0.7661]], requires_grad=True)\n",
      "Parameter containing:\n",
      "tensor([[ 0.1638,  0.5509, -0.0476],\n",
      "        [-0.2326,  1.1400,  0.3326]], requires_grad=True)\n",
      "1.0511013269424438 29\n"
     ]
    },
    {
     "data": {
      "application/vnd.jupyter.widget-view+json": {
       "model_id": "d799bb3d0b874c90b514d034600430f9",
       "version_major": 2,
       "version_minor": 0
      },
      "text/plain": [
       "  0%|          | 0/1000 [00:00<?, ?it/s]"
      ]
     },
     "metadata": {},
     "output_type": "display_data"
    },
    {
     "data": {
      "application/vnd.jupyter.widget-view+json": {
       "model_id": "b6fad78ce1194a3eacfa61745c21a129",
       "version_major": 2,
       "version_minor": 0
      },
      "text/plain": [
       "  0%|          | 0/1000 [00:00<?, ?it/s]"
      ]
     },
     "metadata": {},
     "output_type": "display_data"
    },
    {
     "name": "stdout",
     "output_type": "stream",
     "text": [
      "tensor([0, 1])\n",
      "tensor([2, 1])\n",
      "tensor([2, 2])\n",
      "Parameter containing:\n",
      "tensor([[0.4609, 0.2022, 0.2370],\n",
      "        [0.0655, 1.0863, 0.5962]], requires_grad=True)\n",
      "Parameter containing:\n",
      "tensor([[0.3249, 0.6472, 1.0288],\n",
      "        [0.3791, 0.3919, 0.3669]], requires_grad=True)\n",
      "Parameter containing:\n",
      "tensor([[0.4230, 0.6239, 0.6516],\n",
      "        [0.2595, 0.2915, 0.7420]], requires_grad=True)\n",
      "1.059049367904663 20\n"
     ]
    },
    {
     "data": {
      "application/vnd.jupyter.widget-view+json": {
       "model_id": "45811e2ccafd47b38d5b3137356d5d0f",
       "version_major": 2,
       "version_minor": 0
      },
      "text/plain": [
       "  0%|          | 0/1000 [00:00<?, ?it/s]"
      ]
     },
     "metadata": {},
     "output_type": "display_data"
    },
    {
     "data": {
      "application/vnd.jupyter.widget-view+json": {
       "model_id": "9dea2fb4193d4ed09ea00a9fb34b3ae7",
       "version_major": 2,
       "version_minor": 0
      },
      "text/plain": [
       "  0%|          | 0/1000 [00:00<?, ?it/s]"
      ]
     },
     "metadata": {},
     "output_type": "display_data"
    },
    {
     "name": "stdout",
     "output_type": "stream",
     "text": [
      "tensor([1, 0])\n",
      "tensor([2, 0])\n",
      "tensor([2, 0])\n",
      "Parameter containing:\n",
      "tensor([[0.1666, 0.2150, 0.1899],\n",
      "        [0.8438, 0.1583, 0.7857]], requires_grad=True)\n",
      "Parameter containing:\n",
      "tensor([[0.2086, 0.3756, 0.8183],\n",
      "        [0.4868, 0.2378, 0.3147]], requires_grad=True)\n",
      "Parameter containing:\n",
      "tensor([[-0.0728,  0.4629,  0.8750],\n",
      "        [ 0.8955,  0.0812,  0.4272]], requires_grad=True)\n",
      "0.814871609210968 11\n"
     ]
    },
    {
     "data": {
      "application/vnd.jupyter.widget-view+json": {
       "model_id": "730e523bd80c4e96aa9fd92e1c2264a1",
       "version_major": 2,
       "version_minor": 0
      },
      "text/plain": [
       "  0%|          | 0/1000 [00:00<?, ?it/s]"
      ]
     },
     "metadata": {},
     "output_type": "display_data"
    },
    {
     "data": {
      "application/vnd.jupyter.widget-view+json": {
       "model_id": "2881ec9908954aaeace02ec4c466aaab",
       "version_major": 2,
       "version_minor": 0
      },
      "text/plain": [
       "  0%|          | 0/1000 [00:00<?, ?it/s]"
      ]
     },
     "metadata": {},
     "output_type": "display_data"
    },
    {
     "name": "stdout",
     "output_type": "stream",
     "text": [
      "tensor([2, 0])\n",
      "tensor([2, 0])\n",
      "tensor([1, 0])\n",
      "Parameter containing:\n",
      "tensor([[ 0.2350,  0.2288,  0.6122],\n",
      "        [ 0.5026,  0.2813, -0.1981]], requires_grad=True)\n",
      "Parameter containing:\n",
      "tensor([[-0.4663,  0.8144,  1.1927],\n",
      "        [ 0.9849, -0.2450,  0.7512]], requires_grad=True)\n",
      "Parameter containing:\n",
      "tensor([[ 0.3805,  1.0598,  0.6618],\n",
      "        [ 0.8433,  0.6594, -0.0320]], requires_grad=True)\n",
      "0.8727778593699137 11\n"
     ]
    },
    {
     "data": {
      "application/vnd.jupyter.widget-view+json": {
       "model_id": "a37f050a0a8d4b3b9c408ac8bef4492e",
       "version_major": 2,
       "version_minor": 0
      },
      "text/plain": [
       "  0%|          | 0/1000 [00:00<?, ?it/s]"
      ]
     },
     "metadata": {},
     "output_type": "display_data"
    },
    {
     "data": {
      "application/vnd.jupyter.widget-view+json": {
       "model_id": "b580c1eb05354a468272c59d99b64627",
       "version_major": 2,
       "version_minor": 0
      },
      "text/plain": [
       "  0%|          | 0/1000 [00:00<?, ?it/s]"
      ]
     },
     "metadata": {},
     "output_type": "display_data"
    },
    {
     "name": "stdout",
     "output_type": "stream",
     "text": [
      "tensor([0, 1])\n",
      "tensor([0, 0])\n",
      "tensor([0, 2])\n",
      "Parameter containing:\n",
      "tensor([[ 2.0590, -0.2419,  0.3569],\n",
      "        [ 0.4687,  0.8556,  0.2540]], requires_grad=True)\n",
      "Parameter containing:\n",
      "tensor([[0.9916, 0.1557, 0.7125],\n",
      "        [0.5194, 0.0710, 0.2863]], requires_grad=True)\n",
      "Parameter containing:\n",
      "tensor([[ 0.6038,  0.0178,  0.5679],\n",
      "        [-0.3163, -1.3074,  2.7292]], requires_grad=True)\n",
      "1.287734031677246 28\n"
     ]
    },
    {
     "data": {
      "application/vnd.jupyter.widget-view+json": {
       "model_id": "611776a851324d2e830a6b35e87ff044",
       "version_major": 2,
       "version_minor": 0
      },
      "text/plain": [
       "  0%|          | 0/1000 [00:00<?, ?it/s]"
      ]
     },
     "metadata": {},
     "output_type": "display_data"
    },
    {
     "data": {
      "application/vnd.jupyter.widget-view+json": {
       "model_id": "413e0cad71094f199d17077ef81a33ad",
       "version_major": 2,
       "version_minor": 0
      },
      "text/plain": [
       "  0%|          | 0/1000 [00:00<?, ?it/s]"
      ]
     },
     "metadata": {},
     "output_type": "display_data"
    },
    {
     "name": "stdout",
     "output_type": "stream",
     "text": [
      "tensor([2, 2])\n",
      "tensor([1, 1])\n",
      "tensor([2, 1])\n",
      "Parameter containing:\n",
      "tensor([[0.4433, 0.3564, 1.3865],\n",
      "        [0.2992, 0.6048, 1.1894]], requires_grad=True)\n",
      "Parameter containing:\n",
      "tensor([[-0.0683,  0.9962,  0.4772],\n",
      "        [ 0.8150,  0.9477, -0.2204]], requires_grad=True)\n",
      "Parameter containing:\n",
      "tensor([[0.6653, 0.9430, 1.1116],\n",
      "        [0.4123, 0.9094, 0.3114]], requires_grad=True)\n",
      "0.8971735835075378 20\n"
     ]
    },
    {
     "data": {
      "application/vnd.jupyter.widget-view+json": {
       "model_id": "ff386d6421e444e4af740199635b745d",
       "version_major": 2,
       "version_minor": 0
      },
      "text/plain": [
       "  0%|          | 0/1000 [00:00<?, ?it/s]"
      ]
     },
     "metadata": {},
     "output_type": "display_data"
    },
    {
     "data": {
      "application/vnd.jupyter.widget-view+json": {
       "model_id": "0b65fe3e12e44173b17e20c48e2745ae",
       "version_major": 2,
       "version_minor": 0
      },
      "text/plain": [
       "  0%|          | 0/1000 [00:00<?, ?it/s]"
      ]
     },
     "metadata": {},
     "output_type": "display_data"
    },
    {
     "name": "stdout",
     "output_type": "stream",
     "text": [
      "tensor([2, 2])\n",
      "tensor([1, 2])\n",
      "tensor([0, 1])\n",
      "Parameter containing:\n",
      "tensor([[-0.5336, -0.0963,  2.7951],\n",
      "        [-0.4780, -1.1493,  3.4197]], requires_grad=True)\n",
      "Parameter containing:\n",
      "tensor([[-2.4605,  4.5755, -0.7516],\n",
      "        [-3.4694,  2.2252,  2.7456]], requires_grad=True)\n",
      "Parameter containing:\n",
      "tensor([[0.8240, 0.0703, 0.7551],\n",
      "        [0.3830, 0.4557, 0.3387]], requires_grad=True)\n",
      "1.2085296312967937 21\n"
     ]
    },
    {
     "data": {
      "application/vnd.jupyter.widget-view+json": {
       "model_id": "9f784fa2567c49ebb09e4c5d7ece1b8e",
       "version_major": 2,
       "version_minor": 0
      },
      "text/plain": [
       "  0%|          | 0/1000 [00:00<?, ?it/s]"
      ]
     },
     "metadata": {},
     "output_type": "display_data"
    },
    {
     "data": {
      "application/vnd.jupyter.widget-view+json": {
       "model_id": "aa1b1e65879a4e649f89e0855e12730d",
       "version_major": 2,
       "version_minor": 0
      },
      "text/plain": [
       "  0%|          | 0/1000 [00:00<?, ?it/s]"
      ]
     },
     "metadata": {},
     "output_type": "display_data"
    },
    {
     "name": "stdout",
     "output_type": "stream",
     "text": [
      "tensor([2, 2])\n",
      "tensor([0, 2])\n",
      "tensor([0, 0])\n",
      "Parameter containing:\n",
      "tensor([[0.6390, 0.7449, 0.8192],\n",
      "        [0.5713, 0.3026, 0.9248]], requires_grad=True)\n",
      "Parameter containing:\n",
      "tensor([[0.7331, 0.4206, 0.2174],\n",
      "        [0.2766, 0.1998, 0.2949]], requires_grad=True)\n",
      "Parameter containing:\n",
      "tensor([[0.8671, 0.4480, 0.4552],\n",
      "        [0.8603, 0.5700, 0.5171]], requires_grad=True)\n",
      "0.4739286204179128 20\n"
     ]
    },
    {
     "data": {
      "application/vnd.jupyter.widget-view+json": {
       "model_id": "a7e2c65e80b54df6acb2f7dc0ac25312",
       "version_major": 2,
       "version_minor": 0
      },
      "text/plain": [
       "  0%|          | 0/1000 [00:00<?, ?it/s]"
      ]
     },
     "metadata": {},
     "output_type": "display_data"
    },
    {
     "data": {
      "application/vnd.jupyter.widget-view+json": {
       "model_id": "6f26897565834e2c9873f5e2a89d4fd9",
       "version_major": 2,
       "version_minor": 0
      },
      "text/plain": [
       "  0%|          | 0/1000 [00:00<?, ?it/s]"
      ]
     },
     "metadata": {},
     "output_type": "display_data"
    },
    {
     "name": "stdout",
     "output_type": "stream",
     "text": [
      "tensor([1, 2])\n",
      "tensor([2, 0])\n",
      "tensor([0, 1])\n",
      "Parameter containing:\n",
      "tensor([[0.7276, 1.2009, 0.5889],\n",
      "        [0.6255, 0.5837, 0.7028]], requires_grad=True)\n",
      "Parameter containing:\n",
      "tensor([[ 0.1395,  0.8120,  0.8761],\n",
      "        [ 0.3019,  0.0772, -0.0313]], requires_grad=True)\n",
      "Parameter containing:\n",
      "tensor([[ 1.5743,  0.9386, -0.3744],\n",
      "        [ 0.6815,  1.0145,  0.1538]], requires_grad=True)\n",
      "1.4140515128771465 30\n"
     ]
    },
    {
     "data": {
      "application/vnd.jupyter.widget-view+json": {
       "model_id": "7c50eac0a71048a0816172ddf3dd70fe",
       "version_major": 2,
       "version_minor": 0
      },
      "text/plain": [
       "  0%|          | 0/1000 [00:00<?, ?it/s]"
      ]
     },
     "metadata": {},
     "output_type": "display_data"
    },
    {
     "data": {
      "application/vnd.jupyter.widget-view+json": {
       "model_id": "27ff1dbe2ac04876abb8fc68ba30b891",
       "version_major": 2,
       "version_minor": 0
      },
      "text/plain": [
       "  0%|          | 0/1000 [00:00<?, ?it/s]"
      ]
     },
     "metadata": {},
     "output_type": "display_data"
    },
    {
     "name": "stdout",
     "output_type": "stream",
     "text": [
      "tensor([1, 0])\n",
      "tensor([2, 2])\n",
      "tensor([2, 0])\n",
      "Parameter containing:\n",
      "tensor([[0.8380, 0.8554, 0.1739],\n",
      "        [0.9209, 0.5799, 0.6404]], requires_grad=True)\n",
      "Parameter containing:\n",
      "tensor([[0.0878, 0.5906, 0.8092],\n",
      "        [0.6677, 0.1718, 0.6848]], requires_grad=True)\n",
      "Parameter containing:\n",
      "tensor([[0.2545, 0.1122, 0.7598],\n",
      "        [0.9391, 0.6871, 0.1031]], requires_grad=True)\n",
      "0.6367211838563284 20\n"
     ]
    },
    {
     "data": {
      "application/vnd.jupyter.widget-view+json": {
       "model_id": "22799aeab9814946b3eb5d018b397c30",
       "version_major": 2,
       "version_minor": 0
      },
      "text/plain": [
       "  0%|          | 0/1000 [00:00<?, ?it/s]"
      ]
     },
     "metadata": {},
     "output_type": "display_data"
    },
    {
     "data": {
      "application/vnd.jupyter.widget-view+json": {
       "model_id": "72d4b55edd8144a096f7539a09288216",
       "version_major": 2,
       "version_minor": 0
      },
      "text/plain": [
       "  0%|          | 0/1000 [00:00<?, ?it/s]"
      ]
     },
     "metadata": {},
     "output_type": "display_data"
    },
    {
     "name": "stdout",
     "output_type": "stream",
     "text": [
      "tensor([2, 0])\n",
      "tensor([2, 2])\n",
      "tensor([1, 1])\n",
      "Parameter containing:\n",
      "tensor([[-1.5206, -2.0044,  4.5456],\n",
      "        [ 5.1178, -2.2872, -1.7631]], requires_grad=True)\n",
      "Parameter containing:\n",
      "tensor([[0.5467, 0.8078, 0.9162],\n",
      "        [0.4076, 0.5467, 0.8819]], requires_grad=True)\n",
      "Parameter containing:\n",
      "tensor([[ 0.3424,  0.9354, -0.0024],\n",
      "        [ 0.1737,  0.7310,  0.3188]], requires_grad=True)\n",
      "0.9922994573911031 29\n"
     ]
    },
    {
     "data": {
      "application/vnd.jupyter.widget-view+json": {
       "model_id": "220a27a23b074f1ba8d432488a866f7e",
       "version_major": 2,
       "version_minor": 0
      },
      "text/plain": [
       "  0%|          | 0/1000 [00:00<?, ?it/s]"
      ]
     },
     "metadata": {},
     "output_type": "display_data"
    },
    {
     "data": {
      "application/vnd.jupyter.widget-view+json": {
       "model_id": "af8aa0089a474c188ce20ab311823351",
       "version_major": 2,
       "version_minor": 0
      },
      "text/plain": [
       "  0%|          | 0/1000 [00:00<?, ?it/s]"
      ]
     },
     "metadata": {},
     "output_type": "display_data"
    },
    {
     "name": "stdout",
     "output_type": "stream",
     "text": [
      "tensor([1, 1])\n",
      "tensor([2, 0])\n",
      "tensor([2, 1])\n",
      "Parameter containing:\n",
      "tensor([[-0.5132,  1.7755,  0.0694],\n",
      "        [-0.1414,  1.2551,  0.4668]], requires_grad=True)\n",
      "Parameter containing:\n",
      "tensor([[ 0.1908, -1.7572,  2.3531],\n",
      "        [ 3.4228, -1.0899, -0.6635]], requires_grad=True)\n",
      "Parameter containing:\n",
      "tensor([[-1.1391, -0.9045,  3.9080],\n",
      "        [-2.3320,  4.0967, -0.1510]], requires_grad=True)\n",
      "0.6647140383720398 20\n"
     ]
    },
    {
     "data": {
      "application/vnd.jupyter.widget-view+json": {
       "model_id": "11027b88127844d5bdf31a3fe2a1fd65",
       "version_major": 2,
       "version_minor": 0
      },
      "text/plain": [
       "  0%|          | 0/1000 [00:00<?, ?it/s]"
      ]
     },
     "metadata": {},
     "output_type": "display_data"
    },
    {
     "data": {
      "application/vnd.jupyter.widget-view+json": {
       "model_id": "5d5c6333e36f4a319398724ff2e56751",
       "version_major": 2,
       "version_minor": 0
      },
      "text/plain": [
       "  0%|          | 0/1000 [00:00<?, ?it/s]"
      ]
     },
     "metadata": {},
     "output_type": "display_data"
    },
    {
     "name": "stdout",
     "output_type": "stream",
     "text": [
      "tensor([1, 1])\n",
      "tensor([1, 2])\n",
      "tensor([0, 0])\n",
      "Parameter containing:\n",
      "tensor([[0.6160, 1.2014, 0.1324],\n",
      "        [0.0818, 1.1698, 0.5238]], requires_grad=True)\n",
      "Parameter containing:\n",
      "tensor([[0.4612, 0.9265, 0.8423],\n",
      "        [0.9301, 0.0919, 0.9660]], requires_grad=True)\n",
      "Parameter containing:\n",
      "tensor([[ 1.2180, -0.0144, -0.0599],\n",
      "        [ 1.0848, -0.3711,  0.7920]], requires_grad=True)\n",
      "0.7438644369443258 29\n"
     ]
    },
    {
     "data": {
      "application/vnd.jupyter.widget-view+json": {
       "model_id": "3287e5c099494cc188f77660ab6f65d0",
       "version_major": 2,
       "version_minor": 0
      },
      "text/plain": [
       "  0%|          | 0/1000 [00:00<?, ?it/s]"
      ]
     },
     "metadata": {},
     "output_type": "display_data"
    },
    {
     "data": {
      "application/vnd.jupyter.widget-view+json": {
       "model_id": "5784499c2edf4f9ba99bb981b1e843ad",
       "version_major": 2,
       "version_minor": 0
      },
      "text/plain": [
       "  0%|          | 0/1000 [00:00<?, ?it/s]"
      ]
     },
     "metadata": {},
     "output_type": "display_data"
    },
    {
     "name": "stdout",
     "output_type": "stream",
     "text": [
      "tensor([2, 1])\n",
      "tensor([1, 1])\n",
      "tensor([2, 2])\n",
      "Parameter containing:\n",
      "tensor([[-0.0277,  0.2424,  0.9777],\n",
      "        [ 0.4662,  0.9181,  0.5475]], requires_grad=True)\n",
      "Parameter containing:\n",
      "tensor([[-0.4678,  2.2914, -0.5324],\n",
      "        [ 1.5016,  1.8787, -1.0479]], requires_grad=True)\n",
      "Parameter containing:\n",
      "tensor([[ 0.1593,  0.2353,  0.7865],\n",
      "        [-0.8572,  0.4625,  1.3812]], requires_grad=True)\n",
      "1.1285860935846965 20\n"
     ]
    },
    {
     "data": {
      "application/vnd.jupyter.widget-view+json": {
       "model_id": "d3ba888375604bb0897daf329c3f839d",
       "version_major": 2,
       "version_minor": 0
      },
      "text/plain": [
       "  0%|          | 0/1000 [00:00<?, ?it/s]"
      ]
     },
     "metadata": {},
     "output_type": "display_data"
    },
    {
     "data": {
      "application/vnd.jupyter.widget-view+json": {
       "model_id": "83d6389363b8412f88a2941f04bc3ed9",
       "version_major": 2,
       "version_minor": 0
      },
      "text/plain": [
       "  0%|          | 0/1000 [00:00<?, ?it/s]"
      ]
     },
     "metadata": {},
     "output_type": "display_data"
    },
    {
     "name": "stdout",
     "output_type": "stream",
     "text": [
      "tensor([1, 0])\n",
      "tensor([0, 2])\n",
      "tensor([0, 1])\n",
      "Parameter containing:\n",
      "tensor([[0.2512, 0.6563, 0.3647],\n",
      "        [1.0616, 0.7187, 0.3633]], requires_grad=True)\n",
      "Parameter containing:\n",
      "tensor([[ 2.5382, -0.9684,  0.1593],\n",
      "        [-2.6303,  1.6496,  3.5409]], requires_grad=True)\n",
      "Parameter containing:\n",
      "tensor([[ 0.6531,  0.4098,  0.1049],\n",
      "        [-0.0522,  1.1570,  0.6642]], requires_grad=True)\n",
      "1.2117284536361694 29\n",
      "[Parameter containing:\n",
      "tensor([[0.2512, 0.6563, 0.3647],\n",
      "        [1.0616, 0.7187, 0.3633]], requires_grad=True), Parameter containing:\n",
      "tensor([[ 2.5382, -0.9684,  0.1593],\n",
      "        [-2.6303,  1.6496,  3.5409]], requires_grad=True), Parameter containing:\n",
      "tensor([[ 0.6531,  0.4098,  0.1049],\n",
      "        [-0.0522,  1.1570,  0.6642]], requires_grad=True)]\n",
      "Parameter containing:\n",
      "tensor([13.6417], requires_grad=True)\n",
      "Parameter containing:\n",
      "tensor([62.6022], requires_grad=True)\n",
      "Parameter containing:\n",
      "tensor([-64.4072], requires_grad=True)\n"
     ]
    },
    {
     "data": {
      "application/vnd.jupyter.widget-view+json": {
       "model_id": "e3fc87bb0c8c429081bf5d37b16c6653",
       "version_major": 2,
       "version_minor": 0
      },
      "text/plain": [
       "  0%|          | 0/1000 [00:00<?, ?it/s]"
      ]
     },
     "metadata": {},
     "output_type": "display_data"
    },
    {
     "data": {
      "application/vnd.jupyter.widget-view+json": {
       "model_id": "a9610eefb0194f279ec29c56430b7ca1",
       "version_major": 2,
       "version_minor": 0
      },
      "text/plain": [
       "  0%|          | 0/1000 [00:00<?, ?it/s]"
      ]
     },
     "metadata": {},
     "output_type": "display_data"
    },
    {
     "name": "stdout",
     "output_type": "stream",
     "text": [
      "tensor([3, 2])\n",
      "tensor([0, 6])\n",
      "tensor([5, 2])\n",
      "Parameter containing:\n",
      "tensor([[0.9592, 0.8414, 0.4616, 1.0198, 0.2665, 0.5953, 0.2492, 0.7881],\n",
      "        [0.9889, 0.1281, 1.0576, 0.6350, 0.7801, 0.5440, 0.7815, 0.2946]],\n",
      "       requires_grad=True)\n",
      "Parameter containing:\n",
      "tensor([[ 1.5863e+00,  5.2789e-03,  1.0739e-01,  4.8324e-01,  1.0035e-01,\n",
      "          3.3150e-01,  2.4288e-01,  1.3361e+00],\n",
      "        [-8.7098e-03,  7.0918e-01, -2.3276e-01, -2.5055e-04,  2.6642e-01,\n",
      "         -1.3004e-01,  1.8913e+00,  1.8023e-02]], requires_grad=True)\n",
      "Parameter containing:\n",
      "tensor([[0.7780, 0.7549, 0.2704, 0.8653, 0.6721, 0.8920, 0.6033, 0.1587],\n",
      "        [0.7624, 0.3307, 0.9308, 0.7238, 0.7203, 0.1841, 0.8601, 0.5920]],\n",
      "       requires_grad=True)\n",
      "0.825905978679657 21\n"
     ]
    },
    {
     "data": {
      "application/vnd.jupyter.widget-view+json": {
       "model_id": "2182270f9bfb4fde94e53115d80301e2",
       "version_major": 2,
       "version_minor": 0
      },
      "text/plain": [
       "  0%|          | 0/1000 [00:00<?, ?it/s]"
      ]
     },
     "metadata": {},
     "output_type": "display_data"
    },
    {
     "data": {
      "application/vnd.jupyter.widget-view+json": {
       "model_id": "ab17e7acf2a74e6bac880d5b53b59064",
       "version_major": 2,
       "version_minor": 0
      },
      "text/plain": [
       "  0%|          | 0/1000 [00:00<?, ?it/s]"
      ]
     },
     "metadata": {},
     "output_type": "display_data"
    },
    {
     "name": "stdout",
     "output_type": "stream",
     "text": [
      "tensor([6, 2])\n",
      "tensor([7, 6])\n",
      "tensor([0, 0])\n",
      "Parameter containing:\n",
      "tensor([[ 0.3205,  0.1782,  0.7599,  0.2827,  0.1202,  0.2487,  0.9327, -0.0345],\n",
      "        [ 0.6570,  0.4239,  1.0330,  0.2005,  0.4702,  0.4165,  0.5459,  0.9949]],\n",
      "       requires_grad=True)\n",
      "Parameter containing:\n",
      "tensor([[ 0.0380, -0.8651,  1.0708, -0.3090,  0.2998, -0.8335,  0.0670,  4.2781],\n",
      "        [-1.0933,  1.0169, -0.3795,  1.1033, -0.0894,  0.2238,  3.9341, -0.7167]],\n",
      "       requires_grad=True)\n",
      "Parameter containing:\n",
      "tensor([[ 1.4641,  0.8329, -0.7831,  0.3727,  1.2164,  0.4921,  0.4867,  0.5777],\n",
      "        [ 1.3694,  0.6171,  0.7961,  0.4950,  0.1605,  0.8752, -0.5672,  0.2949]],\n",
      "       requires_grad=True)\n",
      "0.6814954578876495 30\n"
     ]
    },
    {
     "data": {
      "application/vnd.jupyter.widget-view+json": {
       "model_id": "3c810e546649436eb8129b6ea2f94d7b",
       "version_major": 2,
       "version_minor": 0
      },
      "text/plain": [
       "  0%|          | 0/1000 [00:00<?, ?it/s]"
      ]
     },
     "metadata": {},
     "output_type": "display_data"
    },
    {
     "data": {
      "application/vnd.jupyter.widget-view+json": {
       "model_id": "61de1c97c4f44e41ad3f4211cdfb44d2",
       "version_major": 2,
       "version_minor": 0
      },
      "text/plain": [
       "  0%|          | 0/1000 [00:00<?, ?it/s]"
      ]
     },
     "metadata": {},
     "output_type": "display_data"
    },
    {
     "name": "stdout",
     "output_type": "stream",
     "text": [
      "tensor([0, 1])\n",
      "tensor([6, 7])\n",
      "tensor([5, 5])\n",
      "Parameter containing:\n",
      "tensor([[ 0.9654,  0.4416,  0.6019,  0.4039,  0.8192,  0.8206,  0.0104,  0.2066],\n",
      "        [ 0.6682,  1.4936,  0.9145,  0.8990,  0.8494, -0.1330,  0.4200,  0.4192]],\n",
      "       requires_grad=True)\n",
      "Parameter containing:\n",
      "tensor([[0.5292, 0.6294, 0.7742, 0.2799, 0.8972, 0.6247, 0.9500, 0.5454],\n",
      "        [0.5266, 0.3180, 0.0842, 0.7748, 0.7817, 0.4101, 0.0674, 0.8298]],\n",
      "       requires_grad=True)\n",
      "Parameter containing:\n",
      "tensor([[-0.2985, -0.2570,  0.4862, -0.1811,  0.3246,  4.3507, -0.7535,  0.1269],\n",
      "        [-0.2809,  1.8954, -0.6749, -0.6624, -0.5638,  3.4099,  0.2749, -0.3247]],\n",
      "       requires_grad=True)\n",
      "0.9583070377508799 30\n"
     ]
    },
    {
     "data": {
      "application/vnd.jupyter.widget-view+json": {
       "model_id": "1598513bd0a1487db0be70a11bb51f1f",
       "version_major": 2,
       "version_minor": 0
      },
      "text/plain": [
       "  0%|          | 0/1000 [00:00<?, ?it/s]"
      ]
     },
     "metadata": {},
     "output_type": "display_data"
    },
    {
     "data": {
      "application/vnd.jupyter.widget-view+json": {
       "model_id": "f3a7b44cfa2a4c75b022c90591ad07c0",
       "version_major": 2,
       "version_minor": 0
      },
      "text/plain": [
       "  0%|          | 0/1000 [00:00<?, ?it/s]"
      ]
     },
     "metadata": {},
     "output_type": "display_data"
    },
    {
     "name": "stdout",
     "output_type": "stream",
     "text": [
      "tensor([6, 0])\n",
      "tensor([1, 1])\n",
      "tensor([1, 0])\n",
      "Parameter containing:\n",
      "tensor([[0.1416, 0.7172, 0.8361, 0.8994, 0.0056, 0.6211, 0.9132, 0.0451],\n",
      "        [0.9855, 0.2163, 0.1034, 0.1248, 0.3528, 0.2641, 0.5045, 0.5275]],\n",
      "       requires_grad=True)\n",
      "Parameter containing:\n",
      "tensor([[ 0.7287,  3.0156,  0.1357, -0.1019,  0.2348, -0.2404,  0.4335,  0.4302],\n",
      "        [ 0.1759,  1.4161,  0.7742,  0.8773,  0.5315, -0.0935, -0.2687,  0.7735]],\n",
      "       requires_grad=True)\n",
      "Parameter containing:\n",
      "tensor([[ 1.2134,  1.4075,  0.1138,  0.1285,  0.3599,  0.4200,  0.8389, -0.6554],\n",
      "        [ 1.3519, -0.2940,  0.9631,  0.3537, -0.5432,  0.5970,  0.7352, -0.2427]],\n",
      "       requires_grad=True)\n",
      "0.6672248244285583 20\n"
     ]
    },
    {
     "data": {
      "application/vnd.jupyter.widget-view+json": {
       "model_id": "cd29a58d23bc4cfc8b39817bfb4b9b2f",
       "version_major": 2,
       "version_minor": 0
      },
      "text/plain": [
       "  0%|          | 0/1000 [00:00<?, ?it/s]"
      ]
     },
     "metadata": {},
     "output_type": "display_data"
    },
    {
     "data": {
      "application/vnd.jupyter.widget-view+json": {
       "model_id": "f1ec5503c7244f30b8daf8138f2f7cd0",
       "version_major": 2,
       "version_minor": 0
      },
      "text/plain": [
       "  0%|          | 0/1000 [00:00<?, ?it/s]"
      ]
     },
     "metadata": {},
     "output_type": "display_data"
    },
    {
     "name": "stdout",
     "output_type": "stream",
     "text": [
      "tensor([4, 4])\n",
      "tensor([3, 6])\n",
      "tensor([0, 5])\n",
      "Parameter containing:\n",
      "tensor([[0.6410, 0.0738, 0.4511, 0.1376, 0.8735, 0.7832, 0.0410, 0.5215],\n",
      "        [0.1834, 0.3572, 0.9601, 0.0686, 0.9730, 0.4138, 0.7740, 0.8535]],\n",
      "       requires_grad=True)\n",
      "Parameter containing:\n",
      "tensor([[ 0.0917,  0.2560,  0.3851,  1.7034,  0.2536,  0.9389,  0.7680, -0.1243],\n",
      "        [ 0.0047,  0.2307,  0.6995,  0.4787,  1.0233,  1.0845,  1.1310,  1.0698]],\n",
      "       requires_grad=True)\n",
      "Parameter containing:\n",
      "tensor([[ 0.8547,  0.3407,  0.4150,  0.6733,  0.5952,  0.2933,  0.1515,  0.3509],\n",
      "        [ 0.1310,  0.5058,  0.8298,  0.1849,  0.5199,  0.8464,  0.1874, -0.0728]],\n",
      "       requires_grad=True)\n",
      "1.190451721350352 30\n"
     ]
    },
    {
     "data": {
      "application/vnd.jupyter.widget-view+json": {
       "model_id": "d074cd496f78491a8f1240459155f990",
       "version_major": 2,
       "version_minor": 0
      },
      "text/plain": [
       "  0%|          | 0/1000 [00:00<?, ?it/s]"
      ]
     },
     "metadata": {},
     "output_type": "display_data"
    },
    {
     "data": {
      "application/vnd.jupyter.widget-view+json": {
       "model_id": "9cafa223a5e84e3e9c47e608dc7d8fc7",
       "version_major": 2,
       "version_minor": 0
      },
      "text/plain": [
       "  0%|          | 0/1000 [00:00<?, ?it/s]"
      ]
     },
     "metadata": {},
     "output_type": "display_data"
    },
    {
     "name": "stdout",
     "output_type": "stream",
     "text": [
      "tensor([2, 3])\n",
      "tensor([4, 6])\n",
      "tensor([7, 7])\n",
      "Parameter containing:\n",
      "tensor([[-0.0288, -1.7549,  5.3845, -0.1632,  0.4770, -0.5502,  0.0890,  0.5714],\n",
      "        [-0.2791, -1.1796, -1.3197,  4.6192,  0.2074, -0.0517,  0.1883,  1.1117]],\n",
      "       requires_grad=True)\n",
      "Parameter containing:\n",
      "tensor([[ 0.6865,  0.0284, -0.3459,  0.0926,  1.6782, -0.1894, -0.0438,  0.9834],\n",
      "        [ 0.6715, -0.1889,  0.6468,  0.5572,  0.0970, -0.4250,  1.4699,  0.8368]],\n",
      "       requires_grad=True)\n",
      "Parameter containing:\n",
      "tensor([[  6.2388,   2.9743, -13.5052,   2.9998,   2.8817,  -7.5142,   9.0624,\n",
      "          15.4194],\n",
      "        [-12.3358, -14.2301,   9.0296,  12.3296,  12.6762,   7.7643,  -0.6609,\n",
      "          13.3495]], requires_grad=True)\n",
      "0.8297267556190491 30\n"
     ]
    },
    {
     "data": {
      "application/vnd.jupyter.widget-view+json": {
       "model_id": "500935ffc9074dfbaffdf07fcfe2eca1",
       "version_major": 2,
       "version_minor": 0
      },
      "text/plain": [
       "  0%|          | 0/1000 [00:00<?, ?it/s]"
      ]
     },
     "metadata": {},
     "output_type": "display_data"
    },
    {
     "data": {
      "application/vnd.jupyter.widget-view+json": {
       "model_id": "508f831855ed4257bd1b4d9510df2c17",
       "version_major": 2,
       "version_minor": 0
      },
      "text/plain": [
       "  0%|          | 0/1000 [00:00<?, ?it/s]"
      ]
     },
     "metadata": {},
     "output_type": "display_data"
    },
    {
     "name": "stdout",
     "output_type": "stream",
     "text": [
      "tensor([6, 6])\n",
      "tensor([2, 0])\n",
      "tensor([5, 3])\n",
      "Parameter containing:\n",
      "tensor([[ 0.5619, -0.4887, -1.3923,  0.2175,  0.2931,  0.3860,  2.8554,  1.4553],\n",
      "        [ 1.6183, -1.8336, -1.3480, -0.1470,  1.6507,  0.7674,  2.3858,  0.7473]],\n",
      "       requires_grad=True)\n",
      "Parameter containing:\n",
      "tensor([[ 1.3891, -0.3885,  7.5619,  2.7712, -2.2621, -0.8622, -3.3888, -0.6979],\n",
      "        [12.1851, -1.4900, -0.2231, -1.9282, -0.4707, -1.5552, -1.1939, -0.1217]],\n",
      "       requires_grad=True)\n",
      "Parameter containing:\n",
      "tensor([[ 0.9024,  0.7231,  0.2812,  0.4169, -0.4677,  1.4364,  1.2443,  0.1625],\n",
      "        [ 1.1283,  1.0334,  0.5744,  1.2609,  0.3428,  1.1220, -0.8211,  0.7285]],\n",
      "       requires_grad=True)\n",
      "2.538789987564087 30\n"
     ]
    },
    {
     "data": {
      "application/vnd.jupyter.widget-view+json": {
       "model_id": "824bb8d0253f42c5b345743dca9b1c6e",
       "version_major": 2,
       "version_minor": 0
      },
      "text/plain": [
       "  0%|          | 0/1000 [00:00<?, ?it/s]"
      ]
     },
     "metadata": {},
     "output_type": "display_data"
    },
    {
     "data": {
      "application/vnd.jupyter.widget-view+json": {
       "model_id": "293382eb4c424e5f99004aaa25a02f63",
       "version_major": 2,
       "version_minor": 0
      },
      "text/plain": [
       "  0%|          | 0/1000 [00:00<?, ?it/s]"
      ]
     },
     "metadata": {},
     "output_type": "display_data"
    },
    {
     "name": "stdout",
     "output_type": "stream",
     "text": [
      "tensor([3, 7])\n",
      "tensor([4, 7])\n",
      "tensor([6, 1])\n",
      "Parameter containing:\n",
      "tensor([[ 0.0311,  0.2749,  0.2342,  0.8979,  0.2637,  0.6259,  0.3122,  0.2030],\n",
      "        [ 0.8020,  0.6788,  0.2874,  0.2974, -0.0591,  0.2679,  0.8910,  0.9542]],\n",
      "       requires_grad=True)\n",
      "Parameter containing:\n",
      "tensor([[-0.0143,  0.3075,  0.3041,  0.5121,  0.9663,  0.8926,  0.6817,  0.8329],\n",
      "        [ 0.1107,  0.2144,  0.5389,  0.5270,  0.3056,  0.3687,  0.8074,  0.8324]],\n",
      "       requires_grad=True)\n",
      "Parameter containing:\n",
      "tensor([[0.3277, 0.7503, 0.0672, 0.3822, 0.2978, 0.3562, 0.8805, 0.8131],\n",
      "        [0.7429, 0.9402, 0.0879, 0.1376, 0.2829, 0.3511, 0.3693, 0.4908]],\n",
      "       requires_grad=True)\n",
      "1.2246835033098857 21\n"
     ]
    },
    {
     "data": {
      "application/vnd.jupyter.widget-view+json": {
       "model_id": "bbb89e91945f4a9184ec792fe4075b8d",
       "version_major": 2,
       "version_minor": 0
      },
      "text/plain": [
       "  0%|          | 0/1000 [00:00<?, ?it/s]"
      ]
     },
     "metadata": {},
     "output_type": "display_data"
    },
    {
     "data": {
      "application/vnd.jupyter.widget-view+json": {
       "model_id": "39563f8664054af6923660f2fd2bcff6",
       "version_major": 2,
       "version_minor": 0
      },
      "text/plain": [
       "  0%|          | 0/1000 [00:00<?, ?it/s]"
      ]
     },
     "metadata": {},
     "output_type": "display_data"
    },
    {
     "name": "stdout",
     "output_type": "stream",
     "text": [
      "tensor([0, 1])\n",
      "tensor([4, 4])\n",
      "tensor([7, 0])\n",
      "Parameter containing:\n",
      "tensor([[0.6272, 0.0317, 0.3501, 0.0513, 0.4491, 0.1347, 0.4538, 0.5122],\n",
      "        [0.5881, 0.9895, 0.0904, 0.3605, 0.4949, 0.9841, 0.6767, 0.5246]],\n",
      "       requires_grad=True)\n",
      "Parameter containing:\n",
      "tensor([[0.4960, 0.2432, 0.3516, 0.2540, 0.9988, 0.3916, 0.1431, 0.4155],\n",
      "        [0.2039, 0.4629, 0.2736, 0.4573, 0.8273, 0.4170, 0.1067, 0.1438]],\n",
      "       requires_grad=True)\n",
      "Parameter containing:\n",
      "tensor([[ 0.2505,  0.2215,  0.4966,  0.7419,  0.5362,  0.5968,  0.2566,  1.0112],\n",
      "        [ 1.0577, -0.0011,  0.0272,  0.4002,  0.4630,  0.0271,  0.1738,  0.7828]],\n",
      "       requires_grad=True)\n",
      "0.5923577745755514 30\n"
     ]
    },
    {
     "data": {
      "application/vnd.jupyter.widget-view+json": {
       "model_id": "57ec098936be4357aab8f57fb393d8b3",
       "version_major": 2,
       "version_minor": 0
      },
      "text/plain": [
       "  0%|          | 0/1000 [00:00<?, ?it/s]"
      ]
     },
     "metadata": {},
     "output_type": "display_data"
    },
    {
     "data": {
      "application/vnd.jupyter.widget-view+json": {
       "model_id": "a902748f957e412381b4c57510f3ee2c",
       "version_major": 2,
       "version_minor": 0
      },
      "text/plain": [
       "  0%|          | 0/1000 [00:00<?, ?it/s]"
      ]
     },
     "metadata": {},
     "output_type": "display_data"
    },
    {
     "name": "stdout",
     "output_type": "stream",
     "text": [
      "tensor([7, 5])\n",
      "tensor([6, 2])\n",
      "tensor([1, 6])\n",
      "Parameter containing:\n",
      "tensor([[-0.1862,  1.7120, -0.3002,  1.6185, -0.5292,  0.3237,  0.3872,  1.8277],\n",
      "        [ 1.1667,  0.1454,  0.3866,  0.5749, -0.8258,  1.7547, -0.1888,  0.5151]],\n",
      "       requires_grad=True)\n",
      "Parameter containing:\n",
      "tensor([[-0.0344,  0.4266,  0.8226,  0.3963,  0.5085,  0.9945,  1.0579,  0.8080],\n",
      "        [ 0.6228,  0.4208,  0.8606,  0.3489, -0.0181,  0.4644,  0.1668,  0.3092]],\n",
      "       requires_grad=True)\n",
      "Parameter containing:\n",
      "tensor([[-0.0425,  1.1399,  0.8739,  0.8259, -0.1169,  0.0321,  0.3236,  0.9413],\n",
      "        [-0.0745, -0.8120,  0.9745, -0.0813,  1.2966,  0.1296,  2.4826, -0.4184]],\n",
      "       requires_grad=True)\n",
      "0.7961198488871256 30\n"
     ]
    },
    {
     "data": {
      "application/vnd.jupyter.widget-view+json": {
       "model_id": "466fc56d4ae04cec8f71bbb38a04637c",
       "version_major": 2,
       "version_minor": 0
      },
      "text/plain": [
       "  0%|          | 0/1000 [00:00<?, ?it/s]"
      ]
     },
     "metadata": {},
     "output_type": "display_data"
    },
    {
     "data": {
      "application/vnd.jupyter.widget-view+json": {
       "model_id": "a95ac054cee243af86949a2955699b4a",
       "version_major": 2,
       "version_minor": 0
      },
      "text/plain": [
       "  0%|          | 0/1000 [00:00<?, ?it/s]"
      ]
     },
     "metadata": {},
     "output_type": "display_data"
    },
    {
     "name": "stdout",
     "output_type": "stream",
     "text": [
      "tensor([1, 6])\n",
      "tensor([4, 4])\n",
      "tensor([6, 3])\n",
      "Parameter containing:\n",
      "tensor([[0.7391, 1.0297, 0.8188, 0.4238, 0.9679, 0.8497, 0.2315, 0.4634],\n",
      "        [0.1639, 0.6363, 0.8063, 0.1560, 0.8168, 0.9652, 1.0292, 0.1603]],\n",
      "       requires_grad=True)\n",
      "Parameter containing:\n",
      "tensor([[ 0.7947, -0.0682,  0.4184,  0.8319,  1.1671,  0.2410,  1.0544,  1.1428],\n",
      "        [ 1.0562, -0.1698,  0.5086,  0.8176,  1.1920,  0.7529,  0.2751, -0.2630]],\n",
      "       requires_grad=True)\n",
      "Parameter containing:\n",
      "tensor([[0.2378, 0.4823, 0.4984, 0.4057, 0.2462, 0.0836, 1.0759, 0.3519],\n",
      "        [0.5026, 0.4347, 0.2764, 1.0952, 0.1305, 0.7675, 0.1600, 0.1179]],\n",
      "       requires_grad=True)\n",
      "0.7907640337944031 30\n"
     ]
    },
    {
     "data": {
      "application/vnd.jupyter.widget-view+json": {
       "model_id": "73b0036b89054ee69abb10ef721c543b",
       "version_major": 2,
       "version_minor": 0
      },
      "text/plain": [
       "  0%|          | 0/1000 [00:00<?, ?it/s]"
      ]
     },
     "metadata": {},
     "output_type": "display_data"
    },
    {
     "data": {
      "application/vnd.jupyter.widget-view+json": {
       "model_id": "393359281227481e80bbdc89e4d62b32",
       "version_major": 2,
       "version_minor": 0
      },
      "text/plain": [
       "  0%|          | 0/1000 [00:00<?, ?it/s]"
      ]
     },
     "metadata": {},
     "output_type": "display_data"
    },
    {
     "name": "stdout",
     "output_type": "stream",
     "text": [
      "tensor([1, 1])\n",
      "tensor([0, 7])\n",
      "tensor([2, 7])\n",
      "Parameter containing:\n",
      "tensor([[ 0.8374,  3.2104,  0.8213,  0.5740, -0.2409,  0.8877, -0.6029, -1.1438],\n",
      "        [-0.1794,  3.9900, -1.5387,  0.6392,  0.7061,  1.2422, -1.1945,  0.8484]],\n",
      "       requires_grad=True)\n",
      "Parameter containing:\n",
      "tensor([[ 0.6263,  0.1737, -0.0984,  0.2936,  0.6016,  0.5967,  0.5811,  0.4169],\n",
      "        [ 0.2397,  0.4591,  0.9799,  0.7060,  0.0993,  0.4449,  0.4226,  1.0120]],\n",
      "       requires_grad=True)\n",
      "Parameter containing:\n",
      "tensor([[ 0.4751,  0.8338,  1.1870,  0.2383,  0.2516,  0.1422,  0.0309,  1.0174],\n",
      "        [ 0.5422,  0.8512, -0.2142,  0.0880,  0.0412,  0.4175,  0.8237,  0.9854]],\n",
      "       requires_grad=True)\n",
      "0.8972276051839193 21\n"
     ]
    },
    {
     "data": {
      "application/vnd.jupyter.widget-view+json": {
       "model_id": "3e54a8b014fc4da4aeadf766720f44c9",
       "version_major": 2,
       "version_minor": 0
      },
      "text/plain": [
       "  0%|          | 0/1000 [00:00<?, ?it/s]"
      ]
     },
     "metadata": {},
     "output_type": "display_data"
    },
    {
     "data": {
      "application/vnd.jupyter.widget-view+json": {
       "model_id": "cceae8affee14715aeca3c1492f1be5e",
       "version_major": 2,
       "version_minor": 0
      },
      "text/plain": [
       "  0%|          | 0/1000 [00:00<?, ?it/s]"
      ]
     },
     "metadata": {},
     "output_type": "display_data"
    },
    {
     "name": "stdout",
     "output_type": "stream",
     "text": [
      "tensor([2, 6])\n",
      "tensor([0, 7])\n",
      "tensor([1, 0])\n",
      "Parameter containing:\n",
      "tensor([[0.6552, 0.6492, 0.9920, 0.5104, 0.3728, 0.8930, 0.7521, 0.3451],\n",
      "        [0.2254, 0.5087, 0.1382, 0.1621, 0.2569, 0.6164, 0.8089, 0.5710]],\n",
      "       requires_grad=True)\n",
      "Parameter containing:\n",
      "tensor([[ 1.1234,  0.4397,  0.4847, -0.1533,  0.3209,  0.9658,  0.8424,  0.6593],\n",
      "        [ 0.5146,  0.7212,  0.5614,  0.0693,  0.5364,  0.4272,  0.1289,  0.9430]],\n",
      "       requires_grad=True)\n",
      "Parameter containing:\n",
      "tensor([[0.4644, 0.9334, 0.4776, 0.5931, 0.3434, 0.1749, 0.0625, 0.2996],\n",
      "        [1.1240, 0.3473, 0.0650, 0.5534, 0.7154, 0.3332, 0.9458, 0.9675]],\n",
      "       requires_grad=True)\n",
      "1.273648977279663 30\n"
     ]
    },
    {
     "data": {
      "application/vnd.jupyter.widget-view+json": {
       "model_id": "74100ec1f1454c79b4332a4584b9a48c",
       "version_major": 2,
       "version_minor": 0
      },
      "text/plain": [
       "  0%|          | 0/1000 [00:00<?, ?it/s]"
      ]
     },
     "metadata": {},
     "output_type": "display_data"
    },
    {
     "data": {
      "application/vnd.jupyter.widget-view+json": {
       "model_id": "33a736b400574edcbead69f88f5b8a96",
       "version_major": 2,
       "version_minor": 0
      },
      "text/plain": [
       "  0%|          | 0/1000 [00:00<?, ?it/s]"
      ]
     },
     "metadata": {},
     "output_type": "display_data"
    },
    {
     "name": "stdout",
     "output_type": "stream",
     "text": [
      "tensor([1, 5])\n",
      "tensor([5, 7])\n",
      "tensor([0, 5])\n",
      "Parameter containing:\n",
      "tensor([[ 0.6880,  6.2486,  0.8523,  0.4268,  0.5984, -2.5869, -0.1083, -0.8295],\n",
      "        [-1.2879, -1.0065, -0.0128,  0.1277, -2.7553,  7.7448,  1.6255, -0.1810]],\n",
      "       requires_grad=True)\n",
      "Parameter containing:\n",
      "tensor([[0.7061, 0.3756, 0.2922, 0.3888, 0.2147, 0.8301, 0.5722, 0.5154],\n",
      "        [0.3940, 0.2035, 0.4032, 0.0967, 0.5909, 0.4127, 0.0265, 0.7451]],\n",
      "       requires_grad=True)\n",
      "Parameter containing:\n",
      "tensor([[ 2.0895, -1.4866,  0.6748,  0.4940,  0.7038,  0.3171,  0.3191,  1.1204],\n",
      "        [-0.9704,  0.1523,  0.8733,  0.7360, -0.6844,  2.7988,  0.2170,  0.5199]],\n",
      "       requires_grad=True)\n",
      "2.2572301626205444 21\n"
     ]
    },
    {
     "data": {
      "application/vnd.jupyter.widget-view+json": {
       "model_id": "149eaa1b561142cbaf921c1e66ff5b85",
       "version_major": 2,
       "version_minor": 0
      },
      "text/plain": [
       "  0%|          | 0/1000 [00:00<?, ?it/s]"
      ]
     },
     "metadata": {},
     "output_type": "display_data"
    },
    {
     "data": {
      "application/vnd.jupyter.widget-view+json": {
       "model_id": "a189c6f661424b669a8fd61376d2b7a9",
       "version_major": 2,
       "version_minor": 0
      },
      "text/plain": [
       "  0%|          | 0/1000 [00:00<?, ?it/s]"
      ]
     },
     "metadata": {},
     "output_type": "display_data"
    },
    {
     "name": "stdout",
     "output_type": "stream",
     "text": [
      "tensor([3, 3])\n",
      "tensor([4, 0])\n",
      "tensor([0, 3])\n",
      "Parameter containing:\n",
      "tensor([[0.9220, 0.6225, 0.3598, 0.9784, 0.5239, 0.7275, 0.2029, 0.4209],\n",
      "        [0.7211, 0.5317, 0.1443, 0.7923, 0.4380, 0.2654, 0.4294, 0.6927]],\n",
      "       requires_grad=True)\n",
      "Parameter containing:\n",
      "tensor([[0.4844, 0.4565, 0.4757, 0.3162, 0.5119, 0.0217, 0.1305, 0.3610],\n",
      "        [0.7796, 0.4513, 0.6106, 0.7481, 0.6511, 0.2512, 0.6133, 0.4495]],\n",
      "       requires_grad=True)\n",
      "Parameter containing:\n",
      "tensor([[ 1.4404, -0.1325,  0.8343,  0.7008,  0.5859,  0.6243, -0.1242,  0.6290],\n",
      "        [ 0.2413,  0.8857,  0.8323,  1.1287, -0.1544,  0.1552,  0.0382,  0.0605]],\n",
      "       requires_grad=True)\n",
      "1.2132111191749573 21\n"
     ]
    },
    {
     "data": {
      "application/vnd.jupyter.widget-view+json": {
       "model_id": "8df4eb00b3d842c8bbc70f62f7348252",
       "version_major": 2,
       "version_minor": 0
      },
      "text/plain": [
       "  0%|          | 0/1000 [00:00<?, ?it/s]"
      ]
     },
     "metadata": {},
     "output_type": "display_data"
    },
    {
     "data": {
      "application/vnd.jupyter.widget-view+json": {
       "model_id": "09bde9764daf4348b37d60145a518e90",
       "version_major": 2,
       "version_minor": 0
      },
      "text/plain": [
       "  0%|          | 0/1000 [00:00<?, ?it/s]"
      ]
     },
     "metadata": {},
     "output_type": "display_data"
    },
    {
     "name": "stdout",
     "output_type": "stream",
     "text": [
      "tensor([1, 5])\n",
      "tensor([2, 7])\n",
      "tensor([0, 0])\n",
      "Parameter containing:\n",
      "tensor([[ 0.3195,  6.2223, -0.4623, -2.1542,  0.4725, -0.5966, -0.6237,  0.2966],\n",
      "        [-1.5115, -2.9724,  1.1729,  2.5331, -3.7749,  8.0542,  0.3930,  0.6093]],\n",
      "       requires_grad=True)\n",
      "Parameter containing:\n",
      "tensor([[ 0.5156, -0.0060,  0.7290,  0.5657,  0.4292,  0.2422, -0.0072,  0.2679],\n",
      "        [ 0.6002,  0.2915, -0.0135,  0.2060,  0.7195,  0.2221,  0.7126,  1.0592]],\n",
      "       requires_grad=True)\n",
      "Parameter containing:\n",
      "tensor([[0.7572, 0.5240, 0.7258, 0.5537, 0.4133, 0.1504, 0.2047, 0.3133],\n",
      "        [0.9373, 0.3368, 0.3826, 0.9207, 0.0627, 0.5318, 0.8797, 0.4720]],\n",
      "       requires_grad=True)\n",
      "1.0467012325922649 30\n"
     ]
    },
    {
     "data": {
      "application/vnd.jupyter.widget-view+json": {
       "model_id": "76b9e0ec0be246e58862cb96734e886c",
       "version_major": 2,
       "version_minor": 0
      },
      "text/plain": [
       "  0%|          | 0/1000 [00:00<?, ?it/s]"
      ]
     },
     "metadata": {},
     "output_type": "display_data"
    },
    {
     "data": {
      "application/vnd.jupyter.widget-view+json": {
       "model_id": "2ccfc7062d6144539dfaf28612588a05",
       "version_major": 2,
       "version_minor": 0
      },
      "text/plain": [
       "  0%|          | 0/1000 [00:00<?, ?it/s]"
      ]
     },
     "metadata": {},
     "output_type": "display_data"
    },
    {
     "name": "stdout",
     "output_type": "stream",
     "text": [
      "tensor([2, 4])\n",
      "tensor([0, 1])\n",
      "tensor([6, 1])\n",
      "Parameter containing:\n",
      "tensor([[ 0.3135,  0.7193,  0.8950, -0.1793,  0.6034,  0.6148,  0.3511,  0.0099],\n",
      "        [ 0.3720,  0.2821,  0.3850,  0.7412,  0.7906,  0.6068,  0.6098,  0.6355]],\n",
      "       requires_grad=True)\n",
      "Parameter containing:\n",
      "tensor([[ 8.1947, -0.9671,  0.2515,  0.1140,  5.0375, -1.5209, -1.6865, -4.9179],\n",
      "        [-2.8600, 12.0383, -1.0578, -1.9121,  2.3586, -2.3550,  1.8448, -4.0896]],\n",
      "       requires_grad=True)\n",
      "Parameter containing:\n",
      "tensor([[ 0.6779, -2.0417, -0.4954, -0.2813, -0.7294,  1.1271,  6.1425, -0.3675],\n",
      "        [ 0.1776,  7.1846,  1.7894, -1.1307, -1.1123, -0.6149, -2.0695, -1.6427]],\n",
      "       requires_grad=True)\n",
      "1.371602217356364 21\n"
     ]
    },
    {
     "data": {
      "application/vnd.jupyter.widget-view+json": {
       "model_id": "b80950808c334fc4956d8181eea6f473",
       "version_major": 2,
       "version_minor": 0
      },
      "text/plain": [
       "  0%|          | 0/1000 [00:00<?, ?it/s]"
      ]
     },
     "metadata": {},
     "output_type": "display_data"
    },
    {
     "data": {
      "application/vnd.jupyter.widget-view+json": {
       "model_id": "33eab6e9b523416fb3d397b71eae9db4",
       "version_major": 2,
       "version_minor": 0
      },
      "text/plain": [
       "  0%|          | 0/1000 [00:00<?, ?it/s]"
      ]
     },
     "metadata": {},
     "output_type": "display_data"
    },
    {
     "name": "stdout",
     "output_type": "stream",
     "text": [
      "tensor([1, 3])\n",
      "tensor([7, 4])\n",
      "tensor([7, 3])\n",
      "Parameter containing:\n",
      "tensor([[0.5741, 1.0106, 0.4238, 0.2245, 0.9409, 0.6718, 0.5197, 0.7547],\n",
      "        [0.8878, 0.7887, 0.2043, 0.9430, 0.5977, 0.1419, 0.4050, 0.5627]],\n",
      "       requires_grad=True)\n",
      "Parameter containing:\n",
      "tensor([[ 0.1984,  0.7091,  0.0652,  0.5808,  0.6727,  0.0980,  0.2566,  1.1020],\n",
      "        [ 0.0122, -0.0492,  0.2765,  0.1304,  0.9701,  0.9040,  0.3596,  0.2491]],\n",
      "       requires_grad=True)\n",
      "Parameter containing:\n",
      "tensor([[ 0.4213, -0.6894, -0.5078,  0.5413,  0.7048,  0.5393, -0.1351,  2.5519],\n",
      "        [ 0.7991,  1.0593, -0.2352,  1.6670,  1.2240, -0.2186, -0.0115, -0.0828]],\n",
      "       requires_grad=True)\n",
      "0.8394970496495565 20\n"
     ]
    },
    {
     "data": {
      "application/vnd.jupyter.widget-view+json": {
       "model_id": "ae9249f11a834114b5650b94c43746ee",
       "version_major": 2,
       "version_minor": 0
      },
      "text/plain": [
       "  0%|          | 0/1000 [00:00<?, ?it/s]"
      ]
     },
     "metadata": {},
     "output_type": "display_data"
    },
    {
     "data": {
      "application/vnd.jupyter.widget-view+json": {
       "model_id": "a1db125fe4e64e9182eabe78f3c9d4be",
       "version_major": 2,
       "version_minor": 0
      },
      "text/plain": [
       "  0%|          | 0/1000 [00:00<?, ?it/s]"
      ]
     },
     "metadata": {},
     "output_type": "display_data"
    },
    {
     "name": "stdout",
     "output_type": "stream",
     "text": [
      "tensor([2, 2])\n",
      "tensor([5, 7])\n",
      "tensor([4, 6])\n",
      "Parameter containing:\n",
      "tensor([[-0.0319,  0.2405,  0.8812,  0.5542,  0.6697,  0.6379,  0.4850,  0.8343],\n",
      "        [ 0.1696,  0.6677,  0.8611,  0.7660,  0.1352,  0.3483,  0.6564,  0.3755]],\n",
      "       requires_grad=True)\n",
      "Parameter containing:\n",
      "tensor([[ 0.6992,  0.0420,  0.6765,  0.8064,  0.2540,  1.0301,  0.6514,  0.4166],\n",
      "        [ 0.3504,  0.5595, -0.0046,  0.3418,  0.6384,  0.0200, -0.0118,  0.9717]],\n",
      "       requires_grad=True)\n",
      "Parameter containing:\n",
      "tensor([[ 0.2126,  0.4613,  0.1112, -0.3821,  1.7685,  0.9562,  1.0773,  0.0123],\n",
      "        [ 1.0041,  0.2069,  1.3412,  0.9637,  0.3141,  1.1055,  1.3560, -0.3006]],\n",
      "       requires_grad=True)\n",
      "0.9659113089243571 30\n"
     ]
    },
    {
     "data": {
      "application/vnd.jupyter.widget-view+json": {
       "model_id": "7dd79c40becc4e7faa50aac888fe2313",
       "version_major": 2,
       "version_minor": 0
      },
      "text/plain": [
       "  0%|          | 0/1000 [00:00<?, ?it/s]"
      ]
     },
     "metadata": {},
     "output_type": "display_data"
    },
    {
     "data": {
      "application/vnd.jupyter.widget-view+json": {
       "model_id": "647e509839ad480e8ee12924a11752de",
       "version_major": 2,
       "version_minor": 0
      },
      "text/plain": [
       "  0%|          | 0/1000 [00:00<?, ?it/s]"
      ]
     },
     "metadata": {},
     "output_type": "display_data"
    },
    {
     "name": "stdout",
     "output_type": "stream",
     "text": [
      "tensor([7, 1])\n",
      "tensor([4, 2])\n",
      "tensor([1, 1])\n",
      "Parameter containing:\n",
      "tensor([[-0.0102,  0.9240,  0.3680,  0.6052,  0.4565,  0.9093,  0.9300,  0.9409],\n",
      "        [ 0.1252,  1.0487,  0.5478,  0.6492,  0.7200,  0.6276, -0.0235,  0.1231]],\n",
      "       requires_grad=True)\n",
      "Parameter containing:\n",
      "tensor([[ 0.4612,  2.0181, -0.8788, -0.8536,  2.2070,  0.1916,  1.3755, -0.2554],\n",
      "        [-0.1959, -1.0194,  6.7859, -0.1973,  1.0975, -0.4400, -0.0080, -0.9598]],\n",
      "       requires_grad=True)\n",
      "Parameter containing:\n",
      "tensor([[0.8172, 0.8789, 0.7030, 0.1784, 0.0780, 0.7663, 0.5264, 0.8536],\n",
      "        [0.2652, 1.0739, 0.2192, 0.1550, 0.4041, 0.8497, 0.0780, 0.2824]],\n",
      "       requires_grad=True)\n",
      "0.7287692030270895 21\n",
      "[Parameter containing:\n",
      "tensor([[-0.0102,  0.9240,  0.3680,  0.6052,  0.4565,  0.9093,  0.9300,  0.9409],\n",
      "        [ 0.1252,  1.0487,  0.5478,  0.6492,  0.7200,  0.6276, -0.0235,  0.1231]],\n",
      "       requires_grad=True), Parameter containing:\n",
      "tensor([[ 0.4612,  2.0181, -0.8788, -0.8536,  2.2070,  0.1916,  1.3755, -0.2554],\n",
      "        [-0.1959, -1.0194,  6.7859, -0.1973,  1.0975, -0.4400, -0.0080, -0.9598]],\n",
      "       requires_grad=True), Parameter containing:\n",
      "tensor([[0.8172, 0.8789, 0.7030, 0.1784, 0.0780, 0.7663, 0.5264, 0.8536],\n",
      "        [0.2652, 1.0739, 0.2192, 0.1550, 0.4041, 0.8497, 0.0780, 0.2824]],\n",
      "       requires_grad=True)]\n",
      "Parameter containing:\n",
      "tensor([13.6159], requires_grad=True)\n",
      "Parameter containing:\n",
      "tensor([51.1688], requires_grad=True)\n",
      "Parameter containing:\n",
      "tensor([58.6783], requires_grad=True)\n",
      "Parameter containing:\n",
      "tensor([148.3972], requires_grad=True)\n",
      "Parameter containing:\n",
      "tensor([96.3223], requires_grad=True)\n",
      "Parameter containing:\n",
      "tensor([-95.5431], requires_grad=True)\n",
      "Parameter containing:\n",
      "tensor([27.9370], requires_grad=True)\n",
      "Parameter containing:\n",
      "tensor([-38.8572], requires_grad=True)\n"
     ]
    },
    {
     "data": {
      "application/vnd.jupyter.widget-view+json": {
       "model_id": "6f20bde8f6074ac4b1fa2d6d528095ae",
       "version_major": 2,
       "version_minor": 0
      },
      "text/plain": [
       "  0%|          | 0/1000 [00:00<?, ?it/s]"
      ]
     },
     "metadata": {},
     "output_type": "display_data"
    },
    {
     "data": {
      "application/vnd.jupyter.widget-view+json": {
       "model_id": "2f206c73edbe47e9b423bf45d637db2a",
       "version_major": 2,
       "version_minor": 0
      },
      "text/plain": [
       "  0%|          | 0/1000 [00:00<?, ?it/s]"
      ]
     },
     "metadata": {},
     "output_type": "display_data"
    },
    {
     "name": "stdout",
     "output_type": "stream",
     "text": [
      "tensor([1, 3])\n",
      "tensor([2, 1])\n",
      "tensor([0, 3])\n",
      "tensor([0, 0])\n",
      "Parameter containing:\n",
      "tensor([[0.9310, 0.9689, 0.2900, 0.9495],\n",
      "        [0.2862, 0.6840, 0.0937, 0.9777]], requires_grad=True)\n",
      "Parameter containing:\n",
      "tensor([[ 0.0195,  0.3864,  2.4323, -0.2360],\n",
      "        [ 0.8867,  3.3378, -0.6384, -0.9785]], requires_grad=True)\n",
      "Parameter containing:\n",
      "tensor([[ 3.5931, -0.2584, -0.9031, -0.0782],\n",
      "        [-0.9535,  0.1122,  0.6523,  2.0287]], requires_grad=True)\n",
      "Parameter containing:\n",
      "tensor([[ 4.6011, -0.9525, -1.1873, -1.5284],\n",
      "        [ 4.3398, -0.7320, -0.3245, -1.7032]], requires_grad=True)\n",
      "1.1222872883081436 30\n"
     ]
    },
    {
     "data": {
      "application/vnd.jupyter.widget-view+json": {
       "model_id": "5e141d19d7894ed9bcde537ae317de40",
       "version_major": 2,
       "version_minor": 0
      },
      "text/plain": [
       "  0%|          | 0/1000 [00:00<?, ?it/s]"
      ]
     },
     "metadata": {},
     "output_type": "display_data"
    },
    {
     "data": {
      "application/vnd.jupyter.widget-view+json": {
       "model_id": "1bde5aa1a82048e38786a82c93c7b5e7",
       "version_major": 2,
       "version_minor": 0
      },
      "text/plain": [
       "  0%|          | 0/1000 [00:00<?, ?it/s]"
      ]
     },
     "metadata": {},
     "output_type": "display_data"
    },
    {
     "name": "stdout",
     "output_type": "stream",
     "text": [
      "tensor([0, 2])\n",
      "tensor([2, 0])\n",
      "tensor([2, 3])\n",
      "tensor([1, 0])\n",
      "Parameter containing:\n",
      "tensor([[ 0.7089,  0.0469,  0.5995,  0.5623],\n",
      "        [ 0.3124, -0.1366,  0.5274,  0.1876]], requires_grad=True)\n",
      "Parameter containing:\n",
      "tensor([[0.7517, 0.4779, 1.0390, 0.1773],\n",
      "        [0.8977, 0.3063, 0.2531, 0.8389]], requires_grad=True)\n",
      "Parameter containing:\n",
      "tensor([[ 0.1546,  0.2018,  0.9011,  0.4419],\n",
      "        [-0.2145,  0.1773,  0.4281,  1.6558]], requires_grad=True)\n",
      "Parameter containing:\n",
      "tensor([[0.1106, 0.8953, 0.5289, 0.4108],\n",
      "        [0.9022, 0.2796, 0.6017, 0.2701]], requires_grad=True)\n",
      "1.1199121177196503 30\n"
     ]
    },
    {
     "data": {
      "application/vnd.jupyter.widget-view+json": {
       "model_id": "8f9ed7aa246740f4a4d396152f1a0a59",
       "version_major": 2,
       "version_minor": 0
      },
      "text/plain": [
       "  0%|          | 0/1000 [00:00<?, ?it/s]"
      ]
     },
     "metadata": {},
     "output_type": "display_data"
    },
    {
     "data": {
      "application/vnd.jupyter.widget-view+json": {
       "model_id": "87dd9d01f98144e1b697ddefac50d61f",
       "version_major": 2,
       "version_minor": 0
      },
      "text/plain": [
       "  0%|          | 0/1000 [00:00<?, ?it/s]"
      ]
     },
     "metadata": {},
     "output_type": "display_data"
    },
    {
     "name": "stdout",
     "output_type": "stream",
     "text": [
      "tensor([0, 1])\n",
      "tensor([0, 2])\n",
      "tensor([2, 2])\n",
      "tensor([3, 0])\n",
      "Parameter containing:\n",
      "tensor([[0.9679, 0.7222, 0.3666, 0.3557],\n",
      "        [0.5207, 0.8788, 0.3902, 0.0674]], requires_grad=True)\n",
      "Parameter containing:\n",
      "tensor([[ 0.9617,  0.9457,  0.7969,  0.9002],\n",
      "        [ 0.6486, -0.1073,  0.7992,  0.5859]], requires_grad=True)\n",
      "Parameter containing:\n",
      "tensor([[0.5109, 0.5744, 0.7532, 0.4845],\n",
      "        [0.8711, 0.8245, 0.9894, 0.2220]], requires_grad=True)\n",
      "Parameter containing:\n",
      "tensor([[-0.5710, -0.1745,  0.3789,  1.9933],\n",
      "        [ 1.2374,  0.0385,  0.1070,  0.7829]], requires_grad=True)\n",
      "0.5684142112731934 30\n"
     ]
    },
    {
     "data": {
      "application/vnd.jupyter.widget-view+json": {
       "model_id": "437f31ffdead439bb9a8f5a20476e1ee",
       "version_major": 2,
       "version_minor": 0
      },
      "text/plain": [
       "  0%|          | 0/1000 [00:00<?, ?it/s]"
      ]
     },
     "metadata": {},
     "output_type": "display_data"
    },
    {
     "data": {
      "application/vnd.jupyter.widget-view+json": {
       "model_id": "64d88581cbb44497a9172974726d4964",
       "version_major": 2,
       "version_minor": 0
      },
      "text/plain": [
       "  0%|          | 0/1000 [00:00<?, ?it/s]"
      ]
     },
     "metadata": {},
     "output_type": "display_data"
    },
    {
     "name": "stdout",
     "output_type": "stream",
     "text": [
      "tensor([3, 1])\n",
      "tensor([0, 2])\n",
      "tensor([3, 3])\n",
      "tensor([1, 2])\n",
      "Parameter containing:\n",
      "tensor([[ 0.2069,  0.7475,  0.3918,  1.3843],\n",
      "        [ 0.1901,  0.7672,  0.6916, -0.2001]], requires_grad=True)\n",
      "Parameter containing:\n",
      "tensor([[ 0.7351,  0.1081,  0.2885, -0.0569],\n",
      "        [ 0.4572,  0.2204,  0.7568,  0.5697]], requires_grad=True)\n",
      "Parameter containing:\n",
      "tensor([[ 0.8734,  0.4858,  0.6131,  0.9596],\n",
      "        [ 0.2289, -0.0190,  0.3051,  1.1894]], requires_grad=True)\n",
      "Parameter containing:\n",
      "tensor([[0.3202, 0.8792, 0.6861, 0.2783],\n",
      "        [0.2627, 0.5825, 0.6707, 0.5067]], requires_grad=True)\n",
      "0.9854388236999512 30\n"
     ]
    },
    {
     "data": {
      "application/vnd.jupyter.widget-view+json": {
       "model_id": "63f08f444fac492ca08a433b9ed4215e",
       "version_major": 2,
       "version_minor": 0
      },
      "text/plain": [
       "  0%|          | 0/1000 [00:00<?, ?it/s]"
      ]
     },
     "metadata": {},
     "output_type": "display_data"
    },
    {
     "data": {
      "application/vnd.jupyter.widget-view+json": {
       "model_id": "74100bd0631345b7b834ad021bf04f36",
       "version_major": 2,
       "version_minor": 0
      },
      "text/plain": [
       "  0%|          | 0/1000 [00:00<?, ?it/s]"
      ]
     },
     "metadata": {},
     "output_type": "display_data"
    },
    {
     "name": "stdout",
     "output_type": "stream",
     "text": [
      "tensor([0, 1])\n",
      "tensor([3, 3])\n",
      "tensor([1, 2])\n",
      "tensor([1, 1])\n",
      "Parameter containing:\n",
      "tensor([[0.6243, 0.0842, 0.5396, 0.1501],\n",
      "        [0.7853, 0.8223, 0.0591, 0.4578]], requires_grad=True)\n",
      "Parameter containing:\n",
      "tensor([[-1.1993, -4.2257,  1.9976,  4.8845],\n",
      "        [-1.6062, -2.6679, -0.1648,  7.5652]], requires_grad=True)\n",
      "Parameter containing:\n",
      "tensor([[-0.2630,  4.8113, -0.9296, -0.9268],\n",
      "        [ 0.2117, -0.8897,  3.5255, -1.2672]], requires_grad=True)\n",
      "Parameter containing:\n",
      "tensor([[-0.1406,  1.7430,  0.2026,  0.1692],\n",
      "        [ 1.2721,  1.6195,  0.4271,  0.4291]], requires_grad=True)\n",
      "0.6114194691181183 30\n"
     ]
    },
    {
     "data": {
      "application/vnd.jupyter.widget-view+json": {
       "model_id": "a41e144bb15c4cf5b98e58518b61761e",
       "version_major": 2,
       "version_minor": 0
      },
      "text/plain": [
       "  0%|          | 0/1000 [00:00<?, ?it/s]"
      ]
     },
     "metadata": {},
     "output_type": "display_data"
    },
    {
     "data": {
      "application/vnd.jupyter.widget-view+json": {
       "model_id": "d59b850bd47b4f2b8eb8e63f1136f8b4",
       "version_major": 2,
       "version_minor": 0
      },
      "text/plain": [
       "  0%|          | 0/1000 [00:00<?, ?it/s]"
      ]
     },
     "metadata": {},
     "output_type": "display_data"
    },
    {
     "name": "stdout",
     "output_type": "stream",
     "text": [
      "tensor([2, 2])\n",
      "tensor([3, 0])\n",
      "tensor([2, 0])\n",
      "tensor([1, 1])\n",
      "Parameter containing:\n",
      "tensor([[-1.5004, -0.0913,  2.7048,  0.3333],\n",
      "        [-1.8526,  0.2724,  4.6035, -0.4448]], requires_grad=True)\n",
      "Parameter containing:\n",
      "tensor([[-1.1546, -0.3425,  0.9211,  2.7445],\n",
      "        [ 1.0007,  0.7580,  0.0080, -0.6386]], requires_grad=True)\n",
      "Parameter containing:\n",
      "tensor([[0.4337, 0.1506, 0.5430, 0.1995],\n",
      "        [0.9143, 0.1883, 0.1478, 0.3128]], requires_grad=True)\n",
      "Parameter containing:\n",
      "tensor([[0.2249, 0.9647, 0.5424, 0.4181],\n",
      "        [0.0425, 0.5935, 0.5140, 0.3652]], requires_grad=True)\n",
      "1.029593512415886 30\n"
     ]
    },
    {
     "data": {
      "application/vnd.jupyter.widget-view+json": {
       "model_id": "d3cc1809def94038b946ab4ff8c60fa0",
       "version_major": 2,
       "version_minor": 0
      },
      "text/plain": [
       "  0%|          | 0/1000 [00:00<?, ?it/s]"
      ]
     },
     "metadata": {},
     "output_type": "display_data"
    },
    {
     "data": {
      "application/vnd.jupyter.widget-view+json": {
       "model_id": "56c8ac7c13484f56a381e160fdcf1c21",
       "version_major": 2,
       "version_minor": 0
      },
      "text/plain": [
       "  0%|          | 0/1000 [00:00<?, ?it/s]"
      ]
     },
     "metadata": {},
     "output_type": "display_data"
    },
    {
     "name": "stdout",
     "output_type": "stream",
     "text": [
      "tensor([0, 0])\n",
      "tensor([0, 1])\n",
      "tensor([1, 2])\n",
      "tensor([3, 3])\n",
      "Parameter containing:\n",
      "tensor([[0.4965, 0.1206, 0.2875, 0.2122],\n",
      "        [0.8690, 0.5384, 0.7987, 0.5654]], requires_grad=True)\n",
      "Parameter containing:\n",
      "tensor([[0.8066, 0.5785, 0.0795, 0.4341],\n",
      "        [0.3632, 0.8343, 0.5003, 0.2445]], requires_grad=True)\n",
      "Parameter containing:\n",
      "tensor([[ 0.8277,  1.3605,  0.1945, -0.1623],\n",
      "        [ 0.8672, -0.0661,  1.2094, -0.1082]], requires_grad=True)\n",
      "Parameter containing:\n",
      "tensor([[0.7007, 0.3389, 0.5150, 1.0113],\n",
      "        [0.2775, 0.6973, 0.8097, 0.8519]], requires_grad=True)\n",
      "0.8237058445811272 39\n"
     ]
    },
    {
     "data": {
      "application/vnd.jupyter.widget-view+json": {
       "model_id": "88a2ac1ed0f44cf682ea9c7ff840e6ba",
       "version_major": 2,
       "version_minor": 0
      },
      "text/plain": [
       "  0%|          | 0/1000 [00:00<?, ?it/s]"
      ]
     },
     "metadata": {},
     "output_type": "display_data"
    },
    {
     "data": {
      "application/vnd.jupyter.widget-view+json": {
       "model_id": "888a2ae664a44cd4a1d07a747be29c00",
       "version_major": 2,
       "version_minor": 0
      },
      "text/plain": [
       "  0%|          | 0/1000 [00:00<?, ?it/s]"
      ]
     },
     "metadata": {},
     "output_type": "display_data"
    },
    {
     "name": "stdout",
     "output_type": "stream",
     "text": [
      "tensor([3, 1])\n",
      "tensor([0, 1])\n",
      "tensor([1, 2])\n",
      "tensor([2, 3])\n",
      "Parameter containing:\n",
      "tensor([[-0.0604,  0.2808,  0.3274,  0.9504],\n",
      "        [ 0.1366,  0.6478,  0.2794,  0.2809]], requires_grad=True)\n",
      "Parameter containing:\n",
      "tensor([[ 0.7216,  0.3341,  0.3428,  0.5596],\n",
      "        [-0.0266,  0.9984,  0.3415,  0.8480]], requires_grad=True)\n",
      "Parameter containing:\n",
      "tensor([[ 2.3753,  9.2067, -9.3544, -0.8771],\n",
      "        [ 0.1145, -6.5029,  7.8072,  1.7135]], requires_grad=True)\n",
      "Parameter containing:\n",
      "tensor([[0.1481, 0.2495, 0.6749, 0.6420],\n",
      "        [0.3805, 0.1940, 0.5324, 0.8833]], requires_grad=True)\n",
      "0.6632617115974426 31\n"
     ]
    },
    {
     "data": {
      "application/vnd.jupyter.widget-view+json": {
       "model_id": "496cdbbb776e460291f6db4433c6d2a0",
       "version_major": 2,
       "version_minor": 0
      },
      "text/plain": [
       "  0%|          | 0/1000 [00:00<?, ?it/s]"
      ]
     },
     "metadata": {},
     "output_type": "display_data"
    },
    {
     "data": {
      "application/vnd.jupyter.widget-view+json": {
       "model_id": "092e5fff02934ffaa63458cab1992bbb",
       "version_major": 2,
       "version_minor": 0
      },
      "text/plain": [
       "  0%|          | 0/1000 [00:00<?, ?it/s]"
      ]
     },
     "metadata": {},
     "output_type": "display_data"
    },
    {
     "name": "stdout",
     "output_type": "stream",
     "text": [
      "tensor([0, 2])\n",
      "tensor([2, 1])\n",
      "tensor([1, 0])\n",
      "tensor([3, 0])\n",
      "Parameter containing:\n",
      "tensor([[0.4960, 0.1986, 0.2717, 0.1501],\n",
      "        [0.4625, 0.1276, 0.6041, 0.2994]], requires_grad=True)\n",
      "Parameter containing:\n",
      "tensor([[ 0.2556,  0.5590,  0.8017,  0.4675],\n",
      "        [ 0.8957,  3.4452, -1.1210, -0.5950]], requires_grad=True)\n",
      "Parameter containing:\n",
      "tensor([[ 0.6771,  0.7834, -0.0034,  0.3152],\n",
      "        [ 1.1524, -0.1652,  0.4946,  0.0396]], requires_grad=True)\n",
      "Parameter containing:\n",
      "tensor([[0.3410, 0.4291, 0.0544, 0.5252],\n",
      "        [0.5266, 0.1337, 0.4920, 0.3906]], requires_grad=True)\n",
      "0.7494066208600998 31\n"
     ]
    },
    {
     "data": {
      "application/vnd.jupyter.widget-view+json": {
       "model_id": "4429623a01a94b52bb68e5d201080aa8",
       "version_major": 2,
       "version_minor": 0
      },
      "text/plain": [
       "  0%|          | 0/1000 [00:00<?, ?it/s]"
      ]
     },
     "metadata": {},
     "output_type": "display_data"
    },
    {
     "data": {
      "application/vnd.jupyter.widget-view+json": {
       "model_id": "5885a8470a2b45c2bee18fe6a00f079a",
       "version_major": 2,
       "version_minor": 0
      },
      "text/plain": [
       "  0%|          | 0/1000 [00:00<?, ?it/s]"
      ]
     },
     "metadata": {},
     "output_type": "display_data"
    },
    {
     "name": "stdout",
     "output_type": "stream",
     "text": [
      "tensor([0, 3])\n",
      "tensor([3, 3])\n",
      "tensor([2, 3])\n",
      "tensor([2, 1])\n",
      "Parameter containing:\n",
      "tensor([[ 4.1530, -0.7097, -0.4336, -0.4802],\n",
      "        [ 0.3970, -1.2362, -0.2551,  3.4182]], requires_grad=True)\n",
      "Parameter containing:\n",
      "tensor([[ 0.6466,  0.1758, -0.0364,  0.8492],\n",
      "        [ 0.4849,  0.5263,  0.1530,  0.7294]], requires_grad=True)\n",
      "Parameter containing:\n",
      "tensor([[ 0.1582, -0.0084,  1.1507,  0.4976],\n",
      "        [ 0.6216,  0.8142,  0.7517,  0.9945]], requires_grad=True)\n",
      "Parameter containing:\n",
      "tensor([[0.5627, 0.5552, 0.9584, 0.2424],\n",
      "        [0.0347, 0.4427, 0.2193, 0.1600]], requires_grad=True)\n",
      "0.7592117786407471 21\n"
     ]
    },
    {
     "data": {
      "application/vnd.jupyter.widget-view+json": {
       "model_id": "677c166faa744b4796f6f8a284303484",
       "version_major": 2,
       "version_minor": 0
      },
      "text/plain": [
       "  0%|          | 0/1000 [00:00<?, ?it/s]"
      ]
     },
     "metadata": {},
     "output_type": "display_data"
    },
    {
     "data": {
      "application/vnd.jupyter.widget-view+json": {
       "model_id": "6d871dc966a14feeb28626bd0d7f3467",
       "version_major": 2,
       "version_minor": 0
      },
      "text/plain": [
       "  0%|          | 0/1000 [00:00<?, ?it/s]"
      ]
     },
     "metadata": {},
     "output_type": "display_data"
    },
    {
     "name": "stdout",
     "output_type": "stream",
     "text": [
      "tensor([1, 3])\n",
      "tensor([2, 2])\n",
      "tensor([2, 0])\n",
      "tensor([2, 2])\n",
      "Parameter containing:\n",
      "tensor([[0.6122, 1.0965, 0.4400, 0.4785],\n",
      "        [0.5669, 0.7167, 0.4623, 1.1508]], requires_grad=True)\n",
      "Parameter containing:\n",
      "tensor([[0.1235, 0.5529, 0.9391, 0.0875],\n",
      "        [0.8703, 0.9168, 0.9874, 0.2565]], requires_grad=True)\n",
      "Parameter containing:\n",
      "tensor([[ 0.7799,  0.8655,  1.0550, -0.3200],\n",
      "        [ 1.0022,  0.7936,  0.6077,  0.7982]], requires_grad=True)\n",
      "Parameter containing:\n",
      "tensor([[0.4218, 0.0752, 1.1760, 1.0918],\n",
      "        [0.3335, 0.1995, 0.5775, 0.2942]], requires_grad=True)\n",
      "1.5651326328516006 29\n"
     ]
    },
    {
     "data": {
      "application/vnd.jupyter.widget-view+json": {
       "model_id": "22d39c169ca3412aae172eced1ebf88f",
       "version_major": 2,
       "version_minor": 0
      },
      "text/plain": [
       "  0%|          | 0/1000 [00:00<?, ?it/s]"
      ]
     },
     "metadata": {},
     "output_type": "display_data"
    },
    {
     "data": {
      "application/vnd.jupyter.widget-view+json": {
       "model_id": "6550b5589a36426798e073c7528388c3",
       "version_major": 2,
       "version_minor": 0
      },
      "text/plain": [
       "  0%|          | 0/1000 [00:00<?, ?it/s]"
      ]
     },
     "metadata": {},
     "output_type": "display_data"
    },
    {
     "name": "stdout",
     "output_type": "stream",
     "text": [
      "tensor([0, 3])\n",
      "tensor([3, 2])\n",
      "tensor([1, 0])\n",
      "tensor([1, 1])\n",
      "Parameter containing:\n",
      "tensor([[ 2.6215,  0.2633, -0.0716, -0.0041],\n",
      "        [ 1.8506, -1.9175, -1.1624,  2.7633]], requires_grad=True)\n",
      "Parameter containing:\n",
      "tensor([[ 1.1764,  0.3804, -0.2703,  1.1929],\n",
      "        [ 0.3871, -0.1400,  1.1090,  0.6777]], requires_grad=True)\n",
      "Parameter containing:\n",
      "tensor([[ 0.1248,  1.0374,  0.5681, -0.6166],\n",
      "        [ 0.9712,  0.5728,  0.4976,  0.0364]], requires_grad=True)\n",
      "Parameter containing:\n",
      "tensor([[ 0.4680,  3.2747, -0.1757, -1.2672],\n",
      "        [-0.1131,  2.9979,  0.2284, -1.0494]], requires_grad=True)\n",
      "0.852791354060173 39\n"
     ]
    },
    {
     "data": {
      "application/vnd.jupyter.widget-view+json": {
       "model_id": "932daaaaac8f4070bd806a7fcbd272df",
       "version_major": 2,
       "version_minor": 0
      },
      "text/plain": [
       "  0%|          | 0/1000 [00:00<?, ?it/s]"
      ]
     },
     "metadata": {},
     "output_type": "display_data"
    },
    {
     "data": {
      "application/vnd.jupyter.widget-view+json": {
       "model_id": "bc17578b81a548ba8c945c2f25143c0b",
       "version_major": 2,
       "version_minor": 0
      },
      "text/plain": [
       "  0%|          | 0/1000 [00:00<?, ?it/s]"
      ]
     },
     "metadata": {},
     "output_type": "display_data"
    },
    {
     "name": "stdout",
     "output_type": "stream",
     "text": [
      "tensor([2, 1])\n",
      "tensor([0, 2])\n",
      "tensor([0, 1])\n",
      "tensor([0, 3])\n",
      "Parameter containing:\n",
      "tensor([[0.6656, 0.6255, 0.9533, 0.6030],\n",
      "        [0.3872, 0.8697, 0.6237, 0.4418]], requires_grad=True)\n",
      "Parameter containing:\n",
      "tensor([[0.3621, 0.2919, 0.2116, 0.1086],\n",
      "        [0.1596, 0.6460, 0.8047, 0.7032]], requires_grad=True)\n",
      "Parameter containing:\n",
      "tensor([[0.8802, 0.4918, 0.6119, 0.0144],\n",
      "        [0.2460, 0.9559, 0.5900, 0.8928]], requires_grad=True)\n",
      "Parameter containing:\n",
      "tensor([[0.7839, 0.6291, 0.2224, 0.0353],\n",
      "        [0.7923, 0.4619, 0.1210, 0.8562]], requires_grad=True)\n",
      "1.0245967507362366 29\n"
     ]
    },
    {
     "data": {
      "application/vnd.jupyter.widget-view+json": {
       "model_id": "e67dd069ffc144219a9bce151559ed0a",
       "version_major": 2,
       "version_minor": 0
      },
      "text/plain": [
       "  0%|          | 0/1000 [00:00<?, ?it/s]"
      ]
     },
     "metadata": {},
     "output_type": "display_data"
    },
    {
     "data": {
      "application/vnd.jupyter.widget-view+json": {
       "model_id": "2e2120b47a344e3ba930f2ccab923f33",
       "version_major": 2,
       "version_minor": 0
      },
      "text/plain": [
       "  0%|          | 0/1000 [00:00<?, ?it/s]"
      ]
     },
     "metadata": {},
     "output_type": "display_data"
    },
    {
     "name": "stdout",
     "output_type": "stream",
     "text": [
      "tensor([1, 3])\n",
      "tensor([0, 3])\n",
      "tensor([0, 2])\n",
      "tensor([2, 3])\n",
      "Parameter containing:\n",
      "tensor([[0.9543, 1.0469, 0.8883, 0.1953],\n",
      "        [0.7812, 0.3755, 0.0944, 0.9533]], requires_grad=True)\n",
      "Parameter containing:\n",
      "tensor([[0.8865, 0.2376, 0.1015, 0.0899],\n",
      "        [0.8110, 0.6595, 0.6331, 0.8352]], requires_grad=True)\n",
      "Parameter containing:\n",
      "tensor([[ 1.5412,  1.0199, -0.2823, -0.5234],\n",
      "        [ 0.0811,  1.2300,  1.6231, -0.7946]], requires_grad=True)\n",
      "Parameter containing:\n",
      "tensor([[0.2300, 0.2098, 0.4283, 0.1786],\n",
      "        [0.2556, 0.4856, 0.2563, 0.8284]], requires_grad=True)\n",
      "1.368780218064785 21\n"
     ]
    },
    {
     "data": {
      "application/vnd.jupyter.widget-view+json": {
       "model_id": "1a1d2b65c6f84cf099f3962c9789c63c",
       "version_major": 2,
       "version_minor": 0
      },
      "text/plain": [
       "  0%|          | 0/1000 [00:00<?, ?it/s]"
      ]
     },
     "metadata": {},
     "output_type": "display_data"
    },
    {
     "data": {
      "application/vnd.jupyter.widget-view+json": {
       "model_id": "43250ad08a3e46b19b1b7a87a8dcfb86",
       "version_major": 2,
       "version_minor": 0
      },
      "text/plain": [
       "  0%|          | 0/1000 [00:00<?, ?it/s]"
      ]
     },
     "metadata": {},
     "output_type": "display_data"
    },
    {
     "name": "stdout",
     "output_type": "stream",
     "text": [
      "tensor([0, 1])\n",
      "tensor([3, 3])\n",
      "tensor([0, 0])\n",
      "tensor([0, 2])\n",
      "Parameter containing:\n",
      "tensor([[0.9634, 0.5659, 0.4183, 0.8654],\n",
      "        [0.5786, 0.7104, 0.2010, 0.4550]], requires_grad=True)\n",
      "Parameter containing:\n",
      "tensor([[ 0.8385,  0.2190, -0.2634,  1.4686],\n",
      "        [ 0.3839,  0.5811, -0.0273,  0.8145]], requires_grad=True)\n",
      "Parameter containing:\n",
      "tensor([[0.7283, 0.6006, 0.2121, 0.1528],\n",
      "        [0.5367, 0.1967, 0.1549, 0.1760]], requires_grad=True)\n",
      "Parameter containing:\n",
      "tensor([[ 1.0312,  0.4163,  0.4571,  0.3834],\n",
      "        [ 0.6784, -0.1309,  1.2060,  0.5132]], requires_grad=True)\n",
      "1.0554072856903076 38\n"
     ]
    },
    {
     "data": {
      "application/vnd.jupyter.widget-view+json": {
       "model_id": "79a4f134d00843bfbd97a05291eafd93",
       "version_major": 2,
       "version_minor": 0
      },
      "text/plain": [
       "  0%|          | 0/1000 [00:00<?, ?it/s]"
      ]
     },
     "metadata": {},
     "output_type": "display_data"
    },
    {
     "data": {
      "application/vnd.jupyter.widget-view+json": {
       "model_id": "2ee7668bb264481188bb3e8b8f67d67a",
       "version_major": 2,
       "version_minor": 0
      },
      "text/plain": [
       "  0%|          | 0/1000 [00:00<?, ?it/s]"
      ]
     },
     "metadata": {},
     "output_type": "display_data"
    },
    {
     "name": "stdout",
     "output_type": "stream",
     "text": [
      "tensor([0, 1])\n",
      "tensor([2, 0])\n",
      "tensor([2, 0])\n",
      "tensor([0, 3])\n",
      "Parameter containing:\n",
      "tensor([[ 3.3161, -1.6230,  1.2301, -1.4897],\n",
      "        [-1.5449,  4.2253,  0.2393, -0.8791]], requires_grad=True)\n",
      "Parameter containing:\n",
      "tensor([[ 1.0653,  0.4137,  6.5243, -5.2825],\n",
      "        [ 5.3304, -6.0240,  1.5057,  0.9708]], requires_grad=True)\n",
      "Parameter containing:\n",
      "tensor([[ 0.6264,  0.0399,  0.8003,  0.4934],\n",
      "        [ 0.4322,  0.0233, -0.0141,  0.3349]], requires_grad=True)\n",
      "Parameter containing:\n",
      "tensor([[ 6.8343, -1.2223, -2.4625, -1.7672],\n",
      "        [-1.4727, -2.5599, -1.1255,  7.5734]], requires_grad=True)\n",
      "0.7152110114693642 29\n"
     ]
    },
    {
     "data": {
      "application/vnd.jupyter.widget-view+json": {
       "model_id": "791b1eda0cd24f9ea79ffd5f92c3be1c",
       "version_major": 2,
       "version_minor": 0
      },
      "text/plain": [
       "  0%|          | 0/1000 [00:00<?, ?it/s]"
      ]
     },
     "metadata": {},
     "output_type": "display_data"
    },
    {
     "data": {
      "application/vnd.jupyter.widget-view+json": {
       "model_id": "e2bce6a18898453fba80138a195ff634",
       "version_major": 2,
       "version_minor": 0
      },
      "text/plain": [
       "  0%|          | 0/1000 [00:00<?, ?it/s]"
      ]
     },
     "metadata": {},
     "output_type": "display_data"
    },
    {
     "name": "stdout",
     "output_type": "stream",
     "text": [
      "tensor([0, 0])\n",
      "tensor([3, 3])\n",
      "tensor([3, 0])\n",
      "tensor([0, 3])\n",
      "Parameter containing:\n",
      "tensor([[ 0.4181,  0.3490,  0.3990,  0.3544],\n",
      "        [ 1.4882,  0.0419,  0.4469, -0.1698]], requires_grad=True)\n",
      "Parameter containing:\n",
      "tensor([[ 0.0345, -1.5158, -0.4925,  4.0143],\n",
      "        [ 1.2043, -1.7681,  1.1019,  1.8445]], requires_grad=True)\n",
      "Parameter containing:\n",
      "tensor([[ 0.5349, -0.3660,  0.4165,  1.1565],\n",
      "        [ 1.2562,  0.8764,  0.8051, -0.1742]], requires_grad=True)\n",
      "Parameter containing:\n",
      "tensor([[ 5.6011, -4.5129,  1.2439, -0.6268],\n",
      "        [-1.8058, -1.6265, -3.9224,  9.6166]], requires_grad=True)\n",
      "1.3375451266765594 20\n"
     ]
    },
    {
     "data": {
      "application/vnd.jupyter.widget-view+json": {
       "model_id": "cd75df1da7804700926bb5294a72b78e",
       "version_major": 2,
       "version_minor": 0
      },
      "text/plain": [
       "  0%|          | 0/1000 [00:00<?, ?it/s]"
      ]
     },
     "metadata": {},
     "output_type": "display_data"
    },
    {
     "data": {
      "application/vnd.jupyter.widget-view+json": {
       "model_id": "206aa11fe1c345a2b8e6f52d902865d1",
       "version_major": 2,
       "version_minor": 0
      },
      "text/plain": [
       "  0%|          | 0/1000 [00:00<?, ?it/s]"
      ]
     },
     "metadata": {},
     "output_type": "display_data"
    },
    {
     "name": "stdout",
     "output_type": "stream",
     "text": [
      "tensor([1, 3])\n",
      "tensor([0, 0])\n",
      "tensor([1, 0])\n",
      "tensor([0, 2])\n",
      "Parameter containing:\n",
      "tensor([[ 0.5149,  1.1652,  0.4630, -0.0136],\n",
      "        [ 0.8168,  0.8389,  0.2754,  1.0597]], requires_grad=True)\n",
      "Parameter containing:\n",
      "tensor([[0.9833, 0.8271, 0.0996, 0.9129],\n",
      "        [0.6261, 0.2247, 0.3635, 0.4940]], requires_grad=True)\n",
      "Parameter containing:\n",
      "tensor([[ 0.2915,  0.7532, -0.0227,  0.6673],\n",
      "        [ 0.7845,  0.2849,  0.2163,  0.7077]], requires_grad=True)\n",
      "Parameter containing:\n",
      "tensor([[ 0.6145,  0.1786,  0.0989, -0.3211],\n",
      "        [ 0.4640,  0.9046,  1.3810, -0.4678]], requires_grad=True)\n",
      "0.8830416053533554 29\n"
     ]
    },
    {
     "data": {
      "application/vnd.jupyter.widget-view+json": {
       "model_id": "0f95d8c4ab174555bf23842e504eb018",
       "version_major": 2,
       "version_minor": 0
      },
      "text/plain": [
       "  0%|          | 0/1000 [00:00<?, ?it/s]"
      ]
     },
     "metadata": {},
     "output_type": "display_data"
    },
    {
     "data": {
      "application/vnd.jupyter.widget-view+json": {
       "model_id": "7a8aadb5f8044d69a9f4040bc0b72207",
       "version_major": 2,
       "version_minor": 0
      },
      "text/plain": [
       "  0%|          | 0/1000 [00:00<?, ?it/s]"
      ]
     },
     "metadata": {},
     "output_type": "display_data"
    },
    {
     "name": "stdout",
     "output_type": "stream",
     "text": [
      "tensor([2, 0])\n",
      "tensor([1, 2])\n",
      "tensor([1, 2])\n",
      "tensor([3, 0])\n",
      "Parameter containing:\n",
      "tensor([[0.0684, 0.2054, 0.9357, 0.4822],\n",
      "        [0.8115, 0.7331, 0.3474, 0.6873]], requires_grad=True)\n",
      "Parameter containing:\n",
      "tensor([[ 0.1967,  1.3489,  0.5659,  0.3654],\n",
      "        [-0.1269,  0.2079,  1.0049,  0.4170]], requires_grad=True)\n",
      "Parameter containing:\n",
      "tensor([[-1.4686,  3.1350,  0.3452,  0.1557],\n",
      "        [ 0.5873,  0.0612,  2.7366, -0.9763]], requires_grad=True)\n",
      "Parameter containing:\n",
      "tensor([[ 0.4256,  0.4505, -0.7688,  1.1498],\n",
      "        [ 0.6530,  0.3558,  0.5806,  0.0188]], requires_grad=True)\n",
      "0.7159275412559509 21\n"
     ]
    },
    {
     "data": {
      "application/vnd.jupyter.widget-view+json": {
       "model_id": "f38f5e3f5d5049c0bc8ad95517d1ade4",
       "version_major": 2,
       "version_minor": 0
      },
      "text/plain": [
       "  0%|          | 0/1000 [00:00<?, ?it/s]"
      ]
     },
     "metadata": {},
     "output_type": "display_data"
    },
    {
     "data": {
      "application/vnd.jupyter.widget-view+json": {
       "model_id": "e0a494fdb9444af983ee823be704e47e",
       "version_major": 2,
       "version_minor": 0
      },
      "text/plain": [
       "  0%|          | 0/1000 [00:00<?, ?it/s]"
      ]
     },
     "metadata": {},
     "output_type": "display_data"
    },
    {
     "name": "stdout",
     "output_type": "stream",
     "text": [
      "tensor([1, 2])\n",
      "tensor([1, 3])\n",
      "tensor([0, 2])\n",
      "tensor([2, 2])\n",
      "Parameter containing:\n",
      "tensor([[0.1429, 0.7683, 0.3851, 0.6864],\n",
      "        [0.5739, 0.8099, 0.9651, 0.7921]], requires_grad=True)\n",
      "Parameter containing:\n",
      "tensor([[ 0.6547,  1.1316,  0.8189, -0.0239],\n",
      "        [ 0.5865, -0.0592, -0.7587,  1.4681]], requires_grad=True)\n",
      "Parameter containing:\n",
      "tensor([[1.0789, 0.7796, 0.3300, 0.6867],\n",
      "        [0.1205, 0.4365, 0.6460, 0.1873]], requires_grad=True)\n",
      "Parameter containing:\n",
      "tensor([[0.4610, 0.6569, 1.0300, 0.5636],\n",
      "        [0.6355, 0.0368, 0.9366, 0.7427]], requires_grad=True)\n",
      "0.7999183535575867 21\n",
      "[Parameter containing:\n",
      "tensor([[0.1429, 0.7683, 0.3851, 0.6864],\n",
      "        [0.5739, 0.8099, 0.9651, 0.7921]], requires_grad=True), Parameter containing:\n",
      "tensor([[ 0.6547,  1.1316,  0.8189, -0.0239],\n",
      "        [ 0.5865, -0.0592, -0.7587,  1.4681]], requires_grad=True), Parameter containing:\n",
      "tensor([[1.0789, 0.7796, 0.3300, 0.6867],\n",
      "        [0.1205, 0.4365, 0.6460, 0.1873]], requires_grad=True), Parameter containing:\n",
      "tensor([[0.4610, 0.6569, 1.0300, 0.5636],\n",
      "        [0.6355, 0.0368, 0.9366, 0.7427]], requires_grad=True)]\n",
      "Parameter containing:\n",
      "tensor([117.2085], requires_grad=True)\n",
      "Parameter containing:\n",
      "tensor([-26.3830], requires_grad=True)\n",
      "Parameter containing:\n",
      "tensor([124.8202], requires_grad=True)\n",
      "Parameter containing:\n",
      "tensor([-14.0027], requires_grad=True)\n"
     ]
    },
    {
     "data": {
      "application/vnd.jupyter.widget-view+json": {
       "model_id": "ed51db938787424f9f075cc5c4f8d1b7",
       "version_major": 2,
       "version_minor": 0
      },
      "text/plain": [
       "  0%|          | 0/1000 [00:00<?, ?it/s]"
      ]
     },
     "metadata": {},
     "output_type": "display_data"
    },
    {
     "data": {
      "application/vnd.jupyter.widget-view+json": {
       "model_id": "c9bab44d3e54408682f21f9a3c513e22",
       "version_major": 2,
       "version_minor": 0
      },
      "text/plain": [
       "  0%|          | 0/1000 [00:00<?, ?it/s]"
      ]
     },
     "metadata": {},
     "output_type": "display_data"
    },
    {
     "name": "stdout",
     "output_type": "stream",
     "text": [
      "tensor([3, 0])\n",
      "tensor([7, 6])\n",
      "tensor([5, 5])\n",
      "tensor([5, 2])\n",
      "Parameter containing:\n",
      "tensor([[0.7100, 1.0098, 0.3576, 1.1294, 0.4189, 0.4979, 0.3832, 0.6741],\n",
      "        [1.0366, 0.1800, 0.9146, 0.6533, 0.8776, 0.5981, 0.7257, 0.2238]],\n",
      "       requires_grad=True)\n",
      "Parameter containing:\n",
      "tensor([[ 1.0126,  0.3844, -0.3293,  0.1898,  0.0563,  0.2788,  0.5917,  2.0085],\n",
      "        [-0.1669, -0.5751,  0.8017,  0.3112, -0.3089,  0.4947,  2.3026, -0.3461]],\n",
      "       requires_grad=True)\n",
      "Parameter containing:\n",
      "tensor([[ 1.1473,  1.1385,  0.1667,  0.2670,  0.4476,  1.3771,  0.6404, -0.1898],\n",
      "        [ 0.4963,  0.2462,  0.8606,  1.1858,  0.4123,  1.3193,  0.3900,  0.1936]],\n",
      "       requires_grad=True)\n",
      "Parameter containing:\n",
      "tensor([[ 0.5283,  0.6877, -0.1377,  0.0888,  0.3242,  0.8946,  0.6276,  0.6254],\n",
      "        [ 0.2145,  1.0163,  1.0413, -0.0611,  0.1519,  0.1690,  0.9700,  0.3559]],\n",
      "       requires_grad=True)\n",
      "1.1629900485277176 39\n"
     ]
    },
    {
     "data": {
      "application/vnd.jupyter.widget-view+json": {
       "model_id": "251ebab039d14cc9bee48c34c8406c11",
       "version_major": 2,
       "version_minor": 0
      },
      "text/plain": [
       "  0%|          | 0/1000 [00:00<?, ?it/s]"
      ]
     },
     "metadata": {},
     "output_type": "display_data"
    },
    {
     "data": {
      "application/vnd.jupyter.widget-view+json": {
       "model_id": "df61a8c4b49947499a55db5acbd109b9",
       "version_major": 2,
       "version_minor": 0
      },
      "text/plain": [
       "  0%|          | 0/1000 [00:00<?, ?it/s]"
      ]
     },
     "metadata": {},
     "output_type": "display_data"
    },
    {
     "name": "stdout",
     "output_type": "stream",
     "text": [
      "tensor([2, 2])\n",
      "tensor([7, 6])\n",
      "tensor([2, 1])\n",
      "tensor([5, 7])\n",
      "Parameter containing:\n",
      "tensor([[0.5021, 0.2003, 0.8591, 0.3233, 0.1290, 0.1031, 0.6123, 0.0792],\n",
      "        [0.8229, 0.6642, 0.8787, 0.0834, 0.4537, 0.5682, 0.5549, 0.7160]],\n",
      "       requires_grad=True)\n",
      "Parameter containing:\n",
      "tensor([[ 0.1873,  0.4384, -0.2857,  0.0475,  0.1336,  1.4717,  0.1947,  1.5587],\n",
      "        [ 0.1722,  0.3900,  0.9295,  1.0609,  0.7576, -0.5055,  1.0800,  0.1146]],\n",
      "       requires_grad=True)\n",
      "Parameter containing:\n",
      "tensor([[0.7187, 0.6882, 0.9679, 0.3220, 0.6176, 0.3951, 0.8546, 0.0953],\n",
      "        [0.2864, 0.8349, 0.7869, 0.3723, 0.7042, 0.6646, 0.2782, 0.1136]],\n",
      "       requires_grad=True)\n",
      "Parameter containing:\n",
      "tensor([[-0.0921,  1.0148,  0.2489,  0.7583,  0.1502,  1.0713,  0.7776,  0.3856],\n",
      "        [ 0.4714,  0.2234, -0.0282, -0.0353,  0.3092,  0.8633,  0.1073,  1.0659]],\n",
      "       requires_grad=True)\n",
      "1.161688432097435 39\n"
     ]
    },
    {
     "data": {
      "application/vnd.jupyter.widget-view+json": {
       "model_id": "722043bd3a4d4e748dbcfe4defbe28cb",
       "version_major": 2,
       "version_minor": 0
      },
      "text/plain": [
       "  0%|          | 0/1000 [00:00<?, ?it/s]"
      ]
     },
     "metadata": {},
     "output_type": "display_data"
    },
    {
     "data": {
      "application/vnd.jupyter.widget-view+json": {
       "model_id": "8b1c57e8fed2431f922ab7d425379b6d",
       "version_major": 2,
       "version_minor": 0
      },
      "text/plain": [
       "  0%|          | 0/1000 [00:00<?, ?it/s]"
      ]
     },
     "metadata": {},
     "output_type": "display_data"
    },
    {
     "name": "stdout",
     "output_type": "stream",
     "text": [
      "tensor([2, 4])\n",
      "tensor([6, 7])\n",
      "tensor([2, 7])\n",
      "tensor([1, 7])\n",
      "Parameter containing:\n",
      "tensor([[ 0.7915,  0.4649,  1.1546, -0.1156,  0.4924,  0.8447,  0.4932,  0.1438],\n",
      "        [ 0.6886,  0.7315,  1.0144,  0.5644,  1.2060,  0.4711,  0.5233,  0.3316]],\n",
      "       requires_grad=True)\n",
      "Parameter containing:\n",
      "tensor([[ 0.6358,  0.6046,  0.6848,  0.4217,  0.9107,  0.7735,  0.9717,  0.2273],\n",
      "        [ 0.2568,  0.2260, -0.0091,  0.9153,  0.5403,  0.5203,  0.2051,  1.1380]],\n",
      "       requires_grad=True)\n",
      "Parameter containing:\n",
      "tensor([[ 0.6764,  0.1065,  0.8666, -0.0546,  0.4764,  0.5051,  0.8488,  0.3729],\n",
      "        [ 0.0839,  0.7914,  0.6625, -0.2065,  0.1825, -0.0958,  0.7009,  0.9547]],\n",
      "       requires_grad=True)\n",
      "Parameter containing:\n",
      "tensor([[ 0.0847,  2.1536, -0.0047, -0.5131, -0.4028,  0.1233,  0.1657,  2.0296],\n",
      "        [-0.7920,  0.5765,  0.8974,  0.5296,  0.3402,  0.4228,  0.4216,  1.8939]],\n",
      "       requires_grad=True)\n",
      "0.6804591417312622 21\n"
     ]
    },
    {
     "data": {
      "application/vnd.jupyter.widget-view+json": {
       "model_id": "56205cba88fe4b378836544ef5c95743",
       "version_major": 2,
       "version_minor": 0
      },
      "text/plain": [
       "  0%|          | 0/1000 [00:00<?, ?it/s]"
      ]
     },
     "metadata": {},
     "output_type": "display_data"
    },
    {
     "data": {
      "application/vnd.jupyter.widget-view+json": {
       "model_id": "745b91114c3649f4973a7a0357961265",
       "version_major": 2,
       "version_minor": 0
      },
      "text/plain": [
       "  0%|          | 0/1000 [00:00<?, ?it/s]"
      ]
     },
     "metadata": {},
     "output_type": "display_data"
    },
    {
     "name": "stdout",
     "output_type": "stream",
     "text": [
      "tensor([1, 6])\n",
      "tensor([7, 7])\n",
      "tensor([2, 7])\n",
      "tensor([1, 4])\n",
      "Parameter containing:\n",
      "tensor([[ 0.2281,  0.9568,  0.6779,  0.9360, -0.0658,  0.6195,  0.7884,  0.0383],\n",
      "        [ 0.7555,  0.2121,  0.0521, -0.1126,  0.4225,  0.2659,  0.9870,  0.4963]],\n",
      "       requires_grad=True)\n",
      "Parameter containing:\n",
      "tensor([[ 0.4917,  0.9562,  0.5459,  0.9402, -0.1155,  0.0358,  0.7964,  0.9855],\n",
      "        [ 0.2113,  0.6326,  0.5536,  0.2213,  0.3021,  0.8229,  0.2653,  1.1774]],\n",
      "       requires_grad=True)\n",
      "Parameter containing:\n",
      "tensor([[ 0.1497,  0.6316,  1.0351, -0.1688,  0.8993,  0.3400, -0.0662,  1.0058],\n",
      "        [-0.2081,  0.0900,  0.6751, -0.2569,  0.0823,  0.1683,  1.0776,  1.2928]],\n",
      "       requires_grad=True)\n",
      "Parameter containing:\n",
      "tensor([[ 0.1483,  0.7644,  0.3725,  0.4012,  0.6407,  0.7585, -0.0108,  0.6615],\n",
      "        [ 0.3090,  0.5028,  0.5673,  0.8449,  0.8637,  0.8178,  0.2849,  0.1972]],\n",
      "       requires_grad=True)\n",
      "1.6094705164432526 30\n"
     ]
    },
    {
     "data": {
      "application/vnd.jupyter.widget-view+json": {
       "model_id": "059b14d25037497db1c2744391ea413b",
       "version_major": 2,
       "version_minor": 0
      },
      "text/plain": [
       "  0%|          | 0/1000 [00:00<?, ?it/s]"
      ]
     },
     "metadata": {},
     "output_type": "display_data"
    },
    {
     "data": {
      "application/vnd.jupyter.widget-view+json": {
       "model_id": "0d6323c519064f969de5f2eff371baaa",
       "version_major": 2,
       "version_minor": 0
      },
      "text/plain": [
       "  0%|          | 0/1000 [00:00<?, ?it/s]"
      ]
     },
     "metadata": {},
     "output_type": "display_data"
    },
    {
     "name": "stdout",
     "output_type": "stream",
     "text": [
      "tensor([5, 4])\n",
      "tensor([3, 7])\n",
      "tensor([1, 7])\n",
      "tensor([6, 6])\n",
      "Parameter containing:\n",
      "tensor([[0.6504, 0.0821, 0.4714, 0.1219, 0.7879, 0.8519, 0.0404, 0.5167],\n",
      "        [0.1530, 0.3467, 0.9586, 0.0022, 0.9692, 0.4019, 0.9132, 0.8386]],\n",
      "       requires_grad=True)\n",
      "Parameter containing:\n",
      "tensor([[ 1.0104,  1.7770,  0.3851,  4.3935, -0.9983,  3.0157, -4.4000, -0.9112],\n",
      "        [-1.1877,  1.5941, -1.6297,  0.6071,  1.2065,  1.2323, -1.6672,  5.5667]],\n",
      "       requires_grad=True)\n",
      "Parameter containing:\n",
      "tensor([[ 1.1573,  1.8259,  0.0303,  1.3128,  0.0603, -0.5621, -0.2286,  0.0788],\n",
      "        [ 0.2253,  0.4932,  0.6301,  0.0733,  0.7132,  0.4124, -0.3323,  0.9171]],\n",
      "       requires_grad=True)\n",
      "Parameter containing:\n",
      "tensor([[ 0.6931, -0.0620, -0.6177,  0.6959,  0.9217,  0.8108,  1.2929, -0.1017],\n",
      "        [ 0.2010,  0.0614,  0.9958,  0.7024,  0.4662,  0.2177,  1.0361,  0.9731]],\n",
      "       requires_grad=True)\n",
      "1.3018960356712341 31\n"
     ]
    },
    {
     "data": {
      "application/vnd.jupyter.widget-view+json": {
       "model_id": "5abc5c896cea4c6c89db81f5c28d2286",
       "version_major": 2,
       "version_minor": 0
      },
      "text/plain": [
       "  0%|          | 0/1000 [00:00<?, ?it/s]"
      ]
     },
     "metadata": {},
     "output_type": "display_data"
    },
    {
     "data": {
      "application/vnd.jupyter.widget-view+json": {
       "model_id": "1c2ea8d0f328485a89c43f26d4b00c85",
       "version_major": 2,
       "version_minor": 0
      },
      "text/plain": [
       "  0%|          | 0/1000 [00:00<?, ?it/s]"
      ]
     },
     "metadata": {},
     "output_type": "display_data"
    },
    {
     "name": "stdout",
     "output_type": "stream",
     "text": [
      "tensor([7, 2])\n",
      "tensor([0, 7])\n",
      "tensor([2, 1])\n",
      "tensor([7, 2])\n",
      "Parameter containing:\n",
      "tensor([[ 4.5161e-01, -6.7295e-01, -1.3404e+00,  1.3458e-01,  2.4705e-03,\n",
      "         -1.9186e-01,  2.6577e-01,  5.3755e+00],\n",
      "        [ 1.1881e+00,  3.5188e-01,  4.0515e+00, -1.3266e+00, -6.9661e-01,\n",
      "         -4.6566e-01,  4.3266e-01, -2.3863e-01]], requires_grad=True)\n",
      "Parameter containing:\n",
      "tensor([[ 2.2657, -0.7659, -0.2140,  0.6397,  0.7235, -0.0076, -0.1636,  0.4123],\n",
      "        [ 0.8885,  1.1905,  0.6471,  0.3640, -0.9889, -1.3432,  0.2159,  2.6915]],\n",
      "       requires_grad=True)\n",
      "Parameter containing:\n",
      "tensor([[ 0.5610,  0.0520,  1.2523,  0.5688, -0.0236,  0.4772,  0.1444,  0.2840],\n",
      "        [ 0.2171,  0.8439,  0.5523,  0.2281,  0.4470,  0.1862,  0.0811,  0.4765]],\n",
      "       requires_grad=True)\n",
      "Parameter containing:\n",
      "tensor([[ 0.1911,  0.4919,  0.8452,  0.0065,  0.8085, -0.2515, -0.1577,  0.9822],\n",
      "        [-0.4074,  0.0132,  2.7082,  1.1178, -0.1357, -0.1222, -0.2765,  0.6244]],\n",
      "       requires_grad=True)\n",
      "1.2098337411880493 30\n"
     ]
    },
    {
     "data": {
      "application/vnd.jupyter.widget-view+json": {
       "model_id": "8b8797b9d00246f39cb6a9690d3e574c",
       "version_major": 2,
       "version_minor": 0
      },
      "text/plain": [
       "  0%|          | 0/1000 [00:00<?, ?it/s]"
      ]
     },
     "metadata": {},
     "output_type": "display_data"
    },
    {
     "data": {
      "application/vnd.jupyter.widget-view+json": {
       "model_id": "806289886283458288474d2b8cca5cef",
       "version_major": 2,
       "version_minor": 0
      },
      "text/plain": [
       "  0%|          | 0/1000 [00:00<?, ?it/s]"
      ]
     },
     "metadata": {},
     "output_type": "display_data"
    },
    {
     "name": "stdout",
     "output_type": "stream",
     "text": [
      "tensor([7, 0])\n",
      "tensor([7, 0])\n",
      "tensor([4, 3])\n",
      "tensor([5, 5])\n",
      "Parameter containing:\n",
      "tensor([[0.4137, 0.3519, 0.3438, 0.3442, 0.6428, 0.5466, 0.5481, 0.6970],\n",
      "        [0.8652, 0.6462, 0.0302, 0.7107, 0.1000, 0.8113, 0.4239, 0.2533]],\n",
      "       requires_grad=True)\n",
      "Parameter containing:\n",
      "tensor([[ 0.5713,  0.6225,  0.2057,  0.8426,  0.9003, -0.1295,  0.2026,  0.9071],\n",
      "        [ 0.9441,  0.1480,  0.2708,  0.9218,  0.8005,  0.9317,  0.5394,  0.6461]],\n",
      "       requires_grad=True)\n",
      "Parameter containing:\n",
      "tensor([[0.1325, 0.1594, 0.3555, 0.6783, 1.0335, 0.9270, 0.6743, 0.7386],\n",
      "        [0.6995, 0.2217, 0.5902, 1.0326, 0.7791, 0.9328, 0.7317, 0.3814]],\n",
      "       requires_grad=True)\n",
      "Parameter containing:\n",
      "tensor([[0.6058, 0.4655, 0.2406, 0.8231, 0.8090, 0.8835, 0.4806, 0.4503],\n",
      "        [0.4636, 0.1589, 0.2164, 0.9422, 0.7935, 0.9642, 0.8425, 0.1820]],\n",
      "       requires_grad=True)\n",
      "0.8484278470277786 30\n"
     ]
    },
    {
     "data": {
      "application/vnd.jupyter.widget-view+json": {
       "model_id": "81205678c8ad44a7856178b657e9b256",
       "version_major": 2,
       "version_minor": 0
      },
      "text/plain": [
       "  0%|          | 0/1000 [00:00<?, ?it/s]"
      ]
     },
     "metadata": {},
     "output_type": "display_data"
    },
    {
     "data": {
      "application/vnd.jupyter.widget-view+json": {
       "model_id": "7826aa45823e460189d604b6f85760f6",
       "version_major": 2,
       "version_minor": 0
      },
      "text/plain": [
       "  0%|          | 0/1000 [00:00<?, ?it/s]"
      ]
     },
     "metadata": {},
     "output_type": "display_data"
    },
    {
     "name": "stdout",
     "output_type": "stream",
     "text": [
      "tensor([3, 0])\n",
      "tensor([6, 6])\n",
      "tensor([5, 0])\n",
      "tensor([1, 3])\n",
      "Parameter containing:\n",
      "tensor([[0.0603, 0.2818, 0.2863, 0.9105, 0.1379, 0.6365, 0.2687, 0.2609],\n",
      "        [1.0075, 0.7423, 0.0674, 0.2195, 0.0145, 0.3575, 0.8514, 0.8593]],\n",
      "       requires_grad=True)\n",
      "Parameter containing:\n",
      "tensor([[-0.1832, -0.2393,  0.7182,  0.6989,  0.9420,  0.6169,  1.2294,  0.6999],\n",
      "        [ 0.2252, -0.3035,  0.4622,  0.5997, -0.1499,  0.0685,  1.5848,  1.2180]],\n",
      "       requires_grad=True)\n",
      "Parameter containing:\n",
      "tensor([[-0.8826, -1.5794,  2.1765,  2.0598, -0.6107,  4.0618,  0.9427, -2.2932],\n",
      "        [ 3.9417, -1.8110,  1.1147,  0.6935, -1.9206, -1.0472, -0.6756,  3.1070]],\n",
      "       requires_grad=True)\n",
      "Parameter containing:\n",
      "tensor([[ 0.3699,  1.0439,  0.8887,  0.6309, -0.1403,  0.2720,  0.9075, -0.4828],\n",
      "        [ 0.5453,  0.4306, -0.2839,  0.9223,  0.4474,  0.7471, -0.0643,  0.4749]],\n",
      "       requires_grad=True)\n",
      "0.4628312587738037 31\n"
     ]
    },
    {
     "data": {
      "application/vnd.jupyter.widget-view+json": {
       "model_id": "1fc7391c8aa14a02ba4bda5cc335628e",
       "version_major": 2,
       "version_minor": 0
      },
      "text/plain": [
       "  0%|          | 0/1000 [00:00<?, ?it/s]"
      ]
     },
     "metadata": {},
     "output_type": "display_data"
    },
    {
     "data": {
      "application/vnd.jupyter.widget-view+json": {
       "model_id": "ed9769ba0e8f4b7a9a43e3cc86bb3bbd",
       "version_major": 2,
       "version_minor": 0
      },
      "text/plain": [
       "  0%|          | 0/1000 [00:00<?, ?it/s]"
      ]
     },
     "metadata": {},
     "output_type": "display_data"
    },
    {
     "name": "stdout",
     "output_type": "stream",
     "text": [
      "tensor([0, 5])\n",
      "tensor([0, 1])\n",
      "tensor([5, 5])\n",
      "tensor([3, 3])\n",
      "Parameter containing:\n",
      "tensor([[ 0.6325,  0.0788,  0.4384, -0.0789,  0.3845,  0.0384,  0.5209,  0.5955],\n",
      "        [ 0.6776,  0.9448,  0.1439,  0.3708,  0.5589,  1.0681,  0.5364,  0.4084]],\n",
      "       requires_grad=True)\n",
      "Parameter containing:\n",
      "tensor([[ 1.1733, -0.0351,  0.7097,  0.3083,  0.5359,  0.5212, -0.0055,  0.0858],\n",
      "        [ 0.1019,  1.4259, -0.0579,  0.5538, -0.0676,  0.1304,  0.6451,  0.1610]],\n",
      "       requires_grad=True)\n",
      "Parameter containing:\n",
      "tensor([[-0.1898, -0.2217,  0.7108, -0.9940,  2.1369,  2.3762, -0.3733,  0.6661],\n",
      "        [ 1.3914, -1.8735, -0.1740,  0.0713,  0.7465,  2.3247, -1.0105,  1.4548]],\n",
      "       requires_grad=True)\n",
      "Parameter containing:\n",
      "tensor([[-0.0238,  0.8605,  0.3356,  1.1192,  0.7460,  0.8955,  0.1893,  0.4691],\n",
      "        [-0.1480,  0.4746, -0.0113,  0.9984, -0.0915,  0.3251,  0.8920,  0.7498]],\n",
      "       requires_grad=True)\n",
      "0.8366266787052155 30\n"
     ]
    },
    {
     "data": {
      "application/vnd.jupyter.widget-view+json": {
       "model_id": "2c01ff2ee20d479e81de2cb7241964dd",
       "version_major": 2,
       "version_minor": 0
      },
      "text/plain": [
       "  0%|          | 0/1000 [00:00<?, ?it/s]"
      ]
     },
     "metadata": {},
     "output_type": "display_data"
    },
    {
     "data": {
      "application/vnd.jupyter.widget-view+json": {
       "model_id": "ee0857db561f4667a3f2e1ff34410a13",
       "version_major": 2,
       "version_minor": 0
      },
      "text/plain": [
       "  0%|          | 0/1000 [00:00<?, ?it/s]"
      ]
     },
     "metadata": {},
     "output_type": "display_data"
    },
    {
     "name": "stdout",
     "output_type": "stream",
     "text": [
      "tensor([0, 5])\n",
      "tensor([6, 4])\n",
      "tensor([0, 3])\n",
      "tensor([7, 7])\n",
      "Parameter containing:\n",
      "tensor([[ 1.3384,  0.1997,  1.0388,  0.2919,  0.2164,  0.7924, -0.2417,  1.2175],\n",
      "        [ 0.2239, -0.1215, -0.2116,  1.6479, -0.4656,  2.3700,  0.3019, -0.2163]],\n",
      "       requires_grad=True)\n",
      "Parameter containing:\n",
      "tensor([[ 0.4876,  0.0846, -0.1968,  0.7962, -0.3985,  0.4550,  2.3306,  1.4212],\n",
      "        [ 1.0960, -0.4510,  0.0928, -0.4310,  1.8515,  1.6798, -0.0172, -0.6456]],\n",
      "       requires_grad=True)\n",
      "Parameter containing:\n",
      "tensor([[0.9037, 0.3332, 0.7476, 0.8702, 0.0240, 0.1664, 0.3933, 0.5391],\n",
      "        [0.0920, 0.1118, 0.6425, 0.8372, 0.6608, 0.1364, 0.6845, 0.3320]],\n",
      "       requires_grad=True)\n",
      "Parameter containing:\n",
      "tensor([[0.0902, 0.6765, 0.5832, 0.0445, 0.6218, 0.7238, 0.5779, 0.7543],\n",
      "        [0.5828, 0.6308, 0.8044, 0.8664, 0.5789, 0.1301, 0.2479, 1.0090]],\n",
      "       requires_grad=True)\n",
      "1.0780232101678848 39\n"
     ]
    },
    {
     "data": {
      "application/vnd.jupyter.widget-view+json": {
       "model_id": "5888d0ac0011418db087a6e53cd5fac6",
       "version_major": 2,
       "version_minor": 0
      },
      "text/plain": [
       "  0%|          | 0/1000 [00:00<?, ?it/s]"
      ]
     },
     "metadata": {},
     "output_type": "display_data"
    },
    {
     "data": {
      "application/vnd.jupyter.widget-view+json": {
       "model_id": "337e872ddd5f4bc6b45af6a4e0a201e2",
       "version_major": 2,
       "version_minor": 0
      },
      "text/plain": [
       "  0%|          | 0/1000 [00:00<?, ?it/s]"
      ]
     },
     "metadata": {},
     "output_type": "display_data"
    },
    {
     "name": "stdout",
     "output_type": "stream",
     "text": [
      "tensor([1, 6])\n",
      "tensor([0, 2])\n",
      "tensor([6, 5])\n",
      "tensor([6, 5])\n",
      "Parameter containing:\n",
      "tensor([[0.7592, 0.8997, 0.6371, 0.4843, 0.8359, 0.7514, 0.3458, 0.8105],\n",
      "        [0.1921, 0.6266, 0.7300, 0.1034, 0.8707, 0.8454, 0.9150, 0.4509]],\n",
      "       requires_grad=True)\n",
      "Parameter containing:\n",
      "tensor([[0.9803, 0.2719, 0.4369, 0.7185, 0.9043, 0.8588, 0.7494, 0.6620],\n",
      "        [0.8420, 0.2173, 0.8950, 0.7874, 0.8274, 0.1748, 0.3535, 0.0721]],\n",
      "       requires_grad=True)\n",
      "Parameter containing:\n",
      "tensor([[ 0.0962, -0.0558,  0.7853,  0.0887,  0.0673,  0.5764,  1.5268,  0.2969],\n",
      "        [-0.1877,  0.6961,  0.0552,  0.9264,  0.1880,  0.9762,  0.3379,  0.4927]],\n",
      "       requires_grad=True)\n",
      "Parameter containing:\n",
      "tensor([[-0.1349,  0.8189,  0.6130,  0.3574,  0.4055,  0.1098,  0.9731,  0.7039],\n",
      "        [ 0.1625,  0.8057, -0.1104,  0.2386,  0.9265,  1.1642,  0.7561,  0.1435]],\n",
      "       requires_grad=True)\n",
      "0.8754342794418335 30\n"
     ]
    },
    {
     "data": {
      "application/vnd.jupyter.widget-view+json": {
       "model_id": "b99416b225da4457a3cf1ab87569ecbb",
       "version_major": 2,
       "version_minor": 0
      },
      "text/plain": [
       "  0%|          | 0/1000 [00:00<?, ?it/s]"
      ]
     },
     "metadata": {},
     "output_type": "display_data"
    },
    {
     "data": {
      "application/vnd.jupyter.widget-view+json": {
       "model_id": "b498102cff5744e0a5aa34a7167c68ea",
       "version_major": 2,
       "version_minor": 0
      },
      "text/plain": [
       "  0%|          | 0/1000 [00:00<?, ?it/s]"
      ]
     },
     "metadata": {},
     "output_type": "display_data"
    },
    {
     "name": "stdout",
     "output_type": "stream",
     "text": [
      "tensor([0, 4])\n",
      "tensor([5, 7])\n",
      "tensor([4, 7])\n",
      "tensor([1, 6])\n",
      "Parameter containing:\n",
      "tensor([[ 2.4737,  1.2241, -0.7953,  1.7034,  0.6484,  1.0640, -0.0241, -1.9510],\n",
      "        [-0.5988, -0.7043, -0.0378,  0.2777,  5.0986, -1.0407,  0.5729,  0.9456]],\n",
      "       requires_grad=True)\n",
      "Parameter containing:\n",
      "tensor([[ 0.3033,  0.2073, -0.0074,  0.5659,  0.2135,  0.8224,  0.6115,  0.4751],\n",
      "        [ 0.0038,  0.5663,  0.8735,  0.8650,  0.2259,  0.1692,  0.3632,  1.2969]],\n",
      "       requires_grad=True)\n",
      "Parameter containing:\n",
      "tensor([[ 0.3047,  0.4531,  0.9074,  0.4359,  1.0691, -0.0348,  0.4519,  0.5889],\n",
      "        [ 0.1575,  0.3886, -0.1707,  0.2986,  0.1957,  0.7415,  0.7401,  1.1837]],\n",
      "       requires_grad=True)\n",
      "Parameter containing:\n",
      "tensor([[ 2.9821,  3.3510, -3.7634,  0.4967,  1.5833,  1.4324, -1.1964,  0.1273],\n",
      "        [-2.6979,  1.3162,  0.8453,  1.9095,  0.5143, -0.3986,  2.6030, -1.2361]],\n",
      "       requires_grad=True)\n",
      "0.9360440373420715 31\n"
     ]
    },
    {
     "data": {
      "application/vnd.jupyter.widget-view+json": {
       "model_id": "c7f15d92b0ed482aa873323338fb1454",
       "version_major": 2,
       "version_minor": 0
      },
      "text/plain": [
       "  0%|          | 0/1000 [00:00<?, ?it/s]"
      ]
     },
     "metadata": {},
     "output_type": "display_data"
    },
    {
     "data": {
      "application/vnd.jupyter.widget-view+json": {
       "model_id": "db63b27aa03e4b00bbed42dfd999507e",
       "version_major": 2,
       "version_minor": 0
      },
      "text/plain": [
       "  0%|          | 0/1000 [00:00<?, ?it/s]"
      ]
     },
     "metadata": {},
     "output_type": "display_data"
    },
    {
     "name": "stdout",
     "output_type": "stream",
     "text": [
      "tensor([2, 6])\n",
      "tensor([0, 4])\n",
      "tensor([1, 6])\n",
      "tensor([3, 4])\n",
      "Parameter containing:\n",
      "tensor([[0.5837, 0.6136, 0.9763, 0.6439, 0.3469, 0.8493, 0.6723, 0.4839],\n",
      "        [0.2030, 0.5967, 0.0661, 0.1512, 0.1249, 0.7316, 0.8376, 0.5765]],\n",
      "       requires_grad=True)\n",
      "Parameter containing:\n",
      "tensor([[1.1445, 0.3379, 0.7228, 0.2245, 0.1386, 0.8746, 0.3824, 0.8575],\n",
      "        [0.5157, 0.6087, 0.4977, 0.0160, 0.8232, 0.1966, 0.4868, 0.7575]],\n",
      "       requires_grad=True)\n",
      "Parameter containing:\n",
      "tensor([[0.2543, 0.7931, 0.7765, 0.4306, 0.4027, 0.1089, 0.2865, 0.2963],\n",
      "        [0.8089, 0.6983, 0.0281, 0.5522, 0.8398, 0.1514, 1.0308, 0.9422]],\n",
      "       requires_grad=True)\n",
      "Parameter containing:\n",
      "tensor([[0.8103, 0.3094, 0.1607, 1.0028, 0.8369, 0.7628, 0.3048, 0.1607],\n",
      "        [0.1681, 0.6490, 0.6033, 0.7138, 0.8944, 0.1502, 0.1911, 0.4239]],\n",
      "       requires_grad=True)\n",
      "0.6378799676895142 22\n"
     ]
    },
    {
     "data": {
      "application/vnd.jupyter.widget-view+json": {
       "model_id": "9bb1a36e326a47e287db747df3d6fa78",
       "version_major": 2,
       "version_minor": 0
      },
      "text/plain": [
       "  0%|          | 0/1000 [00:00<?, ?it/s]"
      ]
     },
     "metadata": {},
     "output_type": "display_data"
    },
    {
     "data": {
      "application/vnd.jupyter.widget-view+json": {
       "model_id": "d3eaa9716a9f4455879351affe82ba22",
       "version_major": 2,
       "version_minor": 0
      },
      "text/plain": [
       "  0%|          | 0/1000 [00:00<?, ?it/s]"
      ]
     },
     "metadata": {},
     "output_type": "display_data"
    },
    {
     "name": "stdout",
     "output_type": "stream",
     "text": [
      "tensor([5, 0])\n",
      "tensor([5, 7])\n",
      "tensor([6, 2])\n",
      "tensor([0, 2])\n",
      "Parameter containing:\n",
      "tensor([[ 0.5569,  0.5318, -0.1228,  0.6157,  1.3162,  1.9722, -0.1830,  0.6023],\n",
      "        [ 2.0379, -0.2265,  0.0298, -0.2661,  0.5265,  1.2256,  0.6658,  0.2612]],\n",
      "       requires_grad=True)\n",
      "Parameter containing:\n",
      "tensor([[0.7736, 0.2813, 0.3989, 0.2868, 0.1766, 0.9087, 0.5846, 0.4845],\n",
      "        [0.4343, 0.3058, 0.2783, 0.1251, 0.5645, 0.2986, 0.0519, 0.8140]],\n",
      "       requires_grad=True)\n",
      "Parameter containing:\n",
      "tensor([[-0.0793,  0.7338,  0.1233,  0.9948,  0.1063,  0.2780,  1.2285,  0.8469],\n",
      "        [-0.0243,  0.3121,  0.9858,  0.2761,  0.7918,  0.5533,  0.1033,  0.6444]],\n",
      "       requires_grad=True)\n",
      "Parameter containing:\n",
      "tensor([[0.9953, 0.8936, 0.6983, 0.6526, 0.5429, 0.1843, 0.0425, 0.3559],\n",
      "        [0.3879, 0.7540, 0.8224, 0.4883, 0.2285, 0.0392, 0.7229, 0.6611]],\n",
      "       requires_grad=True)\n",
      "1.0285494476556778 30\n"
     ]
    },
    {
     "data": {
      "application/vnd.jupyter.widget-view+json": {
       "model_id": "2d0dc67f040248eb81672f72bd93bcd2",
       "version_major": 2,
       "version_minor": 0
      },
      "text/plain": [
       "  0%|          | 0/1000 [00:00<?, ?it/s]"
      ]
     },
     "metadata": {},
     "output_type": "display_data"
    },
    {
     "data": {
      "application/vnd.jupyter.widget-view+json": {
       "model_id": "130b784002ab4ceaada5dfed8bf6de52",
       "version_major": 2,
       "version_minor": 0
      },
      "text/plain": [
       "  0%|          | 0/1000 [00:00<?, ?it/s]"
      ]
     },
     "metadata": {},
     "output_type": "display_data"
    },
    {
     "name": "stdout",
     "output_type": "stream",
     "text": [
      "tensor([0, 6])\n",
      "tensor([1, 6])\n",
      "tensor([2, 5])\n",
      "tensor([0, 3])\n",
      "Parameter containing:\n",
      "tensor([[ 1.2397,  0.5115,  0.0237,  0.6133,  0.5661,  1.1807,  0.3770,  0.2459],\n",
      "        [ 0.6212,  0.5522, -0.0673,  0.3815,  0.4443,  0.3353,  1.1401,  0.6077]],\n",
      "       requires_grad=True)\n",
      "Parameter containing:\n",
      "tensor([[ 0.3572,  0.6842,  0.4742,  0.2268,  0.5734, -0.1771,  0.1016,  0.5178],\n",
      "        [ 0.5426,  0.1600,  0.7864,  0.4610,  0.8520,  0.2233,  1.0554,  0.4740]],\n",
      "       requires_grad=True)\n",
      "Parameter containing:\n",
      "tensor([[0.5645, 0.1209, 0.9867, 0.6087, 0.8649, 0.3739, 0.4078, 0.6305],\n",
      "        [0.4567, 0.5120, 0.4178, 0.5178, 0.2002, 0.7662, 0.1676, 0.1492]],\n",
      "       requires_grad=True)\n",
      "Parameter containing:\n",
      "tensor([[ 7.1186, -0.5631,  0.3118, -0.5048, -1.7628, -1.1212,  1.3026, -0.0424],\n",
      "        [ 0.7136,  0.4975, -0.7969,  5.2005, -0.6287,  0.1981,  0.8253, -1.3894]],\n",
      "       requires_grad=True)\n",
      "0.7829696238040924 30\n"
     ]
    },
    {
     "data": {
      "application/vnd.jupyter.widget-view+json": {
       "model_id": "d8e4d330991341da8b21c38f3cdf8dff",
       "version_major": 2,
       "version_minor": 0
      },
      "text/plain": [
       "  0%|          | 0/1000 [00:00<?, ?it/s]"
      ]
     },
     "metadata": {},
     "output_type": "display_data"
    },
    {
     "data": {
      "application/vnd.jupyter.widget-view+json": {
       "model_id": "65c673f0fa3441b19e5c2f214bdb557e",
       "version_major": 2,
       "version_minor": 0
      },
      "text/plain": [
       "  0%|          | 0/1000 [00:00<?, ?it/s]"
      ]
     },
     "metadata": {},
     "output_type": "display_data"
    },
    {
     "name": "stdout",
     "output_type": "stream",
     "text": [
      "tensor([6, 1])\n",
      "tensor([3, 6])\n",
      "tensor([2, 6])\n",
      "tensor([0, 3])\n",
      "Parameter containing:\n",
      "tensor([[-0.7647, -0.6798, -1.2269, -1.0373, -1.4445, -0.2149, 10.7110, -1.8688],\n",
      "        [-0.5920, 13.2491, -1.0334, -2.8989, -1.1707, -0.3846,  0.2559, -2.9217]],\n",
      "       requires_grad=True)\n",
      "Parameter containing:\n",
      "tensor([[-2.2005, -4.0567,  1.3039,  5.6736, -0.6186, -0.1756, -0.2952,  3.1052],\n",
      "        [ 2.4285, -2.0506,  0.6266, -0.1101, -1.7446,  0.8244,  2.4512,  1.3723]],\n",
      "       requires_grad=True)\n",
      "Parameter containing:\n",
      "tensor([[0.6432, 0.5462, 0.7793, 0.4250, 0.3561, 0.2657, 0.2790, 0.3480],\n",
      "        [0.8824, 0.5088, 0.2729, 0.9342, 0.0467, 0.3607, 0.9610, 0.5568]],\n",
      "       requires_grad=True)\n",
      "Parameter containing:\n",
      "tensor([[ 3.4250, -0.6457, -0.7435,  0.8838, -0.1258,  0.2491,  1.1377,  1.0793],\n",
      "        [-0.4601, -0.2100,  1.1491,  3.2700,  0.2598, -0.7987,  1.0831,  1.1007]],\n",
      "       requires_grad=True)\n",
      "0.7227747477591038 31\n"
     ]
    },
    {
     "data": {
      "application/vnd.jupyter.widget-view+json": {
       "model_id": "a8036fc7df6c4146a2fcd7155e4fec8f",
       "version_major": 2,
       "version_minor": 0
      },
      "text/plain": [
       "  0%|          | 0/1000 [00:00<?, ?it/s]"
      ]
     },
     "metadata": {},
     "output_type": "display_data"
    },
    {
     "data": {
      "application/vnd.jupyter.widget-view+json": {
       "model_id": "aab2c159169d491dbaac376f88d6600f",
       "version_major": 2,
       "version_minor": 0
      },
      "text/plain": [
       "  0%|          | 0/1000 [00:00<?, ?it/s]"
      ]
     },
     "metadata": {},
     "output_type": "display_data"
    },
    {
     "name": "stdout",
     "output_type": "stream",
     "text": [
      "tensor([6, 6])\n",
      "tensor([6, 0])\n",
      "tensor([6, 5])\n",
      "tensor([0, 2])\n",
      "Parameter containing:\n",
      "tensor([[ 0.0303,  1.0493, -0.0733,  0.2931,  0.9463, -0.1980,  1.2516,  0.0283],\n",
      "        [-0.0073,  0.9105,  0.1143,  0.2481, -0.5277,  0.1744,  3.6898, -0.1791]],\n",
      "       requires_grad=True)\n",
      "Parameter containing:\n",
      "tensor([[ 1.9566e-01,  1.5071e-03, -2.3843e-02,  6.6952e-02, -5.1659e-02,\n",
      "          6.3395e-01,  4.0185e+00, -3.3571e-01],\n",
      "        [ 1.6462e+00, -6.5123e-01,  6.9388e-01,  6.9733e-01,  5.0965e-01,\n",
      "          7.8552e-01,  1.3050e+00, -1.0191e+00]], requires_grad=True)\n",
      "Parameter containing:\n",
      "tensor([[-0.2550,  0.9344,  0.7909,  0.7698,  0.1716,  0.2406,  1.1920,  0.1879],\n",
      "        [ 0.3396,  0.2713, -0.1663,  0.0346,  0.0828,  0.8748,  0.6312,  0.5134]],\n",
      "       requires_grad=True)\n",
      "Parameter containing:\n",
      "tensor([[ 9.1275, -0.8008,  0.8003, -1.9259, -0.2778,  0.0206, -3.5783,  0.8681],\n",
      "        [-3.4311, -1.7041,  9.3452, -2.1896, -1.6230,  2.3487,  2.2516, -1.3507]],\n",
      "       requires_grad=True)\n",
      "1.1105342954397202 38\n"
     ]
    },
    {
     "data": {
      "application/vnd.jupyter.widget-view+json": {
       "model_id": "d28c7e8770414bcf865629f3e30ffd15",
       "version_major": 2,
       "version_minor": 0
      },
      "text/plain": [
       "  0%|          | 0/1000 [00:00<?, ?it/s]"
      ]
     },
     "metadata": {},
     "output_type": "display_data"
    },
    {
     "data": {
      "application/vnd.jupyter.widget-view+json": {
       "model_id": "7ae279d9ca1f40efa2b4d5d4066bfcd3",
       "version_major": 2,
       "version_minor": 0
      },
      "text/plain": [
       "  0%|          | 0/1000 [00:00<?, ?it/s]"
      ]
     },
     "metadata": {},
     "output_type": "display_data"
    },
    {
     "name": "stdout",
     "output_type": "stream",
     "text": [
      "tensor([7, 0])\n",
      "tensor([7, 4])\n",
      "tensor([5, 3])\n",
      "tensor([7, 2])\n",
      "Parameter containing:\n",
      "tensor([[0.6629, 0.8565, 0.1753, 0.1651, 1.2677, 0.4114, 0.2718, 1.3095],\n",
      "        [1.2827, 0.8014, 0.1745, 0.7240, 0.7729, 0.1435, 0.5195, 0.1124]],\n",
      "       requires_grad=True)\n",
      "Parameter containing:\n",
      "tensor([[ 0.2094,  0.9718,  0.4092,  0.7966,  0.5562, -0.1703, -0.0862,  0.9960],\n",
      "        [ 0.0645, -0.2362,  0.2618,  0.5179,  0.9498,  0.7008,  0.3787,  0.2155]],\n",
      "       requires_grad=True)\n",
      "Parameter containing:\n",
      "tensor([[ 0.7444,  0.2654,  0.2945,  0.3506, -0.1135,  1.0369,  0.0183,  0.8297],\n",
      "        [ 0.1979,  0.0166,  0.9369,  1.4111,  0.3598, -0.2018,  1.3027,  0.1781]],\n",
      "       requires_grad=True)\n",
      "Parameter containing:\n",
      "tensor([[-4.2708e-01, -1.6268e-01, -1.8798e-01,  7.2806e-01,  4.5361e-01,\n",
      "          4.0737e-01, -3.4571e-01,  3.2383e+00],\n",
      "        [-7.8772e-01,  1.5038e+00,  1.7031e+00, -7.0151e-01, -1.6780e-01,\n",
      "          1.6795e-01,  1.0223e+00, -1.7486e-03]], requires_grad=True)\n",
      "0.7268946319818497 38\n"
     ]
    },
    {
     "data": {
      "application/vnd.jupyter.widget-view+json": {
       "model_id": "3c8592104e0c40498fa31f46e6b9a673",
       "version_major": 2,
       "version_minor": 0
      },
      "text/plain": [
       "  0%|          | 0/1000 [00:00<?, ?it/s]"
      ]
     },
     "metadata": {},
     "output_type": "display_data"
    },
    {
     "data": {
      "application/vnd.jupyter.widget-view+json": {
       "model_id": "6aef05759b9d4c18abc5ccdd3b34e93c",
       "version_major": 2,
       "version_minor": 0
      },
      "text/plain": [
       "  0%|          | 0/1000 [00:00<?, ?it/s]"
      ]
     },
     "metadata": {},
     "output_type": "display_data"
    },
    {
     "name": "stdout",
     "output_type": "stream",
     "text": [
      "tensor([4, 3])\n",
      "tensor([6, 4])\n",
      "tensor([4, 5])\n",
      "tensor([2, 4])\n",
      "Parameter containing:\n",
      "tensor([[-0.2450,  0.2589,  0.7618,  0.5315,  0.9201,  0.7319,  0.5521,  0.7595],\n",
      "        [-0.2614,  0.7526,  0.5243,  0.7707,  0.5784,  0.6437,  0.7142,  0.2572]],\n",
      "       requires_grad=True)\n",
      "Parameter containing:\n",
      "tensor([[ 0.4618,  0.0492,  0.8811,  0.8833,  0.0243,  0.8038,  1.1544,  0.3182],\n",
      "        [ 0.6853,  0.2737,  0.0677,  0.1280,  0.9281,  0.2208, -0.3089,  0.8706]],\n",
      "       requires_grad=True)\n",
      "Parameter containing:\n",
      "tensor([[ 1.4823,  0.1989,  0.0178, -0.2912,  3.1611, -0.8395,  0.1740,  0.3139],\n",
      "        [ 1.1259,  0.7875, -0.0514,  0.6762, -0.3634,  2.8317,  1.9746, -0.9903]],\n",
      "       requires_grad=True)\n",
      "Parameter containing:\n",
      "tensor([[ 0.2102,  0.7942,  0.8442,  0.2588,  0.1297,  0.6320,  0.5955,  0.2078],\n",
      "        [ 0.3477,  0.2838,  0.4341,  0.1303,  0.9156,  0.6080,  0.1817, -0.0703]],\n",
      "       requires_grad=True)\n",
      "0.8680248707532883 30\n"
     ]
    },
    {
     "data": {
      "application/vnd.jupyter.widget-view+json": {
       "model_id": "448d2ea44a7e4cfb8120c0863d71e3e1",
       "version_major": 2,
       "version_minor": 0
      },
      "text/plain": [
       "  0%|          | 0/1000 [00:00<?, ?it/s]"
      ]
     },
     "metadata": {},
     "output_type": "display_data"
    },
    {
     "data": {
      "application/vnd.jupyter.widget-view+json": {
       "model_id": "e2c023600f364a8184e46a01a047528c",
       "version_major": 2,
       "version_minor": 0
      },
      "text/plain": [
       "  0%|          | 0/1000 [00:00<?, ?it/s]"
      ]
     },
     "metadata": {},
     "output_type": "display_data"
    },
    {
     "name": "stdout",
     "output_type": "stream",
     "text": [
      "tensor([6, 2])\n",
      "tensor([0, 7])\n",
      "tensor([0, 5])\n",
      "tensor([7, 6])\n",
      "Parameter containing:\n",
      "tensor([[-0.0407,  0.7823,  0.4713,  0.6215,  0.6140,  0.8036,  0.9535,  0.9182],\n",
      "        [ 0.0551,  0.9357,  0.9961,  0.6249,  0.3865,  0.5871,  0.1694,  0.0634]],\n",
      "       requires_grad=True)\n",
      "Parameter containing:\n",
      "tensor([[ 1.1341,  0.9073,  0.3252,  0.5982, -0.0440,  1.0708,  0.6163, -0.3422],\n",
      "        [ 0.5999,  0.7295,  0.9327,  0.6321,  0.6991, -0.1990,  0.7195,  0.9493]],\n",
      "       requires_grad=True)\n",
      "Parameter containing:\n",
      "tensor([[1.0334, 0.6726, 0.9499, 0.3013, 0.0438, 0.7300, 0.3600, 0.7107],\n",
      "        [0.3030, 0.8018, 0.0827, 0.1560, 0.3716, 1.0227, 0.0515, 0.5381]],\n",
      "       requires_grad=True)\n",
      "Parameter containing:\n",
      "tensor([[ 0.4631,  0.5475,  0.4734,  0.1090,  0.2091,  0.2701,  0.2372,  0.6350],\n",
      "        [ 0.5768,  0.8937,  0.6198,  0.4600,  0.7633, -0.0101,  0.9276,  0.5441]],\n",
      "       requires_grad=True)\n",
      "1.0500913262367249 39\n",
      "[Parameter containing:\n",
      "tensor([[-0.0407,  0.7823,  0.4713,  0.6215,  0.6140,  0.8036,  0.9535,  0.9182],\n",
      "        [ 0.0551,  0.9357,  0.9961,  0.6249,  0.3865,  0.5871,  0.1694,  0.0634]],\n",
      "       requires_grad=True), Parameter containing:\n",
      "tensor([[ 1.1341,  0.9073,  0.3252,  0.5982, -0.0440,  1.0708,  0.6163, -0.3422],\n",
      "        [ 0.5999,  0.7295,  0.9327,  0.6321,  0.6991, -0.1990,  0.7195,  0.9493]],\n",
      "       requires_grad=True), Parameter containing:\n",
      "tensor([[1.0334, 0.6726, 0.9499, 0.3013, 0.0438, 0.7300, 0.3600, 0.7107],\n",
      "        [0.3030, 0.8018, 0.0827, 0.1560, 0.3716, 1.0227, 0.0515, 0.5381]],\n",
      "       requires_grad=True), Parameter containing:\n",
      "tensor([[ 0.4631,  0.5475,  0.4734,  0.1090,  0.2091,  0.2701,  0.2372,  0.6350],\n",
      "        [ 0.5768,  0.8937,  0.6198,  0.4600,  0.7633, -0.0101,  0.9276,  0.5441]],\n",
      "       requires_grad=True)]\n",
      "Parameter containing:\n",
      "tensor([-6.0190], requires_grad=True)\n",
      "Parameter containing:\n",
      "tensor([128.3442], requires_grad=True)\n",
      "Parameter containing:\n",
      "tensor([56.8503], requires_grad=True)\n",
      "Parameter containing:\n",
      "tensor([19.6126], requires_grad=True)\n",
      "Parameter containing:\n",
      "tensor([19.8184], requires_grad=True)\n",
      "Parameter containing:\n",
      "tensor([58.2929], requires_grad=True)\n",
      "Parameter containing:\n",
      "tensor([-57.3850], requires_grad=True)\n",
      "Parameter containing:\n",
      "tensor([46.1822], requires_grad=True)\n"
     ]
    }
   ],
   "source": [
    "# helper for make inference for a model\n",
    "\n",
    "for D in [2,3,4]:\n",
    "    for HEAD_NUM in [D, 8]:\n",
    "        rl(\"rl\")"
   ]
  }
 ],
 "metadata": {
  "kernelspec": {
   "display_name": "Python 3",
   "language": "python",
   "name": "python3"
  },
  "language_info": {
   "codemirror_mode": {
    "name": "ipython",
    "version": 3
   },
   "file_extension": ".py",
   "mimetype": "text/x-python",
   "name": "python",
   "nbconvert_exporter": "python",
   "pygments_lexer": "ipython3",
   "version": "3.8.10"
  }
 },
 "nbformat": 4,
 "nbformat_minor": 5
}
